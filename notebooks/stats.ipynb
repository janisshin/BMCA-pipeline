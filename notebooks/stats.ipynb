{
 "cells": [
  {
   "cell_type": "code",
   "execution_count": 13,
   "metadata": {},
   "outputs": [],
   "source": [
    "from scipy.stats import f_oneway\n",
    "import pandas as pd\n",
    "import numpy as np\n",
    "import tellurium as te\n",
    "\n",
    "import statsmodels.api as sm\n",
    "from statsmodels.formula.api import ols\n",
    "\n",
    "import seaborn as sns\n",
    "import matplotlib.pyplot as plt\n",
    "from matplotlib.colors import LogNorm\n"
   ]
  },
  {
   "cell_type": "markdown",
   "metadata": {},
   "source": [
    "### To show that each iteration on the same dataset is statistically the same"
   ]
  },
  {
   "cell_type": "code",
   "execution_count": 2,
   "metadata": {},
   "outputs": [
    {
     "data": {
      "text/plain": [
       "'c:\\\\Users\\\\user\\\\Documents\\\\research\\\\BMCA-pipeline\\\\notebooks'"
      ]
     },
     "execution_count": 2,
     "metadata": {},
     "output_type": "execute_result"
    }
   ],
   "source": [
    "import os\n",
    "os.getcwd()\n"
   ]
  },
  {
   "cell_type": "raw",
   "metadata": {
    "vscode": {
     "languageId": "raw"
    }
   },
   "source": [
    "# load each of the 10 distributions\n",
    "\n",
    "pt = [0.1, 0.2, 0.3, 0.4, 0.5, 1.01, 1.5, 3, 5, 7, 10]\n",
    "# for each iteration of pt=1.01\n",
    "exs101 = []\n",
    "for folder in os.listdir(iteration_folder):\n",
    "    # load the pt=1.01 dataset from each folder and append to exs101 list\n",
    "    exs101.append(pd.read_csv(iteration_folder + folder +'/1.01x_PredictedExs.csv').values)\n"
   ]
  },
  {
   "cell_type": "raw",
   "metadata": {
    "vscode": {
     "languageId": "raw"
    }
   },
   "source": [
    "\n",
    "def make_ANOVA_table(colNo, exs101):\n",
    "    only_iter = []\n",
    "    for df in exs101:\n",
    "        only_iter.append(df.loc[:,ex_labels[colNo]])\n",
    "\n",
    "    iter_df = pd.DataFrame(only_iter).T\n",
    "    iter_df.columns=range(10)\n",
    "    df = iter_df.stack().reset_index()\n",
    "    df.drop(['level_0'], axis=1, inplace=True)\n",
    "    df.columns=['iteration', 'value']\n",
    "    # run ANOVA\n",
    "    mod = ols('value ~ iteration',data=df).fit()\n",
    "    print(sm.stats.anova_lm(mod, typ=1))"
   ]
  },
  {
   "cell_type": "code",
   "execution_count": 23,
   "metadata": {},
   "outputs": [],
   "source": [
    "######### USER-INPUT SECTION\n",
    "MODEL_FILE_PATH = '../data/interim/Antimony/Simplified_Teusink_yeast.ant'\n",
    "iteration_folder = '../data/interim/generated_data/simplTeusink-noReg/iterations/'\n",
    "######### END OF USER-INPUT SECTION\n",
    "\n",
    "model = te.loada(MODEL_FILE_PATH)\n",
    "gt=model.getScaledElasticityMatrix().flatten()\n",
    "\n",
    "# Establish labels for metabolite and reaction names\n",
    "m_labels = [m for m in model.getFloatingSpeciesIds()]\n",
    "r_labels = [r for r in model.getReactionIds()]\n",
    "\n",
    "ex_labels = np.array([['$\\epsilon_{' + '{0},{1}'.format(rlabel, mlabel) + '}$'\n",
    "                    for mlabel in m_labels] for rlabel in r_labels]).flatten()\n",
    "\n",
    "ex_file_labels = np.array([['E_' + '{0},{1}'.format(rlabel, mlabel)\n",
    "                    for mlabel in m_labels] for rlabel in r_labels]).flatten()\n",
    "\n",
    "# load the predicted Ex dataset\n",
    "# then reshape into 1000 rows, 176 columns\n",
    "# plot all data in each column as a scatter plot\n",
    "# make a plotting method\n",
    "def run_ANOVA10(colNo, exs101):\n",
    "    only_iter = []\n",
    "    for df in exs101:\n",
    "        only_iter.append(df.loc[:,ex_labels[colNo]])\n",
    "        # sns.swarmplot(data=df, x=ex_labels[colNo], size=3, alpha=0.8)\n",
    "    # run ANOVA\n",
    "    return f_oneway(*only_iter)\n",
    "\n",
    "\n",
    "def plot_heatmaps(pt_lvl):\n",
    "    exs101 = []\n",
    "    for folder in os.listdir(iteration_folder):\n",
    "        ex101=pd.read_csv(iteration_folder + folder +f'/{pt_lvl}x_PredictedExs.csv', index_col=0).values\n",
    "        exs101.append(pd.DataFrame(ex101.reshape(1000,176), columns=ex_labels))\n",
    "    \n",
    "    fdict= {}\n",
    "    for i in range(len(ex_labels)):\n",
    "        fdict[ex_labels[i]]= [run_ANOVA10(i, exs101)[0]]\n",
    "\n",
    "    a = pd.DataFrame.from_dict(fdict).T\n",
    "    a['id'] = [idx.strip('$\\epsilon_{}') for idx in a.index]\n",
    "    a.reset_index()\n",
    "    a['reaction'] = [i.split(',')[0] for i in a['id']]\n",
    "    a['metabolite'] = [i.split(',')[1] for i in a['id']]\n",
    "    a.set_index('id', inplace=True)\n",
    "    a.rename(columns={0:'f-stat'}, inplace=True)\n",
    "    b = pd.pivot(a, values='f-stat', index='reaction', columns='metabolite')\n",
    "\n",
    "    sns.heatmap(b, norm=LogNorm())\n",
    "    plt.title(f'ANOVA f-scores for BMCA iterations of {pt_lvl}x perturbation of data')\n",
    "    plt.savefig(f'anova_fscores_{pt_lvl}.png')\n",
    "    plt.close()"
   ]
  },
  {
   "cell_type": "code",
   "execution_count": 24,
   "metadata": {},
   "outputs": [],
   "source": [
    "pt = [0.1, 0.2, 0.3, 0.4, 0.5, 1.01, 1.5, 3, 5, 7, 10]\n",
    "for lvl in pt:\n",
    "    plot_heatmaps(lvl)\n"
   ]
  },
  {
   "cell_type": "code",
   "execution_count": 25,
   "metadata": {},
   "outputs": [
    {
     "data": {
      "text/plain": [
       "'c:\\\\Users\\\\user\\\\Documents\\\\research\\\\BMCA-pipeline\\\\notebooks'"
      ]
     },
     "execution_count": 25,
     "metadata": {},
     "output_type": "execute_result"
    }
   ],
   "source": [
    "os.getcwd()"
   ]
  },
  {
   "cell_type": "code",
   "execution_count": null,
   "metadata": {},
   "outputs": [],
   "source": []
  }
 ],
 "metadata": {
  "kernelspec": {
   "display_name": "gayles",
   "language": "python",
   "name": "python3"
  },
  "language_info": {
   "codemirror_mode": {
    "name": "ipython",
    "version": 3
   },
   "file_extension": ".py",
   "mimetype": "text/x-python",
   "name": "python",
   "nbconvert_exporter": "python",
   "pygments_lexer": "ipython3",
   "version": "3.9.19"
  }
 },
 "nbformat": 4,
 "nbformat_minor": 2
}
