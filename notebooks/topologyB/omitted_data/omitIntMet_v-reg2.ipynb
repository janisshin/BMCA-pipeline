{
 "cells": [
  {
   "cell_type": "markdown",
   "metadata": {},
   "source": [
    "# Set up "
   ]
  },
  {
   "cell_type": "code",
   "execution_count": null,
   "metadata": {},
   "outputs": [],
   "source": [
    "import tellurium as te\n",
    "import pandas as pd\n",
    "import numpy as np\n",
    "\n",
    "import matplotlib.pyplot as plt\n",
    "import seaborn as sns\n",
    "import arviz as az\n",
    "\n",
    "import aesara.tensor as at\n",
    "import aesara\n",
    "floatX = aesara.config.floatX\n",
    "import pymc as pm\n",
    "import numpy as np\n",
    "\n",
    "import cobra\n",
    "import os\n",
    "\n",
    "from scipy import stats\n",
    "import scipy as sp"
   ]
  },
  {
   "cell_type": "code",
   "execution_count": null,
   "metadata": {},
   "outputs": [],
   "source": [
    "os.chdir('../../..')\n",
    "from src import antemll, util\n",
    "import emll\n",
    "from emll.aesara_utils import LeastSquaresSolve\n",
    "os.chdir('notebooks/topologyB/omitted_data/')"
   ]
  },
  {
   "cell_type": "markdown",
   "metadata": {},
   "source": [
    "## Perturbing enzymes\n"
   ]
  },
  {
   "cell_type": "code",
   "execution_count": null,
   "metadata": {},
   "outputs": [],
   "source": [
    "ant ='../../../data/interim/Antimony/JSexample22_reg2.ant'  \n",
    "r = te.loada(ant)\n",
    "r.conservedMoietyAnalysis = True\n",
    "r.steadyState()"
   ]
  },
  {
   "cell_type": "code",
   "execution_count": null,
   "metadata": {},
   "outputs": [],
   "source": [
    "enzymes = ['e_' + i for i in r.getReactionIds()]\n",
    "internal = r.getFloatingSpeciesIds()\n",
    "external = r.getBoundarySpeciesIds()\n",
    "fluxes = ['v_' + i for i in r.getReactionIds()]"
   ]
  },
  {
   "cell_type": "markdown",
   "metadata": {},
   "source": [
    "# Leaving out internal species concentrations"
   ]
  },
  {
   "cell_type": "code",
   "execution_count": null,
   "metadata": {},
   "outputs": [],
   "source": [
    "data01 = pd.read_csv('../../../data/interim/generated_data/JSexample22-reg2/JSexample22_reg2_0.1.csv')[fluxes+external+enzymes]\n",
    "data02 = pd.read_csv('../../../data/interim/generated_data/JSexample22-reg2/JSexample22_reg2_0.2.csv')[fluxes+external+enzymes]\n",
    "data03 = pd.read_csv('../../../data/interim/generated_data/JSexample22-reg2/JSexample22_reg2_0.3.csv')[fluxes+external+enzymes]\n",
    "data04 = pd.read_csv('../../../data/interim/generated_data/JSexample22-reg2/JSexample22_reg2_0.4.csv')[fluxes+external+enzymes]\n",
    "\n",
    "data05 = pd.read_csv('../../../data/interim/generated_data/JSexample22-reg2/JSexample22_reg2_0.5.csv')[fluxes+external+enzymes]\n",
    "data10 = pd.read_csv('../../../data/interim/generated_data/JSexample22-reg2/JSexample22_reg2_1.01.csv')[fluxes+external+enzymes]\n",
    "data15 = pd.read_csv('../../../data/interim/generated_data/JSexample22-reg2/JSexample22_reg2_1.5.csv')[fluxes+external+enzymes]\n",
    "data3 = pd.read_csv('../../../data/interim/generated_data/JSexample22-reg2/JSexample22_reg2_3.csv')[fluxes+external+enzymes]\n",
    "data5 = pd.read_csv('../../../data/interim/generated_data/JSexample22-reg2/JSexample22_reg2_5.csv')[fluxes+external+enzymes]\n",
    "data7 = pd.read_csv('../../../data/interim/generated_data/JSexample22-reg2/JSexample22_reg2_7.csv')[fluxes+external+enzymes]\n",
    "data100 = pd.read_csv('../../../data/interim/generated_data/JSexample22-reg2/JSexample22_reg2_10.csv')[fluxes+external+enzymes]\n"
   ]
  },
  {
   "cell_type": "code",
   "execution_count": null,
   "metadata": {},
   "outputs": [],
   "source": [
    "BMCA_obj01 = antemll.antemll(ant, data01)\n",
    "BMCA_obj02 = antemll.antemll(ant, data02)\n",
    "BMCA_obj03 = antemll.antemll(ant, data03)\n",
    "BMCA_obj04 = antemll.antemll(ant, data04)\n",
    "BMCA_obj05 = antemll.antemll(ant, data05)\n",
    "BMCA_obj10 = antemll.antemll(ant, data10)\n",
    "BMCA_obj15 = antemll.antemll(ant, data15)\n",
    "BMCA_obj3 = antemll.antemll(ant, data3)\n",
    "BMCA_obj5 = antemll.antemll(ant, data5)\n",
    "BMCA_obj7 = antemll.antemll(ant, data7)\n",
    "BMCA_obj100 = antemll.antemll(ant, data100)\n"
   ]
  },
  {
   "cell_type": "markdown",
   "metadata": {},
   "source": [
    "## Running ADVI"
   ]
  },
  {
   "cell_type": "code",
   "execution_count": null,
   "metadata": {},
   "outputs": [],
   "source": [
    "def run_BayesInf(BMCA_obj, n_samp=1):\n",
    "    known_chi_inds = []\n",
    "    omitted_chi_inds = []\n",
    "    for i, sp in enumerate(r.getFloatingSpeciesIds()):\n",
    "        if sp in data10.columns:\n",
    "            known_chi_inds.append(i)\n",
    "        else: \n",
    "            omitted_chi_inds.append(i)\n",
    "    chi_inds = np.hstack([known_chi_inds, omitted_chi_inds]).argsort()\n",
    "    \n",
    "    with pm.Model() as pymc_model:\n",
    "    \n",
    "        # Initialize elasticities\n",
    "        Ex_t = pm.Deterministic('Ex', util.initialize_elasticity(BMCA_obj.Ex.to_numpy(), name='Ex'))\n",
    "        Ey_t = pm.Deterministic('Ey', util.initialize_elasticity(BMCA_obj.Ey.to_numpy(), name='Ey'))\n",
    "\n",
    "        # trace_prior = pm.sample_prior_predictive(samples=1000)\n",
    "        \n",
    "        chi_measured = pm.Normal('chi_measured', mu=0, sigma=0.1, observed=BMCA_obj.xn.T)\n",
    "        chi_unmeasured = pm.Normal('chi_unmeasured', mu=0, sigma=10, shape=(len(omitted_chi_inds), len(BMCA_obj.xn)))\n",
    "\n",
    "        chi_t = at.concatenate([chi_measured, chi_unmeasured], axis=0)[chi_inds, :]\n",
    "        # supposedly chi_t would be in the order listed in ss tellurium\n",
    "\n",
    "        pm.Deterministic('chi_t', chi_t)\n",
    "\n",
    "        e_t = pm.Normal('e_t', mu=1, sigma=1, observed=BMCA_obj.en.T) # e_hat?\n",
    "        y_t = pm.Normal('y_t', mu=0, sigma=10, observed=BMCA_obj.yn.T) # yn?\n",
    "\n",
    "        likelihood = pm.Deterministic('vn', e_t * (np.ones(BMCA_obj.en.T.shape) + pm.math.dot(Ex_t,chi_t) + pm.math.dot(Ey_t,y_t)))\n",
    "        v_hat_obs = pm.Normal('v_hat_obs', mu=likelihood, sigma=0.1, observed=BMCA_obj.vn.squeeze().T)\n",
    "\n",
    "        N_ITERATIONS = 40000\n",
    "\n",
    "        advi = pm.ADVI()\n",
    "        tracker = pm.callbacks.Tracker(\n",
    "            mean = advi.approx.mean.eval,\n",
    "            std = advi.approx.std.eval\n",
    "        )\n",
    "        approx = advi.fit(\n",
    "            n=N_ITERATIONS, \n",
    "            callbacks = [tracker],\n",
    "            obj_optimizer=pm.adagrad_window(learning_rate=5E-3), \n",
    "            total_grad_norm_constraint=0.7,\n",
    "            obj_n_mc=1)\n",
    "        \n",
    "    with sns.plotting_context('notebook', font_scale=1.2):\n",
    "\n",
    "        fig = plt.figure(figsize=(5,4))\n",
    "        plt.plot(approx.hist + 30, '.', rasterized=True, ms=1)\n",
    "        # plt.ylim([-1E1, 1E3])\n",
    "        plt.xlim([0, N_ITERATIONS])\n",
    "        sns.despine(trim=True, offset=10)\n",
    "\n",
    "        plt.ylabel('-ELBO')\n",
    "        plt.xlabel('Iteration')\n",
    "        plt.title('in vitro ADVI convergence')\n",
    "        plt.tight_layout()\n",
    "\n",
    "    if n_samp > 1:\n",
    "        samples = []\n",
    "        for i in range(n_samp): \n",
    "            samples.append(approx.sample(draws=1000, random_seed=i))\n",
    "        return samples\n",
    "    else:\n",
    "        return approx.sample(draws=1000, random_seed=n_samp)\n"
   ]
  },
  {
   "cell_type": "code",
   "execution_count": null,
   "metadata": {},
   "outputs": [],
   "source": [
    "trace01 = run_BayesInf(BMCA_obj01, n_samp=3)\n",
    "trace02 = run_BayesInf(BMCA_obj02, n_samp=3)\n",
    "trace03 = run_BayesInf(BMCA_obj03, n_samp=3)\n",
    "trace04 = run_BayesInf(BMCA_obj04, n_samp=3)\n",
    "\n",
    "trace05 = run_BayesInf(BMCA_obj05, n_samp=3)\n",
    "trace10 = run_BayesInf(BMCA_obj10, n_samp=3)\n",
    "trace15 = run_BayesInf(BMCA_obj15, n_samp=3)\n",
    "trace3 = run_BayesInf(BMCA_obj3, n_samp=3)\n",
    "trace5 = run_BayesInf(BMCA_obj5, n_samp=3)\n",
    "trace7 = run_BayesInf(BMCA_obj7, n_samp=3)\n",
    "trace100 = run_BayesInf(BMCA_obj100, n_samp=3)"
   ]
  },
  {
   "cell_type": "markdown",
   "metadata": {},
   "source": [
    "### Plotting ADVI results"
   ]
  },
  {
   "cell_type": "code",
   "execution_count": null,
   "metadata": {},
   "outputs": [],
   "source": [
    "def get_az_mean(traces): \n",
    "    trace_means = []\n",
    "    for t in traces: \n",
    "        Ex_mean = az.summary(t)['mean'].reset_index()\n",
    "        Ex_mean.columns = ['elasticity', 'mean']\n",
    "        Ex_mean = Ex_mean[Ex_mean.elasticity.str.contains(\"Ex\\[\")]['mean'].values.flatten().reshape((-1,1))\n",
    "        trace_means.append(Ex_mean)\n",
    "    Ex = np.concatenate(trace_means, axis=1)\n",
    "    return np.mean(Ex, axis=1)"
   ]
  },
  {
   "cell_type": "code",
   "execution_count": null,
   "metadata": {},
   "outputs": [],
   "source": [
    "med_Ex01_advi = get_az_mean(trace01)\n",
    "med_Ex02_advi = get_az_mean(trace02)\n",
    "med_Ex03_advi = get_az_mean(trace03)\n",
    "med_Ex04_advi = get_az_mean(trace04)\n",
    "\n",
    "med_Ex05_advi = get_az_mean(trace05)\n",
    "med_Ex10_advi = get_az_mean(trace10)\n",
    "med_Ex15_advi = get_az_mean(trace15)\n",
    "med_Ex3_advi = get_az_mean(trace3)\n",
    "med_Ex5_advi = get_az_mean(trace5)\n",
    "med_Ex7_advi = get_az_mean(trace7)\n",
    "med_Ex100_advi = get_az_mean(trace100)"
   ]
  },
  {
   "cell_type": "markdown",
   "metadata": {},
   "source": [
    "## Calculating FCCs"
   ]
  },
  {
   "cell_type": "code",
   "execution_count": null,
   "metadata": {},
   "outputs": [],
   "source": [
    "gtFCC = pd.DataFrame(r.getScaledFluxControlCoefficientMatrix(), index=r.getReactionIds(), columns=r.getReactionIds())"
   ]
  },
  {
   "cell_type": "code",
   "execution_count": null,
   "metadata": {},
   "outputs": [],
   "source": [
    "def estimate_CCs(BMCA_obj, Ex):\n",
    "    BMCA_obj.vn[BMCA_obj.vn == 0] = 1e-6\n",
    "    \n",
    "    a = np.diag(BMCA_obj.en.values / BMCA_obj.vn.values)\n",
    "    a = np.diag(a)\n",
    "    a = a[np.newaxis,:].repeat(3000, axis=0)\n",
    "\n",
    "    Ex_ss = a @ Ex\n",
    "    As = BMCA_obj.N @ np.diag(BMCA_obj.v_star) @ Ex_ss\n",
    "    bs = BMCA_obj.N @ np.diag(BMCA_obj.v_star)\n",
    "    bs = bs[np.newaxis, :].repeat(3000, axis=0)\n",
    "    \n",
    "    As = at.as_tensor_variable(As)\n",
    "    bs = at.as_tensor_variable(bs)\n",
    "\n",
    "    def solve_aesara(A, b):\n",
    "        rsolve_op = LeastSquaresSolve()\n",
    "        return rsolve_op(A, b).squeeze()\n",
    "\n",
    "    CCC, _ = aesara.scan(lambda A, b: solve_aesara(A, b),\n",
    "                        sequences=[As, bs], strict=True)\n",
    "\n",
    "    identity = np.eye(len(BMCA_obj.N.T))\n",
    "    identity = identity[np.newaxis,:].repeat(3000, axis=0)\n",
    "    \n",
    "    FCC = (Ex_ss @ CCC.eval()) + identity\n",
    "    \n",
    "    return FCC\n"
   ]
  },
  {
   "cell_type": "markdown",
   "metadata": {},
   "source": [
    "### Negative predictions"
   ]
  },
  {
   "cell_type": "code",
   "execution_count": null,
   "metadata": {},
   "outputs": [],
   "source": [
    "postFCC01 = estimate_CCs(BMCA_obj01, med_Ex01_advi.reshape((19,13)))\n",
    "postFCC02 = estimate_CCs(BMCA_obj02, med_Ex02_advi.reshape((19,13)))\n",
    "postFCC03 = estimate_CCs(BMCA_obj03, med_Ex03_advi.reshape((19,13)))\n",
    "postFCC04 = estimate_CCs(BMCA_obj04, med_Ex04_advi.reshape((19,13)))\n",
    "\n",
    "postFCC05 = estimate_CCs(BMCA_obj05, med_Ex05_advi.reshape((19,13)))\n",
    "postFCC10 = estimate_CCs(BMCA_obj10, med_Ex10_advi.reshape((19,13)))\n",
    "postFCC15 = estimate_CCs(BMCA_obj15, med_Ex15_advi.reshape((19,13)))\n",
    "postFCC3 = estimate_CCs(BMCA_obj3, med_Ex3_advi.reshape((19,13)))\n",
    "postFCC5 = estimate_CCs(BMCA_obj5, med_Ex5_advi.reshape((19,13)))\n",
    "postFCC7 = estimate_CCs(BMCA_obj7, med_Ex7_advi.reshape((19,13)))\n",
    "postFCC100 = estimate_CCs(BMCA_obj100, med_Ex100_advi.reshape((19,13)))"
   ]
  },
  {
   "cell_type": "code",
   "execution_count": null,
   "metadata": {},
   "outputs": [],
   "source": [
    "rxn_FCCs = [postFCC01, postFCC02, postFCC03, postFCC04, postFCC05, postFCC10, postFCC15, postFCC3, postFCC5, postFCC7, postFCC100]\n",
    "pt_labels = ['0.1x', '0.2x', '0.3x', '0.4x','0.5x', '1.01x', '1.5x', '3x', '5x', '7x', '10x']"
   ]
  },
  {
   "cell_type": "code",
   "execution_count": null,
   "metadata": {},
   "outputs": [],
   "source": [
    "def append_FCC_df(postFCC, label):\n",
    "    dfs=[]\n",
    "    \n",
    "    for idx, rxn in enumerate(r.getReactionIds()):\n",
    "        # negativity applied here\n",
    "        df = -pd.DataFrame(postFCC[:,idx,:], columns=r.getReactionIds())\n",
    "        df['pt_rxn']=[rxn]*len(df)\n",
    "        dfs.append(df)\n",
    "    \n",
    "    w = pd.concat(dfs)\n",
    "    w['pt_str']=[label]*len(w)\n",
    "    return w\n",
    "\n",
    "prd_FCCs = pd.concat([append_FCC_df(rxn_FCCs[i], pt_labels[i]) for i in range(len(rxn_FCCs))])"
   ]
  },
  {
   "cell_type": "code",
   "execution_count": null,
   "metadata": {},
   "outputs": [],
   "source": [
    "medPrdFCCs = pd.pivot_table(prd_FCCs, index=['pt_rxn','pt_str'], aggfunc='median', sort=False)\n",
    "medPrdFCCs.head()"
   ]
  },
  {
   "cell_type": "markdown",
   "metadata": {},
   "source": [
    "### Graphing the averaged differences between ground truth and predicted distributions"
   ]
  },
  {
   "cell_type": "code",
   "execution_count": null,
   "metadata": {},
   "outputs": [],
   "source": [
    "# for each reaction that can be perturbed\n",
    "for rxn in r.getReactionIds():\n",
    "    # locate the applicable rows in the medPrdFCCs df\n",
    "    a = medPrdFCCs.loc[rxn]\n",
    "    gtvals = np.repeat(gtFCC[rxn].values, repeats=len(pt_labels), axis=0).reshape((len(pt_labels), -1))\n",
    "    # calculate the absolute difference...\n",
    "    absDifs = a - gtvals\n",
    "    # and the relative difference\n",
    "    relDifs = absDifs/gtvals\n",
    "    \n",
    "    # plot both graphs \n",
    "    f1 = plt.figure(figsize=(16, 10))\n",
    "    absDifs.T.plot(kind='bar')\n",
    "    # alternate color each group of reactions so it is easier to see\n",
    "    for i in range(8):\n",
    "            plt.axvspan(2*i + 0.5, 2*i + 1.5, alpha=0.1)\n",
    "    plt.axhline(0, c='gray')\n",
    "    plt.ylim((-1,1))\n",
    "    plt.legend(loc='lower right')\n",
    "    plt.title(f'ADVI predictions for {rxn} FCCs given all data--absDifs')\n",
    "\n",
    "    \"\"\"\n",
    "    f2 = plt.figure(figsize=(16, 10))\n",
    "    relDifs.T.plot(kind='bar')\n",
    "    # alternate color each group of reactions so it is easier to see\n",
    "    for i in range(8):\n",
    "            plt.axvspan(2*i + 0.5, 2*i + 1.5, alpha=0.1)\n",
    "    plt.axhline(0, c='gray')\n",
    "    plt.ylim((-10,10))\n",
    "    plt.legend(loc='lower right')\n",
    "    plt.title(f'ADVI predictions for {rxn} FCCs given all data--relDifs')\n",
    "    \"\"\""
   ]
  },
  {
   "cell_type": "code",
   "execution_count": null,
   "metadata": {},
   "outputs": [],
   "source": [
    "plt.close(\"all\")"
   ]
  },
  {
   "cell_type": "markdown",
   "metadata": {},
   "source": [
    "## Evaluating FCC ranking"
   ]
  },
  {
   "cell_type": "code",
   "execution_count": null,
   "metadata": {},
   "outputs": [],
   "source": [
    "## ground truth FCC rankings\n",
    "\n",
    "gtFCC=pd.DataFrame(r.getScaledFluxControlCoefficientMatrix(), columns=r.getReactionIds(), index=r.getReactionIds()).abs()\n",
    "m1 = gtFCC.index.values[:, None] == gtFCC.columns.values\n",
    "gtFCC = pd.DataFrame(np.select([m1], [float('Nan')], gtFCC), columns=gtFCC.columns, index=gtFCC.index)\n",
    "gtFCC_rankings= gtFCC.rank(axis=1, ascending=False, na_option='keep')\n",
    "\n",
    "a = gtFCC_rankings.loc['v19']"
   ]
  },
  {
   "cell_type": "markdown",
   "metadata": {},
   "source": [
    "### via Spearman rank coefficients"
   ]
  },
  {
   "cell_type": "code",
   "execution_count": null,
   "metadata": {},
   "outputs": [],
   "source": [
    "def calculate_FCC_med_rankings(postFCC, reaction='v19'):\n",
    "    postFCC_med=pd.DataFrame(np.median(postFCC, axis=0), columns=r.getReactionIds(), index=r.getReactionIds()).abs()\n",
    "    m1 = postFCC_med.index.values[:, None] == postFCC_med.columns.values\n",
    "    postFCC = pd.DataFrame(np.select([m1], [float('Nan')], postFCC_med), columns=postFCC_med.columns, index=postFCC_med.index)\n",
    "    postFCC_rankings= postFCC.rank(axis=1, ascending=False, na_option='keep')\n",
    "    \n",
    "    return postFCC_rankings.loc[reaction]\n",
    "    "
   ]
  },
  {
   "cell_type": "code",
   "execution_count": null,
   "metadata": {},
   "outputs": [],
   "source": [
    "spearman_coefficients = []\n",
    "b_list = []\n",
    "for FCC in rxn_FCCs:\n",
    "    b = calculate_FCC_med_rankings(FCC)\n",
    "    b_list.append(b)\n",
    "    spearman_coefficients.append(stats.spearmanr(a.dropna().values, b.dropna().values))"
   ]
  },
  {
   "cell_type": "code",
   "execution_count": null,
   "metadata": {},
   "outputs": [],
   "source": [
    "spearman_coefficients"
   ]
  },
  {
   "cell_type": "code",
   "execution_count": null,
   "metadata": {},
   "outputs": [],
   "source": [
    "plt.bar(pt_labels, [i[0] for i in spearman_coefficients], alpha=0.5, color='r')\n",
    "plt.grid()\n",
    "\n",
    "for i, txt in enumerate([i[1].round(3) for i in spearman_coefficients]):\n",
    "    plt.annotate(txt, (pt_labels[i], [i[0] for i in spearman_coefficients][i]), ha='center')\n",
    "\n",
    "plt.title(\"Spearman rank correlation coefficients by perturbation strength\")\n",
    "plt.xlabel('perturbation level')\n",
    "plt.ylabel('Spearman $\\it{r}$')\n",
    "plt.ylim((0, 1.05))"
   ]
  },
  {
   "cell_type": "markdown",
   "metadata": {},
   "source": [
    "### evaluating top five rankings"
   ]
  },
  {
   "cell_type": "code",
   "execution_count": null,
   "metadata": {},
   "outputs": [],
   "source": [
    "ranked_b_list = [b.sort_values().reset_index().set_index('v19') for b in b_list]\n",
    "q = pd.concat(ranked_b_list, axis=1)\n",
    "q['gt'] = a.sort_values().reset_index().set_index('v19')\n",
    "q.columns = pt_labels + ['gt']\n",
    "q = q[['gt'] + pt_labels]\n",
    "q"
   ]
  },
  {
   "cell_type": "code",
   "execution_count": null,
   "metadata": {},
   "outputs": [],
   "source": [
    "q.to_csv('omitIntMet_JSexample22_reg2_rankings.csv')"
   ]
  }
 ],
 "metadata": {
  "kernelspec": {
   "display_name": "new_Gayles",
   "language": "python",
   "name": "python3"
  },
  "language_info": {
   "codemirror_mode": {
    "name": "ipython",
    "version": 3
   },
   "file_extension": ".py",
   "mimetype": "text/x-python",
   "name": "python",
   "nbconvert_exporter": "python",
   "pygments_lexer": "ipython3",
   "version": "3.9.19"
  },
  "orig_nbformat": 4
 },
 "nbformat": 4,
 "nbformat_minor": 2
}
