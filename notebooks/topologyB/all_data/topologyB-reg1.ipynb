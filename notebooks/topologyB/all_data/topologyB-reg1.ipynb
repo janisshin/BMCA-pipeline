{
 "cells": [
  {
   "cell_type": "markdown",
   "metadata": {},
   "source": [
    "# Set up "
   ]
  },
  {
   "cell_type": "code",
   "execution_count": 1,
   "metadata": {},
   "outputs": [
    {
     "name": "stderr",
     "output_type": "stream",
     "text": [
      "WARNING (aesara.configdefaults): g++ not available, if using conda: `conda install m2w64-toolchain`\n",
      "WARNING (aesara.configdefaults): g++ not detected!  Aesara will be unable to compile C-implementations and will default to Python. Performance may be severely degraded. To remove this warning, set Aesara flags cxx to an empty string.\n",
      "WARNING (aesara.tensor.blas): Using NumPy C-API based implementation for BLAS functions.\n"
     ]
    }
   ],
   "source": [
    "import tellurium as te\n",
    "import pandas as pd\n",
    "import numpy as np\n",
    "\n",
    "import matplotlib.pyplot as plt\n",
    "import seaborn as sns\n",
    "import arviz as az\n",
    "\n",
    "import aesara.tensor as at\n",
    "import aesara\n",
    "floatX = aesara.config.floatX\n",
    "import pymc as pm\n",
    "import numpy as np\n",
    "\n",
    "import cobra\n",
    "import os\n",
    "\n",
    "from scipy import stats\n",
    "import scipy as sp\n",
    "import math\n",
    "\n",
    "import cloudpickle\n",
    "import gzip"
   ]
  },
  {
   "cell_type": "code",
   "execution_count": 2,
   "metadata": {},
   "outputs": [],
   "source": [
    "os.chdir('../../..')\n",
    "from src import antemll, util\n",
    "import emll\n",
    "from emll.aesara_utils import LeastSquaresSolve\n",
    "os.chdir('notebooks/topologyB/all_data/')"
   ]
  },
  {
   "cell_type": "markdown",
   "metadata": {},
   "source": [
    "# Perturbing enzymes"
   ]
  },
  {
   "cell_type": "raw",
   "metadata": {
    "vscode": {
     "languageId": "raw"
    }
   },
   "source": [
    "# generate enzyme perturbation data\n",
    "ant ='../../../models/Antimony/JSexample22_reg1.ant'  \n",
    "util.generate_data(ant, [0], '../../../data/interim/generated_data/JSexample22-reg1/')"
   ]
  },
  {
   "cell_type": "raw",
   "metadata": {},
   "source": [
    "s = te.loada('../../data/interim/Antimony/Simplified_Teusink_reg1.ant')\n",
    "with open('../../data/interim/sbml/Simplified_Teusink_reg1_cobra.xml', 'w') as f:\n",
    "    f.write(s.getCurrentSBML())"
   ]
  },
  {
   "cell_type": "code",
   "execution_count": 3,
   "metadata": {},
   "outputs": [
    {
     "data": {
      "text/plain": [
       "1.2627690741056199e-15"
      ]
     },
     "execution_count": 3,
     "metadata": {},
     "output_type": "execute_result"
    }
   ],
   "source": [
    "ant ='../../../models/Antimony/JSexample22-reg1.ant'  \n",
    "r = te.loada(ant)\n",
    "r.conservedMoietyAnalysis = True\n",
    "r.steadyState()"
   ]
  },
  {
   "cell_type": "code",
   "execution_count": 4,
   "metadata": {},
   "outputs": [],
   "source": [
    "pt_levels = [0.1, 0.2, 0.3, 0.4,0.5, 1.5, 3, 5, 7, 10]\n",
    "pt_labels = ['0.1x', '0.2x', '0.3x', '0.4x','0.5x', '1.01x', '1.5x', '3x', '5x', '7x', '10x']"
   ]
  },
  {
   "cell_type": "code",
   "execution_count": 5,
   "metadata": {},
   "outputs": [],
   "source": [
    "data_file01 = '../../../data/interim/generated_data/JSexample22-reg1/JSexample22_reg1_0.1.csv'\n",
    "data_file02 = '../../../data/interim/generated_data/JSexample22-reg1/JSexample22_reg1_0.2.csv'\n",
    "data_file03 = '../../../data/interim/generated_data/JSexample22-reg1/JSexample22_reg1_0.3.csv'\n",
    "data_file04 = '../../../data/interim/generated_data/JSexample22-reg1/JSexample22_reg1_0.4.csv'\n",
    "data_file05 = '../../../data/interim/generated_data/JSexample22-reg1/JSexample22_reg1_0.5.csv'\n",
    "\n",
    "data_file15 = '../../../data/interim/generated_data/JSexample22-reg1/JSexample22_reg1_1.5.csv'\n",
    "data_file3 = '../../../data/interim/generated_data/JSexample22-reg1/JSexample22_reg1_3.csv'\n",
    "data_file5 = '../../../data/interim/generated_data/JSexample22-reg1/JSexample22_reg1_5.csv'\n",
    "data_file7 = '../../../data/interim/generated_data/JSexample22-reg1/JSexample22_reg1_7.csv'\n",
    "data_file100 = '../../../data/interim/generated_data/JSexample22-reg1/JSexample22_reg1_10.csv'\n"
   ]
  },
  {
   "cell_type": "code",
   "execution_count": 6,
   "metadata": {},
   "outputs": [
    {
     "name": "stderr",
     "output_type": "stream",
     "text": [
      "No objective coefficients in model. Unclear what should be optimized\n"
     ]
    },
    {
     "name": "stdout",
     "output_type": "stream",
     "text": [
      "../../../models/Antimony/JSexample22_cobra.ant\n"
     ]
    },
    {
     "name": "stderr",
     "output_type": "stream",
     "text": [
      "No objective coefficients in model. Unclear what should be optimized\n"
     ]
    },
    {
     "name": "stdout",
     "output_type": "stream",
     "text": [
      "../../../models/Antimony/JSexample22_cobra.ant\n"
     ]
    },
    {
     "name": "stderr",
     "output_type": "stream",
     "text": [
      "No objective coefficients in model. Unclear what should be optimized\n"
     ]
    },
    {
     "name": "stdout",
     "output_type": "stream",
     "text": [
      "../../../models/Antimony/JSexample22_cobra.ant\n"
     ]
    },
    {
     "name": "stderr",
     "output_type": "stream",
     "text": [
      "No objective coefficients in model. Unclear what should be optimized\n"
     ]
    },
    {
     "name": "stdout",
     "output_type": "stream",
     "text": [
      "../../../models/Antimony/JSexample22_cobra.ant\n"
     ]
    },
    {
     "name": "stderr",
     "output_type": "stream",
     "text": [
      "No objective coefficients in model. Unclear what should be optimized\n"
     ]
    },
    {
     "name": "stdout",
     "output_type": "stream",
     "text": [
      "../../../models/Antimony/JSexample22_cobra.ant\n"
     ]
    },
    {
     "name": "stderr",
     "output_type": "stream",
     "text": [
      "No objective coefficients in model. Unclear what should be optimized\n"
     ]
    },
    {
     "name": "stdout",
     "output_type": "stream",
     "text": [
      "../../../models/Antimony/JSexample22_cobra.ant\n"
     ]
    },
    {
     "name": "stderr",
     "output_type": "stream",
     "text": [
      "No objective coefficients in model. Unclear what should be optimized\n"
     ]
    },
    {
     "name": "stdout",
     "output_type": "stream",
     "text": [
      "../../../models/Antimony/JSexample22_cobra.ant\n"
     ]
    },
    {
     "name": "stderr",
     "output_type": "stream",
     "text": [
      "No objective coefficients in model. Unclear what should be optimized\n"
     ]
    },
    {
     "name": "stdout",
     "output_type": "stream",
     "text": [
      "../../../models/Antimony/JSexample22_cobra.ant\n"
     ]
    },
    {
     "name": "stderr",
     "output_type": "stream",
     "text": [
      "No objective coefficients in model. Unclear what should be optimized\n"
     ]
    },
    {
     "name": "stdout",
     "output_type": "stream",
     "text": [
      "../../../models/Antimony/JSexample22_cobra.ant\n"
     ]
    },
    {
     "name": "stderr",
     "output_type": "stream",
     "text": [
      "No objective coefficients in model. Unclear what should be optimized\n"
     ]
    },
    {
     "name": "stdout",
     "output_type": "stream",
     "text": [
      "../../../models/Antimony/JSexample22_cobra.ant\n"
     ]
    }
   ],
   "source": [
    "BMCA_obj01 = antemll.antemll(ant, data_file01, cobra_sbml='../../../models/sbml/JSexample22_cobra.xml')\n",
    "BMCA_obj02 = antemll.antemll(ant, data_file02, cobra_sbml='../../../models/sbml/JSexample22_cobra.xml')\n",
    "BMCA_obj03 = antemll.antemll(ant, data_file03, cobra_sbml='../../../models/sbml/JSexample22_cobra.xml')\n",
    "BMCA_obj04 = antemll.antemll(ant, data_file04, cobra_sbml='../../../models/sbml/JSexample22_cobra.xml')\n",
    "BMCA_obj05 = antemll.antemll(ant, data_file05, cobra_sbml='../../../models/sbml/JSexample22_cobra.xml')\n",
    "\n",
    "BMCA_obj15 = antemll.antemll(ant, data_file15, cobra_sbml='../../../models/sbml/JSexample22_cobra.xml')\n",
    "BMCA_obj3 = antemll.antemll(ant, data_file3, cobra_sbml='../../../models/sbml/JSexample22_cobra.xml')\n",
    "BMCA_obj5 = antemll.antemll(ant, data_file5, cobra_sbml='../../../models/sbml/JSexample22_cobra.xml')\n",
    "BMCA_obj7 = antemll.antemll(ant, data_file7, cobra_sbml='../../../models/sbml/JSexample22_cobra.xml')\n",
    "BMCA_obj100 = antemll.antemll(ant, data_file100, cobra_sbml='../../../models/sbml/JSexample22_cobra.xml')\n"
   ]
  },
  {
   "cell_type": "markdown",
   "metadata": {},
   "source": [
    "## Running ADVI"
   ]
  },
  {
   "cell_type": "code",
   "execution_count": 8,
   "metadata": {},
   "outputs": [],
   "source": [
    "def run_ADVI(BMCA_obj):\n",
    "    with pm.Model() as pymc_model:\n",
    "        \n",
    "        # Initialize elasticities\n",
    "        Ex_t = pm.Deterministic('Ex', util.initialize_elasticity(BMCA_obj.Ex.to_numpy(), name='Ex'))\n",
    "        Ey_t = pm.Deterministic('Ey', util.initialize_elasticity(BMCA_obj.Ey.to_numpy(), name='Ey'))\n",
    "        e_obs = pm.Normal('e_obs', mu=1, sigma=1, observed=BMCA_obj.en.T)\n",
    "        chi_obs = pm.Normal('chi_obs', mu=0, sigma=10, observed=BMCA_obj.xn.T)\n",
    "        y_obs = pm.Normal('y_obs', mu=0, sigma=10, observed=BMCA_obj.yn.T)\n",
    "        likelihood = pm.Deterministic('vn', e_obs * (np.ones(BMCA_obj.en.T.shape) + pm.math.dot(Ex_t,chi_obs) + pm.math.dot(Ey_t,y_obs)))\n",
    "        v_hat_obs = pm.HalfNormal('v_hat_obs', mu=likelihood, sigma=0.1, observed=BMCA_obj.vn.squeeze().T)\n",
    "    \n",
    "        N_ITERATIONS = 45000\n",
    "    \n",
    "    with pymc_model:\n",
    "        advi = pm.ADVI()\n",
    "        tracker = pm.callbacks.Tracker(\n",
    "            mean = advi.approx.mean.eval,\n",
    "            std = advi.approx.std.eval\n",
    "        )\n",
    "        approx = advi.fit(\n",
    "            n=N_ITERATIONS, \n",
    "            callbacks = [tracker],\n",
    "            obj_optimizer=pm.adagrad_window(learning_rate=5E-2), \n",
    "            total_grad_norm_constraint=0.7,\n",
    "            obj_n_mc=1)\n",
    "    \n",
    "    with sns.plotting_context('notebook', font_scale=1.2):\n",
    "\n",
    "        fig = plt.figure(figsize=(5,4))\n",
    "        plt.plot(approx.hist + 30, '.', rasterized=True, ms=1)\n",
    "        # plt.ylim([-1E1, 1E3])\n",
    "        plt.xlim([0, N_ITERATIONS])\n",
    "        sns.despine(trim=True, offset=10)\n",
    "\n",
    "        plt.ylabel('-ELBO')\n",
    "        plt.xlabel('Iteration')\n",
    "        plt.title('in vitro ADVI convergence')\n",
    "        plt.tight_layout()\n",
    "\n",
    "    return approx.sample(draws=1000, random_seed=1)\n"
   ]
  },
  {
   "cell_type": "code",
   "execution_count": 9,
   "metadata": {},
   "outputs": [
    {
     "ename": "TypeError",
     "evalue": "make_node() got an unexpected keyword argument 'mu'",
     "output_type": "error",
     "traceback": [
      "\u001b[1;31m---------------------------------------------------------------------------\u001b[0m",
      "\u001b[1;31mTypeError\u001b[0m                                 Traceback (most recent call last)",
      "Cell \u001b[1;32mIn[9], line 1\u001b[0m\n\u001b[1;32m----> 1\u001b[0m trace01 \u001b[38;5;241m=\u001b[39m \u001b[43mrun_ADVI\u001b[49m\u001b[43m(\u001b[49m\u001b[43mBMCA_obj01\u001b[49m\u001b[43m)\u001b[49m\n\u001b[0;32m      2\u001b[0m trace02 \u001b[38;5;241m=\u001b[39m run_ADVI(BMCA_obj02)\n\u001b[0;32m      3\u001b[0m trace03 \u001b[38;5;241m=\u001b[39m run_ADVI(BMCA_obj03)\n",
      "Cell \u001b[1;32mIn[8], line 11\u001b[0m, in \u001b[0;36mrun_ADVI\u001b[1;34m(BMCA_obj)\u001b[0m\n\u001b[0;32m      9\u001b[0m     y_obs \u001b[38;5;241m=\u001b[39m pm\u001b[38;5;241m.\u001b[39mNormal(\u001b[38;5;124m'\u001b[39m\u001b[38;5;124my_obs\u001b[39m\u001b[38;5;124m'\u001b[39m, mu\u001b[38;5;241m=\u001b[39m\u001b[38;5;241m0\u001b[39m, sigma\u001b[38;5;241m=\u001b[39m\u001b[38;5;241m10\u001b[39m, observed\u001b[38;5;241m=\u001b[39mBMCA_obj\u001b[38;5;241m.\u001b[39myn\u001b[38;5;241m.\u001b[39mT)\n\u001b[0;32m     10\u001b[0m     likelihood \u001b[38;5;241m=\u001b[39m pm\u001b[38;5;241m.\u001b[39mDeterministic(\u001b[38;5;124m'\u001b[39m\u001b[38;5;124mvn\u001b[39m\u001b[38;5;124m'\u001b[39m, e_obs \u001b[38;5;241m*\u001b[39m (np\u001b[38;5;241m.\u001b[39mones(BMCA_obj\u001b[38;5;241m.\u001b[39men\u001b[38;5;241m.\u001b[39mT\u001b[38;5;241m.\u001b[39mshape) \u001b[38;5;241m+\u001b[39m pm\u001b[38;5;241m.\u001b[39mmath\u001b[38;5;241m.\u001b[39mdot(Ex_t,chi_obs) \u001b[38;5;241m+\u001b[39m pm\u001b[38;5;241m.\u001b[39mmath\u001b[38;5;241m.\u001b[39mdot(Ey_t,y_obs)))\n\u001b[1;32m---> 11\u001b[0m     v_hat_obs \u001b[38;5;241m=\u001b[39m \u001b[43mpm\u001b[49m\u001b[38;5;241;43m.\u001b[39;49m\u001b[43mHalfNormal\u001b[49m\u001b[43m(\u001b[49m\u001b[38;5;124;43m'\u001b[39;49m\u001b[38;5;124;43mv_hat_obs\u001b[39;49m\u001b[38;5;124;43m'\u001b[39;49m\u001b[43m,\u001b[49m\u001b[43m \u001b[49m\u001b[43mmu\u001b[49m\u001b[38;5;241;43m=\u001b[39;49m\u001b[43mlikelihood\u001b[49m\u001b[43m,\u001b[49m\u001b[43m \u001b[49m\u001b[43msigma\u001b[49m\u001b[38;5;241;43m=\u001b[39;49m\u001b[38;5;241;43m0.1\u001b[39;49m\u001b[43m,\u001b[49m\u001b[43m \u001b[49m\u001b[43mobserved\u001b[49m\u001b[38;5;241;43m=\u001b[39;49m\u001b[43mBMCA_obj\u001b[49m\u001b[38;5;241;43m.\u001b[39;49m\u001b[43mvn\u001b[49m\u001b[38;5;241;43m.\u001b[39;49m\u001b[43msqueeze\u001b[49m\u001b[43m(\u001b[49m\u001b[43m)\u001b[49m\u001b[38;5;241;43m.\u001b[39;49m\u001b[43mT\u001b[49m\u001b[43m)\u001b[49m\n\u001b[0;32m     13\u001b[0m     N_ITERATIONS \u001b[38;5;241m=\u001b[39m \u001b[38;5;241m45000\u001b[39m\n\u001b[0;32m     15\u001b[0m \u001b[38;5;28;01mwith\u001b[39;00m pymc_model:\n",
      "File \u001b[1;32mc:\\Users\\user\\miniconda3\\envs\\gayles\\lib\\site-packages\\pymc\\distributions\\distribution.py:290\u001b[0m, in \u001b[0;36mDistribution.__new__\u001b[1;34m(cls, name, rng, dims, initval, observed, total_size, transform, *args, **kwargs)\u001b[0m\n\u001b[0;32m    287\u001b[0m     \u001b[38;5;28;01melif\u001b[39;00m observed \u001b[38;5;129;01mis\u001b[39;00m \u001b[38;5;129;01mnot\u001b[39;00m \u001b[38;5;28;01mNone\u001b[39;00m:\n\u001b[0;32m    288\u001b[0m         kwargs[\u001b[38;5;124m\"\u001b[39m\u001b[38;5;124mshape\u001b[39m\u001b[38;5;124m\"\u001b[39m] \u001b[38;5;241m=\u001b[39m \u001b[38;5;28mtuple\u001b[39m(observed\u001b[38;5;241m.\u001b[39mshape)\n\u001b[1;32m--> 290\u001b[0m rv_out \u001b[38;5;241m=\u001b[39m \u001b[38;5;28mcls\u001b[39m\u001b[38;5;241m.\u001b[39mdist(\u001b[38;5;241m*\u001b[39margs, \u001b[38;5;241m*\u001b[39m\u001b[38;5;241m*\u001b[39mkwargs)\n\u001b[0;32m    292\u001b[0m rv_out \u001b[38;5;241m=\u001b[39m model\u001b[38;5;241m.\u001b[39mregister_rv(\n\u001b[0;32m    293\u001b[0m     rv_out,\n\u001b[0;32m    294\u001b[0m     name,\n\u001b[1;32m   (...)\u001b[0m\n\u001b[0;32m    299\u001b[0m     initval\u001b[38;5;241m=\u001b[39minitval,\n\u001b[0;32m    300\u001b[0m )\n\u001b[0;32m    302\u001b[0m \u001b[38;5;66;03m# add in pretty-printing support\u001b[39;00m\n",
      "File \u001b[1;32mc:\\Users\\user\\miniconda3\\envs\\gayles\\lib\\site-packages\\pymc\\distributions\\continuous.py:876\u001b[0m, in \u001b[0;36mHalfNormal.dist\u001b[1;34m(cls, sigma, tau, *args, **kwargs)\u001b[0m\n\u001b[0;32m    872\u001b[0m \u001b[38;5;129m@classmethod\u001b[39m\n\u001b[0;32m    873\u001b[0m \u001b[38;5;28;01mdef\u001b[39;00m \u001b[38;5;21mdist\u001b[39m(\u001b[38;5;28mcls\u001b[39m, sigma\u001b[38;5;241m=\u001b[39m\u001b[38;5;28;01mNone\u001b[39;00m, tau\u001b[38;5;241m=\u001b[39m\u001b[38;5;28;01mNone\u001b[39;00m, \u001b[38;5;241m*\u001b[39margs, \u001b[38;5;241m*\u001b[39m\u001b[38;5;241m*\u001b[39mkwargs):\n\u001b[0;32m    874\u001b[0m     tau, sigma \u001b[38;5;241m=\u001b[39m get_tau_sigma(tau\u001b[38;5;241m=\u001b[39mtau, sigma\u001b[38;5;241m=\u001b[39msigma)\n\u001b[1;32m--> 876\u001b[0m     \u001b[38;5;28;01mreturn\u001b[39;00m \u001b[38;5;28msuper\u001b[39m()\u001b[38;5;241m.\u001b[39mdist([\u001b[38;5;241m0.0\u001b[39m, sigma], \u001b[38;5;241m*\u001b[39m\u001b[38;5;241m*\u001b[39mkwargs)\n",
      "File \u001b[1;32mc:\\Users\\user\\miniconda3\\envs\\gayles\\lib\\site-packages\\pymc\\distributions\\distribution.py:369\u001b[0m, in \u001b[0;36mDistribution.dist\u001b[1;34m(cls, dist_params, shape, **kwargs)\u001b[0m\n\u001b[0;32m    367\u001b[0m     ndim_supp \u001b[38;5;241m=\u001b[39m \u001b[38;5;28mcls\u001b[39m\u001b[38;5;241m.\u001b[39mrv_op(\u001b[38;5;241m*\u001b[39mdist_params, \u001b[38;5;241m*\u001b[39m\u001b[38;5;241m*\u001b[39mkwargs)\u001b[38;5;241m.\u001b[39mowner\u001b[38;5;241m.\u001b[39mop\u001b[38;5;241m.\u001b[39mndim_supp\n\u001b[0;32m    368\u001b[0m create_size \u001b[38;5;241m=\u001b[39m find_size(shape\u001b[38;5;241m=\u001b[39mshape, size\u001b[38;5;241m=\u001b[39msize, ndim_supp\u001b[38;5;241m=\u001b[39mndim_supp)\n\u001b[1;32m--> 369\u001b[0m rv_out \u001b[38;5;241m=\u001b[39m \u001b[38;5;28mcls\u001b[39m\u001b[38;5;241m.\u001b[39mrv_op(\u001b[38;5;241m*\u001b[39mdist_params, size\u001b[38;5;241m=\u001b[39mcreate_size, \u001b[38;5;241m*\u001b[39m\u001b[38;5;241m*\u001b[39mkwargs)\n\u001b[0;32m    371\u001b[0m rv_out\u001b[38;5;241m.\u001b[39mlogp \u001b[38;5;241m=\u001b[39m _make_nice_attr_error(\u001b[38;5;124m\"\u001b[39m\u001b[38;5;124mrv.logp(x)\u001b[39m\u001b[38;5;124m\"\u001b[39m, \u001b[38;5;124m\"\u001b[39m\u001b[38;5;124mpm.logp(rv, x)\u001b[39m\u001b[38;5;124m\"\u001b[39m)\n\u001b[0;32m    372\u001b[0m rv_out\u001b[38;5;241m.\u001b[39mlogcdf \u001b[38;5;241m=\u001b[39m _make_nice_attr_error(\u001b[38;5;124m\"\u001b[39m\u001b[38;5;124mrv.logcdf(x)\u001b[39m\u001b[38;5;124m\"\u001b[39m, \u001b[38;5;124m\"\u001b[39m\u001b[38;5;124mpm.logcdf(rv, x)\u001b[39m\u001b[38;5;124m\"\u001b[39m)\n",
      "File \u001b[1;32mc:\\Users\\user\\miniconda3\\envs\\gayles\\lib\\site-packages\\aesara\\tensor\\random\\basic.py:318\u001b[0m, in \u001b[0;36mHalfNormalRV.__call__\u001b[1;34m(self, loc, scale, size, **kwargs)\u001b[0m\n\u001b[0;32m    302\u001b[0m \u001b[38;5;28;01mdef\u001b[39;00m \u001b[38;5;21m__call__\u001b[39m(\u001b[38;5;28mself\u001b[39m, loc\u001b[38;5;241m=\u001b[39m\u001b[38;5;241m0.0\u001b[39m, scale\u001b[38;5;241m=\u001b[39m\u001b[38;5;241m1.0\u001b[39m, size\u001b[38;5;241m=\u001b[39m\u001b[38;5;28;01mNone\u001b[39;00m, \u001b[38;5;241m*\u001b[39m\u001b[38;5;241m*\u001b[39mkwargs):\n\u001b[0;32m    303\u001b[0m \u001b[38;5;250m    \u001b[39m\u001b[38;5;124mr\u001b[39m\u001b[38;5;124;03m\"\"\"Draw samples from a half-normal distribution.\u001b[39;00m\n\u001b[0;32m    304\u001b[0m \n\u001b[0;32m    305\u001b[0m \u001b[38;5;124;03m    Parameters\u001b[39;00m\n\u001b[1;32m   (...)\u001b[0m\n\u001b[0;32m    316\u001b[0m \n\u001b[0;32m    317\u001b[0m \u001b[38;5;124;03m    \"\"\"\u001b[39;00m\n\u001b[1;32m--> 318\u001b[0m     \u001b[38;5;28;01mreturn\u001b[39;00m \u001b[38;5;28msuper\u001b[39m()\u001b[38;5;241m.\u001b[39m\u001b[38;5;21m__call__\u001b[39m(loc, scale, size\u001b[38;5;241m=\u001b[39msize, \u001b[38;5;241m*\u001b[39m\u001b[38;5;241m*\u001b[39mkwargs)\n",
      "File \u001b[1;32mc:\\Users\\user\\miniconda3\\envs\\gayles\\lib\\site-packages\\aesara\\tensor\\random\\op.py:279\u001b[0m, in \u001b[0;36mRandomVariable.__call__\u001b[1;34m(self, size, name, rng, dtype, *args, **kwargs)\u001b[0m\n\u001b[0;32m    278\u001b[0m \u001b[38;5;28;01mdef\u001b[39;00m \u001b[38;5;21m__call__\u001b[39m(\u001b[38;5;28mself\u001b[39m, \u001b[38;5;241m*\u001b[39margs, size\u001b[38;5;241m=\u001b[39m\u001b[38;5;28;01mNone\u001b[39;00m, name\u001b[38;5;241m=\u001b[39m\u001b[38;5;28;01mNone\u001b[39;00m, rng\u001b[38;5;241m=\u001b[39m\u001b[38;5;28;01mNone\u001b[39;00m, dtype\u001b[38;5;241m=\u001b[39m\u001b[38;5;28;01mNone\u001b[39;00m, \u001b[38;5;241m*\u001b[39m\u001b[38;5;241m*\u001b[39mkwargs):\n\u001b[1;32m--> 279\u001b[0m     res \u001b[38;5;241m=\u001b[39m \u001b[38;5;28msuper\u001b[39m()\u001b[38;5;241m.\u001b[39m\u001b[38;5;21m__call__\u001b[39m(rng, size, dtype, \u001b[38;5;241m*\u001b[39margs, \u001b[38;5;241m*\u001b[39m\u001b[38;5;241m*\u001b[39mkwargs)\n\u001b[0;32m    281\u001b[0m     \u001b[38;5;28;01mif\u001b[39;00m name \u001b[38;5;129;01mis\u001b[39;00m \u001b[38;5;129;01mnot\u001b[39;00m \u001b[38;5;28;01mNone\u001b[39;00m:\n\u001b[0;32m    282\u001b[0m         res\u001b[38;5;241m.\u001b[39mname \u001b[38;5;241m=\u001b[39m name\n",
      "File \u001b[1;32mc:\\Users\\user\\miniconda3\\envs\\gayles\\lib\\site-packages\\aesara\\graph\\op.py:297\u001b[0m, in \u001b[0;36mOp.__call__\u001b[1;34m(self, *inputs, **kwargs)\u001b[0m\n\u001b[0;32m    255\u001b[0m \u001b[38;5;250m\u001b[39m\u001b[38;5;124mr\u001b[39m\u001b[38;5;124;03m\"\"\"Construct an `Apply` node using :meth:`Op.make_node` and return its outputs.\u001b[39;00m\n\u001b[0;32m    256\u001b[0m \n\u001b[0;32m    257\u001b[0m \u001b[38;5;124;03mThis method is just a wrapper around :meth:`Op.make_node`.\u001b[39;00m\n\u001b[1;32m   (...)\u001b[0m\n\u001b[0;32m    294\u001b[0m \n\u001b[0;32m    295\u001b[0m \u001b[38;5;124;03m\"\"\"\u001b[39;00m\n\u001b[0;32m    296\u001b[0m return_list \u001b[38;5;241m=\u001b[39m kwargs\u001b[38;5;241m.\u001b[39mpop(\u001b[38;5;124m\"\u001b[39m\u001b[38;5;124mreturn_list\u001b[39m\u001b[38;5;124m\"\u001b[39m, \u001b[38;5;28;01mFalse\u001b[39;00m)\n\u001b[1;32m--> 297\u001b[0m node \u001b[38;5;241m=\u001b[39m \u001b[38;5;28mself\u001b[39m\u001b[38;5;241m.\u001b[39mmake_node(\u001b[38;5;241m*\u001b[39minputs, \u001b[38;5;241m*\u001b[39m\u001b[38;5;241m*\u001b[39mkwargs)\n\u001b[0;32m    299\u001b[0m \u001b[38;5;28;01mif\u001b[39;00m config\u001b[38;5;241m.\u001b[39mcompute_test_value \u001b[38;5;241m!=\u001b[39m \u001b[38;5;124m\"\u001b[39m\u001b[38;5;124moff\u001b[39m\u001b[38;5;124m\"\u001b[39m:\n\u001b[0;32m    300\u001b[0m     compute_test_value(node)\n",
      "\u001b[1;31mTypeError\u001b[0m: make_node() got an unexpected keyword argument 'mu'"
     ]
    }
   ],
   "source": [
    "trace01 = run_ADVI(BMCA_obj01)\n",
    "trace02 = run_ADVI(BMCA_obj02)\n",
    "trace03 = run_ADVI(BMCA_obj03)\n",
    "trace04 = run_ADVI(BMCA_obj04)\n",
    "trace05 = run_ADVI(BMCA_obj05)\n",
    "\n",
    "trace15 = run_ADVI(BMCA_obj15)\n",
    "trace3 = run_ADVI(BMCA_obj3)\n",
    "trace5 = run_ADVI(BMCA_obj5)\n",
    "trace7 = run_ADVI(BMCA_obj7)\n",
    "trace100 = run_ADVI(BMCA_obj100)"
   ]
  },
  {
   "cell_type": "markdown",
   "metadata": {},
   "source": [
    "### saving trace data"
   ]
  },
  {
   "cell_type": "code",
   "execution_count": 9,
   "metadata": {},
   "outputs": [],
   "source": [
    "with gzip.open(\"topologyB-reg1_allData_traces.pgz\", \"wb\") as f:\n",
    "            cloudpickle.dump(\n",
    "                {\n",
    "                \"trace01\":trace01,\n",
    "                \"trace02\":trace02,\n",
    "                \"trace03\":trace03,\n",
    "                \"trace04\":trace04,\n",
    "                \"trace05\":trace05,\n",
    "                \"trace15\":trace15,\n",
    "                \"trace3\":trace3,\n",
    "                \"trace5\":trace5,\n",
    "                \"trace7\":trace7,\n",
    "                \"trace100\":trace100\n",
    "                },\n",
    "                f,\n",
    "            )"
   ]
  },
  {
   "cell_type": "markdown",
   "metadata": {},
   "source": [
    "# Analysis"
   ]
  },
  {
   "cell_type": "code",
   "execution_count": 7,
   "metadata": {},
   "outputs": [],
   "source": [
    "picklefolder = '../../../data/results/tracePickles/'\n",
    "with gzip.open(picklefolder + 'topologyB-reg1_allData_traces.pgz', \"rb\") as f:\n",
    "    traces = cloudpickle.load(f, encoding='bytes')"
   ]
  },
  {
   "cell_type": "code",
   "execution_count": 8,
   "metadata": {},
   "outputs": [],
   "source": [
    "pt_labels = ['0.1x', '0.2x', '0.3x', '0.4x','0.5x', '1.5x', '3x', '5x', '7x', '10x']"
   ]
  },
  {
   "cell_type": "code",
   "execution_count": 9,
   "metadata": {},
   "outputs": [],
   "source": [
    "trace01=traces['trace01']\n",
    "trace02=traces['trace02']\n",
    "trace03=traces['trace03']\n",
    "trace04=traces['trace04']\n",
    "trace05=traces['trace05']\n",
    "\n",
    "trace15=traces['trace15']\n",
    "trace3=traces['trace3']\n",
    "trace5=traces['trace5']\n",
    "trace7=traces['trace7']\n",
    "trace100=traces['trace100']"
   ]
  },
  {
   "cell_type": "code",
   "execution_count": 10,
   "metadata": {},
   "outputs": [
    {
     "name": "stderr",
     "output_type": "stream",
     "text": [
      "arviz - WARNING - Shape validation failed: input_shape: (1, 1000), minimum_shape: (chains=2, draws=4)\n",
      "arviz - WARNING - Shape validation failed: input_shape: (1, 1000), minimum_shape: (chains=2, draws=4)\n",
      "arviz - WARNING - Shape validation failed: input_shape: (1, 1000), minimum_shape: (chains=2, draws=4)\n",
      "arviz - WARNING - Shape validation failed: input_shape: (1, 1000), minimum_shape: (chains=2, draws=4)\n",
      "arviz - WARNING - Shape validation failed: input_shape: (1, 1000), minimum_shape: (chains=2, draws=4)\n",
      "arviz - WARNING - Shape validation failed: input_shape: (1, 1000), minimum_shape: (chains=2, draws=4)\n",
      "arviz - WARNING - Shape validation failed: input_shape: (1, 1000), minimum_shape: (chains=2, draws=4)\n",
      "arviz - WARNING - Shape validation failed: input_shape: (1, 1000), minimum_shape: (chains=2, draws=4)\n",
      "arviz - WARNING - Shape validation failed: input_shape: (1, 1000), minimum_shape: (chains=2, draws=4)\n",
      "arviz - WARNING - Shape validation failed: input_shape: (1, 1000), minimum_shape: (chains=2, draws=4)\n"
     ]
    }
   ],
   "source": [
    "Ex01_advi = util.get_az_summary(trace01)\n",
    "Ex02_advi = util.get_az_summary(trace02)\n",
    "Ex03_advi = util.get_az_summary(trace03)\n",
    "Ex04_advi = util.get_az_summary(trace04)\n",
    "Ex05_advi = util.get_az_summary(trace05)\n",
    "\n",
    "Ex15_advi = util.get_az_summary(trace15)\n",
    "Ex3_advi = util.get_az_summary(trace3)\n",
    "Ex5_advi = util.get_az_summary(trace5)\n",
    "Ex7_advi = util.get_az_summary(trace7)\n",
    "Ex100_advi = util.get_az_summary(trace100)"
   ]
  },
  {
   "cell_type": "code",
   "execution_count": 11,
   "metadata": {},
   "outputs": [],
   "source": [
    "elasticity_values = np.column_stack([r.getScaledElasticityMatrix().flatten(),\n",
    "                                Ex01_advi, Ex02_advi, Ex03_advi, \n",
    "                               Ex04_advi, Ex05_advi,  \n",
    "                               Ex15_advi, Ex3_advi, Ex5_advi, \n",
    "                               Ex7_advi, Ex100_advi])\n",
    "\n",
    "elasticities_df = pd.DataFrame(elasticity_values, columns=['gt']+pt_labels, \n",
    "                               index=[i + '_' + ii for i in r.getReactionIds() for ii in r.getFloatingSpeciesIds()])\n",
    "# elasticities_df.to_csv('topologyA-noReg_allData_elasticities.csv')"
   ]
  },
  {
   "cell_type": "code",
   "execution_count": 12,
   "metadata": {},
   "outputs": [],
   "source": [
    "e_slopes = [round(util.calculate_slope(elasticities_df['gt'], elasticities_df[i])[0],3) for i in pt_labels]\n",
    "e_intercepts = [round(util.calculate_slope(elasticities_df['gt'], elasticities_df[i])[1],3) for i in pt_labels]\n",
    "e_r2s = [round(util.calculate_slope(elasticities_df['gt'], elasticities_df[i])[2],3) for i in pt_labels]"
   ]
  },
  {
   "cell_type": "code",
   "execution_count": 14,
   "metadata": {},
   "outputs": [
    {
     "data": {
      "image/png": "[encoded data removed]",
      "text/plain": [
       "<Figure size 640x480 with 1 Axes>"
      ]
     },
     "metadata": {},
     "output_type": "display_data"
    }
   ],
   "source": [
    "plt.axes().set_aspect('equal', 'datalim')\n",
    "# plt.scatter(elasticities_df['gt'], elasticities_df['knockout'], alpha=0.4, label='knockout', zorder=10)\n",
    "plt.scatter(elasticities_df['gt'], elasticities_df['0.1x'], alpha=0.4, label='0.1x', zorder=10)\n",
    "plt.scatter(elasticities_df['gt'], elasticities_df['0.2x'], alpha=0.4, label='0.2x', zorder=10)\n",
    "plt.scatter(elasticities_df['gt'], elasticities_df['0.3x'], alpha=0.4, label='0.3x', zorder=10)\n",
    "plt.scatter(elasticities_df['gt'], elasticities_df['0.4x'], alpha=0.4, label='0.4x', zorder=10)\n",
    "plt.scatter(elasticities_df['gt'], elasticities_df['0.5x'], alpha=0.4, label='0.5x', zorder=10)\n",
    "# plt.scatter(elasticities_df['gt'], elasticities_df['1.01x'], alpha=0.4, label='1.01x', zorder=10)\n",
    "\n",
    "plt.axline([0, 0], [1, 1], c='gray', linestyle='dashed', zorder=1, linewidth=3)\n",
    "plt.grid(True, which='both', axis='both', zorder=0)\n",
    "plt.xlabel('ground truth elasticity values', size=14)\n",
    "plt.ylabel('predicted elasticity values, $\\it{r}$', size=14)\n",
    "# plt.title('Parity plot of elasticity values for various \\nenzyme perturbation strengths—CRISPRi', size=20)\n",
    "plt.title('allData reg1 CRISPRi', size=20)\n",
    "plt.legend(bbox_to_anchor=(1.04, 1), loc=\"upper left\")\n",
    "\n",
    "left_adjust = 19\n",
    "line_spacing = 0.8\n",
    "slope_start = 0.5\n",
    "r2_start = slope_start-(7*line_spacing)\n",
    "\n",
    "plt.text(left_adjust, slope_start, \"slopes\")\n",
    "for i, label in enumerate(pt_labels[0:5]):\n",
    "    plt.text(left_adjust, (slope_start-line_spacing)-(i*line_spacing), f'{label}: {e_slopes[i]}')\n",
    "\n",
    "plt.text(left_adjust, r2_start, 'R-squared')\n",
    "for i, label in enumerate(pt_labels[0:5]):\n",
    "    plt.text(left_adjust, (r2_start-line_spacing)-(i*line_spacing), f'{label}: {e_r2s[i]}')\n",
    "\n",
    "colors = ['tab:blue', 'tab:orange', 'tab:green', 'tab:red', 'tab:purple']\n",
    "for i in range(5):\n",
    "    plt.axline((0, e_intercepts[i]), slope=e_slopes[i], linestyle='--', alpha=0.6, color=colors[i], zorder=0)"
   ]
  },
  {
   "cell_type": "code",
   "execution_count": 15,
   "metadata": {},
   "outputs": [
    {
     "data": {
      "image/png": "[encoded data removed]",
      "text/plain": [
       "<Figure size 640x480 with 1 Axes>"
      ]
     },
     "metadata": {},
     "output_type": "display_data"
    }
   ],
   "source": [
    "plt.axes().set_aspect('equal', 'datalim')\n",
    "plt.scatter(elasticities_df['gt'], elasticities_df['1.5x'], alpha=0.4, label='1.5x')\n",
    "plt.scatter(elasticities_df['gt'], elasticities_df['3x'], alpha=0.4, label='3x')\n",
    "plt.scatter(elasticities_df['gt'], elasticities_df['5x'], alpha=0.4, label='5x')\n",
    "plt.scatter(elasticities_df['gt'], elasticities_df['7x'], alpha=0.4, label='7x')\n",
    "plt.scatter(elasticities_df['gt'], elasticities_df['10x'], alpha=0.4, label='10x')\n",
    "\n",
    "plt.axline([0, 0], [1, 1], c='gray', linestyle='dashed', zorder=1,linewidth=3)\n",
    "plt.grid(True, which='both', axis='both', zorder=0)\n",
    "plt.xlabel('ground truth elasticity values', size=14)\n",
    "plt.ylabel('predicted elasticity values, $\\it{r}$', size=14)\n",
    "plt.title('allData reg1 CRISPRa', size=20)\n",
    "plt.legend(bbox_to_anchor=(1.04, 1), loc=\"upper left\")\n",
    "\n",
    "left_adjust = 19\n",
    "line_spacing = 0.8\n",
    "slope_start = 1.5\n",
    "r2_start = slope_start-(7*line_spacing)\n",
    "\n",
    "plt.text(left_adjust, slope_start, \"slopes\")\n",
    "for i, label in enumerate(pt_labels[5:10]):\n",
    "    plt.text(left_adjust, (slope_start-line_spacing)-(i*line_spacing), f'{label}: {e_slopes[i+5]}')\n",
    "\n",
    "plt.text(left_adjust, r2_start, 'R-squared')\n",
    "for i, label in enumerate(pt_labels[5:10]):\n",
    "    plt.text(left_adjust, (r2_start-line_spacing)-(i*line_spacing), f'{label}: {e_r2s[i+5]}')\n",
    "\n",
    "colors = ['tab:blue', 'tab:orange', 'tab:green', 'tab:red', 'tab:purple']\n",
    "for i in range(5):\n",
    "    plt.axline((0, e_intercepts[i+5]), slope=e_slopes[i+5], linestyle='--', alpha=0.6, color=colors[i], zorder=0)"
   ]
  },
  {
   "cell_type": "code",
   "execution_count": 13,
   "metadata": {},
   "outputs": [
    {
     "data": {
      "text/plain": [
       "F_onewayResult(statistic=0.21565004419193032, pvalue=0.9923395001694357)"
      ]
     },
     "execution_count": 13,
     "metadata": {},
     "output_type": "execute_result"
    }
   ],
   "source": [
    "# running ANOVA on differences btw gt and predicted\n",
    "# elasticities_df = elasticities_df.sub(elasticities_df['gt'], axis=0)\n",
    "stats.f_oneway(elasticities_df['0.1x'],\n",
    "                elasticities_df['0.2x'],\n",
    "                elasticities_df['0.3x'],\n",
    "                elasticities_df['0.4x'],\n",
    "                elasticities_df['0.5x'],\n",
    "                elasticities_df['1.5x'],\n",
    "                elasticities_df['3x'],\n",
    "                elasticities_df['5x'],\n",
    "                elasticities_df['7x'],\n",
    "                elasticities_df['10x'])"
   ]
  },
  {
   "cell_type": "code",
   "execution_count": 14,
   "metadata": {},
   "outputs": [
    {
     "data": {
      "text/plain": [
       "gt      0.000000\n",
       "0.1x    0.329328\n",
       "0.2x    0.310760\n",
       "0.3x    0.307085\n",
       "0.4x    0.307587\n",
       "0.5x    0.307094\n",
       "1.5x    0.309324\n",
       "3x      0.270402\n",
       "5x      0.323277\n",
       "7x      0.352621\n",
       "10x     0.400368\n",
       "dtype: float64"
      ]
     },
     "execution_count": 14,
     "metadata": {},
     "output_type": "execute_result"
    }
   ],
   "source": [
    "# print out MAE for each perturbation strength\n",
    "MAE = abs(elasticities_df.sub(elasticities_df['gt'], axis=0)).sum()/len(elasticities_df['gt'])\n",
    "MAE"
   ]
  },
  {
   "cell_type": "code",
   "execution_count": 15,
   "metadata": {},
   "outputs": [
    {
     "data": {
      "text/plain": [
       "Text(0.5, 1.0, 'MAE of elasticity predictions based\\non enzyme perturbation strength')"
      ]
     },
     "execution_count": 15,
     "metadata": {},
     "output_type": "execute_result"
    },
    {
     "data": {
      "image/png": "[encoded data removed]",
      "text/plain": [
       "<Figure size 640x480 with 1 Axes>"
      ]
     },
     "metadata": {},
     "output_type": "display_data"
    }
   ],
   "source": [
    "plt.scatter(pt_levels, MAE[1:].values, zorder=10)\n",
    "plt.grid(True, which='both', axis='both', zorder=0)\n",
    "plt.xscale('log')\n",
    "plt.xlabel('fold change in enzyme concentration', size=14)\n",
    "plt.ylabel('MAE, $\\it{r}$', size=14)\n",
    "plt.tick_params(axis='both', which='major', labelsize=13)\n",
    "plt.title(\"MAE of elasticity predictions based\\non enzyme perturbation strength\", size=20)"
   ]
  },
  {
   "cell_type": "code",
   "execution_count": null,
   "metadata": {},
   "outputs": [],
   "source": [
    "MAE.to_csv('topologyB-reg1_allData_MAE.csv')"
   ]
  },
  {
   "cell_type": "markdown",
   "metadata": {},
   "source": [
    "## Calculating FCCs"
   ]
  },
  {
   "cell_type": "code",
   "execution_count": 18,
   "metadata": {},
   "outputs": [],
   "source": [
    "gtFCC = pd.DataFrame(r.getScaledFluxControlCoefficientMatrix(), index=r.getReactionIds(), columns=r.getReactionIds())"
   ]
  },
  {
   "cell_type": "code",
   "execution_count": 19,
   "metadata": {},
   "outputs": [],
   "source": [
    "def estimate_CCs(BMCA_obj, Ex):\n",
    "    BMCA_obj.vn[BMCA_obj.vn == 0] = 1e-6\n",
    "    \n",
    "    a = np.diag(BMCA_obj.en.values / BMCA_obj.vn.values)\n",
    "    a = np.diag(a)\n",
    "    a = a[np.newaxis,:].repeat(1000, axis=0)\n",
    "\n",
    "    Ex_ss = a @ Ex\n",
    "    As = BMCA_obj.N @ np.diag(BMCA_obj.v_star) @ Ex_ss\n",
    "    bs = BMCA_obj.N @ np.diag(BMCA_obj.v_star)\n",
    "    bs = bs[np.newaxis, :].repeat(1000, axis=0)\n",
    "    \n",
    "    As = at.as_tensor_variable(As)\n",
    "    bs = at.as_tensor_variable(bs)\n",
    "\n",
    "    def solve_aesara(A, b):\n",
    "        rsolve_op = LeastSquaresSolve()\n",
    "        return rsolve_op(A, b).squeeze()\n",
    "\n",
    "    CCC, _ = aesara.scan(lambda A, b: solve_aesara(A, b),\n",
    "                        sequences=[As, bs], strict=True)\n",
    "\n",
    "    identity = np.eye(len(BMCA_obj.N.T))\n",
    "    identity = identity[np.newaxis,:].repeat(1000, axis=0)\n",
    "    \n",
    "    FCC = (Ex_ss @ CCC.eval()) + identity\n",
    "    \n",
    "    # return CCC.eval(), FCC\n",
    "    return FCC\n"
   ]
  },
  {
   "cell_type": "markdown",
   "metadata": {},
   "source": [
    "### Negative predictions"
   ]
  },
  {
   "cell_type": "code",
   "execution_count": 20,
   "metadata": {},
   "outputs": [],
   "source": [
    "postFCC01 = estimate_CCs(BMCA_obj01, Ex01_advi.reshape((19,13)))\n",
    "postFCC02 = estimate_CCs(BMCA_obj02, Ex02_advi.reshape((19,13)))\n",
    "postFCC03 = estimate_CCs(BMCA_obj03, Ex03_advi.reshape((19,13)))\n",
    "postFCC04 = estimate_CCs(BMCA_obj04, Ex04_advi.reshape((19,13)))\n",
    "postFCC05 = estimate_CCs(BMCA_obj05, Ex05_advi.reshape((19,13)))\n",
    "\n",
    "postFCC15 = estimate_CCs(BMCA_obj15, Ex15_advi.reshape((19,13)))\n",
    "postFCC3 = estimate_CCs(BMCA_obj3, Ex3_advi.reshape((19,13)))\n",
    "postFCC5 = estimate_CCs(BMCA_obj5, Ex5_advi.reshape((19,13)))\n",
    "postFCC7 = estimate_CCs(BMCA_obj7, Ex7_advi.reshape((19,13)))\n",
    "postFCC100 = estimate_CCs(BMCA_obj100, Ex100_advi.reshape((19,13)))"
   ]
  },
  {
   "cell_type": "code",
   "execution_count": 21,
   "metadata": {},
   "outputs": [],
   "source": [
    "rxn_FCCs = [postFCC01, postFCC02, postFCC03, postFCC04, postFCC05, postFCC15, postFCC3, postFCC5, postFCC7, postFCC100]\n"
   ]
  },
  {
   "cell_type": "code",
   "execution_count": 22,
   "metadata": {},
   "outputs": [],
   "source": [
    "def append_FCC_df(postFCC, label):\n",
    "    dfs=[]\n",
    "    \n",
    "    for idx, rxn in enumerate(r.getReactionIds()):\n",
    "        # negativity applied here\n",
    "        df = -pd.DataFrame(postFCC[:,idx,:], columns=r.getReactionIds())\n",
    "        df['pt_rxn']=[rxn]*len(df)\n",
    "        dfs.append(df)\n",
    "    \n",
    "    w = pd.concat(dfs)\n",
    "    w['pt_str']=[label]*len(w)\n",
    "    return w\n",
    "\n",
    "prd_FCCs = pd.concat([append_FCC_df(rxn_FCCs[i], pt_labels[i]) for i in range(len(rxn_FCCs))])"
   ]
  },
  {
   "cell_type": "code",
   "execution_count": 23,
   "metadata": {},
   "outputs": [
    {
     "data": {
      "text/html": [
       "<div>\n",
       "<style scoped>\n",
       "    .dataframe tbody tr th:only-of-type {\n",
       "        vertical-align: middle;\n",
       "    }\n",
       "\n",
       "    .dataframe tbody tr th {\n",
       "        vertical-align: top;\n",
       "    }\n",
       "\n",
       "    .dataframe thead th {\n",
       "        text-align: right;\n",
       "    }\n",
       "</style>\n",
       "<table border=\"1\" class=\"dataframe\">\n",
       "  <thead>\n",
       "    <tr style=\"text-align: right;\">\n",
       "      <th></th>\n",
       "      <th></th>\n",
       "      <th>v1</th>\n",
       "      <th>v2</th>\n",
       "      <th>v3</th>\n",
       "      <th>v4</th>\n",
       "      <th>v5</th>\n",
       "      <th>v6</th>\n",
       "      <th>v7</th>\n",
       "      <th>v8</th>\n",
       "      <th>v9</th>\n",
       "      <th>v10</th>\n",
       "      <th>v11</th>\n",
       "      <th>v12</th>\n",
       "      <th>v13</th>\n",
       "      <th>v14</th>\n",
       "      <th>v15</th>\n",
       "      <th>v16</th>\n",
       "      <th>v17</th>\n",
       "      <th>v18</th>\n",
       "      <th>v19</th>\n",
       "    </tr>\n",
       "    <tr>\n",
       "      <th>pt_rxn</th>\n",
       "      <th>pt_str</th>\n",
       "      <th></th>\n",
       "      <th></th>\n",
       "      <th></th>\n",
       "      <th></th>\n",
       "      <th></th>\n",
       "      <th></th>\n",
       "      <th></th>\n",
       "      <th></th>\n",
       "      <th></th>\n",
       "      <th></th>\n",
       "      <th></th>\n",
       "      <th></th>\n",
       "      <th></th>\n",
       "      <th></th>\n",
       "      <th></th>\n",
       "      <th></th>\n",
       "      <th></th>\n",
       "      <th></th>\n",
       "      <th></th>\n",
       "    </tr>\n",
       "  </thead>\n",
       "  <tbody>\n",
       "    <tr>\n",
       "      <th>v1</th>\n",
       "      <th>0.1x</th>\n",
       "      <td>-9.589832</td>\n",
       "      <td>2.602333</td>\n",
       "      <td>-0.349964</td>\n",
       "      <td>0.942054</td>\n",
       "      <td>0.600723</td>\n",
       "      <td>0.239182</td>\n",
       "      <td>2.573322</td>\n",
       "      <td>-1.542131</td>\n",
       "      <td>0.765408</td>\n",
       "      <td>0.176054</td>\n",
       "      <td>0.245864</td>\n",
       "      <td>0.655461</td>\n",
       "      <td>0.763145</td>\n",
       "      <td>7.013390</td>\n",
       "      <td>-2.721261</td>\n",
       "      <td>-6.595780</td>\n",
       "      <td>-2.727543</td>\n",
       "      <td>8.897069</td>\n",
       "      <td>-2.947494</td>\n",
       "    </tr>\n",
       "    <tr>\n",
       "      <th>v2</th>\n",
       "      <th>0.1x</th>\n",
       "      <td>1.154770</td>\n",
       "      <td>-1.980431</td>\n",
       "      <td>0.677635</td>\n",
       "      <td>-0.091141</td>\n",
       "      <td>-0.064628</td>\n",
       "      <td>-0.034366</td>\n",
       "      <td>-0.374018</td>\n",
       "      <td>0.238556</td>\n",
       "      <td>-0.114532</td>\n",
       "      <td>-0.026563</td>\n",
       "      <td>-0.034607</td>\n",
       "      <td>-0.091877</td>\n",
       "      <td>-0.117453</td>\n",
       "      <td>-1.159146</td>\n",
       "      <td>0.440993</td>\n",
       "      <td>1.067625</td>\n",
       "      <td>0.435499</td>\n",
       "      <td>-1.385225</td>\n",
       "      <td>0.458909</td>\n",
       "    </tr>\n",
       "    <tr>\n",
       "      <th>v3</th>\n",
       "      <th>0.1x</th>\n",
       "      <td>1.154770</td>\n",
       "      <td>0.019569</td>\n",
       "      <td>-1.322365</td>\n",
       "      <td>-0.091141</td>\n",
       "      <td>-0.064628</td>\n",
       "      <td>-0.034366</td>\n",
       "      <td>-0.374018</td>\n",
       "      <td>0.238556</td>\n",
       "      <td>-0.114532</td>\n",
       "      <td>-0.026563</td>\n",
       "      <td>-0.034607</td>\n",
       "      <td>-0.091877</td>\n",
       "      <td>-0.117453</td>\n",
       "      <td>-1.159146</td>\n",
       "      <td>0.440993</td>\n",
       "      <td>1.067625</td>\n",
       "      <td>0.435499</td>\n",
       "      <td>-1.385225</td>\n",
       "      <td>0.458909</td>\n",
       "    </tr>\n",
       "    <tr>\n",
       "      <th>v4</th>\n",
       "      <th>0.1x</th>\n",
       "      <td>-10.697712</td>\n",
       "      <td>3.520262</td>\n",
       "      <td>-0.715179</td>\n",
       "      <td>-0.690743</td>\n",
       "      <td>0.837193</td>\n",
       "      <td>0.336402</td>\n",
       "      <td>3.620823</td>\n",
       "      <td>-2.174998</td>\n",
       "      <td>1.078143</td>\n",
       "      <td>0.248065</td>\n",
       "      <td>0.345544</td>\n",
       "      <td>0.921069</td>\n",
       "      <td>1.076115</td>\n",
       "      <td>9.917955</td>\n",
       "      <td>-3.845144</td>\n",
       "      <td>-9.319397</td>\n",
       "      <td>-3.851705</td>\n",
       "      <td>12.551454</td>\n",
       "      <td>-4.158148</td>\n",
       "    </tr>\n",
       "    <tr>\n",
       "      <th>v5</th>\n",
       "      <th>0.1x</th>\n",
       "      <td>-10.697712</td>\n",
       "      <td>3.520262</td>\n",
       "      <td>-0.715179</td>\n",
       "      <td>1.309257</td>\n",
       "      <td>-1.162807</td>\n",
       "      <td>0.336402</td>\n",
       "      <td>3.620823</td>\n",
       "      <td>-2.174998</td>\n",
       "      <td>1.078143</td>\n",
       "      <td>0.248065</td>\n",
       "      <td>0.345544</td>\n",
       "      <td>0.921069</td>\n",
       "      <td>1.076115</td>\n",
       "      <td>9.917955</td>\n",
       "      <td>-3.845144</td>\n",
       "      <td>-9.319397</td>\n",
       "      <td>-3.851705</td>\n",
       "      <td>12.551454</td>\n",
       "      <td>-4.158148</td>\n",
       "    </tr>\n",
       "  </tbody>\n",
       "</table>\n",
       "</div>"
      ],
      "text/plain": [
       "                      v1        v2        v3        v4        v5        v6  \\\n",
       "pt_rxn pt_str                                                                \n",
       "v1     0.1x    -9.589832  2.602333 -0.349964  0.942054  0.600723  0.239182   \n",
       "v2     0.1x     1.154770 -1.980431  0.677635 -0.091141 -0.064628 -0.034366   \n",
       "v3     0.1x     1.154770  0.019569 -1.322365 -0.091141 -0.064628 -0.034366   \n",
       "v4     0.1x   -10.697712  3.520262 -0.715179 -0.690743  0.837193  0.336402   \n",
       "v5     0.1x   -10.697712  3.520262 -0.715179  1.309257 -1.162807  0.336402   \n",
       "\n",
       "                     v7        v8        v9       v10       v11       v12  \\\n",
       "pt_rxn pt_str                                                               \n",
       "v1     0.1x    2.573322 -1.542131  0.765408  0.176054  0.245864  0.655461   \n",
       "v2     0.1x   -0.374018  0.238556 -0.114532 -0.026563 -0.034607 -0.091877   \n",
       "v3     0.1x   -0.374018  0.238556 -0.114532 -0.026563 -0.034607 -0.091877   \n",
       "v4     0.1x    3.620823 -2.174998  1.078143  0.248065  0.345544  0.921069   \n",
       "v5     0.1x    3.620823 -2.174998  1.078143  0.248065  0.345544  0.921069   \n",
       "\n",
       "                    v13       v14       v15       v16       v17        v18  \\\n",
       "pt_rxn pt_str                                                                \n",
       "v1     0.1x    0.763145  7.013390 -2.721261 -6.595780 -2.727543   8.897069   \n",
       "v2     0.1x   -0.117453 -1.159146  0.440993  1.067625  0.435499  -1.385225   \n",
       "v3     0.1x   -0.117453 -1.159146  0.440993  1.067625  0.435499  -1.385225   \n",
       "v4     0.1x    1.076115  9.917955 -3.845144 -9.319397 -3.851705  12.551454   \n",
       "v5     0.1x    1.076115  9.917955 -3.845144 -9.319397 -3.851705  12.551454   \n",
       "\n",
       "                    v19  \n",
       "pt_rxn pt_str            \n",
       "v1     0.1x   -2.947494  \n",
       "v2     0.1x    0.458909  \n",
       "v3     0.1x    0.458909  \n",
       "v4     0.1x   -4.158148  \n",
       "v5     0.1x   -4.158148  "
      ]
     },
     "execution_count": 23,
     "metadata": {},
     "output_type": "execute_result"
    }
   ],
   "source": [
    "medPrdFCCs = pd.pivot_table(prd_FCCs, index=['pt_rxn','pt_str'], aggfunc='median', sort=False)\n",
    "medPrdFCCs.head()"
   ]
  },
  {
   "cell_type": "markdown",
   "metadata": {},
   "source": [
    "### Graphing the averaged differences between ground truth and predicted distributions"
   ]
  },
  {
   "cell_type": "raw",
   "metadata": {
    "vscode": {
     "languageId": "raw"
    }
   },
   "source": [
    "# for each reaction that can be perturbed\n",
    "for rxn in r.getReactionIds():\n",
    "    # locate the applicable rows in the medPrdFCCs df\n",
    "    a = medPrdFCCs.loc[rxn]\n",
    "    gtvals = np.repeat(gtFCC[rxn].values, repeats=len(pt_labels), axis=0).reshape((len(pt_labels), -1))\n",
    "    # calculate the absolute difference...\n",
    "    absDifs = a - gtvals\n",
    "    # and the relative difference\n",
    "    relDifs = absDifs/gtvals\n",
    "    \n",
    "    # plot both graphs \n",
    "    f1 = plt.figure(figsize=(16, 10))\n",
    "    absDifs.T.plot(kind='bar')\n",
    "    # alternate color each group of reactions so it is easier to see\n",
    "    for i in range(8):\n",
    "            plt.axvspan(2*i + 0.5, 2*i + 1.5, alpha=0.1)\n",
    "    plt.axhline(0, c='gray')\n",
    "    plt.ylim((-1,1))\n",
    "    plt.legend(loc='lower right')\n",
    "    plt.title(f'ADVI predictions for {rxn} FCCs given all data--absDifs')\n",
    "\"\"\"\n",
    "    f2 = plt.figure(figsize=(16, 10))\n",
    "    relDifs.T.plot(kind='bar')\n",
    "    # alternate color each group of reactions so it is easier to see\n",
    "    for i in range(8):\n",
    "            plt.axvspan(2*i + 0.5, 2*i + 1.5, alpha=0.1)\n",
    "    plt.axhline(0, c='gray')\n",
    "    plt.ylim((-10,10))\n",
    "    plt.legend(loc='lower right')\n",
    "    plt.title(f'ADVI predictions for {rxn} FCCs given all data--relDifs')\n",
    "\"\"\""
   ]
  },
  {
   "cell_type": "code",
   "execution_count": 25,
   "metadata": {},
   "outputs": [],
   "source": [
    "plt.close(\"all\")"
   ]
  },
  {
   "cell_type": "markdown",
   "metadata": {},
   "source": [
    "## Evaluating FCC ranking"
   ]
  },
  {
   "cell_type": "code",
   "execution_count": 26,
   "metadata": {},
   "outputs": [],
   "source": [
    "## ground truth FCC rankings for vADH\n",
    "\n",
    "gtFCC=pd.DataFrame(r.getScaledFluxControlCoefficientMatrix(), columns=r.getReactionIds(), index=r.getReactionIds()).abs()\n",
    "m1 = gtFCC.index.values[:, None] == gtFCC.columns.values\n",
    "gtFCC = pd.DataFrame(np.select([m1], [float('Nan')], gtFCC), columns=gtFCC.columns, index=gtFCC.index)\n",
    "gtFCC_rankings= gtFCC.rank(axis=1, ascending=False, na_option='keep')\n",
    "\n",
    "a = gtFCC_rankings.loc['v19']"
   ]
  },
  {
   "cell_type": "markdown",
   "metadata": {},
   "source": [
    "### via Spearman rank coefficients"
   ]
  },
  {
   "cell_type": "code",
   "execution_count": 27,
   "metadata": {},
   "outputs": [],
   "source": [
    "def calculate_FCC_med_rankings(postFCC, reaction='v19'):\n",
    "    postFCC_med=pd.DataFrame(np.median(postFCC, axis=0), columns=r.getReactionIds(), index=r.getReactionIds()).abs()\n",
    "    m1 = postFCC_med.index.values[:, None] == postFCC_med.columns.values\n",
    "    postFCC = pd.DataFrame(np.select([m1], [float('Nan')], postFCC_med), columns=postFCC_med.columns, index=postFCC_med.index)\n",
    "    postFCC_rankings= postFCC.rank(axis=1, ascending=False, na_option='keep')\n",
    "    \n",
    "    return postFCC_rankings.loc[reaction]\n",
    "    "
   ]
  },
  {
   "cell_type": "code",
   "execution_count": 28,
   "metadata": {},
   "outputs": [],
   "source": [
    "from scipy.stats import spearmanr\n",
    "\n",
    "def bootstrap_spearman(x, y, num_bootstrap=1000, alpha=0.05):\n",
    "    n = len(x)\n",
    "    corr_list = []\n",
    "\n",
    "    # Original Spearman correlation\n",
    "    corr_original, p_value = spearmanr(x, y)\n",
    "\n",
    "    for _ in range(num_bootstrap):\n",
    "        # Generate bootstrap samples\n",
    "        indices = np.random.randint(0, n, n)\n",
    "        x_bootstrap = [x[i] for i in indices]\n",
    "        y_bootstrap = [y[i] for i in indices]\n",
    "\n",
    "        # Calculate Spearman correlation for the bootstrap sample\n",
    "        corr, _ = spearmanr(x_bootstrap, y_bootstrap)\n",
    "        corr_list.append(corr)\n",
    "\n",
    "    # Convert to numpy array for convenience\n",
    "    corr_list = np.array(corr_list)\n",
    "    \n",
    "    # Calculate the confidence intervals\n",
    "    lower_bound = np.percentile(corr_list, (alpha/2) * 100)\n",
    "    upper_bound = np.percentile(corr_list, (1 - alpha/2) * 100)\n",
    "    \n",
    "    return corr_original, p_value, lower_bound, upper_bound"
   ]
  },
  {
   "cell_type": "code",
   "execution_count": 29,
   "metadata": {},
   "outputs": [],
   "source": [
    "spearman_coefficients = []\n",
    "p_values = []\n",
    "confidence_intervals = []\n",
    "b_list = []\n",
    "for FCC in rxn_FCCs:\n",
    "    b = calculate_FCC_med_rankings(FCC)\n",
    "    b_list.append(b)\n",
    "    spearman_r, p_value, lower_ci, upper_ci = bootstrap_spearman(a.dropna(), b.dropna())\n",
    "    spearman_coefficients.append(spearman_r)\n",
    "    p_values.append(p_value)\n",
    "    confidence_intervals.append((lower_ci, upper_ci))\n"
   ]
  },
  {
   "cell_type": "code",
   "execution_count": 30,
   "metadata": {},
   "outputs": [
    {
     "data": {
      "text/html": [
       "<div>\n",
       "<style scoped>\n",
       "    .dataframe tbody tr th:only-of-type {\n",
       "        vertical-align: middle;\n",
       "    }\n",
       "\n",
       "    .dataframe tbody tr th {\n",
       "        vertical-align: top;\n",
       "    }\n",
       "\n",
       "    .dataframe thead th {\n",
       "        text-align: right;\n",
       "    }\n",
       "</style>\n",
       "<table border=\"1\" class=\"dataframe\">\n",
       "  <thead>\n",
       "    <tr style=\"text-align: right;\">\n",
       "      <th></th>\n",
       "      <th>r</th>\n",
       "      <th>p-value</th>\n",
       "      <th>lower</th>\n",
       "      <th>upper</th>\n",
       "    </tr>\n",
       "  </thead>\n",
       "  <tbody>\n",
       "    <tr>\n",
       "      <th>0.1x</th>\n",
       "      <td>0.172343</td>\n",
       "      <td>0.494076</td>\n",
       "      <td>-0.461507</td>\n",
       "      <td>0.653524</td>\n",
       "    </tr>\n",
       "    <tr>\n",
       "      <th>0.2x</th>\n",
       "      <td>0.653251</td>\n",
       "      <td>0.003286</td>\n",
       "      <td>0.162972</td>\n",
       "      <td>0.945723</td>\n",
       "    </tr>\n",
       "    <tr>\n",
       "      <th>0.3x</th>\n",
       "      <td>0.438596</td>\n",
       "      <td>0.068644</td>\n",
       "      <td>-0.058305</td>\n",
       "      <td>0.793865</td>\n",
       "    </tr>\n",
       "    <tr>\n",
       "      <th>0.4x</th>\n",
       "      <td>0.653251</td>\n",
       "      <td>0.003286</td>\n",
       "      <td>0.046921</td>\n",
       "      <td>0.977101</td>\n",
       "    </tr>\n",
       "    <tr>\n",
       "      <th>0.5x</th>\n",
       "      <td>0.700722</td>\n",
       "      <td>0.001199</td>\n",
       "      <td>0.262185</td>\n",
       "      <td>0.906371</td>\n",
       "    </tr>\n",
       "    <tr>\n",
       "      <th>1.5x</th>\n",
       "      <td>0.405573</td>\n",
       "      <td>0.094953</td>\n",
       "      <td>-0.165815</td>\n",
       "      <td>0.863711</td>\n",
       "    </tr>\n",
       "    <tr>\n",
       "      <th>3x</th>\n",
       "      <td>0.302374</td>\n",
       "      <td>0.222629</td>\n",
       "      <td>-0.174204</td>\n",
       "      <td>0.729750</td>\n",
       "    </tr>\n",
       "    <tr>\n",
       "      <th>5x</th>\n",
       "      <td>0.537668</td>\n",
       "      <td>0.021371</td>\n",
       "      <td>0.105719</td>\n",
       "      <td>0.848930</td>\n",
       "    </tr>\n",
       "    <tr>\n",
       "      <th>7x</th>\n",
       "      <td>0.506708</td>\n",
       "      <td>0.031873</td>\n",
       "      <td>0.055787</td>\n",
       "      <td>0.785759</td>\n",
       "    </tr>\n",
       "    <tr>\n",
       "      <th>10x</th>\n",
       "      <td>0.502580</td>\n",
       "      <td>0.033531</td>\n",
       "      <td>-0.050677</td>\n",
       "      <td>0.831246</td>\n",
       "    </tr>\n",
       "  </tbody>\n",
       "</table>\n",
       "</div>"
      ],
      "text/plain": [
       "             r   p-value     lower     upper\n",
       "0.1x  0.172343  0.494076 -0.461507  0.653524\n",
       "0.2x  0.653251  0.003286  0.162972  0.945723\n",
       "0.3x  0.438596  0.068644 -0.058305  0.793865\n",
       "0.4x  0.653251  0.003286  0.046921  0.977101\n",
       "0.5x  0.700722  0.001199  0.262185  0.906371\n",
       "1.5x  0.405573  0.094953 -0.165815  0.863711\n",
       "3x    0.302374  0.222629 -0.174204  0.729750\n",
       "5x    0.537668  0.021371  0.105719  0.848930\n",
       "7x    0.506708  0.031873  0.055787  0.785759\n",
       "10x   0.502580  0.033531 -0.050677  0.831246"
      ]
     },
     "execution_count": 30,
     "metadata": {},
     "output_type": "execute_result"
    }
   ],
   "source": [
    "spearman_df = pd.DataFrame(spearman_coefficients, columns=['r'], index=pt_labels)\n",
    "spearman_df['p-value'] = p_values\n",
    "spearman_df['lower'] = [i[0] for i in confidence_intervals]\n",
    "spearman_df['upper'] = [i[1] for i in confidence_intervals]\n",
    "spearman_df"
   ]
  },
  {
   "cell_type": "code",
   "execution_count": 31,
   "metadata": {},
   "outputs": [],
   "source": [
    "spearman_df.to_csv('topologyB-reg1_allData_spr.csv')"
   ]
  },
  {
   "cell_type": "code",
   "execution_count": 32,
   "metadata": {},
   "outputs": [
    {
     "ename": "IndexError",
     "evalue": "invalid index to scalar variable.",
     "output_type": "error",
     "traceback": [
      "\u001b[1;31m---------------------------------------------------------------------------\u001b[0m",
      "\u001b[1;31mIndexError\u001b[0m                                Traceback (most recent call last)",
      "Cell \u001b[1;32mIn[32], line 1\u001b[0m\n\u001b[1;32m----> 1\u001b[0m plt\u001b[38;5;241m.\u001b[39mbar(pt_labels, [i[\u001b[38;5;241m0\u001b[39m] \u001b[38;5;28;01mfor\u001b[39;00m i \u001b[38;5;129;01min\u001b[39;00m spearman_coefficients], alpha\u001b[38;5;241m=\u001b[39m\u001b[38;5;241m0.5\u001b[39m, color\u001b[38;5;241m=\u001b[39m\u001b[38;5;124m'\u001b[39m\u001b[38;5;124mr\u001b[39m\u001b[38;5;124m'\u001b[39m)\n\u001b[0;32m      2\u001b[0m plt\u001b[38;5;241m.\u001b[39mgrid()\n\u001b[0;32m      4\u001b[0m \u001b[38;5;28;01mfor\u001b[39;00m i, txt \u001b[38;5;129;01min\u001b[39;00m \u001b[38;5;28menumerate\u001b[39m([i[\u001b[38;5;241m1\u001b[39m]\u001b[38;5;241m.\u001b[39mround(\u001b[38;5;241m3\u001b[39m) \u001b[38;5;28;01mfor\u001b[39;00m i \u001b[38;5;129;01min\u001b[39;00m spearman_coefficients]):\n",
      "Cell \u001b[1;32mIn[32], line 1\u001b[0m, in \u001b[0;36m<listcomp>\u001b[1;34m(.0)\u001b[0m\n\u001b[1;32m----> 1\u001b[0m plt\u001b[38;5;241m.\u001b[39mbar(pt_labels, [\u001b[43mi\u001b[49m\u001b[43m[\u001b[49m\u001b[38;5;241;43m0\u001b[39;49m\u001b[43m]\u001b[49m \u001b[38;5;28;01mfor\u001b[39;00m i \u001b[38;5;129;01min\u001b[39;00m spearman_coefficients], alpha\u001b[38;5;241m=\u001b[39m\u001b[38;5;241m0.5\u001b[39m, color\u001b[38;5;241m=\u001b[39m\u001b[38;5;124m'\u001b[39m\u001b[38;5;124mr\u001b[39m\u001b[38;5;124m'\u001b[39m)\n\u001b[0;32m      2\u001b[0m plt\u001b[38;5;241m.\u001b[39mgrid()\n\u001b[0;32m      4\u001b[0m \u001b[38;5;28;01mfor\u001b[39;00m i, txt \u001b[38;5;129;01min\u001b[39;00m \u001b[38;5;28menumerate\u001b[39m([i[\u001b[38;5;241m1\u001b[39m]\u001b[38;5;241m.\u001b[39mround(\u001b[38;5;241m3\u001b[39m) \u001b[38;5;28;01mfor\u001b[39;00m i \u001b[38;5;129;01min\u001b[39;00m spearman_coefficients]):\n",
      "\u001b[1;31mIndexError\u001b[0m: invalid index to scalar variable."
     ]
    }
   ],
   "source": [
    "plt.bar(pt_labels, [i[0] for i in spearman_coefficients], alpha=0.5, color='r')\n",
    "plt.grid()\n",
    "\n",
    "for i, txt in enumerate([i[1].round(3) for i in spearman_coefficients]):\n",
    "    plt.annotate(txt, (pt_labels[i], [i[0] for i in spearman_coefficients][i]), ha='center')\n",
    "\n",
    "plt.title(\"Spearman rank correlation coefficients by perturbation strength\")\n",
    "plt.xlabel('perturbation level')\n",
    "plt.ylabel('Spearman $\\it{r}$')\n",
    "plt.ylim((0, 1.05))"
   ]
  },
  {
   "cell_type": "markdown",
   "metadata": {},
   "source": [
    "### evaluating top five rankings"
   ]
  },
  {
   "cell_type": "code",
   "execution_count": 33,
   "metadata": {},
   "outputs": [
    {
     "data": {
      "text/html": [
       "<div>\n",
       "<style scoped>\n",
       "    .dataframe tbody tr th:only-of-type {\n",
       "        vertical-align: middle;\n",
       "    }\n",
       "\n",
       "    .dataframe tbody tr th {\n",
       "        vertical-align: top;\n",
       "    }\n",
       "\n",
       "    .dataframe thead th {\n",
       "        text-align: right;\n",
       "    }\n",
       "</style>\n",
       "<table border=\"1\" class=\"dataframe\">\n",
       "  <thead>\n",
       "    <tr style=\"text-align: right;\">\n",
       "      <th></th>\n",
       "      <th>gt</th>\n",
       "      <th>0.1x</th>\n",
       "      <th>0.2x</th>\n",
       "      <th>0.3x</th>\n",
       "      <th>0.4x</th>\n",
       "      <th>0.5x</th>\n",
       "      <th>1.5x</th>\n",
       "      <th>3x</th>\n",
       "      <th>5x</th>\n",
       "      <th>7x</th>\n",
       "      <th>10x</th>\n",
       "    </tr>\n",
       "    <tr>\n",
       "      <th>v19</th>\n",
       "      <th></th>\n",
       "      <th></th>\n",
       "      <th></th>\n",
       "      <th></th>\n",
       "      <th></th>\n",
       "      <th></th>\n",
       "      <th></th>\n",
       "      <th></th>\n",
       "      <th></th>\n",
       "      <th></th>\n",
       "      <th></th>\n",
       "    </tr>\n",
       "  </thead>\n",
       "  <tbody>\n",
       "    <tr>\n",
       "      <th>1.0</th>\n",
       "      <td>v18</td>\n",
       "      <td>v18</td>\n",
       "      <td>v1</td>\n",
       "      <td>v18</td>\n",
       "      <td>v18</td>\n",
       "      <td>v18</td>\n",
       "      <td>v3</td>\n",
       "      <td>v18</td>\n",
       "      <td>v5</td>\n",
       "      <td>v5</td>\n",
       "      <td>v5</td>\n",
       "    </tr>\n",
       "    <tr>\n",
       "      <th>2.0</th>\n",
       "      <td>v1</td>\n",
       "      <td>v14</td>\n",
       "      <td>v18</td>\n",
       "      <td>v14</td>\n",
       "      <td>v1</td>\n",
       "      <td>v1</td>\n",
       "      <td>v2</td>\n",
       "      <td>v15</td>\n",
       "      <td>v4</td>\n",
       "      <td>v4</td>\n",
       "      <td>v7</td>\n",
       "    </tr>\n",
       "    <tr>\n",
       "      <th>3.0</th>\n",
       "      <td>v7</td>\n",
       "      <td>v16</td>\n",
       "      <td>v14</td>\n",
       "      <td>v1</td>\n",
       "      <td>v14</td>\n",
       "      <td>v14</td>\n",
       "      <td>v1</td>\n",
       "      <td>v1</td>\n",
       "      <td>v1</td>\n",
       "      <td>v9</td>\n",
       "      <td>v4</td>\n",
       "    </tr>\n",
       "    <tr>\n",
       "      <th>4.0</th>\n",
       "      <td>v14</td>\n",
       "      <td>v17</td>\n",
       "      <td>v2</td>\n",
       "      <td>v8</td>\n",
       "      <td>v2</td>\n",
       "      <td>v3</td>\n",
       "      <td>v18</td>\n",
       "      <td>v2</td>\n",
       "      <td>v6</td>\n",
       "      <td>v7</td>\n",
       "      <td>v9</td>\n",
       "    </tr>\n",
       "    <tr>\n",
       "      <th>5.0</th>\n",
       "      <td>v5</td>\n",
       "      <td>v1</td>\n",
       "      <td>v7</td>\n",
       "      <td>v15</td>\n",
       "      <td>v7</td>\n",
       "      <td>v7</td>\n",
       "      <td>v7</td>\n",
       "      <td>v5</td>\n",
       "      <td>v9</td>\n",
       "      <td>v1</td>\n",
       "      <td>v1</td>\n",
       "    </tr>\n",
       "    <tr>\n",
       "      <th>6.0</th>\n",
       "      <td>v4</td>\n",
       "      <td>v8</td>\n",
       "      <td>v3</td>\n",
       "      <td>v3</td>\n",
       "      <td>v8</td>\n",
       "      <td>v8</td>\n",
       "      <td>v14</td>\n",
       "      <td>v3</td>\n",
       "      <td>v7</td>\n",
       "      <td>v6</td>\n",
       "      <td>v6</td>\n",
       "    </tr>\n",
       "    <tr>\n",
       "      <th>7.0</th>\n",
       "      <td>v9</td>\n",
       "      <td>v15</td>\n",
       "      <td>v5</td>\n",
       "      <td>v13</td>\n",
       "      <td>v5</td>\n",
       "      <td>v2</td>\n",
       "      <td>v9</td>\n",
       "      <td>v4</td>\n",
       "      <td>v2</td>\n",
       "      <td>v2</td>\n",
       "      <td>v14</td>\n",
       "    </tr>\n",
       "    <tr>\n",
       "      <th>8.0</th>\n",
       "      <td>v3</td>\n",
       "      <td>v13</td>\n",
       "      <td>v4</td>\n",
       "      <td>v7</td>\n",
       "      <td>v4</td>\n",
       "      <td>v13</td>\n",
       "      <td>v8</td>\n",
       "      <td>v16</td>\n",
       "      <td>v14</td>\n",
       "      <td>v14</td>\n",
       "      <td>v2</td>\n",
       "    </tr>\n",
       "    <tr>\n",
       "      <th>9.0</th>\n",
       "      <td>v8</td>\n",
       "      <td>v7</td>\n",
       "      <td>v15</td>\n",
       "      <td>v9</td>\n",
       "      <td>v9</td>\n",
       "      <td>v9</td>\n",
       "      <td>v6</td>\n",
       "      <td>v7</td>\n",
       "      <td>v18</td>\n",
       "      <td>v16</td>\n",
       "      <td>v15</td>\n",
       "    </tr>\n",
       "    <tr>\n",
       "      <th>10.0</th>\n",
       "      <td>v10</td>\n",
       "      <td>v9</td>\n",
       "      <td>v8</td>\n",
       "      <td>v2</td>\n",
       "      <td>v13</td>\n",
       "      <td>v4</td>\n",
       "      <td>v10</td>\n",
       "      <td>v14</td>\n",
       "      <td>v16</td>\n",
       "      <td>v8</td>\n",
       "      <td>v12</td>\n",
       "    </tr>\n",
       "    <tr>\n",
       "      <th>11.0</th>\n",
       "      <td>v12</td>\n",
       "      <td>v3</td>\n",
       "      <td>v12</td>\n",
       "      <td>v17</td>\n",
       "      <td>v15</td>\n",
       "      <td>v5</td>\n",
       "      <td>v13</td>\n",
       "      <td>v12</td>\n",
       "      <td>v3</td>\n",
       "      <td>v18</td>\n",
       "      <td>v10</td>\n",
       "    </tr>\n",
       "    <tr>\n",
       "      <th>12.0</th>\n",
       "      <td>v13</td>\n",
       "      <td>v2</td>\n",
       "      <td>v16</td>\n",
       "      <td>v6</td>\n",
       "      <td>v6</td>\n",
       "      <td>v6</td>\n",
       "      <td>v12</td>\n",
       "      <td>v17</td>\n",
       "      <td>v8</td>\n",
       "      <td>v3</td>\n",
       "      <td>v8</td>\n",
       "    </tr>\n",
       "    <tr>\n",
       "      <th>13.0</th>\n",
       "      <td>v15</td>\n",
       "      <td>v6</td>\n",
       "      <td>v9</td>\n",
       "      <td>v16</td>\n",
       "      <td>v12</td>\n",
       "      <td>v15</td>\n",
       "      <td>v11</td>\n",
       "      <td>v11</td>\n",
       "      <td>v13</td>\n",
       "      <td>v15</td>\n",
       "      <td>v13</td>\n",
       "    </tr>\n",
       "    <tr>\n",
       "      <th>14.0</th>\n",
       "      <td>v6</td>\n",
       "      <td>v12</td>\n",
       "      <td>v13</td>\n",
       "      <td>v4</td>\n",
       "      <td>v10</td>\n",
       "      <td>v11</td>\n",
       "      <td>v5</td>\n",
       "      <td>v10</td>\n",
       "      <td>v10</td>\n",
       "      <td>v13</td>\n",
       "      <td>v3</td>\n",
       "    </tr>\n",
       "    <tr>\n",
       "      <th>15.0</th>\n",
       "      <td>v16</td>\n",
       "      <td>v10</td>\n",
       "      <td>v11</td>\n",
       "      <td>v10</td>\n",
       "      <td>v16</td>\n",
       "      <td>v10</td>\n",
       "      <td>v15</td>\n",
       "      <td>v8</td>\n",
       "      <td>v15</td>\n",
       "      <td>v10</td>\n",
       "      <td>v18</td>\n",
       "    </tr>\n",
       "    <tr>\n",
       "      <th>16.0</th>\n",
       "      <td>v11</td>\n",
       "      <td>v11</td>\n",
       "      <td>v6</td>\n",
       "      <td>v12</td>\n",
       "      <td>v11</td>\n",
       "      <td>v12</td>\n",
       "      <td>v17</td>\n",
       "      <td>v13</td>\n",
       "      <td>v11</td>\n",
       "      <td>v11</td>\n",
       "      <td>v16</td>\n",
       "    </tr>\n",
       "    <tr>\n",
       "      <th>17.0</th>\n",
       "      <td>v17</td>\n",
       "      <td>v4</td>\n",
       "      <td>v10</td>\n",
       "      <td>v11</td>\n",
       "      <td>v3</td>\n",
       "      <td>v17</td>\n",
       "      <td>v4</td>\n",
       "      <td>v6</td>\n",
       "      <td>v12</td>\n",
       "      <td>v12</td>\n",
       "      <td>v17</td>\n",
       "    </tr>\n",
       "    <tr>\n",
       "      <th>18.0</th>\n",
       "      <td>v2</td>\n",
       "      <td>v5</td>\n",
       "      <td>v17</td>\n",
       "      <td>v5</td>\n",
       "      <td>v17</td>\n",
       "      <td>v16</td>\n",
       "      <td>v16</td>\n",
       "      <td>v9</td>\n",
       "      <td>v17</td>\n",
       "      <td>v17</td>\n",
       "      <td>v11</td>\n",
       "    </tr>\n",
       "    <tr>\n",
       "      <th>NaN</th>\n",
       "      <td>v19</td>\n",
       "      <td>v19</td>\n",
       "      <td>v19</td>\n",
       "      <td>v19</td>\n",
       "      <td>v19</td>\n",
       "      <td>v19</td>\n",
       "      <td>v19</td>\n",
       "      <td>v19</td>\n",
       "      <td>v19</td>\n",
       "      <td>v19</td>\n",
       "      <td>v19</td>\n",
       "    </tr>\n",
       "  </tbody>\n",
       "</table>\n",
       "</div>"
      ],
      "text/plain": [
       "       gt 0.1x 0.2x 0.3x 0.4x 0.5x 1.5x   3x   5x   7x  10x\n",
       "v19                                                        \n",
       "1.0   v18  v18   v1  v18  v18  v18   v3  v18   v5   v5   v5\n",
       "2.0    v1  v14  v18  v14   v1   v1   v2  v15   v4   v4   v7\n",
       "3.0    v7  v16  v14   v1  v14  v14   v1   v1   v1   v9   v4\n",
       "4.0   v14  v17   v2   v8   v2   v3  v18   v2   v6   v7   v9\n",
       "5.0    v5   v1   v7  v15   v7   v7   v7   v5   v9   v1   v1\n",
       "6.0    v4   v8   v3   v3   v8   v8  v14   v3   v7   v6   v6\n",
       "7.0    v9  v15   v5  v13   v5   v2   v9   v4   v2   v2  v14\n",
       "8.0    v3  v13   v4   v7   v4  v13   v8  v16  v14  v14   v2\n",
       "9.0    v8   v7  v15   v9   v9   v9   v6   v7  v18  v16  v15\n",
       "10.0  v10   v9   v8   v2  v13   v4  v10  v14  v16   v8  v12\n",
       "11.0  v12   v3  v12  v17  v15   v5  v13  v12   v3  v18  v10\n",
       "12.0  v13   v2  v16   v6   v6   v6  v12  v17   v8   v3   v8\n",
       "13.0  v15   v6   v9  v16  v12  v15  v11  v11  v13  v15  v13\n",
       "14.0   v6  v12  v13   v4  v10  v11   v5  v10  v10  v13   v3\n",
       "15.0  v16  v10  v11  v10  v16  v10  v15   v8  v15  v10  v18\n",
       "16.0  v11  v11   v6  v12  v11  v12  v17  v13  v11  v11  v16\n",
       "17.0  v17   v4  v10  v11   v3  v17   v4   v6  v12  v12  v17\n",
       "18.0   v2   v5  v17   v5  v17  v16  v16   v9  v17  v17  v11\n",
       "NaN   v19  v19  v19  v19  v19  v19  v19  v19  v19  v19  v19"
      ]
     },
     "execution_count": 33,
     "metadata": {},
     "output_type": "execute_result"
    }
   ],
   "source": [
    "ranked_b_list = [b.sort_values().reset_index().set_index('v19') for b in b_list]\n",
    "q = pd.concat(ranked_b_list, axis=1)\n",
    "q['gt'] = a.sort_values().reset_index().set_index('v19')\n",
    "q.columns = pt_labels + ['gt']\n",
    "q = q[['gt'] + pt_labels]\n",
    "q"
   ]
  },
  {
   "cell_type": "code",
   "execution_count": 34,
   "metadata": {},
   "outputs": [],
   "source": [
    "q.to_csv('topologyB-reg1_allData_rankings.csv')"
   ]
  },
  {
   "cell_type": "code",
   "execution_count": null,
   "metadata": {},
   "outputs": [],
   "source": []
  }
 ],
 "metadata": {
  "kernelspec": {
   "display_name": "gayles",
   "language": "python",
   "name": "python3"
  },
  "language_info": {
   "codemirror_mode": {
    "name": "ipython",
    "version": 3
   },
   "file_extension": ".py",
   "mimetype": "text/x-python",
   "name": "python",
   "nbconvert_exporter": "python",
   "pygments_lexer": "ipython3",
   "version": "3.9.19"
  },
  "orig_nbformat": 4
 },
 "nbformat": 4,
 "nbformat_minor": 2
}
