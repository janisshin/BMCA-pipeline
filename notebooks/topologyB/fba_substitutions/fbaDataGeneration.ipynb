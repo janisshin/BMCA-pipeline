{
 "cells": [
  {
   "cell_type": "markdown",
   "metadata": {},
   "source": [
    "Usually, this fba data is generated in a terminal, so this notebook is just an example for future use.\n",
    "\n",
    "The code runs faster in the terminal than in this notebook. Running the code in this notebook will cause lag due to the large text output"
   ]
  },
  {
   "cell_type": "code",
   "execution_count": null,
   "metadata": {},
   "outputs": [],
   "source": [
    "import os\n",
    "os.chdir('../../..')\n",
    "from src import util\n",
    "os.chdir('notebooks/topologyB/fba_substitutions/')"
   ]
  },
  {
   "cell_type": "code",
   "execution_count": null,
   "metadata": {},
   "outputs": [],
   "source": [
    "ant_file = '../../../models/Antimony/JSexample22.ant'\n",
    "sbml_path = \"../../../models/sbml/JSexample22_cobra.xml\" \n",
    "\n",
    "pt_levels = [0.1, 0.2, 0.3, 0.4, 0.5, 1.01, 1.5, 3, 5, 7, 10]\n",
    "for pt in pt_levels:\n",
    "    data_path=f\"../../../data/interim/generated_data/JSexample22-noReg/JSexample22_{pt}.csv\"\n",
    "    util.make_FBA_test_data(ant_file, sbml_path, data_path, 6, 8, pt)"
   ]
  },
  {
   "cell_type": "code",
   "execution_count": null,
   "metadata": {},
   "outputs": [],
   "source": [
    "ant_file = '../../../models/Antimony/JSexample22_reg1.ant'\n",
    "sbml_path = \"../../../models/sbml/JSexample22_cobra.xml\" \n",
    "\n",
    "pt_levels = [0.1, 0.2, 0.3, 0.4, 0.5, 1.01, 1.5, 3, 5, 7, 10]\n",
    "for pt in pt_levels:\n",
    "    data_path=f\"../../../data/interim/generated_data/JSexample22-reg1/JSexample22_{pt}.csv\"\n",
    "    util.make_FBA_test_data(ant_file, sbml_path, data_path, 4, 8, pt)"
   ]
  },
  {
   "cell_type": "code",
   "execution_count": null,
   "metadata": {},
   "outputs": [],
   "source": [
    "ant_file = '../../../models/Antimony/JSexample22_reg2.ant'\n",
    "sbml_path = \"../../../models/sbml/JSexample22_cobra.xml\" \n",
    "\n",
    "pt_levels = [0.1, 0.2, 0.3, 0.4, 0.5, 1.01, 1.5, 3, 5, 7, 10]\n",
    "for pt in pt_levels:\n",
    "    data_path=f\"../../../data/interim/generated_data/JSexample22-reg2/JSexample22_{pt}.csv\"\n",
    "    util.make_FBA_test_data(ant_file, sbml_path, data_path, 6, 8, pt)"
   ]
  }
 ],
 "metadata": {
  "kernelspec": {
   "display_name": "gayles",
   "language": "python",
   "name": "python3"
  },
  "language_info": {
   "codemirror_mode": {
    "name": "ipython",
    "version": 3
   },
   "file_extension": ".py",
   "mimetype": "text/x-python",
   "name": "python",
   "nbconvert_exporter": "python",
   "pygments_lexer": "ipython3",
   "version": "3.9.19"
  }
 },
 "nbformat": 4,
 "nbformat_minor": 2
}
