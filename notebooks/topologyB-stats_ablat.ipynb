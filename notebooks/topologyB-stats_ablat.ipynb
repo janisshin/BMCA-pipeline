{
 "cells": [
  {
   "cell_type": "markdown",
   "metadata": {},
   "source": [
    "## Setup"
   ]
  },
  {
   "cell_type": "code",
   "execution_count": 1,
   "metadata": {},
   "outputs": [],
   "source": [
    "topology = 'B'\n",
    "omission = 'omitIntMet'\n",
    "ablation = 25"
   ]
  },
  {
   "cell_type": "code",
   "execution_count": 2,
   "metadata": {},
   "outputs": [],
   "source": [
    "from scipy.stats import f_oneway\n",
    "from scipy.stats import kruskal\n",
    "\n",
    "import pandas as pd\n",
    "import numpy as np\n",
    "import tellurium as te\n",
    "\n",
    "import random\n",
    "\n",
    "import statsmodels.api as sm\n",
    "from statsmodels.formula.api import ols\n",
    "from statsmodels.stats.anova import AnovaRM\n",
    "from statsmodels.multivariate.manova import MANOVA\n",
    "\n",
    "import scipy as sp\n",
    "\n",
    "import seaborn as sns\n",
    "import matplotlib.pyplot as plt\n",
    "from matplotlib.colors import LogNorm\n",
    "\n",
    "import os\n",
    "\n",
    "import gzip\n",
    "import cloudpickle"
   ]
  },
  {
   "cell_type": "code",
   "execution_count": 3,
   "metadata": {},
   "outputs": [
    {
     "name": "stderr",
     "output_type": "stream",
     "text": [
      "WARNING (aesara.configdefaults): g++ not available, if using conda: `conda install m2w64-toolchain`\n",
      "WARNING (aesara.configdefaults): g++ not detected!  Aesara will be unable to compile C-implementations and will default to Python. Performance may be severely degraded. To remove this warning, set Aesara flags cxx to an empty string.\n",
      "WARNING (aesara.tensor.blas): Using NumPy C-API based implementation for BLAS functions.\n"
     ]
    }
   ],
   "source": [
    "os.chdir('..')\n",
    "from src import antemll, util\n",
    "os.chdir('notebooks')"
   ]
  },
  {
   "cell_type": "code",
   "execution_count": 4,
   "metadata": {},
   "outputs": [],
   "source": [
    "ant_1 ='../models/Antimony/topologyB-noReg.ant' \n",
    "rr_1 = te.loada(ant_1)\n",
    "rr_1.conservedMoietyAnalysis = True\n",
    "rr_1.steadyState()\n",
    "gt_1 = rr_1.getScaledElasticityMatrix().ravel()"
   ]
  },
  {
   "cell_type": "code",
   "execution_count": 5,
   "metadata": {},
   "outputs": [],
   "source": [
    "pt_labels = ['0.5x', '1.5x', '3x', '5x']"
   ]
  },
  {
   "cell_type": "code",
   "execution_count": 6,
   "metadata": {},
   "outputs": [],
   "source": [
    "datafile05_1 = f'../data/interim/generated_data/Topology{topology}-noReg/Topology{topology}-noReg_0.5.csv'\n",
    "datafile15_1 = f'../data/interim/generated_data/Topology{topology}-noReg/Topology{topology}-noReg_1.5.csv'\n",
    "datafile3_1 = f'../data/interim/generated_data/Topology{topology}-noReg/Topology{topology}-noReg_3.csv'\n",
    "datafile5_1 = f'../data/interim/generated_data/Topology{topology}-noReg/Topology{topology}-noReg_5.csv'\n"
   ]
  },
  {
   "cell_type": "code",
   "execution_count": 26,
   "metadata": {},
   "outputs": [
    {
     "name": "stderr",
     "output_type": "stream",
     "text": [
      "No objective coefficients in model. Unclear what should be optimized\n"
     ]
    },
    {
     "name": "stdout",
     "output_type": "stream",
     "text": [
      "../models/Antimony/topologyB_cobra.ant\n"
     ]
    },
    {
     "name": "stderr",
     "output_type": "stream",
     "text": [
      "No objective coefficients in model. Unclear what should be optimized\n"
     ]
    },
    {
     "name": "stdout",
     "output_type": "stream",
     "text": [
      "../models/Antimony/topologyB_cobra.ant\n"
     ]
    },
    {
     "name": "stderr",
     "output_type": "stream",
     "text": [
      "No objective coefficients in model. Unclear what should be optimized\n"
     ]
    },
    {
     "name": "stdout",
     "output_type": "stream",
     "text": [
      "../models/Antimony/topologyB_cobra.ant\n"
     ]
    },
    {
     "name": "stderr",
     "output_type": "stream",
     "text": [
      "No objective coefficients in model. Unclear what should be optimized\n"
     ]
    },
    {
     "name": "stdout",
     "output_type": "stream",
     "text": [
      "../models/Antimony/topologyB_cobra.ant\n"
     ]
    }
   ],
   "source": [
    "BMCA_obj05 = antemll.antemll(ant_1, datafile05_1, cobra_sbml=f'../models/sbml/Topology{topology}_cobra.xml')\n",
    "BMCA_obj15 = antemll.antemll(ant_1, datafile15_1, cobra_sbml=f'../models/sbml/Topology{topology}_cobra.xml')\n",
    "BMCA_obj3 = antemll.antemll(ant_1, datafile3_1, cobra_sbml=f'../models/sbml/Topology{topology}_cobra.xml')\n",
    "BMCA_obj5 = antemll.antemll(ant_1, datafile5_1, cobra_sbml=f'../models/sbml/Topology{topology}_cobra.xml')\n"
   ]
  },
  {
   "cell_type": "code",
   "execution_count": 7,
   "metadata": {},
   "outputs": [
    {
     "name": "stderr",
     "output_type": "stream",
     "text": [
      "No objective coefficients in model. Unclear what should be optimized\n"
     ]
    },
    {
     "name": "stdout",
     "output_type": "stream",
     "text": [
      "../models/Antimony/topologyB_cobra.ant\n"
     ]
    },
    {
     "name": "stderr",
     "output_type": "stream",
     "text": [
      "No objective coefficients in model. Unclear what should be optimized\n"
     ]
    },
    {
     "name": "stdout",
     "output_type": "stream",
     "text": [
      "../models/Antimony/topologyB_cobra.ant\n"
     ]
    },
    {
     "name": "stderr",
     "output_type": "stream",
     "text": [
      "No objective coefficients in model. Unclear what should be optimized\n"
     ]
    },
    {
     "name": "stdout",
     "output_type": "stream",
     "text": [
      "../models/Antimony/topologyB_cobra.ant\n"
     ]
    },
    {
     "name": "stderr",
     "output_type": "stream",
     "text": [
      "No objective coefficients in model. Unclear what should be optimized\n"
     ]
    },
    {
     "name": "stdout",
     "output_type": "stream",
     "text": [
      "../models/Antimony/topologyB_cobra.ant\n"
     ]
    }
   ],
   "source": [
    "BMCA_obj05_1 = antemll.antemll(ant_1, datafile05_1, cobra_sbml=f'../models/sbml/Topology{topology}_cobra.xml')\n",
    "BMCA_obj15_1 = antemll.antemll(ant_1, datafile15_1, cobra_sbml=f'../models/sbml/Topology{topology}_cobra.xml')\n",
    "BMCA_obj3_1 = antemll.antemll(ant_1, datafile3_1, cobra_sbml=f'../models/sbml/Topology{topology}_cobra.xml')\n",
    "BMCA_obj5_1 = antemll.antemll(ant_1, datafile5_1, cobra_sbml=f'../models/sbml/Topology{topology}_cobra.xml')\n",
    "\n",
    "BMCA_obj05_1.vn = BMCA_obj05_1.vn.sample(frac=.25, axis=1, random_state=1)\n",
    "BMCA_obj15_1.vn = BMCA_obj15_1.vn.sample(frac=.25, axis=1, random_state=1)\n",
    "BMCA_obj3_1.vn = BMCA_obj3_1.vn.sample(frac=.25, axis=1, random_state=1)\n",
    "BMCA_obj5_1.vn = BMCA_obj5_1.vn.sample(frac=.25, axis=1, random_state=1)"
   ]
  },
  {
   "cell_type": "code",
   "execution_count": 8,
   "metadata": {},
   "outputs": [
    {
     "name": "stderr",
     "output_type": "stream",
     "text": [
      "No objective coefficients in model. Unclear what should be optimized\n"
     ]
    },
    {
     "name": "stdout",
     "output_type": "stream",
     "text": [
      "../models/Antimony/topologyB_cobra.ant\n"
     ]
    },
    {
     "name": "stderr",
     "output_type": "stream",
     "text": [
      "No objective coefficients in model. Unclear what should be optimized\n"
     ]
    },
    {
     "name": "stdout",
     "output_type": "stream",
     "text": [
      "../models/Antimony/topologyB_cobra.ant\n"
     ]
    },
    {
     "name": "stderr",
     "output_type": "stream",
     "text": [
      "No objective coefficients in model. Unclear what should be optimized\n"
     ]
    },
    {
     "name": "stdout",
     "output_type": "stream",
     "text": [
      "../models/Antimony/topologyB_cobra.ant\n"
     ]
    },
    {
     "name": "stderr",
     "output_type": "stream",
     "text": [
      "No objective coefficients in model. Unclear what should be optimized\n"
     ]
    },
    {
     "name": "stdout",
     "output_type": "stream",
     "text": [
      "../models/Antimony/topologyB_cobra.ant\n"
     ]
    }
   ],
   "source": [
    "BMCA_obj05_2 = antemll.antemll(ant_1, datafile05_1, cobra_sbml=f'../models/sbml/Topology{topology}_cobra.xml')\n",
    "BMCA_obj15_2 = antemll.antemll(ant_1, datafile15_1, cobra_sbml=f'../models/sbml/Topology{topology}_cobra.xml')\n",
    "BMCA_obj3_2 = antemll.antemll(ant_1, datafile3_1, cobra_sbml=f'../models/sbml/Topology{topology}_cobra.xml')\n",
    "BMCA_obj5_2 = antemll.antemll(ant_1, datafile5_1, cobra_sbml=f'../models/sbml/Topology{topology}_cobra.xml')\n",
    "\n",
    "BMCA_obj05_2.vn = BMCA_obj05_2.vn.sample(frac=.25, axis=1, random_state=2)\n",
    "BMCA_obj15_2.vn = BMCA_obj15_2.vn.sample(frac=.25, axis=1, random_state=2)\n",
    "BMCA_obj3_2.vn = BMCA_obj3_2.vn.sample(frac=.25, axis=1, random_state=2)\n",
    "BMCA_obj5_2.vn = BMCA_obj5_2.vn.sample(frac=.25, axis=1, random_state=2)"
   ]
  },
  {
   "cell_type": "code",
   "execution_count": 9,
   "metadata": {},
   "outputs": [
    {
     "name": "stderr",
     "output_type": "stream",
     "text": [
      "No objective coefficients in model. Unclear what should be optimized\n"
     ]
    },
    {
     "name": "stdout",
     "output_type": "stream",
     "text": [
      "../models/Antimony/topologyB_cobra.ant\n"
     ]
    },
    {
     "name": "stderr",
     "output_type": "stream",
     "text": [
      "No objective coefficients in model. Unclear what should be optimized\n"
     ]
    },
    {
     "name": "stdout",
     "output_type": "stream",
     "text": [
      "../models/Antimony/topologyB_cobra.ant\n"
     ]
    },
    {
     "name": "stderr",
     "output_type": "stream",
     "text": [
      "No objective coefficients in model. Unclear what should be optimized\n"
     ]
    },
    {
     "name": "stdout",
     "output_type": "stream",
     "text": [
      "../models/Antimony/topologyB_cobra.ant\n"
     ]
    },
    {
     "name": "stderr",
     "output_type": "stream",
     "text": [
      "No objective coefficients in model. Unclear what should be optimized\n"
     ]
    },
    {
     "name": "stdout",
     "output_type": "stream",
     "text": [
      "../models/Antimony/topologyB_cobra.ant\n"
     ]
    }
   ],
   "source": [
    "BMCA_obj05_3 = antemll.antemll(ant_1, datafile05_1, cobra_sbml=f'../models/sbml/Topology{topology}_cobra.xml')\n",
    "BMCA_obj15_3 = antemll.antemll(ant_1, datafile15_1, cobra_sbml=f'../models/sbml/Topology{topology}_cobra.xml')\n",
    "BMCA_obj3_3 = antemll.antemll(ant_1, datafile3_1, cobra_sbml=f'../models/sbml/Topology{topology}_cobra.xml')\n",
    "BMCA_obj5_3 = antemll.antemll(ant_1, datafile5_1, cobra_sbml=f'../models/sbml/Topology{topology}_cobra.xml')\n",
    "\n",
    "BMCA_obj05_3.vn = BMCA_obj05_3.vn.sample(frac=.25, axis=1, random_state=3)\n",
    "BMCA_obj15_3.vn = BMCA_obj15_3.vn.sample(frac=.25, axis=1, random_state=3)\n",
    "BMCA_obj3_3.vn = BMCA_obj3_3.vn.sample(frac=.25, axis=1, random_state=3)\n",
    "BMCA_obj5_3.vn = BMCA_obj5_3.vn.sample(frac=.25, axis=1, random_state=3)"
   ]
  },
  {
   "cell_type": "markdown",
   "metadata": {},
   "source": [
    "## Downloading all the trace files"
   ]
  },
  {
   "cell_type": "code",
   "execution_count": 10,
   "metadata": {},
   "outputs": [],
   "source": [
    "picklefolder = '../data/results/tracePickles/'\n",
    "\n",
    "with gzip.open(picklefolder + f'topologyB-noReg_{omission}_fluxAblat{ablation}_traces-1.pgz', \"rb\") as f:\n",
    "    traces_1 = cloudpickle.load(f, encoding='bytes')\n",
    "\n",
    "with gzip.open(picklefolder + f'topologyB-noReg_{omission}_fluxAblat{ablation}_traces-2.pgz', \"rb\") as f:\n",
    "    traces_2 = cloudpickle.load(f, encoding='bytes')\n",
    "\n",
    "with gzip.open(picklefolder + f'topologyB-noReg_{omission}_fluxAblat{ablation}_traces-3.pgz', \"rb\") as f:\n",
    "    traces_3 = cloudpickle.load(f, encoding='bytes')"
   ]
  },
  {
   "cell_type": "code",
   "execution_count": 11,
   "metadata": {},
   "outputs": [],
   "source": [
    "trace05_1=traces_1['trace05']\n",
    "trace15_1=traces_1['trace15']\n",
    "trace3_1=traces_1['trace3']\n",
    "trace5_1=traces_1['trace5']\n",
    "\n",
    "trace05_2=traces_2['trace05']\n",
    "trace15_2=traces_2['trace15']\n",
    "trace3_2=traces_2['trace3']\n",
    "trace5_2=traces_2['trace5']\n",
    "\n",
    "trace05_3=traces_3['trace05']\n",
    "trace15_3=traces_3['trace15']\n",
    "trace3_3=traces_3['trace3']\n",
    "trace5_3=traces_3['trace5']"
   ]
  },
  {
   "cell_type": "markdown",
   "metadata": {},
   "source": [
    "## establishing elasticity means"
   ]
  },
  {
   "cell_type": "code",
   "execution_count": 12,
   "metadata": {},
   "outputs": [
    {
     "name": "stderr",
     "output_type": "stream",
     "text": [
      "arviz - WARNING - Shape validation failed: input_shape: (1, 1000), minimum_shape: (chains=2, draws=4)\n",
      "arviz - WARNING - Shape validation failed: input_shape: (1, 1000), minimum_shape: (chains=2, draws=4)\n",
      "arviz - WARNING - Shape validation failed: input_shape: (1, 1000), minimum_shape: (chains=2, draws=4)\n",
      "arviz - WARNING - Shape validation failed: input_shape: (1, 1000), minimum_shape: (chains=2, draws=4)\n",
      "arviz - WARNING - Shape validation failed: input_shape: (1, 1000), minimum_shape: (chains=2, draws=4)\n",
      "arviz - WARNING - Shape validation failed: input_shape: (1, 1000), minimum_shape: (chains=2, draws=4)\n",
      "arviz - WARNING - Shape validation failed: input_shape: (1, 1000), minimum_shape: (chains=2, draws=4)\n",
      "arviz - WARNING - Shape validation failed: input_shape: (1, 1000), minimum_shape: (chains=2, draws=4)\n",
      "arviz - WARNING - Shape validation failed: input_shape: (1, 1000), minimum_shape: (chains=2, draws=4)\n",
      "arviz - WARNING - Shape validation failed: input_shape: (1, 1000), minimum_shape: (chains=2, draws=4)\n",
      "arviz - WARNING - Shape validation failed: input_shape: (1, 1000), minimum_shape: (chains=2, draws=4)\n",
      "arviz - WARNING - Shape validation failed: input_shape: (1, 1000), minimum_shape: (chains=2, draws=4)\n"
     ]
    }
   ],
   "source": [
    "Ex05_1 = util.get_az_summary(trace05_1)\n",
    "Ex05_2 = util.get_az_summary(trace05_2)\n",
    "Ex05_3 = util.get_az_summary(trace05_3)\n",
    "\n",
    "Ex15_1 = util.get_az_summary(trace15_1)\n",
    "Ex15_2 = util.get_az_summary(trace15_2)\n",
    "Ex15_3 = util.get_az_summary(trace15_3)\n",
    "\n",
    "Ex3_1 = util.get_az_summary(trace3_1)\n",
    "Ex3_2 = util.get_az_summary(trace3_2)\n",
    "Ex3_3 = util.get_az_summary(trace3_3)\n",
    "\n",
    "Ex5_1 = util.get_az_summary(trace5_1)\n",
    "Ex5_2 = util.get_az_summary(trace5_2)\n",
    "Ex5_3 = util.get_az_summary(trace5_3)"
   ]
  },
  {
   "cell_type": "code",
   "execution_count": 13,
   "metadata": {},
   "outputs": [],
   "source": [
    "# free"
   ]
  },
  {
   "cell_type": "markdown",
   "metadata": {},
   "source": [
    "## organizing elasticity values into pd dfs "
   ]
  },
  {
   "cell_type": "code",
   "execution_count": 14,
   "metadata": {},
   "outputs": [],
   "source": [
    "ela_1_values = np.column_stack([Ex05_1,  \n",
    "                                Ex15_1, Ex3_1, Ex5_1])\n",
    "\n",
    "ela_2_values = np.column_stack([Ex05_2, Ex15_2, Ex3_2, Ex5_2])\n",
    "\n",
    "ela_3_values = np.column_stack([Ex05_3, Ex15_3, Ex3_3, Ex5_3])\n",
    "\n",
    "pt_labels = ['0.5x', '1.5x', '3x', '5x']\n",
    "\n",
    "ela_df_1 = pd.DataFrame(ela_1_values, columns=pt_labels)\n",
    "ela_df_2 = pd.DataFrame(ela_2_values, columns=pt_labels)\n",
    "ela_df_3 = pd.DataFrame(ela_3_values, columns=pt_labels)\n",
    "\n",
    "ela_df_1['median'] = ela_df_1.median(axis=1)\n",
    "ela_df_1['min'] = ela_df_1.min(axis=1)\n",
    "ela_df_1['max'] = ela_df_1.max(axis=1)\n",
    "\n",
    "ela_df_2['median'] = ela_df_2.median(axis=1)\n",
    "ela_df_2['min'] = ela_df_2.min(axis=1)\n",
    "ela_df_2['max'] = ela_df_2.max(axis=1)\n",
    "\n",
    "ela_df_3['median'] = ela_df_3.median(axis=1)\n",
    "ela_df_3['min'] = ela_df_3.min(axis=1)\n",
    "ela_df_3['max'] = ela_df_3.max(axis=1)"
   ]
  },
  {
   "cell_type": "markdown",
   "metadata": {},
   "source": [
    "## graphing the elasticity predictions over perturbation level and regulator level"
   ]
  },
  {
   "cell_type": "code",
   "execution_count": 15,
   "metadata": {},
   "outputs": [],
   "source": [
    "lower_y_1 = np.array(ela_df_1['median']) - ela_df_1['min'].values\n",
    "upper_y_1 =np.array(ela_df_1['max'].values) - np.array(ela_df_1['median'])\n",
    "errors_1 = [lower_y_1, upper_y_1]\n",
    "\n",
    "lower_y_2 = np.array(ela_df_2['median']) - ela_df_2['min'].values\n",
    "upper_y_2 =np.array(ela_df_2['max'].values) - np.array(ela_df_2['median'])\n",
    "errors_2 = [lower_y_2, upper_y_2]\n",
    "\n",
    "lower_y_3 = np.array(ela_df_3['median']) - ela_df_3['min'].values\n",
    "upper_y_3 =np.array(ela_df_3['max'].values) - np.array(ela_df_3['median'])\n",
    "errors_3 = [lower_y_3, upper_y_3]\n"
   ]
  },
  {
   "cell_type": "code",
   "execution_count": 16,
   "metadata": {},
   "outputs": [
    {
     "name": "stdout",
     "output_type": "stream",
     "text": [
      "0.25333\n",
      "0.25333\n",
      "0.25333\n"
     ]
    }
   ],
   "source": [
    "# MAE\n",
    "print(round(sum(abs(ela_df_1['median']-gt_1))/len(gt_1),5))\n",
    "print(round(sum(abs(ela_df_2['median']-gt_1))/len(gt_1),5))\n",
    "print(round(sum(abs(ela_df_3['median']-gt_1))/len(gt_1),5))"
   ]
  },
  {
   "cell_type": "code",
   "execution_count": 17,
   "metadata": {},
   "outputs": [
    {
     "data": {
      "image/png": "[encoded data removed]",
      "text/plain": [
       "<Figure size 640x480 with 1 Axes>"
      ]
     },
     "metadata": {},
     "output_type": "display_data"
    }
   ],
   "source": [
    "plt.axes().set_aspect('equal', 'datalim')\n",
    "\n",
    "#plt.xlim((-5,5))\n",
    "#plt.ylim((-4,4))\n",
    "\n",
    "plt.errorbar(gt_1, ela_df_1['median'], yerr=errors_1, alpha=0.4, fmt='o', label='noReg', zorder=100)\n",
    "plt.errorbar(gt_1, ela_df_2['median'], yerr=errors_2, alpha=0.5, fmt='o', label='reg1', zorder=50)\n",
    "plt.errorbar(gt_1, ela_df_3['median'], yerr=errors_3, alpha=0.5, fmt='o', label='reg2', zorder=20)\n",
    "# plt.legend(bbox_to_anchor=(1.04, 1), loc=\"upper left\")\n",
    "plt.legend(loc=\"upper left\")\n",
    "plt.axline([0, 0], [1, 1], c='gray', linestyle='dashed', zorder=1, linewidth=2)\n",
    "plt.grid(True, which='both', axis='both', zorder=0)\n",
    "plt.xlabel('ground truth elasticity values', size=14)\n",
    "plt.ylabel('predicted elasticity values', size=14)\n",
    "plt.savefig(f'../data/results/raw_svg_figures/top{topology}/top{topology}-{omission}-combinedElasticities.svg', format=\"svg\")"
   ]
  },
  {
   "cell_type": "markdown",
   "metadata": {},
   "source": [
    "### graphing the elasticity errors"
   ]
  },
  {
   "cell_type": "code",
   "execution_count": 18,
   "metadata": {},
   "outputs": [
    {
     "data": {
      "text/plain": [
       "<matplotlib.legend.Legend at 0x24e398ef880>"
      ]
     },
     "execution_count": 18,
     "metadata": {},
     "output_type": "execute_result"
    },
    {
     "data": {
      "image/png": "[encoded data removed]",
      "text/plain": [
       "<Figure size 640x480 with 1 Axes>"
      ]
     },
     "metadata": {},
     "output_type": "display_data"
    }
   ],
   "source": [
    "plt.grid()\n",
    "\n",
    "plt.bar(gt_1,gt_1-ela_df_1['median'], alpha=0.5, label='noReg', zorder=200)\n",
    "plt.bar(gt_1,gt_1-ela_df_2['median'], alpha=0.5, label='reg1', zorder=200)\n",
    "plt.bar(gt_1,gt_1-ela_df_3['median'], alpha=0.5, label='reg2', zorder=200)\n",
    "\n",
    "plt.xlabel('ground truth elasticity values', size=14)\n",
    "plt.ylabel('absolute error', size=14)\n",
    "\n",
    "plt.legend(loc=\"upper left\")"
   ]
  },
  {
   "cell_type": "markdown",
   "metadata": {},
   "source": [
    "## Calculating control coefficients"
   ]
  },
  {
   "cell_type": "code",
   "execution_count": 19,
   "metadata": {},
   "outputs": [
    {
     "name": "stderr",
     "output_type": "stream",
     "text": [
      "Sampling: [Ex_capacity_entries, Ex_kinetic_entries, Ey_capacity_entries, Ey_kinetic_entries]\n",
      "arviz - WARNING - Shape validation failed: input_shape: (1, 500), minimum_shape: (chains=2, draws=4)\n",
      "Sampling: [Ex_capacity_entries, Ex_kinetic_entries, Ey_capacity_entries, Ey_kinetic_entries]\n",
      "arviz - WARNING - Shape validation failed: input_shape: (1, 500), minimum_shape: (chains=2, draws=4)\n",
      "Sampling: [Ex_capacity_entries, Ex_kinetic_entries, Ey_capacity_entries, Ey_kinetic_entries]\n",
      "arviz - WARNING - Shape validation failed: input_shape: (1, 500), minimum_shape: (chains=2, draws=4)\n",
      "Sampling: [Ex_capacity_entries, Ex_kinetic_entries, Ey_capacity_entries, Ey_kinetic_entries]\n",
      "arviz - WARNING - Shape validation failed: input_shape: (1, 500), minimum_shape: (chains=2, draws=4)\n",
      "Sampling: [Ex_capacity_entries, Ex_kinetic_entries, Ey_capacity_entries, Ey_kinetic_entries]\n",
      "arviz - WARNING - Shape validation failed: input_shape: (1, 500), minimum_shape: (chains=2, draws=4)\n",
      "Sampling: [Ex_capacity_entries, Ex_kinetic_entries, Ey_capacity_entries, Ey_kinetic_entries]\n",
      "arviz - WARNING - Shape validation failed: input_shape: (1, 500), minimum_shape: (chains=2, draws=4)\n",
      "Sampling: [Ex_capacity_entries, Ex_kinetic_entries, Ey_capacity_entries, Ey_kinetic_entries]\n",
      "arviz - WARNING - Shape validation failed: input_shape: (1, 500), minimum_shape: (chains=2, draws=4)\n",
      "Sampling: [Ex_capacity_entries, Ex_kinetic_entries, Ey_capacity_entries, Ey_kinetic_entries]\n",
      "arviz - WARNING - Shape validation failed: input_shape: (1, 500), minimum_shape: (chains=2, draws=4)\n",
      "Sampling: [Ex_capacity_entries, Ex_kinetic_entries, Ey_capacity_entries, Ey_kinetic_entries]\n",
      "arviz - WARNING - Shape validation failed: input_shape: (1, 500), minimum_shape: (chains=2, draws=4)\n",
      "Sampling: [Ex_capacity_entries, Ex_kinetic_entries, Ey_capacity_entries, Ey_kinetic_entries]\n",
      "arviz - WARNING - Shape validation failed: input_shape: (1, 500), minimum_shape: (chains=2, draws=4)\n",
      "Sampling: [Ex_capacity_entries, Ex_kinetic_entries, Ey_capacity_entries, Ey_kinetic_entries]\n",
      "arviz - WARNING - Shape validation failed: input_shape: (1, 500), minimum_shape: (chains=2, draws=4)\n",
      "Sampling: [Ex_capacity_entries, Ex_kinetic_entries, Ey_capacity_entries, Ey_kinetic_entries]\n",
      "arviz - WARNING - Shape validation failed: input_shape: (1, 500), minimum_shape: (chains=2, draws=4)\n"
     ]
    }
   ],
   "source": [
    "Ex05_prior_1= util.get_az_summary(util.run_prior_predictive(BMCA_obj05_1)['prior']['Ex'])\n",
    "Ex15_prior_1= util.get_az_summary(util.run_prior_predictive(BMCA_obj15_1)['prior']['Ex'])\n",
    "Ex3_prior_1= util.get_az_summary(util.run_prior_predictive(BMCA_obj3_1)['prior']['Ex'])\n",
    "Ex5_prior_1= util.get_az_summary(util.run_prior_predictive(BMCA_obj5_1)['prior']['Ex'])\n",
    "\n",
    "Ex05_prior_2= util.get_az_summary(util.run_prior_predictive(BMCA_obj05_2)['prior']['Ex'])\n",
    "Ex15_prior_2= util.get_az_summary(util.run_prior_predictive(BMCA_obj15_2)['prior']['Ex'])\n",
    "Ex3_prior_2= util.get_az_summary(util.run_prior_predictive(BMCA_obj3_2)['prior']['Ex'])\n",
    "Ex5_prior_2= util.get_az_summary(util.run_prior_predictive(BMCA_obj5_2)['prior']['Ex'])\n",
    "\n",
    "Ex05_prior_3= util.get_az_summary(util.run_prior_predictive(BMCA_obj05_3)['prior']['Ex'])\n",
    "Ex15_prior_3= util.get_az_summary(util.run_prior_predictive(BMCA_obj15_3)['prior']['Ex'])\n",
    "Ex3_prior_3= util.get_az_summary(util.run_prior_predictive(BMCA_obj3_3)['prior']['Ex'])\n",
    "Ex5_prior_3= util.get_az_summary(util.run_prior_predictive(BMCA_obj5_3)['prior']['Ex'])\n"
   ]
  },
  {
   "cell_type": "markdown",
   "metadata": {},
   "source": [
    "## Calculating CCC values and making graphs"
   ]
  },
  {
   "cell_type": "code",
   "execution_count": 24,
   "metadata": {},
   "outputs": [],
   "source": [
    "gtCCC = pd.DataFrame(rr_1.getScaledConcentrationControlCoefficientMatrix(), index=rr_1.getFloatingSpeciesIds(), columns=rr_1.getReactionIds())"
   ]
  },
  {
   "cell_type": "markdown",
   "metadata": {},
   "source": [
    "### priors"
   ]
  },
  {
   "cell_type": "code",
   "execution_count": 29,
   "metadata": {},
   "outputs": [],
   "source": [
    "priorCCC05 = util.estimate_CCCs(BMCA_obj05, Ex05_prior_1.reshape((19,-1)))\n",
    "priorCCC15 = util.estimate_CCCs(BMCA_obj15, Ex15_prior_1.reshape((19,-1)))\n",
    "priorCCC3 = util.estimate_CCCs(BMCA_obj3, Ex3_prior_1.reshape((19,-1)))\n",
    "priorCCC5 = util.estimate_CCCs(BMCA_obj5, Ex5_prior_1.reshape((19,-1)))"
   ]
  },
  {
   "cell_type": "raw",
   "metadata": {
    "vscode": {
     "languageId": "raw"
    }
   },
   "source": [
    "priorCCC05_1 = util.estimate_CCCs(BMCA_obj05, Ex05_prior_1.reshape((19,-1)))\n",
    "priorCCC15_1 = util.estimate_CCCs(BMCA_obj15, Ex15_prior_1.reshape((19,-1)))\n",
    "priorCCC3_1 = util.estimate_CCCs(BMCA_obj3, Ex3_prior_1.reshape((19,-1)))\n",
    "priorCCC5_1 = util.estimate_CCCs(BMCA_obj5, Ex5_prior_1.reshape((19,-1)))\n",
    "\n",
    "priorCCC05_2 = util.estimate_CCCs(BMCA_obj05_2, Ex05_prior_2.reshape((19,-1)))\n",
    "priorCCC15_2 = util.estimate_CCCs(BMCA_obj15_2, Ex15_prior_2.reshape((19,-1)))\n",
    "priorCCC3_2 = util.estimate_CCCs(BMCA_obj3_2, Ex3_prior_2.reshape((19,-1)))\n",
    "priorCCC5_2 = util.estimate_CCCs(BMCA_obj5_2, Ex5_prior_2.reshape((19,-1)))\n",
    "\n",
    "priorCCC05_3 = util.estimate_CCCs(BMCA_obj05_3, Ex05_prior_3.reshape((19,-1)))\n",
    "priorCCC15_3 = util.estimate_CCCs(BMCA_obj15_3, Ex15_prior_3.reshape((19,-1)))\n",
    "priorCCC3_3 = util.estimate_CCCs(BMCA_obj3_3, Ex3_prior_3.reshape((19,-1)))\n",
    "priorCCC5_3 = util.estimate_CCCs(BMCA_obj5_3, Ex5_prior_3.reshape((19,-1)))\n"
   ]
  },
  {
   "cell_type": "raw",
   "metadata": {
    "vscode": {
     "languageId": "raw"
    }
   },
   "source": [
    "priorCCCs_1 = [priorCCC05_1, priorCCC15_1, priorCCC3_1, priorCCC5_1]\n",
    "priorCCCs_2 = [priorCCC05_2, priorCCC15_2, priorCCC3_2, priorCCC5_2]\n",
    "priorCCCs_3 = [priorCCC05_3, priorCCC15_3, priorCCC3_3, priorCCC5_3]"
   ]
  },
  {
   "cell_type": "code",
   "execution_count": 30,
   "metadata": {},
   "outputs": [],
   "source": [
    "priorCCCs = [priorCCC05, priorCCC15, priorCCC3, priorCCC5]"
   ]
  },
  {
   "cell_type": "code",
   "execution_count": 31,
   "metadata": {},
   "outputs": [],
   "source": [
    "priorCCC_1_meds = [-pd.DataFrame(np.median(priorCCC, axis=0), columns=rr_1.getReactionIds(), index=rr_1.getFloatingSpeciesIds()) for priorCCC in priorCCCs]\n",
    "priorCCC_1_meds = pd.concat([i.melt()['value'] for i in priorCCC_1_meds], axis=1).values\n",
    "priorCCC_1_meds = pd.DataFrame(priorCCC_1_meds, columns=pt_labels)\n",
    "priorCCC_1_meds['median'] = priorCCC_1_meds.median(axis=1)\n",
    "priorCCC_1_meds['min'] = priorCCC_1_meds.min(axis=1)\n",
    "priorCCC_1_meds['max'] = priorCCC_1_meds.max(axis=1)\n",
    "# priorCCC_1_meds"
   ]
  },
  {
   "cell_type": "code",
   "execution_count": 18,
   "metadata": {},
   "outputs": [],
   "source": [
    "priorCCC_2_meds = [-pd.DataFrame(np.median(priorCCC, axis=0), columns=rr_1.getReactionIds(), index=rr_1.getFloatingSpeciesIds()) for priorCCC in priorCCCs_2]\n",
    "priorCCC_2_meds = pd.concat([i.melt()['value'] for i in priorCCC_2_meds], axis=1).values\n",
    "priorCCC_2_meds = pd.DataFrame(priorCCC_2_meds, columns=pt_labels)\n",
    "priorCCC_2_meds['median'] = priorCCC_2_meds.median(axis=1)\n",
    "priorCCC_2_meds['min'] = priorCCC_2_meds.min(axis=1)\n",
    "priorCCC_2_meds['max'] = priorCCC_2_meds.max(axis=1)\n",
    "# priorCCC_2_meds"
   ]
  },
  {
   "cell_type": "code",
   "execution_count": 19,
   "metadata": {},
   "outputs": [],
   "source": [
    "priorCCC_3_meds = [-pd.DataFrame(np.median(priorCCC, axis=0), columns=rr_1.getReactionIds(), index=rr_1.getFloatingSpeciesIds()) for priorCCC in priorCCCs_3]\n",
    "priorCCC_3_meds = pd.concat([i.melt()['value'] for i in priorCCC_3_meds], axis=1).values\n",
    "priorCCC_3_meds = pd.DataFrame(priorCCC_3_meds, columns=pt_labels)\n",
    "priorCCC_3_meds['median'] = priorCCC_3_meds.median(axis=1)\n",
    "priorCCC_3_meds['min'] = priorCCC_3_meds.min(axis=1)\n",
    "priorCCC_3_meds['max'] = priorCCC_3_meds.max(axis=1)\n",
    "# priorCCC_3_meds"
   ]
  },
  {
   "cell_type": "code",
   "execution_count": 20,
   "metadata": {},
   "outputs": [],
   "source": [
    "CCC_lower_y_1_prior = np.array(priorCCC_1_meds['median']) - np.array(priorCCC_1_meds['min'])\n",
    "CCC_upper_y_1_prior = np.array(priorCCC_1_meds['max']) - np.array(priorCCC_1_meds['median'])\n",
    "CCC_errors_1_prior = [CCC_lower_y_1_prior, CCC_upper_y_1_prior]\n",
    "\n",
    "CCC_lower_y_2_prior = np.array(priorCCC_2_meds['median']) - np.array(priorCCC_2_meds['min'])\n",
    "CCC_upper_y_2_prior = np.array(priorCCC_2_meds['max']) - np.array(priorCCC_2_meds['median'])\n",
    "CCC_errors_2_prior = [CCC_lower_y_2_prior, CCC_upper_y_2_prior]\n",
    "\n",
    "CCC_lower_y_3_prior = np.array(priorCCC_3_meds['median']) - np.array(priorCCC_3_meds['min'])\n",
    "CCC_upper_y_3_prior = np.array(priorCCC_3_meds['max']) - np.array(priorCCC_3_meds['median'])\n",
    "CCC_errors_3_prior = [CCC_lower_y_3_prior, CCC_upper_y_3_prior]"
   ]
  },
  {
   "cell_type": "markdown",
   "metadata": {},
   "source": [
    "### posteriors"
   ]
  },
  {
   "cell_type": "code",
   "execution_count": 21,
   "metadata": {},
   "outputs": [],
   "source": [
    "# all data\n",
    "postCCC05_1 = util.estimate_CCCs(BMCA_obj05_1, Ex05_1.reshape((19,-1)))\n",
    "postCCC15_1 = util.estimate_CCCs(BMCA_obj15_1, Ex15_1.reshape((19,-1)))\n",
    "postCCC3_1 = util.estimate_CCCs(BMCA_obj3_1, Ex3_1.reshape((19,-1)))\n",
    "postCCC5_1 = util.estimate_CCCs(BMCA_obj5_1, Ex5_1.reshape((19,-1)))\n",
    "\n",
    "postCCC05_2 = util.estimate_CCCs(BMCA_obj05_2, Ex05_2.reshape((19,-1)))\n",
    "postCCC15_2 = util.estimate_CCCs(BMCA_obj15_2, Ex15_2.reshape((19,-1)))\n",
    "postCCC3_2 = util.estimate_CCCs(BMCA_obj3_2, Ex3_2.reshape((19,-1)))\n",
    "postCCC5_2 = util.estimate_CCCs(BMCA_obj5_2, Ex5_2.reshape((19,-1)))\n",
    "\n",
    "postCCC05_3 = util.estimate_CCCs(BMCA_obj05_3, Ex05_3.reshape((19,-1)))\n",
    "postCCC15_3 = util.estimate_CCCs(BMCA_obj15_3, Ex15_3.reshape((19,-1)))\n",
    "postCCC3_3 = util.estimate_CCCs(BMCA_obj3_3, Ex3_3.reshape((19,-1)))\n",
    "postCCC5_3 = util.estimate_CCCs(BMCA_obj5_3, Ex5_3.reshape((19,-1)))\n"
   ]
  },
  {
   "cell_type": "code",
   "execution_count": 22,
   "metadata": {},
   "outputs": [],
   "source": [
    "postCCCs_1 = [postCCC05_1, postCCC15_1, postCCC3_1, postCCC5_1]\n",
    "postCCCs_2 = [postCCC05_2, postCCC15_2, postCCC3_2, postCCC5_2]\n",
    "postCCCs_3 = [postCCC05_3, postCCC15_3, postCCC3_3, postCCC5_3]"
   ]
  },
  {
   "cell_type": "code",
   "execution_count": 23,
   "metadata": {},
   "outputs": [],
   "source": [
    "postCCC_1_meds = [-pd.DataFrame(np.median(postCCC, axis=0), columns=rr_1.getReactionIds(), index=rr_1.getFloatingSpeciesIds()) for postCCC in postCCCs_1]\n",
    "postCCC_1_meds = pd.concat([i.melt()['value'] for i in postCCC_1_meds], axis=1).values\n",
    "postCCC_1_meds = pd.DataFrame(postCCC_1_meds, columns=pt_labels)\n",
    "postCCC_1_meds['median'] = postCCC_1_meds.median(axis=1)\n",
    "postCCC_1_meds['min'] = postCCC_1_meds.min(axis=1)\n",
    "postCCC_1_meds['max'] = postCCC_1_meds.max(axis=1)\n",
    "# postCCC_1_meds"
   ]
  },
  {
   "cell_type": "code",
   "execution_count": 24,
   "metadata": {},
   "outputs": [],
   "source": [
    "postCCC_2_meds = [-pd.DataFrame(np.median(postCCC, axis=0), columns=rr_1.getReactionIds(), index=rr_1.getFloatingSpeciesIds()) for postCCC in postCCCs_2]\n",
    "postCCC_2_meds = pd.concat([i.melt()['value'] for i in postCCC_2_meds], axis=1).values\n",
    "postCCC_2_meds = pd.DataFrame(postCCC_2_meds, columns=pt_labels)\n",
    "postCCC_2_meds['median'] = postCCC_2_meds.median(axis=1)\n",
    "postCCC_2_meds['min'] = postCCC_2_meds.min(axis=1)\n",
    "postCCC_2_meds['max'] = postCCC_2_meds.max(axis=1)\n",
    "# postCCC_2_meds"
   ]
  },
  {
   "cell_type": "code",
   "execution_count": 25,
   "metadata": {},
   "outputs": [],
   "source": [
    "postCCC_3_meds = [-pd.DataFrame(np.median(postCCC, axis=0), columns=rr_1.getReactionIds(), index=rr_1.getFloatingSpeciesIds()) for postCCC in postCCCs_3]\n",
    "postCCC_3_meds = pd.concat([i.melt()['value'] for i in postCCC_3_meds], axis=1).values\n",
    "postCCC_3_meds = pd.DataFrame(postCCC_3_meds, columns=pt_labels)\n",
    "postCCC_3_meds['median'] = postCCC_3_meds.median(axis=1)\n",
    "postCCC_3_meds['min'] = postCCC_3_meds.min(axis=1)\n",
    "postCCC_3_meds['max'] = postCCC_3_meds.max(axis=1)\n",
    "# postCCC_3_meds"
   ]
  },
  {
   "cell_type": "code",
   "execution_count": 26,
   "metadata": {},
   "outputs": [],
   "source": [
    "CCC_lower_y_1_post = np.array(postCCC_1_meds['median']) - np.array(postCCC_1_meds['min'])\n",
    "CCC_upper_y_1_post = np.array(postCCC_1_meds['max']) - np.array(postCCC_1_meds['median'])\n",
    "CCC_errors_1_post = [CCC_lower_y_1_post, CCC_upper_y_1_post]\n",
    "\n",
    "CCC_lower_y_2_post = np.array(postCCC_2_meds['median']) - np.array(postCCC_2_meds['min'])\n",
    "CCC_upper_y_2_post = np.array(postCCC_2_meds['max']) - np.array(postCCC_2_meds['median'])\n",
    "CCC_errors_2_post = [CCC_lower_y_2_post, CCC_upper_y_2_post]\n",
    "\n",
    "CCC_lower_y_3_post = np.array(postCCC_3_meds['median']) - np.array(postCCC_3_meds['min'])\n",
    "CCC_upper_y_3_post = np.array(postCCC_3_meds['max']) - np.array(postCCC_3_meds['median'])\n",
    "CCC_errors_3_post = [CCC_lower_y_3_post, CCC_upper_y_3_post]"
   ]
  },
  {
   "cell_type": "markdown",
   "metadata": {},
   "source": [
    "### graphs"
   ]
  },
  {
   "cell_type": "code",
   "execution_count": null,
   "metadata": {},
   "outputs": [],
   "source": [
    "plt.axes().set_aspect('equal', 'datalim')\n",
    "\n",
    "plt.errorbar(gtCCC.melt()['value'], priorCCC_1_meds['median'], yerr=CCC_errors_1_prior, alpha=0.4, fmt='o', label='prior', zorder=100, c='orange')\n",
    "plt.errorbar(gtCCC.melt()['value'], postCCC_1_meds['median'], yerr=CCC_errors_1_post, alpha=0.4, fmt='o', label='post', zorder=100, c='b')\n",
    "\n",
    "plt.legend(loc=\"upper left\")\n",
    "plt.axline([0, 0], [1, 1], c='gray', linestyle='dashed', zorder=1, linewidth=2)\n",
    "plt.grid(True, which='both', axis='both', zorder=0)\n",
    "plt.xlabel('ground truth CCC values', size=14)\n",
    "plt.ylabel('predicted CCC values', size=14)\n",
    "plt.savefig(f'../data/results/raw_svg_figures/top{topology}-{omission}-medianCCCs_1.svg', format=\"svg\")"
   ]
  },
  {
   "cell_type": "code",
   "execution_count": null,
   "metadata": {},
   "outputs": [],
   "source": [
    "plt.axes().set_aspect('equal', 'datalim')\n",
    "\n",
    "plt.errorbar(gtCCC.melt()['value'], priorCCC_2_meds['median'], yerr=CCC_errors_2_prior, alpha=0.4, fmt='o', label='prior', zorder=100, c='orange')\n",
    "plt.errorbar(gtCCC.melt()['value'], postCCC_2_meds['median'], yerr=CCC_errors_2_post, alpha=0.4, fmt='o', label='post', zorder=100, c='b')\n",
    "\n",
    "plt.legend(loc=\"upper left\")\n",
    "plt.axline([0, 0], [1, 1], c='gray', linestyle='dashed', zorder=1, linewidth=2)\n",
    "plt.grid(True, which='both', axis='both', zorder=0)\n",
    "plt.xlabel('ground truth CCC values', size=14)\n",
    "plt.ylabel('predicted CCC values', size=14)\n",
    "plt.savefig(f'../data/results/raw_svg_figures/top{topology}-{omission}-medianCCCs_2.svg', format=\"svg\")"
   ]
  },
  {
   "cell_type": "code",
   "execution_count": null,
   "metadata": {},
   "outputs": [],
   "source": [
    "plt.axes().set_aspect('equal', 'datalim')\n",
    "\n",
    "plt.ylim(-4, 7.5)\n",
    "\n",
    "plt.errorbar(gtCCC.melt()['value'], priorCCC_2_meds['median'], yerr=CCC_errors_2_prior, alpha=0.4, fmt='o', label='prior', zorder=100, c='orange')\n",
    "plt.errorbar(gtCCC.melt()['value'], postCCC_2_meds['median'], alpha=0.4, fmt='o', label='post', zorder=100, c='b') # yerr=CCC_errors_2_post\n",
    "\n",
    "plt.legend(loc=\"upper left\")\n",
    "plt.axline([0, 0], [1, 1], c='gray', linestyle='dashed', zorder=1, linewidth=2)\n",
    "plt.grid(True, which='both', axis='both', zorder=0)\n",
    "plt.xlabel('ground truth CCC values', size=14)\n",
    "plt.ylabel('predicted CCC values', size=14)\n",
    "plt.savefig(f'../data/results/raw_svg_figures/top{topology}-{omission}-medianCCCs_2_zoom.svg', format=\"svg\")"
   ]
  },
  {
   "cell_type": "code",
   "execution_count": null,
   "metadata": {},
   "outputs": [],
   "source": [
    "plt.axes().set_aspect('equal', 'datalim')\n",
    "\n",
    "plt.errorbar(gtCCC.melt()['value'], priorCCC_3_meds['median'], yerr=CCC_errors_3_prior, alpha=0.4, fmt='o', label='prior', zorder=100, c='orange')\n",
    "plt.errorbar(gtCCC.melt()['value'], postCCC_3_meds['median'], yerr=CCC_errors_3_post, alpha=0.4, fmt='o', label='post', zorder=100, c='b')\n",
    "\n",
    "plt.legend(loc=\"upper left\")\n",
    "plt.axline([0, 0], [1, 1], c='gray', linestyle='dashed', zorder=1, linewidth=2)\n",
    "plt.grid(True, which='both', axis='both', zorder=0)\n",
    "plt.xlabel('ground truth CCC values', size=14)\n",
    "plt.ylabel('predicted CCC values', size=14)\n",
    "plt.savefig(f'../data/results/raw_svg_figures/top{topology}-{omission}-medianCCCs_3.svg', format=\"svg\")"
   ]
  },
  {
   "cell_type": "code",
   "execution_count": null,
   "metadata": {},
   "outputs": [],
   "source": [
    "plt.axes().set_aspect('equal', 'datalim')\n",
    "\n",
    "plt.ylim((-4,7))\n",
    "\n",
    "plt.errorbar(gtCCC.melt()['value'], priorCCC_3_meds['median'], yerr=CCC_errors_3_prior, alpha=0.4, fmt='o', label='prior', zorder=100, c='orange')\n",
    "plt.errorbar(gtCCC.melt()['value'], postCCC_3_meds['median'], alpha=0.4, fmt='o', label='post', zorder=100, c='b') # yerr=CCC_errors_3_post,\n",
    "\n",
    "plt.legend(loc=\"upper left\")\n",
    "plt.axline([0, 0], [1, 1], c='gray', linestyle='dashed', zorder=1, linewidth=2)\n",
    "plt.grid(True, which='both', axis='both', zorder=0)\n",
    "plt.xlabel('ground truth CCC values', size=14)\n",
    "plt.ylabel('predicted CCC values', size=14)\n",
    "# plt.savefig(f'../data/results/raw_svg_figures/top{topology}-{omission}-medianCCCs_3_zoom.svg', format=\"svg\")"
   ]
  },
  {
   "cell_type": "markdown",
   "metadata": {},
   "source": []
  },
  {
   "cell_type": "markdown",
   "metadata": {},
   "source": [
    "### combined graph of CCC values"
   ]
  },
  {
   "cell_type": "code",
   "execution_count": null,
   "metadata": {},
   "outputs": [],
   "source": [
    "# Create two subplots and unpack the output array immediately\n",
    "f, ax = plt.subplots(1, 3, figsize=(16,4.5))\n",
    "\n",
    "for ii in range(3):\n",
    "    ax[ii].tick_params(axis='both', which='major', labelsize=16)\n",
    "\n",
    "ax[0].set_aspect('equal')\n",
    "ax[0].scatter(gtCCC.melt()['value'], priorCCC_1_meds['median'], alpha=0.4, label='prior', zorder=100, c='orange')\n",
    "ax[0].scatter(gtCCC.melt()['value'], postCCC_1_meds['median'], alpha=0.4, label='post', zorder=100, c='b')\n",
    "slope, intercept, _ = util.calculate_slope(gtCCC.melt()['value'], priorCCC_1_meds['median'])\n",
    "ax[0].axline((0, intercept), slope=slope, linestyle='--', alpha=0.6, color='orange', zorder=0)\n",
    "slope, intercept, _ = util.calculate_slope(gtCCC.melt()['value'], postCCC_1_meds['median'])\n",
    "ax[0].axline((0, intercept), slope=slope, linestyle='--', alpha=0.6, color='b', zorder=0)\n",
    "ax[0].axline([0, 0], [1, 1], c='gray', linestyle='dashed', zorder=1, linewidth=3)\n",
    "ax[0].set_xlim((-2.7,2.9))\n",
    "ax[0].set_ylim((-2,2.5))\n",
    "ax[0].grid()\n",
    "ax[0].legend(loc=\"lower right\", fontsize=16)\n",
    "ax[0].set_xlabel('ground truth values', fontsize=18)\n",
    "\n",
    "ax[1].set_aspect('equal', 'datalim')\n",
    "ax[1].scatter(gtCCC.melt()['value'], priorCCC_2_meds['median'], alpha=0.4, label='prior', zorder=100, c='orange')\n",
    "ax[1].scatter(gtCCC.melt()['value'], postCCC_2_meds['median'], alpha=0.4,  label='post', zorder=100, c='b')\n",
    "slope, intercept, _ = util.calculate_slope(gtCCC.melt()['value'], priorCCC_2_meds['median'])\n",
    "ax[1].axline((0, intercept), slope=slope, linestyle='--', alpha=0.6, color='orange', zorder=0)\n",
    "slope, intercept, _ = util.calculate_slope(gtCCC.melt()['value'], postCCC_2_meds['median'])\n",
    "ax[1].axline((0, intercept), slope=slope, linestyle='--', alpha=0.6, color='b', zorder=0)\n",
    "ax[1].axline([0, 0], [1, 1], c='gray', linestyle='dashed', zorder=1, linewidth=3)\n",
    "# ax[1].set_ylim((-4,8))\n",
    "ax[1].set_ylim((-2,2.5))\n",
    "ax[1].grid()\n",
    "ax[1].set_xlabel('ground truth values', fontsize=18)\n",
    "\n",
    "ax[2].set_aspect('equal', 'datalim')\n",
    "ax[2].scatter(gtCCC.melt()['value'], priorCCC_3_meds['median'], alpha=0.4, label='prior', zorder=100, c='orange')\n",
    "ax[2].scatter(gtCCC.melt()['value'], postCCC_3_meds['median'], alpha=0.4,  label='post', zorder=100, c='b')\n",
    "slope, intercept, _ = util.calculate_slope(gtCCC.melt()['value'], priorCCC_3_meds['median'])\n",
    "ax[2].axline((0, intercept), slope=slope, linestyle='--', alpha=0.6, color='orange', zorder=0)\n",
    "slope, intercept, _ = util.calculate_slope(gtCCC.melt()['value'], postCCC_3_meds['median'])\n",
    "ax[2].axline((0, intercept), slope=slope, linestyle='--', alpha=0.6, color='b', zorder=0)\n",
    "ax[2].axline([0, 0], [1, 1], c='gray', linestyle='dashed', zorder=1, linewidth=3)\n",
    "#ax[2].set_ylim((-4,8))\n",
    "ax[2].set_ylim((-2,2.5))\n",
    "ax[2].grid()\n",
    "\n",
    "ax[2].set_xlabel('ground truth values', fontsize=18)\n",
    "ax[0].set_ylabel('predicted values', fontsize=18)\n",
    "  \n",
    "f.tight_layout()\n",
    "\n",
    "# plt.savefig(f'../data/results/raw_svg_figures/top{topology}/top{topology}-{omission}-combinedCCCs.svg', format=\"svg\")"
   ]
  },
  {
   "cell_type": "code",
   "execution_count": null,
   "metadata": {},
   "outputs": [],
   "source": [
    "# Create two subplots and unpack the output array immediately\n",
    "\n",
    "plt.axes().set_aspect('equal', 'datalim')\n",
    "\n",
    "plt.scatter(gtCCC.melt()['value'], postCCC_1_meds['median'], alpha=0.4, label='noReg', zorder=300)\n",
    "plt.scatter(gtCCC.melt()['value'], postCCC_2_meds['median'], alpha=0.4,  label='reg1', zorder=200)\n",
    "plt.scatter(gtCCC.melt()['value'], postCCC_3_meds['median'], alpha=0.4,  label='reg2', zorder=100)\n",
    "\n",
    "slope, intercept, _ = util.calculate_slope(gtCCC.melt()['value'], postCCC_1_meds['median'])\n",
    "plt.axline((0, intercept), slope=slope, linestyle='--', alpha=0.6, color='tab:blue', zorder=0)\n",
    "\n",
    "slope, intercept, _ = util.calculate_slope(gtCCC.melt()['value'], postCCC_2_meds['median'])\n",
    "plt.axline((0, intercept), slope=slope, linestyle='--', alpha=0.6, color='tab:orange', zorder=0)\n",
    "\n",
    "slope, intercept, _ = util.calculate_slope(gtCCC.melt()['value'], postCCC_3_meds['median'])\n",
    "plt.axline((0, intercept), slope=slope, linestyle='--', alpha=0.6, color='tab:green', zorder=0)\n",
    "\n",
    "plt.axline([0, 0], [1, 1], c='gray', linestyle='dashed', zorder=1, linewidth=3)\n",
    "plt.grid()\n",
    "plt.legend(loc=\"lower right\", fontsize=16)\n",
    "\n",
    "plt.xlabel('ground truth values')\n",
    "plt.ylabel('predicted values')\n",
    "\n",
    "plt.ylim((-2, 5))\n",
    "\n",
    "f.tight_layout()\n",
    "\n",
    "# plt.savefig(f'../data/results/raw_svg_figures/top{topology}/top{topology}-{omission}-combinedCCCs_byAllostery.svg', format=\"svg\")"
   ]
  },
  {
   "cell_type": "code",
   "execution_count": null,
   "metadata": {},
   "outputs": [],
   "source": [
    "plt.axes().set_aspect('equal', 'datalim')\n",
    "\n",
    "plt.errorbar(gtCCC.melt()['value'], postCCC_1_meds['median'], yerr=CCC_errors_1_post, alpha=0.4, fmt='o', markersize=3, label='noReg', zorder=300)\n",
    "plt.errorbar(gtCCC.melt()['value'], postCCC_2_meds['median'], yerr=CCC_errors_2_post, alpha=0.4, fmt='o', markersize=3, label='reg1', zorder=200)\n",
    "plt.errorbar(gtCCC.melt()['value'], postCCC_3_meds['median'], yerr=CCC_errors_3_post, alpha=0.4, fmt='o', markersize=3, label='reg2', zorder=100)\n",
    "\n",
    "slope, intercept, _ = util.calculate_slope(gtCCC.melt()['value'], postCCC_1_meds['median'])\n",
    "plt.axline((0, intercept), slope=slope, linestyle='--', alpha=0.6, color='tab:blue', zorder=0)\n",
    "\n",
    "slope, intercept, _ = util.calculate_slope(gtCCC.melt()['value'], postCCC_2_meds['median'])\n",
    "plt.axline((0, intercept), slope=slope, linestyle='--', alpha=0.6, color='tab:orange', zorder=0)\n",
    "\n",
    "slope, intercept, _ = util.calculate_slope(gtCCC.melt()['value'], postCCC_3_meds['median'])\n",
    "plt.axline((0, intercept), slope=slope, linestyle='--', alpha=0.6, color='tab:green', zorder=0)\n",
    "\n",
    "plt.axline([0, 0], [1, 1], c='gray', linestyle='dashed', zorder=1, linewidth=3)\n",
    "plt.grid()\n",
    "plt.legend(loc=\"lower right\", fontsize=16)\n",
    "\n",
    "plt.xlabel('ground truth values', fontsize=18)\n",
    "plt.ylabel('predicted values', fontsize=18)\n",
    "\n",
    "plt.xticks(fontsize=14)\n",
    "plt.yticks(fontsize=14)\n",
    "\n",
    "plt.savefig(f'../data/results/raw_svg_figures/top{topology}/top{topology}-{omission}-combinedCCCs_byAllostery_wError.svg', format=\"svg\")"
   ]
  },
  {
   "cell_type": "markdown",
   "metadata": {},
   "source": [
    "## Calculating FCC values and making graphs"
   ]
  },
  {
   "cell_type": "code",
   "execution_count": 29,
   "metadata": {},
   "outputs": [],
   "source": [
    "gtFCC_1 = pd.DataFrame(rr_1.getScaledFluxControlCoefficientMatrix(), index=rr_1.getReactionIds(), columns=rr_1.getReactionIds())\n",
    "gtFCC_2 = pd.DataFrame(rr_1.getScaledFluxControlCoefficientMatrix(), index=rr_1.getReactionIds(), columns=rr_1.getReactionIds())\n",
    "gtFCC_3 = pd.DataFrame(rr_1.getScaledFluxControlCoefficientMatrix(), index=rr_1.getReactionIds(), columns=rr_1.getReactionIds())"
   ]
  },
  {
   "cell_type": "markdown",
   "metadata": {},
   "source": [
    "### priors"
   ]
  },
  {
   "cell_type": "code",
   "execution_count": null,
   "metadata": {},
   "outputs": [],
   "source": [
    "Ex05_prior_1= util.get_az_summary(util.run_prior_predictive(BMCA_obj05_1)['prior']['Ex'])\n",
    "Ex15_prior_1= util.get_az_summary(util.run_prior_predictive(BMCA_obj15_1)['prior']['Ex'])\n",
    "Ex3_prior_1= util.get_az_summary(util.run_prior_predictive(BMCA_obj3_1)['prior']['Ex'])\n",
    "Ex5_prior_1= util.get_az_summary(util.run_prior_predictive(BMCA_obj5_1)['prior']['Ex'])\n",
    "\n",
    "Ex05_prior_2= util.get_az_summary(util.run_prior_predictive(BMCA_obj05_2)['prior']['Ex'])\n",
    "Ex15_prior_2= util.get_az_summary(util.run_prior_predictive(BMCA_obj15_2)['prior']['Ex'])\n",
    "Ex3_prior_2= util.get_az_summary(util.run_prior_predictive(BMCA_obj3_2)['prior']['Ex'])\n",
    "Ex5_prior_2= util.get_az_summary(util.run_prior_predictive(BMCA_obj5_2)['prior']['Ex'])\n",
    "\n",
    "Ex05_prior_3= util.get_az_summary(util.run_prior_predictive(BMCA_obj05_3)['prior']['Ex'])\n",
    "Ex15_prior_3= util.get_az_summary(util.run_prior_predictive(BMCA_obj15_3)['prior']['Ex'])\n",
    "Ex3_prior_3= util.get_az_summary(util.run_prior_predictive(BMCA_obj3_3)['prior']['Ex'])\n",
    "Ex5_prior_3= util.get_az_summary(util.run_prior_predictive(BMCA_obj5_3)['prior']['Ex'])\n"
   ]
  },
  {
   "cell_type": "code",
   "execution_count": 31,
   "metadata": {},
   "outputs": [],
   "source": [
    "priorFCC05_1 = util.estimate_FCCs(BMCA_obj05_1, Ex05_prior_1.reshape((19,13)))\n",
    "priorFCC15_1 = util.estimate_FCCs(BMCA_obj15_1, Ex15_prior_1.reshape((19,13)))\n",
    "priorFCC3_1 = util.estimate_FCCs(BMCA_obj3_1, Ex3_prior_1.reshape((19,13)))\n",
    "priorFCC5_1 = util.estimate_FCCs(BMCA_obj5_1, Ex5_prior_1.reshape((19,13)))\n",
    "\n",
    "priorFCC05_2 = util.estimate_FCCs(BMCA_obj05_2, Ex05_prior_2.reshape((19,13)))\n",
    "priorFCC15_2 = util.estimate_FCCs(BMCA_obj15_2, Ex15_prior_2.reshape((19,13)))\n",
    "priorFCC3_2 = util.estimate_FCCs(BMCA_obj3_2, Ex3_prior_2.reshape((19,13)))\n",
    "priorFCC5_2 = util.estimate_FCCs(BMCA_obj5_2, Ex5_prior_2.reshape((19,13)))\n",
    "\n",
    "priorFCC05_3 = util.estimate_FCCs(BMCA_obj05_3, Ex05_prior_3.reshape((19,13)))\n",
    "priorFCC15_3 = util.estimate_FCCs(BMCA_obj15_3, Ex15_prior_3.reshape((19,13)))\n",
    "priorFCC3_3 = util.estimate_FCCs(BMCA_obj3_3, Ex3_prior_3.reshape((19,13)))\n",
    "priorFCC5_3 = util.estimate_FCCs(BMCA_obj5_3, Ex5_prior_3.reshape((19,13)))\n"
   ]
  },
  {
   "cell_type": "code",
   "execution_count": 32,
   "metadata": {},
   "outputs": [],
   "source": [
    "priorFCCs_1 = [priorFCC05_1, priorFCC15_1, priorFCC3_1, priorFCC5_1]\n",
    "priorFCCs_2 = [priorFCC05_2, priorFCC15_2, priorFCC3_2, priorFCC5_2]\n",
    "priorFCCs_3 = [priorFCC05_3, priorFCC15_3, priorFCC3_3, priorFCC5_3]"
   ]
  },
  {
   "cell_type": "code",
   "execution_count": 33,
   "metadata": {},
   "outputs": [],
   "source": [
    "priorFCC_1_meds = [-pd.DataFrame(np.median(priorFCC, axis=0), columns=rr_1.getReactionIds(), index=rr_1.getReactionIds()) for priorFCC in priorFCCs_1]\n",
    "priorFCC_1_meds = pd.concat([i.melt()['value'] for i in priorFCC_1_meds], axis=1).values\n",
    "priorFCC_1_meds = pd.DataFrame(priorFCC_1_meds, columns=pt_labels)\n",
    "priorFCC_1_meds['median'] = priorFCC_1_meds.median(axis=1)\n",
    "priorFCC_1_meds['min'] = priorFCC_1_meds.min(axis=1)\n",
    "priorFCC_1_meds['max'] = priorFCC_1_meds.max(axis=1)\n",
    "# priorFCC_1_meds"
   ]
  },
  {
   "cell_type": "code",
   "execution_count": 34,
   "metadata": {},
   "outputs": [],
   "source": [
    "priorFCC_2_meds = [-pd.DataFrame(np.median(priorFCC, axis=0), columns=rr_1.getReactionIds(), index=rr_1.getReactionIds()) for priorFCC in priorFCCs_2]\n",
    "priorFCC_2_meds = pd.concat([i.melt()['value'] for i in priorFCC_2_meds], axis=1).values\n",
    "priorFCC_2_meds = pd.DataFrame(priorFCC_2_meds, columns=pt_labels)\n",
    "priorFCC_2_meds['median'] = priorFCC_2_meds.median(axis=1)\n",
    "priorFCC_2_meds['min'] = priorFCC_2_meds.min(axis=1)\n",
    "priorFCC_2_meds['max'] = priorFCC_2_meds.max(axis=1)\n",
    "# priorFCC_2_meds"
   ]
  },
  {
   "cell_type": "code",
   "execution_count": 35,
   "metadata": {},
   "outputs": [],
   "source": [
    "priorFCC_3_meds = [-pd.DataFrame(np.median(priorFCC, axis=0), columns=rr_1.getReactionIds(), index=rr_1.getReactionIds()) for priorFCC in priorFCCs_3]\n",
    "priorFCC_3_meds = pd.concat([i.melt()['value'] for i in priorFCC_3_meds], axis=1).values\n",
    "priorFCC_3_meds = pd.DataFrame(priorFCC_3_meds, columns=pt_labels)\n",
    "priorFCC_3_meds['median'] = priorFCC_3_meds.median(axis=1)\n",
    "priorFCC_3_meds['min'] = priorFCC_3_meds.min(axis=1)\n",
    "priorFCC_3_meds['max'] = priorFCC_3_meds.max(axis=1)\n",
    "# priorFCC_3_meds"
   ]
  },
  {
   "cell_type": "code",
   "execution_count": 36,
   "metadata": {},
   "outputs": [],
   "source": [
    "FCC_lower_y_1_prior = np.array(priorFCC_1_meds['median']) - np.array(priorFCC_1_meds['min'])\n",
    "FCC_upper_y_1_prior = np.array(priorFCC_1_meds['max']) - np.array(priorFCC_1_meds['median'])\n",
    "FCC_errors_1_prior = [FCC_lower_y_1_prior, FCC_upper_y_1_prior]\n",
    "\n",
    "FCC_lower_y_2_prior = np.array(priorFCC_2_meds['median']) - np.array(priorFCC_2_meds['min'])\n",
    "FCC_upper_y_2_prior = np.array(priorFCC_2_meds['max']) - np.array(priorFCC_2_meds['median'])\n",
    "FCC_errors_2_prior = [FCC_lower_y_2_prior, FCC_upper_y_2_prior]\n",
    "\n",
    "FCC_lower_y_3_prior = np.array(priorFCC_3_meds['median']) - np.array(priorFCC_3_meds['min'])\n",
    "FCC_upper_y_3_prior = np.array(priorFCC_3_meds['max']) - np.array(priorFCC_3_meds['median'])\n",
    "FCC_errors_3_prior = [FCC_lower_y_3_prior, FCC_upper_y_3_prior]"
   ]
  },
  {
   "cell_type": "markdown",
   "metadata": {},
   "source": [
    "### posteriors"
   ]
  },
  {
   "cell_type": "code",
   "execution_count": 37,
   "metadata": {},
   "outputs": [],
   "source": [
    "# all data\n",
    "postFCC05_1 = util.estimate_FCCs(BMCA_obj05_1, Ex05_1.reshape((19,13)))\n",
    "postFCC15_1 = util.estimate_FCCs(BMCA_obj15_1, Ex15_1.reshape((19,13)))\n",
    "postFCC3_1 = util.estimate_FCCs(BMCA_obj3_1, Ex3_1.reshape((19,13)))\n",
    "postFCC5_1 = util.estimate_FCCs(BMCA_obj5_1, Ex5_1.reshape((19,13)))\n",
    "\n",
    "postFCC05_2 = util.estimate_FCCs(BMCA_obj05_2, Ex05_2.reshape((19,13)))\n",
    "postFCC15_2 = util.estimate_FCCs(BMCA_obj15_2, Ex15_2.reshape((19,13)))\n",
    "postFCC3_2 = util.estimate_FCCs(BMCA_obj3_2, Ex3_2.reshape((19,13)))\n",
    "postFCC5_2 = util.estimate_FCCs(BMCA_obj5_2, Ex5_2.reshape((19,13)))\n",
    "\n",
    "postFCC05_3 = util.estimate_FCCs(BMCA_obj05_3, Ex05_3.reshape((19,13)))\n",
    "postFCC15_3 = util.estimate_FCCs(BMCA_obj15_3, Ex15_3.reshape((19,13)))\n",
    "postFCC3_3 = util.estimate_FCCs(BMCA_obj3_3, Ex3_3.reshape((19,13)))\n",
    "postFCC5_3 = util.estimate_FCCs(BMCA_obj5_3, Ex5_3.reshape((19,13)))\n"
   ]
  },
  {
   "cell_type": "code",
   "execution_count": 38,
   "metadata": {},
   "outputs": [],
   "source": [
    "postFCCs_1 = [postFCC05_1, postFCC15_1, postFCC3_1, postFCC5_1]\n",
    "postFCCs_2 = [postFCC05_2, postFCC15_2, postFCC3_2, postFCC5_2]\n",
    "postFCCs_3 = [postFCC05_3, postFCC15_3, postFCC3_3, postFCC5_3]"
   ]
  },
  {
   "cell_type": "code",
   "execution_count": 39,
   "metadata": {},
   "outputs": [],
   "source": [
    "postFCC_1_meds = [-pd.DataFrame(np.median(postFCC, axis=0), columns=rr_1.getReactionIds(), index=rr_1.getReactionIds()) for postFCC in postFCCs_1]\n",
    "postFCC_1_meds = pd.concat([i.melt()['value'] for i in postFCC_1_meds], axis=1).values\n",
    "postFCC_1_meds = pd.DataFrame(postFCC_1_meds, columns=pt_labels)\n",
    "postFCC_1_meds['median'] = postFCC_1_meds.median(axis=1)\n",
    "postFCC_1_meds['min'] = postFCC_1_meds.min(axis=1)\n",
    "postFCC_1_meds['max'] = postFCC_1_meds.max(axis=1)\n",
    "# postFCC_1_meds"
   ]
  },
  {
   "cell_type": "code",
   "execution_count": 40,
   "metadata": {},
   "outputs": [],
   "source": [
    "postFCC_2_meds = [-pd.DataFrame(np.median(postFCC, axis=0), columns=rr_1.getReactionIds(), index=rr_1.getReactionIds()) for postFCC in postFCCs_2]\n",
    "postFCC_2_meds = pd.concat([i.melt()['value'] for i in postFCC_2_meds], axis=1).values\n",
    "postFCC_2_meds = pd.DataFrame(postFCC_2_meds, columns=pt_labels)\n",
    "postFCC_2_meds['median'] = postFCC_2_meds.median(axis=1)\n",
    "postFCC_2_meds['min'] = postFCC_2_meds.min(axis=1)\n",
    "postFCC_2_meds['max'] = postFCC_2_meds.max(axis=1)\n",
    "# postFCC_2_meds"
   ]
  },
  {
   "cell_type": "code",
   "execution_count": 41,
   "metadata": {},
   "outputs": [],
   "source": [
    "postFCC_3_meds = [-pd.DataFrame(np.median(postFCC, axis=0), columns=rr_1.getReactionIds(), index=rr_1.getReactionIds()) for postFCC in postFCCs_3]\n",
    "postFCC_3_meds = pd.concat([i.melt()['value'] for i in postFCC_3_meds], axis=1).values\n",
    "postFCC_3_meds = pd.DataFrame(postFCC_3_meds, columns=pt_labels)\n",
    "postFCC_3_meds['median'] = postFCC_3_meds.median(axis=1)\n",
    "postFCC_3_meds['min'] = postFCC_3_meds.min(axis=1)\n",
    "postFCC_3_meds['max'] = postFCC_3_meds.max(axis=1)\n",
    "# postFCC_3_meds"
   ]
  },
  {
   "cell_type": "code",
   "execution_count": 42,
   "metadata": {},
   "outputs": [],
   "source": [
    "FCC_lower_y_1_post = np.array(postFCC_1_meds['median']) - np.array(postFCC_1_meds['min'])\n",
    "FCC_upper_y_1_post = np.array(postFCC_1_meds['max']) - np.array(postFCC_1_meds['median'])\n",
    "FCC_errors_1_post = [FCC_lower_y_1_post, FCC_upper_y_1_post]\n",
    "\n",
    "FCC_lower_y_2_post = np.array(postFCC_2_meds['median']) - np.array(postFCC_2_meds['min'])\n",
    "FCC_upper_y_2_post = np.array(postFCC_2_meds['max']) - np.array(postFCC_2_meds['median'])\n",
    "FCC_errors_2_post = [FCC_lower_y_2_post, FCC_upper_y_2_post]\n",
    "\n",
    "FCC_lower_y_3_post = np.array(postFCC_3_meds['median']) - np.array(postFCC_3_meds['min'])\n",
    "FCC_upper_y_3_post = np.array(postFCC_3_meds['max']) - np.array(postFCC_3_meds['median'])\n",
    "FCC_errors_3_post = [FCC_lower_y_3_post, FCC_upper_y_3_post]"
   ]
  },
  {
   "cell_type": "markdown",
   "metadata": {},
   "source": [
    "### graphs"
   ]
  },
  {
   "cell_type": "code",
   "execution_count": null,
   "metadata": {},
   "outputs": [],
   "source": [
    "plt.axes().set_aspect('equal', 'datalim')\n",
    "\n",
    "plt.errorbar(gtFCC_1.melt()['value'], priorFCC_1_meds['median'], yerr=FCC_errors_1_prior, alpha=0.4, fmt='o', label='prior', zorder=100, c='orange')\n",
    "plt.errorbar(gtFCC_1.melt()['value'], postFCC_1_meds['median'], yerr=FCC_errors_1_post, alpha=0.4, fmt='o', label='post', zorder=100, c='b')\n",
    "\n",
    "plt.legend(loc=\"upper left\")\n",
    "plt.axline([0, 0], [1, 1], c='gray', linestyle='dashed', zorder=1, linewidth=2)\n",
    "plt.grid(True, which='both', axis='both', zorder=0)\n",
    "plt.xlabel('ground truth FCC values', size=14)\n",
    "plt.ylabel('predicted FCC values', size=14)\n",
    "plt.savefig(f'../data/results/raw_svg_figures/top{topology}-{omission}-medianFCCs_1.svg', format=\"svg\")"
   ]
  },
  {
   "cell_type": "code",
   "execution_count": null,
   "metadata": {},
   "outputs": [],
   "source": [
    "plt.axes().set_aspect('equal', 'datalim')\n",
    "\n",
    "plt.errorbar(gtFCC_2.melt()['value'], priorFCC_2_meds['median'], yerr=FCC_errors_2_prior, alpha=0.4, fmt='o', label='prior', zorder=100, c='orange')\n",
    "plt.errorbar(gtFCC_2.melt()['value'], postFCC_2_meds['median'], yerr=FCC_errors_2_post, alpha=0.4, fmt='o', label='post', zorder=100, c='b')\n",
    "plt.xlim((-6,6))\n",
    "plt.ylim((-6,6))\n",
    "plt.legend(loc=\"upper left\")\n",
    "plt.axline([0, 0], [1, 1], c='gray', linestyle='dashed', zorder=1, linewidth=2)\n",
    "plt.grid(True, which='both', axis='both', zorder=0)\n",
    "plt.xlabel('ground truth FCC values', size=14)\n",
    "plt.ylabel('predicted FCC values', size=14)\n",
    "\n",
    "# plt.savefig(f'../data/results/raw_svg_figures/top{topology}-{omission}-medianFCCs_2.svg', format=\"svg\")"
   ]
  },
  {
   "cell_type": "code",
   "execution_count": null,
   "metadata": {},
   "outputs": [],
   "source": [
    "## needs to be rerun\n",
    "\n",
    "plt.axes().set_aspect('equal', 'datalim')\n",
    "\n",
    "plt.scatter(gtFCC_2.melt()['value'], priorFCC_2_meds['median'], alpha=0.4, label='prior', zorder=100, c='orange')\n",
    "plt.scatter(gtFCC_2.melt()['value'], postFCC_2_meds['median'], alpha=0.4,  label='post', zorder=100, c='b')\n",
    "plt.xlim((-6,7))\n",
    "plt.legend(loc=\"upper left\")\n",
    "plt.axline([0, 0], [1, 1], c='gray', linestyle='dashed', zorder=1, linewidth=2)\n",
    "plt.grid(True, which='both', axis='both', zorder=0)\n",
    "plt.xlabel('ground truth FCC values', size=14)\n",
    "plt.ylabel('predicted FCC values', size=14)\n",
    "\n",
    "# plt.savefig(f'../data/results/raw_svg_figures/top{topology}-{omission}-medianFCCs_2.svg', format=\"svg\")"
   ]
  },
  {
   "cell_type": "code",
   "execution_count": null,
   "metadata": {},
   "outputs": [],
   "source": [
    "plt.axes().set_aspect('equal', 'datalim')\n",
    "\n",
    "plt.errorbar(gtFCC_3.melt()['value'], priorFCC_3_meds['median'], yerr=FCC_errors_3_prior, alpha=0.4, fmt='o', label='prior', zorder=100, c='orange')\n",
    "plt.errorbar(gtFCC_3.melt()['value'], postFCC_3_meds['median'], yerr=FCC_errors_3_post, alpha=0.4, fmt='o', label='post', zorder=100, c='b')\n",
    "plt.xlim((-6,6))\n",
    "plt.ylim((-6,6))\n",
    "plt.legend(loc=\"upper left\")\n",
    "plt.axline([0, 0], [1, 1], c='gray', linestyle='dashed', zorder=1, linewidth=2)\n",
    "plt.grid(True, which='both', axis='both', zorder=0)\n",
    "plt.xlabel('ground truth FCC values', size=14)\n",
    "plt.ylabel('predicted FCC values', size=14)\n",
    "# plt.savefig(f'../data/results/raw_svg_figures/top{topology}-{omission}-medianFCCs_3.svg', format=\"svg\")"
   ]
  },
  {
   "cell_type": "code",
   "execution_count": null,
   "metadata": {},
   "outputs": [],
   "source": [
    "plt.axes().set_aspect('equal', 'datalim')\n",
    "\n",
    "plt.scatter(gtFCC_3.melt()['value'], priorFCC_3_meds['median'], alpha=0.4, label='prior', zorder=100, c='orange')\n",
    "plt.scatter(gtFCC_3.melt()['value'], postFCC_3_meds['median'], alpha=0.4, label='post', zorder=100, c='b')\n",
    "\n",
    "plt.legend(loc=\"upper left\")\n",
    "plt.axline([0, 0], [1, 1], c='gray', linestyle='dashed', zorder=1, linewidth=2)\n",
    "plt.grid(True, which='both', axis='both', zorder=0)\n",
    "plt.xlabel('ground truth FCC values', size=14)\n",
    "plt.ylabel('predicted FCC values', size=14)\n",
    "# plt.savefig(f'../data/results/raw_svg_figures/top{topology}-{omission}-medianFCCs_3.svg', format=\"svg\")"
   ]
  },
  {
   "cell_type": "markdown",
   "metadata": {},
   "source": [
    "### adding corrections for where the enzyme perturbed is directly involved in the reaction"
   ]
  },
  {
   "cell_type": "code",
   "execution_count": 43,
   "metadata": {},
   "outputs": [],
   "source": [
    "rxn = np.repeat(rr_1.getReactionIds(),len(rr_1.getReactionIds()))\n",
    "enz_pt = rr_1.getReactionIds() * len(rr_1.getReactionIds())\n",
    "FCC_idx = pd.DataFrame([rxn, enz_pt]).T"
   ]
  },
  {
   "cell_type": "code",
   "execution_count": null,
   "metadata": {},
   "outputs": [],
   "source": [
    "for i in np.where(abs(gtFCC_1.melt()['value']- postFCC_1_meds['median'])>1):\n",
    "    print(FCC_idx.iloc[i])\n",
    "pt_enz_is_rxn = list(np.where(abs(gtFCC_1.melt()['value']- postFCC_1_meds['median'])>1)[0])"
   ]
  },
  {
   "cell_type": "markdown",
   "metadata": {},
   "source": [
    "### graphing the corrected FCC dfs"
   ]
  },
  {
   "cell_type": "code",
   "execution_count": null,
   "metadata": {},
   "outputs": [],
   "source": [
    "priorFCC_1_meds.loc[pt_enz_is_rxn, 'median'] += 2\n",
    "postFCC_1_meds.loc[pt_enz_is_rxn, 'median'] += 2\n",
    "\n",
    "priorFCC_2_meds.loc[pt_enz_is_rxn, 'median'] += 2\n",
    "postFCC_2_meds.loc[pt_enz_is_rxn, 'median'] += 2\n",
    "\n",
    "priorFCC_3_meds.loc[pt_enz_is_rxn, 'median'] += 2\n",
    "postFCC_3_meds.loc[pt_enz_is_rxn, 'median'] += 2"
   ]
  },
  {
   "cell_type": "code",
   "execution_count": null,
   "metadata": {},
   "outputs": [],
   "source": [
    "plt.axes().set_aspect('equal', 'datalim')\n",
    "\n",
    "plt.errorbar(gtFCC_1.melt()['value'], priorFCC_1_meds['median'], yerr=FCC_errors_1_prior, alpha=0.4, fmt='o', label='prior', zorder=100, c='orange')\n",
    "plt.errorbar(gtFCC_1.melt()['value'], postFCC_1_meds['median'], yerr=FCC_errors_1_post, alpha=0.4, fmt='o', label='post', zorder=100, c='b')\n",
    "\n",
    "plt.legend(loc=\"upper left\")\n",
    "plt.axline([0, 0], [1, 1], c='gray', linestyle='dashed', zorder=1, linewidth=2)\n",
    "plt.grid(True, which='both', axis='both', zorder=0)\n",
    "plt.xlabel('ground truth FCC values', size=14)\n",
    "plt.ylabel('predicted FCC values', size=14)\n",
    "plt.savefig(f'../data/results/raw_svg_figures/top{topology}-{omission}-medianFCCs_1_wCorrection.svg', format=\"svg\")"
   ]
  },
  {
   "cell_type": "code",
   "execution_count": null,
   "metadata": {},
   "outputs": [],
   "source": [
    "plt.axes().set_aspect('equal', 'datalim')\n",
    "\n",
    "plt.scatter(gtFCC_2.melt()['value'], priorFCC_2_meds['median'], alpha=0.4, label='prior', zorder=100, c='orange')\n",
    "plt.scatter(gtFCC_2.melt()['value'], postFCC_2_meds['median'], alpha=0.4,  label='post', zorder=100, c='b')\n",
    "plt.xlim((-6,7))\n",
    "\n",
    "plt.legend(loc=\"upper left\")\n",
    "plt.axline([0, 0], [1, 1], c='gray', linestyle='dashed', zorder=1, linewidth=2)\n",
    "plt.grid(True, which='both', axis='both', zorder=0)\n",
    "plt.xlabel('ground truth FCC values', size=14)\n",
    "plt.ylabel('predicted FCC values', size=14)\n",
    "plt.savefig(f'../data/results/raw_svg_figures/top{topology}-{omission}-medianFCCs_2_wCorrection.svg', format=\"svg\")"
   ]
  },
  {
   "cell_type": "code",
   "execution_count": null,
   "metadata": {},
   "outputs": [],
   "source": [
    "plt.axes().set_aspect('equal', 'datalim')\n",
    "\n",
    "plt.scatter(gtFCC_3.melt()['value'], priorFCC_3_meds['median'], alpha=0.4, label='prior', zorder=100, c='orange')\n",
    "plt.scatter(gtFCC_3.melt()['value'], postFCC_3_meds['median'], alpha=0.4, label='post', zorder=100, c='b')\n",
    "\n",
    "plt.legend(loc=\"upper left\")\n",
    "plt.axline([0, 0], [1, 1], c='gray', linestyle='dashed', zorder=1, linewidth=2)\n",
    "plt.grid(True, which='both', axis='both', zorder=0)\n",
    "plt.xlabel('ground truth FCC values', size=14)\n",
    "plt.ylabel('predicted FCC values', size=14)\n",
    "plt.savefig(f'../data/results/raw_svg_figures/top{topology}-{omission}-medianFCCs_3_wCorrection.svg', format=\"svg\")"
   ]
  },
  {
   "cell_type": "markdown",
   "metadata": {},
   "source": [
    "### Combined graph of FCC values"
   ]
  },
  {
   "cell_type": "code",
   "execution_count": null,
   "metadata": {},
   "outputs": [],
   "source": [
    "# Create two subplots and unpack the output array immediately\n",
    "f, ax = plt.subplots(2, 3, figsize=(16,8))\n",
    "\n",
    "for i in range(2):\n",
    "    for ii in range(3):\n",
    "        ax[i,ii].tick_params(axis='both', which='major', labelsize=16)\n",
    "\n",
    "ax[0,0].set_aspect('equal', 'datalim')\n",
    "ax[0,0].scatter(gtFCC_1.melt()['value'], priorFCC_1_meds['median'], alpha=0.4, label='prior', zorder=100, c='orange')\n",
    "ax[0,0].scatter(gtFCC_1.melt()['value'], postFCC_1_meds['median'], alpha=0.4, label='post', zorder=100, c='b')\n",
    "slope, intercept, _ = util.calculate_slope(gtFCC_1.melt()['value'], priorFCC_1_meds['median'])\n",
    "ax[0,0].axline((0, intercept), slope=slope, linestyle='--', alpha=0.6, color='orange', zorder=0)\n",
    "slope, intercept, _ = util.calculate_slope(gtFCC_1.melt()['value'], postFCC_1_meds['median'])\n",
    "ax[0,0].axline((0, intercept), slope=slope, linestyle='--', alpha=0.6, color='b', zorder=0)\n",
    "ax[0,0].axline([0, 0], [1, 1], c='gray', linestyle='dashed', zorder=1, linewidth=3)\n",
    "ax[0,0].grid()\n",
    "ax[0,0].legend(loc=\"lower right\", fontsize=16)\n",
    "\n",
    "ax[0,1].set_aspect('equal', 'datalim')\n",
    "ax[0,1].scatter(gtFCC_2.melt()['value'], priorFCC_2_meds['median'], alpha=0.4, label='prior', zorder=100, c='orange')\n",
    "ax[0,1].scatter(gtFCC_2.melt()['value'], postFCC_2_meds['median'], alpha=0.4,  label='post', zorder=100, c='b')\n",
    "slope, intercept, _ = util.calculate_slope(gtFCC_2.melt()['value'], priorFCC_2_meds['median'])\n",
    "ax[0,1].axline((0, intercept), slope=slope, linestyle='--', alpha=0.6, color='orange', zorder=0)\n",
    "slope, intercept, _ = util.calculate_slope(gtFCC_2.melt()['value'], postFCC_2_meds['median'])\n",
    "ax[0,1].axline((0, intercept), slope=slope, linestyle='--', alpha=0.6, color='b', zorder=0)\n",
    "ax[0,1].axline([0, 0], [1, 1], c='gray', linestyle='dashed', zorder=1, linewidth=3)\n",
    "ax[0,1].grid()\n",
    "\n",
    "ax[0,2].set_aspect('equal', 'datalim')\n",
    "ax[0,2].scatter(gtFCC_3.melt()['value'], priorFCC_3_meds['median'], alpha=0.4, label='prior', zorder=100, c='orange')\n",
    "ax[0,2].scatter(gtFCC_3.melt()['value'], postFCC_3_meds['median'], alpha=0.4,  label='post', zorder=100, c='b')\n",
    "slope, intercept, _ = util.calculate_slope(gtFCC_3.melt()['value'], priorFCC_3_meds['median'])\n",
    "ax[0,2].axline((0, intercept), slope=slope, linestyle='--', alpha=0.6, color='orange', zorder=0)\n",
    "slope, intercept, _ = util.calculate_slope(gtFCC_3.melt()['value'], postFCC_3_meds['median'])\n",
    "ax[0,2].axline((0, intercept), slope=slope, linestyle='--', alpha=0.6, color='b', zorder=0)\n",
    "ax[0,2].axline([0, 0], [1, 1], c='gray', linestyle='dashed', zorder=1, linewidth=3)\n",
    "ax[0,2].grid()\n",
    "\n",
    "priorFCC_1_meds.loc[pt_enz_is_rxn, 'median'] += 2\n",
    "postFCC_1_meds.loc[pt_enz_is_rxn, 'median'] += 2\n",
    "\n",
    "priorFCC_2_meds.loc[pt_enz_is_rxn, 'median'] += 2\n",
    "postFCC_2_meds.loc[pt_enz_is_rxn, 'median'] += 2\n",
    "\n",
    "priorFCC_3_meds.loc[pt_enz_is_rxn, 'median'] += 2\n",
    "postFCC_3_meds.loc[pt_enz_is_rxn, 'median'] += 2\n",
    "\n",
    "ax[1,0].set_aspect('equal', 'datalim')\n",
    "ax[1,0].scatter(gtFCC_1.melt()['value'], priorFCC_1_meds['median'], alpha=0.4, label='prior', zorder=100, c='orange')\n",
    "ax[1,0].scatter(gtFCC_1.melt()['value'], postFCC_1_meds['median'], alpha=0.4, label='post', zorder=100, c='b')\n",
    "slope, intercept, _ = util.calculate_slope(gtFCC_1.melt()['value'], priorFCC_1_meds['median'])\n",
    "ax[1,0].axline((0, intercept), slope=slope, linestyle='--', alpha=0.6, color='orange', zorder=0)\n",
    "slope, intercept, _ = util.calculate_slope(gtFCC_1.melt()['value'], postFCC_1_meds['median'])\n",
    "ax[1,0].axline((0, intercept), slope=slope, linestyle='--', alpha=0.6, color='b', zorder=0)\n",
    "ax[1,0].axline([0, 0], [1, 1], c='gray', linestyle='dashed', zorder=1, linewidth=3)\n",
    "ax[1,0].grid()\n",
    "\n",
    "ax[1,1].set_aspect('equal', 'datalim')\n",
    "ax[1,1].scatter(gtFCC_2.melt()['value'], priorFCC_2_meds['median'], alpha=0.4, label='prior', zorder=100, c='orange')\n",
    "ax[1,1].scatter(gtFCC_2.melt()['value'], postFCC_2_meds['median'], alpha=0.4,  label='post', zorder=100, c='b')\n",
    "slope, intercept, _ = util.calculate_slope(gtFCC_2.melt()['value'], priorFCC_2_meds['median'])\n",
    "ax[1,1].axline((0, intercept), slope=slope, linestyle='--', alpha=0.6, color='orange', zorder=0)\n",
    "slope, intercept, _ = util.calculate_slope(gtFCC_2.melt()['value'], postFCC_2_meds['median'])\n",
    "ax[1,1].axline((0, intercept), slope=slope, linestyle='--', alpha=0.6, color='b', zorder=0)\n",
    "ax[1,1].axline([0, 0], [1, 1], c='gray', linestyle='dashed', zorder=1, linewidth=3)\n",
    "ax[1,1].grid()\n",
    "\n",
    "ax[1,2].set_aspect('equal', 'datalim')\n",
    "ax[1,2].scatter(gtFCC_3.melt()['value'], priorFCC_3_meds['median'], alpha=0.4, label='prior', zorder=100, c='orange')\n",
    "ax[1,2].scatter(gtFCC_3.melt()['value'], postFCC_3_meds['median'], alpha=0.4,  label='post', zorder=100, c='b')\n",
    "slope, intercept, _ = util.calculate_slope(gtFCC_3.melt()['value'], priorFCC_3_meds['median'])\n",
    "ax[1,2].axline((0, intercept), slope=slope, linestyle='--', alpha=0.6, color='orange', zorder=0)\n",
    "slope, intercept, _ = util.calculate_slope(gtFCC_3.melt()['value'], postFCC_3_meds['median'])\n",
    "ax[1,2].axline((0, intercept), slope=slope, linestyle='--', alpha=0.6, color='b', zorder=0)\n",
    "ax[1,2].axline([0, 0], [1, 1], c='gray', linestyle='dashed', zorder=1, linewidth=3)\n",
    "ax[1,2].grid()\n",
    "    \n",
    "f.tight_layout()\n",
    "\n",
    "plt.savefig(f'../data/results/raw_svg_figures/top{topology}-{omission}-combinedFCCs.svg', format=\"svg\")"
   ]
  },
  {
   "cell_type": "code",
   "execution_count": 45,
   "metadata": {},
   "outputs": [],
   "source": [
    "priorFCC_1_meds.loc[pt_enz_is_rxn, 'median'] += 2\n",
    "postFCC_1_meds.loc[pt_enz_is_rxn, 'median'] += 2\n",
    "\n",
    "priorFCC_2_meds.loc[pt_enz_is_rxn, 'median'] += 2\n",
    "postFCC_2_meds.loc[pt_enz_is_rxn, 'median'] += 2\n",
    "\n",
    "priorFCC_3_meds.loc[pt_enz_is_rxn, 'median'] += 2\n",
    "postFCC_3_meds.loc[pt_enz_is_rxn, 'median'] += 2"
   ]
  },
  {
   "cell_type": "code",
   "execution_count": null,
   "metadata": {},
   "outputs": [],
   "source": [
    "# Create two subplots and unpack the output array immediately\n",
    "f, ax = plt.subplots(1, 3, figsize=(16,4.5))\n",
    "\n",
    "for ii in range(3):\n",
    "    ax[ii].tick_params(axis='both', which='major', labelsize=16)\n",
    "\n",
    "ax[0].set_aspect('equal', 'datalim')\n",
    "ax[0].scatter(gtFCC_1.melt()['value'], priorFCC_1_meds['median'], alpha=0.4, label='prior', zorder=100, c='orange')\n",
    "ax[0].scatter(gtFCC_1.melt()['value'], postFCC_1_meds['median'], alpha=0.4, label='post', zorder=100, c='b')\n",
    "slope, intercept, _ = util.calculate_slope(gtFCC_1.melt()['value'], priorFCC_1_meds['median'])\n",
    "ax[0].axline((0, intercept), slope=slope, linestyle='--', alpha=0.6, color='orange', zorder=0)\n",
    "slope, intercept, _ = util.calculate_slope(gtFCC_1.melt()['value'], postFCC_1_meds['median'])\n",
    "ax[0].axline((0, intercept), slope=slope, linestyle='--', alpha=0.6, color='b', zorder=0)\n",
    "ax[0].axline([0, 0], [1, 1], c='gray', linestyle='dashed', zorder=1, linewidth=3)\n",
    "ax[0].grid()\n",
    "ax[0].legend(loc=\"lower right\", fontsize=16)\n",
    "ax[0].set_xlabel('ground truth values', fontsize=18)\n",
    "\n",
    "ax[1].set_aspect('equal', 'datalim')\n",
    "ax[1].scatter(gtFCC_2.melt()['value'], priorFCC_2_meds['median'], alpha=0.4, label='prior', zorder=100, c='orange')\n",
    "ax[1].scatter(gtFCC_2.melt()['value'], postFCC_2_meds['median'], alpha=0.4,  label='post', zorder=100, c='b')\n",
    "slope, intercept, _ = util.calculate_slope(gtFCC_2.melt()['value'], priorFCC_2_meds['median'])\n",
    "ax[1].axline((0, intercept), slope=slope, linestyle='--', alpha=0.6, color='orange', zorder=0)\n",
    "slope, intercept, _ = util.calculate_slope(gtFCC_2.melt()['value'], postFCC_2_meds['median'])\n",
    "ax[1].axline((0, intercept), slope=slope, linestyle='--', alpha=0.6, color='b', zorder=0)\n",
    "ax[1].axline([0, 0], [1, 1], c='gray', linestyle='dashed', zorder=1, linewidth=3)\n",
    "ax[1].grid()\n",
    "ax[1].set_xlabel('ground truth values', fontsize=18)\n",
    "\n",
    "ax[2].set_aspect('equal', 'datalim')\n",
    "ax[2].scatter(gtFCC_3.melt()['value'], priorFCC_3_meds['median'], alpha=0.4, label='prior', zorder=100, c='orange')\n",
    "ax[2].scatter(gtFCC_3.melt()['value'], postFCC_3_meds['median'], alpha=0.4,  label='post', zorder=100, c='b')\n",
    "slope, intercept, _ = util.calculate_slope(gtFCC_3.melt()['value'], priorFCC_3_meds['median'])\n",
    "ax[2].axline((0, intercept), slope=slope, linestyle='--', alpha=0.6, color='orange', zorder=0)\n",
    "slope, intercept, _ = util.calculate_slope(gtFCC_3.melt()['value'], postFCC_3_meds['median'])\n",
    "ax[2].axline((0, intercept), slope=slope, linestyle='--', alpha=0.6, color='b', zorder=0)\n",
    "ax[2].axline([0, 0], [1, 1], c='gray', linestyle='dashed', zorder=1, linewidth=3)\n",
    "ax[2].grid()\n",
    "\n",
    "ax[2].set_xlabel('ground truth values', fontsize=18)\n",
    "ax[0].set_ylabel('predicted values', fontsize=18)\n",
    "\n",
    "f.tight_layout()\n",
    "\n",
    "plt.savefig(f'../data/results/raw_svg_figures/top{topology}/top{topology}-{omission}-combinedFCCs.svg', format=\"svg\")"
   ]
  },
  {
   "cell_type": "code",
   "execution_count": null,
   "metadata": {},
   "outputs": [],
   "source": [
    "# Create two subplots and unpack the output array immediately\n",
    "\n",
    "plt.axes().set_aspect('equal', 'datalim')\n",
    "\n",
    "plt.scatter(gtFCC_1.melt()['value'], postFCC_1_meds['median'], alpha=0.4, label='noReg', zorder=300)\n",
    "plt.scatter(gtFCC_2.melt()['value'], postFCC_2_meds['median'], alpha=0.4,  label='reg1', zorder=200)\n",
    "plt.scatter(gtFCC_3.melt()['value'], postFCC_3_meds['median'], alpha=0.4,  label='reg2', zorder=100)\n",
    "\n",
    "slope, intercept, _ = util.calculate_slope(gtFCC_1.melt()['value'], postFCC_1_meds['median'])\n",
    "plt.axline((0, intercept), slope=slope, linestyle='--', alpha=0.6, color='tab:blue', zorder=0)\n",
    "\n",
    "slope, intercept, _ = util.calculate_slope(gtFCC_2.melt()['value'], postFCC_2_meds['median'])\n",
    "plt.axline((0, intercept), slope=slope, linestyle='--', alpha=0.6, color='tab:orange', zorder=0)\n",
    "\n",
    "slope, intercept, _ = util.calculate_slope(gtFCC_3.melt()['value'], postFCC_3_meds['median'])\n",
    "plt.axline((0, intercept), slope=slope, linestyle='--', alpha=0.6, color='tab:green', zorder=0)\n",
    "\n",
    "plt.axline([0, 0], [1, 1], c='gray', linestyle='dashed', zorder=1, linewidth=3)\n",
    "plt.grid()\n",
    "plt.legend(loc=\"upper left\", fontsize=16)\n",
    "\n",
    "plt.xlabel('ground truth values', fontsize=18)\n",
    "plt.ylabel('predicted values', fontsize=18)\n",
    "\n",
    "plt.xticks(fontsize=14)\n",
    "plt.yticks(fontsize=14)\n",
    "\n",
    "f.tight_layout()\n",
    "\n",
    "plt.savefig(f'../data/results/raw_svg_figures/top{topology}/top{topology}-{omission}-combinedFCCs_byAllostery.svg', format=\"svg\")"
   ]
  },
  {
   "cell_type": "code",
   "execution_count": null,
   "metadata": {},
   "outputs": [],
   "source": [
    "# fruit\n",
    "\n",
    "plt.axes().set_aspect('equal', 'datalim')\n",
    "\n",
    "plt.errorbar(gtFCC_1.melt()['value'], postFCC_1_meds['median'], yerr=FCC_errors_1_post, alpha=0.4, fmt='o', markersize=3, label='noReg', zorder=300)\n",
    "plt.errorbar(gtFCC_2.melt()['value'], postFCC_2_meds['median'], yerr=FCC_errors_2_post, alpha=0.4, fmt='o', markersize=3, label='reg1', zorder=200)\n",
    "plt.errorbar(gtFCC_3.melt()['value'], postFCC_3_meds['median'], yerr=FCC_errors_3_post, alpha=0.4, fmt='o', markersize=3, label='reg2', zorder=100)\n",
    "\n",
    "slope, intercept, _ = util.calculate_slope(gtFCC_1.melt()['value'], postFCC_1_meds['median'])\n",
    "plt.axline((0, intercept), slope=slope, linestyle='--', alpha=0.6, color='tab:blue', zorder=0)\n",
    "\n",
    "slope, intercept, _ = util.calculate_slope(gtFCC_2.melt()['value'], postFCC_2_meds['median'])\n",
    "plt.axline((0, intercept), slope=slope, linestyle='--', alpha=0.6, color='tab:orange', zorder=0)\n",
    "\n",
    "slope, intercept, _ = util.calculate_slope(gtFCC_3.melt()['value'], postFCC_3_meds['median'])\n",
    "plt.axline((0, intercept), slope=slope, linestyle='--', alpha=0.6, color='tab:green', zorder=0)\n",
    "\n",
    "plt.axline([0, 0], [1, 1], c='gray', linestyle='dashed', zorder=1, linewidth=3)\n",
    "plt.grid()\n",
    "plt.legend(loc=\"lower right\", fontsize=16)\n",
    "\n",
    "plt.xlabel('ground truth values', fontsize=18)\n",
    "plt.ylabel('predicted values', fontsize=18)\n",
    "\n",
    "plt.xticks(fontsize=14)\n",
    "plt.yticks(fontsize=14)\n",
    "\n",
    "#f.tight_layout()\n",
    "\n",
    "# plt.savefig(f'../data/results/raw_svg_figures/top{topology}/top{topology}-{omission}-combinedFCCs_byAllostery_wError.svg', format=\"svg\")"
   ]
  },
  {
   "cell_type": "markdown",
   "metadata": {},
   "source": [
    "### Graphing the absolute error"
   ]
  },
  {
   "cell_type": "code",
   "execution_count": null,
   "metadata": {},
   "outputs": [],
   "source": [
    "# FCCs need to be corrected before running this cell\n",
    "\n",
    "plt.grid()\n",
    "plt.xlim((-5,5))\n",
    "plt.ylim((-5,5))\n",
    "\n",
    "plt.bar(gtFCC_1.melt()['value'], gtFCC_1.melt()['value']-postFCC_1_meds['median'], alpha=0.5, label='noReg', zorder=200)\n",
    "plt.bar(gtFCC_2.melt()['value'], gtFCC_2.melt()['value']-postFCC_2_meds['median'], alpha=0.5, label='reg1', zorder=200)\n",
    "plt.bar(gtFCC_3.melt()['value'], gtFCC_3.melt()['value']-postFCC_3_meds['median'], alpha=0.5, label='reg2', zorder=200)\n",
    "\n",
    "plt.xlabel('ground truth elasticity values', size=14)\n",
    "plt.ylabel('absolute error', size=14)\n",
    "\n",
    "plt.legend(loc=\"upper left\")\n",
    "# plt.savefig(f'../data/results/raw_svg_figures/top{topology}/top{topology}-{omission}-absError_byAllostery.svg', format=\"svg\")"
   ]
  },
  {
   "cell_type": "markdown",
   "metadata": {},
   "source": [
    "### Comparing elasticity values with FCC values. \n"
   ]
  },
  {
   "cell_type": "code",
   "execution_count": null,
   "metadata": {},
   "outputs": [],
   "source": [
    "ela_df_1"
   ]
  },
  {
   "cell_type": "code",
   "execution_count": null,
   "metadata": {},
   "outputs": [],
   "source": [
    "postFCC_1_meds"
   ]
  },
  {
   "cell_type": "markdown",
   "metadata": {},
   "source": [
    "## Evaluating FCC ranking"
   ]
  },
  {
   "cell_type": "code",
   "execution_count": null,
   "metadata": {},
   "outputs": [],
   "source": [
    "def calculate_FCC_med_ranking_df(postFCC,  r):\n",
    "    postFCC_med=pd.DataFrame(np.median(postFCC, axis=0), columns=r.getReactionIds(), index=r.getReactionIds()).abs()\n",
    "    m1 = postFCC_med.index.values[:, None] == postFCC_med.columns.values\n",
    "    postFCC = pd.DataFrame(np.select([m1], [float('Nan')], postFCC_med), columns=postFCC_med.columns, index=postFCC_med.index)\n",
    "    postFCC_rankings= postFCC.rank(axis=1, ascending=False, na_option='keep')\n",
    "\n",
    "    return postFCC_rankings\n"
   ]
  },
  {
   "cell_type": "markdown",
   "metadata": {},
   "source": [
    "### heatmap of how far FCC rank predictions are from ground truth FCC ranks."
   ]
  },
  {
   "cell_type": "code",
   "execution_count": 196,
   "metadata": {},
   "outputs": [],
   "source": [
    "gt_1_FCC=pd.DataFrame(rr_1.getScaledFluxControlCoefficientMatrix(), columns=rr_1.getReactionIds(), index=rr_1.getReactionIds()).abs()\n",
    "m1 = gt_1_FCC.index.values[:, None] == gt_1_FCC.columns.values\n",
    "gt_1_FCC = pd.DataFrame(np.select([m1], [float('Nan')], gt_1_FCC), columns=gt_1_FCC.columns, index=gt_1_FCC.index)\n",
    "gtFCC_1_rankings= gt_1_FCC.rank(axis=1, ascending=False, na_option='keep')\n",
    "# fruit\n",
    "a = gtFCC_1_rankings.loc['v19']"
   ]
  },
  {
   "cell_type": "code",
   "execution_count": null,
   "metadata": {},
   "outputs": [],
   "source": [
    "ranking_dfs = []\n",
    "for i in postFCCs_1: \n",
    "    ranking_dfs.append(calculate_FCC_med_ranking_df(i, rr_1))\n",
    "\n",
    "df_concat = pd.concat(ranking_dfs)\n",
    "by_row_index = df_concat.groupby(df_concat.index, sort=False)\n",
    "post_df_means = by_row_index.mean()\n",
    "\n",
    "delta_df_means = post_df_means-gtFCC_1_rankings\n",
    "\n",
    "# what are the labels? are they the ground truth rankings? \n",
    "plt.figure(figsize=(20, 6))\n",
    "# sns.heatmap(pd.DataFrame(delta_df_means.loc['v_ACE_OUT']).T, square=True, cmap='coolwarm', vmin=-60, vmax=60)\n",
    "sns.heatmap(pd.DataFrame(delta_df_means.loc['v19']).T, square=True, cmap='cubehelix', vmin=-19, vmax=19)\n",
    "_ = plt.yticks(ticks=[], labels=[])\n",
    "_ = plt.xticks(size=16)\n",
    "\n",
    "# plt.savefig(f'../data/results/raw_svg_figures/top{topology}/top{topology}-{omission}-combinedElasticities_zoom.svg', format=\"svg\")"
   ]
  },
  {
   "cell_type": "code",
   "execution_count": 182,
   "metadata": {},
   "outputs": [],
   "source": [
    "gt_1_FCC=pd.DataFrame(rr_1.getScaledFluxControlCoefficientMatrix(), columns=rr_1.getReactionIds(), index=rr_1.getReactionIds()).abs()\n",
    "m1 = gt_1_FCC.index.values[:, None] == gt_1_FCC.columns.values\n",
    "gt_1_FCC = pd.DataFrame(np.select([m1], [float('Nan')], gt_1_FCC), columns=gt_1_FCC.columns, index=gt_1_FCC.index)\n",
    "gtFCC_2_rankings= gt_1_FCC.rank(axis=1, ascending=False, na_option='keep')\n",
    "# fruit\n",
    "a = gtFCC_2_rankings.loc['v19']"
   ]
  },
  {
   "cell_type": "code",
   "execution_count": null,
   "metadata": {},
   "outputs": [],
   "source": [
    "ranking_dfs = []\n",
    "for i in postFCCs_2: \n",
    "    ranking_dfs.append(calculate_FCC_med_ranking_df(i, rr_1))\n",
    "\n",
    "df_concat = pd.concat(ranking_dfs)\n",
    "by_row_index = df_concat.groupby(df_concat.index, sort=False)\n",
    "post_df_means = by_row_index.mean()\n",
    "\n",
    "delta_df_means = post_df_means-gtFCC_2_rankings\n",
    "\n",
    "# what are the labels? are they the ground truth rankings? \n",
    "plt.figure(figsize=(20, 6))\n",
    "sns.heatmap(pd.DataFrame(delta_df_means.loc['v19']).T, square=True, cmap='cubehelix', vmin=-19, vmax=19)\n",
    "_ = plt.yticks(ticks=[], labels=[])\n",
    "_ = plt.xticks(size=16)\n",
    "\n",
    "# plt.savefig(f'../data/results/raw_svg_figures/top{topology}/top{topology}-{omission}-combinedElasticities_zoom.svg', format=\"svg\")"
   ]
  },
  {
   "cell_type": "code",
   "execution_count": 191,
   "metadata": {},
   "outputs": [],
   "source": [
    "gt_1_FCC=pd.DataFrame(rr_1.getScaledFluxControlCoefficientMatrix(), columns=rr_1.getReactionIds(), index=rr_1.getReactionIds()).abs()\n",
    "m1 = gt_1_FCC.index.values[:, None] == gt_1_FCC.columns.values\n",
    "gt_1_FCC = pd.DataFrame(np.select([m1], [float('Nan')], gt_1_FCC), columns=gt_1_FCC.columns, index=gt_1_FCC.index)\n",
    "gtFCC_3_rankings= gt_1_FCC.rank(axis=1, ascending=False, na_option='keep')\n",
    "# fruit\n",
    "a = gtFCC_3_rankings.loc['v19']"
   ]
  },
  {
   "cell_type": "code",
   "execution_count": null,
   "metadata": {},
   "outputs": [],
   "source": [
    "ranking_dfs = []\n",
    "for i in postFCCs_3: \n",
    "    ranking_dfs.append(calculate_FCC_med_ranking_df(i, rr_1))\n",
    "\n",
    "df_concat = pd.concat(ranking_dfs)\n",
    "by_row_index = df_concat.groupby(df_concat.index, sort=False)\n",
    "post_df_means = by_row_index.mean()\n",
    "\n",
    "delta_df_means = post_df_means-gtFCC_3_rankings\n",
    "\n",
    "# what are the labels? are they the ground truth rankings? \n",
    "plt.figure(figsize=(20, 6))\n",
    "# sns.heatmap(pd.DataFrame(delta_df_means.loc['v_ACE_OUT']).T, square=True, cmap='coolwarm', vmin=-60, vmax=60)\n",
    "sns.heatmap(pd.DataFrame(delta_df_means.loc['v19']).T, square=True, cmap='cubehelix', vmin=-19, vmax=19)\n",
    "_ = plt.yticks(ticks=[], labels=[])\n",
    "_ = plt.xticks(size=16)\n",
    "\n",
    "# plt.savefig(f'../data/results/raw_svg_figures/top{topology}/top{topology}-{omission}-combinedElasticities_zoom.svg', format=\"svg\")"
   ]
  },
  {
   "cell_type": "markdown",
   "metadata": {},
   "source": [
    "## Quantifying the number of FCCs in top ten that were predicted correctly by BMCA\n"
   ]
  },
  {
   "cell_type": "code",
   "execution_count": 47,
   "metadata": {},
   "outputs": [],
   "source": [
    "rank_counts_df = pd.read_csv('../data/results/TopologyB_top10.csv')"
   ]
  },
  {
   "cell_type": "code",
   "execution_count": null,
   "metadata": {},
   "outputs": [],
   "source": [
    "rank_counts_df"
   ]
  },
  {
   "cell_type": "code",
   "execution_count": null,
   "metadata": {},
   "outputs": [],
   "source": [
    "stagbar_counts = rank_counts_df.pivot_table(index=['omittedData','type'], aggfunc=['mean',np.std])\n",
    "stagbar_counts.reset_index(inplace=True)\n",
    "stagbar_counts = stagbar_counts.reindex([1,0,7,6,3,2,9,8,5,4])\n",
    "stagbar_counts"
   ]
  },
  {
   "cell_type": "code",
   "execution_count": null,
   "metadata": {},
   "outputs": [],
   "source": [
    "ax = plt.subplot(111)\n",
    "ax.grid()\n",
    "\n",
    "ax.bar([i-0.1 for i in range(5)], stagbar_counts[stagbar_counts['type']=='prior']['mean']['count'].values,\n",
    "        width=0.2, color='orange', align='center', zorder=100, label='prior')\n",
    "plt.errorbar([i-0.1 for i in range(5)], \n",
    "             stagbar_counts[stagbar_counts['type']=='prior']['mean']['count'].values, \n",
    "             yerr=stagbar_counts[stagbar_counts['type']=='prior']['std']['count'].values, \n",
    "             ls='none', color='black', capsize=5, zorder=1000)\n",
    "\n",
    "ax.bar([i+0.1 for i in range(5)], stagbar_counts[stagbar_counts['type']=='post']['mean']['count'].values,\n",
    "        width=0.2, color='tab:blue', align='center', zorder=100, label='post')\n",
    "plt.errorbar([i+0.1 for i in range(5)], \n",
    "             stagbar_counts[stagbar_counts['type']=='post']['mean']['count'].values, \n",
    "             yerr=stagbar_counts[stagbar_counts['type']=='post']['std']['count'].values, \n",
    "             ls='none', color='black', capsize=5, zorder=1000)\n",
    "\n",
    "_ = ax.set_xticklabels([0, 'None', 'Fluxes', 'Enzymes', 'Int. Met.', 'Ex. Met.'])\n",
    "_ = ax.set_yticks(range(0,12,2))\n",
    "ax.legend()\n",
    "plt.savefig(f'../data/results/raw_svg_figures/top{topology}_rankCounts.svg', format='svg')"
   ]
  },
  {
   "cell_type": "code",
   "execution_count": null,
   "metadata": {},
   "outputs": [],
   "source": [
    "stagbar_counts = rank_counts_df[rank_counts_df['regulation']=='noReg'].pivot_table(index=['omittedData','type'], aggfunc=['mean',np.std])\n",
    "stagbar_counts.reset_index(inplace=True)\n",
    "stagbar_counts = stagbar_counts.reindex([1,0,7,6,3,2,9,8,5,4])\n",
    "\n",
    "ax = plt.subplot(111)\n",
    "ax.grid()\n",
    "\n",
    "ax.bar([i-0.1 for i in range(5)], stagbar_counts[stagbar_counts['type']=='prior']['mean']['count'].values,\n",
    "        width=0.2, color='orange', align='center', zorder=100, label='prior')\n",
    "plt.errorbar([i-0.1 for i in range(5)], \n",
    "             stagbar_counts[stagbar_counts['type']=='prior']['mean']['count'].values, \n",
    "             yerr=stagbar_counts[stagbar_counts['type']=='prior']['std']['count'].values, \n",
    "             ls='none', color='black', capsize=5, zorder=1000)\n",
    "\n",
    "ax.bar([i+0.1 for i in range(5)], stagbar_counts[stagbar_counts['type']=='post']['mean']['count'].values,\n",
    "        width=0.2, color='tab:blue', align='center', zorder=100, label='post')\n",
    "plt.errorbar([i+0.1 for i in range(5)], \n",
    "             stagbar_counts[stagbar_counts['type']=='post']['mean']['count'].values, \n",
    "             yerr=stagbar_counts[stagbar_counts['type']=='post']['std']['count'].values, \n",
    "             ls='none', color='black', capsize=5, zorder=1000)\n",
    "\n",
    "_ = ax.set_xticklabels([0, 'None', 'Fluxes', 'Enzymes', 'Int. Met.', 'Ex. Met.'])\n",
    "_ = ax.set_yticks(range(0,12,2))\n",
    "ax.legend()\n",
    "plt.savefig(f'../data/results/raw_svg_figures/top{topology}-noReg_rankCounts.svg', format='svg')"
   ]
  },
  {
   "cell_type": "code",
   "execution_count": null,
   "metadata": {},
   "outputs": [],
   "source": [
    "stagbar_counts = rank_counts_df[rank_counts_df['regulation']=='reg1'].pivot_table(index=['omittedData','type'], aggfunc=['mean',np.std])\n",
    "stagbar_counts.reset_index(inplace=True)\n",
    "stagbar_counts = stagbar_counts.reindex([1,0,7,6,3,2,9,8,5,4])\n",
    "\n",
    "ax = plt.subplot(111)\n",
    "ax.grid()\n",
    "\n",
    "ax.bar([i-0.1 for i in range(5)], stagbar_counts[stagbar_counts['type']=='prior']['mean']['count'].values,\n",
    "        width=0.2, color='orange', align='center', zorder=100, label='prior')\n",
    "plt.errorbar([i-0.1 for i in range(5)], \n",
    "             stagbar_counts[stagbar_counts['type']=='prior']['mean']['count'].values, \n",
    "             yerr=stagbar_counts[stagbar_counts['type']=='prior']['std']['count'].values, \n",
    "             ls='none', color='black', capsize=5, zorder=1000)\n",
    "\n",
    "ax.bar([i+0.1 for i in range(5)], stagbar_counts[stagbar_counts['type']=='post']['mean']['count'].values,\n",
    "        width=0.2, color='tab:blue', align='center', zorder=100, label='post')\n",
    "plt.errorbar([i+0.1 for i in range(5)], \n",
    "             stagbar_counts[stagbar_counts['type']=='post']['mean']['count'].values, \n",
    "             yerr=stagbar_counts[stagbar_counts['type']=='post']['std']['count'].values, \n",
    "             ls='none', color='black', capsize=5, zorder=1000)\n",
    "\n",
    "_ = ax.set_xticklabels([0, 'None', 'Fluxes', 'Enzymes', 'Int. Met.', 'Ex. Met.'])\n",
    "_ = ax.set_yticks(range(0,12,2))\n",
    "ax.legend()\n",
    "plt.savefig(f'../data/results/raw_svg_figures/top{topology}-reg1_rankCounts.svg', format='svg')"
   ]
  },
  {
   "cell_type": "code",
   "execution_count": null,
   "metadata": {},
   "outputs": [],
   "source": [
    "stagbar_counts = rank_counts_df[rank_counts_df['regulation']=='reg2'].pivot_table(index=['omittedData','type'], aggfunc=['mean',np.std])\n",
    "stagbar_counts.reset_index(inplace=True)\n",
    "stagbar_counts = stagbar_counts.reindex([1,0,7,6,3,2,9,8,5,4])\n",
    "\n",
    "ax = plt.subplot(111)\n",
    "ax.grid()\n",
    "\n",
    "ax.bar([i-0.1 for i in range(5)], stagbar_counts[stagbar_counts['type']=='prior']['mean']['count'].values,\n",
    "        width=0.2, color='orange', align='center', zorder=100, label='prior')\n",
    "plt.errorbar([i-0.1 for i in range(5)], \n",
    "             stagbar_counts[stagbar_counts['type']=='prior']['mean']['count'].values, \n",
    "             yerr=stagbar_counts[stagbar_counts['type']=='prior']['std']['count'].values, \n",
    "             ls='none', color='black', capsize=5, zorder=1000)\n",
    "\n",
    "ax.bar([i+0.1 for i in range(5)], stagbar_counts[stagbar_counts['type']=='post']['mean']['count'].values,\n",
    "        width=0.2, color='tab:blue', align='center', zorder=100, label='post')\n",
    "plt.errorbar([i+0.1 for i in range(5)], \n",
    "             stagbar_counts[stagbar_counts['type']=='post']['mean']['count'].values, \n",
    "             yerr=stagbar_counts[stagbar_counts['type']=='post']['std']['count'].values, \n",
    "             ls='none', color='black', capsize=5, zorder=1000)\n",
    "\n",
    "_ = ax.set_xticklabels([0, 'None', 'Fluxes', 'Enzymes', 'Int. Met.', 'Ex. Met.'])\n",
    "_ = ax.set_yticks(range(0,12,2))\n",
    "ax.legend()\n",
    "plt.savefig(f'../data/results/raw_svg_figures/top{topology}-reg2_rankCounts.svg', format='svg')"
   ]
  },
  {
   "cell_type": "markdown",
   "metadata": {},
   "source": [
    "## Visualizing Spearman data "
   ]
  },
  {
   "cell_type": "markdown",
   "metadata": {},
   "source": [
    "### Condense Spearman data"
   ]
  },
  {
   "cell_type": "code",
   "execution_count": 125,
   "metadata": {},
   "outputs": [],
   "source": [
    "os.chdir(f'../data/results/spearman_coefficients/topology{topology}/')"
   ]
  },
  {
   "cell_type": "code",
   "execution_count": null,
   "metadata": {},
   "outputs": [],
   "source": [
    "spr_file_list = [i for i in os.listdir()]\n",
    "\n",
    "spr_dfs = []\n",
    "for file in spr_file_list:\n",
    "    a = pd.read_csv(file)\n",
    "\n",
    "    reg = file.split('-')[1].split('_')[0]\n",
    "    omit = file.split('_')[1]\n",
    "\n",
    "    a['reg'] = [reg]*len(a)\n",
    "    a['omit'] = [omit]*len(a)\n",
    "    spr_dfs.append(a)\n",
    "\n",
    "all_spr_df_B = pd.concat(spr_dfs)\n",
    "all_spr_df_B"
   ]
  },
  {
   "cell_type": "code",
   "execution_count": 127,
   "metadata": {},
   "outputs": [],
   "source": [
    "os.chdir('../../../../notebooks/')"
   ]
  },
  {
   "cell_type": "code",
   "execution_count": 128,
   "metadata": {},
   "outputs": [],
   "source": [
    "all_spr_df_B.rename(columns={'Unnamed: 0':'perturbation'}, inplace=True)\n",
    "all_spr_df_B['distr'] = [(i.split('-')[1]) for i in all_spr_df_B['perturbation']]\n",
    "all_spr_df_B['perturbation'] = [float(i.split('x')[0]) for i in all_spr_df_B['perturbation']]"
   ]
  },
  {
   "cell_type": "code",
   "execution_count": null,
   "metadata": {},
   "outputs": [],
   "source": [
    "all_spr_df_B = all_spr_df_B[all_spr_df_B['perturbation'] != 1.01]\n",
    "all_spr_df_B"
   ]
  },
  {
   "cell_type": "code",
   "execution_count": null,
   "metadata": {},
   "outputs": [],
   "source": [
    "a = pd.pivot_table(all_spr_df_B, values=['r'], index=['omit', 'distr'], aggfunc=['mean', 'std'], sort=False)\n",
    "a.reset_index(inplace=True)\n",
    "a = a.reindex([0,1,6,7,2,3,8,9,4,5])\n",
    "a"
   ]
  },
  {
   "cell_type": "markdown",
   "metadata": {},
   "source": [
    "### Graph of aggregated Spearman corr"
   ]
  },
  {
   "cell_type": "code",
   "execution_count": null,
   "metadata": {},
   "outputs": [],
   "source": [
    "# plot\n",
    "ax = plt.subplot(111)\n",
    "ax.grid()\n",
    "\n",
    "ax.bar([i-0.1 for i in range(5)], a[a['distr']=='prior']['mean'].squeeze(), width=0.2, color='tab:blue', align='center', zorder=100, label='prior')\n",
    "ax.bar([i+0.1 for i in range(5)], a[a['distr']=='post']['mean'].squeeze(), width=0.2, color='tab:orange', align='center', zorder=100, label='posterior')\n",
    "\n",
    "## add error bars\n",
    "plt.errorbar([i-0.1 for i in range(5)], a[a['distr']=='prior']['mean'].squeeze(), \n",
    "             yerr=a[a['distr']=='prior']['std'].squeeze(), \n",
    "             color='black', capsize=3, zorder=1000, ls='none')\n",
    "\n",
    "plt.errorbar([i+0.1 for i in range(5)], a[a['distr']=='post']['mean'].squeeze(), \n",
    "             yerr=a[a['distr']=='post']['std'].squeeze(), \n",
    "             color='black', capsize=3, zorder=1000, ls='none')\n",
    "\n",
    "ax.set_xticks([-0.5]+list(np.arange(0,5)))\n",
    "_ = ax.set_xticklabels(['', 'All Data', \"Fluxes\", 'Enzymes', \"Int. Met.\", \"Ex. Met.\"], size=14) ## fix the labels\n",
    "_ = ax.set_yticks(np.arange(0,1,0.05))\n",
    "\n",
    "ax.legend()#plt.ylabel('Spearman correlation coefficient ($r$)', size=14)\n",
    "\n",
    "plt.savefig(f'../data/results/raw_svg_figures/Top{topology}_sprCorr.svg', format='svg' )"
   ]
  }
 ],
 "metadata": {
  "kernelspec": {
   "display_name": "gayles",
   "language": "python",
   "name": "python3"
  },
  "language_info": {
   "codemirror_mode": {
    "name": "ipython",
    "version": 3
   },
   "file_extension": ".py",
   "mimetype": "text/x-python",
   "name": "python",
   "nbconvert_exporter": "python",
   "pygments_lexer": "ipython3",
   "version": "3.9.19"
  }
 },
 "nbformat": 4,
 "nbformat_minor": 2
}
