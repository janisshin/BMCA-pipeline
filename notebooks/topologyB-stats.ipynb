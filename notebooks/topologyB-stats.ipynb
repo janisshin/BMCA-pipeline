{
 "cells": [
  {
   "cell_type": "markdown",
   "metadata": {},
   "source": [
    "## Setup"
   ]
  },
  {
   "cell_type": "code",
   "execution_count": 1,
   "metadata": {},
   "outputs": [],
   "source": [
    "topology = 'B'\n",
    "omission = 'omitExMet'"
   ]
  },
  {
   "cell_type": "code",
   "execution_count": 2,
   "metadata": {},
   "outputs": [],
   "source": [
    "from scipy.stats import f_oneway\n",
    "from scipy.stats import kruskal\n",
    "\n",
    "import pandas as pd\n",
    "import numpy as np\n",
    "import tellurium as te\n",
    "\n",
    "import statsmodels.api as sm\n",
    "from statsmodels.formula.api import ols\n",
    "from statsmodels.stats.anova import AnovaRM\n",
    "\n",
    "import scipy as sp\n",
    "\n",
    "import seaborn as sns\n",
    "import matplotlib.pyplot as plt\n",
    "from matplotlib.colors import LogNorm\n",
    "\n",
    "import os\n",
    "\n",
    "import gzip\n",
    "import cloudpickle"
   ]
  },
  {
   "cell_type": "code",
   "execution_count": 3,
   "metadata": {},
   "outputs": [
    {
     "name": "stderr",
     "output_type": "stream",
     "text": [
      "WARNING (aesara.configdefaults): g++ not available, if using conda: `conda install m2w64-toolchain`\n",
      "WARNING (aesara.configdefaults): g++ not detected!  Aesara will be unable to compile C-implementations and will default to Python. Performance may be severely degraded. To remove this warning, set Aesara flags cxx to an empty string.\n",
      "WARNING (aesara.tensor.blas): Using NumPy C-API based implementation for BLAS functions.\n"
     ]
    }
   ],
   "source": [
    "os.chdir('..')\n",
    "from src import antemll, util\n",
    "os.chdir('notebooks')"
   ]
  },
  {
   "cell_type": "code",
   "execution_count": 4,
   "metadata": {},
   "outputs": [],
   "source": [
    "ant_noReg ='../models/Antimony/topologyB-noReg.ant' \n",
    "ant_reg1 ='../models/Antimony/topologyB-reg1.ant'\n",
    "ant_reg2 ='../models/Antimony/topologyB-reg2.ant' \n",
    "\n",
    "rr_noReg = te.loada(ant_noReg)\n",
    "rr_noReg.conservedMoietyAnalysis = True\n",
    "rr_noReg.steadyState()\n",
    "\n",
    "rr_reg1 = te.loada(ant_reg1)\n",
    "rr_reg1.conservedMoietyAnalysis = True\n",
    "rr_reg1.steadyState()\n",
    "\n",
    "rr_reg2 = te.loada(ant_reg2)\n",
    "rr_reg2.conservedMoietyAnalysis = True\n",
    "rr_reg2.steadyState()\n",
    "\n",
    "gt_noReg = rr_noReg.getScaledElasticityMatrix().ravel()\n",
    "gt_reg1 = rr_reg1.getScaledElasticityMatrix().ravel()\n",
    "gt_reg2 = rr_reg2.getScaledElasticityMatrix().ravel()"
   ]
  },
  {
   "cell_type": "code",
   "execution_count": 5,
   "metadata": {},
   "outputs": [],
   "source": [
    "datafile01_noReg = f'../data/interim/generated_data/Topology{topology}-noReg/Topology{topology}-noReg_0.1.csv'\n",
    "datafile02_noReg = f'../data/interim/generated_data/Topology{topology}-noReg/Topology{topology}-noReg_0.2.csv'\n",
    "datafile03_noReg = f'../data/interim/generated_data/Topology{topology}-noReg/Topology{topology}-noReg_0.3.csv'\n",
    "datafile04_noReg = f'../data/interim/generated_data/Topology{topology}-noReg/Topology{topology}-noReg_0.4.csv'\n",
    "datafile05_noReg = f'../data/interim/generated_data/Topology{topology}-noReg/Topology{topology}-noReg_0.5.csv'\n",
    "datafile15_noReg = f'../data/interim/generated_data/Topology{topology}-noReg/Topology{topology}-noReg_1.5.csv'\n",
    "datafile3_noReg = f'../data/interim/generated_data/Topology{topology}-noReg/Topology{topology}-noReg_3.csv'\n",
    "datafile5_noReg = f'../data/interim/generated_data/Topology{topology}-noReg/Topology{topology}-noReg_5.csv'\n",
    "datafile7_noReg = f'../data/interim/generated_data/Topology{topology}-noReg/Topology{topology}-noReg_7.csv'\n",
    "datafile100_noReg = f'../data/interim/generated_data/Topology{topology}-noReg/Topology{topology}-noReg_10.csv'\n",
    "\n",
    "datafile01_reg1 = f'../data/interim/generated_data/Topology{topology}-reg1/Topology{topology}-reg1_0.1.csv'\n",
    "datafile02_reg1 = f'../data/interim/generated_data/Topology{topology}-reg1/Topology{topology}-reg1_0.2.csv'\n",
    "datafile03_reg1 = f'../data/interim/generated_data/Topology{topology}-reg1/Topology{topology}-reg1_0.3.csv'\n",
    "datafile04_reg1 = f'../data/interim/generated_data/Topology{topology}-reg1/Topology{topology}-reg1_0.4.csv'\n",
    "datafile05_reg1 = f'../data/interim/generated_data/Topology{topology}-reg1/Topology{topology}-reg1_0.5.csv'\n",
    "datafile15_reg1 = f'../data/interim/generated_data/Topology{topology}-reg1/Topology{topology}-reg1_1.5.csv'\n",
    "datafile3_reg1 = f'../data/interim/generated_data/Topology{topology}-reg1/Topology{topology}-reg1_3.csv'\n",
    "datafile5_reg1 = f'../data/interim/generated_data/Topology{topology}-reg1/Topology{topology}-reg1_5.csv'\n",
    "datafile7_reg1 = f'../data/interim/generated_data/Topology{topology}-reg1/Topology{topology}-reg1_7.csv'\n",
    "datafile100_reg1 = f'../data/interim/generated_data/Topology{topology}-reg1/Topology{topology}-reg1_10.csv'\n",
    "\n",
    "datafile01_reg2 = f'../data/interim/generated_data/Topology{topology}-reg2/Topology{topology}-reg2_0.1.csv'\n",
    "datafile02_reg2 = f'../data/interim/generated_data/Topology{topology}-reg2/Topology{topology}-reg2_0.2.csv'\n",
    "datafile03_reg2 = f'../data/interim/generated_data/Topology{topology}-reg2/Topology{topology}-reg2_0.3.csv'\n",
    "datafile04_reg2 = f'../data/interim/generated_data/Topology{topology}-reg2/Topology{topology}-reg2_0.4.csv'\n",
    "datafile05_reg2 = f'../data/interim/generated_data/Topology{topology}-reg2/Topology{topology}-reg2_0.5.csv'\n",
    "datafile15_reg2 = f'../data/interim/generated_data/Topology{topology}-reg2/Topology{topology}-reg2_1.5.csv'\n",
    "datafile3_reg2 = f'../data/interim/generated_data/Topology{topology}-reg2/Topology{topology}-reg2_3.csv'\n",
    "datafile5_reg2 = f'../data/interim/generated_data/Topology{topology}-reg2/Topology{topology}-reg2_5.csv'\n",
    "datafile7_reg2 = f'../data/interim/generated_data/Topology{topology}-reg2/Topology{topology}-reg2_7.csv'\n",
    "datafile100_reg2 = f'../data/interim/generated_data/Topology{topology}-reg2/Topology{topology}-reg2_10.csv'\n"
   ]
  },
  {
   "cell_type": "code",
   "execution_count": 6,
   "metadata": {},
   "outputs": [
    {
     "name": "stderr",
     "output_type": "stream",
     "text": [
      "No objective coefficients in model. Unclear what should be optimized\n"
     ]
    },
    {
     "name": "stdout",
     "output_type": "stream",
     "text": [
      "../models/Antimony/topologyB_cobra.ant\n"
     ]
    },
    {
     "name": "stderr",
     "output_type": "stream",
     "text": [
      "No objective coefficients in model. Unclear what should be optimized\n"
     ]
    },
    {
     "name": "stdout",
     "output_type": "stream",
     "text": [
      "../models/Antimony/topologyB_cobra.ant\n"
     ]
    },
    {
     "name": "stderr",
     "output_type": "stream",
     "text": [
      "No objective coefficients in model. Unclear what should be optimized\n"
     ]
    },
    {
     "name": "stdout",
     "output_type": "stream",
     "text": [
      "../models/Antimony/topologyB_cobra.ant\n"
     ]
    },
    {
     "name": "stderr",
     "output_type": "stream",
     "text": [
      "No objective coefficients in model. Unclear what should be optimized\n"
     ]
    },
    {
     "name": "stdout",
     "output_type": "stream",
     "text": [
      "../models/Antimony/topologyB_cobra.ant\n"
     ]
    },
    {
     "name": "stderr",
     "output_type": "stream",
     "text": [
      "No objective coefficients in model. Unclear what should be optimized\n"
     ]
    },
    {
     "name": "stdout",
     "output_type": "stream",
     "text": [
      "../models/Antimony/topologyB_cobra.ant\n"
     ]
    },
    {
     "name": "stderr",
     "output_type": "stream",
     "text": [
      "No objective coefficients in model. Unclear what should be optimized\n"
     ]
    },
    {
     "name": "stdout",
     "output_type": "stream",
     "text": [
      "../models/Antimony/topologyB_cobra.ant\n"
     ]
    },
    {
     "name": "stderr",
     "output_type": "stream",
     "text": [
      "No objective coefficients in model. Unclear what should be optimized\n"
     ]
    },
    {
     "name": "stdout",
     "output_type": "stream",
     "text": [
      "../models/Antimony/topologyB_cobra.ant\n"
     ]
    },
    {
     "name": "stderr",
     "output_type": "stream",
     "text": [
      "No objective coefficients in model. Unclear what should be optimized\n"
     ]
    },
    {
     "name": "stdout",
     "output_type": "stream",
     "text": [
      "../models/Antimony/topologyB_cobra.ant\n"
     ]
    },
    {
     "name": "stderr",
     "output_type": "stream",
     "text": [
      "No objective coefficients in model. Unclear what should be optimized\n"
     ]
    },
    {
     "name": "stdout",
     "output_type": "stream",
     "text": [
      "../models/Antimony/topologyB_cobra.ant\n"
     ]
    },
    {
     "name": "stderr",
     "output_type": "stream",
     "text": [
      "No objective coefficients in model. Unclear what should be optimized\n"
     ]
    },
    {
     "name": "stdout",
     "output_type": "stream",
     "text": [
      "../models/Antimony/topologyB_cobra.ant\n"
     ]
    },
    {
     "name": "stderr",
     "output_type": "stream",
     "text": [
      "No objective coefficients in model. Unclear what should be optimized\n"
     ]
    },
    {
     "name": "stdout",
     "output_type": "stream",
     "text": [
      "../models/Antimony/topologyB_cobra.ant\n"
     ]
    },
    {
     "name": "stderr",
     "output_type": "stream",
     "text": [
      "No objective coefficients in model. Unclear what should be optimized\n"
     ]
    },
    {
     "name": "stdout",
     "output_type": "stream",
     "text": [
      "../models/Antimony/topologyB_cobra.ant\n"
     ]
    },
    {
     "name": "stderr",
     "output_type": "stream",
     "text": [
      "No objective coefficients in model. Unclear what should be optimized\n"
     ]
    },
    {
     "name": "stdout",
     "output_type": "stream",
     "text": [
      "../models/Antimony/topologyB_cobra.ant\n"
     ]
    },
    {
     "name": "stderr",
     "output_type": "stream",
     "text": [
      "No objective coefficients in model. Unclear what should be optimized\n"
     ]
    },
    {
     "name": "stdout",
     "output_type": "stream",
     "text": [
      "../models/Antimony/topologyB_cobra.ant\n"
     ]
    },
    {
     "name": "stderr",
     "output_type": "stream",
     "text": [
      "No objective coefficients in model. Unclear what should be optimized\n"
     ]
    },
    {
     "name": "stdout",
     "output_type": "stream",
     "text": [
      "../models/Antimony/topologyB_cobra.ant\n"
     ]
    },
    {
     "name": "stderr",
     "output_type": "stream",
     "text": [
      "No objective coefficients in model. Unclear what should be optimized\n"
     ]
    },
    {
     "name": "stdout",
     "output_type": "stream",
     "text": [
      "../models/Antimony/topologyB_cobra.ant\n"
     ]
    },
    {
     "name": "stderr",
     "output_type": "stream",
     "text": [
      "No objective coefficients in model. Unclear what should be optimized\n"
     ]
    },
    {
     "name": "stdout",
     "output_type": "stream",
     "text": [
      "../models/Antimony/topologyB_cobra.ant\n"
     ]
    },
    {
     "name": "stderr",
     "output_type": "stream",
     "text": [
      "No objective coefficients in model. Unclear what should be optimized\n"
     ]
    },
    {
     "name": "stdout",
     "output_type": "stream",
     "text": [
      "../models/Antimony/topologyB_cobra.ant\n"
     ]
    },
    {
     "name": "stderr",
     "output_type": "stream",
     "text": [
      "No objective coefficients in model. Unclear what should be optimized\n"
     ]
    },
    {
     "name": "stdout",
     "output_type": "stream",
     "text": [
      "../models/Antimony/topologyB_cobra.ant\n"
     ]
    },
    {
     "name": "stderr",
     "output_type": "stream",
     "text": [
      "No objective coefficients in model. Unclear what should be optimized\n"
     ]
    },
    {
     "name": "stdout",
     "output_type": "stream",
     "text": [
      "../models/Antimony/topologyB_cobra.ant\n"
     ]
    },
    {
     "name": "stderr",
     "output_type": "stream",
     "text": [
      "No objective coefficients in model. Unclear what should be optimized\n"
     ]
    },
    {
     "name": "stdout",
     "output_type": "stream",
     "text": [
      "../models/Antimony/topologyB_cobra.ant\n"
     ]
    },
    {
     "name": "stderr",
     "output_type": "stream",
     "text": [
      "No objective coefficients in model. Unclear what should be optimized\n"
     ]
    },
    {
     "name": "stdout",
     "output_type": "stream",
     "text": [
      "../models/Antimony/topologyB_cobra.ant\n"
     ]
    },
    {
     "name": "stderr",
     "output_type": "stream",
     "text": [
      "No objective coefficients in model. Unclear what should be optimized\n"
     ]
    },
    {
     "name": "stdout",
     "output_type": "stream",
     "text": [
      "../models/Antimony/topologyB_cobra.ant\n"
     ]
    },
    {
     "name": "stderr",
     "output_type": "stream",
     "text": [
      "No objective coefficients in model. Unclear what should be optimized\n"
     ]
    },
    {
     "name": "stdout",
     "output_type": "stream",
     "text": [
      "../models/Antimony/topologyB_cobra.ant\n"
     ]
    },
    {
     "name": "stderr",
     "output_type": "stream",
     "text": [
      "No objective coefficients in model. Unclear what should be optimized\n"
     ]
    },
    {
     "name": "stdout",
     "output_type": "stream",
     "text": [
      "../models/Antimony/topologyB_cobra.ant\n"
     ]
    },
    {
     "name": "stderr",
     "output_type": "stream",
     "text": [
      "No objective coefficients in model. Unclear what should be optimized\n"
     ]
    },
    {
     "name": "stdout",
     "output_type": "stream",
     "text": [
      "../models/Antimony/topologyB_cobra.ant\n"
     ]
    },
    {
     "name": "stderr",
     "output_type": "stream",
     "text": [
      "No objective coefficients in model. Unclear what should be optimized\n"
     ]
    },
    {
     "name": "stdout",
     "output_type": "stream",
     "text": [
      "../models/Antimony/topologyB_cobra.ant\n"
     ]
    },
    {
     "name": "stderr",
     "output_type": "stream",
     "text": [
      "No objective coefficients in model. Unclear what should be optimized\n"
     ]
    },
    {
     "name": "stdout",
     "output_type": "stream",
     "text": [
      "../models/Antimony/topologyB_cobra.ant\n"
     ]
    },
    {
     "name": "stderr",
     "output_type": "stream",
     "text": [
      "No objective coefficients in model. Unclear what should be optimized\n"
     ]
    },
    {
     "name": "stdout",
     "output_type": "stream",
     "text": [
      "../models/Antimony/topologyB_cobra.ant\n"
     ]
    },
    {
     "name": "stderr",
     "output_type": "stream",
     "text": [
      "No objective coefficients in model. Unclear what should be optimized\n"
     ]
    },
    {
     "name": "stdout",
     "output_type": "stream",
     "text": [
      "../models/Antimony/topologyB_cobra.ant\n"
     ]
    }
   ],
   "source": [
    "BMCA_obj01_noReg = antemll.antemll(ant_noReg, datafile01_noReg, cobra_sbml=f'../models/sbml/Topology{topology}_cobra.xml')\n",
    "BMCA_obj02_noReg = antemll.antemll(ant_noReg, datafile02_noReg, cobra_sbml=f'../models/sbml/Topology{topology}_cobra.xml')\n",
    "BMCA_obj03_noReg = antemll.antemll(ant_noReg, datafile03_noReg, cobra_sbml=f'../models/sbml/Topology{topology}_cobra.xml')\n",
    "BMCA_obj04_noReg = antemll.antemll(ant_noReg, datafile04_noReg, cobra_sbml=f'../models/sbml/Topology{topology}_cobra.xml')\n",
    "BMCA_obj05_noReg = antemll.antemll(ant_noReg, datafile05_noReg, cobra_sbml=f'../models/sbml/Topology{topology}_cobra.xml')\n",
    "BMCA_obj15_noReg = antemll.antemll(ant_noReg, datafile15_noReg, cobra_sbml=f'../models/sbml/Topology{topology}_cobra.xml')\n",
    "BMCA_obj3_noReg = antemll.antemll(ant_noReg, datafile3_noReg, cobra_sbml=f'../models/sbml/Topology{topology}_cobra.xml')\n",
    "BMCA_obj5_noReg = antemll.antemll(ant_noReg, datafile5_noReg, cobra_sbml=f'../models/sbml/Topology{topology}_cobra.xml')\n",
    "BMCA_obj7_noReg = antemll.antemll(ant_noReg, datafile7_noReg, cobra_sbml=f'../models/sbml/Topology{topology}_cobra.xml')\n",
    "BMCA_obj100_noReg = antemll.antemll(ant_noReg, datafile100_noReg, cobra_sbml=f'../models/sbml/Topology{topology}_cobra.xml')\n",
    "\n",
    "BMCA_obj01_reg1 = antemll.antemll(ant_reg1, datafile01_reg1, cobra_sbml=f'../models/sbml/Topology{topology}_cobra.xml')\n",
    "BMCA_obj02_reg1 = antemll.antemll(ant_reg1, datafile02_reg1, cobra_sbml=f'../models/sbml/Topology{topology}_cobra.xml')\n",
    "BMCA_obj03_reg1 = antemll.antemll(ant_reg1, datafile03_reg1, cobra_sbml=f'../models/sbml/Topology{topology}_cobra.xml')\n",
    "BMCA_obj04_reg1 = antemll.antemll(ant_reg1, datafile04_reg1, cobra_sbml=f'../models/sbml/Topology{topology}_cobra.xml')\n",
    "BMCA_obj05_reg1 = antemll.antemll(ant_reg1, datafile05_reg1, cobra_sbml=f'../models/sbml/Topology{topology}_cobra.xml')\n",
    "BMCA_obj15_reg1 = antemll.antemll(ant_reg1, datafile15_reg1, cobra_sbml=f'../models/sbml/Topology{topology}_cobra.xml')\n",
    "BMCA_obj3_reg1 = antemll.antemll(ant_reg1, datafile3_reg1, cobra_sbml=f'../models/sbml/Topology{topology}_cobra.xml')\n",
    "BMCA_obj5_reg1 = antemll.antemll(ant_reg1, datafile5_reg1, cobra_sbml=f'../models/sbml/Topology{topology}_cobra.xml')\n",
    "BMCA_obj7_reg1 = antemll.antemll(ant_reg1, datafile7_reg1, cobra_sbml=f'../models/sbml/Topology{topology}_cobra.xml')\n",
    "BMCA_obj100_reg1 = antemll.antemll(ant_reg1, datafile100_reg1, cobra_sbml=f'../models/sbml/Topology{topology}_cobra.xml')\n",
    "\n",
    "BMCA_obj01_reg2 = antemll.antemll(ant_reg2, datafile01_reg2, cobra_sbml=f'../models/sbml/Topology{topology}_cobra.xml')\n",
    "BMCA_obj02_reg2 = antemll.antemll(ant_reg2, datafile02_reg2, cobra_sbml=f'../models/sbml/Topology{topology}_cobra.xml')\n",
    "BMCA_obj03_reg2 = antemll.antemll(ant_reg2, datafile03_reg2, cobra_sbml=f'../models/sbml/Topology{topology}_cobra.xml')\n",
    "BMCA_obj04_reg2 = antemll.antemll(ant_reg2, datafile04_reg2, cobra_sbml=f'../models/sbml/Topology{topology}_cobra.xml')\n",
    "BMCA_obj05_reg2 = antemll.antemll(ant_reg2, datafile05_reg2, cobra_sbml=f'../models/sbml/Topology{topology}_cobra.xml')\n",
    "BMCA_obj15_reg2 = antemll.antemll(ant_reg2, datafile15_reg2, cobra_sbml=f'../models/sbml/Topology{topology}_cobra.xml')\n",
    "BMCA_obj3_reg2 = antemll.antemll(ant_reg2, datafile3_reg2, cobra_sbml=f'../models/sbml/Topology{topology}_cobra.xml')\n",
    "BMCA_obj5_reg2 = antemll.antemll(ant_reg2, datafile5_reg2, cobra_sbml=f'../models/sbml/Topology{topology}_cobra.xml')\n",
    "BMCA_obj7_reg2 = antemll.antemll(ant_reg2, datafile7_reg2, cobra_sbml=f'../models/sbml/Topology{topology}_cobra.xml')\n",
    "BMCA_obj100_reg2 = antemll.antemll(ant_reg2, datafile100_reg2, cobra_sbml=f'../models/sbml/Topology{topology}_cobra.xml')\n"
   ]
  },
  {
   "cell_type": "markdown",
   "metadata": {},
   "source": [
    "## Downloading all the trace files"
   ]
  },
  {
   "cell_type": "code",
   "execution_count": 7,
   "metadata": {},
   "outputs": [],
   "source": [
    "picklefolder = '../data/results/tracePickles/'\n",
    "oldpicklefolder = '../data/results/tracePickles-20240801/'"
   ]
  },
  {
   "cell_type": "code",
   "execution_count": 8,
   "metadata": {},
   "outputs": [],
   "source": [
    "with gzip.open(picklefolder + f'topologyB-noReg_{omission}_traces.pgz', \"rb\") as f:\n",
    "    traces_noReg = cloudpickle.load(f, encoding='bytes')\n",
    "\n",
    "with gzip.open(picklefolder + f'topologyB-reg1_{omission}_traces.pgz', \"rb\") as f:\n",
    "    traces_reg1 = cloudpickle.load(f, encoding='bytes')\n",
    "\n",
    "with gzip.open(picklefolder + f'topologyB-reg2_{omission}_traces.pgz', \"rb\") as f:\n",
    "    traces_reg2 = cloudpickle.load(f, encoding='bytes')"
   ]
  },
  {
   "cell_type": "code",
   "execution_count": 9,
   "metadata": {},
   "outputs": [],
   "source": [
    "trace01_noReg=traces_noReg['trace01']\n",
    "trace02_noReg=traces_noReg['trace02']\n",
    "trace03_noReg=traces_noReg['trace03']\n",
    "trace04_noReg=traces_noReg['trace04']\n",
    "trace05_noReg=traces_noReg['trace05']\n",
    "trace15_noReg=traces_noReg['trace15']\n",
    "trace3_noReg=traces_noReg['trace3']\n",
    "trace5_noReg=traces_noReg['trace5']\n",
    "trace7_noReg=traces_noReg['trace7']\n",
    "trace10_noReg=traces_noReg['trace100']\n",
    "\n",
    "trace01_reg1=traces_reg1['trace01']\n",
    "trace02_reg1=traces_reg1['trace02']\n",
    "trace03_reg1=traces_reg1['trace03']\n",
    "trace04_reg1=traces_reg1['trace04']\n",
    "trace05_reg1=traces_reg1['trace05']\n",
    "trace15_reg1=traces_reg1['trace15']\n",
    "trace3_reg1=traces_reg1['trace3']\n",
    "trace5_reg1=traces_reg1['trace5']\n",
    "trace7_reg1=traces_reg1['trace7']\n",
    "trace10_reg1=traces_reg1['trace100']\n",
    "\n",
    "trace01_reg2=traces_reg2['trace01']\n",
    "trace02_reg2=traces_reg2['trace02']\n",
    "trace03_reg2=traces_reg2['trace03']\n",
    "trace04_reg2=traces_reg2['trace04']\n",
    "trace05_reg2=traces_reg2['trace05']\n",
    "trace15_reg2=traces_reg2['trace15']\n",
    "trace3_reg2=traces_reg2['trace3']\n",
    "trace5_reg2=traces_reg2['trace5']\n",
    "trace7_reg2=traces_reg2['trace7']\n",
    "trace10_reg2=traces_reg2['trace100']"
   ]
  },
  {
   "cell_type": "markdown",
   "metadata": {},
   "source": [
    "## establishing elasticity means"
   ]
  },
  {
   "cell_type": "code",
   "execution_count": 10,
   "metadata": {},
   "outputs": [
    {
     "name": "stderr",
     "output_type": "stream",
     "text": [
      "arviz - WARNING - Shape validation failed: input_shape: (1, 1000), minimum_shape: (chains=2, draws=4)\n",
      "arviz - WARNING - Shape validation failed: input_shape: (1, 1000), minimum_shape: (chains=2, draws=4)\n",
      "arviz - WARNING - Shape validation failed: input_shape: (1, 1000), minimum_shape: (chains=2, draws=4)\n",
      "arviz - WARNING - Shape validation failed: input_shape: (1, 1000), minimum_shape: (chains=2, draws=4)\n",
      "arviz - WARNING - Shape validation failed: input_shape: (1, 1000), minimum_shape: (chains=2, draws=4)\n",
      "arviz - WARNING - Shape validation failed: input_shape: (1, 1000), minimum_shape: (chains=2, draws=4)\n",
      "arviz - WARNING - Shape validation failed: input_shape: (1, 1000), minimum_shape: (chains=2, draws=4)\n",
      "arviz - WARNING - Shape validation failed: input_shape: (1, 1000), minimum_shape: (chains=2, draws=4)\n",
      "arviz - WARNING - Shape validation failed: input_shape: (1, 1000), minimum_shape: (chains=2, draws=4)\n",
      "arviz - WARNING - Shape validation failed: input_shape: (1, 1000), minimum_shape: (chains=2, draws=4)\n",
      "arviz - WARNING - Shape validation failed: input_shape: (1, 1000), minimum_shape: (chains=2, draws=4)\n",
      "arviz - WARNING - Shape validation failed: input_shape: (1, 1000), minimum_shape: (chains=2, draws=4)\n",
      "arviz - WARNING - Shape validation failed: input_shape: (1, 1000), minimum_shape: (chains=2, draws=4)\n",
      "arviz - WARNING - Shape validation failed: input_shape: (1, 1000), minimum_shape: (chains=2, draws=4)\n",
      "arviz - WARNING - Shape validation failed: input_shape: (1, 1000), minimum_shape: (chains=2, draws=4)\n",
      "arviz - WARNING - Shape validation failed: input_shape: (1, 1000), minimum_shape: (chains=2, draws=4)\n",
      "arviz - WARNING - Shape validation failed: input_shape: (1, 1000), minimum_shape: (chains=2, draws=4)\n",
      "arviz - WARNING - Shape validation failed: input_shape: (1, 1000), minimum_shape: (chains=2, draws=4)\n",
      "arviz - WARNING - Shape validation failed: input_shape: (1, 1000), minimum_shape: (chains=2, draws=4)\n",
      "arviz - WARNING - Shape validation failed: input_shape: (1, 1000), minimum_shape: (chains=2, draws=4)\n",
      "arviz - WARNING - Shape validation failed: input_shape: (1, 1000), minimum_shape: (chains=2, draws=4)\n",
      "arviz - WARNING - Shape validation failed: input_shape: (1, 1000), minimum_shape: (chains=2, draws=4)\n",
      "arviz - WARNING - Shape validation failed: input_shape: (1, 1000), minimum_shape: (chains=2, draws=4)\n",
      "arviz - WARNING - Shape validation failed: input_shape: (1, 1000), minimum_shape: (chains=2, draws=4)\n",
      "arviz - WARNING - Shape validation failed: input_shape: (1, 1000), minimum_shape: (chains=2, draws=4)\n",
      "arviz - WARNING - Shape validation failed: input_shape: (1, 1000), minimum_shape: (chains=2, draws=4)\n",
      "arviz - WARNING - Shape validation failed: input_shape: (1, 1000), minimum_shape: (chains=2, draws=4)\n",
      "arviz - WARNING - Shape validation failed: input_shape: (1, 1000), minimum_shape: (chains=2, draws=4)\n",
      "arviz - WARNING - Shape validation failed: input_shape: (1, 1000), minimum_shape: (chains=2, draws=4)\n",
      "arviz - WARNING - Shape validation failed: input_shape: (1, 1000), minimum_shape: (chains=2, draws=4)\n",
      "arviz - WARNING - Shape validation failed: input_shape: (1, 1000), minimum_shape: (chains=2, draws=4)\n",
      "arviz - WARNING - Shape validation failed: input_shape: (1, 1000), minimum_shape: (chains=2, draws=4)\n",
      "arviz - WARNING - Shape validation failed: input_shape: (1, 1000), minimum_shape: (chains=2, draws=4)\n",
      "arviz - WARNING - Shape validation failed: input_shape: (1, 1000), minimum_shape: (chains=2, draws=4)\n",
      "arviz - WARNING - Shape validation failed: input_shape: (1, 1000), minimum_shape: (chains=2, draws=4)\n",
      "arviz - WARNING - Shape validation failed: input_shape: (1, 1000), minimum_shape: (chains=2, draws=4)\n",
      "arviz - WARNING - Shape validation failed: input_shape: (1, 1000), minimum_shape: (chains=2, draws=4)\n",
      "arviz - WARNING - Shape validation failed: input_shape: (1, 1000), minimum_shape: (chains=2, draws=4)\n",
      "arviz - WARNING - Shape validation failed: input_shape: (1, 1000), minimum_shape: (chains=2, draws=4)\n",
      "arviz - WARNING - Shape validation failed: input_shape: (1, 1000), minimum_shape: (chains=2, draws=4)\n",
      "arviz - WARNING - Shape validation failed: input_shape: (1, 1000), minimum_shape: (chains=2, draws=4)\n",
      "arviz - WARNING - Shape validation failed: input_shape: (1, 1000), minimum_shape: (chains=2, draws=4)\n",
      "arviz - WARNING - Shape validation failed: input_shape: (1, 1000), minimum_shape: (chains=2, draws=4)\n",
      "arviz - WARNING - Shape validation failed: input_shape: (1, 1000), minimum_shape: (chains=2, draws=4)\n",
      "arviz - WARNING - Shape validation failed: input_shape: (1, 1000), minimum_shape: (chains=2, draws=4)\n",
      "arviz - WARNING - Shape validation failed: input_shape: (1, 1000), minimum_shape: (chains=2, draws=4)\n",
      "arviz - WARNING - Shape validation failed: input_shape: (1, 1000), minimum_shape: (chains=2, draws=4)\n",
      "arviz - WARNING - Shape validation failed: input_shape: (1, 1000), minimum_shape: (chains=2, draws=4)\n",
      "arviz - WARNING - Shape validation failed: input_shape: (1, 1000), minimum_shape: (chains=2, draws=4)\n",
      "arviz - WARNING - Shape validation failed: input_shape: (1, 1000), minimum_shape: (chains=2, draws=4)\n",
      "arviz - WARNING - Shape validation failed: input_shape: (1, 1000), minimum_shape: (chains=2, draws=4)\n",
      "arviz - WARNING - Shape validation failed: input_shape: (1, 1000), minimum_shape: (chains=2, draws=4)\n",
      "arviz - WARNING - Shape validation failed: input_shape: (1, 1000), minimum_shape: (chains=2, draws=4)\n",
      "arviz - WARNING - Shape validation failed: input_shape: (1, 1000), minimum_shape: (chains=2, draws=4)\n",
      "arviz - WARNING - Shape validation failed: input_shape: (1, 1000), minimum_shape: (chains=2, draws=4)\n",
      "arviz - WARNING - Shape validation failed: input_shape: (1, 1000), minimum_shape: (chains=2, draws=4)\n",
      "arviz - WARNING - Shape validation failed: input_shape: (1, 1000), minimum_shape: (chains=2, draws=4)\n",
      "arviz - WARNING - Shape validation failed: input_shape: (1, 1000), minimum_shape: (chains=2, draws=4)\n",
      "arviz - WARNING - Shape validation failed: input_shape: (1, 1000), minimum_shape: (chains=2, draws=4)\n",
      "arviz - WARNING - Shape validation failed: input_shape: (1, 1000), minimum_shape: (chains=2, draws=4)\n",
      "arviz - WARNING - Shape validation failed: input_shape: (1, 1000), minimum_shape: (chains=2, draws=4)\n",
      "arviz - WARNING - Shape validation failed: input_shape: (1, 1000), minimum_shape: (chains=2, draws=4)\n",
      "arviz - WARNING - Shape validation failed: input_shape: (1, 1000), minimum_shape: (chains=2, draws=4)\n",
      "arviz - WARNING - Shape validation failed: input_shape: (1, 1000), minimum_shape: (chains=2, draws=4)\n",
      "arviz - WARNING - Shape validation failed: input_shape: (1, 1000), minimum_shape: (chains=2, draws=4)\n",
      "arviz - WARNING - Shape validation failed: input_shape: (1, 1000), minimum_shape: (chains=2, draws=4)\n",
      "arviz - WARNING - Shape validation failed: input_shape: (1, 1000), minimum_shape: (chains=2, draws=4)\n",
      "arviz - WARNING - Shape validation failed: input_shape: (1, 1000), minimum_shape: (chains=2, draws=4)\n",
      "arviz - WARNING - Shape validation failed: input_shape: (1, 1000), minimum_shape: (chains=2, draws=4)\n",
      "arviz - WARNING - Shape validation failed: input_shape: (1, 1000), minimum_shape: (chains=2, draws=4)\n",
      "arviz - WARNING - Shape validation failed: input_shape: (1, 1000), minimum_shape: (chains=2, draws=4)\n",
      "arviz - WARNING - Shape validation failed: input_shape: (1, 1000), minimum_shape: (chains=2, draws=4)\n",
      "arviz - WARNING - Shape validation failed: input_shape: (1, 1000), minimum_shape: (chains=2, draws=4)\n",
      "arviz - WARNING - Shape validation failed: input_shape: (1, 1000), minimum_shape: (chains=2, draws=4)\n",
      "arviz - WARNING - Shape validation failed: input_shape: (1, 1000), minimum_shape: (chains=2, draws=4)\n",
      "arviz - WARNING - Shape validation failed: input_shape: (1, 1000), minimum_shape: (chains=2, draws=4)\n",
      "arviz - WARNING - Shape validation failed: input_shape: (1, 1000), minimum_shape: (chains=2, draws=4)\n",
      "arviz - WARNING - Shape validation failed: input_shape: (1, 1000), minimum_shape: (chains=2, draws=4)\n",
      "arviz - WARNING - Shape validation failed: input_shape: (1, 1000), minimum_shape: (chains=2, draws=4)\n",
      "arviz - WARNING - Shape validation failed: input_shape: (1, 1000), minimum_shape: (chains=2, draws=4)\n",
      "arviz - WARNING - Shape validation failed: input_shape: (1, 1000), minimum_shape: (chains=2, draws=4)\n",
      "arviz - WARNING - Shape validation failed: input_shape: (1, 1000), minimum_shape: (chains=2, draws=4)\n",
      "arviz - WARNING - Shape validation failed: input_shape: (1, 1000), minimum_shape: (chains=2, draws=4)\n",
      "arviz - WARNING - Shape validation failed: input_shape: (1, 1000), minimum_shape: (chains=2, draws=4)\n",
      "arviz - WARNING - Shape validation failed: input_shape: (1, 1000), minimum_shape: (chains=2, draws=4)\n",
      "arviz - WARNING - Shape validation failed: input_shape: (1, 1000), minimum_shape: (chains=2, draws=4)\n",
      "arviz - WARNING - Shape validation failed: input_shape: (1, 1000), minimum_shape: (chains=2, draws=4)\n",
      "arviz - WARNING - Shape validation failed: input_shape: (1, 1000), minimum_shape: (chains=2, draws=4)\n",
      "arviz - WARNING - Shape validation failed: input_shape: (1, 1000), minimum_shape: (chains=2, draws=4)\n",
      "arviz - WARNING - Shape validation failed: input_shape: (1, 1000), minimum_shape: (chains=2, draws=4)\n"
     ]
    }
   ],
   "source": [
    "if omission == 'allData':\n",
    "    # for all data\n",
    "    Ex01_noReg = util.get_az_summary(trace01_noReg)\n",
    "    Ex01_reg1 = util.get_az_summary(trace01_reg1)\n",
    "    Ex01_reg2 = util.get_az_summary(trace01_reg2)\n",
    "\n",
    "    Ex02_noReg = util.get_az_summary(trace02_noReg)\n",
    "    Ex02_reg1 = util.get_az_summary(trace02_reg1)\n",
    "    Ex02_reg2 = util.get_az_summary(trace02_reg2)\n",
    "\n",
    "    Ex03_noReg = util.get_az_summary(trace03_noReg)\n",
    "    Ex03_reg1 = util.get_az_summary(trace03_reg1)\n",
    "    Ex03_reg2 = util.get_az_summary(trace03_reg2)\n",
    "\n",
    "    Ex04_noReg = util.get_az_summary(trace04_noReg)\n",
    "    Ex04_reg1 = util.get_az_summary(trace04_reg1)\n",
    "    Ex04_reg2 = util.get_az_summary(trace04_reg2)\n",
    "\n",
    "    Ex05_noReg = util.get_az_summary(trace05_noReg)\n",
    "    Ex05_reg1 = util.get_az_summary(trace05_reg1)\n",
    "    Ex05_reg2 = util.get_az_summary(trace05_reg2)\n",
    "\n",
    "    Ex15_noReg = util.get_az_summary(trace15_noReg)\n",
    "    Ex15_reg1 = util.get_az_summary(trace15_reg1)\n",
    "    Ex15_reg2 = util.get_az_summary(trace15_reg2)\n",
    "\n",
    "    Ex3_noReg = util.get_az_summary(trace3_noReg)\n",
    "    Ex3_reg1 = util.get_az_summary(trace3_reg1)\n",
    "    Ex3_reg2 = util.get_az_summary(trace3_reg2)\n",
    "\n",
    "    Ex5_noReg = util.get_az_summary(trace5_noReg)\n",
    "    Ex5_reg1 = util.get_az_summary(trace5_reg1)\n",
    "    Ex5_reg2 = util.get_az_summary(trace5_reg2)\n",
    "\n",
    "    Ex7_noReg = util.get_az_summary(trace7_noReg)\n",
    "    Ex7_reg1 = util.get_az_summary(trace7_reg1)\n",
    "    Ex7_reg2 = util.get_az_summary(trace7_reg2)\n",
    "\n",
    "    Ex100_noReg = util.get_az_summary(trace10_noReg)\n",
    "    Ex100_reg1 = util.get_az_summary(trace10_reg1)\n",
    "    Ex100_reg2 = util.get_az_summary(trace10_reg2)\n",
    "\n",
    "else:\n",
    "    # for omitted data\n",
    "    Ex01_noReg = util.get_az_mean(trace01_noReg)\n",
    "    Ex01_reg1 = util.get_az_mean(trace01_reg1)\n",
    "    Ex01_reg2 = util.get_az_mean(trace01_reg2)\n",
    "\n",
    "    Ex02_noReg = util.get_az_mean(trace02_noReg)\n",
    "    Ex02_reg1 = util.get_az_mean(trace02_reg1)\n",
    "    Ex02_reg2 = util.get_az_mean(trace02_reg2)\n",
    "\n",
    "    Ex03_noReg = util.get_az_mean(trace03_noReg)\n",
    "    Ex03_reg1 = util.get_az_mean(trace03_reg1)\n",
    "    Ex03_reg2 = util.get_az_mean(trace03_reg2)\n",
    "\n",
    "    Ex04_noReg = util.get_az_mean(trace04_noReg)\n",
    "    Ex04_reg1 = util.get_az_mean(trace04_reg1)\n",
    "    Ex04_reg2 = util.get_az_mean(trace04_reg2)\n",
    "\n",
    "    Ex05_noReg = util.get_az_mean(trace05_noReg)\n",
    "    Ex05_reg1 = util.get_az_mean(trace05_reg1)\n",
    "    Ex05_reg2 = util.get_az_mean(trace05_reg2)\n",
    "\n",
    "    Ex15_noReg = util.get_az_mean(trace15_noReg)\n",
    "    Ex15_reg1 = util.get_az_mean(trace15_reg1)\n",
    "    Ex15_reg2 = util.get_az_mean(trace15_reg2)\n",
    "\n",
    "    Ex3_noReg = util.get_az_mean(trace3_noReg)\n",
    "    Ex3_reg1 = util.get_az_mean(trace3_reg1)\n",
    "    Ex3_reg2 = util.get_az_mean(trace3_reg2)\n",
    "\n",
    "    Ex5_noReg = util.get_az_mean(trace5_noReg)\n",
    "    Ex5_reg1 = util.get_az_mean(trace5_reg1)\n",
    "    Ex5_reg2 = util.get_az_mean(trace5_reg2)\n",
    "\n",
    "    Ex7_noReg = util.get_az_mean(trace7_noReg)\n",
    "    Ex7_reg1 = util.get_az_mean(trace7_reg1)\n",
    "    Ex7_reg2 = util.get_az_mean(trace7_reg2)\n",
    "\n",
    "    Ex100_noReg = util.get_az_mean(trace10_noReg)\n",
    "    Ex100_reg1 = util.get_az_mean(trace10_reg1)\n",
    "    Ex100_reg2 = util.get_az_mean(trace10_reg2)"
   ]
  },
  {
   "cell_type": "code",
   "execution_count": 11,
   "metadata": {},
   "outputs": [],
   "source": [
    "# free"
   ]
  },
  {
   "cell_type": "markdown",
   "metadata": {},
   "source": [
    "## How does the presence of regulators affect BMCA’s performance?"
   ]
  },
  {
   "cell_type": "code",
   "execution_count": 11,
   "metadata": {},
   "outputs": [
    {
     "name": "stdout",
     "output_type": "stream",
     "text": [
      "(30, 247)\n"
     ]
    },
    {
     "data": {
      "text/html": [
       "<div>\n",
       "<style scoped>\n",
       "    .dataframe tbody tr th:only-of-type {\n",
       "        vertical-align: middle;\n",
       "    }\n",
       "\n",
       "    .dataframe tbody tr th {\n",
       "        vertical-align: top;\n",
       "    }\n",
       "\n",
       "    .dataframe thead th {\n",
       "        text-align: right;\n",
       "    }\n",
       "</style>\n",
       "<table border=\"1\" class=\"dataframe\">\n",
       "  <thead>\n",
       "    <tr style=\"text-align: right;\">\n",
       "      <th></th>\n",
       "      <th>index</th>\n",
       "      <th>variable</th>\n",
       "      <th>value</th>\n",
       "    </tr>\n",
       "  </thead>\n",
       "  <tbody>\n",
       "    <tr>\n",
       "      <th>0</th>\n",
       "      <td>Ex01_noReg</td>\n",
       "      <td>ela0</td>\n",
       "      <td>0.008333</td>\n",
       "    </tr>\n",
       "    <tr>\n",
       "      <th>1</th>\n",
       "      <td>Ex01_reg1</td>\n",
       "      <td>ela0</td>\n",
       "      <td>0.013667</td>\n",
       "    </tr>\n",
       "    <tr>\n",
       "      <th>2</th>\n",
       "      <td>Ex01_reg2</td>\n",
       "      <td>ela0</td>\n",
       "      <td>0.014333</td>\n",
       "    </tr>\n",
       "    <tr>\n",
       "      <th>3</th>\n",
       "      <td>Ex02_noReg</td>\n",
       "      <td>ela0</td>\n",
       "      <td>0.009333</td>\n",
       "    </tr>\n",
       "    <tr>\n",
       "      <th>4</th>\n",
       "      <td>Ex02_reg1</td>\n",
       "      <td>ela0</td>\n",
       "      <td>0.014333</td>\n",
       "    </tr>\n",
       "    <tr>\n",
       "      <th>...</th>\n",
       "      <td>...</td>\n",
       "      <td>...</td>\n",
       "      <td>...</td>\n",
       "    </tr>\n",
       "    <tr>\n",
       "      <th>7405</th>\n",
       "      <td>Ex7_reg1</td>\n",
       "      <td>ela246</td>\n",
       "      <td>-0.052667</td>\n",
       "    </tr>\n",
       "    <tr>\n",
       "      <th>7406</th>\n",
       "      <td>Ex7_reg2</td>\n",
       "      <td>ela246</td>\n",
       "      <td>-0.047667</td>\n",
       "    </tr>\n",
       "    <tr>\n",
       "      <th>7407</th>\n",
       "      <td>Ex100_noReg</td>\n",
       "      <td>ela246</td>\n",
       "      <td>-0.009000</td>\n",
       "    </tr>\n",
       "    <tr>\n",
       "      <th>7408</th>\n",
       "      <td>Ex100_reg1</td>\n",
       "      <td>ela246</td>\n",
       "      <td>-0.063333</td>\n",
       "    </tr>\n",
       "    <tr>\n",
       "      <th>7409</th>\n",
       "      <td>Ex100_reg2</td>\n",
       "      <td>ela246</td>\n",
       "      <td>-0.057333</td>\n",
       "    </tr>\n",
       "  </tbody>\n",
       "</table>\n",
       "<p>7410 rows × 3 columns</p>\n",
       "</div>"
      ],
      "text/plain": [
       "            index variable     value\n",
       "0      Ex01_noReg     ela0  0.008333\n",
       "1       Ex01_reg1     ela0  0.013667\n",
       "2       Ex01_reg2     ela0  0.014333\n",
       "3      Ex02_noReg     ela0  0.009333\n",
       "4       Ex02_reg1     ela0  0.014333\n",
       "...           ...      ...       ...\n",
       "7405     Ex7_reg1   ela246 -0.052667\n",
       "7406     Ex7_reg2   ela246 -0.047667\n",
       "7407  Ex100_noReg   ela246 -0.009000\n",
       "7408   Ex100_reg1   ela246 -0.063333\n",
       "7409   Ex100_reg2   ela246 -0.057333\n",
       "\n",
       "[7410 rows x 3 columns]"
      ]
     },
     "execution_count": 11,
     "metadata": {},
     "output_type": "execute_result"
    }
   ],
   "source": [
    "all_elas = np.vstack([Ex01_noReg, Ex01_reg1, Ex01_reg2,Ex02_noReg, Ex02_reg1, Ex02_reg2,Ex03_noReg, Ex03_reg1, Ex03_reg2,Ex04_noReg, Ex04_reg1, Ex04_reg2,Ex05_noReg, Ex05_reg1, Ex05_reg2,Ex15_noReg, Ex15_reg1, Ex15_reg2,Ex3_noReg, Ex3_reg1, Ex3_reg2,Ex5_noReg, Ex5_reg1, Ex5_reg2,Ex7_noReg, Ex7_reg1, Ex7_reg2,Ex100_noReg, Ex100_reg1, Ex100_reg2])\n",
    "\n",
    "elatypes=['Ex01_noReg', 'Ex01_reg1', 'Ex01_reg2', 'Ex02_noReg', 'Ex02_reg1', 'Ex02_reg2', 'Ex03_noReg', 'Ex03_reg1', 'Ex03_reg2', 'Ex04_noReg', 'Ex04_reg1', 'Ex04_reg2', 'Ex05_noReg', 'Ex05_reg1', 'Ex05_reg2', 'Ex15_noReg', 'Ex15_reg1', 'Ex15_reg2', 'Ex3_noReg', 'Ex3_reg1', 'Ex3_reg2', 'Ex5_noReg', 'Ex5_reg1', 'Ex5_reg2', 'Ex7_noReg', 'Ex7_reg1', 'Ex7_reg2', 'Ex100_noReg', 'Ex100_reg1', 'Ex100_reg2']\n",
    "\n",
    "all_elas_df = pd.DataFrame(all_elas, index=elatypes)\n",
    "all_elas_df.columns = ['ela'+str(i) for i in range(247)]\n",
    "print(all_elas_df.shape)\n",
    "\n",
    "df = all_elas_df.melt(ignore_index=False).reset_index()\n",
    "df"
   ]
  },
  {
   "cell_type": "code",
   "execution_count": 20,
   "metadata": {},
   "outputs": [
    {
     "name": "stdout",
     "output_type": "stream",
     "text": [
      "                Anova\n",
      "======================================\n",
      "      F Value  Num DF   Den DF  Pr > F\n",
      "--------------------------------------\n",
      "index  1.5125 29.0000 7134.0000 0.0382\n",
      "======================================\n",
      "\n"
     ]
    }
   ],
   "source": [
    "# Perform Repeated Measures ANOVA for every single perturbation and every single regulator variation\n",
    "anova = AnovaRM(data=df, depvar='value', subject='variable', within=['index'])\n",
    "print(anova.fit())"
   ]
  },
  {
   "cell_type": "code",
   "execution_count": 18,
   "metadata": {},
   "outputs": [
    {
     "data": {
      "text/html": [
       "<div>\n",
       "<style scoped>\n",
       "    .dataframe tbody tr th:only-of-type {\n",
       "        vertical-align: middle;\n",
       "    }\n",
       "\n",
       "    .dataframe tbody tr th {\n",
       "        vertical-align: top;\n",
       "    }\n",
       "\n",
       "    .dataframe thead th {\n",
       "        text-align: right;\n",
       "    }\n",
       "</style>\n",
       "<table border=\"1\" class=\"dataframe\">\n",
       "  <thead>\n",
       "    <tr style=\"text-align: right;\">\n",
       "      <th></th>\n",
       "      <th>Source</th>\n",
       "      <th>SS</th>\n",
       "      <th>DF</th>\n",
       "      <th>MS</th>\n",
       "      <th>F</th>\n",
       "      <th>p-unc</th>\n",
       "      <th>ng2</th>\n",
       "      <th>eps</th>\n",
       "    </tr>\n",
       "  </thead>\n",
       "  <tbody>\n",
       "    <tr>\n",
       "      <th>0</th>\n",
       "      <td>index</td>\n",
       "      <td>2.059837</td>\n",
       "      <td>29</td>\n",
       "      <td>0.071029</td>\n",
       "      <td>1.512516</td>\n",
       "      <td>0.038241</td>\n",
       "      <td>0.000743</td>\n",
       "      <td>0.069684</td>\n",
       "    </tr>\n",
       "    <tr>\n",
       "      <th>1</th>\n",
       "      <td>Error</td>\n",
       "      <td>335.017747</td>\n",
       "      <td>7134</td>\n",
       "      <td>0.046961</td>\n",
       "      <td>NaN</td>\n",
       "      <td>NaN</td>\n",
       "      <td>NaN</td>\n",
       "      <td>NaN</td>\n",
       "    </tr>\n",
       "  </tbody>\n",
       "</table>\n",
       "</div>"
      ],
      "text/plain": [
       "  Source          SS    DF        MS         F     p-unc       ng2       eps\n",
       "0  index    2.059837    29  0.071029  1.512516  0.038241  0.000743  0.069684\n",
       "1  Error  335.017747  7134  0.046961       NaN       NaN       NaN       NaN"
      ]
     },
     "execution_count": 18,
     "metadata": {},
     "output_type": "execute_result"
    }
   ],
   "source": [
    "import pingouin as pg\n",
    "anova = pg.rm_anova(data=df, dv='value', subject='variable', within=['index'], detailed=True)\n",
    "anova"
   ]
  },
  {
   "cell_type": "code",
   "execution_count": 19,
   "metadata": {},
   "outputs": [
    {
     "name": "stdout",
     "output_type": "stream",
     "text": [
      "Eta-squared: 0.0061\n"
     ]
    }
   ],
   "source": [
    "ss_factor = anova.loc[anova['Source'] == 'index', 'SS'].values[0] \n",
    "ss_total = anova['SS'].sum() \n",
    "eta_squared = ss_factor / ss_total \n",
    "print(f\"Eta-squared: {eta_squared:.4f}\")"
   ]
  },
  {
   "cell_type": "code",
   "execution_count": null,
   "metadata": {},
   "outputs": [
    {
     "name": "stdout",
     "output_type": "stream",
     "text": [
      "               Anova\n",
      "====================================\n",
      "      F Value Num DF  Den DF  Pr > F\n",
      "------------------------------------\n",
      "index  0.0806 2.0000 492.0000 0.9226\n",
      "====================================\n",
      "\n",
      "               Anova\n",
      "====================================\n",
      "      F Value Num DF  Den DF  Pr > F\n",
      "------------------------------------\n",
      "index  0.3111 2.0000 492.0000 0.7328\n",
      "====================================\n",
      "\n",
      "               Anova\n",
      "====================================\n",
      "      F Value Num DF  Den DF  Pr > F\n",
      "------------------------------------\n",
      "index  0.3725 2.0000 492.0000 0.6892\n",
      "====================================\n",
      "\n",
      "               Anova\n",
      "====================================\n",
      "      F Value Num DF  Den DF  Pr > F\n",
      "------------------------------------\n",
      "index  0.6767 2.0000 492.0000 0.5087\n",
      "====================================\n",
      "\n",
      "               Anova\n",
      "====================================\n",
      "      F Value Num DF  Den DF  Pr > F\n",
      "------------------------------------\n",
      "index  0.5509 2.0000 492.0000 0.5768\n",
      "====================================\n",
      "\n",
      "               Anova\n",
      "====================================\n",
      "      F Value Num DF  Den DF  Pr > F\n",
      "------------------------------------\n",
      "index  0.0320 2.0000 492.0000 0.9685\n",
      "====================================\n",
      "\n",
      "               Anova\n",
      "====================================\n",
      "      F Value Num DF  Den DF  Pr > F\n",
      "------------------------------------\n",
      "index  2.6427 2.0000 492.0000 0.0722\n",
      "====================================\n",
      "\n",
      "               Anova\n",
      "====================================\n",
      "      F Value Num DF  Den DF  Pr > F\n",
      "------------------------------------\n",
      "index  1.8137 2.0000 492.0000 0.1641\n",
      "====================================\n",
      "\n",
      "               Anova\n",
      "====================================\n",
      "      F Value Num DF  Den DF  Pr > F\n",
      "------------------------------------\n",
      "index  2.0108 2.0000 492.0000 0.1350\n",
      "====================================\n",
      "\n",
      "               Anova\n",
      "====================================\n",
      "      F Value Num DF  Den DF  Pr > F\n",
      "------------------------------------\n",
      "index  1.9019 2.0000 492.0000 0.1504\n",
      "====================================\n",
      "\n"
     ]
    }
   ],
   "source": [
    "pt_levels = ['01', '02', '03', '04', '05', '15', '3', '5', '7', '10']\n",
    "for lvl in pt_levels:\n",
    "    anova = AnovaRM(data=df[df['index'].str.contains(f'Ex{lvl}')], depvar='value', subject='variable', within=['index'])\n",
    "    print(anova.fit())"
   ]
  },
  {
   "cell_type": "code",
   "execution_count": null,
   "metadata": {},
   "outputs": [],
   "source": [
    "# Perform Repeated Measures ANOVA\n",
    "anova = AnovaRM(data=df, depvar='value', subject='variable', within=['index'])\n",
    "result = anova.fit()\n",
    "\n",
    "# Print the ANOVA table\n",
    "print(result)"
   ]
  },
  {
   "cell_type": "code",
   "execution_count": 12,
   "metadata": {},
   "outputs": [
    {
     "name": "stdout",
     "output_type": "stream",
     "text": [
      "0.004\n",
      "0.017\n",
      "0.02\n",
      "0.039\n",
      "0.022\n",
      "0.001\n",
      "0.103\n",
      "0.138\n",
      "0.152\n",
      "0.178\n",
      "\n",
      "\n",
      "0.996\n",
      "0.983\n",
      "0.98\n",
      "0.962\n",
      "0.978\n",
      "0.999\n",
      "0.902\n",
      "0.871\n",
      "0.859\n",
      "0.837\n"
     ]
    }
   ],
   "source": [
    "print(round(sp.stats.f_oneway(Ex01_noReg, Ex01_reg1, Ex01_reg2)[0],3))\n",
    "print(round(sp.stats.f_oneway(Ex02_noReg, Ex02_reg1, Ex02_reg2)[0],3))\n",
    "print(round(sp.stats.f_oneway(Ex03_noReg, Ex03_reg1, Ex03_reg2)[0],3))\n",
    "print(round(sp.stats.f_oneway(Ex04_noReg, Ex04_reg1, Ex04_reg2)[0],3))\n",
    "print(round(sp.stats.f_oneway(Ex05_noReg, Ex05_reg1, Ex05_reg2)[0],3))\n",
    "print(round(sp.stats.f_oneway(Ex15_noReg, Ex15_reg1, Ex15_reg2)[0],3))\n",
    "print(round(sp.stats.f_oneway(Ex3_noReg, Ex3_reg1, Ex3_reg2)[0],3))\n",
    "print(round(sp.stats.f_oneway(Ex5_noReg, Ex5_reg1, Ex5_reg2)[0],3))\n",
    "print(round(sp.stats.f_oneway(Ex7_noReg, Ex7_reg1, Ex7_reg2)[0],3))\n",
    "print(round(sp.stats.f_oneway(Ex100_noReg, Ex100_reg1, Ex100_reg2)[0],3))\n",
    "print('\\n')\n",
    "print(round(sp.stats.f_oneway(Ex01_noReg, Ex01_reg1, Ex01_reg2)[1],3))\n",
    "print(round(sp.stats.f_oneway(Ex02_noReg, Ex02_reg1, Ex02_reg2)[1],3))\n",
    "print(round(sp.stats.f_oneway(Ex03_noReg, Ex03_reg1, Ex03_reg2)[1],3))\n",
    "print(round(sp.stats.f_oneway(Ex04_noReg, Ex04_reg1, Ex04_reg2)[1],3))\n",
    "print(round(sp.stats.f_oneway(Ex05_noReg, Ex05_reg1, Ex05_reg2)[1],3))\n",
    "print(round(sp.stats.f_oneway(Ex15_noReg, Ex15_reg1, Ex15_reg2)[1],3))\n",
    "print(round(sp.stats.f_oneway(Ex3_noReg, Ex3_reg1, Ex3_reg2)[1],3))\n",
    "print(round(sp.stats.f_oneway(Ex5_noReg, Ex5_reg1, Ex5_reg2)[1],3))\n",
    "print(round(sp.stats.f_oneway(Ex7_noReg, Ex7_reg1, Ex7_reg2)[1],3))\n",
    "print(round(sp.stats.f_oneway(Ex100_noReg, Ex100_reg1, Ex100_reg2)[1],3))"
   ]
  },
  {
   "cell_type": "markdown",
   "metadata": {},
   "source": [
    "## organizing elasticity values into pd dfs "
   ]
  },
  {
   "cell_type": "code",
   "execution_count": 11,
   "metadata": {},
   "outputs": [],
   "source": [
    "ela_noReg_values = np.column_stack([Ex01_noReg, Ex02_noReg, Ex03_noReg, \n",
    "                                Ex04_noReg, Ex05_noReg,  \n",
    "                                Ex15_noReg, Ex3_noReg, Ex5_noReg, \n",
    "                                Ex7_noReg, Ex100_noReg])\n",
    "\n",
    "ela_reg1_values = np.column_stack([Ex01_reg1, Ex02_reg1, Ex03_reg1, \n",
    "                                Ex04_reg1, Ex05_reg1,  \n",
    "                                Ex15_reg1, Ex3_reg1, Ex5_reg1, \n",
    "                                Ex7_reg1, Ex100_reg1])\n",
    "\n",
    "ela_reg2_values = np.column_stack([Ex01_reg2, Ex02_reg2, Ex03_reg2, \n",
    "                                Ex04_reg2, Ex05_reg2,  \n",
    "                                Ex15_reg2, Ex3_reg2, Ex5_reg2, \n",
    "                                Ex7_reg2, Ex100_reg2])\n",
    "\n",
    "pt_labels = ['0.1x', '0.2x', '0.3x', '0.4x','0.5x', '1.5x', '3x', '5x', '7x', '10x']\n",
    "\n",
    "ela_noReg_df = pd.DataFrame(ela_noReg_values, columns=pt_labels)\n",
    "ela_reg1_df = pd.DataFrame(ela_reg1_values, columns=pt_labels)\n",
    "ela_reg2_df = pd.DataFrame(ela_reg2_values, columns=pt_labels)\n",
    "\n",
    "ela_noReg_df['median'] = ela_noReg_df.median(axis=1)\n",
    "ela_noReg_df['min'] = ela_noReg_df.min(axis=1)\n",
    "ela_noReg_df['max'] = ela_noReg_df.max(axis=1)\n",
    "\n",
    "ela_reg1_df['median'] = ela_reg1_df.median(axis=1)\n",
    "ela_reg1_df['min'] = ela_reg1_df.min(axis=1)\n",
    "ela_reg1_df['max'] = ela_reg1_df.max(axis=1)\n",
    "\n",
    "ela_reg2_df['median'] = ela_reg2_df.median(axis=1)\n",
    "ela_reg2_df['min'] = ela_reg2_df.min(axis=1)\n",
    "ela_reg2_df['max'] = ela_reg2_df.max(axis=1)"
   ]
  },
  {
   "cell_type": "markdown",
   "metadata": {},
   "source": [
    "## graphing the elasticity predictions over perturbation level and regulator level"
   ]
  },
  {
   "cell_type": "code",
   "execution_count": 12,
   "metadata": {},
   "outputs": [],
   "source": [
    "lower_y_noReg = np.array(ela_noReg_df['median']) - ela_noReg_df['min'].values\n",
    "upper_y_noReg =np.array(ela_noReg_df['max'].values) - np.array(ela_noReg_df['median'])\n",
    "errors_noReg = [lower_y_noReg, upper_y_noReg]\n",
    "\n",
    "lower_y_reg1 = np.array(ela_reg1_df['median']) - ela_reg1_df['min'].values\n",
    "upper_y_reg1 =np.array(ela_reg1_df['max'].values) - np.array(ela_reg1_df['median'])\n",
    "errors_reg1 = [lower_y_reg1, upper_y_reg1]\n",
    "\n",
    "lower_y_reg2 = np.array(ela_reg2_df['median']) - ela_reg2_df['min'].values\n",
    "upper_y_reg2 =np.array(ela_reg2_df['max'].values) - np.array(ela_reg2_df['median'])\n",
    "errors_reg2 = [lower_y_reg2, upper_y_reg2]\n"
   ]
  },
  {
   "cell_type": "code",
   "execution_count": 13,
   "metadata": {},
   "outputs": [
    {
     "name": "stdout",
     "output_type": "stream",
     "text": [
      "0.12665\n",
      "0.20864\n",
      "0.32867\n"
     ]
    }
   ],
   "source": [
    "# MAE\n",
    "print(round(sum(abs(ela_noReg_df['median']-gt_noReg))/len(gt_noReg),5))\n",
    "print(round(sum(abs(ela_noReg_df['median']-gt_reg1))/len(gt_reg1),5))\n",
    "print(round(sum(abs(ela_noReg_df['median']-gt_reg2))/len(gt_reg2),5))"
   ]
  },
  {
   "cell_type": "code",
   "execution_count": 14,
   "metadata": {},
   "outputs": [
    {
     "data": {
      "image/png": "[encoded data removed]",
      "text/plain": [
       "<Figure size 640x480 with 1 Axes>"
      ]
     },
     "metadata": {},
     "output_type": "display_data"
    }
   ],
   "source": [
    "plt.axes().set_aspect('equal', 'datalim')\n",
    "\n",
    "plt.errorbar(gt_noReg, ela_noReg_df['median'], yerr=errors_noReg, alpha=0.4, fmt='o', label='noReg', zorder=100)\n",
    "plt.errorbar(gt_reg1, ela_reg1_df['median'], yerr=errors_reg1, alpha=0.5, fmt='o', label='reg1', zorder=50)\n",
    "plt.errorbar(gt_reg2, ela_reg2_df['median'], yerr=errors_reg2, alpha=0.5, fmt='o', label='reg2', zorder=20)\n",
    "# plt.legend(bbox_to_anchor=(1.04, 1), loc=\"upper left\")\n",
    "plt.legend(loc=\"upper left\")\n",
    "plt.axline([0, 0], [1, 1], c='gray', linestyle='dashed', zorder=1, linewidth=2)\n",
    "plt.grid(True, which='both', axis='both', zorder=0)\n",
    "plt.xlabel('ground truth elasticity values', size=14)\n",
    "plt.ylabel('predicted elasticity values', size=14)\n",
    "plt.savefig(f'../data/results/raw_svg_figures/top{topology}/top{topology}-{omission}-combinedElasticities.svg', format=\"svg\")"
   ]
  },
  {
   "cell_type": "code",
   "execution_count": 15,
   "metadata": {},
   "outputs": [
    {
     "data": {
      "image/png": "[encoded data removed]",
      "text/plain": [
       "<Figure size 640x480 with 1 Axes>"
      ]
     },
     "metadata": {},
     "output_type": "display_data"
    }
   ],
   "source": [
    "#plt.figure(figsize=(8, 6))\n",
    "plt.axes().set_aspect('equal')\n",
    "plt.xlim((-5,5))\n",
    "plt.ylim((-4,4))\n",
    "\n",
    "\n",
    "plt.errorbar(gt_noReg, ela_noReg_df['median'], yerr=errors_noReg, alpha=0.4, fmt='o', label='noReg', zorder=100)\n",
    "plt.errorbar(gt_reg1, ela_reg1_df['median'], yerr=errors_reg1, alpha=0.5, fmt='o', label='reg1', zorder=50)\n",
    "plt.errorbar(gt_reg2, ela_reg2_df['median'], yerr=errors_reg2, alpha=0.5, fmt='o', label='reg2', zorder=20)\n",
    "# plt.legend(bbox_to_anchor=(1.04, 1), loc=\"upper left\")\n",
    "plt.legend(loc=\"upper left\")\n",
    "plt.axline([0, 0], [1, 1], c='gray', linestyle='dashed', zorder=1, linewidth=2)\n",
    "plt.grid(True, which='both', axis='both', zorder=0)\n",
    "plt.xlabel('ground truth elasticity values', size=14)\n",
    "plt.ylabel('predicted elasticity values', size=14)\n",
    "plt.savefig(f'../data/results/raw_svg_figures/top{topology}/top{topology}-{omission}-combinedElasticities_zoom.svg', format=\"svg\")"
   ]
  },
  {
   "cell_type": "markdown",
   "metadata": {},
   "source": [
    "## Calculating FCC values and making graphs"
   ]
  },
  {
   "cell_type": "code",
   "execution_count": 16,
   "metadata": {},
   "outputs": [],
   "source": [
    "gtFCC_noReg = pd.DataFrame(rr_noReg.getScaledFluxControlCoefficientMatrix(), index=rr_noReg.getReactionIds(), columns=rr_noReg.getReactionIds())\n",
    "gtFCC_reg1 = pd.DataFrame(rr_reg1.getScaledFluxControlCoefficientMatrix(), index=rr_noReg.getReactionIds(), columns=rr_noReg.getReactionIds())\n",
    "gtFCC_reg2 = pd.DataFrame(rr_reg2.getScaledFluxControlCoefficientMatrix(), index=rr_noReg.getReactionIds(), columns=rr_noReg.getReactionIds())"
   ]
  },
  {
   "cell_type": "markdown",
   "metadata": {},
   "source": [
    "### priors"
   ]
  },
  {
   "cell_type": "code",
   "execution_count": 17,
   "metadata": {},
   "outputs": [
    {
     "name": "stderr",
     "output_type": "stream",
     "text": [
      "Sampling: [Ex_capacity_entries, Ex_kinetic_entries, Ey_capacity_entries, Ey_kinetic_entries]\n",
      "arviz - WARNING - Shape validation failed: input_shape: (1, 500), minimum_shape: (chains=2, draws=4)\n",
      "Sampling: [Ex_capacity_entries, Ex_kinetic_entries, Ey_capacity_entries, Ey_kinetic_entries]\n",
      "arviz - WARNING - Shape validation failed: input_shape: (1, 500), minimum_shape: (chains=2, draws=4)\n",
      "Sampling: [Ex_capacity_entries, Ex_kinetic_entries, Ey_capacity_entries, Ey_kinetic_entries]\n",
      "arviz - WARNING - Shape validation failed: input_shape: (1, 500), minimum_shape: (chains=2, draws=4)\n",
      "Sampling: [Ex_capacity_entries, Ex_kinetic_entries, Ey_capacity_entries, Ey_kinetic_entries]\n",
      "arviz - WARNING - Shape validation failed: input_shape: (1, 500), minimum_shape: (chains=2, draws=4)\n",
      "Sampling: [Ex_capacity_entries, Ex_kinetic_entries, Ey_capacity_entries, Ey_kinetic_entries]\n",
      "arviz - WARNING - Shape validation failed: input_shape: (1, 500), minimum_shape: (chains=2, draws=4)\n",
      "Sampling: [Ex_capacity_entries, Ex_kinetic_entries, Ey_capacity_entries, Ey_kinetic_entries]\n",
      "arviz - WARNING - Shape validation failed: input_shape: (1, 500), minimum_shape: (chains=2, draws=4)\n",
      "Sampling: [Ex_capacity_entries, Ex_kinetic_entries, Ey_capacity_entries, Ey_kinetic_entries]\n",
      "arviz - WARNING - Shape validation failed: input_shape: (1, 500), minimum_shape: (chains=2, draws=4)\n",
      "Sampling: [Ex_capacity_entries, Ex_kinetic_entries, Ey_capacity_entries, Ey_kinetic_entries]\n",
      "arviz - WARNING - Shape validation failed: input_shape: (1, 500), minimum_shape: (chains=2, draws=4)\n",
      "Sampling: [Ex_capacity_entries, Ex_kinetic_entries, Ey_capacity_entries, Ey_kinetic_entries]\n",
      "arviz - WARNING - Shape validation failed: input_shape: (1, 500), minimum_shape: (chains=2, draws=4)\n",
      "Sampling: [Ex_capacity_entries, Ex_kinetic_entries, Ey_capacity_entries, Ey_kinetic_entries]\n",
      "arviz - WARNING - Shape validation failed: input_shape: (1, 500), minimum_shape: (chains=2, draws=4)\n",
      "Sampling: [Ex_capacity_entries, Ex_kinetic_entries, Ey_capacity_entries, Ey_kinetic_entries]\n",
      "arviz - WARNING - Shape validation failed: input_shape: (1, 500), minimum_shape: (chains=2, draws=4)\n",
      "Sampling: [Ex_capacity_entries, Ex_kinetic_entries, Ey_capacity_entries, Ey_kinetic_entries]\n",
      "arviz - WARNING - Shape validation failed: input_shape: (1, 500), minimum_shape: (chains=2, draws=4)\n",
      "Sampling: [Ex_capacity_entries, Ex_kinetic_entries, Ey_capacity_entries, Ey_kinetic_entries]\n",
      "arviz - WARNING - Shape validation failed: input_shape: (1, 500), minimum_shape: (chains=2, draws=4)\n",
      "Sampling: [Ex_capacity_entries, Ex_kinetic_entries, Ey_capacity_entries, Ey_kinetic_entries]\n",
      "arviz - WARNING - Shape validation failed: input_shape: (1, 500), minimum_shape: (chains=2, draws=4)\n",
      "Sampling: [Ex_capacity_entries, Ex_kinetic_entries, Ey_capacity_entries, Ey_kinetic_entries]\n",
      "arviz - WARNING - Shape validation failed: input_shape: (1, 500), minimum_shape: (chains=2, draws=4)\n",
      "Sampling: [Ex_capacity_entries, Ex_kinetic_entries, Ey_capacity_entries, Ey_kinetic_entries]\n",
      "arviz - WARNING - Shape validation failed: input_shape: (1, 500), minimum_shape: (chains=2, draws=4)\n",
      "Sampling: [Ex_capacity_entries, Ex_kinetic_entries, Ey_capacity_entries, Ey_kinetic_entries]\n",
      "arviz - WARNING - Shape validation failed: input_shape: (1, 500), minimum_shape: (chains=2, draws=4)\n",
      "Sampling: [Ex_capacity_entries, Ex_kinetic_entries, Ey_capacity_entries, Ey_kinetic_entries]\n",
      "arviz - WARNING - Shape validation failed: input_shape: (1, 500), minimum_shape: (chains=2, draws=4)\n",
      "Sampling: [Ex_capacity_entries, Ex_kinetic_entries, Ey_capacity_entries, Ey_kinetic_entries]\n",
      "arviz - WARNING - Shape validation failed: input_shape: (1, 500), minimum_shape: (chains=2, draws=4)\n",
      "Sampling: [Ex_capacity_entries, Ex_kinetic_entries, Ey_capacity_entries, Ey_kinetic_entries]\n",
      "arviz - WARNING - Shape validation failed: input_shape: (1, 500), minimum_shape: (chains=2, draws=4)\n",
      "Sampling: [Ex_capacity_entries, Ex_kinetic_entries, Ey_capacity_entries, Ey_kinetic_entries]\n",
      "arviz - WARNING - Shape validation failed: input_shape: (1, 500), minimum_shape: (chains=2, draws=4)\n",
      "Sampling: [Ex_capacity_entries, Ex_kinetic_entries, Ey_capacity_entries, Ey_kinetic_entries]\n",
      "arviz - WARNING - Shape validation failed: input_shape: (1, 500), minimum_shape: (chains=2, draws=4)\n",
      "Sampling: [Ex_capacity_entries, Ex_kinetic_entries, Ey_capacity_entries, Ey_kinetic_entries]\n",
      "arviz - WARNING - Shape validation failed: input_shape: (1, 500), minimum_shape: (chains=2, draws=4)\n",
      "Sampling: [Ex_capacity_entries, Ex_kinetic_entries, Ey_capacity_entries, Ey_kinetic_entries]\n",
      "arviz - WARNING - Shape validation failed: input_shape: (1, 500), minimum_shape: (chains=2, draws=4)\n",
      "Sampling: [Ex_capacity_entries, Ex_kinetic_entries, Ey_capacity_entries, Ey_kinetic_entries]\n",
      "arviz - WARNING - Shape validation failed: input_shape: (1, 500), minimum_shape: (chains=2, draws=4)\n",
      "Sampling: [Ex_capacity_entries, Ex_kinetic_entries, Ey_capacity_entries, Ey_kinetic_entries]\n",
      "arviz - WARNING - Shape validation failed: input_shape: (1, 500), minimum_shape: (chains=2, draws=4)\n",
      "Sampling: [Ex_capacity_entries, Ex_kinetic_entries, Ey_capacity_entries, Ey_kinetic_entries]\n",
      "arviz - WARNING - Shape validation failed: input_shape: (1, 500), minimum_shape: (chains=2, draws=4)\n",
      "Sampling: [Ex_capacity_entries, Ex_kinetic_entries, Ey_capacity_entries, Ey_kinetic_entries]\n",
      "arviz - WARNING - Shape validation failed: input_shape: (1, 500), minimum_shape: (chains=2, draws=4)\n",
      "Sampling: [Ex_capacity_entries, Ex_kinetic_entries, Ey_capacity_entries, Ey_kinetic_entries]\n",
      "arviz - WARNING - Shape validation failed: input_shape: (1, 500), minimum_shape: (chains=2, draws=4)\n",
      "Sampling: [Ex_capacity_entries, Ex_kinetic_entries, Ey_capacity_entries, Ey_kinetic_entries]\n",
      "arviz - WARNING - Shape validation failed: input_shape: (1, 500), minimum_shape: (chains=2, draws=4)\n"
     ]
    }
   ],
   "source": [
    "Ex01_prior_noReg= util.get_az_summary(util.run_prior_predictive(BMCA_obj01_noReg)['prior']['Ex'])\n",
    "Ex02_prior_noReg= util.get_az_summary(util.run_prior_predictive(BMCA_obj02_noReg)['prior']['Ex'])\n",
    "Ex03_prior_noReg= util.get_az_summary(util.run_prior_predictive(BMCA_obj03_noReg)['prior']['Ex'])\n",
    "Ex04_prior_noReg= util.get_az_summary(util.run_prior_predictive(BMCA_obj04_noReg)['prior']['Ex'])\n",
    "Ex05_prior_noReg= util.get_az_summary(util.run_prior_predictive(BMCA_obj05_noReg)['prior']['Ex'])\n",
    "Ex15_prior_noReg= util.get_az_summary(util.run_prior_predictive(BMCA_obj15_noReg)['prior']['Ex'])\n",
    "Ex3_prior_noReg= util.get_az_summary(util.run_prior_predictive(BMCA_obj3_noReg)['prior']['Ex'])\n",
    "Ex5_prior_noReg= util.get_az_summary(util.run_prior_predictive(BMCA_obj5_noReg)['prior']['Ex'])\n",
    "Ex7_prior_noReg= util.get_az_summary(util.run_prior_predictive(BMCA_obj7_noReg)['prior']['Ex'])\n",
    "Ex100_prior_noReg= util.get_az_summary(util.run_prior_predictive(BMCA_obj100_noReg)['prior']['Ex'])\n",
    "\n",
    "Ex01_prior_reg1= util.get_az_summary(util.run_prior_predictive(BMCA_obj01_reg1)['prior']['Ex'])\n",
    "Ex02_prior_reg1= util.get_az_summary(util.run_prior_predictive(BMCA_obj02_reg1)['prior']['Ex'])\n",
    "Ex03_prior_reg1= util.get_az_summary(util.run_prior_predictive(BMCA_obj03_reg1)['prior']['Ex'])\n",
    "Ex04_prior_reg1= util.get_az_summary(util.run_prior_predictive(BMCA_obj04_reg1)['prior']['Ex'])\n",
    "Ex05_prior_reg1= util.get_az_summary(util.run_prior_predictive(BMCA_obj05_reg1)['prior']['Ex'])\n",
    "Ex15_prior_reg1= util.get_az_summary(util.run_prior_predictive(BMCA_obj15_reg1)['prior']['Ex'])\n",
    "Ex3_prior_reg1= util.get_az_summary(util.run_prior_predictive(BMCA_obj3_reg1)['prior']['Ex'])\n",
    "Ex5_prior_reg1= util.get_az_summary(util.run_prior_predictive(BMCA_obj5_reg1)['prior']['Ex'])\n",
    "Ex7_prior_reg1= util.get_az_summary(util.run_prior_predictive(BMCA_obj7_reg1)['prior']['Ex'])\n",
    "Ex100_prior_reg1= util.get_az_summary(util.run_prior_predictive(BMCA_obj100_reg1)['prior']['Ex'])\n",
    "\n",
    "Ex01_prior_reg2= util.get_az_summary(util.run_prior_predictive(BMCA_obj01_reg2)['prior']['Ex'])\n",
    "Ex02_prior_reg2= util.get_az_summary(util.run_prior_predictive(BMCA_obj02_reg2)['prior']['Ex'])\n",
    "Ex03_prior_reg2= util.get_az_summary(util.run_prior_predictive(BMCA_obj03_reg2)['prior']['Ex'])\n",
    "Ex04_prior_reg2= util.get_az_summary(util.run_prior_predictive(BMCA_obj04_reg2)['prior']['Ex'])\n",
    "Ex05_prior_reg2= util.get_az_summary(util.run_prior_predictive(BMCA_obj05_reg2)['prior']['Ex'])\n",
    "Ex15_prior_reg2= util.get_az_summary(util.run_prior_predictive(BMCA_obj15_reg2)['prior']['Ex'])\n",
    "Ex3_prior_reg2= util.get_az_summary(util.run_prior_predictive(BMCA_obj3_reg2)['prior']['Ex'])\n",
    "Ex5_prior_reg2= util.get_az_summary(util.run_prior_predictive(BMCA_obj5_reg2)['prior']['Ex'])\n",
    "Ex7_prior_reg2= util.get_az_summary(util.run_prior_predictive(BMCA_obj7_reg2)['prior']['Ex'])\n",
    "Ex100_prior_reg2= util.get_az_summary(util.run_prior_predictive(BMCA_obj100_reg2)['prior']['Ex'])\n"
   ]
  },
  {
   "cell_type": "code",
   "execution_count": 18,
   "metadata": {},
   "outputs": [],
   "source": [
    "priorFCC01_noReg = util.estimate_CCs(BMCA_obj01_noReg, Ex01_prior_noReg.reshape((19,13)))\n",
    "priorFCC02_noReg = util.estimate_CCs(BMCA_obj02_noReg, Ex02_prior_noReg.reshape((19,13)))\n",
    "priorFCC03_noReg = util.estimate_CCs(BMCA_obj03_noReg, Ex03_prior_noReg.reshape((19,13)))\n",
    "priorFCC04_noReg = util.estimate_CCs(BMCA_obj04_noReg, Ex04_prior_noReg.reshape((19,13)))\n",
    "priorFCC05_noReg = util.estimate_CCs(BMCA_obj05_noReg, Ex05_prior_noReg.reshape((19,13)))\n",
    "priorFCC15_noReg = util.estimate_CCs(BMCA_obj15_noReg, Ex15_prior_noReg.reshape((19,13)))\n",
    "priorFCC3_noReg = util.estimate_CCs(BMCA_obj3_noReg, Ex3_prior_noReg.reshape((19,13)))\n",
    "priorFCC5_noReg = util.estimate_CCs(BMCA_obj5_noReg, Ex5_prior_noReg.reshape((19,13)))\n",
    "priorFCC7_noReg = util.estimate_CCs(BMCA_obj7_noReg, Ex7_prior_noReg.reshape((19,13)))\n",
    "priorFCC100_noReg = util.estimate_CCs(BMCA_obj100_noReg, Ex100_prior_noReg.reshape((19,13)))\n",
    "\n",
    "priorFCC01_reg1 = util.estimate_CCs(BMCA_obj01_reg1, Ex01_prior_reg1.reshape((19,13)))\n",
    "priorFCC02_reg1 = util.estimate_CCs(BMCA_obj02_reg1, Ex02_prior_reg1.reshape((19,13)))\n",
    "priorFCC03_reg1 = util.estimate_CCs(BMCA_obj03_reg1, Ex03_prior_reg1.reshape((19,13)))\n",
    "priorFCC04_reg1 = util.estimate_CCs(BMCA_obj04_reg1, Ex04_prior_reg1.reshape((19,13)))\n",
    "priorFCC05_reg1 = util.estimate_CCs(BMCA_obj05_reg1, Ex05_prior_reg1.reshape((19,13)))\n",
    "priorFCC15_reg1 = util.estimate_CCs(BMCA_obj15_reg1, Ex15_prior_reg1.reshape((19,13)))\n",
    "priorFCC3_reg1 = util.estimate_CCs(BMCA_obj3_reg1, Ex3_prior_reg1.reshape((19,13)))\n",
    "priorFCC5_reg1 = util.estimate_CCs(BMCA_obj5_reg1, Ex5_prior_reg1.reshape((19,13)))\n",
    "priorFCC7_reg1 = util.estimate_CCs(BMCA_obj7_reg1, Ex7_prior_reg1.reshape((19,13)))\n",
    "priorFCC100_reg1 = util.estimate_CCs(BMCA_obj100_reg1, Ex100_prior_reg1.reshape((19,13)))\n",
    "\n",
    "priorFCC01_reg2 = util.estimate_CCs(BMCA_obj01_reg2, Ex01_prior_reg2.reshape((19,13)))\n",
    "priorFCC02_reg2 = util.estimate_CCs(BMCA_obj02_reg2, Ex02_prior_reg2.reshape((19,13)))\n",
    "priorFCC03_reg2 = util.estimate_CCs(BMCA_obj03_reg2, Ex03_prior_reg2.reshape((19,13)))\n",
    "priorFCC04_reg2 = util.estimate_CCs(BMCA_obj04_reg2, Ex04_prior_reg2.reshape((19,13)))\n",
    "priorFCC05_reg2 = util.estimate_CCs(BMCA_obj05_reg2, Ex05_prior_reg2.reshape((19,13)))\n",
    "priorFCC15_reg2 = util.estimate_CCs(BMCA_obj15_reg2, Ex15_prior_reg2.reshape((19,13)))\n",
    "priorFCC3_reg2 = util.estimate_CCs(BMCA_obj3_reg2, Ex3_prior_reg2.reshape((19,13)))\n",
    "priorFCC5_reg2 = util.estimate_CCs(BMCA_obj5_reg2, Ex5_prior_reg2.reshape((19,13)))\n",
    "priorFCC7_reg2 = util.estimate_CCs(BMCA_obj7_reg2, Ex7_prior_reg2.reshape((19,13)))\n",
    "priorFCC100_reg2 = util.estimate_CCs(BMCA_obj100_reg2, Ex100_prior_reg2.reshape((19,13)))\n"
   ]
  },
  {
   "cell_type": "code",
   "execution_count": 19,
   "metadata": {},
   "outputs": [],
   "source": [
    "priorFCCs_noReg = [priorFCC01_noReg, priorFCC02_noReg, priorFCC03_noReg, priorFCC04_noReg, priorFCC05_noReg, priorFCC15_noReg, priorFCC3_noReg, priorFCC5_noReg, priorFCC7_noReg, priorFCC100_noReg]\n",
    "priorFCCs_reg1 = [priorFCC01_reg1, priorFCC02_reg1, priorFCC03_reg1, priorFCC04_reg1, priorFCC05_reg1, priorFCC15_reg1, priorFCC3_reg1, priorFCC5_reg1, priorFCC7_reg1, priorFCC100_reg1]\n",
    "priorFCCs_reg2 = [priorFCC01_reg2, priorFCC02_reg2, priorFCC03_reg2, priorFCC04_reg2, priorFCC05_reg2, priorFCC15_reg2, priorFCC3_reg2, priorFCC5_reg2, priorFCC7_reg2, priorFCC100_reg2]"
   ]
  },
  {
   "cell_type": "code",
   "execution_count": 20,
   "metadata": {},
   "outputs": [],
   "source": [
    "priorFCC_noReg_meds = [-pd.DataFrame(np.median(priorFCC, axis=0), columns=rr_noReg.getReactionIds(), index=rr_noReg.getReactionIds()) for priorFCC in priorFCCs_noReg]\n",
    "priorFCC_noReg_meds = pd.concat([i.melt()['value'] for i in priorFCC_noReg_meds], axis=1).values\n",
    "priorFCC_noReg_meds = pd.DataFrame(priorFCC_noReg_meds, columns=pt_labels)\n",
    "priorFCC_noReg_meds['median'] = priorFCC_noReg_meds.median(axis=1)\n",
    "priorFCC_noReg_meds['min'] = priorFCC_noReg_meds.min(axis=1)\n",
    "priorFCC_noReg_meds['max'] = priorFCC_noReg_meds.max(axis=1)\n",
    "# priorFCC_noReg_meds"
   ]
  },
  {
   "cell_type": "code",
   "execution_count": 21,
   "metadata": {},
   "outputs": [],
   "source": [
    "priorFCC_reg1_meds = [-pd.DataFrame(np.median(priorFCC, axis=0), columns=rr_reg1.getReactionIds(), index=rr_reg1.getReactionIds()) for priorFCC in priorFCCs_reg1]\n",
    "priorFCC_reg1_meds = pd.concat([i.melt()['value'] for i in priorFCC_reg1_meds], axis=1).values\n",
    "priorFCC_reg1_meds = pd.DataFrame(priorFCC_reg1_meds, columns=pt_labels)\n",
    "priorFCC_reg1_meds['median'] = priorFCC_reg1_meds.median(axis=1)\n",
    "priorFCC_reg1_meds['min'] = priorFCC_reg1_meds.min(axis=1)\n",
    "priorFCC_reg1_meds['max'] = priorFCC_reg1_meds.max(axis=1)\n",
    "# priorFCC_reg1_meds"
   ]
  },
  {
   "cell_type": "code",
   "execution_count": 22,
   "metadata": {},
   "outputs": [],
   "source": [
    "priorFCC_reg2_meds = [-pd.DataFrame(np.median(priorFCC, axis=0), columns=rr_reg2.getReactionIds(), index=rr_reg2.getReactionIds()) for priorFCC in priorFCCs_reg2]\n",
    "priorFCC_reg2_meds = pd.concat([i.melt()['value'] for i in priorFCC_reg2_meds], axis=1).values\n",
    "priorFCC_reg2_meds = pd.DataFrame(priorFCC_reg2_meds, columns=pt_labels)\n",
    "priorFCC_reg2_meds['median'] = priorFCC_reg2_meds.median(axis=1)\n",
    "priorFCC_reg2_meds['min'] = priorFCC_reg2_meds.min(axis=1)\n",
    "priorFCC_reg2_meds['max'] = priorFCC_reg2_meds.max(axis=1)\n",
    "# priorFCC_reg2_meds"
   ]
  },
  {
   "cell_type": "code",
   "execution_count": 23,
   "metadata": {},
   "outputs": [],
   "source": [
    "FCC_lower_y_noReg_prior = np.array(priorFCC_noReg_meds['median']) - np.array(priorFCC_noReg_meds['min'])\n",
    "FCC_upper_y_noReg_prior = np.array(priorFCC_noReg_meds['max']) - np.array(priorFCC_noReg_meds['median'])\n",
    "FCC_errors_noReg_prior = [FCC_lower_y_noReg_prior, FCC_upper_y_noReg_prior]\n",
    "\n",
    "FCC_lower_y_reg1_prior = np.array(priorFCC_reg1_meds['median']) - np.array(priorFCC_reg1_meds['min'])\n",
    "FCC_upper_y_reg1_prior = np.array(priorFCC_reg1_meds['max']) - np.array(priorFCC_reg1_meds['median'])\n",
    "FCC_errors_reg1_prior = [FCC_lower_y_reg1_prior, FCC_upper_y_reg1_prior]\n",
    "\n",
    "FCC_lower_y_reg2_prior = np.array(priorFCC_reg2_meds['median']) - np.array(priorFCC_reg2_meds['min'])\n",
    "FCC_upper_y_reg2_prior = np.array(priorFCC_reg2_meds['max']) - np.array(priorFCC_reg2_meds['median'])\n",
    "FCC_errors_reg2_prior = [FCC_lower_y_reg2_prior, FCC_upper_y_reg2_prior]"
   ]
  },
  {
   "cell_type": "markdown",
   "metadata": {},
   "source": [
    "### posteriors"
   ]
  },
  {
   "cell_type": "code",
   "execution_count": 24,
   "metadata": {},
   "outputs": [],
   "source": [
    "# all data\n",
    "postFCC01_noReg = util.estimate_CCs(BMCA_obj01_noReg, Ex01_noReg.reshape((19,13)))\n",
    "postFCC02_noReg = util.estimate_CCs(BMCA_obj02_noReg, Ex02_noReg.reshape((19,13)))\n",
    "postFCC03_noReg = util.estimate_CCs(BMCA_obj03_noReg, Ex03_noReg.reshape((19,13)))\n",
    "postFCC04_noReg = util.estimate_CCs(BMCA_obj04_noReg, Ex04_noReg.reshape((19,13)))\n",
    "postFCC05_noReg = util.estimate_CCs(BMCA_obj05_noReg, Ex05_noReg.reshape((19,13)))\n",
    "postFCC15_noReg = util.estimate_CCs(BMCA_obj15_noReg, Ex15_noReg.reshape((19,13)))\n",
    "postFCC3_noReg = util.estimate_CCs(BMCA_obj3_noReg, Ex3_noReg.reshape((19,13)))\n",
    "postFCC5_noReg = util.estimate_CCs(BMCA_obj5_noReg, Ex5_noReg.reshape((19,13)))\n",
    "postFCC7_noReg = util.estimate_CCs(BMCA_obj7_noReg, Ex7_noReg.reshape((19,13)))\n",
    "postFCC100_noReg = util.estimate_CCs(BMCA_obj100_noReg, Ex100_noReg.reshape((19,13)))\n",
    "\n",
    "postFCC01_reg1 = util.estimate_CCs(BMCA_obj01_reg1, Ex01_reg1.reshape((19,13)))\n",
    "postFCC02_reg1 = util.estimate_CCs(BMCA_obj02_reg1, Ex02_reg1.reshape((19,13)))\n",
    "postFCC03_reg1 = util.estimate_CCs(BMCA_obj03_reg1, Ex03_reg1.reshape((19,13)))\n",
    "postFCC04_reg1 = util.estimate_CCs(BMCA_obj04_reg1, Ex04_reg1.reshape((19,13)))\n",
    "postFCC05_reg1 = util.estimate_CCs(BMCA_obj05_reg1, Ex05_reg1.reshape((19,13)))\n",
    "postFCC15_reg1 = util.estimate_CCs(BMCA_obj15_reg1, Ex15_reg1.reshape((19,13)))\n",
    "postFCC3_reg1 = util.estimate_CCs(BMCA_obj3_reg1, Ex3_reg1.reshape((19,13)))\n",
    "postFCC5_reg1 = util.estimate_CCs(BMCA_obj5_reg1, Ex5_reg1.reshape((19,13)))\n",
    "postFCC7_reg1 = util.estimate_CCs(BMCA_obj7_reg1, Ex7_reg1.reshape((19,13)))\n",
    "postFCC100_reg1 = util.estimate_CCs(BMCA_obj100_reg1, Ex100_reg1.reshape((19,13)))\n",
    "\n",
    "postFCC01_reg2 = util.estimate_CCs(BMCA_obj01_reg2, Ex01_reg2.reshape((19,13)))\n",
    "postFCC02_reg2 = util.estimate_CCs(BMCA_obj02_reg2, Ex02_reg2.reshape((19,13)))\n",
    "postFCC03_reg2 = util.estimate_CCs(BMCA_obj03_reg2, Ex03_reg2.reshape((19,13)))\n",
    "postFCC04_reg2 = util.estimate_CCs(BMCA_obj04_reg2, Ex04_reg2.reshape((19,13)))\n",
    "postFCC05_reg2 = util.estimate_CCs(BMCA_obj05_reg2, Ex05_reg2.reshape((19,13)))\n",
    "postFCC15_reg2 = util.estimate_CCs(BMCA_obj15_reg2, Ex15_reg2.reshape((19,13)))\n",
    "postFCC3_reg2 = util.estimate_CCs(BMCA_obj3_reg2, Ex3_reg2.reshape((19,13)))\n",
    "postFCC5_reg2 = util.estimate_CCs(BMCA_obj5_reg2, Ex5_reg2.reshape((19,13)))\n",
    "postFCC7_reg2 = util.estimate_CCs(BMCA_obj7_reg2, Ex7_reg2.reshape((19,13)))\n",
    "postFCC100_reg2 = util.estimate_CCs(BMCA_obj100_reg2, Ex100_reg2.reshape((19,13)))"
   ]
  },
  {
   "cell_type": "code",
   "execution_count": 25,
   "metadata": {},
   "outputs": [],
   "source": [
    "postFCCs_noReg = [postFCC01_noReg, postFCC02_noReg, postFCC03_noReg, postFCC04_noReg, postFCC05_noReg, postFCC15_noReg, postFCC3_noReg, postFCC5_noReg, postFCC7_noReg, postFCC100_noReg]\n",
    "postFCCs_reg1 = [postFCC01_reg1, postFCC02_reg1, postFCC03_reg1, postFCC04_reg1, postFCC05_reg1, postFCC15_reg1, postFCC3_reg1, postFCC5_reg1, postFCC7_reg1, postFCC100_reg1]\n",
    "postFCCs_reg2 = [postFCC01_reg2, postFCC02_reg2, postFCC03_reg2, postFCC04_reg2, postFCC05_reg2, postFCC15_reg2, postFCC3_reg2, postFCC5_reg2, postFCC7_reg2, postFCC100_reg2]"
   ]
  },
  {
   "cell_type": "code",
   "execution_count": 26,
   "metadata": {},
   "outputs": [],
   "source": [
    "postFCC_noReg_meds = [-pd.DataFrame(np.median(postFCC, axis=0), columns=rr_noReg.getReactionIds(), index=rr_noReg.getReactionIds()) for postFCC in postFCCs_noReg]\n",
    "postFCC_noReg_meds = pd.concat([i.melt()['value'] for i in postFCC_noReg_meds], axis=1).values\n",
    "postFCC_noReg_meds = pd.DataFrame(postFCC_noReg_meds, columns=pt_labels)\n",
    "postFCC_noReg_meds['median'] = postFCC_noReg_meds.median(axis=1)\n",
    "postFCC_noReg_meds['min'] = postFCC_noReg_meds.min(axis=1)\n",
    "postFCC_noReg_meds['max'] = postFCC_noReg_meds.max(axis=1)\n",
    "# postFCC_noReg_meds"
   ]
  },
  {
   "cell_type": "code",
   "execution_count": 27,
   "metadata": {},
   "outputs": [],
   "source": [
    "postFCC_reg1_meds = [-pd.DataFrame(np.median(postFCC, axis=0), columns=rr_reg1.getReactionIds(), index=rr_reg1.getReactionIds()) for postFCC in postFCCs_reg1]\n",
    "postFCC_reg1_meds = pd.concat([i.melt()['value'] for i in postFCC_reg1_meds], axis=1).values\n",
    "postFCC_reg1_meds = pd.DataFrame(postFCC_reg1_meds, columns=pt_labels)\n",
    "postFCC_reg1_meds['median'] = postFCC_reg1_meds.median(axis=1)\n",
    "postFCC_reg1_meds['min'] = postFCC_reg1_meds.min(axis=1)\n",
    "postFCC_reg1_meds['max'] = postFCC_reg1_meds.max(axis=1)\n",
    "# postFCC_reg1_meds"
   ]
  },
  {
   "cell_type": "code",
   "execution_count": 28,
   "metadata": {},
   "outputs": [],
   "source": [
    "postFCC_reg2_meds = [-pd.DataFrame(np.median(postFCC, axis=0), columns=rr_reg2.getReactionIds(), index=rr_reg2.getReactionIds()) for postFCC in postFCCs_reg2]\n",
    "postFCC_reg2_meds = pd.concat([i.melt()['value'] for i in postFCC_reg2_meds], axis=1).values\n",
    "postFCC_reg2_meds = pd.DataFrame(postFCC_reg2_meds, columns=pt_labels)\n",
    "postFCC_reg2_meds['median'] = postFCC_reg2_meds.median(axis=1)\n",
    "postFCC_reg2_meds['min'] = postFCC_reg2_meds.min(axis=1)\n",
    "postFCC_reg2_meds['max'] = postFCC_reg2_meds.max(axis=1)\n",
    "# postFCC_reg2_meds"
   ]
  },
  {
   "cell_type": "code",
   "execution_count": 29,
   "metadata": {},
   "outputs": [],
   "source": [
    "FCC_lower_y_noReg_post = np.array(postFCC_noReg_meds['median']) - np.array(postFCC_noReg_meds['min'])\n",
    "FCC_upper_y_noReg_post = np.array(postFCC_noReg_meds['max']) - np.array(postFCC_noReg_meds['median'])\n",
    "FCC_errors_noReg_post = [FCC_lower_y_noReg_post, FCC_upper_y_noReg_post]\n",
    "\n",
    "FCC_lower_y_reg1_post = np.array(postFCC_reg1_meds['median']) - np.array(postFCC_reg1_meds['min'])\n",
    "FCC_upper_y_reg1_post = np.array(postFCC_reg1_meds['max']) - np.array(postFCC_reg1_meds['median'])\n",
    "FCC_errors_reg1_post = [FCC_lower_y_reg1_post, FCC_upper_y_reg1_post]\n",
    "\n",
    "FCC_lower_y_reg2_post = np.array(postFCC_reg2_meds['median']) - np.array(postFCC_reg2_meds['min'])\n",
    "FCC_upper_y_reg2_post = np.array(postFCC_reg2_meds['max']) - np.array(postFCC_reg2_meds['median'])\n",
    "FCC_errors_reg2_post = [FCC_lower_y_reg2_post, FCC_upper_y_reg2_post]"
   ]
  },
  {
   "cell_type": "markdown",
   "metadata": {},
   "source": [
    "### graphs"
   ]
  },
  {
   "cell_type": "code",
   "execution_count": 40,
   "metadata": {},
   "outputs": [
    {
     "data": {
      "image/png": "[encoded data removed]",
      "text/plain": [
       "<Figure size 640x480 with 1 Axes>"
      ]
     },
     "metadata": {},
     "output_type": "display_data"
    }
   ],
   "source": [
    "plt.axes().set_aspect('equal', 'datalim')\n",
    "\n",
    "plt.errorbar(gtFCC_noReg.melt()['value'], priorFCC_noReg_meds['median'], yerr=FCC_errors_noReg_prior, alpha=0.4, fmt='o', label='prior', zorder=100, c='orange')\n",
    "plt.errorbar(gtFCC_noReg.melt()['value'], postFCC_noReg_meds['median'], yerr=FCC_errors_noReg_post, alpha=0.4, fmt='o', label='post', zorder=100, c='b')\n",
    "\n",
    "plt.legend(loc=\"upper left\")\n",
    "plt.axline([0, 0], [1, 1], c='gray', linestyle='dashed', zorder=1, linewidth=2)\n",
    "plt.grid(True, which='both', axis='both', zorder=0)\n",
    "plt.xlabel('ground truth FCC values', size=14)\n",
    "plt.ylabel('predicted FCC values', size=14)\n",
    "plt.savefig(f'../data/results/raw_svg_figures/top{topology}-{omission}-medianFCCs_noReg.svg', format=\"svg\")"
   ]
  },
  {
   "cell_type": "code",
   "execution_count": 41,
   "metadata": {},
   "outputs": [
    {
     "data": {
      "image/png": "[encoded data removed]",
      "text/plain": [
       "<Figure size 640x480 with 1 Axes>"
      ]
     },
     "metadata": {},
     "output_type": "display_data"
    }
   ],
   "source": [
    "plt.axes().set_aspect('equal', 'datalim')\n",
    "\n",
    "plt.errorbar(gtFCC_reg1.melt()['value'], priorFCC_reg1_meds['median'], yerr=FCC_errors_reg1_prior, alpha=0.4, fmt='o', label='prior', zorder=100, c='orange')\n",
    "plt.errorbar(gtFCC_reg1.melt()['value'], postFCC_reg1_meds['median'], yerr=FCC_errors_reg1_post, alpha=0.4, fmt='o', label='post', zorder=100, c='b')\n",
    "plt.xlim((-6,6))\n",
    "plt.ylim((-6,6))\n",
    "plt.legend(loc=\"upper left\")\n",
    "plt.axline([0, 0], [1, 1], c='gray', linestyle='dashed', zorder=1, linewidth=2)\n",
    "plt.grid(True, which='both', axis='both', zorder=0)\n",
    "plt.xlabel('ground truth FCC values', size=14)\n",
    "plt.ylabel('predicted FCC values', size=14)\n",
    "\n",
    "plt.savefig(f'../data/results/raw_svg_figures/top{topology}-{omission}-medianFCCs_reg1.svg', format=\"svg\")"
   ]
  },
  {
   "cell_type": "code",
   "execution_count": 43,
   "metadata": {},
   "outputs": [
    {
     "data": {
      "image/png": "[encoded data removed]",
      "text/plain": [
       "<Figure size 640x480 with 1 Axes>"
      ]
     },
     "metadata": {},
     "output_type": "display_data"
    }
   ],
   "source": [
    "## needs to be rerun\n",
    "\n",
    "plt.axes().set_aspect('equal', 'datalim')\n",
    "\n",
    "plt.scatter(gtFCC_reg1.melt()['value'], priorFCC_reg1_meds['median'], alpha=0.4, label='prior', zorder=100, c='orange')\n",
    "plt.scatter(gtFCC_reg1.melt()['value'], postFCC_reg1_meds['median'], alpha=0.4,  label='post', zorder=100, c='b')\n",
    "plt.xlim((-6,7))\n",
    "plt.legend(loc=\"upper left\")\n",
    "plt.axline([0, 0], [1, 1], c='gray', linestyle='dashed', zorder=1, linewidth=2)\n",
    "plt.grid(True, which='both', axis='both', zorder=0)\n",
    "plt.xlabel('ground truth FCC values', size=14)\n",
    "plt.ylabel('predicted FCC values', size=14)\n",
    "\n",
    "plt.savefig(f'../data/results/raw_svg_figures/top{topology}-{omission}-medianFCCs_reg1.svg', format=\"svg\")"
   ]
  },
  {
   "cell_type": "code",
   "execution_count": 45,
   "metadata": {},
   "outputs": [
    {
     "data": {
      "image/png": "[encoded data removed]",
      "text/plain": [
       "<Figure size 640x480 with 1 Axes>"
      ]
     },
     "metadata": {},
     "output_type": "display_data"
    }
   ],
   "source": [
    "plt.axes().set_aspect('equal', 'datalim')\n",
    "\n",
    "plt.errorbar(gtFCC_reg2.melt()['value'], priorFCC_reg2_meds['median'], yerr=FCC_errors_reg2_prior, alpha=0.4, fmt='o', label='prior', zorder=100, c='orange')\n",
    "plt.errorbar(gtFCC_reg2.melt()['value'], postFCC_reg2_meds['median'], yerr=FCC_errors_reg2_post, alpha=0.4, fmt='o', label='post', zorder=100, c='b')\n",
    "plt.xlim((-6,6))\n",
    "plt.ylim((-6,6))\n",
    "plt.legend(loc=\"upper left\")\n",
    "plt.axline([0, 0], [1, 1], c='gray', linestyle='dashed', zorder=1, linewidth=2)\n",
    "plt.grid(True, which='both', axis='both', zorder=0)\n",
    "plt.xlabel('ground truth FCC values', size=14)\n",
    "plt.ylabel('predicted FCC values', size=14)\n",
    "plt.savefig(f'../data/results/raw_svg_figures/top{topology}-{omission}-medianFCCs_reg2.svg', format=\"svg\")"
   ]
  },
  {
   "cell_type": "code",
   "execution_count": 48,
   "metadata": {},
   "outputs": [
    {
     "data": {
      "image/png": "[encoded data removed]",
      "text/plain": [
       "<Figure size 640x480 with 1 Axes>"
      ]
     },
     "metadata": {},
     "output_type": "display_data"
    }
   ],
   "source": [
    "plt.axes().set_aspect('equal', 'datalim')\n",
    "\n",
    "plt.scatter(gtFCC_reg2.melt()['value'], priorFCC_reg2_meds['median'], alpha=0.4, label='prior', zorder=100, c='orange')\n",
    "plt.scatter(gtFCC_reg2.melt()['value'], postFCC_reg2_meds['median'], alpha=0.4, label='post', zorder=100, c='b')\n",
    "\n",
    "plt.legend(loc=\"upper left\")\n",
    "plt.axline([0, 0], [1, 1], c='gray', linestyle='dashed', zorder=1, linewidth=2)\n",
    "plt.grid(True, which='both', axis='both', zorder=0)\n",
    "plt.xlabel('ground truth FCC values', size=14)\n",
    "plt.ylabel('predicted FCC values', size=14)\n",
    "plt.savefig(f'../data/results/raw_svg_figures/top{topology}-{omission}-medianFCCs_reg2.svg', format=\"svg\")"
   ]
  },
  {
   "cell_type": "markdown",
   "metadata": {},
   "source": [
    "### adding corrections for where the enzyme perturbed is directly involved in the reaction"
   ]
  },
  {
   "cell_type": "code",
   "execution_count": 30,
   "metadata": {},
   "outputs": [],
   "source": [
    "rxn = np.repeat(rr_noReg.getReactionIds(),len(rr_noReg.getReactionIds()))\n",
    "enz_pt = rr_noReg.getReactionIds() * len(rr_noReg.getReactionIds())\n",
    "FCC_idx = pd.DataFrame([rxn, enz_pt]).T"
   ]
  },
  {
   "cell_type": "code",
   "execution_count": 31,
   "metadata": {},
   "outputs": [
    {
     "name": "stdout",
     "output_type": "stream",
     "text": [
      "       0    1\n",
      "0     v1   v1\n",
      "20    v2   v2\n",
      "40    v3   v3\n",
      "60    v4   v4\n",
      "80    v5   v5\n",
      "100   v6   v6\n",
      "120   v7   v7\n",
      "140   v8   v8\n",
      "160   v9   v9\n",
      "180  v10  v10\n",
      "200  v11  v11\n",
      "220  v12  v12\n",
      "240  v13  v13\n",
      "260  v14  v14\n",
      "280  v15  v15\n",
      "300  v16  v16\n",
      "320  v17  v17\n",
      "340  v18  v18\n",
      "360  v19  v19\n"
     ]
    }
   ],
   "source": [
    "for i in np.where(abs(gtFCC_noReg.melt()['value']- postFCC_noReg_meds['median'])>1):\n",
    "    print(FCC_idx.iloc[i])\n",
    "pt_enz_is_rxn = list(np.where(abs(gtFCC_noReg.melt()['value']- postFCC_noReg_meds['median'])>1)[0])"
   ]
  },
  {
   "cell_type": "markdown",
   "metadata": {},
   "source": [
    "### graphing the corrected FCC dfs"
   ]
  },
  {
   "cell_type": "code",
   "execution_count": 51,
   "metadata": {},
   "outputs": [],
   "source": [
    "priorFCC_noReg_meds.loc[pt_enz_is_rxn, 'median'] += 2\n",
    "postFCC_noReg_meds.loc[pt_enz_is_rxn, 'median'] += 2\n",
    "\n",
    "priorFCC_reg1_meds.loc[pt_enz_is_rxn, 'median'] += 2\n",
    "postFCC_reg1_meds.loc[pt_enz_is_rxn, 'median'] += 2\n",
    "\n",
    "priorFCC_reg2_meds.loc[pt_enz_is_rxn, 'median'] += 2\n",
    "postFCC_reg2_meds.loc[pt_enz_is_rxn, 'median'] += 2"
   ]
  },
  {
   "cell_type": "code",
   "execution_count": 53,
   "metadata": {},
   "outputs": [
    {
     "data": {
      "image/png": "[encoded data removed]",
      "text/plain": [
       "<Figure size 640x480 with 1 Axes>"
      ]
     },
     "metadata": {},
     "output_type": "display_data"
    }
   ],
   "source": [
    "plt.axes().set_aspect('equal', 'datalim')\n",
    "\n",
    "plt.errorbar(gtFCC_noReg.melt()['value'], priorFCC_noReg_meds['median'], yerr=FCC_errors_noReg_prior, alpha=0.4, fmt='o', label='prior', zorder=100, c='orange')\n",
    "plt.errorbar(gtFCC_noReg.melt()['value'], postFCC_noReg_meds['median'], yerr=FCC_errors_noReg_post, alpha=0.4, fmt='o', label='post', zorder=100, c='b')\n",
    "\n",
    "plt.legend(loc=\"upper left\")\n",
    "plt.axline([0, 0], [1, 1], c='gray', linestyle='dashed', zorder=1, linewidth=2)\n",
    "plt.grid(True, which='both', axis='both', zorder=0)\n",
    "plt.xlabel('ground truth FCC values', size=14)\n",
    "plt.ylabel('predicted FCC values', size=14)\n",
    "plt.savefig(f'../data/results/raw_svg_figures/top{topology}-{omission}-medianFCCs_noReg_wCorrection.svg', format=\"svg\")"
   ]
  },
  {
   "cell_type": "code",
   "execution_count": 55,
   "metadata": {},
   "outputs": [
    {
     "data": {
      "image/png": "[encoded data removed]",
      "text/plain": [
       "<Figure size 640x480 with 1 Axes>"
      ]
     },
     "metadata": {},
     "output_type": "display_data"
    }
   ],
   "source": [
    "plt.axes().set_aspect('equal', 'datalim')\n",
    "\n",
    "plt.scatter(gtFCC_reg1.melt()['value'], priorFCC_reg1_meds['median'], alpha=0.4, label='prior', zorder=100, c='orange')\n",
    "plt.scatter(gtFCC_reg1.melt()['value'], postFCC_reg1_meds['median'], alpha=0.4,  label='post', zorder=100, c='b')\n",
    "plt.xlim((-6,7))\n",
    "\n",
    "plt.legend(loc=\"upper left\")\n",
    "plt.axline([0, 0], [1, 1], c='gray', linestyle='dashed', zorder=1, linewidth=2)\n",
    "plt.grid(True, which='both', axis='both', zorder=0)\n",
    "plt.xlabel('ground truth FCC values', size=14)\n",
    "plt.ylabel('predicted FCC values', size=14)\n",
    "plt.savefig(f'../data/results/raw_svg_figures/top{topology}-{omission}-medianFCCs_reg1_wCorrection.svg', format=\"svg\")"
   ]
  },
  {
   "cell_type": "code",
   "execution_count": 57,
   "metadata": {},
   "outputs": [
    {
     "data": {
      "image/png": "[encoded data removed]",
      "text/plain": [
       "<Figure size 640x480 with 1 Axes>"
      ]
     },
     "metadata": {},
     "output_type": "display_data"
    }
   ],
   "source": [
    "plt.axes().set_aspect('equal', 'datalim')\n",
    "\n",
    "plt.scatter(gtFCC_reg2.melt()['value'], priorFCC_reg2_meds['median'], alpha=0.4, label='prior', zorder=100, c='orange')\n",
    "plt.scatter(gtFCC_reg2.melt()['value'], postFCC_reg2_meds['median'], alpha=0.4, label='post', zorder=100, c='b')\n",
    "\n",
    "plt.legend(loc=\"upper left\")\n",
    "plt.axline([0, 0], [1, 1], c='gray', linestyle='dashed', zorder=1, linewidth=2)\n",
    "plt.grid(True, which='both', axis='both', zorder=0)\n",
    "plt.xlabel('ground truth FCC values', size=14)\n",
    "plt.ylabel('predicted FCC values', size=14)\n",
    "plt.savefig(f'../data/results/raw_svg_figures/top{topology}-{omission}-medianFCCs_reg2_wCorrection.svg', format=\"svg\")"
   ]
  },
  {
   "cell_type": "markdown",
   "metadata": {},
   "source": [
    "### Combined graph of FCC values"
   ]
  },
  {
   "cell_type": "code",
   "execution_count": null,
   "metadata": {},
   "outputs": [],
   "source": [
    "# Create two subplots and unpack the output array immediately\n",
    "f, ax = plt.subplots(2, 3, figsize=(16,8))\n",
    "\n",
    "for i in range(2):\n",
    "    for ii in range(3):\n",
    "        ax[i,ii].tick_params(axis='both', which='major', labelsize=16)\n",
    "\n",
    "ax[0,0].set_aspect('equal', 'datalim')\n",
    "ax[0,0].scatter(gtFCC_noReg.melt()['value'], priorFCC_noReg_meds['median'], alpha=0.4, label='prior', zorder=100, c='orange')\n",
    "ax[0,0].scatter(gtFCC_noReg.melt()['value'], postFCC_noReg_meds['median'], alpha=0.4, label='post', zorder=100, c='b')\n",
    "slope, intercept, _ = util.calculate_slope(gtFCC_noReg.melt()['value'], priorFCC_noReg_meds['median'])\n",
    "ax[0,0].axline((0, intercept), slope=slope, linestyle='--', alpha=0.6, color='orange', zorder=0)\n",
    "slope, intercept, _ = util.calculate_slope(gtFCC_noReg.melt()['value'], postFCC_noReg_meds['median'])\n",
    "ax[0,0].axline((0, intercept), slope=slope, linestyle='--', alpha=0.6, color='b', zorder=0)\n",
    "ax[0,0].axline([0, 0], [1, 1], c='gray', linestyle='dashed', zorder=1, linewidth=3)\n",
    "ax[0,0].grid()\n",
    "ax[0,0].legend(loc=\"lower right\", fontsize=16)\n",
    "\n",
    "ax[0,1].set_aspect('equal', 'datalim')\n",
    "ax[0,1].scatter(gtFCC_reg1.melt()['value'], priorFCC_reg1_meds['median'], alpha=0.4, label='prior', zorder=100, c='orange')\n",
    "ax[0,1].scatter(gtFCC_reg1.melt()['value'], postFCC_reg1_meds['median'], alpha=0.4,  label='post', zorder=100, c='b')\n",
    "slope, intercept, _ = util.calculate_slope(gtFCC_reg1.melt()['value'], priorFCC_reg1_meds['median'])\n",
    "ax[0,1].axline((0, intercept), slope=slope, linestyle='--', alpha=0.6, color='orange', zorder=0)\n",
    "slope, intercept, _ = util.calculate_slope(gtFCC_reg1.melt()['value'], postFCC_reg1_meds['median'])\n",
    "ax[0,1].axline((0, intercept), slope=slope, linestyle='--', alpha=0.6, color='b', zorder=0)\n",
    "ax[0,1].axline([0, 0], [1, 1], c='gray', linestyle='dashed', zorder=1, linewidth=3)\n",
    "ax[0,1].grid()\n",
    "\n",
    "ax[0,2].set_aspect('equal', 'datalim')\n",
    "ax[0,2].scatter(gtFCC_reg2.melt()['value'], priorFCC_reg2_meds['median'], alpha=0.4, label='prior', zorder=100, c='orange')\n",
    "ax[0,2].scatter(gtFCC_reg2.melt()['value'], postFCC_reg2_meds['median'], alpha=0.4,  label='post', zorder=100, c='b')\n",
    "slope, intercept, _ = util.calculate_slope(gtFCC_reg2.melt()['value'], priorFCC_reg2_meds['median'])\n",
    "ax[0,2].axline((0, intercept), slope=slope, linestyle='--', alpha=0.6, color='orange', zorder=0)\n",
    "slope, intercept, _ = util.calculate_slope(gtFCC_reg2.melt()['value'], postFCC_reg2_meds['median'])\n",
    "ax[0,2].axline((0, intercept), slope=slope, linestyle='--', alpha=0.6, color='b', zorder=0)\n",
    "ax[0,2].axline([0, 0], [1, 1], c='gray', linestyle='dashed', zorder=1, linewidth=3)\n",
    "ax[0,2].grid()\n",
    "\n",
    "priorFCC_noReg_meds.loc[pt_enz_is_rxn, 'median'] += 2\n",
    "postFCC_noReg_meds.loc[pt_enz_is_rxn, 'median'] += 2\n",
    "\n",
    "priorFCC_reg1_meds.loc[pt_enz_is_rxn, 'median'] += 2\n",
    "postFCC_reg1_meds.loc[pt_enz_is_rxn, 'median'] += 2\n",
    "\n",
    "priorFCC_reg2_meds.loc[pt_enz_is_rxn, 'median'] += 2\n",
    "postFCC_reg2_meds.loc[pt_enz_is_rxn, 'median'] += 2\n",
    "\n",
    "ax[1,0].set_aspect('equal', 'datalim')\n",
    "ax[1,0].scatter(gtFCC_noReg.melt()['value'], priorFCC_noReg_meds['median'], alpha=0.4, label='prior', zorder=100, c='orange')\n",
    "ax[1,0].scatter(gtFCC_noReg.melt()['value'], postFCC_noReg_meds['median'], alpha=0.4, label='post', zorder=100, c='b')\n",
    "slope, intercept, _ = util.calculate_slope(gtFCC_noReg.melt()['value'], priorFCC_noReg_meds['median'])\n",
    "ax[1,0].axline((0, intercept), slope=slope, linestyle='--', alpha=0.6, color='orange', zorder=0)\n",
    "slope, intercept, _ = util.calculate_slope(gtFCC_noReg.melt()['value'], postFCC_noReg_meds['median'])\n",
    "ax[1,0].axline((0, intercept), slope=slope, linestyle='--', alpha=0.6, color='b', zorder=0)\n",
    "ax[1,0].axline([0, 0], [1, 1], c='gray', linestyle='dashed', zorder=1, linewidth=3)\n",
    "ax[1,0].grid()\n",
    "\n",
    "ax[1,1].set_aspect('equal', 'datalim')\n",
    "ax[1,1].scatter(gtFCC_reg1.melt()['value'], priorFCC_reg1_meds['median'], alpha=0.4, label='prior', zorder=100, c='orange')\n",
    "ax[1,1].scatter(gtFCC_reg1.melt()['value'], postFCC_reg1_meds['median'], alpha=0.4,  label='post', zorder=100, c='b')\n",
    "slope, intercept, _ = util.calculate_slope(gtFCC_reg1.melt()['value'], priorFCC_reg1_meds['median'])\n",
    "ax[1,1].axline((0, intercept), slope=slope, linestyle='--', alpha=0.6, color='orange', zorder=0)\n",
    "slope, intercept, _ = util.calculate_slope(gtFCC_reg1.melt()['value'], postFCC_reg1_meds['median'])\n",
    "ax[1,1].axline((0, intercept), slope=slope, linestyle='--', alpha=0.6, color='b', zorder=0)\n",
    "ax[1,1].axline([0, 0], [1, 1], c='gray', linestyle='dashed', zorder=1, linewidth=3)\n",
    "ax[1,1].grid()\n",
    "\n",
    "ax[1,2].set_aspect('equal', 'datalim')\n",
    "ax[1,2].scatter(gtFCC_reg2.melt()['value'], priorFCC_reg2_meds['median'], alpha=0.4, label='prior', zorder=100, c='orange')\n",
    "ax[1,2].scatter(gtFCC_reg2.melt()['value'], postFCC_reg2_meds['median'], alpha=0.4,  label='post', zorder=100, c='b')\n",
    "slope, intercept, _ = util.calculate_slope(gtFCC_reg2.melt()['value'], priorFCC_reg2_meds['median'])\n",
    "ax[1,2].axline((0, intercept), slope=slope, linestyle='--', alpha=0.6, color='orange', zorder=0)\n",
    "slope, intercept, _ = util.calculate_slope(gtFCC_reg2.melt()['value'], postFCC_reg2_meds['median'])\n",
    "ax[1,2].axline((0, intercept), slope=slope, linestyle='--', alpha=0.6, color='b', zorder=0)\n",
    "ax[1,2].axline([0, 0], [1, 1], c='gray', linestyle='dashed', zorder=1, linewidth=3)\n",
    "ax[1,2].grid()\n",
    "    \n",
    "f.tight_layout()\n",
    "\n",
    "plt.savefig(f'../data/results/raw_svg_figures/top{topology}-{omission}-combinedFCCs.svg', format=\"svg\")"
   ]
  },
  {
   "cell_type": "code",
   "execution_count": 32,
   "metadata": {},
   "outputs": [],
   "source": [
    "priorFCC_noReg_meds.loc[pt_enz_is_rxn, 'median'] += 2\n",
    "postFCC_noReg_meds.loc[pt_enz_is_rxn, 'median'] += 2\n",
    "\n",
    "priorFCC_reg1_meds.loc[pt_enz_is_rxn, 'median'] += 2\n",
    "postFCC_reg1_meds.loc[pt_enz_is_rxn, 'median'] += 2\n",
    "\n",
    "priorFCC_reg2_meds.loc[pt_enz_is_rxn, 'median'] += 2\n",
    "postFCC_reg2_meds.loc[pt_enz_is_rxn, 'median'] += 2"
   ]
  },
  {
   "cell_type": "code",
   "execution_count": 33,
   "metadata": {},
   "outputs": [
    {
     "data": {
      "image/png": "[encoded data removed]",
      "text/plain": [
       "<Figure size 1600x450 with 3 Axes>"
      ]
     },
     "metadata": {},
     "output_type": "display_data"
    }
   ],
   "source": [
    "# Create two subplots and unpack the output array immediately\n",
    "f, ax = plt.subplots(1, 3, figsize=(16,4.5))\n",
    "\n",
    "for ii in range(3):\n",
    "    ax[ii].tick_params(axis='both', which='major', labelsize=16)\n",
    "\n",
    "ax[0].set_aspect('equal', 'datalim')\n",
    "ax[0].scatter(gtFCC_noReg.melt()['value'], priorFCC_noReg_meds['median'], alpha=0.4, label='prior', zorder=100, c='orange')\n",
    "ax[0].scatter(gtFCC_noReg.melt()['value'], postFCC_noReg_meds['median'], alpha=0.4, label='post', zorder=100, c='b')\n",
    "slope, intercept, _ = util.calculate_slope(gtFCC_noReg.melt()['value'], priorFCC_noReg_meds['median'])\n",
    "ax[0].axline((0, intercept), slope=slope, linestyle='--', alpha=0.6, color='orange', zorder=0)\n",
    "slope, intercept, _ = util.calculate_slope(gtFCC_noReg.melt()['value'], postFCC_noReg_meds['median'])\n",
    "ax[0].axline((0, intercept), slope=slope, linestyle='--', alpha=0.6, color='b', zorder=0)\n",
    "ax[0].axline([0, 0], [1, 1], c='gray', linestyle='dashed', zorder=1, linewidth=3)\n",
    "ax[0].grid()\n",
    "ax[0].legend(loc=\"lower right\", fontsize=16)\n",
    "ax[0].set_xlabel('ground truth values')\n",
    "\n",
    "ax[1].set_aspect('equal', 'datalim')\n",
    "ax[1].scatter(gtFCC_reg1.melt()['value'], priorFCC_reg1_meds['median'], alpha=0.4, label='prior', zorder=100, c='orange')\n",
    "ax[1].scatter(gtFCC_reg1.melt()['value'], postFCC_reg1_meds['median'], alpha=0.4,  label='post', zorder=100, c='b')\n",
    "slope, intercept, _ = util.calculate_slope(gtFCC_reg1.melt()['value'], priorFCC_reg1_meds['median'])\n",
    "ax[1].axline((0, intercept), slope=slope, linestyle='--', alpha=0.6, color='orange', zorder=0)\n",
    "slope, intercept, _ = util.calculate_slope(gtFCC_reg1.melt()['value'], postFCC_reg1_meds['median'])\n",
    "ax[1].axline((0, intercept), slope=slope, linestyle='--', alpha=0.6, color='b', zorder=0)\n",
    "ax[1].axline([0, 0], [1, 1], c='gray', linestyle='dashed', zorder=1, linewidth=3)\n",
    "ax[1].grid()\n",
    "ax[1].set_xlabel('ground truth values')\n",
    "\n",
    "ax[2].set_aspect('equal', 'datalim')\n",
    "ax[2].scatter(gtFCC_reg2.melt()['value'], priorFCC_reg2_meds['median'], alpha=0.4, label='prior', zorder=100, c='orange')\n",
    "ax[2].scatter(gtFCC_reg2.melt()['value'], postFCC_reg2_meds['median'], alpha=0.4,  label='post', zorder=100, c='b')\n",
    "slope, intercept, _ = util.calculate_slope(gtFCC_reg2.melt()['value'], priorFCC_reg2_meds['median'])\n",
    "ax[2].axline((0, intercept), slope=slope, linestyle='--', alpha=0.6, color='orange', zorder=0)\n",
    "slope, intercept, _ = util.calculate_slope(gtFCC_reg2.melt()['value'], postFCC_reg2_meds['median'])\n",
    "ax[2].axline((0, intercept), slope=slope, linestyle='--', alpha=0.6, color='b', zorder=0)\n",
    "ax[2].axline([0, 0], [1, 1], c='gray', linestyle='dashed', zorder=1, linewidth=3)\n",
    "ax[2].grid()\n",
    "\n",
    "ax[2].set_xlabel('ground truth values')\n",
    "ax[2].set_ylabel('predicted values')\n",
    "\n",
    "\n",
    "    \n",
    "f.tight_layout()\n",
    "\n",
    "plt.savefig(f'../data/results/raw_svg_figures/top{topology}/top{topology}-{omission}-combinedFCCs.svg', format=\"svg\")"
   ]
  },
  {
   "cell_type": "code",
   "execution_count": 34,
   "metadata": {},
   "outputs": [
    {
     "data": {
      "image/png": "[encoded data removed]",
      "text/plain": [
       "<Figure size 640x480 with 1 Axes>"
      ]
     },
     "metadata": {},
     "output_type": "display_data"
    }
   ],
   "source": [
    "# Create two subplots and unpack the output array immediately\n",
    "\n",
    "plt.axes().set_aspect('equal', 'datalim')\n",
    "\n",
    "plt.scatter(gtFCC_noReg.melt()['value'], postFCC_noReg_meds['median'], alpha=0.4, label='noReg', zorder=300)\n",
    "plt.scatter(gtFCC_reg1.melt()['value'], postFCC_reg1_meds['median'], alpha=0.4,  label='reg1', zorder=200)\n",
    "plt.scatter(gtFCC_reg2.melt()['value'], postFCC_reg2_meds['median'], alpha=0.4,  label='reg2', zorder=100)\n",
    "\n",
    "slope, intercept, _ = util.calculate_slope(gtFCC_noReg.melt()['value'], postFCC_noReg_meds['median'])\n",
    "plt.axline((0, intercept), slope=slope, linestyle='--', alpha=0.6, color='tab:blue', zorder=0)\n",
    "\n",
    "slope, intercept, _ = util.calculate_slope(gtFCC_reg1.melt()['value'], postFCC_reg1_meds['median'])\n",
    "plt.axline((0, intercept), slope=slope, linestyle='--', alpha=0.6, color='tab:orange', zorder=0)\n",
    "\n",
    "slope, intercept, _ = util.calculate_slope(gtFCC_reg2.melt()['value'], postFCC_reg2_meds['median'])\n",
    "plt.axline((0, intercept), slope=slope, linestyle='--', alpha=0.6, color='tab:green', zorder=0)\n",
    "\n",
    "plt.axline([0, 0], [1, 1], c='gray', linestyle='dashed', zorder=1, linewidth=3)\n",
    "plt.grid()\n",
    "plt.legend(loc=\"lower right\", fontsize=16)\n",
    "\n",
    "plt.xlabel('ground truth values')\n",
    "plt.ylabel('predicted values')\n",
    "\n",
    "    \n",
    "f.tight_layout()\n",
    "\n",
    "plt.savefig(f'../data/results/raw_svg_figures/top{topology}/top{topology}-{omission}-combinedFCCs_byAllostery.svg', format=\"svg\")"
   ]
  },
  {
   "cell_type": "markdown",
   "metadata": {},
   "source": [
    "### Comparing elasticity values with FCC values. \n"
   ]
  },
  {
   "cell_type": "code",
   "execution_count": null,
   "metadata": {},
   "outputs": [],
   "source": []
  },
  {
   "cell_type": "code",
   "execution_count": 28,
   "metadata": {},
   "outputs": [
    {
     "data": {
      "text/html": [
       "<div>\n",
       "<style scoped>\n",
       "    .dataframe tbody tr th:only-of-type {\n",
       "        vertical-align: middle;\n",
       "    }\n",
       "\n",
       "    .dataframe tbody tr th {\n",
       "        vertical-align: top;\n",
       "    }\n",
       "\n",
       "    .dataframe thead th {\n",
       "        text-align: right;\n",
       "    }\n",
       "</style>\n",
       "<table border=\"1\" class=\"dataframe\">\n",
       "  <thead>\n",
       "    <tr style=\"text-align: right;\">\n",
       "      <th></th>\n",
       "      <th>0.1x</th>\n",
       "      <th>0.2x</th>\n",
       "      <th>0.3x</th>\n",
       "      <th>0.4x</th>\n",
       "      <th>0.5x</th>\n",
       "      <th>1.5x</th>\n",
       "      <th>3x</th>\n",
       "      <th>5x</th>\n",
       "      <th>7x</th>\n",
       "      <th>10x</th>\n",
       "      <th>median</th>\n",
       "      <th>min</th>\n",
       "      <th>max</th>\n",
       "    </tr>\n",
       "  </thead>\n",
       "  <tbody>\n",
       "    <tr>\n",
       "      <th>0</th>\n",
       "      <td>0.012</td>\n",
       "      <td>0.006</td>\n",
       "      <td>0.010</td>\n",
       "      <td>0.003</td>\n",
       "      <td>-0.005</td>\n",
       "      <td>-0.003</td>\n",
       "      <td>0.009</td>\n",
       "      <td>-0.008</td>\n",
       "      <td>0.005</td>\n",
       "      <td>0.004</td>\n",
       "      <td>0.0045</td>\n",
       "      <td>-0.008</td>\n",
       "      <td>0.012</td>\n",
       "    </tr>\n",
       "    <tr>\n",
       "      <th>1</th>\n",
       "      <td>-0.338</td>\n",
       "      <td>-0.306</td>\n",
       "      <td>-0.239</td>\n",
       "      <td>-0.232</td>\n",
       "      <td>-0.208</td>\n",
       "      <td>-0.336</td>\n",
       "      <td>-0.403</td>\n",
       "      <td>-0.436</td>\n",
       "      <td>-0.437</td>\n",
       "      <td>-0.442</td>\n",
       "      <td>-0.3370</td>\n",
       "      <td>-0.442</td>\n",
       "      <td>-0.208</td>\n",
       "    </tr>\n",
       "    <tr>\n",
       "      <th>2</th>\n",
       "      <td>-0.015</td>\n",
       "      <td>0.005</td>\n",
       "      <td>0.008</td>\n",
       "      <td>0.000</td>\n",
       "      <td>0.004</td>\n",
       "      <td>0.001</td>\n",
       "      <td>-0.002</td>\n",
       "      <td>0.006</td>\n",
       "      <td>0.009</td>\n",
       "      <td>-0.004</td>\n",
       "      <td>0.0025</td>\n",
       "      <td>-0.015</td>\n",
       "      <td>0.009</td>\n",
       "    </tr>\n",
       "    <tr>\n",
       "      <th>3</th>\n",
       "      <td>0.006</td>\n",
       "      <td>-0.004</td>\n",
       "      <td>0.010</td>\n",
       "      <td>-0.003</td>\n",
       "      <td>0.007</td>\n",
       "      <td>0.004</td>\n",
       "      <td>0.008</td>\n",
       "      <td>-0.001</td>\n",
       "      <td>0.004</td>\n",
       "      <td>0.005</td>\n",
       "      <td>0.0045</td>\n",
       "      <td>-0.004</td>\n",
       "      <td>0.010</td>\n",
       "    </tr>\n",
       "    <tr>\n",
       "      <th>4</th>\n",
       "      <td>0.008</td>\n",
       "      <td>0.010</td>\n",
       "      <td>0.006</td>\n",
       "      <td>-0.003</td>\n",
       "      <td>0.006</td>\n",
       "      <td>-0.001</td>\n",
       "      <td>0.003</td>\n",
       "      <td>0.000</td>\n",
       "      <td>0.006</td>\n",
       "      <td>0.000</td>\n",
       "      <td>0.0045</td>\n",
       "      <td>-0.003</td>\n",
       "      <td>0.010</td>\n",
       "    </tr>\n",
       "    <tr>\n",
       "      <th>...</th>\n",
       "      <td>...</td>\n",
       "      <td>...</td>\n",
       "      <td>...</td>\n",
       "      <td>...</td>\n",
       "      <td>...</td>\n",
       "      <td>...</td>\n",
       "      <td>...</td>\n",
       "      <td>...</td>\n",
       "      <td>...</td>\n",
       "      <td>...</td>\n",
       "      <td>...</td>\n",
       "      <td>...</td>\n",
       "      <td>...</td>\n",
       "    </tr>\n",
       "    <tr>\n",
       "      <th>242</th>\n",
       "      <td>-0.004</td>\n",
       "      <td>-0.005</td>\n",
       "      <td>-0.001</td>\n",
       "      <td>0.000</td>\n",
       "      <td>0.006</td>\n",
       "      <td>0.000</td>\n",
       "      <td>0.000</td>\n",
       "      <td>0.006</td>\n",
       "      <td>0.009</td>\n",
       "      <td>0.004</td>\n",
       "      <td>0.0000</td>\n",
       "      <td>-0.005</td>\n",
       "      <td>0.009</td>\n",
       "    </tr>\n",
       "    <tr>\n",
       "      <th>243</th>\n",
       "      <td>-0.006</td>\n",
       "      <td>-0.005</td>\n",
       "      <td>-0.005</td>\n",
       "      <td>-0.001</td>\n",
       "      <td>-0.006</td>\n",
       "      <td>0.002</td>\n",
       "      <td>0.002</td>\n",
       "      <td>0.008</td>\n",
       "      <td>-0.005</td>\n",
       "      <td>0.005</td>\n",
       "      <td>-0.0030</td>\n",
       "      <td>-0.006</td>\n",
       "      <td>0.008</td>\n",
       "    </tr>\n",
       "    <tr>\n",
       "      <th>244</th>\n",
       "      <td>-0.020</td>\n",
       "      <td>-0.011</td>\n",
       "      <td>-0.011</td>\n",
       "      <td>-0.004</td>\n",
       "      <td>-0.007</td>\n",
       "      <td>-0.009</td>\n",
       "      <td>-0.013</td>\n",
       "      <td>-0.017</td>\n",
       "      <td>-0.040</td>\n",
       "      <td>-0.095</td>\n",
       "      <td>-0.0120</td>\n",
       "      <td>-0.095</td>\n",
       "      <td>-0.004</td>\n",
       "    </tr>\n",
       "    <tr>\n",
       "      <th>245</th>\n",
       "      <td>0.004</td>\n",
       "      <td>-0.003</td>\n",
       "      <td>0.006</td>\n",
       "      <td>-0.003</td>\n",
       "      <td>-0.007</td>\n",
       "      <td>0.002</td>\n",
       "      <td>-0.004</td>\n",
       "      <td>0.013</td>\n",
       "      <td>0.000</td>\n",
       "      <td>0.001</td>\n",
       "      <td>0.0005</td>\n",
       "      <td>-0.007</td>\n",
       "      <td>0.013</td>\n",
       "    </tr>\n",
       "    <tr>\n",
       "      <th>246</th>\n",
       "      <td>-0.010</td>\n",
       "      <td>0.004</td>\n",
       "      <td>-0.006</td>\n",
       "      <td>0.002</td>\n",
       "      <td>0.005</td>\n",
       "      <td>0.002</td>\n",
       "      <td>-0.015</td>\n",
       "      <td>-0.016</td>\n",
       "      <td>-0.020</td>\n",
       "      <td>-0.044</td>\n",
       "      <td>-0.0080</td>\n",
       "      <td>-0.044</td>\n",
       "      <td>0.005</td>\n",
       "    </tr>\n",
       "  </tbody>\n",
       "</table>\n",
       "<p>247 rows × 13 columns</p>\n",
       "</div>"
      ],
      "text/plain": [
       "      0.1x   0.2x   0.3x   0.4x   0.5x   1.5x     3x     5x     7x    10x  \\\n",
       "0    0.012  0.006  0.010  0.003 -0.005 -0.003  0.009 -0.008  0.005  0.004   \n",
       "1   -0.338 -0.306 -0.239 -0.232 -0.208 -0.336 -0.403 -0.436 -0.437 -0.442   \n",
       "2   -0.015  0.005  0.008  0.000  0.004  0.001 -0.002  0.006  0.009 -0.004   \n",
       "3    0.006 -0.004  0.010 -0.003  0.007  0.004  0.008 -0.001  0.004  0.005   \n",
       "4    0.008  0.010  0.006 -0.003  0.006 -0.001  0.003  0.000  0.006  0.000   \n",
       "..     ...    ...    ...    ...    ...    ...    ...    ...    ...    ...   \n",
       "242 -0.004 -0.005 -0.001  0.000  0.006  0.000  0.000  0.006  0.009  0.004   \n",
       "243 -0.006 -0.005 -0.005 -0.001 -0.006  0.002  0.002  0.008 -0.005  0.005   \n",
       "244 -0.020 -0.011 -0.011 -0.004 -0.007 -0.009 -0.013 -0.017 -0.040 -0.095   \n",
       "245  0.004 -0.003  0.006 -0.003 -0.007  0.002 -0.004  0.013  0.000  0.001   \n",
       "246 -0.010  0.004 -0.006  0.002  0.005  0.002 -0.015 -0.016 -0.020 -0.044   \n",
       "\n",
       "     median    min    max  \n",
       "0    0.0045 -0.008  0.012  \n",
       "1   -0.3370 -0.442 -0.208  \n",
       "2    0.0025 -0.015  0.009  \n",
       "3    0.0045 -0.004  0.010  \n",
       "4    0.0045 -0.003  0.010  \n",
       "..      ...    ...    ...  \n",
       "242  0.0000 -0.005  0.009  \n",
       "243 -0.0030 -0.006  0.008  \n",
       "244 -0.0120 -0.095 -0.004  \n",
       "245  0.0005 -0.007  0.013  \n",
       "246 -0.0080 -0.044  0.005  \n",
       "\n",
       "[247 rows x 13 columns]"
      ]
     },
     "execution_count": 28,
     "metadata": {},
     "output_type": "execute_result"
    }
   ],
   "source": [
    "ela_noReg_df"
   ]
  },
  {
   "cell_type": "code",
   "execution_count": 30,
   "metadata": {},
   "outputs": [
    {
     "data": {
      "text/html": [
       "<div>\n",
       "<style scoped>\n",
       "    .dataframe tbody tr th:only-of-type {\n",
       "        vertical-align: middle;\n",
       "    }\n",
       "\n",
       "    .dataframe tbody tr th {\n",
       "        vertical-align: top;\n",
       "    }\n",
       "\n",
       "    .dataframe thead th {\n",
       "        text-align: right;\n",
       "    }\n",
       "</style>\n",
       "<table border=\"1\" class=\"dataframe\">\n",
       "  <thead>\n",
       "    <tr style=\"text-align: right;\">\n",
       "      <th></th>\n",
       "      <th>0.1x</th>\n",
       "      <th>0.2x</th>\n",
       "      <th>0.3x</th>\n",
       "      <th>0.4x</th>\n",
       "      <th>0.5x</th>\n",
       "      <th>1.5x</th>\n",
       "      <th>3x</th>\n",
       "      <th>5x</th>\n",
       "      <th>7x</th>\n",
       "      <th>10x</th>\n",
       "      <th>median</th>\n",
       "      <th>min</th>\n",
       "      <th>max</th>\n",
       "    </tr>\n",
       "  </thead>\n",
       "  <tbody>\n",
       "    <tr>\n",
       "      <th>0</th>\n",
       "      <td>-1.452365</td>\n",
       "      <td>-1.504568</td>\n",
       "      <td>-1.459433</td>\n",
       "      <td>-1.539324</td>\n",
       "      <td>-1.528220</td>\n",
       "      <td>-1.699724</td>\n",
       "      <td>-1.704990</td>\n",
       "      <td>-1.719983</td>\n",
       "      <td>-1.704306</td>\n",
       "      <td>-1.718776</td>\n",
       "      <td>-1.619524</td>\n",
       "      <td>-1.719983</td>\n",
       "      <td>-1.452365</td>\n",
       "    </tr>\n",
       "    <tr>\n",
       "      <th>1</th>\n",
       "      <td>0.980925</td>\n",
       "      <td>0.703016</td>\n",
       "      <td>0.692264</td>\n",
       "      <td>0.446629</td>\n",
       "      <td>0.411264</td>\n",
       "      <td>0.143485</td>\n",
       "      <td>0.201340</td>\n",
       "      <td>0.208049</td>\n",
       "      <td>0.225773</td>\n",
       "      <td>0.244899</td>\n",
       "      <td>0.328082</td>\n",
       "      <td>0.143485</td>\n",
       "      <td>0.980925</td>\n",
       "    </tr>\n",
       "    <tr>\n",
       "      <th>2</th>\n",
       "      <td>0.980925</td>\n",
       "      <td>0.703016</td>\n",
       "      <td>0.692264</td>\n",
       "      <td>0.446629</td>\n",
       "      <td>0.411264</td>\n",
       "      <td>0.143485</td>\n",
       "      <td>0.201340</td>\n",
       "      <td>0.208049</td>\n",
       "      <td>0.225773</td>\n",
       "      <td>0.244899</td>\n",
       "      <td>0.328082</td>\n",
       "      <td>0.143485</td>\n",
       "      <td>0.980925</td>\n",
       "    </tr>\n",
       "    <tr>\n",
       "      <th>3</th>\n",
       "      <td>0.419860</td>\n",
       "      <td>0.434212</td>\n",
       "      <td>0.495829</td>\n",
       "      <td>0.464819</td>\n",
       "      <td>0.489628</td>\n",
       "      <td>0.346517</td>\n",
       "      <td>0.322635</td>\n",
       "      <td>0.301242</td>\n",
       "      <td>0.316315</td>\n",
       "      <td>0.291937</td>\n",
       "      <td>0.383188</td>\n",
       "      <td>0.291937</td>\n",
       "      <td>0.495829</td>\n",
       "    </tr>\n",
       "    <tr>\n",
       "      <th>4</th>\n",
       "      <td>0.419860</td>\n",
       "      <td>0.434212</td>\n",
       "      <td>0.495829</td>\n",
       "      <td>0.464819</td>\n",
       "      <td>0.489628</td>\n",
       "      <td>0.346517</td>\n",
       "      <td>0.322635</td>\n",
       "      <td>0.301242</td>\n",
       "      <td>0.316315</td>\n",
       "      <td>0.291937</td>\n",
       "      <td>0.383188</td>\n",
       "      <td>0.291937</td>\n",
       "      <td>0.495829</td>\n",
       "    </tr>\n",
       "    <tr>\n",
       "      <th>...</th>\n",
       "      <td>...</td>\n",
       "      <td>...</td>\n",
       "      <td>...</td>\n",
       "      <td>...</td>\n",
       "      <td>...</td>\n",
       "      <td>...</td>\n",
       "      <td>...</td>\n",
       "      <td>...</td>\n",
       "      <td>...</td>\n",
       "      <td>...</td>\n",
       "      <td>...</td>\n",
       "      <td>...</td>\n",
       "      <td>...</td>\n",
       "    </tr>\n",
       "    <tr>\n",
       "      <th>356</th>\n",
       "      <td>-0.012204</td>\n",
       "      <td>-0.006490</td>\n",
       "      <td>-0.002531</td>\n",
       "      <td>-0.002283</td>\n",
       "      <td>-0.002511</td>\n",
       "      <td>-0.001045</td>\n",
       "      <td>-0.002450</td>\n",
       "      <td>-0.003086</td>\n",
       "      <td>-0.005191</td>\n",
       "      <td>-0.006964</td>\n",
       "      <td>-0.002808</td>\n",
       "      <td>-0.012204</td>\n",
       "      <td>-0.001045</td>\n",
       "    </tr>\n",
       "    <tr>\n",
       "      <th>357</th>\n",
       "      <td>-0.012204</td>\n",
       "      <td>-0.006490</td>\n",
       "      <td>-0.002531</td>\n",
       "      <td>-0.002283</td>\n",
       "      <td>-0.002511</td>\n",
       "      <td>-0.001045</td>\n",
       "      <td>-0.002450</td>\n",
       "      <td>-0.003086</td>\n",
       "      <td>-0.005191</td>\n",
       "      <td>-0.006964</td>\n",
       "      <td>-0.002808</td>\n",
       "      <td>-0.012204</td>\n",
       "      <td>-0.001045</td>\n",
       "    </tr>\n",
       "    <tr>\n",
       "      <th>358</th>\n",
       "      <td>-0.012204</td>\n",
       "      <td>-0.006490</td>\n",
       "      <td>-0.002531</td>\n",
       "      <td>-0.002283</td>\n",
       "      <td>-0.002511</td>\n",
       "      <td>-0.001045</td>\n",
       "      <td>-0.002450</td>\n",
       "      <td>-0.003086</td>\n",
       "      <td>-0.005191</td>\n",
       "      <td>-0.006964</td>\n",
       "      <td>-0.002808</td>\n",
       "      <td>-0.012204</td>\n",
       "      <td>-0.001045</td>\n",
       "    </tr>\n",
       "    <tr>\n",
       "      <th>359</th>\n",
       "      <td>0.210061</td>\n",
       "      <td>0.238124</td>\n",
       "      <td>0.248757</td>\n",
       "      <td>0.253647</td>\n",
       "      <td>0.260030</td>\n",
       "      <td>0.274622</td>\n",
       "      <td>0.250842</td>\n",
       "      <td>0.246343</td>\n",
       "      <td>0.243389</td>\n",
       "      <td>0.241421</td>\n",
       "      <td>0.247550</td>\n",
       "      <td>0.210061</td>\n",
       "      <td>0.274622</td>\n",
       "    </tr>\n",
       "    <tr>\n",
       "      <th>360</th>\n",
       "      <td>-1.129458</td>\n",
       "      <td>-1.042269</td>\n",
       "      <td>-1.012005</td>\n",
       "      <td>-0.993457</td>\n",
       "      <td>-0.967626</td>\n",
       "      <td>-0.914419</td>\n",
       "      <td>-1.004021</td>\n",
       "      <td>-1.019888</td>\n",
       "      <td>-1.025337</td>\n",
       "      <td>-1.027879</td>\n",
       "      <td>-1.015946</td>\n",
       "      <td>-1.129458</td>\n",
       "      <td>-0.914419</td>\n",
       "    </tr>\n",
       "  </tbody>\n",
       "</table>\n",
       "<p>361 rows × 13 columns</p>\n",
       "</div>"
      ],
      "text/plain": [
       "         0.1x      0.2x      0.3x      0.4x      0.5x      1.5x        3x  \\\n",
       "0   -1.452365 -1.504568 -1.459433 -1.539324 -1.528220 -1.699724 -1.704990   \n",
       "1    0.980925  0.703016  0.692264  0.446629  0.411264  0.143485  0.201340   \n",
       "2    0.980925  0.703016  0.692264  0.446629  0.411264  0.143485  0.201340   \n",
       "3    0.419860  0.434212  0.495829  0.464819  0.489628  0.346517  0.322635   \n",
       "4    0.419860  0.434212  0.495829  0.464819  0.489628  0.346517  0.322635   \n",
       "..        ...       ...       ...       ...       ...       ...       ...   \n",
       "356 -0.012204 -0.006490 -0.002531 -0.002283 -0.002511 -0.001045 -0.002450   \n",
       "357 -0.012204 -0.006490 -0.002531 -0.002283 -0.002511 -0.001045 -0.002450   \n",
       "358 -0.012204 -0.006490 -0.002531 -0.002283 -0.002511 -0.001045 -0.002450   \n",
       "359  0.210061  0.238124  0.248757  0.253647  0.260030  0.274622  0.250842   \n",
       "360 -1.129458 -1.042269 -1.012005 -0.993457 -0.967626 -0.914419 -1.004021   \n",
       "\n",
       "           5x        7x       10x    median       min       max  \n",
       "0   -1.719983 -1.704306 -1.718776 -1.619524 -1.719983 -1.452365  \n",
       "1    0.208049  0.225773  0.244899  0.328082  0.143485  0.980925  \n",
       "2    0.208049  0.225773  0.244899  0.328082  0.143485  0.980925  \n",
       "3    0.301242  0.316315  0.291937  0.383188  0.291937  0.495829  \n",
       "4    0.301242  0.316315  0.291937  0.383188  0.291937  0.495829  \n",
       "..        ...       ...       ...       ...       ...       ...  \n",
       "356 -0.003086 -0.005191 -0.006964 -0.002808 -0.012204 -0.001045  \n",
       "357 -0.003086 -0.005191 -0.006964 -0.002808 -0.012204 -0.001045  \n",
       "358 -0.003086 -0.005191 -0.006964 -0.002808 -0.012204 -0.001045  \n",
       "359  0.246343  0.243389  0.241421  0.247550  0.210061  0.274622  \n",
       "360 -1.019888 -1.025337 -1.027879 -1.015946 -1.129458 -0.914419  \n",
       "\n",
       "[361 rows x 13 columns]"
      ]
     },
     "execution_count": 30,
     "metadata": {},
     "output_type": "execute_result"
    }
   ],
   "source": [
    "postFCC_noReg_meds"
   ]
  },
  {
   "cell_type": "code",
   "execution_count": null,
   "metadata": {},
   "outputs": [],
   "source": []
  },
  {
   "cell_type": "markdown",
   "metadata": {},
   "source": [
    "## Quantifying the number of FCCs in top ten that were predicted correctly by BMCA\n"
   ]
  },
  {
   "cell_type": "code",
   "execution_count": 11,
   "metadata": {},
   "outputs": [],
   "source": [
    "rank_counts_df = pd.read_csv('../data/results/TopologyB_top10.csv')"
   ]
  },
  {
   "cell_type": "code",
   "execution_count": 12,
   "metadata": {},
   "outputs": [
    {
     "name": "stderr",
     "output_type": "stream",
     "text": [
      "C:\\Users\\user\\AppData\\Local\\Temp\\ipykernel_7944\\1542227218.py:1: FutureWarning:\n",
      "\n",
      "pivot_table dropped a column because it failed to aggregate. This behavior is deprecated and will raise in a future version of pandas. Select only the columns that can be aggregated.\n",
      "\n",
      "C:\\Users\\user\\AppData\\Local\\Temp\\ipykernel_7944\\1542227218.py:1: FutureWarning:\n",
      "\n",
      "The operation <function std at 0x00000241FF8BB1F0> failed on a column. If any error is raised, this will raise an exception in a future version of pandas. Drop these columns to avoid this warning.\n",
      "\n"
     ]
    },
    {
     "data": {
      "text/html": [
       "<div>\n",
       "<style scoped>\n",
       "    .dataframe tbody tr th:only-of-type {\n",
       "        vertical-align: middle;\n",
       "    }\n",
       "\n",
       "    .dataframe tbody tr th {\n",
       "        vertical-align: top;\n",
       "    }\n",
       "\n",
       "    .dataframe thead tr th {\n",
       "        text-align: left;\n",
       "    }\n",
       "</style>\n",
       "<table border=\"1\" class=\"dataframe\">\n",
       "  <thead>\n",
       "    <tr>\n",
       "      <th></th>\n",
       "      <th>omittedData</th>\n",
       "      <th>type</th>\n",
       "      <th>mean</th>\n",
       "      <th>std</th>\n",
       "    </tr>\n",
       "    <tr>\n",
       "      <th></th>\n",
       "      <th></th>\n",
       "      <th></th>\n",
       "      <th>count</th>\n",
       "      <th>count</th>\n",
       "    </tr>\n",
       "  </thead>\n",
       "  <tbody>\n",
       "    <tr>\n",
       "      <th>1</th>\n",
       "      <td>allData</td>\n",
       "      <td>prior</td>\n",
       "      <td>6.100000</td>\n",
       "      <td>0.305129</td>\n",
       "    </tr>\n",
       "    <tr>\n",
       "      <th>0</th>\n",
       "      <td>allData</td>\n",
       "      <td>post</td>\n",
       "      <td>7.533333</td>\n",
       "      <td>0.937102</td>\n",
       "    </tr>\n",
       "    <tr>\n",
       "      <th>7</th>\n",
       "      <td>omitFluxes</td>\n",
       "      <td>prior</td>\n",
       "      <td>6.333333</td>\n",
       "      <td>0.479463</td>\n",
       "    </tr>\n",
       "    <tr>\n",
       "      <th>6</th>\n",
       "      <td>omitFluxes</td>\n",
       "      <td>post</td>\n",
       "      <td>6.100000</td>\n",
       "      <td>0.758856</td>\n",
       "    </tr>\n",
       "    <tr>\n",
       "      <th>3</th>\n",
       "      <td>omitEnzymes</td>\n",
       "      <td>prior</td>\n",
       "      <td>6.000000</td>\n",
       "      <td>0.262613</td>\n",
       "    </tr>\n",
       "    <tr>\n",
       "      <th>2</th>\n",
       "      <td>omitEnzymes</td>\n",
       "      <td>post</td>\n",
       "      <td>7.333333</td>\n",
       "      <td>0.711159</td>\n",
       "    </tr>\n",
       "    <tr>\n",
       "      <th>9</th>\n",
       "      <td>omitIntMet</td>\n",
       "      <td>prior</td>\n",
       "      <td>6.033333</td>\n",
       "      <td>0.182574</td>\n",
       "    </tr>\n",
       "    <tr>\n",
       "      <th>8</th>\n",
       "      <td>omitIntMet</td>\n",
       "      <td>post</td>\n",
       "      <td>6.233333</td>\n",
       "      <td>1.194335</td>\n",
       "    </tr>\n",
       "    <tr>\n",
       "      <th>5</th>\n",
       "      <td>omitExMet</td>\n",
       "      <td>prior</td>\n",
       "      <td>6.033333</td>\n",
       "      <td>0.182574</td>\n",
       "    </tr>\n",
       "    <tr>\n",
       "      <th>4</th>\n",
       "      <td>omitExMet</td>\n",
       "      <td>post</td>\n",
       "      <td>8.233333</td>\n",
       "      <td>0.568321</td>\n",
       "    </tr>\n",
       "  </tbody>\n",
       "</table>\n",
       "</div>"
      ],
      "text/plain": [
       "   omittedData   type      mean       std\n",
       "                          count     count\n",
       "1      allData  prior  6.100000  0.305129\n",
       "0      allData   post  7.533333  0.937102\n",
       "7   omitFluxes  prior  6.333333  0.479463\n",
       "6   omitFluxes   post  6.100000  0.758856\n",
       "3  omitEnzymes  prior  6.000000  0.262613\n",
       "2  omitEnzymes   post  7.333333  0.711159\n",
       "9   omitIntMet  prior  6.033333  0.182574\n",
       "8   omitIntMet   post  6.233333  1.194335\n",
       "5    omitExMet  prior  6.033333  0.182574\n",
       "4    omitExMet   post  8.233333  0.568321"
      ]
     },
     "execution_count": 12,
     "metadata": {},
     "output_type": "execute_result"
    }
   ],
   "source": [
    "stagbar_counts = rank_counts_df.pivot_table(index=['omittedData','type'], aggfunc=['mean',np.std])\n",
    "stagbar_counts.reset_index(inplace=True)\n",
    "stagbar_counts = stagbar_counts.reindex([1,0,7,6,3,2,9,8,5,4])\n",
    "stagbar_counts"
   ]
  },
  {
   "cell_type": "code",
   "execution_count": null,
   "metadata": {},
   "outputs": [
    {
     "name": "stderr",
     "output_type": "stream",
     "text": [
      "C:\\Users\\user\\AppData\\Local\\Temp\\ipykernel_7944\\665701019.py:18: UserWarning:\n",
      "\n",
      "set_ticklabels() should only be used with a fixed number of ticks, i.e. after set_ticks() or using a FixedLocator.\n",
      "\n"
     ]
    },
    {
     "data": {
      "image/png": "[encoded data removed]",
      "text/plain": [
       "<Figure size 640x480 with 1 Axes>"
      ]
     },
     "metadata": {},
     "output_type": "display_data"
    }
   ],
   "source": [
    "ax = plt.subplot(111)\n",
    "ax.grid()\n",
    "\n",
    "ax.bar([i-0.1 for i in range(5)], stagbar_counts[stagbar_counts['type']=='prior']['mean']['count'].values,\n",
    "        width=0.2, color='orange', align='center', zorder=100, label='prior')\n",
    "plt.errorbar([i-0.1 for i in range(5)], \n",
    "             stagbar_counts[stagbar_counts['type']=='prior']['mean']['count'].values, \n",
    "             yerr=stagbar_counts[stagbar_counts['type']=='prior']['std']['count'].values, \n",
    "             ls='none', color='black', capsize=5, zorder=1000)\n",
    "\n",
    "ax.bar([i+0.1 for i in range(5)], stagbar_counts[stagbar_counts['type']=='post']['mean']['count'].values,\n",
    "        width=0.2, color='tab:blue', align='center', zorder=100, label='post')\n",
    "plt.errorbar([i+0.1 for i in range(5)], \n",
    "             stagbar_counts[stagbar_counts['type']=='post']['mean']['count'].values, \n",
    "             yerr=stagbar_counts[stagbar_counts['type']=='post']['std']['count'].values, \n",
    "             ls='none', color='black', capsize=5, zorder=1000)\n",
    "\n",
    "_ = ax.set_xticklabels([0, 'None', 'Fluxes', 'Enzymes', 'Int. Met.', 'Ex. Met.'])\n",
    "_ = ax.set_yticks(range(0,12,2))\n",
    "ax.legend()\n",
    "plt.savefig(f'../data/results/raw_svg_figures/top{topology}_rankCounts.svg', format='svg')"
   ]
  },
  {
   "cell_type": "code",
   "execution_count": 14,
   "metadata": {},
   "outputs": [
    {
     "name": "stderr",
     "output_type": "stream",
     "text": [
      "C:\\Users\\user\\AppData\\Local\\Temp\\ipykernel_7944\\694365876.py:1: FutureWarning:\n",
      "\n",
      "pivot_table dropped a column because it failed to aggregate. This behavior is deprecated and will raise in a future version of pandas. Select only the columns that can be aggregated.\n",
      "\n",
      "C:\\Users\\user\\AppData\\Local\\Temp\\ipykernel_7944\\694365876.py:1: FutureWarning:\n",
      "\n",
      "The operation <function std at 0x00000241FF8BB1F0> failed on a column. If any error is raised, this will raise an exception in a future version of pandas. Drop these columns to avoid this warning.\n",
      "\n",
      "C:\\Users\\user\\AppData\\Local\\Temp\\ipykernel_7944\\694365876.py:22: UserWarning:\n",
      "\n",
      "set_ticklabels() should only be used with a fixed number of ticks, i.e. after set_ticks() or using a FixedLocator.\n",
      "\n"
     ]
    },
    {
     "data": {
      "image/png": "[encoded data removed]",
      "text/plain": [
       "<Figure size 640x480 with 1 Axes>"
      ]
     },
     "metadata": {},
     "output_type": "display_data"
    }
   ],
   "source": [
    "stagbar_counts = rank_counts_df[rank_counts_df['regulation']=='noReg'].pivot_table(index=['omittedData','type'], aggfunc=['mean',np.std])\n",
    "stagbar_counts.reset_index(inplace=True)\n",
    "stagbar_counts = stagbar_counts.reindex([1,0,7,6,3,2,9,8,5,4])\n",
    "\n",
    "ax = plt.subplot(111)\n",
    "ax.grid()\n",
    "\n",
    "ax.bar([i-0.1 for i in range(5)], stagbar_counts[stagbar_counts['type']=='prior']['mean']['count'].values,\n",
    "        width=0.2, color='orange', align='center', zorder=100, label='prior')\n",
    "plt.errorbar([i-0.1 for i in range(5)], \n",
    "             stagbar_counts[stagbar_counts['type']=='prior']['mean']['count'].values, \n",
    "             yerr=stagbar_counts[stagbar_counts['type']=='prior']['std']['count'].values, \n",
    "             ls='none', color='black', capsize=5, zorder=1000)\n",
    "\n",
    "ax.bar([i+0.1 for i in range(5)], stagbar_counts[stagbar_counts['type']=='post']['mean']['count'].values,\n",
    "        width=0.2, color='tab:blue', align='center', zorder=100, label='post')\n",
    "plt.errorbar([i+0.1 for i in range(5)], \n",
    "             stagbar_counts[stagbar_counts['type']=='post']['mean']['count'].values, \n",
    "             yerr=stagbar_counts[stagbar_counts['type']=='post']['std']['count'].values, \n",
    "             ls='none', color='black', capsize=5, zorder=1000)\n",
    "\n",
    "_ = ax.set_xticklabels([0, 'None', 'Fluxes', 'Enzymes', 'Int. Met.', 'Ex. Met.'])\n",
    "_ = ax.set_yticks(range(0,12,2))\n",
    "ax.legend()\n",
    "plt.savefig(f'../data/results/raw_svg_figures/top{topology}-noReg_rankCounts.svg', format='svg')"
   ]
  },
  {
   "cell_type": "code",
   "execution_count": 15,
   "metadata": {},
   "outputs": [
    {
     "name": "stderr",
     "output_type": "stream",
     "text": [
      "C:\\Users\\user\\AppData\\Local\\Temp\\ipykernel_7944\\2509773324.py:1: FutureWarning:\n",
      "\n",
      "pivot_table dropped a column because it failed to aggregate. This behavior is deprecated and will raise in a future version of pandas. Select only the columns that can be aggregated.\n",
      "\n",
      "C:\\Users\\user\\AppData\\Local\\Temp\\ipykernel_7944\\2509773324.py:1: FutureWarning:\n",
      "\n",
      "The operation <function std at 0x00000241FF8BB1F0> failed on a column. If any error is raised, this will raise an exception in a future version of pandas. Drop these columns to avoid this warning.\n",
      "\n",
      "C:\\Users\\user\\AppData\\Local\\Temp\\ipykernel_7944\\2509773324.py:22: UserWarning:\n",
      "\n",
      "set_ticklabels() should only be used with a fixed number of ticks, i.e. after set_ticks() or using a FixedLocator.\n",
      "\n"
     ]
    },
    {
     "data": {
      "image/png": "[encoded data removed]",
      "text/plain": [
       "<Figure size 640x480 with 1 Axes>"
      ]
     },
     "metadata": {},
     "output_type": "display_data"
    }
   ],
   "source": [
    "stagbar_counts = rank_counts_df[rank_counts_df['regulation']=='reg1'].pivot_table(index=['omittedData','type'], aggfunc=['mean',np.std])\n",
    "stagbar_counts.reset_index(inplace=True)\n",
    "stagbar_counts = stagbar_counts.reindex([1,0,7,6,3,2,9,8,5,4])\n",
    "\n",
    "ax = plt.subplot(111)\n",
    "ax.grid()\n",
    "\n",
    "ax.bar([i-0.1 for i in range(5)], stagbar_counts[stagbar_counts['type']=='prior']['mean']['count'].values,\n",
    "        width=0.2, color='orange', align='center', zorder=100, label='prior')\n",
    "plt.errorbar([i-0.1 for i in range(5)], \n",
    "             stagbar_counts[stagbar_counts['type']=='prior']['mean']['count'].values, \n",
    "             yerr=stagbar_counts[stagbar_counts['type']=='prior']['std']['count'].values, \n",
    "             ls='none', color='black', capsize=5, zorder=1000)\n",
    "\n",
    "ax.bar([i+0.1 for i in range(5)], stagbar_counts[stagbar_counts['type']=='post']['mean']['count'].values,\n",
    "        width=0.2, color='tab:blue', align='center', zorder=100, label='post')\n",
    "plt.errorbar([i+0.1 for i in range(5)], \n",
    "             stagbar_counts[stagbar_counts['type']=='post']['mean']['count'].values, \n",
    "             yerr=stagbar_counts[stagbar_counts['type']=='post']['std']['count'].values, \n",
    "             ls='none', color='black', capsize=5, zorder=1000)\n",
    "\n",
    "_ = ax.set_xticklabels([0, 'None', 'Fluxes', 'Enzymes', 'Int. Met.', 'Ex. Met.'])\n",
    "_ = ax.set_yticks(range(0,12,2))\n",
    "ax.legend()\n",
    "plt.savefig(f'../data/results/raw_svg_figures/top{topology}-reg1_rankCounts.svg', format='svg')"
   ]
  },
  {
   "cell_type": "code",
   "execution_count": 16,
   "metadata": {},
   "outputs": [
    {
     "name": "stderr",
     "output_type": "stream",
     "text": [
      "C:\\Users\\user\\AppData\\Local\\Temp\\ipykernel_7944\\807162765.py:1: FutureWarning:\n",
      "\n",
      "pivot_table dropped a column because it failed to aggregate. This behavior is deprecated and will raise in a future version of pandas. Select only the columns that can be aggregated.\n",
      "\n",
      "C:\\Users\\user\\AppData\\Local\\Temp\\ipykernel_7944\\807162765.py:1: FutureWarning:\n",
      "\n",
      "The operation <function std at 0x00000241FF8BB1F0> failed on a column. If any error is raised, this will raise an exception in a future version of pandas. Drop these columns to avoid this warning.\n",
      "\n",
      "C:\\Users\\user\\AppData\\Local\\Temp\\ipykernel_7944\\807162765.py:22: UserWarning:\n",
      "\n",
      "set_ticklabels() should only be used with a fixed number of ticks, i.e. after set_ticks() or using a FixedLocator.\n",
      "\n"
     ]
    },
    {
     "data": {
      "image/png": "[encoded data removed]",
      "text/plain": [
       "<Figure size 640x480 with 1 Axes>"
      ]
     },
     "metadata": {},
     "output_type": "display_data"
    }
   ],
   "source": [
    "stagbar_counts = rank_counts_df[rank_counts_df['regulation']=='reg2'].pivot_table(index=['omittedData','type'], aggfunc=['mean',np.std])\n",
    "stagbar_counts.reset_index(inplace=True)\n",
    "stagbar_counts = stagbar_counts.reindex([1,0,7,6,3,2,9,8,5,4])\n",
    "\n",
    "ax = plt.subplot(111)\n",
    "ax.grid()\n",
    "\n",
    "ax.bar([i-0.1 for i in range(5)], stagbar_counts[stagbar_counts['type']=='prior']['mean']['count'].values,\n",
    "        width=0.2, color='orange', align='center', zorder=100, label='prior')\n",
    "plt.errorbar([i-0.1 for i in range(5)], \n",
    "             stagbar_counts[stagbar_counts['type']=='prior']['mean']['count'].values, \n",
    "             yerr=stagbar_counts[stagbar_counts['type']=='prior']['std']['count'].values, \n",
    "             ls='none', color='black', capsize=5, zorder=1000)\n",
    "\n",
    "ax.bar([i+0.1 for i in range(5)], stagbar_counts[stagbar_counts['type']=='post']['mean']['count'].values,\n",
    "        width=0.2, color='tab:blue', align='center', zorder=100, label='post')\n",
    "plt.errorbar([i+0.1 for i in range(5)], \n",
    "             stagbar_counts[stagbar_counts['type']=='post']['mean']['count'].values, \n",
    "             yerr=stagbar_counts[stagbar_counts['type']=='post']['std']['count'].values, \n",
    "             ls='none', color='black', capsize=5, zorder=1000)\n",
    "\n",
    "_ = ax.set_xticklabels([0, 'None', 'Fluxes', 'Enzymes', 'Int. Met.', 'Ex. Met.'])\n",
    "_ = ax.set_yticks(range(0,12,2))\n",
    "ax.legend()\n",
    "plt.savefig(f'../data/results/raw_svg_figures/top{topology}-reg2_rankCounts.svg', format='svg')"
   ]
  },
  {
   "cell_type": "markdown",
   "metadata": {},
   "source": [
    "# Old Analyses"
   ]
  },
  {
   "cell_type": "markdown",
   "metadata": {},
   "source": [
    "## Visualizing Spearman data "
   ]
  },
  {
   "cell_type": "markdown",
   "metadata": {},
   "source": [
    "### Condense Spearman data"
   ]
  },
  {
   "cell_type": "code",
   "execution_count": null,
   "metadata": {},
   "outputs": [],
   "source": [
    "os.chdir('../data/results/spearman_coefficients/')"
   ]
  },
  {
   "cell_type": "code",
   "execution_count": null,
   "metadata": {},
   "outputs": [],
   "source": [
    "spr_file_list = [i for i in os.listdir() if \"topologyB\" in i]\n",
    "\n",
    "spr_dfs = []\n",
    "for file in spr_file_list:\n",
    "    a = pd.read_csv(file)\n",
    "\n",
    "    reg = file.split('_')[0].split('-')[1]\n",
    "    omit = file.split('_')[1]\n",
    "\n",
    "    a['reg'] = [reg]*len(a)\n",
    "    a['omit'] = [omit]*len(a)\n",
    "    spr_dfs.append(a)\n",
    "\n",
    "all_spr_df_B = pd.concat(spr_dfs)\n",
    "all_spr_df_B"
   ]
  },
  {
   "cell_type": "code",
   "execution_count": null,
   "metadata": {},
   "outputs": [],
   "source": [
    "os.chdir('../../../notebooks/')"
   ]
  },
  {
   "cell_type": "code",
   "execution_count": null,
   "metadata": {},
   "outputs": [],
   "source": [
    "all_spr_df_B.rename(columns={'Unnamed: 0':'perturbation'}, inplace=True)\n",
    "all_spr_df_B['perturbation'] = [float(i.split('x')[0]) for i in all_spr_df_B['perturbation']]"
   ]
  },
  {
   "cell_type": "code",
   "execution_count": null,
   "metadata": {},
   "outputs": [],
   "source": [
    "all_spr_df_B = all_spr_df_B[all_spr_df_B['perturbation'] != 1.01]"
   ]
  },
  {
   "cell_type": "code",
   "execution_count": null,
   "metadata": {},
   "outputs": [],
   "source": [
    "b = all_spr_df_B.pivot(index=['omit', 'reg'], columns='perturbation', values='r')\n",
    "b"
   ]
  },
  {
   "cell_type": "code",
   "execution_count": null,
   "metadata": {},
   "outputs": [],
   "source": [
    "fluxes_comp = all_spr_df_B.loc[(all_spr_df_B['reg'] =='reg2') & (all_spr_df_B['omit'].isin(['none', 'omitFluxes']))]\n",
    "enzymes_comp = all_spr_df_B.loc[(all_spr_df_B['reg'] =='reg2') & (all_spr_df_B['omit'].isin(['none', 'omitEnzymes']))]\n",
    "intMet_comp = all_spr_df_B.loc[(all_spr_df_B['reg'] =='reg2') & (all_spr_df_B['omit'].isin(['none', 'omitIntMet']))]\n",
    "exMet_comp = all_spr_df_B.loc[(all_spr_df_B['reg'] =='reg2') & (all_spr_df_B['omit'].isin(['none', 'omitExMet']))]"
   ]
  },
  {
   "cell_type": "markdown",
   "metadata": {},
   "source": [
    "### All-in-one scatter plots"
   ]
  },
  {
   "cell_type": "code",
   "execution_count": null,
   "metadata": {},
   "outputs": [],
   "source": [
    "util.plt_spr_scatter(all_spr_df_B.loc[(all_spr_df_B['reg'] =='noReg')], 'Spearman rank coefficients, noReg')"
   ]
  },
  {
   "cell_type": "code",
   "execution_count": null,
   "metadata": {},
   "outputs": [],
   "source": [
    "util.plt_spr_scatter(all_spr_df_B.loc[(all_spr_df_B['reg'] =='reg1')], 'Spearman rank coefficients, reg1')"
   ]
  },
  {
   "cell_type": "code",
   "execution_count": null,
   "metadata": {},
   "outputs": [],
   "source": [
    "util.plt_spr_scatter(all_spr_df_B.loc[(all_spr_df_B['reg'] =='reg2')], 'Spearman rank coefficients, reg2')"
   ]
  },
  {
   "cell_type": "markdown",
   "metadata": {},
   "source": [
    "## Visualizing MAE across the different types of data"
   ]
  },
  {
   "cell_type": "code",
   "execution_count": null,
   "metadata": {},
   "outputs": [],
   "source": [
    "os.chdir('../data/results/MAE/')\n",
    "MAE_file_list = [i for i in os.listdir() if \"topologyB\" in i]\n",
    "\n",
    "MAE_dfs = []\n",
    "for file in MAE_file_list:\n",
    "    b = pd.read_csv(file)\n",
    "\n",
    "    reg = file.split('_')[0].split('-')[1]\n",
    "    omit = file.split('_')[1]\n",
    "\n",
    "    b['reg'] = [reg]*len(b)\n",
    "    b['omit'] = [omit]*len(b)\n",
    "    MAE_dfs.append(b)\n",
    "\n",
    "all_MAE_df_B = pd.concat(MAE_dfs)\n",
    "all_MAE_df_B\n",
    "\n",
    "os.chdir('../../../notebooks/')\n"
   ]
  },
  {
   "cell_type": "code",
   "execution_count": null,
   "metadata": {},
   "outputs": [],
   "source": [
    "all_MAE_df_B.columns = ['perturbation', 'values', 'reg', 'omit']\n",
    "all_MAE_df_B['values'] = all_MAE_df_B['values']/247\n",
    "all_MAE_df_B"
   ]
  },
  {
   "cell_type": "code",
   "execution_count": null,
   "metadata": {},
   "outputs": [],
   "source": [
    "# a = all_MAE_df_B.pivot(index=['omit', 'reg'], columns='perturbation', values='values')\n",
    "\n",
    "all_MAE_df_B = all_MAE_df_B[all_MAE_df_B['perturbation'] != 1.01]\n",
    "all_MAE_df_B = all_MAE_df_B[all_MAE_df_B['perturbation'] != 'knockout']\n"
   ]
  },
  {
   "cell_type": "code",
   "execution_count": null,
   "metadata": {},
   "outputs": [],
   "source": [
    "noReg_df = all_MAE_df_B[all_MAE_df_B['reg'] == 'noReg']\n",
    "noReg_df['r'] = noReg_df['values'].round(3)\n",
    "noReg_df.head()\n",
    "\n",
    "species = list(all_MAE_df_B['perturbation'].unique()[0:5])[::-1]\n",
    "MAE_means = {\n",
    "    'allData': tuple((noReg_df[noReg_df['omit'] == 'allData']['values']).values[1:6])[::-1],\n",
    "    'omitFluxes': tuple((noReg_df[noReg_df['omit'] == 'omitFluxes']['values']).values[1:6])[::-1],\n",
    "    'omitEnzymes': tuple((noReg_df[noReg_df['omit'] == 'omitEnzymes']['values']).values[1:6])[::-1],\n",
    "    'omitIntMet': tuple((noReg_df[noReg_df['omit'] == 'omitIntMet']['values']).values[1:6])[::-1],\n",
    "    'omitExMet': tuple((noReg_df[noReg_df['omit'] == 'omitExMet']['values']).values[1:6])[::-1]\n",
    "}\n",
    "\n",
    "x = np.arange(len(species))  # the label locations\n",
    "width = 0.15  # the width of the bars\n",
    "multiplier = 0\n",
    "\n",
    "fig, ax = plt.subplots(figsize=(12,4), layout='constrained', )\n",
    "\n",
    "for attribute, measurement in MAE_means.items():\n",
    "    offset = width * multiplier\n",
    "    rects = ax.bar(x + offset, measurement, width, label=attribute, zorder=100)\n",
    "    multiplier += 1\n",
    "\n",
    "plt.legend(bbox_to_anchor=(1.02, 1), loc=\"upper left\")\n",
    "plt.grid(True, which='both', axis='both', zorder=0)\n",
    "plt.axhline(y=0, color='k', linewidth=3, zorder=500)\n",
    "\n",
    "ax.set_xticks(x + width, ['50','60','70','80','90'])\n",
    "\n",
    "\n",
    "# add a big axis, hide frame\n",
    "fig.add_subplot(111, frameon=False)\n",
    "# hide tick and tick label of the big axis\n",
    "plt.tick_params(labelcolor='none', which='both', top=False, bottom=False, left=False, right=False)\n",
    "plt.xlabel(\"% repression in enzyme concentration\", size=14)\n",
    "plt.ylabel(\"MAE\\n\", size=14)\n",
    "\n",
    "fig.suptitle(\"MAE for predicted elasticities at different perturbation strengths, B-noReg\", size=20)\n"
   ]
  },
  {
   "cell_type": "code",
   "execution_count": null,
   "metadata": {},
   "outputs": [],
   "source": [
    "reg1_df = all_MAE_df_B[all_MAE_df_B['reg'] == 'reg1']\n",
    "reg1_df['r'] = reg1_df['values'].round(3)\n",
    "reg1_df.head()\n",
    "\n",
    "species = list(all_MAE_df_B['perturbation'].unique()[0:5])[::-1]\n",
    "MAE_means = {\n",
    "    'allData': tuple((reg1_df[reg1_df['omit'] == 'allData']['values']).values[1:6])[::-1],\n",
    "    'omitFluxes': tuple((reg1_df[reg1_df['omit'] == 'omitFluxes']['values']).values[1:6])[::-1],\n",
    "    'omitEnzymes': tuple((reg1_df[reg1_df['omit'] == 'omitEnzymes']['values']).values[1:6])[::-1],\n",
    "    'omitIntMet': tuple((reg1_df[reg1_df['omit'] == 'omitIntMet']['values']).values[1:6])[::-1],\n",
    "    'omitExMet': tuple((reg1_df[reg1_df['omit'] == 'omitExMet']['values']).values[1:6])[::-1]\n",
    "}\n",
    "\n",
    "x = np.arange(len(species))  # the label locations\n",
    "width = 0.15  # the width of the bars\n",
    "multiplier = 0\n",
    "\n",
    "fig, ax = plt.subplots(figsize=(12,4), layout='constrained', )\n",
    "\n",
    "for attribute, measurement in MAE_means.items():\n",
    "    offset = width * multiplier\n",
    "    rects = ax.bar(x + offset, measurement, width, label=attribute, zorder=100)\n",
    "    multiplier += 1\n",
    "\n",
    "plt.legend(bbox_to_anchor=(1.02, 1), loc=\"upper left\")\n",
    "plt.grid(True, which='both', axis='both', zorder=0)\n",
    "plt.axhline(y=0, color='k', linewidth=3, zorder=500)\n",
    "\n",
    "ax.set_xticks(x + width, ['50','60','70','80','90'])\n",
    "\n",
    "# add a big axis, hide frame\n",
    "fig.add_subplot(111, frameon=False)\n",
    "# hide tick and tick label of the big axis\n",
    "plt.tick_params(labelcolor='none', which='both', top=False, bottom=False, left=False, right=False)\n",
    "plt.xlabel(\"% repression in enzyme concentration\", size=14)\n",
    "plt.ylabel(\"MAE\\n\", size=14)\n",
    "\n",
    "fig.suptitle(\"MAE for predicted elasticities at different perturbation strengths, B-reg1\", size=20)\n"
   ]
  },
  {
   "cell_type": "code",
   "execution_count": null,
   "metadata": {},
   "outputs": [],
   "source": [
    "reg2_df = all_MAE_df_B[all_MAE_df_B['reg'] == 'reg2']\n",
    "reg2_df['r'] = reg2_df['values'].round(3)\n",
    "reg2_df.head()\n",
    "\n",
    "species = list(all_MAE_df_B['perturbation'].unique()[0:5])[::-1]\n",
    "MAE_means = {\n",
    "    'allData': tuple((reg2_df[reg2_df['omit'] == 'allData']['values']).values[1:6])[::-1],\n",
    "    'omitFluxes': tuple((reg2_df[reg2_df['omit'] == 'omitFluxes']['values']).values[1:6])[::-1],\n",
    "    'omitEnzymes': tuple((reg2_df[reg2_df['omit'] == 'omitEnzymes']['values']).values[1:6])[::-1],\n",
    "    'omitIntMet': tuple((reg2_df[reg2_df['omit'] == 'omitIntMet']['values']).values[1:6])[::-1],\n",
    "    'omitExMet': tuple((reg2_df[reg2_df['omit'] == 'omitExMet']['values']).values[1:6])[::-1]\n",
    "}\n",
    "\n",
    "x = np.arange(len(species))  # the label locations\n",
    "width = 0.15  # the width of the bars\n",
    "multiplier = 0\n",
    "\n",
    "fig, ax = plt.subplots(figsize=(12,4), layout='constrained', )\n",
    "\n",
    "for attribute, measurement in MAE_means.items():\n",
    "    offset = width * multiplier\n",
    "    rects = ax.bar(x + offset, measurement, width, label=attribute, zorder=100)\n",
    "    multiplier += 1\n",
    "\n",
    "plt.legend(bbox_to_anchor=(1.02, 1), loc=\"upper left\")\n",
    "plt.grid(True, which='both', axis='both', zorder=0)\n",
    "plt.axhline(y=0, color='k', linewidth=3, zorder=500)\n",
    "ax.set_xticks(x + width, ['50','60','70','80','90'])\n",
    "\n",
    "# add a big axis, hide frame\n",
    "fig.add_subplot(111, frameon=False)\n",
    "# hide tick and tick label of the big axis\n",
    "plt.tick_params(labelcolor='none', which='both', top=False, bottom=False, left=False, right=False)\n",
    "plt.xlabel(\"% repression in enzyme concentration\", size=14)\n",
    "plt.ylabel(\"MAE\\n\", size=14)\n",
    "\n",
    "fig.suptitle(\"MAE for predicted elasticities at different perturbation strengths, B-reg2\", size=20)\n"
   ]
  },
  {
   "cell_type": "code",
   "execution_count": null,
   "metadata": {},
   "outputs": [],
   "source": [
    "species = list(all_MAE_df_B['perturbation'].unique()[6:])\n",
    "MAE_means = {\n",
    "    'allData': tuple((noReg_df[noReg_df['omit'] == 'allData']['values']).values[6:]),\n",
    "    'omitFluxes': tuple((noReg_df[noReg_df['omit'] == 'omitFluxes']['values']).values[6:]),\n",
    "    'omitEnzymes': tuple((noReg_df[noReg_df['omit'] == 'omitEnzymes']['values']).values[6:]),\n",
    "    'omitIntMet': tuple((noReg_df[noReg_df['omit'] == 'omitIntMet']['values']).values[6:]),\n",
    "    'omitExMet': tuple((noReg_df[noReg_df['omit'] == 'omitExMet']['values']).values[6:])\n",
    "}\n",
    "\n",
    "x = np.arange(len(species))  # the label locations\n",
    "width = 0.15  # the width of the bars\n",
    "multiplier = 0\n",
    "\n",
    "fig, ax = plt.subplots(figsize=(12,4), layout='constrained', )\n",
    "\n",
    "for attribute, measurement in MAE_means.items():\n",
    "    offset = width * multiplier\n",
    "    rects = ax.bar(x + offset, measurement, width, label=attribute, zorder=100)\n",
    "    multiplier += 1\n",
    "\n",
    "plt.legend(bbox_to_anchor=(1.02, 1), loc=\"upper left\")\n",
    "plt.grid(True, which='both', axis='both', zorder=0)\n",
    "plt.axhline(y=0, color='k', linewidth=3, zorder=500)\n",
    "ax.set_xticks(x + width, ['1.5','3','5','7','10'])\n",
    "\n",
    "# add a big axis, hide frame\n",
    "fig.add_subplot(111, frameon=False)\n",
    "# hide tick and tick label of the big axis\n",
    "plt.tick_params(labelcolor='none', which='both', top=False, bottom=False, left=False, right=False)\n",
    "plt.xlabel(\"fold change perturbations in enzyme concentration\", size=14)\n",
    "plt.ylabel(\"MAE\\n\", size=14)\n",
    "\n",
    "fig.suptitle(\"CRISPRa MAE for predicted elasticities at different perturbation strengths, B-noReg\", size=20)\n"
   ]
  },
  {
   "cell_type": "code",
   "execution_count": null,
   "metadata": {},
   "outputs": [],
   "source": [
    "species = list(all_MAE_df_B['perturbation'].unique()[6:])\n",
    "MAE_means = {\n",
    "    'allData': tuple((reg1_df[reg1_df['omit'] == 'allData']['values']).values[6:]),\n",
    "    'omitFluxes': tuple((reg1_df[reg1_df['omit'] == 'omitFluxes']['values']).values[6:]),\n",
    "    'omitEnzymes': tuple((reg1_df[reg1_df['omit'] == 'omitEnzymes']['values']).values[6:]),\n",
    "    'omitIntMet': tuple((reg1_df[reg1_df['omit'] == 'omitIntMet']['values']).values[6:]),\n",
    "    'omitExMet': tuple((reg1_df[reg1_df['omit'] == 'omitExMet']['values']).values[6:])\n",
    "}\n",
    "\n",
    "x = np.arange(len(species))  # the label locations\n",
    "width = 0.15  # the width of the bars\n",
    "multiplier = 0\n",
    "\n",
    "fig, ax = plt.subplots(figsize=(12,4), layout='constrained', )\n",
    "\n",
    "for attribute, measurement in MAE_means.items():\n",
    "    offset = width * multiplier\n",
    "    rects = ax.bar(x + offset, measurement, width, label=attribute, zorder=100)\n",
    "    multiplier += 1\n",
    "\n",
    "plt.legend(bbox_to_anchor=(1.02, 1), loc=\"upper left\")\n",
    "plt.grid(True, which='both', axis='both', zorder=0)\n",
    "plt.axhline(y=0, color='k', linewidth=3, zorder=500)\n",
    "ax.set_xticks(x + width, ['1.5','3','5','7','10'])\n",
    "\n",
    "# add a big axis, hide frame\n",
    "fig.add_subplot(111, frameon=False)\n",
    "# hide tick and tick label of the big axis\n",
    "plt.tick_params(labelcolor='none', which='both', top=False, bottom=False, left=False, right=False)\n",
    "plt.xlabel(\"fold change perturbations in enzyme concentration\", size=14)\n",
    "plt.ylabel(\"MAE\\n\", size=14)\n",
    "\n",
    "fig.suptitle(\"CRISPRa MAE for predicted elasticities at different perturbation strengths, B-reg1\", size=20)\n"
   ]
  },
  {
   "cell_type": "code",
   "execution_count": null,
   "metadata": {},
   "outputs": [],
   "source": [
    "species = list(all_MAE_df_B['perturbation'].unique()[6:])\n",
    "MAE_means = {\n",
    "    'allData': tuple((reg2_df[reg2_df['omit'] == 'allData']['values']).values[6:]),\n",
    "    'omitFluxes': tuple((reg2_df[reg2_df['omit'] == 'omitFluxes']['values']).values[6:]),\n",
    "    'omitEnzymes': tuple((reg2_df[reg2_df['omit'] == 'omitEnzymes']['values']).values[6:]),\n",
    "    'omitIntMet': tuple((reg2_df[reg2_df['omit'] == 'omitIntMet']['values']).values[6:]),\n",
    "    'omitExMet': tuple((reg2_df[reg2_df['omit'] == 'omitExMet']['values']).values[6:])\n",
    "}\n",
    "\n",
    "x = np.arange(len(species))  # the label locations\n",
    "width = 0.15  # the width of the bars\n",
    "multiplier = 0\n",
    "\n",
    "fig, ax = plt.subplots(figsize=(12,4), layout='constrained', )\n",
    "\n",
    "for attribute, measurement in MAE_means.items():\n",
    "    offset = width * multiplier\n",
    "    rects = ax.bar(x + offset, measurement, width, label=attribute, zorder=100)\n",
    "    multiplier += 1\n",
    "\n",
    "plt.legend(bbox_to_anchor=(1.02, 1), loc=\"upper left\")\n",
    "plt.grid(True, which='both', axis='both', zorder=0)\n",
    "plt.axhline(y=0, color='k', linewidth=3, zorder=500)\n",
    "ax.set_xticks(x + width, ['1.5','3','5','7','10'])\n",
    "\n",
    "# add a big axis, hide frame\n",
    "fig.add_subplot(111, frameon=False)\n",
    "# hide tick and tick label of the big axis\n",
    "plt.tick_params(labelcolor='none', which='both', top=False, bottom=False, left=False, right=False)\n",
    "plt.xlabel(\"fold change perturbations in enzyme concentration\", size=14)\n",
    "plt.ylabel(\"MAE\\n\", size=14)\n",
    "\n",
    "fig.suptitle(\"CRISPRa MAE for predicted elasticities at different perturbation strengths, B-reg2\", size=20)\n"
   ]
  },
  {
   "cell_type": "markdown",
   "metadata": {},
   "source": [
    "## Comparing Spearman r coefficients pairwise to find significant differences"
   ]
  },
  {
   "cell_type": "code",
   "execution_count": null,
   "metadata": {},
   "outputs": [],
   "source": [
    "def plot_CI_comparisons(subplot, omitted_type, reg_level, CRISPRi=True, color='orange'):\n",
    "\n",
    "    if CRISPRi: \n",
    "        df1 = all_spr_df_B[(all_spr_df_B['reg']==reg_level) & (all_spr_df_B['omit']=='allData')][0:5]\n",
    "        df2 = all_spr_df_B[(all_spr_df_B['reg']==reg_level) & (all_spr_df_B['omit']==f'omit{omitted_type}')][0:5]\n",
    "\n",
    "        x1 = np.linspace(90,50,5)\n",
    "        x2 = np.linspace(90,50,5)\n",
    "\n",
    "    else:\n",
    "        df1 = all_spr_df_B[(all_spr_df_B['reg']==reg_level) & (all_spr_df_B['omit']=='allData')][5:10]\n",
    "        df2 = all_spr_df_B[(all_spr_df_B['reg']==reg_level) & (all_spr_df_B['omit']==f'omit{omitted_type}')][5:10]\n",
    "\n",
    "        x1 = df1['perturbation']\n",
    "        x2 = df2['perturbation']\n",
    "\n",
    "    ymin1 = (df1['r'] - df1['lower']).values\n",
    "    ymax1 = (df1['upper'] - df1['r']).values\n",
    "\n",
    "    ymin2 = (df2['r'] - df2['lower']).values\n",
    "    ymax2 = (df2['upper'] - df2['r']).values\n",
    "\n",
    "    subplot.scatter(x1, \n",
    "                abs(df1['r']), alpha=0.8, s=40, zorder=1000, label='all data', \n",
    "                color='red')\n",
    "    subplot.errorbar(x1, df1['r'], yerr=np.stack((ymin1, ymax1)), \n",
    "                 linestyle='None', color='red', zorder=100)\n",
    "\n",
    "    subplot.scatter(x2, \n",
    "                abs(df2['r']), alpha=0.8, s=100, zorder=50, \n",
    "                label=f'omit {omitted_type}', c=color)\n",
    "    subplot.errorbar(x2, df2['r'], yerr=np.stack((ymin2, ymax2)), \n",
    "                 elinewidth=6, linestyle='None', c=color, zorder=10,\n",
    "                 alpha=0.8)\n",
    "\n",
    "    subplot.grid(True, which='both', axis='both', zorder=0)\n",
    "    subplot.set_ylim([0,1])\n",
    "        "
   ]
  },
  {
   "cell_type": "code",
   "execution_count": null,
   "metadata": {},
   "outputs": [],
   "source": [
    "fig, ax = plt.subplots(4, 3, figsize=(12,8), sharex=True)\n",
    "plot_CI_comparisons(ax[0,0], \"Fluxes\", \"noReg\")\n",
    "plot_CI_comparisons(ax[0,1], \"Fluxes\", \"reg1\", color='green')\n",
    "plot_CI_comparisons(ax[0,2], \"Fluxes\", \"reg2\", color='blue')\n",
    "\n",
    "plot_CI_comparisons(ax[1,0], \"Enzymes\", \"noReg\")\n",
    "plot_CI_comparisons(ax[1,1], \"Enzymes\", \"reg1\", color='green')\n",
    "plot_CI_comparisons(ax[1,2], \"Enzymes\", \"reg2\", color='blue')\n",
    "\n",
    "plot_CI_comparisons(ax[2,0], \"IntMet\", \"noReg\")\n",
    "plot_CI_comparisons(ax[2,1], \"IntMet\", \"reg1\", color='green')\n",
    "plot_CI_comparisons(ax[2,2], \"IntMet\", \"reg2\", color='blue')\n",
    "\n",
    "plot_CI_comparisons(ax[3,0], \"ExMet\", \"noReg\")\n",
    "plot_CI_comparisons(ax[3,1], \"ExMet\", \"reg1\", color='green')\n",
    "plot_CI_comparisons(ax[3,2], \"ExMet\", \"reg2\", color='blue')\n",
    "\n",
    "fig.text(0.05, 0.9, 'omitted\\ndata')\n",
    "fig.text(0.22, 0.9, 'noReg')\n",
    "fig.text(0.5, 0.9, 'reg1')\n",
    "fig.text(0.77, 0.9, 'reg2')\n",
    "\n",
    "fig.text(0.07, 0.77, 'fluxes', rotation=90, rotation_mode='anchor')\n",
    "fig.text(0.07, 0.55, 'enzymes', rotation=90, rotation_mode='anchor')\n",
    "fig.text(0.07, 0.35, 'internal mets', rotation=90, rotation_mode='anchor')\n",
    "fig.text(0.07, 0.13, 'external mets', rotation=90, rotation_mode='anchor')\n",
    "\n",
    "# add a big axis, hide frame\n",
    "fig.add_subplot(111, frameon=False)\n",
    "# hide tick and tick label of the big axis\n",
    "plt.tick_params(labelcolor='none', which='both', top=False, bottom=False, left=False, right=False)\n",
    "plt.xlabel(\"% repression in enzyme concentration\")\n",
    "plt.ylabel(r\"spearman coefficient, $\\rho$\")\n",
    "\n",
    "fig.suptitle(\"TopologyB--Comparing CRISPRi datasets with omitted data at different regulation levels\", size=20)\n"
   ]
  },
  {
   "cell_type": "code",
   "execution_count": null,
   "metadata": {},
   "outputs": [],
   "source": [
    "fig, ax = plt.subplots(4, 3, figsize=(12,8), sharex=True)\n",
    "plot_CI_comparisons(ax[0,0], \"Fluxes\", \"noReg\", CRISPRi=False)\n",
    "plot_CI_comparisons(ax[0,1], \"Fluxes\", \"reg1\", CRISPRi=False, color='green')\n",
    "plot_CI_comparisons(ax[0,2], \"Fluxes\", \"reg2\", CRISPRi=False, color='blue')\n",
    "\n",
    "plot_CI_comparisons(ax[1,0], \"Enzymes\", \"noReg\", CRISPRi=False)\n",
    "plot_CI_comparisons(ax[1,1], \"Enzymes\", \"reg1\", CRISPRi=False, color='green')\n",
    "plot_CI_comparisons(ax[1,2], \"Enzymes\", \"reg2\", CRISPRi=False, color='blue')\n",
    "\n",
    "plot_CI_comparisons(ax[2,0], \"IntMet\", \"noReg\", CRISPRi=False)\n",
    "plot_CI_comparisons(ax[2,1], \"IntMet\", \"reg1\", CRISPRi=False, color='green')\n",
    "plot_CI_comparisons(ax[2,2], \"IntMet\", \"reg2\", CRISPRi=False, color='blue')\n",
    "\n",
    "plot_CI_comparisons(ax[3,0], \"ExMet\", \"noReg\", CRISPRi=False)\n",
    "plot_CI_comparisons(ax[3,1], \"ExMet\", \"reg1\", CRISPRi=False, color='green')\n",
    "plot_CI_comparisons(ax[3,2], \"ExMet\", \"reg2\", CRISPRi=False, color='blue')\n",
    "\n",
    "\n",
    "fig.text(0.05, 0.9, 'omitted\\ndata')\n",
    "fig.text(0.22, 0.9, 'noReg')\n",
    "fig.text(0.5, 0.9, 'reg1')\n",
    "fig.text(0.77, 0.9, 'reg2')\n",
    "\n",
    "fig.text(0.07, 0.77, 'fluxes', rotation=90, rotation_mode='anchor')\n",
    "fig.text(0.07, 0.55, 'enzymes', rotation=90, rotation_mode='anchor')\n",
    "fig.text(0.07, 0.35, 'internal mets', rotation=90, rotation_mode='anchor')\n",
    "fig.text(0.07, 0.13, 'external mets', rotation=90, rotation_mode='anchor')\n",
    "\n",
    "# add a big axis, hide frame\n",
    "fig.add_subplot(111, frameon=False)\n",
    "# hide tick and tick label of the big axis\n",
    "plt.tick_params(labelcolor='none', which='both', top=False, bottom=False, left=False, right=False)\n",
    "plt.xlabel(\"fold change in enzyme concentration\")\n",
    "plt.ylabel(r\"spearman coefficient, $\\rho$\")\n",
    "\n",
    "fig.suptitle(\"TopologyB--Comparing CRISPRa datasets with omitted data at different regulations levels\", size=20)\n"
   ]
  },
  {
   "cell_type": "markdown",
   "metadata": {},
   "source": [
    "## Comprehensive bar plots"
   ]
  },
  {
   "cell_type": "code",
   "execution_count": null,
   "metadata": {},
   "outputs": [],
   "source": [
    "B_noReg_df = all_spr_df_B[all_spr_df_B['reg'] == 'noReg']\n",
    "B_noReg_df['r'] = B_noReg_df['r'].round(3)\n",
    "B_noReg_df['ymin'] = B_noReg_df['r'] - B_noReg_df['lower']\n",
    "B_noReg_df['ymax'] = B_noReg_df['upper'] - B_noReg_df['r']\n",
    "\n",
    "B_reg1_df = all_spr_df_B[all_spr_df_B['reg'] == 'reg1']\n",
    "B_reg1_df['r'] = B_reg1_df['r'].round(3)\n",
    "B_reg1_df['ymin'] = B_reg1_df['r'] - B_reg1_df['lower']\n",
    "B_reg1_df['ymax'] = B_reg1_df['upper'] - B_reg1_df['r']\n",
    "\n",
    "B_reg2_df = all_spr_df_B[all_spr_df_B['reg'] == 'reg2']\n",
    "B_reg2_df['r'] = B_reg2_df['r'].round(3)\n",
    "B_reg2_df['ymin'] = B_reg2_df['r'] - B_reg2_df['lower']\n",
    "B_reg2_df['ymax'] = B_reg2_df['upper'] - B_reg2_df['r']"
   ]
  },
  {
   "cell_type": "code",
   "execution_count": null,
   "metadata": {},
   "outputs": [],
   "source": [
    "species = list(B_noReg_df['perturbation'].unique()[0:5])[::-1]\n",
    "\n",
    "# these are the r values for CRISPRi, but in reverse order\n",
    "penguin_means = {\n",
    "    'allData': tuple((B_noReg_df[B_noReg_df['omit'] == 'allData']['r']).values[0:5])[::-1],\n",
    "    'omitFluxes': tuple((B_noReg_df[B_noReg_df['omit'] == 'omitFluxes']['r']).values[0:5])[::-1],\n",
    "    'omitEnzymes': tuple((B_noReg_df[B_noReg_df['omit'] == 'omitEnzymes']['r']).values[0:5])[::-1],\n",
    "    'omitIntMet': tuple((B_noReg_df[B_noReg_df['omit'] == 'omitIntMet']['r']).values[0:5])[::-1],\n",
    "    'omitExMet': tuple((B_noReg_df[B_noReg_df['omit'] == 'omitExMet']['r']).values[0:5])[::-1]\n",
    "}\n",
    "\n",
    "x = np.arange(len(species))  # the label locations\n",
    "width = 0.15  # the width of the bars\n",
    "multiplier = 0\n",
    "\n",
    "fig, ax = plt.subplots(figsize=(12,4), layout='constrained', )\n",
    "\n",
    "for attribute, measurement in penguin_means.items():\n",
    "    offset = width * multiplier\n",
    "    ymin = ((B_noReg_df[B_noReg_df['omit'] == attribute]['ymin']).values[0:5])[::-1]\n",
    "    ymax = ((B_noReg_df[B_noReg_df['omit'] == attribute]['ymax']).values[0:5])[::-1]\n",
    "    rects = ax.bar(x + offset, measurement, width, label=attribute, zorder=100)\n",
    "    ax.errorbar(x + offset, measurement, yerr=np.stack((ymin, ymax)), \n",
    "                 linestyle='None', color='k', linewidth=1.4, zorder=100)\n",
    "    \n",
    "    multiplier += 1\n",
    "\n",
    "plt.legend(bbox_to_anchor=(1.02, 1), loc=\"upper left\")\n",
    "plt.grid(True, which='both', axis='both', zorder=0)\n",
    "plt.axhline(y=0, color='k', linewidth=3, zorder=500)\n",
    "# plt.ylim((0,1))\n",
    "plt.ylim((-0.7,1))\n",
    "ax.set_xticks(x + width, ['50','60','70','80','90'])\n",
    "\n",
    "\n",
    "# add a big axis, hide frame\n",
    "fig.add_subplot(111, frameon=False)\n",
    "# hide tick and tick label of the big axis\n",
    "plt.tick_params(labelcolor='none', which='both', top=False, bottom=False, left=False, right=False)\n",
    "plt.xlabel(\"% repression in enzyme concentration\", size=14)\n",
    "plt.ylabel(r\"spearman coefficient, $\\rho$\", size=14)\n",
    "\n",
    "fig.suptitle(\"Comparing CRISPRi datasets with omitted data at different regulations levels, B-noReg\", size=20)\n"
   ]
  },
  {
   "cell_type": "code",
   "execution_count": null,
   "metadata": {},
   "outputs": [],
   "source": [
    "species = B_noReg_df['perturbation'].unique()[5:10]\n",
    "penguin_means = {\n",
    "    'allData': tuple((B_noReg_df[B_noReg_df['omit'] == 'allData']['r']).values[5:10]),\n",
    "    'omitFluxes': tuple((B_noReg_df[B_noReg_df['omit'] == 'omitFluxes']['r']).values[5:10]),\n",
    "    'omitEnzymes': tuple((B_noReg_df[B_noReg_df['omit'] == 'omitEnzymes']['r']).values[5:10]),\n",
    "    'omitIntMet': tuple((B_noReg_df[B_noReg_df['omit'] == 'omitIntMet']['r']).values[5:10]),\n",
    "    'omitExMet': tuple((B_noReg_df[B_noReg_df['omit'] == 'omitExMet']['r']).values[5:10])\n",
    "}\n",
    "\n",
    "x = np.arange(len(species))  # the label locations\n",
    "width = 0.15  # the width of the bars\n",
    "multiplier = 0\n",
    "\n",
    "fig, ax = plt.subplots(figsize=(12,4), layout='constrained', )\n",
    "\n",
    "for attribute, measurement in penguin_means.items():\n",
    "    offset = width * multiplier\n",
    "    \n",
    "    ymin = ((B_noReg_df[B_noReg_df['omit'] == attribute]['ymin']).values[5:10])[::-1]\n",
    "    ymax = ((B_noReg_df[B_noReg_df['omit'] == attribute]['ymax']).values[5:10])[::-1]\n",
    "    \n",
    "    rects = ax.bar(x + offset, measurement, width, label=attribute, zorder=100)\n",
    "    ax.errorbar(x + offset, measurement, yerr=np.stack((ymin, ymax)), \n",
    "                 linestyle='None', color='k', zorder=100)\n",
    "    multiplier += 1\n",
    "\n",
    "# Add some text for labels, title and custom x-axis tick labels, etc.\n",
    "ax.set_xticks(x + width, species)\n",
    "plt.legend(bbox_to_anchor=(1.02, 1), loc=\"upper left\")\n",
    "plt.grid(True, which='both', axis='both', zorder=0)\n",
    "plt.axhline(y=0, color='k', linewidth=3, zorder=500)\n",
    "plt.ylim((0,1))\n",
    "\n",
    "# add a big axis, hide frame\n",
    "fig.add_subplot(111, frameon=False)\n",
    "# hide tick and tick label of the big axis\n",
    "plt.tick_params(labelcolor='none', which='both', top=False, bottom=False, left=False, right=False)\n",
    "plt.xlabel(\"fold change in enzyme concentration\", size=14)\n",
    "plt.ylabel(r\"spearman coefficient, $\\rho$\", size=14)\n",
    "fig.suptitle(\"Comparing CRISPRa datasets with omitted data at different regulations levels, B-noReg\", size=20)\n"
   ]
  },
  {
   "cell_type": "code",
   "execution_count": null,
   "metadata": {},
   "outputs": [],
   "source": [
    "species = list(B_reg1_df['perturbation'].unique()[0:5])[::-1]\n",
    "penguin_means = {\n",
    "    'allData': tuple((B_reg1_df[B_reg1_df['omit'] == 'allData']['r']).values[0:5])[::-1],\n",
    "    'omitFluxes': tuple((B_reg1_df[B_reg1_df['omit'] == 'omitFluxes']['r']).values[0:5])[::-1],\n",
    "    'omitEnzymes': tuple((B_reg1_df[B_reg1_df['omit'] == 'omitEnzymes']['r']).values[0:5])[::-1],\n",
    "    'omitIntMet': tuple((B_reg1_df[B_reg1_df['omit'] == 'omitIntMet']['r']).values[0:5])[::-1],\n",
    "    'omitExMet': tuple((B_reg1_df[B_reg1_df['omit'] == 'omitExMet']['r']).values[0:5])[::-1]\n",
    "}\n",
    "\n",
    "x = np.arange(len(species))  # the label locations\n",
    "width = 0.15  # the width of the bars\n",
    "multiplier = 0\n",
    "\n",
    "fig, ax = plt.subplots(figsize=(12,4), layout='constrained', )\n",
    "\n",
    "for attribute, measurement in penguin_means.items():\n",
    "    offset = width * multiplier\n",
    "\n",
    "    ymin = ((B_reg1_df[B_reg1_df['omit'] == attribute]['ymin']).values[0:5])[::-1]\n",
    "    ymax = ((B_reg1_df[B_reg1_df['omit'] == attribute]['ymax']).values[0:5])[::-1]\n",
    "\n",
    "    rects = ax.bar(x + offset, measurement, width, label=attribute, zorder=100)\n",
    "    ax.errorbar(x + offset, measurement, yerr=np.stack((ymin, ymax)), \n",
    "                 linestyle='None', color='k', linewidth=1.4, zorder=100)\n",
    "    multiplier += 1\n",
    "\n",
    "plt.legend(bbox_to_anchor=(1.02, 1), loc=\"upper left\")\n",
    "plt.grid(True, which='both', axis='both', zorder=0)\n",
    "plt.axhline(y=0, color='k', linewidth=3, zorder=500)\n",
    "plt.ylim((0,1))\n",
    "ax.set_xticks(x + width, ['50','60','70','80','90'])\n",
    "\n",
    "# add a big axis, hide frame\n",
    "fig.add_subplot(111, frameon=False)\n",
    "# hide tick and tick label of the big axis\n",
    "plt.tick_params(labelcolor='none', which='both', top=False, bottom=False, left=False, right=False)\n",
    "plt.xlabel(\"% repression in enzyme concentration\", size=14)\n",
    "plt.ylabel(r\"spearman coefficient, $\\rho$\", size=14)\n",
    "\n",
    "fig.suptitle(\"Comparing CRISPRi datasets with omitted data at different regulations levels, B-reg1\", size=20)\n"
   ]
  },
  {
   "cell_type": "code",
   "execution_count": null,
   "metadata": {},
   "outputs": [],
   "source": [
    "species = B_reg1_df['perturbation'].unique()[5:10]\n",
    "penguin_means = {\n",
    "    'allData': tuple((B_reg1_df[B_reg1_df['omit'] == 'allData']['r']).values[5:10]),\n",
    "    'omitFluxes': tuple((B_reg1_df[B_reg1_df['omit'] == 'omitFluxes']['r']).values[5:10]),\n",
    "    'omitEnzymes': tuple((B_reg1_df[B_reg1_df['omit'] == 'omitEnzymes']['r']).values[5:10]),\n",
    "    'omitIntMet': tuple((B_reg1_df[B_reg1_df['omit'] == 'omitIntMet']['r']).values[5:10]),\n",
    "    'omitExMet': tuple((B_reg1_df[B_reg1_df['omit'] == 'omitExMet']['r']).values[5:10])\n",
    "}\n",
    "\n",
    "\n",
    "x = np.arange(len(species))  # the label locations\n",
    "width = 0.15  # the width of the bars\n",
    "multiplier = 0\n",
    "\n",
    "fig, ax = plt.subplots(figsize=(12,4), layout='constrained', )\n",
    "\n",
    "for attribute, measurement in penguin_means.items():\n",
    "    offset = width * multiplier\n",
    "\n",
    "    ymin = ((B_reg1_df[B_reg1_df['omit'] == attribute]['ymin']).values[5:10])[::-1]\n",
    "    ymax = ((B_reg1_df[B_reg1_df['omit'] == attribute]['ymax']).values[5:10])[::-1]\n",
    "\n",
    "    rects = ax.bar(x + offset, measurement, width, label=attribute, zorder=100)\n",
    "    ax.errorbar(x + offset, measurement, yerr=np.stack((ymin, ymax)), \n",
    "                 linestyle='None', color='k', zorder=100)\n",
    "    multiplier += 1\n",
    "\n",
    "# Add some text for labels, title and custom x-axis tick labels, etc.\n",
    "ax.set_xticks(x + width, species)\n",
    "plt.legend(bbox_to_anchor=(1.02, 1), loc=\"upper left\")\n",
    "plt.grid(True, which='both', axis='both', zorder=0)\n",
    "plt.axhline(y=0, color='k', linewidth=3, zorder=500)\n",
    "plt.ylim((0,1))\n",
    "\n",
    "# add a big axis, hide frame\n",
    "fig.add_subplot(111, frameon=False)\n",
    "# hide tick and tick label of the big axis\n",
    "plt.tick_params(labelcolor='none', which='both', top=False, bottom=False, left=False, right=False)\n",
    "plt.xlabel(\"fold change in enzyme concentration\", size=14)\n",
    "plt.ylabel(r\"spearman coefficient, $\\rho$\", size=14)\n",
    "fig.suptitle(\"Comparing CRISPRa datasets with omitted data at different regulations levels, B-reg1\", size=20)\n"
   ]
  },
  {
   "cell_type": "code",
   "execution_count": null,
   "metadata": {},
   "outputs": [],
   "source": [
    "species = list(B_reg2_df['perturbation'].unique()[0:5])[::-1]\n",
    "penguin_means = {\n",
    "    'allData': tuple((B_reg2_df[B_reg2_df['omit'] == 'allData']['r']).values[0:5])[::-1],\n",
    "    'omitFluxes': tuple((B_reg2_df[B_reg2_df['omit'] == 'omitFluxes']['r']).values[0:5])[::-1],\n",
    "    'omitEnzymes': tuple((B_reg2_df[B_reg2_df['omit'] == 'omitEnzymes']['r']).values[0:5])[::-1],\n",
    "    'omitIntMet': tuple((B_reg2_df[B_reg2_df['omit'] == 'omitIntMet']['r']).values[0:5])[::-1],\n",
    "    'omitExMet': tuple((B_reg2_df[B_reg2_df['omit'] == 'omitExMet']['r']).values[0:5])[::-1]\n",
    "}\n",
    "\n",
    "x = np.arange(len(species))  # the label locations\n",
    "width = 0.15  # the width of the bars\n",
    "multiplier = 0\n",
    "\n",
    "fig, ax = plt.subplots(figsize=(12,4), layout='constrained', )\n",
    "\n",
    "for attribute, measurement in penguin_means.items():\n",
    "    offset = width * multiplier\n",
    "\n",
    "    ymin = ((B_reg2_df[B_reg2_df['omit'] == attribute]['ymin']).values[0:5])[::-1]\n",
    "    ymax = ((B_reg2_df[B_reg2_df['omit'] == attribute]['ymax']).values[0:5])[::-1]\n",
    "\n",
    "    rects = ax.bar(x + offset, measurement, width, label=attribute, zorder=100)\n",
    "    ax.errorbar(x + offset, measurement, yerr=np.stack((ymin, ymax)), \n",
    "                 linestyle='None', color='k', linewidth=1.4, zorder=100)\n",
    "    multiplier += 1\n",
    "\n",
    "plt.legend(bbox_to_anchor=(1.02, 1), loc=\"upper left\")\n",
    "plt.grid(True, which='both', axis='both', zorder=0)\n",
    "plt.axhline(y=0, color='k', linewidth=3, zorder=500)\n",
    "plt.ylim((0,1))\n",
    "ax.set_xticks(x + width, ['50','60','70','80','90'])\n",
    "\n",
    "\n",
    "# add a big axis, hide frame\n",
    "fig.add_subplot(111, frameon=False)\n",
    "# hide tick and tick label of the big axis\n",
    "plt.tick_params(labelcolor='none', which='both', top=False, bottom=False, left=False, right=False)\n",
    "plt.xlabel(\"% repression in enzyme concentration\", size=14)\n",
    "plt.ylabel(r\"spearman coefficient, $\\rho$\", size=14)\n",
    "\n",
    "fig.suptitle(\"Comparing CRISPRi datasets with omitted data at different regulations levels, B-reg2\", size=20)\n"
   ]
  },
  {
   "cell_type": "code",
   "execution_count": null,
   "metadata": {},
   "outputs": [],
   "source": [
    "species = B_reg2_df['perturbation'].unique()[5:10]\n",
    "penguin_means = {\n",
    "    'allData': tuple((B_reg2_df[B_reg2_df['omit'] == 'allData']['r']).values[5:10]),\n",
    "    'omitFluxes': tuple((B_reg2_df[B_reg2_df['omit'] == 'omitFluxes']['r']).values[5:10]),\n",
    "    'omitEnzymes': tuple((B_reg2_df[B_reg2_df['omit'] == 'omitEnzymes']['r']).values[5:10]),\n",
    "    'omitIntMet': tuple((B_reg2_df[B_reg2_df['omit'] == 'omitIntMet']['r']).values[5:10]),\n",
    "    'omitExMet': tuple((B_reg2_df[B_reg2_df['omit'] == 'omitExMet']['r']).values[5:10])\n",
    "}\n",
    "\n",
    "x = np.arange(len(species))  # the label locations\n",
    "width = 0.15  # the width of the bars\n",
    "multiplier = 0\n",
    "\n",
    "fig, ax = plt.subplots(figsize=(12,4), layout='constrained', )\n",
    "\n",
    "for attribute, measurement in penguin_means.items():\n",
    "    offset = width * multiplier\n",
    "\n",
    "    ymin = ((B_reg2_df[B_reg2_df['omit'] == attribute]['ymin']).values[5:10])[::-1]\n",
    "    ymax = ((B_reg2_df[B_reg2_df['omit'] == attribute]['ymax']).values[5:10])[::-1]\n",
    "\n",
    "    rects = ax.bar(x + offset, measurement, width, label=attribute, zorder=100)\n",
    "    ax.errorbar(x + offset, measurement, yerr=np.stack((ymin, ymax)), \n",
    "                 linestyle='None', color='k', zorder=100)\n",
    "    multiplier += 1\n",
    "\n",
    "# Add some text for labels, title and custom x-axis tick labels, etc.\n",
    "ax.set_xticks(x + width, species)\n",
    "plt.legend(bbox_to_anchor=(1.02, 1), loc=\"upper left\")\n",
    "plt.grid(True, which='both', axis='both', zorder=0)\n",
    "plt.axhline(y=0, color='k', linewidth=3, zorder=500)\n",
    "plt.ylim((0,1))\n",
    "\n",
    "# add a big axis, hide frame\n",
    "fig.add_subplot(111, frameon=False)\n",
    "# hide tick and tick label of the big axis\n",
    "plt.tick_params(labelcolor='none', which='both', top=False, bottom=False, left=False, right=False)\n",
    "plt.xlabel(\"fold change in enzyme concentration\", size=14)\n",
    "plt.ylabel(r\"spearman coefficient, $\\rho$\", size=14)\n",
    "fig.suptitle(\"Comparing CRISPRa datasets with omitted data at different regulations levels, B-reg2\", size=20)\n"
   ]
  },
  {
   "cell_type": "markdown",
   "metadata": {},
   "source": [
    "## Make tables of ranking correctness"
   ]
  },
  {
   "cell_type": "code",
   "execution_count": null,
   "metadata": {},
   "outputs": [],
   "source": [
    "os.chdir('../data/results/rankings/')"
   ]
  },
  {
   "cell_type": "code",
   "execution_count": null,
   "metadata": {},
   "outputs": [],
   "source": [
    "rank_file_list = [i for i in os.listdir() if \"topologyB\" in i]\n",
    "\n",
    "rank_dfs = []\n",
    "for file in rank_file_list:\n",
    "    a = pd.read_csv(file)\n",
    "\n",
    "    reg = file.split('_')[0].split('-')[1]\n",
    "    omit = file.split('_')[1]\n",
    "\n",
    "    a['reg'] = [reg]*len(a)\n",
    "    a['omit'] = [omit]*len(a)\n",
    "    rank_dfs.append(a)\n",
    "\n",
    "all_rank_df_B = pd.concat(rank_dfs)# .drop('1.01x', axis=1)\n",
    "all_rank_df_B"
   ]
  },
  {
   "cell_type": "code",
   "execution_count": null,
   "metadata": {},
   "outputs": [],
   "source": [
    "os.chdir('../../../notebooks/')"
   ]
  },
  {
   "cell_type": "markdown",
   "metadata": {},
   "source": [
    "#### Counts of top three ranked FCCs"
   ]
  },
  {
   "cell_type": "code",
   "execution_count": null,
   "metadata": {},
   "outputs": [],
   "source": [
    "pt_labels = ['0.1x', '0.2x', '0.3x', '0.4x', '0.5x', '1.5x', '3x', '5x', '7x', '10x']"
   ]
  },
  {
   "cell_type": "code",
   "execution_count": null,
   "metadata": {},
   "outputs": [],
   "source": [
    "topThree_df = all_rank_df_B[all_rank_df_B['v19'].isin([1, 2, 3])]\n",
    "\n",
    "gt_ranks = all_rank_df_B['gt'].head(19)\n",
    "\n",
    "rank_noReg = topThree_df[topThree_df['reg']=='noReg']#.drop('gt', axis=1)\n",
    "rank_reg1 = topThree_df[topThree_df['reg']=='reg1']#.drop('gt', axis=1)\n",
    "rank_reg2 = topThree_df[topThree_df['reg']=='reg2']#.drop('gt', axis=1)"
   ]
  },
  {
   "cell_type": "code",
   "execution_count": null,
   "metadata": {},
   "outputs": [],
   "source": [
    "rank_noReg"
   ]
  },
  {
   "cell_type": "code",
   "execution_count": null,
   "metadata": {},
   "outputs": [],
   "source": [
    "gt_t3 = rank_noReg.groupby('omit')['gt'].apply(list).reset_index()\n",
    "gt_t3_sets = np.where(gt_t3['gt']=='','', gt_t3['gt'].map(set))\n",
    "gt_t3_sets\n",
    "\n",
    "t3_sets = []\n",
    "for pt in pt_labels: \n",
    "    t3 = rank_noReg.groupby('omit')[pt].apply(list).reset_index()\n",
    "    t3_sets.append(np.where(t3[pt]=='','', t3[pt].map(set)))\n",
    "\n",
    "scores=[]\n",
    "for i in t3_sets: \n",
    "    for ii, gt_t3 in enumerate(gt_t3_sets): \n",
    "        scores.append(len(set.intersection(gt_t3, i[ii])))\n",
    "\n",
    "t3_results = pd.DataFrame((np.array(scores)).reshape((len(pt_labels),-1)).T, \n",
    "             index=all_rank_df_B['omit'].unique(), columns=pt_labels)\n",
    "t3_results"
   ]
  },
  {
   "cell_type": "code",
   "execution_count": null,
   "metadata": {},
   "outputs": [],
   "source": [
    "gt_t3 = rank_reg1.groupby('omit')['gt'].apply(list).reset_index()\n",
    "gt_t3_sets = np.where(gt_t3['gt']=='','', gt_t3['gt'].map(set))\n",
    "gt_t3_sets\n",
    "\n",
    "t3_sets = []\n",
    "for pt in pt_labels: \n",
    "    t3 = rank_reg1.groupby('omit')[pt].apply(list).reset_index()\n",
    "    t3_sets.append(np.where(t3[pt]=='','', t3[pt].map(set)))\n",
    "\n",
    "scores=[]\n",
    "for i in t3_sets: \n",
    "    for ii, gt_t3 in enumerate(gt_t3_sets): \n",
    "        scores.append(len(set.intersection(gt_t3, i[ii])))\n",
    "\n",
    "t3_results = pd.DataFrame((np.array(scores)).reshape((len(pt_labels),-1)).T, \n",
    "             index=all_rank_df_B['omit'].unique(), columns=pt_labels)\n",
    "t3_results"
   ]
  },
  {
   "cell_type": "code",
   "execution_count": null,
   "metadata": {},
   "outputs": [],
   "source": [
    "gt_t3 = rank_reg2.groupby('omit')['gt'].apply(list).reset_index()\n",
    "gt_t3_sets = np.where(gt_t3['gt']=='','', gt_t3['gt'].map(set))\n",
    "gt_t3_sets\n",
    "\n",
    "t3_sets = []\n",
    "for pt in pt_labels: \n",
    "    t3 = rank_reg2.groupby('omit')[pt].apply(list).reset_index()\n",
    "    t3_sets.append(np.where(t3[pt]=='','', t3[pt].map(set)))\n",
    "\n",
    "scores=[]\n",
    "for i in t3_sets: \n",
    "    for ii, gt_t3 in enumerate(gt_t3_sets): \n",
    "        scores.append(len(set.intersection(gt_t3, i[ii])))\n",
    "\n",
    "t3_results = pd.DataFrame((np.array(scores)).reshape((len(pt_labels),-1)).T, \n",
    "             index=all_rank_df_B['omit'].unique(), columns=pt_labels)\n",
    "t3_results"
   ]
  },
  {
   "cell_type": "code",
   "execution_count": null,
   "metadata": {},
   "outputs": [],
   "source": [
    "# visualizations. Heatmaps?"
   ]
  },
  {
   "cell_type": "markdown",
   "metadata": {},
   "source": [
    "#### Counts of top five ranked FCCs"
   ]
  },
  {
   "cell_type": "code",
   "execution_count": null,
   "metadata": {},
   "outputs": [],
   "source": [
    "topFive_df = all_rank_df_B[all_rank_df_B['v19'].isin([1, 2, 3, 4, 5])]\n",
    "\n",
    "gt_ranks_5 = all_rank_df_B['gt'].head(19)\n",
    "\n",
    "rank_noReg_5 = topFive_df[topFive_df['reg']=='noReg']#.drop('gt', axis=1)\n",
    "rank_reg1_5 = topFive_df[topFive_df['reg']=='reg1']#.drop('gt', axis=1)\n",
    "rank_reg2_5 = topFive_df[topFive_df['reg']=='reg2']#.drop('gt', axis=1)"
   ]
  },
  {
   "cell_type": "code",
   "execution_count": null,
   "metadata": {},
   "outputs": [],
   "source": [
    "gt_t5 = rank_noReg_5.groupby('omit')['gt'].apply(list).reset_index()\n",
    "gt_t5_sets = np.where(gt_t5['gt']=='','', gt_t5['gt'].map(set))\n",
    "gt_t5_sets\n",
    "\n",
    "t5_sets = []\n",
    "for pt in pt_labels: \n",
    "    t5 = rank_noReg_5.groupby('omit')[pt].apply(list).reset_index()\n",
    "    t5_sets.append(np.where(t5[pt]=='','', t5[pt].map(set)))\n",
    "\n",
    "scores=[]\n",
    "for i in t5_sets: \n",
    "    for ii, gt_t5 in enumerate(gt_t5_sets): \n",
    "        scores.append(len(set.intersection(gt_t5, i[ii])))\n",
    "\n",
    "t5_results = pd.DataFrame((np.array(scores)).reshape((len(pt_labels),-1)).T, \n",
    "             index=all_rank_df_B['omit'].unique(), columns=pt_labels)\n",
    "t5_results"
   ]
  },
  {
   "cell_type": "code",
   "execution_count": null,
   "metadata": {},
   "outputs": [],
   "source": [
    "gt_t5 = rank_reg1_5.groupby('omit')['gt'].apply(list).reset_index()\n",
    "gt_t5_sets = np.where(gt_t5['gt']=='','', gt_t5['gt'].map(set))\n",
    "gt_t5_sets\n",
    "\n",
    "t5_sets = []\n",
    "for pt in pt_labels: \n",
    "    t5 = rank_reg1_5.groupby('omit')[pt].apply(list).reset_index()\n",
    "    t5_sets.append(np.where(t5[pt]=='','', t5[pt].map(set)))\n",
    "\n",
    "scores=[]\n",
    "for i in t5_sets: \n",
    "    for ii, gt_t5 in enumerate(gt_t5_sets): \n",
    "        scores.append(len(set.intersection(gt_t5, i[ii])))\n",
    "\n",
    "t5_results = pd.DataFrame((np.array(scores)).reshape((len(pt_labels),-1)).T, \n",
    "             index=all_rank_df_B['omit'].unique(), columns=pt_labels)\n",
    "t5_results"
   ]
  },
  {
   "cell_type": "code",
   "execution_count": null,
   "metadata": {},
   "outputs": [],
   "source": [
    "gt_t5 = rank_reg2_5.groupby('omit')['gt'].apply(list).reset_index()\n",
    "gt_t5_sets = np.where(gt_t5['gt']=='','', gt_t5['gt'].map(set))\n",
    "gt_t5_sets\n",
    "\n",
    "t5_sets = []\n",
    "for pt in pt_labels: \n",
    "    t5 = rank_reg2_5.groupby('omit')[pt].apply(list).reset_index()\n",
    "    t5_sets.append(np.where(t5[pt]=='','', t5[pt].map(set)))\n",
    "\n",
    "scores=[]\n",
    "for i in t5_sets: \n",
    "    for ii, gt_t5 in enumerate(gt_t5_sets): \n",
    "        scores.append(len(set.intersection(gt_t5, i[ii])))\n",
    "\n",
    "t5_results = pd.DataFrame((np.array(scores)).reshape((len(pt_labels),-1)).T, \n",
    "             index=all_rank_df_B['omit'].unique(), columns=pt_labels)\n",
    "t5_results"
   ]
  },
  {
   "cell_type": "code",
   "execution_count": null,
   "metadata": {},
   "outputs": [],
   "source": [
    "## "
   ]
  },
  {
   "cell_type": "markdown",
   "metadata": {},
   "source": [
    "## How does the presence of regulators affect BMCA’s performance?\n"
   ]
  },
  {
   "cell_type": "code",
   "execution_count": null,
   "metadata": {},
   "outputs": [],
   "source": [
    "picklefolder = '../data/results/tracePickles/'\n",
    "oldpicklefolder = '../data/results/tracePickles-20240801/'"
   ]
  },
  {
   "cell_type": "code",
   "execution_count": null,
   "metadata": {},
   "outputs": [],
   "source": [
    "with gzip.open(picklefolder + 'topologyB-noReg_omitExMet_traces.pgz', \"rb\") as f:\n",
    "    traces_noReg = cloudpickle.load(f, encoding='bytes')\n",
    "\n",
    "with gzip.open(picklefolder + 'topologyB-reg1_omitExMet_traces.pgz', \"rb\") as f:\n",
    "    traces_reg1 = cloudpickle.load(f, encoding='bytes')\n",
    "\n",
    "with gzip.open(picklefolder + 'topologyB-reg2_omitExMet_traces.pgz', \"rb\") as f:\n",
    "    traces_reg2 = cloudpickle.load(f, encoding='bytes')"
   ]
  },
  {
   "cell_type": "code",
   "execution_count": null,
   "metadata": {},
   "outputs": [],
   "source": [
    "trace01_noReg=traces_noReg['trace01']\n",
    "trace02_noReg=traces_noReg['trace02']\n",
    "trace03_noReg=traces_noReg['trace03']\n",
    "trace04_noReg=traces_noReg['trace04']\n",
    "trace05_noReg=traces_noReg['trace05']\n",
    "trace15_noReg=traces_noReg['trace15']\n",
    "trace3_noReg=traces_noReg['trace3']\n",
    "trace5_noReg=traces_noReg['trace5']\n",
    "trace7_noReg=traces_noReg['trace7']\n",
    "trace10_noReg=traces_noReg['trace100']\n",
    "\n",
    "trace01_reg1=traces_reg1['trace01']\n",
    "trace02_reg1=traces_reg1['trace02']\n",
    "trace03_reg1=traces_reg1['trace03']\n",
    "trace04_reg1=traces_reg1['trace04']\n",
    "trace05_reg1=traces_reg1['trace05']\n",
    "trace15_reg1=traces_reg1['trace15']\n",
    "trace3_reg1=traces_reg1['trace3']\n",
    "trace5_reg1=traces_reg1['trace5']\n",
    "trace7_reg1=traces_reg1['trace7']\n",
    "trace10_reg1=traces_reg1['trace100']\n",
    "\n",
    "trace01_reg2=traces_reg2['trace01']\n",
    "trace02_reg2=traces_reg2['trace02']\n",
    "trace03_reg2=traces_reg2['trace03']\n",
    "trace04_reg2=traces_reg2['trace04']\n",
    "trace05_reg2=traces_reg2['trace05']\n",
    "trace15_reg2=traces_reg2['trace15']\n",
    "trace3_reg2=traces_reg2['trace3']\n",
    "trace5_reg2=traces_reg2['trace5']\n",
    "trace7_reg2=traces_reg2['trace7']\n",
    "trace10_reg2=traces_reg2['trace100']"
   ]
  },
  {
   "cell_type": "raw",
   "metadata": {
    "vscode": {
     "languageId": "raw"
    }
   },
   "source": [
    "a = util.get_az_summary(trace01_noReg)\n",
    "aa = util.get_az_summary(trace01_reg1)\n",
    "aaa = util.get_az_summary(trace01_reg2)\n",
    "\n",
    "b = util.get_az_summary(trace02_noReg)\n",
    "bb = util.get_az_summary(trace02_reg1)\n",
    "bbb = util.get_az_summary(trace02_reg2)\n",
    "\n",
    "c = util.get_az_summary(trace03_noReg)\n",
    "cc = util.get_az_summary(trace03_reg1)\n",
    "ccc = util.get_az_summary(trace03_reg2)\n",
    "\n",
    "d = util.get_az_summary(trace04_noReg)\n",
    "dd = util.get_az_summary(trace04_reg1)\n",
    "ddd = util.get_az_summary(trace04_reg2)\n",
    "\n",
    "e = util.get_az_summary(trace05_noReg)\n",
    "ee = util.get_az_summary(trace05_reg1)\n",
    "eee = util.get_az_summary(trace05_reg2)\n",
    "\n",
    "f = util.get_az_summary(trace15_noReg)\n",
    "ff = util.get_az_summary(trace15_reg1)\n",
    "fff = util.get_az_summary(trace15_reg2)\n",
    "\n",
    "g = util.get_az_summary(trace3_noReg)\n",
    "gg = util.get_az_summary(trace3_reg1)\n",
    "ggg = util.get_az_summary(trace3_reg2)\n",
    "\n",
    "h = util.get_az_summary(trace5_noReg)\n",
    "hh = util.get_az_summary(trace5_reg1)\n",
    "hhh = util.get_az_summary(trace5_reg2)\n",
    "\n",
    "i = util.get_az_summary(trace7_noReg)\n",
    "ii = util.get_az_summary(trace7_reg1)\n",
    "iii = util.get_az_summary(trace7_reg2)\n",
    "\n",
    "j = util.get_az_summary(trace10_noReg)\n",
    "jj = util.get_az_summary(trace10_reg1)\n",
    "jjj = util.get_az_summary(trace10_reg2)"
   ]
  },
  {
   "cell_type": "code",
   "execution_count": null,
   "metadata": {},
   "outputs": [],
   "source": [
    "a = util.get_az_mean(trace01_noReg)\n",
    "aa = util.get_az_mean(trace01_reg1)\n",
    "aaa = util.get_az_mean(trace01_reg2)\n",
    "\n",
    "b = util.get_az_mean(trace02_noReg)\n",
    "bb = util.get_az_mean(trace02_reg1)\n",
    "bbb = util.get_az_mean(trace02_reg2)\n",
    "\n",
    "c = util.get_az_mean(trace03_noReg)\n",
    "cc = util.get_az_mean(trace03_reg1)\n",
    "ccc = util.get_az_mean(trace03_reg2)\n",
    "\n",
    "d = util.get_az_mean(trace04_noReg)\n",
    "dd = util.get_az_mean(trace04_reg1)\n",
    "ddd = util.get_az_mean(trace04_reg2)\n",
    "\n",
    "e = util.get_az_mean(trace05_noReg)\n",
    "ee = util.get_az_mean(trace05_reg1)\n",
    "eee = util.get_az_mean(trace05_reg2)\n",
    "\n",
    "f = util.get_az_mean(trace15_noReg)\n",
    "ff = util.get_az_mean(trace15_reg1)\n",
    "fff = util.get_az_mean(trace15_reg2)\n",
    "\n",
    "g = util.get_az_mean(trace3_noReg)\n",
    "gg = util.get_az_mean(trace3_reg1)\n",
    "ggg = util.get_az_mean(trace3_reg2)\n",
    "\n",
    "h = util.get_az_mean(trace5_noReg)\n",
    "hh = util.get_az_mean(trace5_reg1)\n",
    "hhh = util.get_az_mean(trace5_reg2)\n",
    "\n",
    "i = util.get_az_mean(trace7_noReg)\n",
    "ii = util.get_az_mean(trace7_reg1)\n",
    "iii = util.get_az_mean(trace7_reg2)\n",
    "\n",
    "j = util.get_az_mean(trace10_noReg)\n",
    "jj = util.get_az_mean(trace10_reg1)\n",
    "jjj = util.get_az_mean(trace10_reg2)"
   ]
  },
  {
   "cell_type": "code",
   "execution_count": null,
   "metadata": {},
   "outputs": [],
   "source": [
    "print(round(sp.stats.f_oneway(a,aa,aaa)[0],3))\n",
    "print(round(sp.stats.f_oneway(b,bb,bbb)[0],3))\n",
    "print(round(sp.stats.f_oneway(c,cc,ccc)[0],3))\n",
    "print(round(sp.stats.f_oneway(d,dd,ddd)[0],3))\n",
    "print(round(sp.stats.f_oneway(e,ee,eee)[0],3))\n",
    "print(round(sp.stats.f_oneway(f,ff,fff)[0],3))\n",
    "print(round(sp.stats.f_oneway(g,gg,ggg)[0],3))\n",
    "print(round(sp.stats.f_oneway(h,hh,hhh)[0],3))\n",
    "print(round(sp.stats.f_oneway(i,ii,iii)[0],3))\n",
    "print(round(sp.stats.f_oneway(j,jj,jjj)[0],3))\n",
    "print('\\n')\n",
    "print(round(sp.stats.f_oneway(a,aa,aaa)[1],3))\n",
    "print(round(sp.stats.f_oneway(b,bb,bbb)[1],3))\n",
    "print(round(sp.stats.f_oneway(c,cc,ccc)[1],3))\n",
    "print(round(sp.stats.f_oneway(d,dd,ddd)[1],3))\n",
    "print(round(sp.stats.f_oneway(e,ee,eee)[1],3))\n",
    "print(round(sp.stats.f_oneway(f,ff,fff)[1],3))\n",
    "print(round(sp.stats.f_oneway(g,gg,ggg)[1],3))\n",
    "print(round(sp.stats.f_oneway(h,hh,hhh)[1],3))\n",
    "print(round(sp.stats.f_oneway(i,ii,iii)[1],3))\n",
    "print(round(sp.stats.f_oneway(j,jj,jjj)[1],3))"
   ]
  },
  {
   "cell_type": "markdown",
   "metadata": {},
   "source": [
    "## graphing the elasticity predictions over perturbation level and regulator level"
   ]
  },
  {
   "cell_type": "code",
   "execution_count": null,
   "metadata": {},
   "outputs": [],
   "source": [
    "picklefolder = '../data/results/tracePickles/'\n",
    "oldpicklefolder = '../data/results/tracePickles-20240801/'"
   ]
  },
  {
   "cell_type": "code",
   "execution_count": null,
   "metadata": {},
   "outputs": [],
   "source": [
    "omission='allData'"
   ]
  },
  {
   "cell_type": "code",
   "execution_count": null,
   "metadata": {},
   "outputs": [],
   "source": [
    "with gzip.open(picklefolder + f'TopologyB-noReg_{omission}_traces.pgz', \"rb\") as f:\n",
    "    traces_noReg = cloudpickle.load(f, encoding='bytes')\n",
    "\n",
    "with gzip.open(picklefolder + f'TopologyB-reg1_{omission}_traces.pgz', \"rb\") as f:\n",
    "    traces_reg1 = cloudpickle.load(f, encoding='bytes')\n",
    "\n",
    "with gzip.open(picklefolder + f'TopologyB-reg2_{omission}_traces.pgz', \"rb\") as f:\n",
    "    traces_reg2 = cloudpickle.load(f, encoding='bytes')"
   ]
  },
  {
   "cell_type": "code",
   "execution_count": null,
   "metadata": {},
   "outputs": [],
   "source": [
    "trace01_noReg=traces_noReg['trace01']\n",
    "trace02_noReg=traces_noReg['trace02']\n",
    "trace03_noReg=traces_noReg['trace03']\n",
    "trace04_noReg=traces_noReg['trace04']\n",
    "trace05_noReg=traces_noReg['trace05']\n",
    "trace15_noReg=traces_noReg['trace15']\n",
    "trace3_noReg=traces_noReg['trace3']\n",
    "trace5_noReg=traces_noReg['trace5']\n",
    "trace7_noReg=traces_noReg['trace7']\n",
    "trace10_noReg=traces_noReg['trace100']\n",
    "\n",
    "trace01_reg1=traces_reg1['trace01']\n",
    "trace02_reg1=traces_reg1['trace02']\n",
    "trace03_reg1=traces_reg1['trace03']\n",
    "trace04_reg1=traces_reg1['trace04']\n",
    "trace05_reg1=traces_reg1['trace05']\n",
    "trace15_reg1=traces_reg1['trace15']\n",
    "trace3_reg1=traces_reg1['trace3']\n",
    "trace5_reg1=traces_reg1['trace5']\n",
    "trace7_reg1=traces_reg1['trace7']\n",
    "trace10_reg1=traces_reg1['trace100']\n",
    "\n",
    "trace01_reg2=traces_reg2['trace01']\n",
    "trace02_reg2=traces_reg2['trace02']\n",
    "trace03_reg2=traces_reg2['trace03']\n",
    "trace04_reg2=traces_reg2['trace04']\n",
    "trace05_reg2=traces_reg2['trace05']\n",
    "trace15_reg2=traces_reg2['trace15']\n",
    "trace3_reg2=traces_reg2['trace3']\n",
    "trace5_reg2=traces_reg2['trace5']\n",
    "trace7_reg2=traces_reg2['trace7']\n",
    "trace10_reg2=traces_reg2['trace100']"
   ]
  },
  {
   "cell_type": "code",
   "execution_count": null,
   "metadata": {},
   "outputs": [],
   "source": [
    "Ex01_noReg = util.get_az_summary(trace01_noReg)\n",
    "Ex01_reg1 = util.get_az_summary(trace01_reg1)\n",
    "Ex01_reg2 = util.get_az_summary(trace01_reg2)\n",
    "\n",
    "Ex02_noReg = util.get_az_summary(trace02_noReg)\n",
    "Ex02_reg1 = util.get_az_summary(trace02_reg1)\n",
    "Ex02_reg2 = util.get_az_summary(trace02_reg2)\n",
    "\n",
    "Ex03_noReg = util.get_az_summary(trace03_noReg)\n",
    "Ex03_reg1 = util.get_az_summary(trace03_reg1)\n",
    "Ex03_reg2 = util.get_az_summary(trace03_reg2)\n",
    "\n",
    "Ex04_noReg = util.get_az_summary(trace04_noReg)\n",
    "Ex04_reg1 = util.get_az_summary(trace04_reg1)\n",
    "Ex04_reg2 = util.get_az_summary(trace04_reg2)\n",
    "\n",
    "Ex05_noReg = util.get_az_summary(trace05_noReg)\n",
    "Ex05_reg1 = util.get_az_summary(trace05_reg1)\n",
    "Ex05_reg2 = util.get_az_summary(trace05_reg2)\n",
    "\n",
    "Ex15_noReg = util.get_az_summary(trace15_noReg)\n",
    "Ex15_reg1 = util.get_az_summary(trace15_reg1)\n",
    "Ex15_reg2 = util.get_az_summary(trace15_reg2)\n",
    "\n",
    "Ex3_noReg = util.get_az_summary(trace3_noReg)\n",
    "Ex3_reg1 = util.get_az_summary(trace3_reg1)\n",
    "Ex3_reg2 = util.get_az_summary(trace3_reg2)\n",
    "\n",
    "Ex5_noReg = util.get_az_summary(trace5_noReg)\n",
    "Ex5_reg1 = util.get_az_summary(trace5_reg1)\n",
    "Ex5_reg2 = util.get_az_summary(trace5_reg2)\n",
    "\n",
    "Ex7_noReg = util.get_az_summary(trace7_noReg)\n",
    "Ex7_reg1 = util.get_az_summary(trace7_reg1)\n",
    "Ex7_reg2 = util.get_az_summary(trace7_reg2)\n",
    "\n",
    "Ex100_noReg = util.get_az_summary(trace10_noReg)\n",
    "Ex100_reg1 = util.get_az_summary(trace10_reg1)\n",
    "Ex100_reg2 = util.get_az_summary(trace10_reg2)"
   ]
  },
  {
   "cell_type": "raw",
   "metadata": {
    "vscode": {
     "languageId": "raw"
    }
   },
   "source": [
    "Ex01_noReg = util.get_az_mean(trace01_noReg)\n",
    "Ex01_reg1 = util.get_az_mean(trace01_reg1)\n",
    "Ex01_reg2 = util.get_az_mean(trace01_reg2)\n",
    "\n",
    "Ex02_noReg = util.get_az_mean(trace02_noReg)\n",
    "Ex02_reg1 = util.get_az_mean(trace02_reg1)\n",
    "Ex02_reg2 = util.get_az_mean(trace02_reg2)\n",
    "\n",
    "Ex03_noReg = util.get_az_mean(trace03_noReg)\n",
    "Ex03_reg1 = util.get_az_mean(trace03_reg1)\n",
    "Ex03_reg2 = util.get_az_mean(trace03_reg2)\n",
    "\n",
    "Ex04_noReg = util.get_az_mean(trace04_noReg)\n",
    "Ex04_reg1 = util.get_az_mean(trace04_reg1)\n",
    "Ex04_reg2 = util.get_az_mean(trace04_reg2)\n",
    "\n",
    "Ex05_noReg = util.get_az_mean(trace05_noReg)\n",
    "Ex05_reg1 = util.get_az_mean(trace05_reg1)\n",
    "Ex05_reg2 = util.get_az_mean(trace05_reg2)\n",
    "\n",
    "Ex15_noReg = util.get_az_mean(trace15_noReg)\n",
    "Ex15_reg1 = util.get_az_mean(trace15_reg1)\n",
    "Ex15_reg2 = util.get_az_mean(trace15_reg2)\n",
    "\n",
    "Ex3_noReg = util.get_az_mean(trace3_noReg)\n",
    "Ex3_reg1 = util.get_az_mean(trace3_reg1)\n",
    "Ex3_reg2 = util.get_az_mean(trace3_reg2)\n",
    "\n",
    "Ex5_noReg = util.get_az_mean(trace5_noReg)\n",
    "Ex5_reg1 = util.get_az_mean(trace5_reg1)\n",
    "Ex5_reg2 = util.get_az_mean(trace5_reg2)\n",
    "\n",
    "Ex7_noReg = util.get_az_mean(trace7_noReg)\n",
    "Ex7_reg1 = util.get_az_mean(trace7_reg1)\n",
    "Ex7_reg2 = util.get_az_mean(trace7_reg2)\n",
    "\n",
    "Ex100_noReg = util.get_az_mean(trace10_noReg)\n",
    "Ex100_reg1 = util.get_az_mean(trace10_reg1)\n",
    "Ex100_reg2 = util.get_az_mean(trace10_reg2)"
   ]
  },
  {
   "cell_type": "code",
   "execution_count": null,
   "metadata": {},
   "outputs": [],
   "source": [
    "ela_noReg_values = np.column_stack([Ex01_noReg, Ex02_noReg, Ex03_noReg, \n",
    "                                Ex04_noReg, Ex05_noReg,  \n",
    "                                Ex15_noReg, Ex3_noReg, Ex5_noReg, \n",
    "                                Ex7_noReg, Ex100_noReg])\n",
    "\n",
    "ela_reg1_values = np.column_stack([Ex01_reg1, Ex02_reg1, Ex03_reg1, \n",
    "                                Ex04_reg1, Ex05_reg1,  \n",
    "                                Ex15_reg1, Ex3_reg1, Ex5_reg1, \n",
    "                                Ex7_reg1, Ex100_reg1])\n",
    "\n",
    "ela_reg2_values = np.column_stack([Ex01_reg2, Ex02_reg2, Ex03_reg2, \n",
    "                                Ex04_reg2, Ex05_reg2,  \n",
    "                                Ex15_reg2, Ex3_reg2, Ex5_reg2, \n",
    "                                Ex7_reg2, Ex100_reg2])\n",
    "\n",
    "pt_labels = ['0.1x', '0.2x', '0.3x', '0.4x','0.5x', '1.5x', '3x', '5x', '7x', '10x']\n",
    "\n",
    "ela_noReg_df = pd.DataFrame(ela_noReg_values, columns=pt_labels)\n",
    "ela_reg1_df = pd.DataFrame(ela_reg1_values, columns=pt_labels)\n",
    "ela_reg2_df = pd.DataFrame(ela_reg2_values, columns=pt_labels)\n",
    "\n",
    "ela_noReg_df['median'] = ela_noReg_df.median(axis=1)\n",
    "ela_noReg_df['min'] = ela_noReg_df.min(axis=1)\n",
    "ela_noReg_df['max'] = ela_noReg_df.max(axis=1)\n",
    "\n",
    "ela_reg1_df['median'] = ela_reg1_df.median(axis=1)\n",
    "ela_reg1_df['min'] = ela_reg1_df.min(axis=1)\n",
    "ela_reg1_df['max'] = ela_reg1_df.max(axis=1)\n",
    "\n",
    "ela_reg2_df['median'] = ela_reg2_df.median(axis=1)\n",
    "ela_reg2_df['min'] = ela_reg2_df.min(axis=1)\n",
    "ela_reg2_df['max'] = ela_reg2_df.max(axis=1)"
   ]
  },
  {
   "cell_type": "code",
   "execution_count": null,
   "metadata": {},
   "outputs": [],
   "source": [
    "lower_y_noReg = np.array(ela_noReg_df['median']) - ela_noReg_df['min'].values\n",
    "upper_y_noReg =np.array(ela_noReg_df['max'].values) - np.array(ela_noReg_df['median'])\n",
    "errors_noReg = [lower_y_noReg, upper_y_noReg]\n",
    "\n",
    "lower_y_reg1 = np.array(ela_reg1_df['median']) - ela_reg1_df['min'].values\n",
    "upper_y_reg1 =np.array(ela_reg1_df['max'].values) - np.array(ela_reg1_df['median'])\n",
    "errors_reg1 = [lower_y_reg1, upper_y_reg1]\n",
    "\n",
    "lower_y_reg2 = np.array(ela_reg2_df['median']) - ela_reg2_df['min'].values\n",
    "upper_y_reg2 =np.array(ela_reg2_df['max'].values) - np.array(ela_reg2_df['median'])\n",
    "errors_reg2 = [lower_y_reg2, upper_y_reg2]\n"
   ]
  },
  {
   "cell_type": "code",
   "execution_count": null,
   "metadata": {},
   "outputs": [],
   "source": [
    "Teusink_ant ='../models/Antimony/TopologyB.ant' \n",
    "r = te.loada(Teusink_ant)\n",
    "r.conservedMoietyAnalysis = True\n",
    "r.steadyState()\n",
    "gt = r.getScaledElasticityMatrix().ravel()"
   ]
  },
  {
   "cell_type": "code",
   "execution_count": null,
   "metadata": {},
   "outputs": [],
   "source": [
    "round(sum(abs(ela_noReg_df['median']-gt))/len(gt),5)"
   ]
  },
  {
   "cell_type": "raw",
   "metadata": {
    "vscode": {
     "languageId": "raw"
    }
   },
   "source": [
    "plt.axes().set_aspect('equal', 'datalim')\n",
    "\n",
    "plt.errorbar(gt, ela_noReg_df['median'], yerr=errors_noReg, alpha=0.4, fmt='o', label='noReg', zorder=100)\n",
    "plt.errorbar(gt, ela_reg1_df['median'], yerr=errors_reg1, alpha=0.5, fmt='o', label='reg1', zorder=50)\n",
    "plt.errorbar(gt, ela_reg2_df['median'], yerr=errors_reg2, alpha=0.5, fmt='o', label='reg2', zorder=20)\n",
    "plt.legend(loc=\"upper left\")\n",
    "plt.axline([0, 0], [1, 1], c='gray', linestyle='dashed', zorder=1, linewidth=2)\n",
    "plt.grid(True, which='both', axis='both', zorder=0)\n",
    "plt.xlabel('ground truth elasticity values', size=14)\n",
    "plt.ylabel('predicted elasticity values', size=14)\n",
    "plt.savefig(f'../data/results/svg_figures/topB-{omission}-combinedElasticities.svg', format=\"svg\")"
   ]
  }
 ],
 "metadata": {
  "kernelspec": {
   "display_name": "gayles",
   "language": "python",
   "name": "python3"
  },
  "language_info": {
   "codemirror_mode": {
    "name": "ipython",
    "version": 3
   },
   "file_extension": ".py",
   "mimetype": "text/x-python",
   "name": "python",
   "nbconvert_exporter": "python",
   "pygments_lexer": "ipython3",
   "version": "3.9.19"
  }
 },
 "nbformat": 4,
 "nbformat_minor": 2
}
