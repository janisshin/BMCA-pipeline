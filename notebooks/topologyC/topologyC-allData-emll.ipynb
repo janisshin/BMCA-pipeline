{
 "cells": [
  {
   "cell_type": "markdown",
   "metadata": {},
   "source": [
    "run this notebook with the `pytensor592` conda environment"
   ]
  },
  {
   "cell_type": "code",
   "execution_count": 10,
   "metadata": {},
   "outputs": [],
   "source": [
    "import tellurium as te\n",
    "import pandas as pd\n",
    "import numpy as np\n",
    "\n",
    "import matplotlib.pyplot as plt\n",
    "import seaborn as sns\n",
    "import arviz as az\n",
    "\n",
    "import pytensor.tensor as at\n",
    "import pytensor\n",
    "floatX = pytensor.config.floatX\n",
    "import pymc as pm\n",
    "import numpy as np\n",
    "\n",
    "import cobra\n",
    "import os\n",
    "\n",
    "from scipy import stats\n",
    "import scipy as sp\n",
    "import math\n",
    "\n",
    "import cloudpickle\n",
    "import gzip"
   ]
  },
  {
   "cell_type": "code",
   "execution_count": 11,
   "metadata": {},
   "outputs": [],
   "source": [
    "import emll\n",
    "from emll.pytensor_utils import LeastSquaresSolve"
   ]
  },
  {
   "cell_type": "code",
   "execution_count": 12,
   "metadata": {},
   "outputs": [],
   "source": [
    "os.chdir('../..')\n",
    "from src import antemll, util_pytensor\n",
    "os.chdir('notebooks/topologyC')"
   ]
  },
  {
   "cell_type": "code",
   "execution_count": 13,
   "metadata": {},
   "outputs": [
    {
     "data": {
      "text/plain": [
       "1.9044426622520472e-14"
      ]
     },
     "execution_count": 13,
     "metadata": {},
     "output_type": "execute_result"
    }
   ],
   "source": [
    "ant ='../../models/Antimony/TopologyC.ant'  \n",
    "r = te.loada(ant)\n",
    "r.conservedMoietyAnalysis = True\n",
    "r.steadyState()\n"
   ]
  },
  {
   "cell_type": "code",
   "execution_count": 14,
   "metadata": {},
   "outputs": [],
   "source": [
    "pt_levels = [0.5, 1.5]\n",
    "pt_labels = ['0.5x', '1.5x']"
   ]
  },
  {
   "cell_type": "code",
   "execution_count": 15,
   "metadata": {},
   "outputs": [],
   "source": [
    "data_file05 = '../../data/interim/generated_data/topologyC_1/TopologyC_0.5.csv'\n",
    "data_file15 = '../../data/interim/generated_data/topologyC_1/TopologyC_1.5.csv'\n"
   ]
  },
  {
   "cell_type": "code",
   "execution_count": 16,
   "metadata": {},
   "outputs": [
    {
     "name": "stdout",
     "output_type": "stream",
     "text": [
      "../../models/Antimony/TopologyC_cobra.ant\n"
     ]
    },
    {
     "name": "stderr",
     "output_type": "stream",
     "text": [
      "No objective coefficients in model. Unclear what should be optimized\n"
     ]
    },
    {
     "name": "stdout",
     "output_type": "stream",
     "text": [
      "../../models/Antimony/TopologyC_cobra.ant\n"
     ]
    },
    {
     "name": "stderr",
     "output_type": "stream",
     "text": [
      "No objective coefficients in model. Unclear what should be optimized\n"
     ]
    }
   ],
   "source": [
    "BMCA_obj05 = antemll.antemll(ant, data_file05, cobra_sbml='../../models/sbml/TopologyC_cobra.xml')\n",
    "BMCA_obj15 = antemll.antemll(ant, data_file15, cobra_sbml='../../models/sbml/TopologyC_cobra.xml')\n"
   ]
  },
  {
   "cell_type": "markdown",
   "metadata": {},
   "source": [
    "## Running ADVI"
   ]
  },
  {
   "cell_type": "code",
   "execution_count": 17,
   "metadata": {},
   "outputs": [],
   "source": [
    "def run_prior_predictive(BMCA_obj):\n",
    "    ll = emll.LinLogLeastNorm(BMCA_obj.N, BMCA_obj.Ex.to_numpy(), BMCA_obj.Ey.to_numpy(), BMCA_obj.v_star, driver='gelsy')\n",
    "    \n",
    "    with pm.Model() as pymc_model:\n",
    "        # Initialize elasticities\n",
    "        # Ex and Ey have to be shape (rxns, mets)\n",
    "        Ex_t = pm.Deterministic('Ex', emll.util.initialize_elasticity(BMCA_obj.Ex.to_numpy().T, 'Ex', b=0.05, sigma=1, alpha=5))\n",
    "        Ey_t = pm.Deterministic('Ey', emll.util.initialize_elasticity(BMCA_obj.Ey.to_numpy().T, 'Ey', b=0.05, sigma=1, alpha=5))\n",
    "\n",
    "        trace_prior = pm.sample_prior_predictive()\n",
    "\n",
    "    return trace_prior"
   ]
  },
  {
   "cell_type": "code",
   "execution_count": 18,
   "metadata": {},
   "outputs": [
    {
     "name": "stderr",
     "output_type": "stream",
     "text": [
      "Sampling: [Ex_capacity_entries, Ex_kinetic_entries, Ey_capacity_entries, Ey_kinetic_entries]\n",
      "Sampling: [Ex_capacity_entries, Ex_kinetic_entries, Ey_capacity_entries, Ey_kinetic_entries]\n"
     ]
    }
   ],
   "source": [
    "prior05 = run_prior_predictive(BMCA_obj05)\n",
    "prior15 = run_prior_predictive(BMCA_obj15)"
   ]
  },
  {
   "cell_type": "code",
   "execution_count": 10,
   "metadata": {},
   "outputs": [],
   "source": [
    "def run_ADVI(BMCA_obj):\n",
    "    ll = emll.LinLogLeastNorm(BMCA_obj.N, BMCA_obj.Ex.to_numpy(), BMCA_obj.Ey.to_numpy(), BMCA_obj.v_star, driver='gelsy')\n",
    "    \n",
    "    with pm.Model() as pymc_model:\n",
    "        # Initialize elasticities\n",
    "        # Ex and Ey have to be shape (rxns, mets)\n",
    "        Ex_t = pm.Deterministic('Ex', emll.util.initialize_elasticity(BMCA_obj.Ex.to_numpy().T, 'Ex', b=0.05, sigma=1, alpha=5))\n",
    "        Ey_t = pm.Deterministic('Ey', emll.util.initialize_elasticity(BMCA_obj.Ey.to_numpy().T, 'Ey', b=0.05, sigma=1, alpha=5))\n",
    "\n",
    "        # Calculate steady-state concentrations and fluxes from elasticities\n",
    "        chi_ss, v_hat_ss = ll.steady_state_pytensor(Ex_t, Ey_t, BMCA_obj.en.values, BMCA_obj.yn.values)\n",
    "        \n",
    "        # Error distributions for observed steady-state concentrations and fluxes\n",
    "        chi_obs = pm.Normal('chi_obs', mu=chi_ss, sigma=0.05, observed=BMCA_obj.xn.values)\n",
    "        v_hat_obs = pm.Normal('v_hat_obs', mu=v_hat_ss[:, 0].squeeze(),\n",
    "                            sigma=0.05, observed=BMCA_obj.vn.squeeze())\n",
    "        \n",
    "        N_ITERATIONS = 150000\n",
    "\n",
    "    with pymc_model:\n",
    "        advi = pm.ADVI()\n",
    "        tracker = pm.callbacks.Tracker(\n",
    "            mean = advi.approx.mean.eval,\n",
    "            std = advi.approx.std.eval\n",
    "        )\n",
    "        approx = advi.fit(\n",
    "            n= N_ITERATIONS, \n",
    "            callbacks = [tracker],\n",
    "            obj_optimizer=pm.adagrad_window(learning_rate=5E-3), \n",
    "            total_grad_norm_constraint=0.7,\n",
    "            obj_n_mc=1)\n",
    "    \n",
    "    with sns.plotting_context('notebook', font_scale=1.2):\n",
    "\n",
    "        fig = plt.figure(figsize=(5,4))\n",
    "        plt.plot(approx.hist + 30, '.', rasterized=True, ms=1)\n",
    "        # plt.ylim([-1E1, 1E3])\n",
    "        plt.xlim([0, N_ITERATIONS])\n",
    "        sns.despine(trim=True, offset=10)\n",
    "\n",
    "        plt.ylabel('-ELBO')\n",
    "        plt.xlabel('Iteration')\n",
    "        plt.title('in vitro ADVI convergence')\n",
    "        plt.tight_layout()\n",
    "\n",
    "    with pymc_model:\n",
    "        trace = approx.sample(1000)\n",
    "        ppc_vi = pm.sample_posterior_predictive(trace)\n",
    "    \n",
    "    return trace, ppc_vi"
   ]
  },
  {
   "cell_type": "code",
   "execution_count": 11,
   "metadata": {},
   "outputs": [
    {
     "data": {
      "text/html": [
       "\n",
       "<style>\n",
       "    /* Turns off some styling */\n",
       "    progress {\n",
       "        /* gets rid of default border in Firefox and Opera. */\n",
       "        border: none;\n",
       "        /* Needs to be in here for Safari polyfill so background images work as expected. */\n",
       "        background-size: auto;\n",
       "    }\n",
       "    progress:not([value]), progress:not([value])::-webkit-progress-bar {\n",
       "        background: repeating-linear-gradient(45deg, #7e7e7e, #7e7e7e 10px, #5c5c5c 10px, #5c5c5c 20px);\n",
       "    }\n",
       "    .progress-bar-interrupted, .progress-bar-interrupted::-webkit-progress-bar {\n",
       "        background: #F44336;\n",
       "    }\n",
       "</style>\n"
      ],
      "text/plain": [
       "<IPython.core.display.HTML object>"
      ]
     },
     "metadata": {},
     "output_type": "display_data"
    },
    {
     "data": {
      "text/html": [
       "\n",
       "    <div>\n",
       "      <progress value='150000' class='' max='150000' style='width:300px; height:20px; vertical-align: middle;'></progress>\n",
       "      100.00% [150000/150000 8:10:33&lt;00:00 Average Loss = 19,271]\n",
       "    </div>\n",
       "    "
      ],
      "text/plain": [
       "<IPython.core.display.HTML object>"
      ]
     },
     "metadata": {},
     "output_type": "display_data"
    },
    {
     "name": "stderr",
     "output_type": "stream",
     "text": [
      "Finished [100%]: Average Loss = 19,270\n",
      "Sampling: [chi_obs, v_hat_obs]\n"
     ]
    },
    {
     "data": {
      "text/html": [
       "\n",
       "<style>\n",
       "    /* Turns off some styling */\n",
       "    progress {\n",
       "        /* gets rid of default border in Firefox and Opera. */\n",
       "        border: none;\n",
       "        /* Needs to be in here for Safari polyfill so background images work as expected. */\n",
       "        background-size: auto;\n",
       "    }\n",
       "    progress:not([value]), progress:not([value])::-webkit-progress-bar {\n",
       "        background: repeating-linear-gradient(45deg, #7e7e7e, #7e7e7e 10px, #5c5c5c 10px, #5c5c5c 20px);\n",
       "    }\n",
       "    .progress-bar-interrupted, .progress-bar-interrupted::-webkit-progress-bar {\n",
       "        background: #F44336;\n",
       "    }\n",
       "</style>\n"
      ],
      "text/plain": [
       "<IPython.core.display.HTML object>"
      ]
     },
     "metadata": {},
     "output_type": "display_data"
    },
    {
     "data": {
      "text/html": [
       "\n",
       "    <div>\n",
       "      <progress value='1000' class='' max='1000' style='width:300px; height:20px; vertical-align: middle;'></progress>\n",
       "      100.00% [1000/1000 00:51&lt;00:00]\n",
       "    </div>\n",
       "    "
      ],
      "text/plain": [
       "<IPython.core.display.HTML object>"
      ]
     },
     "metadata": {},
     "output_type": "display_data"
    },
    {
     "data": {
      "text/html": [
       "\n",
       "<style>\n",
       "    /* Turns off some styling */\n",
       "    progress {\n",
       "        /* gets rid of default border in Firefox and Opera. */\n",
       "        border: none;\n",
       "        /* Needs to be in here for Safari polyfill so background images work as expected. */\n",
       "        background-size: auto;\n",
       "    }\n",
       "    progress:not([value]), progress:not([value])::-webkit-progress-bar {\n",
       "        background: repeating-linear-gradient(45deg, #7e7e7e, #7e7e7e 10px, #5c5c5c 10px, #5c5c5c 20px);\n",
       "    }\n",
       "    .progress-bar-interrupted, .progress-bar-interrupted::-webkit-progress-bar {\n",
       "        background: #F44336;\n",
       "    }\n",
       "</style>\n"
      ],
      "text/plain": [
       "<IPython.core.display.HTML object>"
      ]
     },
     "metadata": {},
     "output_type": "display_data"
    },
    {
     "data": {
      "text/html": [
       "\n",
       "    <div>\n",
       "      <progress value='150000' class='' max='150000' style='width:300px; height:20px; vertical-align: middle;'></progress>\n",
       "      100.00% [150000/150000 11:23:38&lt;00:00 Average Loss = -3,743.8]\n",
       "    </div>\n",
       "    "
      ],
      "text/plain": [
       "<IPython.core.display.HTML object>"
      ]
     },
     "metadata": {},
     "output_type": "display_data"
    },
    {
     "name": "stderr",
     "output_type": "stream",
     "text": [
      "Finished [100%]: Average Loss = -3,743.8\n",
      "Sampling: [chi_obs, v_hat_obs]\n"
     ]
    },
    {
     "data": {
      "text/html": [
       "\n",
       "<style>\n",
       "    /* Turns off some styling */\n",
       "    progress {\n",
       "        /* gets rid of default border in Firefox and Opera. */\n",
       "        border: none;\n",
       "        /* Needs to be in here for Safari polyfill so background images work as expected. */\n",
       "        background-size: auto;\n",
       "    }\n",
       "    progress:not([value]), progress:not([value])::-webkit-progress-bar {\n",
       "        background: repeating-linear-gradient(45deg, #7e7e7e, #7e7e7e 10px, #5c5c5c 10px, #5c5c5c 20px);\n",
       "    }\n",
       "    .progress-bar-interrupted, .progress-bar-interrupted::-webkit-progress-bar {\n",
       "        background: #F44336;\n",
       "    }\n",
       "</style>\n"
      ],
      "text/plain": [
       "<IPython.core.display.HTML object>"
      ]
     },
     "metadata": {},
     "output_type": "display_data"
    },
    {
     "data": {
      "text/html": [
       "\n",
       "    <div>\n",
       "      <progress value='1000' class='' max='1000' style='width:300px; height:20px; vertical-align: middle;'></progress>\n",
       "      100.00% [1000/1000 01:10&lt;00:00]\n",
       "    </div>\n",
       "    "
      ],
      "text/plain": [
       "<IPython.core.display.HTML object>"
      ]
     },
     "metadata": {},
     "output_type": "display_data"
    },
    {
     "data": {
      "image/png": "[encoded data removed]",
      "text/plain": [
       "<Figure size 500x400 with 1 Axes>"
      ]
     },
     "metadata": {},
     "output_type": "display_data"
    },
    {
     "data": {
      "image/png": "[encoded data removed]",
      "text/plain": [
       "<Figure size 500x400 with 1 Axes>"
      ]
     },
     "metadata": {},
     "output_type": "display_data"
    }
   ],
   "source": [
    "trace05, ppc05 = run_ADVI(BMCA_obj05)\n",
    "trace15, ppc15 = run_ADVI(BMCA_obj15)"
   ]
  },
  {
   "cell_type": "code",
   "execution_count": 12,
   "metadata": {},
   "outputs": [],
   "source": [
    "with gzip.open(\"topologyC_emll_traces_ppc.pgz\", \"wb\") as f:\n",
    "            cloudpickle.dump(\n",
    "                {\n",
    "                \"ppc05\":ppc05,\n",
    "                \"ppc15\":ppc15,\n",
    "                \"trace05\":trace05,\n",
    "                \"trace15\":trace15,\n",
    "                },\n",
    "                f,\n",
    "            )"
   ]
  },
  {
   "cell_type": "markdown",
   "metadata": {},
   "source": [
    "## Analysis"
   ]
  },
  {
   "cell_type": "code",
   "execution_count": 21,
   "metadata": {},
   "outputs": [],
   "source": [
    "# note: you cannot load pickled traces that use different pandas versions, \n",
    "# i.e. pickled traces made in one conda env may not be openable in another\n",
    "\n",
    "picklefolder = '../../data/results/tracePickles/'\n",
    "with gzip.open(picklefolder + 'topologyC_emll_traces_ppc.pgz', \"rb\") as f:\n",
    "    traces = cloudpickle.load(f, encoding='bytes')"
   ]
  },
  {
   "cell_type": "code",
   "execution_count": 22,
   "metadata": {},
   "outputs": [],
   "source": [
    "trace05=traces['trace05']\n",
    "trace15=traces['trace15']\n"
   ]
  },
  {
   "cell_type": "markdown",
   "metadata": {},
   "source": [
    "#### Known flux and metabolite concentrations check"
   ]
  },
  {
   "cell_type": "code",
   "execution_count": 30,
   "metadata": {},
   "outputs": [
    {
     "data": {
      "text/plain": [
       "<matplotlib.collections.PathCollection at 0x1c8c79cab10>"
      ]
     },
     "execution_count": 30,
     "metadata": {},
     "output_type": "execute_result"
    },
    {
     "data": {
      "image/png": "[encoded data removed]",
      "text/plain": [
       "<Figure size 640x480 with 2 Axes>"
      ]
     },
     "metadata": {},
     "output_type": "display_data"
    }
   ],
   "source": [
    "# Create two subplots and unpack the output array immediately\n",
    "f, (ax1, ax2) = plt.subplots(1, 2, sharey=True)\n",
    "\n",
    "ax1.set_aspect('equal', 'datalim')\n",
    "ax1.scatter(BMCA_obj05.vn.values, trace05['observed_data']['v_hat_obs'])\n",
    "ax1.set_title('Sharing Y axis')\n",
    "\n",
    "ax2.set_aspect('equal', 'datalim')\n",
    "ax2.scatter(BMCA_obj05.xn.values, trace05['observed_data']['chi_obs'])"
   ]
  },
  {
   "cell_type": "markdown",
   "metadata": {},
   "source": [
    "#### Elasticity check"
   ]
  },
  {
   "cell_type": "code",
   "execution_count": 23,
   "metadata": {},
   "outputs": [
    {
     "name": "stderr",
     "output_type": "stream",
     "text": [
      "arviz - WARNING - Shape validation failed: input_shape: (1, 1000), minimum_shape: (chains=2, draws=4)\n",
      "arviz - WARNING - Shape validation failed: input_shape: (1, 1000), minimum_shape: (chains=2, draws=4)\n"
     ]
    }
   ],
   "source": [
    "Ex05_advi = util_pytensor.get_az_summary(trace05)\n",
    "Ex15_advi = util_pytensor.get_az_summary(trace15)"
   ]
  },
  {
   "cell_type": "code",
   "execution_count": 14,
   "metadata": {},
   "outputs": [],
   "source": [
    "elasticity_values = np.column_stack([r.getScaledElasticityMatrix().flatten(),\n",
    "                                Ex05_advi, Ex15_advi])\n",
    "\n",
    "elasticities_df = pd.DataFrame(elasticity_values, columns=['gt']+pt_labels,\n",
    "                               index=[i + '_' + ii for i in r.getReactionIds() for ii in r.getFloatingSpeciesIds()])\n",
    "# elasticities_df.to_csv('topologyA_allData_elasticities.csv')"
   ]
  },
  {
   "cell_type": "code",
   "execution_count": 15,
   "metadata": {},
   "outputs": [],
   "source": [
    "e_slopes = [round(util.calculate_slope(elasticities_df['gt'], elasticities_df[i])[0],3) for i in pt_labels]\n",
    "e_intercepts = [round(util.calculate_slope(elasticities_df['gt'], elasticities_df[i])[1],3) for i in pt_labels]\n",
    "e_r2s = [round(util.calculate_slope(elasticities_df['gt'], elasticities_df[i])[2],3) for i in pt_labels]"
   ]
  },
  {
   "cell_type": "code",
   "execution_count": 57,
   "metadata": {},
   "outputs": [
    {
     "data": {
      "image/png": "[encoded data removed]",
      "text/plain": [
       "<Figure size 640x480 with 1 Axes>"
      ]
     },
     "metadata": {},
     "output_type": "display_data"
    }
   ],
   "source": [
    "plt.axes().set_aspect('equal', 'datalim')\n",
    "\n",
    "plt.scatter(elasticities_df['gt'], elasticities_df['0.5x'], alpha=0.4, label='0.5x', zorder=10)\n",
    "plt.scatter(elasticities_df['gt'], elasticities_df['1.5x'], alpha=0.4, label='1.5x')\n",
    "\n",
    "plt.axline([0, 0], [1, 1], c='gray', linestyle='dashed', zorder=1, linewidth=3)\n",
    "plt.grid(True, which='both', axis='both', zorder=0)\n",
    "plt.xlabel('ground truth elasticity values', size=14)\n",
    "plt.ylabel('predicted elasticity values, $\\it{r}$', size=14)\n",
    "# plt.title('Parity plot of elasticity values for various \\nenzyme perturbation strengths—CRISPRi', size=20)\n",
    "plt.title('allData noReg CRISPRi', size=20)\n",
    "plt.legend(bbox_to_anchor=(1.04, 1), loc=\"upper left\")\n",
    "\n",
    "left_adjust = 2020\n",
    "line_spacing = 150\n",
    "slope_start = 500\n",
    "r2_start = slope_start-(7*line_spacing)\n",
    "\n",
    "plt.text(left_adjust, slope_start, \"slopes\")\n",
    "for i, label in enumerate(pt_labels[0:5]):\n",
    "    plt.text(left_adjust, (slope_start-line_spacing)-(i*line_spacing), f'{label}: {e_slopes[i]}')\n",
    "\n",
    "plt.text(left_adjust, r2_start, 'R-squared')\n",
    "for i, label in enumerate(pt_labels[0:5]):\n",
    "    plt.text(left_adjust, (r2_start-line_spacing)-(i*line_spacing), f'{label}: {e_r2s[i]}')\n",
    "\n",
    "colors = ['tab:blue', 'tab:orange', 'tab:green', 'tab:red', 'tab:purple']\n",
    "for i in range(2):\n",
    "    plt.axline((0, e_intercepts[i]), slope=e_slopes[i], linestyle='--', alpha=0.6, color=colors[i], zorder=0)"
   ]
  },
  {
   "cell_type": "code",
   "execution_count": 20,
   "metadata": {},
   "outputs": [
    {
     "data": {
      "image/png": "[encoded data removed]",
      "text/plain": [
       "<Figure size 640x480 with 1 Axes>"
      ]
     },
     "metadata": {},
     "output_type": "display_data"
    }
   ],
   "source": [
    "# plt.axes().set_aspect('equal', 'datalim')\n",
    "\n",
    "plt.ylim(-10,10)\n",
    "plt.xlim(-10,10)\n",
    "\n",
    "plt.scatter(elasticities_df['gt'], elasticities_df['0.5x'], alpha=0.4, label='0.5x', zorder=10)\n",
    "plt.scatter(elasticities_df['gt'], elasticities_df['1.5x'], alpha=0.4, label='1.5x')\n",
    "\n",
    "plt.axline([0, 0], [1, 1], c='gray', linestyle='dashed', zorder=1, linewidth=3)\n",
    "plt.grid(True, which='both', axis='both', zorder=0)\n",
    "plt.xlabel('ground truth elasticity values', size=14)\n",
    "plt.ylabel('predicted elasticity values, $\\it{r}$', size=14)\n",
    "# plt.title('Parity plot of elasticity values for various \\nenzyme perturbation strengths—CRISPRi', size=20)\n",
    "plt.title('allData noReg CRISPRi', size=20)\n",
    "plt.legend(bbox_to_anchor=(1.04, 1), loc=\"upper left\")\n",
    "\n",
    "left_adjust = 11\n",
    "line_spacing = 0.8\n",
    "slope_start = 0.5\n",
    "r2_start = slope_start-(7*line_spacing)\n",
    "\n",
    "plt.text(left_adjust, slope_start, \"slopes\")\n",
    "for i, label in enumerate(pt_labels[0:5]):\n",
    "    plt.text(left_adjust, (slope_start-line_spacing)-(i*line_spacing), f'{label}: {e_slopes[i]}')\n",
    "\n",
    "plt.text(left_adjust, r2_start, 'R-squared')\n",
    "for i, label in enumerate(pt_labels[0:5]):\n",
    "    plt.text(left_adjust, (r2_start-line_spacing)-(i*line_spacing), f'{label}: {e_r2s[i]}')\n",
    "\n",
    "colors = ['tab:blue', 'tab:orange', 'tab:green', 'tab:red', 'tab:purple']\n",
    "for i in range(2):\n",
    "    plt.axline((0, e_intercepts[i]), slope=e_slopes[i], linestyle='--', alpha=0.6, color=colors[i], zorder=0)\n"
   ]
  },
  {
   "cell_type": "code",
   "execution_count": 21,
   "metadata": {},
   "outputs": [],
   "source": [
    "# print out MAE for each perturbation strength\n",
    "MAE = abs(elasticities_df.sub(elasticities_df['gt'], axis=0)).sum()\n",
    "# MAE.to_csv('topologyC_allData_MAE.csv')"
   ]
  },
  {
   "cell_type": "code",
   "execution_count": 22,
   "metadata": {},
   "outputs": [
    {
     "data": {
      "text/plain": [
       "gt          0.000000\n",
       "0.5x    13121.751337\n",
       "1.5x    12933.586239\n",
       "dtype: float64"
      ]
     },
     "execution_count": 22,
     "metadata": {},
     "output_type": "execute_result"
    }
   ],
   "source": [
    "MAE"
   ]
  },
  {
   "cell_type": "markdown",
   "metadata": {},
   "source": [
    "## Calculating FCCs"
   ]
  },
  {
   "cell_type": "code",
   "execution_count": 24,
   "metadata": {},
   "outputs": [],
   "source": [
    "gtFCC = pd.DataFrame(r.getScaledFluxControlCoefficientMatrix(), index=r.getReactionIds(), columns=r.getReactionIds())"
   ]
  },
  {
   "cell_type": "code",
   "execution_count": 25,
   "metadata": {},
   "outputs": [],
   "source": [
    "def estimate_CCs(BMCA_obj, Ex):\n",
    "    BMCA_obj.vn[BMCA_obj.vn == 0] = 1e-6\n",
    "    \n",
    "    a = np.diag(BMCA_obj.en.values / BMCA_obj.vn.values)\n",
    "    a = np.diag(a)\n",
    "    a = a[np.newaxis,:].repeat(1000, axis=0)\n",
    "\n",
    "    Ex_ss = a @ Ex\n",
    "    As = BMCA_obj.N @ np.diag(BMCA_obj.v_star) @ Ex_ss\n",
    "    bs = BMCA_obj.N @ np.diag(BMCA_obj.v_star)\n",
    "    bs = bs[np.newaxis, :].repeat(1000, axis=0)\n",
    "    \n",
    "    As = at.as_tensor_variable(As)\n",
    "    bs = at.as_tensor_variable(bs)\n",
    "\n",
    "    def solve_aesara(A, b):\n",
    "        rsolve_op = LeastSquaresSolve()\n",
    "        return rsolve_op(A, b).squeeze()\n",
    "\n",
    "    CCC, _ = pytensor.scan(lambda A, b: solve_aesara(A, b),\n",
    "                        sequences=[As, bs], strict=True)\n",
    "\n",
    "    identity = np.eye(len(BMCA_obj.N.T))\n",
    "    identity = identity[np.newaxis,:].repeat(1000, axis=0)\n",
    "    \n",
    "    FCC = (Ex_ss @ CCC.eval()) + identity\n",
    "    \n",
    "    # return CCC.eval(), FCC\n",
    "    return FCC\n"
   ]
  },
  {
   "cell_type": "markdown",
   "metadata": {},
   "source": [
    "## Negative predictions"
   ]
  },
  {
   "cell_type": "code",
   "execution_count": 26,
   "metadata": {},
   "outputs": [
    {
     "name": "stderr",
     "output_type": "stream",
     "text": [
      "arviz - WARNING - Shape validation failed: input_shape: (1, 500), minimum_shape: (chains=2, draws=4)\n",
      "arviz - WARNING - Shape validation failed: input_shape: (1, 500), minimum_shape: (chains=2, draws=4)\n"
     ]
    }
   ],
   "source": [
    "Ex05_prior = util_pytensor.get_az_summary(prior05['prior']['Ex'])\n",
    "Ex15_prior = util_pytensor.get_az_summary(prior15['prior']['Ex'])\n"
   ]
  },
  {
   "cell_type": "code",
   "execution_count": 27,
   "metadata": {},
   "outputs": [],
   "source": [
    "priorFCC05 = estimate_CCs(BMCA_obj05, Ex05_prior.reshape((68,-1)))\n",
    "priorFCC15 = estimate_CCs(BMCA_obj15, Ex15_prior.reshape((68,-1)))\n",
    "\n",
    "postFCC05 = estimate_CCs(BMCA_obj05, Ex05_advi.reshape((68,-1)))\n",
    "postFCC15 = estimate_CCs(BMCA_obj15, Ex15_advi.reshape((68,-1)))"
   ]
  },
  {
   "cell_type": "code",
   "execution_count": 28,
   "metadata": {},
   "outputs": [],
   "source": [
    "prior_FCCs = [priorFCC05, priorFCC15]\n",
    "post_FCCs = [postFCC05, postFCC15]\n"
   ]
  },
  {
   "cell_type": "code",
   "execution_count": 32,
   "metadata": {},
   "outputs": [],
   "source": [
    "def append_FCC_df(postFCC, label):\n",
    "    dfs=[]\n",
    "    \n",
    "    for idx, rxn in enumerate(r.getReactionIds()):\n",
    "        # negativity applied here\n",
    "        df = -pd.DataFrame(postFCC[:,idx,:], columns=r.getReactionIds())\n",
    "        df['pt_rxn']=[rxn]*len(df)\n",
    "        dfs.append(df)\n",
    "    \n",
    "    w = pd.concat(dfs)\n",
    "    w['pt_str']=[label]*len(w)\n",
    "    return w\n",
    "\n",
    "prd_priorFCCs = pd.concat([append_FCC_df(prior_FCCs[i], pt_labels[i]) for i in range(len(rxn_FCCs))])\n",
    "prd_postFCCs = pd.concat([append_FCC_df(post_FCCs[i], pt_labels[i]) for i in range(len(rxn_FCCs))])"
   ]
  },
  {
   "cell_type": "code",
   "execution_count": 33,
   "metadata": {},
   "outputs": [
    {
     "data": {
      "text/html": [
       "<div>\n",
       "<style scoped>\n",
       "    .dataframe tbody tr th:only-of-type {\n",
       "        vertical-align: middle;\n",
       "    }\n",
       "\n",
       "    .dataframe tbody tr th {\n",
       "        vertical-align: top;\n",
       "    }\n",
       "\n",
       "    .dataframe thead th {\n",
       "        text-align: right;\n",
       "    }\n",
       "</style>\n",
       "<table border=\"1\" class=\"dataframe\">\n",
       "  <thead>\n",
       "    <tr style=\"text-align: right;\">\n",
       "      <th></th>\n",
       "      <th></th>\n",
       "      <th>vPGI</th>\n",
       "      <th>vPFK</th>\n",
       "      <th>vFBA</th>\n",
       "      <th>vTPI</th>\n",
       "      <th>vGDH</th>\n",
       "      <th>vPGK</th>\n",
       "      <th>vGPM</th>\n",
       "      <th>vENO</th>\n",
       "      <th>vPYK</th>\n",
       "      <th>vZWF</th>\n",
       "      <th>...</th>\n",
       "      <th>vNDHII</th>\n",
       "      <th>vGROWTH</th>\n",
       "      <th>vATP_MAINTENANCE</th>\n",
       "      <th>vXCH_GLC</th>\n",
       "      <th>vPIT</th>\n",
       "      <th>vXCH_P</th>\n",
       "      <th>vXCH_ACE1</th>\n",
       "      <th>v_ACE_OUT</th>\n",
       "      <th>vXCH_ACE2</th>\n",
       "      <th>vGL6P_HYDROLYSIS</th>\n",
       "    </tr>\n",
       "    <tr>\n",
       "      <th>pt_rxn</th>\n",
       "      <th>pt_str</th>\n",
       "      <th></th>\n",
       "      <th></th>\n",
       "      <th></th>\n",
       "      <th></th>\n",
       "      <th></th>\n",
       "      <th></th>\n",
       "      <th></th>\n",
       "      <th></th>\n",
       "      <th></th>\n",
       "      <th></th>\n",
       "      <th></th>\n",
       "      <th></th>\n",
       "      <th></th>\n",
       "      <th></th>\n",
       "      <th></th>\n",
       "      <th></th>\n",
       "      <th></th>\n",
       "      <th></th>\n",
       "      <th></th>\n",
       "      <th></th>\n",
       "      <th></th>\n",
       "    </tr>\n",
       "  </thead>\n",
       "  <tbody>\n",
       "    <tr>\n",
       "      <th>vPGI</th>\n",
       "      <th>0.5x</th>\n",
       "      <td>-1.968820</td>\n",
       "      <td>0.033067</td>\n",
       "      <td>0.031088</td>\n",
       "      <td>0.029251</td>\n",
       "      <td>0.044486</td>\n",
       "      <td>0.030443</td>\n",
       "      <td>0.023929</td>\n",
       "      <td>0.029408</td>\n",
       "      <td>0.024537</td>\n",
       "      <td>0.001870</td>\n",
       "      <td>...</td>\n",
       "      <td>0.047380</td>\n",
       "      <td>0.015540</td>\n",
       "      <td>0.028515</td>\n",
       "      <td>0.022129</td>\n",
       "      <td>0.039210</td>\n",
       "      <td>0.034182</td>\n",
       "      <td>0.000992</td>\n",
       "      <td>-0.000203</td>\n",
       "      <td>-0.000788</td>\n",
       "      <td>4.042817e-10</td>\n",
       "    </tr>\n",
       "    <tr>\n",
       "      <th>vPFK</th>\n",
       "      <th>0.5x</th>\n",
       "      <td>0.021455</td>\n",
       "      <td>-1.969175</td>\n",
       "      <td>0.026992</td>\n",
       "      <td>0.025475</td>\n",
       "      <td>0.042002</td>\n",
       "      <td>0.029051</td>\n",
       "      <td>0.021475</td>\n",
       "      <td>0.027032</td>\n",
       "      <td>0.022766</td>\n",
       "      <td>0.003431</td>\n",
       "      <td>...</td>\n",
       "      <td>0.043863</td>\n",
       "      <td>0.015600</td>\n",
       "      <td>0.026464</td>\n",
       "      <td>0.020369</td>\n",
       "      <td>0.036937</td>\n",
       "      <td>0.032040</td>\n",
       "      <td>0.001137</td>\n",
       "      <td>-0.000393</td>\n",
       "      <td>-0.000743</td>\n",
       "      <td>2.219006e-09</td>\n",
       "    </tr>\n",
       "    <tr>\n",
       "      <th>vFBA</th>\n",
       "      <th>0.5x</th>\n",
       "      <td>0.021610</td>\n",
       "      <td>0.030675</td>\n",
       "      <td>-1.972692</td>\n",
       "      <td>0.025556</td>\n",
       "      <td>0.041913</td>\n",
       "      <td>0.028996</td>\n",
       "      <td>0.021456</td>\n",
       "      <td>0.027057</td>\n",
       "      <td>0.022815</td>\n",
       "      <td>0.003412</td>\n",
       "      <td>...</td>\n",
       "      <td>0.043826</td>\n",
       "      <td>0.015629</td>\n",
       "      <td>0.026444</td>\n",
       "      <td>0.020380</td>\n",
       "      <td>0.037188</td>\n",
       "      <td>0.032200</td>\n",
       "      <td>0.001101</td>\n",
       "      <td>-0.000372</td>\n",
       "      <td>-0.000727</td>\n",
       "      <td>2.212497e-09</td>\n",
       "    </tr>\n",
       "    <tr>\n",
       "      <th>vTPI</th>\n",
       "      <th>0.5x</th>\n",
       "      <td>0.021610</td>\n",
       "      <td>0.030675</td>\n",
       "      <td>0.027308</td>\n",
       "      <td>-1.974444</td>\n",
       "      <td>0.041913</td>\n",
       "      <td>0.028996</td>\n",
       "      <td>0.021456</td>\n",
       "      <td>0.027057</td>\n",
       "      <td>0.022815</td>\n",
       "      <td>0.003412</td>\n",
       "      <td>...</td>\n",
       "      <td>0.043826</td>\n",
       "      <td>0.015629</td>\n",
       "      <td>0.026444</td>\n",
       "      <td>0.020380</td>\n",
       "      <td>0.037188</td>\n",
       "      <td>0.032200</td>\n",
       "      <td>0.001101</td>\n",
       "      <td>-0.000372</td>\n",
       "      <td>-0.000727</td>\n",
       "      <td>2.212497e-09</td>\n",
       "    </tr>\n",
       "    <tr>\n",
       "      <th>vGDH</th>\n",
       "      <th>0.5x</th>\n",
       "      <td>0.017458</td>\n",
       "      <td>0.026476</td>\n",
       "      <td>0.020792</td>\n",
       "      <td>0.019139</td>\n",
       "      <td>-1.958495</td>\n",
       "      <td>0.027946</td>\n",
       "      <td>0.018385</td>\n",
       "      <td>0.024256</td>\n",
       "      <td>0.017608</td>\n",
       "      <td>0.005783</td>\n",
       "      <td>...</td>\n",
       "      <td>0.042439</td>\n",
       "      <td>0.017499</td>\n",
       "      <td>0.024742</td>\n",
       "      <td>0.019634</td>\n",
       "      <td>0.037419</td>\n",
       "      <td>0.031971</td>\n",
       "      <td>0.000947</td>\n",
       "      <td>-0.000279</td>\n",
       "      <td>-0.000667</td>\n",
       "      <td>4.298170e-09</td>\n",
       "    </tr>\n",
       "  </tbody>\n",
       "</table>\n",
       "<p>5 rows × 68 columns</p>\n",
       "</div>"
      ],
      "text/plain": [
       "                   vPGI      vPFK      vFBA      vTPI      vGDH      vPGK  \\\n",
       "pt_rxn pt_str                                                               \n",
       "vPGI   0.5x   -1.968820  0.033067  0.031088  0.029251  0.044486  0.030443   \n",
       "vPFK   0.5x    0.021455 -1.969175  0.026992  0.025475  0.042002  0.029051   \n",
       "vFBA   0.5x    0.021610  0.030675 -1.972692  0.025556  0.041913  0.028996   \n",
       "vTPI   0.5x    0.021610  0.030675  0.027308 -1.974444  0.041913  0.028996   \n",
       "vGDH   0.5x    0.017458  0.026476  0.020792  0.019139 -1.958495  0.027946   \n",
       "\n",
       "                   vGPM      vENO      vPYK      vZWF  ...    vNDHII  \\\n",
       "pt_rxn pt_str                                          ...             \n",
       "vPGI   0.5x    0.023929  0.029408  0.024537  0.001870  ...  0.047380   \n",
       "vPFK   0.5x    0.021475  0.027032  0.022766  0.003431  ...  0.043863   \n",
       "vFBA   0.5x    0.021456  0.027057  0.022815  0.003412  ...  0.043826   \n",
       "vTPI   0.5x    0.021456  0.027057  0.022815  0.003412  ...  0.043826   \n",
       "vGDH   0.5x    0.018385  0.024256  0.017608  0.005783  ...  0.042439   \n",
       "\n",
       "                vGROWTH  vATP_MAINTENANCE  vXCH_GLC      vPIT    vXCH_P  \\\n",
       "pt_rxn pt_str                                                             \n",
       "vPGI   0.5x    0.015540          0.028515  0.022129  0.039210  0.034182   \n",
       "vPFK   0.5x    0.015600          0.026464  0.020369  0.036937  0.032040   \n",
       "vFBA   0.5x    0.015629          0.026444  0.020380  0.037188  0.032200   \n",
       "vTPI   0.5x    0.015629          0.026444  0.020380  0.037188  0.032200   \n",
       "vGDH   0.5x    0.017499          0.024742  0.019634  0.037419  0.031971   \n",
       "\n",
       "               vXCH_ACE1  v_ACE_OUT  vXCH_ACE2  vGL6P_HYDROLYSIS  \n",
       "pt_rxn pt_str                                                     \n",
       "vPGI   0.5x     0.000992  -0.000203  -0.000788      4.042817e-10  \n",
       "vPFK   0.5x     0.001137  -0.000393  -0.000743      2.219006e-09  \n",
       "vFBA   0.5x     0.001101  -0.000372  -0.000727      2.212497e-09  \n",
       "vTPI   0.5x     0.001101  -0.000372  -0.000727      2.212497e-09  \n",
       "vGDH   0.5x     0.000947  -0.000279  -0.000667      4.298170e-09  \n",
       "\n",
       "[5 rows x 68 columns]"
      ]
     },
     "execution_count": 33,
     "metadata": {},
     "output_type": "execute_result"
    }
   ],
   "source": [
    "medPrdFCCs = pd.pivot_table(prd_FCCs, index=['pt_rxn','pt_str'], aggfunc='median', sort=False)\n",
    "medPrdFCCs.head()"
   ]
  },
  {
   "cell_type": "markdown",
   "metadata": {},
   "source": [
    "## Evaluating FCC ranking"
   ]
  },
  {
   "cell_type": "code",
   "execution_count": 29,
   "metadata": {},
   "outputs": [],
   "source": [
    "gtFCC=pd.DataFrame(r.getScaledFluxControlCoefficientMatrix(), columns=r.getReactionIds(), index=r.getReactionIds()).abs()\n",
    "m1 = gtFCC.index.values[:, None] == gtFCC.columns.values\n",
    "gtFCC = pd.DataFrame(np.select([m1], [float('Nan')], gtFCC), columns=gtFCC.columns, index=gtFCC.index)\n",
    "gtFCC_rankings= gtFCC.rank(axis=1, ascending=False, na_option='keep')\n",
    "\n",
    "a = gtFCC_rankings.loc['v_ACE_OUT']"
   ]
  },
  {
   "cell_type": "code",
   "execution_count": 30,
   "metadata": {},
   "outputs": [],
   "source": [
    "def calculate_FCC_med_rankings(postFCC, reaction='v_ACE_OUT'):\n",
    "    postFCC_med=pd.DataFrame(np.median(postFCC, axis=0), columns=r.getReactionIds(), index=r.getReactionIds()).abs()\n",
    "    m1 = postFCC_med.index.values[:, None] == postFCC_med.columns.values\n",
    "    postFCC = pd.DataFrame(np.select([m1], [float('Nan')], postFCC_med), columns=postFCC_med.columns, index=postFCC_med.index)\n",
    "    postFCC_rankings= postFCC.rank(axis=1, ascending=False, na_option='keep')\n",
    "    \n",
    "    return postFCC_rankings.loc[reaction]\n",
    "    "
   ]
  },
  {
   "cell_type": "markdown",
   "metadata": {},
   "source": [
    "### via Spearman rank coefficients"
   ]
  },
  {
   "cell_type": "code",
   "execution_count": 39,
   "metadata": {},
   "outputs": [],
   "source": [
    "from scipy.stats import spearmanr\n",
    "\n",
    "def bootstrap_spearman(x, y, num_bootstrap=1000, alpha=0.05):\n",
    "    n = len(x)\n",
    "    corr_list = []\n",
    "\n",
    "    # Original Spearman correlation\n",
    "    corr_original, p_value = spearmanr(x, y)\n",
    "\n",
    "    for _ in range(num_bootstrap):\n",
    "        # Generate bootstrap samples\n",
    "        indices = np.random.randint(0, n, n)\n",
    "        x_bootstrap = [x[i] for i in indices]\n",
    "        y_bootstrap = [y[i] for i in indices]\n",
    "\n",
    "        # Calculate Spearman correlation for the bootstrap sample\n",
    "        corr, _ = spearmanr(x_bootstrap, y_bootstrap)\n",
    "        corr_list.append(corr)\n",
    "\n",
    "    # Convert to numpy array for convenience\n",
    "    corr_list = np.array(corr_list)\n",
    "    \n",
    "    # Calculate the confidence intervals\n",
    "    lower_bound = np.percentile(corr_list, (alpha/2) * 100)\n",
    "    upper_bound = np.percentile(corr_list, (1 - alpha/2) * 100)\n",
    "    \n",
    "    return corr_original, p_value, lower_bound, upper_bound"
   ]
  },
  {
   "cell_type": "code",
   "execution_count": 42,
   "metadata": {},
   "outputs": [
    {
     "name": "stderr",
     "output_type": "stream",
     "text": [
      "C:\\Users\\user\\AppData\\Local\\Temp\\ipykernel_28632\\249619954.py:13: FutureWarning:\n",
      "\n",
      "Series.__getitem__ treating keys as positions is deprecated. In a future version, integer keys will always be treated as labels (consistent with DataFrame behavior). To access a value by position, use `ser.iloc[pos]`\n",
      "\n",
      "C:\\Users\\user\\AppData\\Local\\Temp\\ipykernel_28632\\249619954.py:14: FutureWarning:\n",
      "\n",
      "Series.__getitem__ treating keys as positions is deprecated. In a future version, integer keys will always be treated as labels (consistent with DataFrame behavior). To access a value by position, use `ser.iloc[pos]`\n",
      "\n"
     ]
    }
   ],
   "source": [
    "spearman_coefficients = []\n",
    "p_values = []\n",
    "confidence_intervals = []\n",
    "b_list = []\n",
    "for FCC in rxn_FCCs:\n",
    "    b = calculate_FCC_med_rankings(FCC)\n",
    "    b_list.append(b)\n",
    "    spearman_r, p_value, lower_ci, upper_ci = bootstrap_spearman(a.dropna(), b.dropna())\n",
    "    spearman_coefficients.append(spearman_r)\n",
    "    p_values.append(p_value)\n",
    "    confidence_intervals.append((lower_ci, upper_ci))\n"
   ]
  },
  {
   "cell_type": "code",
   "execution_count": 43,
   "metadata": {},
   "outputs": [
    {
     "data": {
      "text/html": [
       "<div>\n",
       "<style scoped>\n",
       "    .dataframe tbody tr th:only-of-type {\n",
       "        vertical-align: middle;\n",
       "    }\n",
       "\n",
       "    .dataframe tbody tr th {\n",
       "        vertical-align: top;\n",
       "    }\n",
       "\n",
       "    .dataframe thead th {\n",
       "        text-align: right;\n",
       "    }\n",
       "</style>\n",
       "<table border=\"1\" class=\"dataframe\">\n",
       "  <thead>\n",
       "    <tr style=\"text-align: right;\">\n",
       "      <th></th>\n",
       "      <th>r</th>\n",
       "      <th>p-value</th>\n",
       "      <th>lower</th>\n",
       "      <th>upper</th>\n",
       "    </tr>\n",
       "  </thead>\n",
       "  <tbody>\n",
       "    <tr>\n",
       "      <th>0.5x</th>\n",
       "      <td>0.261433</td>\n",
       "      <td>0.03260</td>\n",
       "      <td>-0.007976</td>\n",
       "      <td>0.498054</td>\n",
       "    </tr>\n",
       "    <tr>\n",
       "      <th>1.5x</th>\n",
       "      <td>0.144864</td>\n",
       "      <td>0.24215</td>\n",
       "      <td>-0.139492</td>\n",
       "      <td>0.384847</td>\n",
       "    </tr>\n",
       "  </tbody>\n",
       "</table>\n",
       "</div>"
      ],
      "text/plain": [
       "             r  p-value     lower     upper\n",
       "0.5x  0.261433  0.03260 -0.007976  0.498054\n",
       "1.5x  0.144864  0.24215 -0.139492  0.384847"
      ]
     },
     "execution_count": 43,
     "metadata": {},
     "output_type": "execute_result"
    }
   ],
   "source": [
    "spearman_df = pd.DataFrame(spearman_coefficients, columns=['r'], index=pt_labels)\n",
    "spearman_df['p-value'] = p_values\n",
    "spearman_df['lower'] = [i[0] for i in confidence_intervals]\n",
    "spearman_df['upper'] = [i[1] for i in confidence_intervals]\n",
    "spearman_df"
   ]
  },
  {
   "cell_type": "code",
   "execution_count": 44,
   "metadata": {},
   "outputs": [],
   "source": [
    "spearman_df.to_csv('topologyC_emll_spr.csv')"
   ]
  },
  {
   "cell_type": "code",
   "execution_count": null,
   "metadata": {},
   "outputs": [],
   "source": [
    "plt.bar(pt_labels, [i[0] for i in spearman_coefficients], alpha=0.5, color='r')\n",
    "plt.grid()\n",
    "\n",
    "for i, txt in enumerate([i[1].round(3) for i in spearman_coefficients]):\n",
    "    plt.annotate(txt, (pt_labels[i], [i[0] for i in spearman_coefficients][i]), ha='center')\n",
    "\n",
    "plt.title(\"Spearman rank correlation coefficients by perturbation strength\")\n",
    "plt.xlabel('perturbation level')\n",
    "plt.ylabel('Spearman $\\it{r}$')\n",
    "plt.ylim((0, 1.05))"
   ]
  },
  {
   "cell_type": "markdown",
   "metadata": {},
   "source": [
    "### evaluating top 10 rankings"
   ]
  },
  {
   "cell_type": "code",
   "execution_count": 31,
   "metadata": {},
   "outputs": [],
   "source": [
    "pt_labels= ['0.5x-pr', '1.5x-pr', '0.5x-post', '1.5x-post']"
   ]
  },
  {
   "cell_type": "code",
   "execution_count": 32,
   "metadata": {},
   "outputs": [
    {
     "data": {
      "text/html": [
       "<div>\n",
       "<style scoped>\n",
       "    .dataframe tbody tr th:only-of-type {\n",
       "        vertical-align: middle;\n",
       "    }\n",
       "\n",
       "    .dataframe tbody tr th {\n",
       "        vertical-align: top;\n",
       "    }\n",
       "\n",
       "    .dataframe thead th {\n",
       "        text-align: right;\n",
       "    }\n",
       "</style>\n",
       "<table border=\"1\" class=\"dataframe\">\n",
       "  <thead>\n",
       "    <tr style=\"text-align: right;\">\n",
       "      <th></th>\n",
       "      <th>gt</th>\n",
       "      <th>0.5x-pr</th>\n",
       "      <th>1.5x-pr</th>\n",
       "      <th>0.5x-post</th>\n",
       "      <th>1.5x-post</th>\n",
       "    </tr>\n",
       "    <tr>\n",
       "      <th>v_ACE_OUT</th>\n",
       "      <th></th>\n",
       "      <th></th>\n",
       "      <th></th>\n",
       "      <th></th>\n",
       "      <th></th>\n",
       "    </tr>\n",
       "  </thead>\n",
       "  <tbody>\n",
       "    <tr>\n",
       "      <th>1.0</th>\n",
       "      <td>vACS</td>\n",
       "      <td>vATP_syn</td>\n",
       "      <td>vXCH_ACE2</td>\n",
       "      <td>vXCH_ACE1</td>\n",
       "      <td>vXCH_ACE2</td>\n",
       "    </tr>\n",
       "    <tr>\n",
       "      <th>2.0</th>\n",
       "      <td>vGLT</td>\n",
       "      <td>vPNT_req</td>\n",
       "      <td>vXCH_ACE1</td>\n",
       "      <td>vXCH_ACE2</td>\n",
       "      <td>vXCH_ACE1</td>\n",
       "    </tr>\n",
       "    <tr>\n",
       "      <th>3.0</th>\n",
       "      <td>vACK</td>\n",
       "      <td>vATP_MAINTENANCE</td>\n",
       "      <td>vCYTBO</td>\n",
       "      <td>vGDH</td>\n",
       "      <td>vGDH</td>\n",
       "    </tr>\n",
       "    <tr>\n",
       "      <th>4.0</th>\n",
       "      <td>vGLC_feed</td>\n",
       "      <td>vXCH_ACE1</td>\n",
       "      <td>vATP_syn</td>\n",
       "      <td>vGLT</td>\n",
       "      <td>vPFK</td>\n",
       "    </tr>\n",
       "    <tr>\n",
       "      <th>5.0</th>\n",
       "      <td>vATP_MAINTENANCE</td>\n",
       "      <td>vCYTBO</td>\n",
       "      <td>vACS</td>\n",
       "      <td>vFUMA</td>\n",
       "      <td>vACS</td>\n",
       "    </tr>\n",
       "    <tr>\n",
       "      <th>...</th>\n",
       "      <td>...</td>\n",
       "      <td>...</td>\n",
       "      <td>...</td>\n",
       "      <td>...</td>\n",
       "      <td>...</td>\n",
       "    </tr>\n",
       "    <tr>\n",
       "      <th>64.0</th>\n",
       "      <td>vGL6P_HYDROLYSIS</td>\n",
       "      <td>vEDA</td>\n",
       "      <td>vPCK</td>\n",
       "      <td>vPTS_3</td>\n",
       "      <td>vPTS_2</td>\n",
       "    </tr>\n",
       "    <tr>\n",
       "      <th>65.0</th>\n",
       "      <td>vPTS_4</td>\n",
       "      <td>vFBP</td>\n",
       "      <td>vPPS</td>\n",
       "      <td>vFBP</td>\n",
       "      <td>vFBP</td>\n",
       "    </tr>\n",
       "    <tr>\n",
       "      <th>66.0</th>\n",
       "      <td>vPTS_3</td>\n",
       "      <td>vPPS</td>\n",
       "      <td>vFBP</td>\n",
       "      <td>vPPS</td>\n",
       "      <td>vPPS</td>\n",
       "    </tr>\n",
       "    <tr>\n",
       "      <th>67.0</th>\n",
       "      <td>vXCH_GLC</td>\n",
       "      <td>vGL6P_HYDROLYSIS</td>\n",
       "      <td>vGL6P_HYDROLYSIS</td>\n",
       "      <td>vGL6P_HYDROLYSIS</td>\n",
       "      <td>vGL6P_HYDROLYSIS</td>\n",
       "    </tr>\n",
       "    <tr>\n",
       "      <th>NaN</th>\n",
       "      <td>v_ACE_OUT</td>\n",
       "      <td>v_ACE_OUT</td>\n",
       "      <td>v_ACE_OUT</td>\n",
       "      <td>v_ACE_OUT</td>\n",
       "      <td>v_ACE_OUT</td>\n",
       "    </tr>\n",
       "  </tbody>\n",
       "</table>\n",
       "<p>68 rows × 5 columns</p>\n",
       "</div>"
      ],
      "text/plain": [
       "                         gt           0.5x-pr           1.5x-pr  \\\n",
       "v_ACE_OUT                                                         \n",
       "1.0                    vACS          vATP_syn         vXCH_ACE2   \n",
       "2.0                    vGLT          vPNT_req         vXCH_ACE1   \n",
       "3.0                    vACK  vATP_MAINTENANCE            vCYTBO   \n",
       "4.0               vGLC_feed         vXCH_ACE1          vATP_syn   \n",
       "5.0        vATP_MAINTENANCE            vCYTBO              vACS   \n",
       "...                     ...               ...               ...   \n",
       "64.0       vGL6P_HYDROLYSIS              vEDA              vPCK   \n",
       "65.0                 vPTS_4              vFBP              vPPS   \n",
       "66.0                 vPTS_3              vPPS              vFBP   \n",
       "67.0               vXCH_GLC  vGL6P_HYDROLYSIS  vGL6P_HYDROLYSIS   \n",
       "NaN               v_ACE_OUT         v_ACE_OUT         v_ACE_OUT   \n",
       "\n",
       "                  0.5x-post         1.5x-post  \n",
       "v_ACE_OUT                                      \n",
       "1.0               vXCH_ACE1         vXCH_ACE2  \n",
       "2.0               vXCH_ACE2         vXCH_ACE1  \n",
       "3.0                    vGDH              vGDH  \n",
       "4.0                    vGLT              vPFK  \n",
       "5.0                   vFUMA              vACS  \n",
       "...                     ...               ...  \n",
       "64.0                 vPTS_3            vPTS_2  \n",
       "65.0                   vFBP              vFBP  \n",
       "66.0                   vPPS              vPPS  \n",
       "67.0       vGL6P_HYDROLYSIS  vGL6P_HYDROLYSIS  \n",
       "NaN               v_ACE_OUT         v_ACE_OUT  \n",
       "\n",
       "[68 rows x 5 columns]"
      ]
     },
     "execution_count": 32,
     "metadata": {},
     "output_type": "execute_result"
    }
   ],
   "source": [
    "b_list = []\n",
    "for FCC in prior_FCCs + post_FCCs:\n",
    "    b = calculate_FCC_med_rankings(FCC)\n",
    "    b_list.append(b)\n",
    "\n",
    "ranked_b_list = [b.sort_values().reset_index().set_index('v_ACE_OUT') for b in b_list]\n",
    "q = pd.concat(ranked_b_list, axis=1)\n",
    "q['gt'] = a.sort_values().reset_index().set_index('v_ACE_OUT')\n",
    "q.columns = pt_labels + ['gt']\n",
    "q = q[['gt'] + pt_labels]\n",
    "q"
   ]
  },
  {
   "cell_type": "code",
   "execution_count": 33,
   "metadata": {},
   "outputs": [],
   "source": [
    "q.to_csv('topologyC_allData-emll_rankings.csv')"
   ]
  },
  {
   "cell_type": "code",
   "execution_count": 34,
   "metadata": {},
   "outputs": [],
   "source": [
    "rank_df = pd.read_csv('topologyC_allData-emll_rankings.csv')"
   ]
  },
  {
   "cell_type": "code",
   "execution_count": 35,
   "metadata": {},
   "outputs": [
    {
     "data": {
      "text/html": [
       "<div>\n",
       "<style scoped>\n",
       "    .dataframe tbody tr th:only-of-type {\n",
       "        vertical-align: middle;\n",
       "    }\n",
       "\n",
       "    .dataframe tbody tr th {\n",
       "        vertical-align: top;\n",
       "    }\n",
       "\n",
       "    .dataframe thead th {\n",
       "        text-align: right;\n",
       "    }\n",
       "</style>\n",
       "<table border=\"1\" class=\"dataframe\">\n",
       "  <thead>\n",
       "    <tr style=\"text-align: right;\">\n",
       "      <th></th>\n",
       "      <th>0.5x-pr</th>\n",
       "      <th>1.5x-pr</th>\n",
       "      <th>0.5x-post</th>\n",
       "      <th>1.5x-post</th>\n",
       "    </tr>\n",
       "  </thead>\n",
       "  <tbody>\n",
       "    <tr>\n",
       "      <th>0</th>\n",
       "      <td>3</td>\n",
       "      <td>4</td>\n",
       "      <td>2</td>\n",
       "      <td>3</td>\n",
       "    </tr>\n",
       "  </tbody>\n",
       "</table>\n",
       "</div>"
      ],
      "text/plain": [
       "   0.5x-pr  1.5x-pr  0.5x-post  1.5x-post\n",
       "0        3        4          2          3"
      ]
     },
     "execution_count": 35,
     "metadata": {},
     "output_type": "execute_result"
    }
   ],
   "source": [
    "topTen_df = rank_df[rank_df['v_ACE_OUT'].isin([1,2,3,4,5,6,7,8,9,10])]\n",
    "\n",
    "gt_t10_set = set(list(topTen_df['gt']))\n",
    "\n",
    "t10_sets = []\n",
    "for pt in pt_labels: \n",
    "    t10_sets.append(set(list(topTen_df[pt])))\n",
    "\n",
    "t10_scores=[]\n",
    "for i in t10_sets: \n",
    "    t10_scores.append(len(set.intersection(gt_t10_set, i)))\n",
    "\n",
    "t10_results = pd.DataFrame((np.array(t10_scores)).reshape((len(pt_labels),-1)).T, \n",
    "             columns=pt_labels)\n",
    "t10_results"
   ]
  },
  {
   "cell_type": "code",
   "execution_count": 36,
   "metadata": {},
   "outputs": [
    {
     "name": "stdout",
     "output_type": "stream",
     "text": [
      "Index([22, 32, 40, 43, 58, 64, 66], dtype='int64')\n",
      "Index([22, 38, 40, 42, 43, 61], dtype='int64')\n",
      "Index([18, 26, 29, 42, 43, 48, 50, 57], dtype='int64')\n",
      "Index([18, 33, 42, 43, 44, 48, 49], dtype='int64')\n"
     ]
    }
   ],
   "source": [
    "# difference\n",
    "dif_list = []\n",
    "for i in t10_sets: \n",
    "    dif_list.append(i.difference(gt_t10_set))\n",
    "\n",
    "for i in dif_list: \n",
    "    print(rank_df['gt'].loc[lambda x: x.isin(i)].index)"
   ]
  }
 ],
 "metadata": {
  "kernelspec": {
   "display_name": "gayles",
   "language": "python",
   "name": "python3"
  },
  "language_info": {
   "codemirror_mode": {
    "name": "ipython",
    "version": 3
   },
   "file_extension": ".py",
   "mimetype": "text/x-python",
   "name": "python",
   "nbconvert_exporter": "python",
   "pygments_lexer": "ipython3",
   "version": "3.11.10"
  }
 },
 "nbformat": 4,
 "nbformat_minor": 2
}
