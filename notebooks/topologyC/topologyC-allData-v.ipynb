{
 "cells": [
  {
   "cell_type": "raw",
   "metadata": {
    "vscode": {
     "languageId": "raw"
    }
   },
   "source": [
    "te.__version__ # pytensor5 '2.2.4.1'\n",
    "te.__version__ # gayles '2.2.8'"
   ]
  },
  {
   "cell_type": "markdown",
   "metadata": {},
   "source": [
    "run this notebook with the `gayles` conda environment"
   ]
  },
  {
   "cell_type": "code",
   "execution_count": 2,
   "metadata": {},
   "outputs": [
    {
     "name": "stderr",
     "output_type": "stream",
     "text": [
      "WARNING (aesara.configdefaults): g++ not available, if using conda: `conda install m2w64-toolchain`\n",
      "WARNING (aesara.configdefaults): g++ not detected!  Aesara will be unable to compile C-implementations and will default to Python. Performance may be severely degraded. To remove this warning, set Aesara flags cxx to an empty string.\n",
      "WARNING (aesara.tensor.blas): Using NumPy C-API based implementation for BLAS functions.\n"
     ]
    }
   ],
   "source": [
    "import tellurium as te\n",
    "import pandas as pd\n",
    "import numpy as np\n",
    "\n",
    "import matplotlib.pyplot as plt\n",
    "import seaborn as sns\n",
    "import arviz as az\n",
    "\n",
    "import aesara.tensor as at\n",
    "import aesara\n",
    "floatX = aesara.config.floatX\n",
    "import pymc as pm\n",
    "import numpy as np\n",
    "\n",
    "import cobra\n",
    "import logging\n",
    "logging.getLogger(\"cobra\").setLevel(logging.ERROR)\n",
    "\n",
    "import os\n",
    "\n",
    "from scipy import stats\n",
    "import scipy as sp\n",
    "import math\n",
    "\n",
    "import cloudpickle\n",
    "import gzip"
   ]
  },
  {
   "cell_type": "code",
   "execution_count": 3,
   "metadata": {},
   "outputs": [],
   "source": [
    "os.chdir('../..')\n",
    "from src import antemll, util\n",
    "import emll\n",
    "from emll.aesara_utils import LeastSquaresSolve\n",
    "os.chdir('notebooks/topologyC')"
   ]
  },
  {
   "cell_type": "code",
   "execution_count": 4,
   "metadata": {},
   "outputs": [],
   "source": [
    "# generate enzyme perturbation data\n",
    "ant ='../../models/Antimony/TopologyC_1.ant'  \n",
    "util.generate_data(ant, [0.1, 0.2, 0.3, 0.4, 0.5, 1.5, 3, 5, 7, 10], '../../data/interim/generated_data/topologyC_1/')"
   ]
  },
  {
   "cell_type": "raw",
   "metadata": {
    "vscode": {
     "languageId": "raw"
    }
   },
   "source": [
    "util.ant_to_cobra(ant)\n",
    "with open('../../models/sbml/TopologyC_cobra.xml','w') as f:\n",
    "            f.write(te.loada('../../models/Antimony/TopologyC_cobra.ant').getCurrentSBML())"
   ]
  },
  {
   "cell_type": "code",
   "execution_count": 5,
   "metadata": {},
   "outputs": [
    {
     "data": {
      "text/plain": [
       "1.1827489929340788e-13"
      ]
     },
     "execution_count": 5,
     "metadata": {},
     "output_type": "execute_result"
    }
   ],
   "source": [
    "r = te.loada(ant)\n",
    "r.conservedMoietyAnalysis = True\n",
    "r.steadyState()"
   ]
  },
  {
   "cell_type": "code",
   "execution_count": 6,
   "metadata": {},
   "outputs": [],
   "source": [
    "pt_levels = [0.1, 0.2, 0.3, 0.4, 0.5, 1.5, 3, 5, 7, 10]\n",
    "pt_labels = ['0.1x', '0.2x', '0.3x', '0.4x', '0.5x', '1.5x', '3x', '5x', '7x', '10x']"
   ]
  },
  {
   "cell_type": "code",
   "execution_count": 7,
   "metadata": {},
   "outputs": [],
   "source": [
    "data_file01 = '../../data/interim/generated_data/topologyC_1/TopologyC_1_0.1.csv'\n",
    "data_file02 = '../../data/interim/generated_data/topologyC_1/TopologyC_1_0.2.csv'\n",
    "data_file03 = '../../data/interim/generated_data/topologyC_1/TopologyC_1_0.3.csv'\n",
    "data_file04 = '../../data/interim/generated_data/topologyC_1/TopologyC_1_0.4.csv'\n",
    "data_file05 = '../../data/interim/generated_data/topologyC_1/TopologyC_1_0.5.csv'\n",
    "\n",
    "data_file15 = '../../data/interim/generated_data/topologyC_1/TopologyC_1_1.5.csv'\n",
    "data_file3 = '../../data/interim/generated_data/topologyC_1/TopologyC_1_3.csv'\n",
    "data_file5 = '../../data/interim/generated_data/topologyC_1/TopologyC_1_5.csv'\n",
    "data_file7 = '../../data/interim/generated_data/topologyC_1/TopologyC_1_7.csv'\n",
    "data_file100 = '../../data/interim/generated_data/topologyC_1/TopologyC_1_10.csv'"
   ]
  },
  {
   "cell_type": "code",
   "execution_count": 8,
   "metadata": {},
   "outputs": [
    {
     "name": "stdout",
     "output_type": "stream",
     "text": [
      "../../models/Antimony/TopologyC_1_cobra.ant\n"
     ]
    },
    {
     "name": "stderr",
     "output_type": "stream",
     "text": [
      "No objective coefficients in model. Unclear what should be optimized\n"
     ]
    },
    {
     "name": "stdout",
     "output_type": "stream",
     "text": [
      "../../models/Antimony/TopologyC_1_cobra.ant\n"
     ]
    },
    {
     "name": "stderr",
     "output_type": "stream",
     "text": [
      "No objective coefficients in model. Unclear what should be optimized\n"
     ]
    },
    {
     "name": "stdout",
     "output_type": "stream",
     "text": [
      "../../models/Antimony/TopologyC_1_cobra.ant\n"
     ]
    },
    {
     "name": "stderr",
     "output_type": "stream",
     "text": [
      "No objective coefficients in model. Unclear what should be optimized\n"
     ]
    },
    {
     "name": "stdout",
     "output_type": "stream",
     "text": [
      "../../models/Antimony/TopologyC_1_cobra.ant\n"
     ]
    },
    {
     "name": "stderr",
     "output_type": "stream",
     "text": [
      "No objective coefficients in model. Unclear what should be optimized\n"
     ]
    },
    {
     "name": "stdout",
     "output_type": "stream",
     "text": [
      "../../models/Antimony/TopologyC_1_cobra.ant\n"
     ]
    },
    {
     "name": "stderr",
     "output_type": "stream",
     "text": [
      "No objective coefficients in model. Unclear what should be optimized\n"
     ]
    },
    {
     "name": "stdout",
     "output_type": "stream",
     "text": [
      "../../models/Antimony/TopologyC_1_cobra.ant\n"
     ]
    },
    {
     "name": "stderr",
     "output_type": "stream",
     "text": [
      "No objective coefficients in model. Unclear what should be optimized\n"
     ]
    },
    {
     "name": "stdout",
     "output_type": "stream",
     "text": [
      "../../models/Antimony/TopologyC_1_cobra.ant\n"
     ]
    },
    {
     "name": "stderr",
     "output_type": "stream",
     "text": [
      "No objective coefficients in model. Unclear what should be optimized\n"
     ]
    },
    {
     "name": "stdout",
     "output_type": "stream",
     "text": [
      "../../models/Antimony/TopologyC_1_cobra.ant\n"
     ]
    },
    {
     "name": "stderr",
     "output_type": "stream",
     "text": [
      "No objective coefficients in model. Unclear what should be optimized\n"
     ]
    },
    {
     "name": "stdout",
     "output_type": "stream",
     "text": [
      "../../models/Antimony/TopologyC_1_cobra.ant\n"
     ]
    },
    {
     "name": "stderr",
     "output_type": "stream",
     "text": [
      "No objective coefficients in model. Unclear what should be optimized\n"
     ]
    },
    {
     "name": "stdout",
     "output_type": "stream",
     "text": [
      "../../models/Antimony/TopologyC_1_cobra.ant\n"
     ]
    },
    {
     "name": "stderr",
     "output_type": "stream",
     "text": [
      "No objective coefficients in model. Unclear what should be optimized\n"
     ]
    }
   ],
   "source": [
    "BMCA_obj01 = antemll.antemll(ant, data_file01, cobra_sbml='../../models/sbml/TopologyC_1_cobra.xml')\n",
    "BMCA_obj02 = antemll.antemll(ant, data_file02, cobra_sbml='../../models/sbml/TopologyC_1_cobra.xml')\n",
    "BMCA_obj03 = antemll.antemll(ant, data_file03, cobra_sbml='../../models/sbml/TopologyC_1_cobra.xml')\n",
    "BMCA_obj04 = antemll.antemll(ant, data_file04, cobra_sbml='../../models/sbml/TopologyC_1_cobra.xml')\n",
    "BMCA_obj05 = antemll.antemll(ant, data_file05, cobra_sbml='../../models/sbml/TopologyC_1_cobra.xml')\n",
    "\n",
    "BMCA_obj15 = antemll.antemll(ant, data_file15, cobra_sbml='../../models/sbml/TopologyC_1_cobra.xml')\n",
    "BMCA_obj3 = antemll.antemll(ant, data_file3, cobra_sbml='../../models/sbml/TopologyC_1_cobra.xml')\n",
    "BMCA_obj5 = antemll.antemll(ant, data_file5, cobra_sbml='../../models/sbml/TopologyC_1_cobra.xml')\n",
    "BMCA_obj7 = antemll.antemll(ant, data_file7, cobra_sbml='../../models/sbml/TopologyC_1_cobra.xml')\n",
    "BMCA_obj100 = antemll.antemll(ant, data_file100, cobra_sbml='../../models/sbml/TopologyC_1_cobra.xml')\n"
   ]
  },
  {
   "cell_type": "code",
   "execution_count": 9,
   "metadata": {},
   "outputs": [],
   "source": [
    "def run_prior_predictive(BMCA_obj):\n",
    "    ll = emll.LinLogLeastNorm(BMCA_obj.N, BMCA_obj.Ex.to_numpy(), BMCA_obj.Ey.to_numpy(), BMCA_obj.v_star, driver='gelsy')\n",
    "    \n",
    "    with pm.Model() as pymc_model:\n",
    "        # Initialize elasticities\n",
    "        # Ex and Ey have to be shape (rxns, mets)\n",
    "        Ex_t = pm.Deterministic('Ex', emll.util.initialize_elasticity(BMCA_obj.Ex.to_numpy().T, 'Ex', b=0.05, sd=1, alpha=5))\n",
    "        Ey_t = pm.Deterministic('Ey', emll.util.initialize_elasticity(BMCA_obj.Ey.to_numpy().T, 'Ey', b=0.05, sd=1, alpha=5))\n",
    "\n",
    "        trace_prior = pm.sample_prior_predictive()\n",
    "\n",
    "    return trace_prior"
   ]
  },
  {
   "cell_type": "raw",
   "metadata": {
    "vscode": {
     "languageId": "raw"
    }
   },
   "source": [
    "prior01 = util.run_prior_predictive(BMCA_obj01)\n",
    "prior02 = util.run_prior_predictive(BMCA_obj02)\n",
    "prior03 = util.run_prior_predictive(BMCA_obj03)\n",
    "prior04 = util.run_prior_predictive(BMCA_obj04)\n",
    "prior05 = util.run_prior_predictive(BMCA_obj05)\n",
    "prior15 = util.run_prior_predictive(BMCA_obj15)\n",
    "prior3 = util.run_prior_predictive(BMCA_obj3)\n",
    "prior5 = util.run_prior_predictive(BMCA_obj5)\n",
    "prior7 = util.run_prior_predictive(BMCA_obj7)\n",
    "prior100 = util.run_prior_predictive(BMCA_obj100)\n"
   ]
  },
  {
   "cell_type": "markdown",
   "metadata": {},
   "source": [
    "## Running ADVI"
   ]
  },
  {
   "cell_type": "code",
   "execution_count": 10,
   "metadata": {},
   "outputs": [],
   "source": [
    "def run_ADVI(BMCA_obj):\n",
    "    with pm.Model() as pymc_model:\n",
    "        \n",
    "        # Initialize elasticities\n",
    "        Ex_t = pm.Deterministic('Ex', util.initialize_elasticity(BMCA_obj.Ex.to_numpy(), name='Ex'))\n",
    "        Ey_t = pm.Deterministic('Ey', util.initialize_elasticity(BMCA_obj.Ey.to_numpy(), name='Ey'))\n",
    "        e_obs = pm.Normal('e_obs', mu=1, sigma=1, observed=BMCA_obj.en.T)\n",
    "        chi_obs = pm.Normal('chi_obs', mu=0, sigma=10, observed=BMCA_obj.xn.T)\n",
    "        y_obs = pm.Normal('y_obs', mu=0, sigma=10, observed=BMCA_obj.yn.T)\n",
    "        likelihood = pm.Deterministic('vn', e_obs * (np.ones(BMCA_obj.en.T.shape) + pm.math.dot(Ex_t,chi_obs) + pm.math.dot(Ey_t,y_obs)))\n",
    "        v_hat_obs = pm.Normal('v_hat_obs', mu=likelihood, sigma=0.1, observed=BMCA_obj.vn.squeeze().T)\n",
    "    \n",
    "        N_ITERATIONS = 150000\n",
    "    \n",
    "    with pymc_model:\n",
    "        advi = pm.ADVI()\n",
    "        tracker = pm.callbacks.Tracker(\n",
    "            mean = advi.approx.mean.eval,\n",
    "            std = advi.approx.std.eval\n",
    "        )\n",
    "        approx = advi.fit(\n",
    "            n=       N_ITERATIONS, \n",
    "            callbacks = [tracker],\n",
    "            obj_optimizer=pm.adagrad_window(learning_rate=5E-3), \n",
    "            total_grad_norm_constraint=0.7,\n",
    "            obj_n_mc=1)\n",
    "    \n",
    "    with sns.plotting_context('notebook', font_scale=1.2):\n",
    "\n",
    "        fig = plt.figure(figsize=(5,4))\n",
    "        plt.plot(approx.hist + 30, '.', rasterized=True, ms=1)\n",
    "        # plt.ylim([-1E1, 1E3])\n",
    "        plt.xlim([0, N_ITERATIONS])\n",
    "        sns.despine(trim=True, offset=10)\n",
    "\n",
    "        plt.ylabel('-ELBO')\n",
    "        plt.xlabel('Iteration')\n",
    "        plt.title('in vitro ADVI convergence')\n",
    "        plt.tight_layout()\n",
    "\n",
    "    with pymc_model:\n",
    "        trace = approx.sample(1000)\n",
    "        ppc_vi = pm.sample_posterior_predictive(trace)\n",
    "\n",
    "    return trace, ppc_vi\n"
   ]
  },
  {
   "cell_type": "code",
   "execution_count": 11,
   "metadata": {},
   "outputs": [
    {
     "data": {
      "text/html": [
       "\n",
       "<style>\n",
       "    /* Turns off some styling */\n",
       "    progress {\n",
       "        /* gets rid of default border in Firefox and Opera. */\n",
       "        border: none;\n",
       "        /* Needs to be in here for Safari polyfill so background images work as expected. */\n",
       "        background-size: auto;\n",
       "    }\n",
       "    progress:not([value]), progress:not([value])::-webkit-progress-bar {\n",
       "        background: repeating-linear-gradient(45deg, #7e7e7e, #7e7e7e 10px, #5c5c5c 10px, #5c5c5c 20px);\n",
       "    }\n",
       "    .progress-bar-interrupted, .progress-bar-interrupted::-webkit-progress-bar {\n",
       "        background: #F44336;\n",
       "    }\n",
       "</style>\n"
      ],
      "text/plain": [
       "<IPython.core.display.HTML object>"
      ]
     },
     "metadata": {},
     "output_type": "display_data"
    },
    {
     "data": {
      "text/html": [
       "\n",
       "    <div>\n",
       "      <progress value='150000' class='' max='150000' style='width:300px; height:20px; vertical-align: middle;'></progress>\n",
       "      100.00% [150000/150000 23:08:58&lt;00:00 Average Loss = 1.0378e+06]\n",
       "    </div>\n",
       "    "
      ],
      "text/plain": [
       "<IPython.core.display.HTML object>"
      ]
     },
     "metadata": {},
     "output_type": "display_data"
    },
    {
     "name": "stderr",
     "output_type": "stream",
     "text": [
      "c:\\Users\\user\\miniconda3\\envs\\gayles\\lib\\site-packages\\aesara\\scalar\\basic.py:2925: RuntimeWarning:\n",
      "\n",
      "invalid value encountered in log\n",
      "\n",
      "Finished [100%]: Average Loss = 1.0378e+06\n",
      "Sampling: [chi_obs, e_obs, v_hat_obs, y_obs]\n"
     ]
    },
    {
     "data": {
      "text/html": [
       "\n",
       "<style>\n",
       "    /* Turns off some styling */\n",
       "    progress {\n",
       "        /* gets rid of default border in Firefox and Opera. */\n",
       "        border: none;\n",
       "        /* Needs to be in here for Safari polyfill so background images work as expected. */\n",
       "        background-size: auto;\n",
       "    }\n",
       "    progress:not([value]), progress:not([value])::-webkit-progress-bar {\n",
       "        background: repeating-linear-gradient(45deg, #7e7e7e, #7e7e7e 10px, #5c5c5c 10px, #5c5c5c 20px);\n",
       "    }\n",
       "    .progress-bar-interrupted, .progress-bar-interrupted::-webkit-progress-bar {\n",
       "        background: #F44336;\n",
       "    }\n",
       "</style>\n"
      ],
      "text/plain": [
       "<IPython.core.display.HTML object>"
      ]
     },
     "metadata": {},
     "output_type": "display_data"
    },
    {
     "data": {
      "text/html": [
       "\n",
       "    <div>\n",
       "      <progress value='1000' class='' max='1000' style='width:300px; height:20px; vertical-align: middle;'></progress>\n",
       "      100.00% [1000/1000 00:02&lt;00:00]\n",
       "    </div>\n",
       "    "
      ],
      "text/plain": [
       "<IPython.core.display.HTML object>"
      ]
     },
     "metadata": {},
     "output_type": "display_data"
    },
    {
     "data": {
      "text/html": [
       "\n",
       "<style>\n",
       "    /* Turns off some styling */\n",
       "    progress {\n",
       "        /* gets rid of default border in Firefox and Opera. */\n",
       "        border: none;\n",
       "        /* Needs to be in here for Safari polyfill so background images work as expected. */\n",
       "        background-size: auto;\n",
       "    }\n",
       "    progress:not([value]), progress:not([value])::-webkit-progress-bar {\n",
       "        background: repeating-linear-gradient(45deg, #7e7e7e, #7e7e7e 10px, #5c5c5c 10px, #5c5c5c 20px);\n",
       "    }\n",
       "    .progress-bar-interrupted, .progress-bar-interrupted::-webkit-progress-bar {\n",
       "        background: #F44336;\n",
       "    }\n",
       "</style>\n"
      ],
      "text/plain": [
       "<IPython.core.display.HTML object>"
      ]
     },
     "metadata": {},
     "output_type": "display_data"
    },
    {
     "data": {
      "text/html": [
       "\n",
       "    <div>\n",
       "      <progress value='150000' class='' max='150000' style='width:300px; height:20px; vertical-align: middle;'></progress>\n",
       "      100.00% [150000/150000 20:29:51&lt;00:00 Average Loss = 4.6916e+05]\n",
       "    </div>\n",
       "    "
      ],
      "text/plain": [
       "<IPython.core.display.HTML object>"
      ]
     },
     "metadata": {},
     "output_type": "display_data"
    },
    {
     "name": "stderr",
     "output_type": "stream",
     "text": [
      "c:\\Users\\user\\miniconda3\\envs\\gayles\\lib\\site-packages\\aesara\\scalar\\basic.py:2925: RuntimeWarning:\n",
      "\n",
      "invalid value encountered in log\n",
      "\n",
      "Finished [100%]: Average Loss = 4.6918e+05\n",
      "Sampling: [chi_obs, e_obs, v_hat_obs, y_obs]\n"
     ]
    },
    {
     "data": {
      "text/html": [
       "\n",
       "<style>\n",
       "    /* Turns off some styling */\n",
       "    progress {\n",
       "        /* gets rid of default border in Firefox and Opera. */\n",
       "        border: none;\n",
       "        /* Needs to be in here for Safari polyfill so background images work as expected. */\n",
       "        background-size: auto;\n",
       "    }\n",
       "    progress:not([value]), progress:not([value])::-webkit-progress-bar {\n",
       "        background: repeating-linear-gradient(45deg, #7e7e7e, #7e7e7e 10px, #5c5c5c 10px, #5c5c5c 20px);\n",
       "    }\n",
       "    .progress-bar-interrupted, .progress-bar-interrupted::-webkit-progress-bar {\n",
       "        background: #F44336;\n",
       "    }\n",
       "</style>\n"
      ],
      "text/plain": [
       "<IPython.core.display.HTML object>"
      ]
     },
     "metadata": {},
     "output_type": "display_data"
    },
    {
     "data": {
      "text/html": [
       "\n",
       "    <div>\n",
       "      <progress value='1000' class='' max='1000' style='width:300px; height:20px; vertical-align: middle;'></progress>\n",
       "      100.00% [1000/1000 00:02&lt;00:00]\n",
       "    </div>\n",
       "    "
      ],
      "text/plain": [
       "<IPython.core.display.HTML object>"
      ]
     },
     "metadata": {},
     "output_type": "display_data"
    },
    {
     "data": {
      "text/html": [
       "\n",
       "<style>\n",
       "    /* Turns off some styling */\n",
       "    progress {\n",
       "        /* gets rid of default border in Firefox and Opera. */\n",
       "        border: none;\n",
       "        /* Needs to be in here for Safari polyfill so background images work as expected. */\n",
       "        background-size: auto;\n",
       "    }\n",
       "    progress:not([value]), progress:not([value])::-webkit-progress-bar {\n",
       "        background: repeating-linear-gradient(45deg, #7e7e7e, #7e7e7e 10px, #5c5c5c 10px, #5c5c5c 20px);\n",
       "    }\n",
       "    .progress-bar-interrupted, .progress-bar-interrupted::-webkit-progress-bar {\n",
       "        background: #F44336;\n",
       "    }\n",
       "</style>\n"
      ],
      "text/plain": [
       "<IPython.core.display.HTML object>"
      ]
     },
     "metadata": {},
     "output_type": "display_data"
    },
    {
     "data": {
      "text/html": [
       "\n",
       "    <div>\n",
       "      <progress value='150000' class='' max='150000' style='width:300px; height:20px; vertical-align: middle;'></progress>\n",
       "      100.00% [150000/150000 23:15:53&lt;00:00 Average Loss = 3.5188e+05]\n",
       "    </div>\n",
       "    "
      ],
      "text/plain": [
       "<IPython.core.display.HTML object>"
      ]
     },
     "metadata": {},
     "output_type": "display_data"
    },
    {
     "name": "stderr",
     "output_type": "stream",
     "text": [
      "c:\\Users\\user\\miniconda3\\envs\\gayles\\lib\\site-packages\\aesara\\scalar\\basic.py:2925: RuntimeWarning:\n",
      "\n",
      "invalid value encountered in log\n",
      "\n",
      "Finished [100%]: Average Loss = 3.5186e+05\n",
      "Sampling: [chi_obs, e_obs, v_hat_obs, y_obs]\n"
     ]
    },
    {
     "data": {
      "text/html": [
       "\n",
       "<style>\n",
       "    /* Turns off some styling */\n",
       "    progress {\n",
       "        /* gets rid of default border in Firefox and Opera. */\n",
       "        border: none;\n",
       "        /* Needs to be in here for Safari polyfill so background images work as expected. */\n",
       "        background-size: auto;\n",
       "    }\n",
       "    progress:not([value]), progress:not([value])::-webkit-progress-bar {\n",
       "        background: repeating-linear-gradient(45deg, #7e7e7e, #7e7e7e 10px, #5c5c5c 10px, #5c5c5c 20px);\n",
       "    }\n",
       "    .progress-bar-interrupted, .progress-bar-interrupted::-webkit-progress-bar {\n",
       "        background: #F44336;\n",
       "    }\n",
       "</style>\n"
      ],
      "text/plain": [
       "<IPython.core.display.HTML object>"
      ]
     },
     "metadata": {},
     "output_type": "display_data"
    },
    {
     "data": {
      "text/html": [
       "\n",
       "    <div>\n",
       "      <progress value='1000' class='' max='1000' style='width:300px; height:20px; vertical-align: middle;'></progress>\n",
       "      100.00% [1000/1000 00:02&lt;00:00]\n",
       "    </div>\n",
       "    "
      ],
      "text/plain": [
       "<IPython.core.display.HTML object>"
      ]
     },
     "metadata": {},
     "output_type": "display_data"
    },
    {
     "data": {
      "image/png": "[encoded data removed]",
      "text/plain": [
       "<Figure size 500x400 with 1 Axes>"
      ]
     },
     "metadata": {},
     "output_type": "display_data"
    },
    {
     "data": {
      "image/png": "[encoded data removed]",
      "text/plain": [
       "<Figure size 500x400 with 1 Axes>"
      ]
     },
     "metadata": {},
     "output_type": "display_data"
    },
    {
     "data": {
      "image/png": "[encoded data removed]",
      "text/plain": [
       "<Figure size 500x400 with 1 Axes>"
      ]
     },
     "metadata": {},
     "output_type": "display_data"
    }
   ],
   "source": [
    "trace01, ppc01 = run_ADVI(BMCA_obj01)\n",
    "trace03, ppc03 = run_ADVI(BMCA_obj03)\n",
    "trace05, ppc05 = run_ADVI(BMCA_obj05)\n",
    "\n"
   ]
  },
  {
   "cell_type": "code",
   "execution_count": 14,
   "metadata": {},
   "outputs": [],
   "source": [
    "with gzip.open(\"../../data/results/tracePickles/topologyC-alldata_1-5.pgz\", \"wb\") as f:\n",
    "            cloudpickle.dump(\n",
    "                {\n",
    "                \"trace01\":trace01,\n",
    "                \"trace03\":trace03,\n",
    "                \"trace05\":trace05,\n",
    "\n",
    "                \"ppc01\":ppc01,\n",
    "                \"ppc03\":ppc03,\n",
    "                \"ppc05\":ppc05\n",
    "                },\n",
    "                f,\n",
    "            )"
   ]
  },
  {
   "cell_type": "code",
   "execution_count": 15,
   "metadata": {},
   "outputs": [],
   "source": [
    "trace01, ppc01 = 0, 0\n",
    "trace03, ppc03 = 0, 0\n",
    "trace05, ppc05 = 0, 0"
   ]
  },
  {
   "cell_type": "code",
   "execution_count": 16,
   "metadata": {},
   "outputs": [
    {
     "data": {
      "text/html": [
       "\n",
       "<style>\n",
       "    /* Turns off some styling */\n",
       "    progress {\n",
       "        /* gets rid of default border in Firefox and Opera. */\n",
       "        border: none;\n",
       "        /* Needs to be in here for Safari polyfill so background images work as expected. */\n",
       "        background-size: auto;\n",
       "    }\n",
       "    progress:not([value]), progress:not([value])::-webkit-progress-bar {\n",
       "        background: repeating-linear-gradient(45deg, #7e7e7e, #7e7e7e 10px, #5c5c5c 10px, #5c5c5c 20px);\n",
       "    }\n",
       "    .progress-bar-interrupted, .progress-bar-interrupted::-webkit-progress-bar {\n",
       "        background: #F44336;\n",
       "    }\n",
       "</style>\n"
      ],
      "text/plain": [
       "<IPython.core.display.HTML object>"
      ]
     },
     "metadata": {},
     "output_type": "display_data"
    },
    {
     "data": {
      "text/html": [
       "\n",
       "    <div>\n",
       "      <progress value='14515' class='' max='150000' style='width:300px; height:20px; vertical-align: middle;'></progress>\n",
       "      9.68% [14515/150000 4:31:08&lt;42:10:55 Average Loss = 4.533e+06]\n",
       "    </div>\n",
       "    "
      ],
      "text/plain": [
       "<IPython.core.display.HTML object>"
      ]
     },
     "metadata": {},
     "output_type": "display_data"
    },
    {
     "name": "stderr",
     "output_type": "stream",
     "text": [
      "c:\\Users\\user\\miniconda3\\envs\\gayles\\lib\\site-packages\\aesara\\scalar\\basic.py:2925: RuntimeWarning:\n",
      "\n",
      "invalid value encountered in log\n",
      "\n",
      "Interrupted at 14,515 [9%]: Average Loss = 1.8661e+07\n"
     ]
    },
    {
     "ename": "KeyboardInterrupt",
     "evalue": "",
     "output_type": "error",
     "traceback": [
      "\u001b[1;31m---------------------------------------------------------------------------\u001b[0m",
      "\u001b[1;31mKeyboardInterrupt\u001b[0m                         Traceback (most recent call last)",
      "Cell \u001b[1;32mIn[16], line 1\u001b[0m\n\u001b[1;32m----> 1\u001b[0m trace15, ppc15 \u001b[38;5;241m=\u001b[39m \u001b[43mrun_ADVI\u001b[49m\u001b[43m(\u001b[49m\u001b[43mBMCA_obj15\u001b[49m\u001b[43m)\u001b[49m\n\u001b[0;32m      2\u001b[0m trace3, ppc3 \u001b[38;5;241m=\u001b[39m run_ADVI(BMCA_obj3)\n\u001b[0;32m      3\u001b[0m trace5, ppc5 \u001b[38;5;241m=\u001b[39m run_ADVI(BMCA_obj5)\n",
      "Cell \u001b[1;32mIn[10], line 42\u001b[0m, in \u001b[0;36mrun_ADVI\u001b[1;34m(BMCA_obj)\u001b[0m\n\u001b[0;32m     39\u001b[0m     plt\u001b[38;5;241m.\u001b[39mtight_layout()\n\u001b[0;32m     41\u001b[0m \u001b[38;5;28;01mwith\u001b[39;00m pymc_model:\n\u001b[1;32m---> 42\u001b[0m     trace \u001b[38;5;241m=\u001b[39m \u001b[43mapprox\u001b[49m\u001b[38;5;241;43m.\u001b[39;49m\u001b[43msample\u001b[49m\u001b[43m(\u001b[49m\u001b[38;5;241;43m1000\u001b[39;49m\u001b[43m)\u001b[49m\n\u001b[0;32m     43\u001b[0m     ppc_vi \u001b[38;5;241m=\u001b[39m pm\u001b[38;5;241m.\u001b[39msample_posterior_predictive(trace)\n\u001b[0;32m     45\u001b[0m \u001b[38;5;28;01mreturn\u001b[39;00m trace, ppc_vi\n",
      "File \u001b[1;32mc:\\Users\\user\\miniconda3\\envs\\gayles\\lib\\site-packages\\pymc\\variational\\opvi.py:1462\u001b[0m, in \u001b[0;36mApproximation.sample\u001b[1;34m(self, draws, random_seed, return_inferencedata, **kwargs)\u001b[0m\n\u001b[0;32m   1460\u001b[0m \u001b[38;5;28;01mif\u001b[39;00m random_seed \u001b[38;5;129;01mis\u001b[39;00m \u001b[38;5;129;01mnot\u001b[39;00m \u001b[38;5;28;01mNone\u001b[39;00m:\n\u001b[0;32m   1461\u001b[0m     (random_seed,) \u001b[38;5;241m=\u001b[39m _get_seeds_per_chain(random_seed, \u001b[38;5;241m1\u001b[39m)\n\u001b[1;32m-> 1462\u001b[0m samples \u001b[38;5;241m=\u001b[39m \u001b[38;5;28;43mself\u001b[39;49m\u001b[38;5;241;43m.\u001b[39;49m\u001b[43msample_dict_fn\u001b[49m\u001b[43m(\u001b[49m\u001b[43mdraws\u001b[49m\u001b[43m,\u001b[49m\u001b[43m \u001b[49m\u001b[43mrandom_seed\u001b[49m\u001b[38;5;241;43m=\u001b[39;49m\u001b[43mrandom_seed\u001b[49m\u001b[43m)\u001b[49m  \u001b[38;5;66;03m# type: dict\u001b[39;00m\n\u001b[0;32m   1463\u001b[0m points \u001b[38;5;241m=\u001b[39m ({name: records[i] \u001b[38;5;28;01mfor\u001b[39;00m name, records \u001b[38;5;129;01min\u001b[39;00m samples\u001b[38;5;241m.\u001b[39mitems()} \u001b[38;5;28;01mfor\u001b[39;00m i \u001b[38;5;129;01min\u001b[39;00m \u001b[38;5;28mrange\u001b[39m(draws))\n\u001b[0;32m   1465\u001b[0m trace \u001b[38;5;241m=\u001b[39m NDArray(\n\u001b[0;32m   1466\u001b[0m     model\u001b[38;5;241m=\u001b[39m\u001b[38;5;28mself\u001b[39m\u001b[38;5;241m.\u001b[39mmodel,\n\u001b[0;32m   1467\u001b[0m     test_point\u001b[38;5;241m=\u001b[39m{name: records[\u001b[38;5;241m0\u001b[39m] \u001b[38;5;28;01mfor\u001b[39;00m name, records \u001b[38;5;129;01min\u001b[39;00m samples\u001b[38;5;241m.\u001b[39mitems()},\n\u001b[0;32m   1468\u001b[0m )\n",
      "File \u001b[1;32mc:\\Users\\user\\miniconda3\\envs\\gayles\\lib\\site-packages\\pymc\\variational\\opvi.py:1432\u001b[0m, in \u001b[0;36mApproximation.sample_dict_fn.<locals>.inner\u001b[1;34m(draws, random_seed)\u001b[0m\n\u001b[0;32m   1430\u001b[0m \u001b[38;5;28;01mif\u001b[39;00m random_seed \u001b[38;5;129;01mis\u001b[39;00m \u001b[38;5;129;01mnot\u001b[39;00m \u001b[38;5;28;01mNone\u001b[39;00m:\n\u001b[0;32m   1431\u001b[0m     reseed_rngs(rng_nodes, random_seed)\n\u001b[1;32m-> 1432\u001b[0m _samples \u001b[38;5;241m=\u001b[39m \u001b[43msample_fn\u001b[49m\u001b[43m(\u001b[49m\u001b[43mdraws\u001b[49m\u001b[43m)\u001b[49m\n\u001b[0;32m   1434\u001b[0m \u001b[38;5;28;01mreturn\u001b[39;00m {v_: s_ \u001b[38;5;28;01mfor\u001b[39;00m v_, s_ \u001b[38;5;129;01min\u001b[39;00m \u001b[38;5;28mzip\u001b[39m(names, _samples)}\n",
      "File \u001b[1;32mc:\\Users\\user\\miniconda3\\envs\\gayles\\lib\\site-packages\\aesara\\compile\\function\\types.py:971\u001b[0m, in \u001b[0;36mFunction.__call__\u001b[1;34m(self, *args, **kwargs)\u001b[0m\n\u001b[0;32m    968\u001b[0m t0_fn \u001b[38;5;241m=\u001b[39m time\u001b[38;5;241m.\u001b[39mtime()\n\u001b[0;32m    969\u001b[0m \u001b[38;5;28;01mtry\u001b[39;00m:\n\u001b[0;32m    970\u001b[0m     outputs \u001b[38;5;241m=\u001b[39m (\n\u001b[1;32m--> 971\u001b[0m         \u001b[38;5;28;43mself\u001b[39;49m\u001b[38;5;241;43m.\u001b[39;49m\u001b[43mvm\u001b[49m\u001b[43m(\u001b[49m\u001b[43m)\u001b[49m\n\u001b[0;32m    972\u001b[0m         \u001b[38;5;28;01mif\u001b[39;00m output_subset \u001b[38;5;129;01mis\u001b[39;00m \u001b[38;5;28;01mNone\u001b[39;00m\n\u001b[0;32m    973\u001b[0m         \u001b[38;5;28;01melse\u001b[39;00m \u001b[38;5;28mself\u001b[39m\u001b[38;5;241m.\u001b[39mvm(output_subset\u001b[38;5;241m=\u001b[39moutput_subset)\n\u001b[0;32m    974\u001b[0m     )\n\u001b[0;32m    975\u001b[0m \u001b[38;5;28;01mexcept\u001b[39;00m \u001b[38;5;167;01mException\u001b[39;00m:\n\u001b[0;32m    976\u001b[0m     restore_defaults()\n",
      "File \u001b[1;32mc:\\Users\\user\\miniconda3\\envs\\gayles\\lib\\site-packages\\aesara\\link\\vm.py:414\u001b[0m, in \u001b[0;36mLoop.__call__\u001b[1;34m(self)\u001b[0m\n\u001b[0;32m    410\u001b[0m \u001b[38;5;28;01mtry\u001b[39;00m:\n\u001b[0;32m    411\u001b[0m     \u001b[38;5;28;01mfor\u001b[39;00m thunk, node, old_storage \u001b[38;5;129;01min\u001b[39;00m zip_longest(\n\u001b[0;32m    412\u001b[0m         \u001b[38;5;28mself\u001b[39m\u001b[38;5;241m.\u001b[39mthunks, \u001b[38;5;28mself\u001b[39m\u001b[38;5;241m.\u001b[39mnodes, \u001b[38;5;28mself\u001b[39m\u001b[38;5;241m.\u001b[39mpost_thunk_clear, fillvalue\u001b[38;5;241m=\u001b[39m()\n\u001b[0;32m    413\u001b[0m     ):\n\u001b[1;32m--> 414\u001b[0m         \u001b[43mthunk\u001b[49m\u001b[43m(\u001b[49m\u001b[43m)\u001b[49m\n\u001b[0;32m    415\u001b[0m         \u001b[38;5;28;01mfor\u001b[39;00m old_s \u001b[38;5;129;01min\u001b[39;00m old_storage:\n\u001b[0;32m    416\u001b[0m             old_s[\u001b[38;5;241m0\u001b[39m] \u001b[38;5;241m=\u001b[39m \u001b[38;5;28;01mNone\u001b[39;00m\n",
      "File \u001b[1;32mc:\\Users\\user\\miniconda3\\envs\\gayles\\lib\\site-packages\\aesara\\graph\\op.py:559\u001b[0m, in \u001b[0;36mOp.make_py_thunk.<locals>.rval\u001b[1;34m(p, i, o, n, params)\u001b[0m\n\u001b[0;32m    551\u001b[0m \u001b[38;5;129m@is_thunk_type\u001b[39m\n\u001b[0;32m    552\u001b[0m \u001b[38;5;28;01mdef\u001b[39;00m \u001b[38;5;21mrval\u001b[39m(\n\u001b[0;32m    553\u001b[0m     p\u001b[38;5;241m=\u001b[39mp,\n\u001b[1;32m   (...)\u001b[0m\n\u001b[0;32m    557\u001b[0m     params\u001b[38;5;241m=\u001b[39mparams_val,\n\u001b[0;32m    558\u001b[0m ):\n\u001b[1;32m--> 559\u001b[0m     r \u001b[38;5;241m=\u001b[39m \u001b[43mp\u001b[49m\u001b[43m(\u001b[49m\u001b[43mn\u001b[49m\u001b[43m,\u001b[49m\u001b[43m \u001b[49m\u001b[43m[\u001b[49m\u001b[43mx\u001b[49m\u001b[43m[\u001b[49m\u001b[38;5;241;43m0\u001b[39;49m\u001b[43m]\u001b[49m\u001b[43m \u001b[49m\u001b[38;5;28;43;01mfor\u001b[39;49;00m\u001b[43m \u001b[49m\u001b[43mx\u001b[49m\u001b[43m \u001b[49m\u001b[38;5;129;43;01min\u001b[39;49;00m\u001b[43m \u001b[49m\u001b[43mi\u001b[49m\u001b[43m]\u001b[49m\u001b[43m,\u001b[49m\u001b[43m \u001b[49m\u001b[43mo\u001b[49m\u001b[43m,\u001b[49m\u001b[43m \u001b[49m\u001b[43mparams\u001b[49m\u001b[43m)\u001b[49m\n\u001b[0;32m    560\u001b[0m     \u001b[38;5;28;01mfor\u001b[39;00m o \u001b[38;5;129;01min\u001b[39;00m node\u001b[38;5;241m.\u001b[39moutputs:\n\u001b[0;32m    561\u001b[0m         compute_map[o][\u001b[38;5;241m0\u001b[39m] \u001b[38;5;241m=\u001b[39m \u001b[38;5;28;01mTrue\u001b[39;00m\n",
      "File \u001b[1;32mc:\\Users\\user\\miniconda3\\envs\\gayles\\lib\\site-packages\\aesara\\sandbox\\rng_mrg.py:434\u001b[0m, in \u001b[0;36mmrg_uniform.perform\u001b[1;34m(self, node, inp, out, params)\u001b[0m\n\u001b[0;32m    432\u001b[0m \u001b[38;5;28;01mtry\u001b[39;00m:\n\u001b[0;32m    433\u001b[0m     \u001b[38;5;28;01mfor\u001b[39;00m i \u001b[38;5;129;01min\u001b[39;00m \u001b[38;5;28mrange\u001b[39m(n_elements):\n\u001b[1;32m--> 434\u001b[0m         sample \u001b[38;5;241m=\u001b[39m \u001b[43mmrg_next_value\u001b[49m\u001b[43m(\u001b[49m\n\u001b[0;32m    435\u001b[0m \u001b[43m            \u001b[49m\u001b[43mrstate\u001b[49m\u001b[43m[\u001b[49m\u001b[43mi\u001b[49m\u001b[43m \u001b[49m\u001b[38;5;241;43m%\u001b[39;49m\u001b[43m \u001b[49m\u001b[43mn_streams\u001b[49m\u001b[43m]\u001b[49m\u001b[43m,\u001b[49m\n\u001b[0;32m    436\u001b[0m \u001b[43m            \u001b[49m\u001b[43mrstate\u001b[49m\u001b[43m[\u001b[49m\u001b[43mi\u001b[49m\u001b[43m \u001b[49m\u001b[38;5;241;43m%\u001b[39;49m\u001b[43m \u001b[49m\u001b[43mn_streams\u001b[49m\u001b[43m]\u001b[49m\u001b[43m,\u001b[49m\n\u001b[0;32m    437\u001b[0m \u001b[43m            \u001b[49m\u001b[43mNORM\u001b[49m\u001b[38;5;241;43m=\u001b[39;49m\u001b[43mNORM\u001b[49m\u001b[43m,\u001b[49m\n\u001b[0;32m    438\u001b[0m \u001b[43m            \u001b[49m\u001b[43mmask\u001b[49m\u001b[38;5;241;43m=\u001b[39;49m\u001b[43mmask\u001b[49m\u001b[43m,\u001b[49m\n\u001b[0;32m    439\u001b[0m \u001b[43m            \u001b[49m\u001b[43moffset\u001b[49m\u001b[38;5;241;43m=\u001b[39;49m\u001b[43moffset\u001b[49m\u001b[43m,\u001b[49m\n\u001b[0;32m    440\u001b[0m \u001b[43m        \u001b[49m\u001b[43m)\u001b[49m\n\u001b[0;32m    441\u001b[0m         rval[i] \u001b[38;5;241m=\u001b[39m sample\n\u001b[0;32m    442\u001b[0m \u001b[38;5;28;01mfinally\u001b[39;00m:\n",
      "File \u001b[1;32mc:\\Users\\user\\miniconda3\\envs\\gayles\\lib\\site-packages\\aesara\\sandbox\\rng_mrg.py:283\u001b[0m, in \u001b[0;36mmrg_next_value\u001b[1;34m(rstate, new_rstate, NORM, mask, offset)\u001b[0m\n\u001b[0;32m    281\u001b[0m i0, i7, i9, i15, i16, i22, i24 \u001b[38;5;241m=\u001b[39m np_int32_vals\n\u001b[0;32m    282\u001b[0m \u001b[38;5;66;03m# first component\u001b[39;00m\n\u001b[1;32m--> 283\u001b[0m y1 \u001b[38;5;241m=\u001b[39m ((x12 \u001b[38;5;241m&\u001b[39m MASK12) \u001b[38;5;241m<<\u001b[39m i22) \u001b[38;5;241m+\u001b[39m (x12 \u001b[38;5;241m>>\u001b[39m i9) \u001b[38;5;241m+\u001b[39m ((x13 \u001b[38;5;241m&\u001b[39m MASK13) \u001b[38;5;241m<<\u001b[39m i7) \u001b[38;5;241m+\u001b[39m (\u001b[43mx13\u001b[49m\u001b[43m \u001b[49m\u001b[38;5;241;43m>>\u001b[39;49m\u001b[43m \u001b[49m\u001b[43mi24\u001b[49m)\n\u001b[0;32m    285\u001b[0m \u001b[38;5;28;01massert\u001b[39;00m \u001b[38;5;28misinstance\u001b[39m(y1, np\u001b[38;5;241m.\u001b[39mint32)\n\u001b[0;32m    286\u001b[0m \u001b[38;5;28;01mif\u001b[39;00m y1 \u001b[38;5;241m<\u001b[39m \u001b[38;5;241m0\u001b[39m \u001b[38;5;129;01mor\u001b[39;00m y1 \u001b[38;5;241m>\u001b[39m\u001b[38;5;241m=\u001b[39m M1:  \u001b[38;5;66;03m# must also check overflow\u001b[39;00m\n",
      "\u001b[1;31mKeyboardInterrupt\u001b[0m: "
     ]
    },
    {
     "data": {
      "image/png": "[encoded data removed]",
      "text/plain": [
       "<Figure size 500x400 with 1 Axes>"
      ]
     },
     "metadata": {},
     "output_type": "display_data"
    }
   ],
   "source": [
    "trace15, ppc15 = run_ADVI(BMCA_obj15)\n",
    "trace3, ppc3 = run_ADVI(BMCA_obj3)\n",
    "trace5, ppc5 = run_ADVI(BMCA_obj5)\n",
    "trace7, ppc7 = run_ADVI(BMCA_obj7)\n",
    "trace100, ppc100 = run_ADVI(BMCA_obj100)"
   ]
  },
  {
   "cell_type": "code",
   "execution_count": null,
   "metadata": {},
   "outputs": [],
   "source": [
    "with gzip.open(\"../../data/results/tracePickles/topologyC-alldata_15-10.pgz\", \"wb\") as f:\n",
    "            cloudpickle.dump(\n",
    "                {\n",
    "                \"trace15\":trace15,\n",
    "                \"trace3\":trace3,\n",
    "                \"trace5\":trace5,\n",
    "                \"trace7\":trace7,\n",
    "                \"trace100\":trace100,\n",
    "                \"ppc15\":ppc15,\n",
    "                \"ppc3\":ppc3,\n",
    "                \"ppc5\":ppc5,\n",
    "                \"ppc7\":ppc7,\n",
    "                \"ppc100\":ppc100\n",
    "                },\n",
    "                f,\n",
    "            )"
   ]
  },
  {
   "cell_type": "markdown",
   "metadata": {},
   "source": [
    "## Analysis"
   ]
  },
  {
   "cell_type": "code",
   "execution_count": null,
   "metadata": {},
   "outputs": [],
   "source": [
    "picklefolder = '../../data/results/tracePickles/'\n",
    "with gzip.open(picklefolder + 'topologyC-alldata.pgz', \"rb\") as f:\n",
    "    traces = cloudpickle.load(f, encoding='bytes')"
   ]
  },
  {
   "cell_type": "code",
   "execution_count": 13,
   "metadata": {},
   "outputs": [],
   "source": [
    "trace01=traces['trace01']\n",
    "trace02=traces['trace02']\n",
    "trace03=traces['trace03']\n",
    "trace04=traces['trace04']\n",
    "trace05=traces['trace05']\n",
    "\n",
    "trace15=traces['trace15']\n",
    "trace3=traces['trace3']\n",
    "trace5=traces['trace5']\n",
    "trace7=traces['trace7']\n",
    "trace100=traces['trace100']\n",
    "\n",
    "ppc01=traces['ppc01']\n",
    "ppc02=traces['ppc02']\n",
    "ppc03=traces['ppc03']\n",
    "ppc04=traces['ppc04']\n",
    "ppc05=traces['ppc05']\n",
    "ppc15=traces['ppc15']\n",
    "ppc3=traces['ppc3']\n",
    "ppc5=traces['ppc5']\n",
    "ppc7=traces['ppc7']\n",
    "ppc100=traces['ppc100']"
   ]
  },
  {
   "cell_type": "markdown",
   "metadata": {},
   "source": [
    "#### Known flux and metabolite concentrations check"
   ]
  },
  {
   "cell_type": "code",
   "execution_count": null,
   "metadata": {},
   "outputs": [],
   "source": [
    "v_ppc_01 = az.summary(ppc01['posterior_predictive']['v_hat_obs'])['mean']\n",
    "v_ppc_02 = az.summary(ppc02['posterior_predictive']['v_hat_obs'])['mean']\n",
    "v_ppc_03 = az.summary(ppc03['posterior_predictive']['v_hat_obs'])['mean']\n",
    "v_ppc_04 = az.summary(ppc04['posterior_predictive']['v_hat_obs'])['mean']\n",
    "v_ppc_05 = az.summary(ppc05['posterior_predictive']['v_hat_obs'])['mean']\n",
    "v_ppc_15 = az.summary(ppc15['posterior_predictive']['v_hat_obs'])['mean']\n",
    "v_ppc_3 = az.summary(ppc3['posterior_predictive']['v_hat_obs'])['mean']\n",
    "v_ppc_5 = az.summary(ppc5['posterior_predictive']['v_hat_obs'])['mean']\n",
    "v_ppc_7 = az.summary(ppc7['posterior_predictive']['v_hat_obs'])['mean']\n",
    "v_ppc_100 = az.summary(ppc100['posterior_predictive']['v_hat_obs'])['mean']\n"
   ]
  },
  {
   "cell_type": "code",
   "execution_count": null,
   "metadata": {},
   "outputs": [],
   "source": [
    "x_ppc_01 = az.summary(ppc01['posterior_predictive']['chi_obs'])['mean']\n",
    "x_ppc_02 = az.summary(ppc02['posterior_predictive']['chi_obs'])['mean']\n",
    "x_ppc_03 = az.summary(ppc03['posterior_predictive']['chi_obs'])['mean']\n",
    "x_ppc_04 = az.summary(ppc04['posterior_predictive']['chi_obs'])['mean']\n",
    "x_ppc_05 = az.summary(ppc05['posterior_predictive']['chi_obs'])['mean']\n",
    "x_ppc_15 = az.summary(ppc15['posterior_predictive']['chi_obs'])['mean']\n",
    "x_ppc_3 = az.summary(ppc3['posterior_predictive']['chi_obs'])['mean']\n",
    "x_ppc_5 = az.summary(ppc5['posterior_predictive']['chi_obs'])['mean']\n",
    "x_ppc_7 = az.summary(ppc7['posterior_predictive']['chi_obs'])['mean']\n",
    "x_ppc_100 = az.summary(ppc100['posterior_predictive']['chi_obs'])['mean']\n"
   ]
  },
  {
   "cell_type": "code",
   "execution_count": null,
   "metadata": {},
   "outputs": [],
   "source": [
    "e_ppc_01 = az.summary(ppc01['posterior_predictive']['e_obs'])['mean']\n",
    "e_ppc_02 = az.summary(ppc02['posterior_predictive']['e_obs'])['mean']\n",
    "e_ppc_03 = az.summary(ppc03['posterior_predictive']['e_obs'])['mean']\n",
    "e_ppc_04 = az.summary(ppc04['posterior_predictive']['e_obs'])['mean']\n",
    "e_ppc_05 = az.summary(ppc05['posterior_predictive']['e_obs'])['mean']\n",
    "e_ppc_15 = az.summary(ppc15['posterior_predictive']['e_obs'])['mean']\n",
    "e_ppc_3 = az.summary(ppc3['posterior_predictive']['e_obs'])['mean']\n",
    "e_ppc_5 = az.summary(ppc5['posterior_predictive']['e_obs'])['mean']\n",
    "e_ppc_7 = az.summary(ppc7['posterior_predictive']['e_obs'])['mean']\n",
    "e_ppc_100 = az.summary(ppc100['posterior_predictive']['e_obs'])['mean']\n"
   ]
  },
  {
   "cell_type": "code",
   "execution_count": null,
   "metadata": {},
   "outputs": [],
   "source": [
    "v_ppcs = [v_ppc_01,v_ppc_02,v_ppc_03,v_ppc_04,v_ppc_05,v_ppc_15,v_ppc_3,v_ppc_5,v_ppc_7,v_ppc_100,]\n",
    "x_ppcs = [x_ppc_01,x_ppc_02,x_ppc_03,x_ppc_04,x_ppc_05,x_ppc_15,x_ppc_3,x_ppc_5,x_ppc_7,x_ppc_100,]\n",
    "e_ppcs = [e_ppc_01,e_ppc_02,e_ppc_03,e_ppc_04,e_ppc_05,e_ppc_15,e_ppc_3,e_ppc_5,e_ppc_7,e_ppc_100,]"
   ]
  },
  {
   "cell_type": "code",
   "execution_count": null,
   "metadata": {},
   "outputs": [],
   "source": [
    "bmca_objs = [BMCA_obj01,BMCA_obj02,BMCA_obj03,BMCA_obj04,BMCA_obj05,BMCA_obj15,BMCA_obj3,BMCA_obj5,BMCA_obj7,BMCA_obj100]"
   ]
  },
  {
   "cell_type": "code",
   "execution_count": null,
   "metadata": {},
   "outputs": [],
   "source": [
    "# Create two subplots and unpack the output array immediately\n",
    "f, ax = plt.subplots(10, 3, figsize=(8,16))\n",
    "\n",
    "for i in range(10):\n",
    "\n",
    "    # ax[i,0].set_aspect('equal', 'datalim')\n",
    "    ax[i,0].scatter(bmca_objs[i].vn.values, v_ppcs[i].values.reshape((19,-1)))\n",
    "    ax[i,0].axline([0, 0], [1, 1], c='gray', linestyle='dashed', zorder=1, linewidth=3)\n",
    "    # ax[i,0].set_title('v_obs, ground truth vs. posterior predictive')\n",
    "    ax[i,0].set_xlabel('ground truth values')\n",
    "    # ax[i,0].set_ylabel('predicted values')\n",
    "    ax[i,0].grid()\n",
    "    ax[i,0].set_ylim((-10,10))\n",
    "\n",
    "    # ax[i,1].set_aspect('equal', 'datalim')\n",
    "    ax[i,1].scatter(bmca_objs[i].xn.values, x_ppcs[i].values.reshape((13,-1)))\n",
    "    ax[i,1].axline([0, 0], [1, 1], c='gray', linestyle='dashed', zorder=1, linewidth=3)\n",
    "    # ax[i,1].set_title('chi_obs, ground truth vs. posterior predictive')\n",
    "    ax[i,1].set_xlabel('ground truth values')\n",
    "    ax[i,1].grid()\n",
    "    ax[i,1].set_ylim((-2,2))\n",
    "\n",
    "    # ax[i,1].set_aspect('equal', 'datalim')\n",
    "    ax[i,2].scatter(bmca_objs[i].en.values, e_ppcs[i].values.reshape((19,-1)))\n",
    "    ax[i,2].axline([0, 0], [1, 1], c='gray', linestyle='dashed', zorder=1, linewidth=3)\n",
    "    # ax[i,1].set_title('e_obs, ground truth vs. posterior predictive')\n",
    "    ax[i,2].set_xlabel('ground truth values')\n",
    "    ax[i,2].grid()\n",
    "    \n",
    "\n",
    "\n",
    "f.tight_layout()\n",
    "\n",
    "# f.suptitle('BMCA on Topology C by perturbation, allData')"
   ]
  },
  {
   "cell_type": "markdown",
   "metadata": {},
   "source": [
    "### Elasticity check "
   ]
  },
  {
   "cell_type": "code",
   "execution_count": 14,
   "metadata": {},
   "outputs": [
    {
     "name": "stderr",
     "output_type": "stream",
     "text": [
      "arviz - WARNING - Shape validation failed: input_shape: (1, 1000), minimum_shape: (chains=2, draws=4)\n",
      "arviz - WARNING - Shape validation failed: input_shape: (1, 1000), minimum_shape: (chains=2, draws=4)\n"
     ]
    }
   ],
   "source": [
    "Ex01_advi = util.get_az_summary(trace01)\n",
    "Ex02_advi = util.get_az_summary(trace02)\n",
    "Ex03_advi = util.get_az_summary(trace03)\n",
    "Ex04_advi = util.get_az_summary(trace04)\n",
    "Ex05_advi = util.get_az_summary(trace05)\n",
    "\n",
    "Ex15_advi = util.get_az_summary(trace15)\n",
    "Ex3_advi = util.get_az_summary(trace3)\n",
    "Ex5_advi = util.get_az_summary(trace5)\n",
    "Ex7_advi = util.get_az_summary(trace7)\n",
    "Ex100_advi = util.get_az_summary(trace100)"
   ]
  },
  {
   "cell_type": "code",
   "execution_count": null,
   "metadata": {},
   "outputs": [],
   "source": [
    "elasticity_values = np.column_stack([r.getScaledElasticityMatrix().flatten(),\n",
    "                                Ex01_advi, Ex02_advi, Ex03_advi, \n",
    "                               Ex04_advi, Ex05_advi,  \n",
    "                               Ex15_advi, Ex3_advi, Ex5_advi, \n",
    "                               Ex7_advi, Ex100_advi])\n",
    "\n",
    "elasticities_df = pd.DataFrame(elasticity_values, columns=['gt']+pt_labels,\n",
    "                               index=[i + '_' + ii for i in r.getReactionIds() for ii in r.getFloatingSpeciesIds()])\n",
    "# elasticities_df.to_csv('topologyB-noReg_allData_elasticities.csv')"
   ]
  },
  {
   "cell_type": "code",
   "execution_count": 15,
   "metadata": {},
   "outputs": [],
   "source": [
    "e_slopes = [round(util.calculate_slope(elasticities_df['gt'], elasticities_df[i])[0],3) for i in pt_labels]\n",
    "e_intercepts = [round(util.calculate_slope(elasticities_df['gt'], elasticities_df[i])[1],3) for i in pt_labels]\n",
    "e_r2s = [round(util.calculate_slope(elasticities_df['gt'], elasticities_df[i])[2],3) for i in pt_labels]"
   ]
  },
  {
   "cell_type": "code",
   "execution_count": 15,
   "metadata": {},
   "outputs": [
    {
     "data": {
      "image/png": "[encoded data removed]",
      "text/plain": [
       "<Figure size 640x480 with 1 Axes>"
      ]
     },
     "metadata": {},
     "output_type": "display_data"
    }
   ],
   "source": [
    "plt.axes().set_aspect('equal', 'datalim')\n",
    "# plt.scatter(elasticities_df['gt'], elasticities_df['knockout'], alpha=0.4, label='knockout', zorder=10)\n",
    "plt.scatter(elasticities_df['gt'], elasticities_df['0.1x'], alpha=0.4, label='0.1x', zorder=10)\n",
    "plt.scatter(elasticities_df['gt'], elasticities_df['0.2x'], alpha=0.4, label='0.2x', zorder=10)\n",
    "plt.scatter(elasticities_df['gt'], elasticities_df['0.3x'], alpha=0.4, label='0.3x', zorder=10)\n",
    "plt.scatter(elasticities_df['gt'], elasticities_df['0.4x'], alpha=0.4, label='0.4x', zorder=10)\n",
    "plt.scatter(elasticities_df['gt'], elasticities_df['0.5x'], alpha=0.4, label='0.5x', zorder=10)\n",
    "# plt.scatter(elasticities_df['gt'], elasticities_df['1.01x'], alpha=0.4, label='1.01x', zorder=10)\n",
    "\n",
    "plt.axline([0, 0], [1, 1], c='gray', linestyle='dashed', zorder=1, linewidth=3)\n",
    "plt.grid(True, which='both', axis='both', zorder=0)\n",
    "plt.xlabel('ground truth elasticity values', size=14)\n",
    "plt.ylabel('predicted elasticity values, $\\it{r}$', size=14)\n",
    "# plt.title('Parity plot of elasticity values for various \\nenzyme perturbation strengths—CRISPRi', size=20)\n",
    "plt.title('allData noReg CRISPRi', size=20)\n",
    "plt.legend(bbox_to_anchor=(1.04, 1), loc=\"upper left\")\n",
    "\n",
    "left_adjust = 9\n",
    "line_spacing = 0.5\n",
    "slope_start = 2\n",
    "r2_start = slope_start-(7*line_spacing)\n",
    "\n",
    "plt.text(left_adjust, slope_start, \"slopes\")\n",
    "for i, label in enumerate(pt_labels[0:5]):\n",
    "    plt.text(left_adjust, (slope_start-line_spacing)-(i*line_spacing), f'{label}: {e_slopes[i]}')\n",
    "\n",
    "plt.text(left_adjust, r2_start, 'R-squared')\n",
    "for i, label in enumerate(pt_labels[0:5]):\n",
    "    plt.text(left_adjust, (r2_start-line_spacing)-(i*line_spacing), f'{label}: {e_r2s[i]}')\n",
    "\n",
    "colors = ['tab:blue', 'tab:orange', 'tab:green', 'tab:red', 'tab:purple']\n",
    "for i in range(5):\n",
    "    plt.axline((0, e_intercepts[i]), slope=e_slopes[i], linestyle='--', alpha=0.6, color=colors[i], zorder=0)"
   ]
  },
  {
   "cell_type": "code",
   "execution_count": null,
   "metadata": {},
   "outputs": [],
   "source": [
    "plt.axes().set_aspect('equal', 'datalim')\n",
    "# plt.scatter(elasticities_df['gt'], elasticities_df['1.01x'], alpha=0.4, label='1.01x')\n",
    "plt.scatter(elasticities_df['gt'], elasticities_df['1.5x'], alpha=0.4, label='1.5x')\n",
    "plt.scatter(elasticities_df['gt'], elasticities_df['3x'], alpha=0.4, label='3x')\n",
    "plt.scatter(elasticities_df['gt'], elasticities_df['5x'], alpha=0.4, label='5x')\n",
    "plt.scatter(elasticities_df['gt'], elasticities_df['7x'], alpha=0.4, label='7x')\n",
    "plt.scatter(elasticities_df['gt'], elasticities_df['10x'], alpha=0.4, label='10x')\n",
    "\n",
    "plt.axline([0, 0], [1, 1], c='gray', linestyle='dashed', zorder=1,linewidth=3)\n",
    "plt.grid(True, which='both', axis='both', zorder=0)\n",
    "plt.xlabel('ground truth elasticity values', size=14)\n",
    "plt.ylabel('predicted elasticity values, $\\it{r}$', size=14)\n",
    "plt.title('allData noReg CRISPRa', size=20)\n",
    "plt.legend(bbox_to_anchor=(1.04, 1), loc=\"upper left\")\n",
    "\n",
    "left_adjust = 9\n",
    "line_spacing = 0.5\n",
    "slope_start = 2\n",
    "r2_start = slope_start-(7*line_spacing)\n",
    "\n",
    "plt.text(left_adjust, slope_start, \"slopes\")\n",
    "for i, label in enumerate(pt_labels[5:10]):\n",
    "    plt.text(left_adjust, (slope_start-line_spacing)-(i*line_spacing), f'{label}: {e_slopes[i+5]}')\n",
    "\n",
    "plt.text(left_adjust, r2_start, 'R-squared')\n",
    "for i, label in enumerate(pt_labels[5:10]):\n",
    "    plt.text(left_adjust, (r2_start-line_spacing)-(i*line_spacing), f'{label}: {e_r2s[i+5]}')\n",
    "\n",
    "colors = ['tab:blue', 'tab:orange', 'tab:green', 'tab:red', 'tab:purple']\n",
    "for i in range(5):\n",
    "    plt.axline((0, e_intercepts[i+5]), slope=e_slopes[i+5], linestyle='--', alpha=0.6, color=colors[i], zorder=0)"
   ]
  },
  {
   "cell_type": "code",
   "execution_count": 16,
   "metadata": {},
   "outputs": [],
   "source": [
    "# print out MAE for each perturbation strength\n",
    "MAE = abs(elasticities_df.sub(elasticities_df['gt'], axis=0)).sum()/len(elasticities_df['gt'])\n",
    "MAE"
   ]
  },
  {
   "cell_type": "code",
   "execution_count": 17,
   "metadata": {},
   "outputs": [
    {
     "data": {
      "text/plain": [
       "gt          0.000000\n",
       "0.5x    12434.703111\n",
       "1.5x    12446.295214\n",
       "dtype: float64"
      ]
     },
     "execution_count": 17,
     "metadata": {},
     "output_type": "execute_result"
    }
   ],
   "source": [
    "MAE.to_csv('topologyC_allData_MAE.csv')"
   ]
  },
  {
   "cell_type": "markdown",
   "metadata": {},
   "source": [
    "## Calculating FCCs"
   ]
  },
  {
   "cell_type": "code",
   "execution_count": 16,
   "metadata": {},
   "outputs": [],
   "source": [
    "gtFCC = pd.DataFrame(r.getScaledFluxControlCoefficientMatrix(), index=r.getReactionIds(), columns=r.getReactionIds())"
   ]
  },
  {
   "cell_type": "code",
   "execution_count": 17,
   "metadata": {},
   "outputs": [],
   "source": [
    "def estimate_CCs(BMCA_obj, Ex):\n",
    "    BMCA_obj.vn[BMCA_obj.vn == 0] = 1e-6\n",
    "    \n",
    "    a = np.diag(BMCA_obj.en.values / BMCA_obj.vn.values)\n",
    "    a = np.diag(a)\n",
    "    a = a[np.newaxis,:].repeat(1000, axis=0)\n",
    "\n",
    "    Ex_ss = a @ Ex\n",
    "    As = BMCA_obj.N @ np.diag(BMCA_obj.v_star) @ Ex_ss\n",
    "    bs = BMCA_obj.N @ np.diag(BMCA_obj.v_star)\n",
    "    bs = bs[np.newaxis, :].repeat(1000, axis=0)\n",
    "    \n",
    "    As = at.as_tensor_variable(As)\n",
    "    bs = at.as_tensor_variable(bs)\n",
    "\n",
    "    def solve_aesara(A, b):\n",
    "        rsolve_op = LeastSquaresSolve()\n",
    "        return rsolve_op(A, b).squeeze()\n",
    "\n",
    "    CCC, _ = aesara.scan(lambda A, b: solve_aesara(A, b),\n",
    "                        sequences=[As, bs], strict=True)\n",
    "\n",
    "    identity = np.eye(len(BMCA_obj.N.T))\n",
    "    identity = identity[np.newaxis,:].repeat(1000, axis=0)\n",
    "    \n",
    "    FCC = (Ex_ss @ CCC.eval()) + identity\n",
    "    \n",
    "    # return CCC.eval(), FCC\n",
    "    return FCC\n"
   ]
  },
  {
   "cell_type": "markdown",
   "metadata": {},
   "source": [
    "## Negative predictions"
   ]
  },
  {
   "cell_type": "code",
   "execution_count": 18,
   "metadata": {},
   "outputs": [
    {
     "name": "stderr",
     "output_type": "stream",
     "text": [
      "arviz - WARNING - Shape validation failed: input_shape: (1, 500), minimum_shape: (chains=2, draws=4)\n",
      "arviz - WARNING - Shape validation failed: input_shape: (1, 500), minimum_shape: (chains=2, draws=4)\n"
     ]
    }
   ],
   "source": [
    "Ex05_prior = util.get_az_summary(prior05['prior']['Ex'])\n",
    "Ex15_prior = util.get_az_summary(prior15['prior']['Ex'])\n"
   ]
  },
  {
   "cell_type": "code",
   "execution_count": 19,
   "metadata": {},
   "outputs": [],
   "source": [
    "priorFCC05 = estimate_CCs(BMCA_obj05, Ex05_prior.reshape((68,-1)))\n",
    "priorFCC15 = estimate_CCs(BMCA_obj15, Ex15_prior.reshape((68,-1)))\n",
    "\n",
    "postFCC05 = estimate_CCs(BMCA_obj05, Ex05_advi.reshape((68,-1)))\n",
    "postFCC15 = estimate_CCs(BMCA_obj15, Ex15_advi.reshape((68,-1)))"
   ]
  },
  {
   "cell_type": "code",
   "execution_count": 20,
   "metadata": {},
   "outputs": [],
   "source": [
    "prior_FCCs = [priorFCC05, priorFCC15]\n",
    "post_FCCs = [postFCC05, postFCC15]\n"
   ]
  },
  {
   "cell_type": "code",
   "execution_count": 21,
   "metadata": {},
   "outputs": [],
   "source": [
    "def append_FCC_df(postFCC, label):\n",
    "    dfs=[]\n",
    "    \n",
    "    for idx, rxn in enumerate(r.getReactionIds()):\n",
    "        # negativity applied here\n",
    "        df = -pd.DataFrame(postFCC[:,idx,:], columns=r.getReactionIds())\n",
    "        df['pt_rxn']=[rxn]*len(df)\n",
    "        dfs.append(df)\n",
    "    \n",
    "    w = pd.concat(dfs)\n",
    "    w['pt_str']=[label]*len(w)\n",
    "    return w\n",
    "\n",
    "prd_priorFCCs = pd.concat([append_FCC_df(prior_FCCs[i], pt_labels[i]) for i in range(len(prior_FCCs))])\n",
    "prd_postFCCs = pd.concat([append_FCC_df(post_FCCs[i], pt_labels[i]) for i in range(len(post_FCCs))])"
   ]
  },
  {
   "cell_type": "code",
   "execution_count": 20,
   "metadata": {},
   "outputs": [
    {
     "data": {
      "text/html": [
       "<div>\n",
       "<style scoped>\n",
       "    .dataframe tbody tr th:only-of-type {\n",
       "        vertical-align: middle;\n",
       "    }\n",
       "\n",
       "    .dataframe tbody tr th {\n",
       "        vertical-align: top;\n",
       "    }\n",
       "\n",
       "    .dataframe thead th {\n",
       "        text-align: right;\n",
       "    }\n",
       "</style>\n",
       "<table border=\"1\" class=\"dataframe\">\n",
       "  <thead>\n",
       "    <tr style=\"text-align: right;\">\n",
       "      <th></th>\n",
       "      <th></th>\n",
       "      <th>vPGI</th>\n",
       "      <th>vPFK</th>\n",
       "      <th>vFBA</th>\n",
       "      <th>vTPI</th>\n",
       "      <th>vGDH</th>\n",
       "      <th>vPGK</th>\n",
       "      <th>vGPM</th>\n",
       "      <th>vENO</th>\n",
       "      <th>vPYK</th>\n",
       "      <th>vZWF</th>\n",
       "      <th>...</th>\n",
       "      <th>vNDHII</th>\n",
       "      <th>vGROWTH</th>\n",
       "      <th>vATP_MAINTENANCE</th>\n",
       "      <th>vXCH_GLC</th>\n",
       "      <th>vPIT</th>\n",
       "      <th>vXCH_P</th>\n",
       "      <th>vXCH_ACE1</th>\n",
       "      <th>v_ACE_OUT</th>\n",
       "      <th>vXCH_ACE2</th>\n",
       "      <th>vGL6P_HYDROLYSIS</th>\n",
       "    </tr>\n",
       "    <tr>\n",
       "      <th>pt_rxn</th>\n",
       "      <th>pt_str</th>\n",
       "      <th></th>\n",
       "      <th></th>\n",
       "      <th></th>\n",
       "      <th></th>\n",
       "      <th></th>\n",
       "      <th></th>\n",
       "      <th></th>\n",
       "      <th></th>\n",
       "      <th></th>\n",
       "      <th></th>\n",
       "      <th></th>\n",
       "      <th></th>\n",
       "      <th></th>\n",
       "      <th></th>\n",
       "      <th></th>\n",
       "      <th></th>\n",
       "      <th></th>\n",
       "      <th></th>\n",
       "      <th></th>\n",
       "      <th></th>\n",
       "      <th></th>\n",
       "    </tr>\n",
       "  </thead>\n",
       "  <tbody>\n",
       "    <tr>\n",
       "      <th>vPGI</th>\n",
       "      <th>0.5x</th>\n",
       "      <td>-1.942383</td>\n",
       "      <td>0.060086</td>\n",
       "      <td>-0.004408</td>\n",
       "      <td>-0.007406</td>\n",
       "      <td>-0.004743</td>\n",
       "      <td>0.001058</td>\n",
       "      <td>0.045626</td>\n",
       "      <td>0.044006</td>\n",
       "      <td>0.081219</td>\n",
       "      <td>-0.074455</td>\n",
       "      <td>...</td>\n",
       "      <td>-0.025658</td>\n",
       "      <td>-0.033502</td>\n",
       "      <td>0.014880</td>\n",
       "      <td>0.057671</td>\n",
       "      <td>-0.025320</td>\n",
       "      <td>-0.006504</td>\n",
       "      <td>0.010718</td>\n",
       "      <td>-0.008636</td>\n",
       "      <td>-0.002082</td>\n",
       "      <td>-1.410746e-08</td>\n",
       "    </tr>\n",
       "    <tr>\n",
       "      <th>vPFK</th>\n",
       "      <th>0.5x</th>\n",
       "      <td>0.031761</td>\n",
       "      <td>-1.968222</td>\n",
       "      <td>0.001607</td>\n",
       "      <td>-0.000436</td>\n",
       "      <td>0.012906</td>\n",
       "      <td>0.005780</td>\n",
       "      <td>0.040117</td>\n",
       "      <td>0.034637</td>\n",
       "      <td>0.054114</td>\n",
       "      <td>-0.043164</td>\n",
       "      <td>...</td>\n",
       "      <td>-0.010469</td>\n",
       "      <td>-0.019120</td>\n",
       "      <td>0.011083</td>\n",
       "      <td>0.056493</td>\n",
       "      <td>-0.008567</td>\n",
       "      <td>-0.001665</td>\n",
       "      <td>0.007775</td>\n",
       "      <td>-0.006019</td>\n",
       "      <td>-0.001756</td>\n",
       "      <td>-8.541569e-09</td>\n",
       "    </tr>\n",
       "    <tr>\n",
       "      <th>vFBA</th>\n",
       "      <th>0.5x</th>\n",
       "      <td>0.031798</td>\n",
       "      <td>0.031410</td>\n",
       "      <td>-1.998153</td>\n",
       "      <td>-0.000234</td>\n",
       "      <td>0.013383</td>\n",
       "      <td>0.006005</td>\n",
       "      <td>0.040548</td>\n",
       "      <td>0.034968</td>\n",
       "      <td>0.054343</td>\n",
       "      <td>-0.043175</td>\n",
       "      <td>...</td>\n",
       "      <td>-0.010451</td>\n",
       "      <td>-0.019181</td>\n",
       "      <td>0.011288</td>\n",
       "      <td>0.056458</td>\n",
       "      <td>-0.008451</td>\n",
       "      <td>-0.001635</td>\n",
       "      <td>0.007763</td>\n",
       "      <td>-0.006010</td>\n",
       "      <td>-0.001752</td>\n",
       "      <td>-8.540431e-09</td>\n",
       "    </tr>\n",
       "    <tr>\n",
       "      <th>vTPI</th>\n",
       "      <th>0.5x</th>\n",
       "      <td>0.031798</td>\n",
       "      <td>0.031410</td>\n",
       "      <td>0.001847</td>\n",
       "      <td>-2.000234</td>\n",
       "      <td>0.013383</td>\n",
       "      <td>0.006005</td>\n",
       "      <td>0.040548</td>\n",
       "      <td>0.034968</td>\n",
       "      <td>0.054343</td>\n",
       "      <td>-0.043175</td>\n",
       "      <td>...</td>\n",
       "      <td>-0.010451</td>\n",
       "      <td>-0.019181</td>\n",
       "      <td>0.011288</td>\n",
       "      <td>0.056458</td>\n",
       "      <td>-0.008451</td>\n",
       "      <td>-0.001635</td>\n",
       "      <td>0.007763</td>\n",
       "      <td>-0.006010</td>\n",
       "      <td>-0.001752</td>\n",
       "      <td>-8.540431e-09</td>\n",
       "    </tr>\n",
       "    <tr>\n",
       "      <th>vGDH</th>\n",
       "      <th>0.5x</th>\n",
       "      <td>0.015408</td>\n",
       "      <td>0.020399</td>\n",
       "      <td>0.001379</td>\n",
       "      <td>-0.001520</td>\n",
       "      <td>-1.988754</td>\n",
       "      <td>0.003235</td>\n",
       "      <td>0.029239</td>\n",
       "      <td>0.023232</td>\n",
       "      <td>0.034336</td>\n",
       "      <td>-0.021080</td>\n",
       "      <td>...</td>\n",
       "      <td>-0.005440</td>\n",
       "      <td>-0.014809</td>\n",
       "      <td>0.005657</td>\n",
       "      <td>0.057245</td>\n",
       "      <td>-0.003860</td>\n",
       "      <td>-0.000324</td>\n",
       "      <td>0.006036</td>\n",
       "      <td>-0.004553</td>\n",
       "      <td>-0.001483</td>\n",
       "      <td>-4.206839e-09</td>\n",
       "    </tr>\n",
       "  </tbody>\n",
       "</table>\n",
       "<p>5 rows × 68 columns</p>\n",
       "</div>"
      ],
      "text/plain": [
       "                   vPGI      vPFK      vFBA      vTPI      vGDH      vPGK  \\\n",
       "pt_rxn pt_str                                                               \n",
       "vPGI   0.5x   -1.942383  0.060086 -0.004408 -0.007406 -0.004743  0.001058   \n",
       "vPFK   0.5x    0.031761 -1.968222  0.001607 -0.000436  0.012906  0.005780   \n",
       "vFBA   0.5x    0.031798  0.031410 -1.998153 -0.000234  0.013383  0.006005   \n",
       "vTPI   0.5x    0.031798  0.031410  0.001847 -2.000234  0.013383  0.006005   \n",
       "vGDH   0.5x    0.015408  0.020399  0.001379 -0.001520 -1.988754  0.003235   \n",
       "\n",
       "                   vGPM      vENO      vPYK      vZWF  ...    vNDHII  \\\n",
       "pt_rxn pt_str                                          ...             \n",
       "vPGI   0.5x    0.045626  0.044006  0.081219 -0.074455  ... -0.025658   \n",
       "vPFK   0.5x    0.040117  0.034637  0.054114 -0.043164  ... -0.010469   \n",
       "vFBA   0.5x    0.040548  0.034968  0.054343 -0.043175  ... -0.010451   \n",
       "vTPI   0.5x    0.040548  0.034968  0.054343 -0.043175  ... -0.010451   \n",
       "vGDH   0.5x    0.029239  0.023232  0.034336 -0.021080  ... -0.005440   \n",
       "\n",
       "                vGROWTH  vATP_MAINTENANCE  vXCH_GLC      vPIT    vXCH_P  \\\n",
       "pt_rxn pt_str                                                             \n",
       "vPGI   0.5x   -0.033502          0.014880  0.057671 -0.025320 -0.006504   \n",
       "vPFK   0.5x   -0.019120          0.011083  0.056493 -0.008567 -0.001665   \n",
       "vFBA   0.5x   -0.019181          0.011288  0.056458 -0.008451 -0.001635   \n",
       "vTPI   0.5x   -0.019181          0.011288  0.056458 -0.008451 -0.001635   \n",
       "vGDH   0.5x   -0.014809          0.005657  0.057245 -0.003860 -0.000324   \n",
       "\n",
       "               vXCH_ACE1  v_ACE_OUT  vXCH_ACE2  vGL6P_HYDROLYSIS  \n",
       "pt_rxn pt_str                                                     \n",
       "vPGI   0.5x     0.010718  -0.008636  -0.002082     -1.410746e-08  \n",
       "vPFK   0.5x     0.007775  -0.006019  -0.001756     -8.541569e-09  \n",
       "vFBA   0.5x     0.007763  -0.006010  -0.001752     -8.540431e-09  \n",
       "vTPI   0.5x     0.007763  -0.006010  -0.001752     -8.540431e-09  \n",
       "vGDH   0.5x     0.006036  -0.004553  -0.001483     -4.206839e-09  \n",
       "\n",
       "[5 rows x 68 columns]"
      ]
     },
     "execution_count": 20,
     "metadata": {},
     "output_type": "execute_result"
    }
   ],
   "source": [
    "medPrdFCCs = pd.pivot_table(prd_FCCs, index=['pt_rxn','pt_str'], aggfunc='median', sort=False)\n",
    "medPrdFCCs.head()"
   ]
  },
  {
   "cell_type": "markdown",
   "metadata": {},
   "source": [
    "## Evaluating FCC ranking"
   ]
  },
  {
   "cell_type": "code",
   "execution_count": 22,
   "metadata": {},
   "outputs": [],
   "source": [
    "gtFCC=pd.DataFrame(r.getScaledFluxControlCoefficientMatrix(), columns=r.getReactionIds(), index=r.getReactionIds()).abs()\n",
    "m1 = gtFCC.index.values[:, None] == gtFCC.columns.values\n",
    "gtFCC = pd.DataFrame(np.select([m1], [float('Nan')], gtFCC), columns=gtFCC.columns, index=gtFCC.index)\n",
    "gtFCC_rankings= gtFCC.rank(axis=1, ascending=False, na_option='keep')\n",
    "\n",
    "a = gtFCC_rankings.loc['v_ACE_OUT']"
   ]
  },
  {
   "cell_type": "code",
   "execution_count": 24,
   "metadata": {},
   "outputs": [],
   "source": [
    "def calculate_FCC_med_rankings(postFCC, reaction='v_ACE_OUT'):\n",
    "    postFCC_med=pd.DataFrame(np.median(postFCC, axis=0), columns=r.getReactionIds(), index=r.getReactionIds()).abs()\n",
    "    m1 = postFCC_med.index.values[:, None] == postFCC_med.columns.values\n",
    "    postFCC = pd.DataFrame(np.select([m1], [float('Nan')], postFCC_med), columns=postFCC_med.columns, index=postFCC_med.index)\n",
    "    postFCC_rankings= postFCC.rank(axis=1, ascending=False, na_option='keep')\n",
    "    \n",
    "    return postFCC_rankings.loc[reaction]\n",
    "    "
   ]
  },
  {
   "cell_type": "markdown",
   "metadata": {},
   "source": [
    "### via Spearman rank coefficients"
   ]
  },
  {
   "cell_type": "code",
   "execution_count": 24,
   "metadata": {},
   "outputs": [],
   "source": [
    "from scipy.stats import spearmanr\n",
    "\n",
    "def bootstrap_spearman(x, y, num_bootstrap=1000, alpha=0.05):\n",
    "    n = len(x)\n",
    "    corr_list = []\n",
    "\n",
    "    # Original Spearman correlation\n",
    "    corr_original, p_value = spearmanr(x, y)\n",
    "\n",
    "    for _ in range(num_bootstrap):\n",
    "        # Generate bootstrap samples\n",
    "        indices = np.random.randint(0, n, n)\n",
    "        x_bootstrap = [x[i] for i in indices]\n",
    "        y_bootstrap = [y[i] for i in indices]\n",
    "\n",
    "        # Calculate Spearman correlation for the bootstrap sample\n",
    "        corr, _ = spearmanr(x_bootstrap, y_bootstrap)\n",
    "        corr_list.append(corr)\n",
    "\n",
    "    # Convert to numpy array for convenience\n",
    "    corr_list = np.array(corr_list)\n",
    "    \n",
    "    # Calculate the confidence intervals\n",
    "    lower_bound = np.percentile(corr_list, (alpha/2) * 100)\n",
    "    upper_bound = np.percentile(corr_list, (1 - alpha/2) * 100)\n",
    "    \n",
    "    return corr_original, p_value, lower_bound, upper_bound"
   ]
  },
  {
   "cell_type": "code",
   "execution_count": 25,
   "metadata": {},
   "outputs": [],
   "source": [
    "spearman_coefficients = []\n",
    "p_values = []\n",
    "confidence_intervals = []\n",
    "b_list = []\n",
    "for FCC in rxn_FCCs:\n",
    "    b = calculate_FCC_med_rankings(FCC)\n",
    "    b_list.append(b)\n",
    "    spearman_r, p_value, lower_ci, upper_ci = bootstrap_spearman(a.dropna(), b.dropna())\n",
    "    spearman_coefficients.append(spearman_r)\n",
    "    p_values.append(p_value)\n",
    "    confidence_intervals.append((lower_ci, upper_ci))\n"
   ]
  },
  {
   "cell_type": "raw",
   "metadata": {
    "vscode": {
     "languageId": "raw"
    }
   },
   "source": [
    "aa = a.dropna().sort_values().iloc[0:10]\n",
    "bb = b_list[0].dropna().sort_values().iloc[0:10]\n",
    "bootstrap_spearman(aa, bb)"
   ]
  },
  {
   "cell_type": "code",
   "execution_count": 35,
   "metadata": {},
   "outputs": [],
   "source": [
    "spearman_coefficients = []\n",
    "p_values = []\n",
    "confidence_intervals = []\n",
    "b_list = []\n",
    "for FCC in rxn_FCCs:\n",
    "    b = calculate_FCC_med_rankings(FCC)\n",
    "    b_list.append(b)\n",
    "\n",
    "    aa = a.dropna().sort_values().iloc[0:10]\n",
    "    bb = b_list[0].dropna().sort_values().iloc[0:10]\n",
    "\n",
    "    spearman_r, p_value, lower_ci, upper_ci = bootstrap_spearman(aa, bb)\n",
    "    spearman_coefficients.append(spearman_r)\n",
    "    p_values.append(p_value)\n",
    "    confidence_intervals.append((lower_ci, upper_ci))\n"
   ]
  },
  {
   "cell_type": "code",
   "execution_count": 36,
   "metadata": {},
   "outputs": [
    {
     "data": {
      "text/html": [
       "<div>\n",
       "<style scoped>\n",
       "    .dataframe tbody tr th:only-of-type {\n",
       "        vertical-align: middle;\n",
       "    }\n",
       "\n",
       "    .dataframe tbody tr th {\n",
       "        vertical-align: top;\n",
       "    }\n",
       "\n",
       "    .dataframe thead th {\n",
       "        text-align: right;\n",
       "    }\n",
       "</style>\n",
       "<table border=\"1\" class=\"dataframe\">\n",
       "  <thead>\n",
       "    <tr style=\"text-align: right;\">\n",
       "      <th></th>\n",
       "      <th>r</th>\n",
       "      <th>p-value</th>\n",
       "      <th>lower</th>\n",
       "      <th>upper</th>\n",
       "    </tr>\n",
       "  </thead>\n",
       "  <tbody>\n",
       "    <tr>\n",
       "      <th>0.5x</th>\n",
       "      <td>1.0</td>\n",
       "      <td>6.646897e-64</td>\n",
       "      <td>1.0</td>\n",
       "      <td>1.0</td>\n",
       "    </tr>\n",
       "    <tr>\n",
       "      <th>1.5x</th>\n",
       "      <td>1.0</td>\n",
       "      <td>6.646897e-64</td>\n",
       "      <td>1.0</td>\n",
       "      <td>1.0</td>\n",
       "    </tr>\n",
       "  </tbody>\n",
       "</table>\n",
       "</div>"
      ],
      "text/plain": [
       "        r       p-value  lower  upper\n",
       "0.5x  1.0  6.646897e-64    1.0    1.0\n",
       "1.5x  1.0  6.646897e-64    1.0    1.0"
      ]
     },
     "execution_count": 36,
     "metadata": {},
     "output_type": "execute_result"
    }
   ],
   "source": [
    "spearman_df = pd.DataFrame(spearman_coefficients, columns=['r'], index=pt_labels)\n",
    "spearman_df['p-value'] = p_values\n",
    "spearman_df['lower'] = [i[0] for i in confidence_intervals]\n",
    "spearman_df['upper'] = [i[1] for i in confidence_intervals]\n",
    "spearman_df"
   ]
  },
  {
   "cell_type": "code",
   "execution_count": 29,
   "metadata": {},
   "outputs": [],
   "source": [
    "spearman_df.to_csv('topologyC_allData_spr.csv')"
   ]
  },
  {
   "cell_type": "code",
   "execution_count": 30,
   "metadata": {},
   "outputs": [
    {
     "ename": "IndexError",
     "evalue": "invalid index to scalar variable.",
     "output_type": "error",
     "traceback": [
      "\u001b[1;31m---------------------------------------------------------------------------\u001b[0m",
      "\u001b[1;31mIndexError\u001b[0m                                Traceback (most recent call last)",
      "Cell \u001b[1;32mIn[30], line 1\u001b[0m\n\u001b[1;32m----> 1\u001b[0m plt\u001b[38;5;241m.\u001b[39mbar(pt_labels, [i[\u001b[38;5;241m0\u001b[39m] \u001b[38;5;28;01mfor\u001b[39;00m i \u001b[38;5;129;01min\u001b[39;00m spearman_coefficients], alpha\u001b[38;5;241m=\u001b[39m\u001b[38;5;241m0.5\u001b[39m, color\u001b[38;5;241m=\u001b[39m\u001b[38;5;124m'\u001b[39m\u001b[38;5;124mr\u001b[39m\u001b[38;5;124m'\u001b[39m)\n\u001b[0;32m      2\u001b[0m plt\u001b[38;5;241m.\u001b[39mgrid()\n\u001b[0;32m      4\u001b[0m \u001b[38;5;28;01mfor\u001b[39;00m i, txt \u001b[38;5;129;01min\u001b[39;00m \u001b[38;5;28menumerate\u001b[39m([i[\u001b[38;5;241m1\u001b[39m]\u001b[38;5;241m.\u001b[39mround(\u001b[38;5;241m3\u001b[39m) \u001b[38;5;28;01mfor\u001b[39;00m i \u001b[38;5;129;01min\u001b[39;00m spearman_coefficients]):\n",
      "Cell \u001b[1;32mIn[30], line 1\u001b[0m, in \u001b[0;36m<listcomp>\u001b[1;34m(.0)\u001b[0m\n\u001b[1;32m----> 1\u001b[0m plt\u001b[38;5;241m.\u001b[39mbar(pt_labels, [\u001b[43mi\u001b[49m\u001b[43m[\u001b[49m\u001b[38;5;241;43m0\u001b[39;49m\u001b[43m]\u001b[49m \u001b[38;5;28;01mfor\u001b[39;00m i \u001b[38;5;129;01min\u001b[39;00m spearman_coefficients], alpha\u001b[38;5;241m=\u001b[39m\u001b[38;5;241m0.5\u001b[39m, color\u001b[38;5;241m=\u001b[39m\u001b[38;5;124m'\u001b[39m\u001b[38;5;124mr\u001b[39m\u001b[38;5;124m'\u001b[39m)\n\u001b[0;32m      2\u001b[0m plt\u001b[38;5;241m.\u001b[39mgrid()\n\u001b[0;32m      4\u001b[0m \u001b[38;5;28;01mfor\u001b[39;00m i, txt \u001b[38;5;129;01min\u001b[39;00m \u001b[38;5;28menumerate\u001b[39m([i[\u001b[38;5;241m1\u001b[39m]\u001b[38;5;241m.\u001b[39mround(\u001b[38;5;241m3\u001b[39m) \u001b[38;5;28;01mfor\u001b[39;00m i \u001b[38;5;129;01min\u001b[39;00m spearman_coefficients]):\n",
      "\u001b[1;31mIndexError\u001b[0m: invalid index to scalar variable."
     ]
    }
   ],
   "source": [
    "plt.bar(pt_labels, [i[0] for i in spearman_coefficients], alpha=0.5, color='r')\n",
    "plt.grid()\n",
    "\n",
    "for i, txt in enumerate([i[1].round(3) for i in spearman_coefficients]):\n",
    "    plt.annotate(txt, (pt_labels[i], [i[0] for i in spearman_coefficients][i]), ha='center')\n",
    "\n",
    "plt.title(\"Spearman rank correlation coefficients by perturbation strength\")\n",
    "plt.xlabel('perturbation level')\n",
    "plt.ylabel('Spearman $\\it{r}$')\n",
    "plt.ylim((0, 1.05))"
   ]
  },
  {
   "cell_type": "markdown",
   "metadata": {},
   "source": [
    "### evaluating top 10 rankings"
   ]
  },
  {
   "cell_type": "code",
   "execution_count": 26,
   "metadata": {},
   "outputs": [],
   "source": [
    "pt_labels= ['0.5x-pr', '1.5x-pr', '0.5x-post', '1.5x-post']"
   ]
  },
  {
   "cell_type": "code",
   "execution_count": 27,
   "metadata": {},
   "outputs": [
    {
     "data": {
      "text/html": [
       "<div>\n",
       "<style scoped>\n",
       "    .dataframe tbody tr th:only-of-type {\n",
       "        vertical-align: middle;\n",
       "    }\n",
       "\n",
       "    .dataframe tbody tr th {\n",
       "        vertical-align: top;\n",
       "    }\n",
       "\n",
       "    .dataframe thead th {\n",
       "        text-align: right;\n",
       "    }\n",
       "</style>\n",
       "<table border=\"1\" class=\"dataframe\">\n",
       "  <thead>\n",
       "    <tr style=\"text-align: right;\">\n",
       "      <th></th>\n",
       "      <th>gt</th>\n",
       "      <th>0.5x-pr</th>\n",
       "      <th>1.5x-pr</th>\n",
       "      <th>0.5x-post</th>\n",
       "      <th>1.5x-post</th>\n",
       "    </tr>\n",
       "    <tr>\n",
       "      <th>v_ACE_OUT</th>\n",
       "      <th></th>\n",
       "      <th></th>\n",
       "      <th></th>\n",
       "      <th></th>\n",
       "      <th></th>\n",
       "    </tr>\n",
       "  </thead>\n",
       "  <tbody>\n",
       "    <tr>\n",
       "      <th>1.0</th>\n",
       "      <td>vACS</td>\n",
       "      <td>vATP_syn</td>\n",
       "      <td>vXCH_ACE2</td>\n",
       "      <td>vXCH_ACE1</td>\n",
       "      <td>vGLT</td>\n",
       "    </tr>\n",
       "    <tr>\n",
       "      <th>2.0</th>\n",
       "      <td>vGLT</td>\n",
       "      <td>vPNT_req</td>\n",
       "      <td>vATP_MAINTENANCE</td>\n",
       "      <td>vATP_MAINTENANCE</td>\n",
       "      <td>vACS</td>\n",
       "    </tr>\n",
       "    <tr>\n",
       "      <th>3.0</th>\n",
       "      <td>vACK</td>\n",
       "      <td>vATP_MAINTENANCE</td>\n",
       "      <td>vXCH_ACE1</td>\n",
       "      <td>vGLT</td>\n",
       "      <td>vXCH_ACE1</td>\n",
       "    </tr>\n",
       "    <tr>\n",
       "      <th>4.0</th>\n",
       "      <td>vGLC_feed</td>\n",
       "      <td>vCYTBO</td>\n",
       "      <td>vACS</td>\n",
       "      <td>vACS</td>\n",
       "      <td>vPTA</td>\n",
       "    </tr>\n",
       "    <tr>\n",
       "      <th>5.0</th>\n",
       "      <td>vATP_MAINTENANCE</td>\n",
       "      <td>vPGK</td>\n",
       "      <td>vCYTBO</td>\n",
       "      <td>vGLC_feed</td>\n",
       "      <td>vACK</td>\n",
       "    </tr>\n",
       "    <tr>\n",
       "      <th>...</th>\n",
       "      <td>...</td>\n",
       "      <td>...</td>\n",
       "      <td>...</td>\n",
       "      <td>...</td>\n",
       "      <td>...</td>\n",
       "    </tr>\n",
       "    <tr>\n",
       "      <th>64.0</th>\n",
       "      <td>vGL6P_HYDROLYSIS</td>\n",
       "      <td>vEDA</td>\n",
       "      <td>vACEK_2</td>\n",
       "      <td>vS7P_R5P_TKT</td>\n",
       "      <td>vACN_1</td>\n",
       "    </tr>\n",
       "    <tr>\n",
       "      <th>65.0</th>\n",
       "      <td>vPTS_4</td>\n",
       "      <td>vFBP</td>\n",
       "      <td>vPPS</td>\n",
       "      <td>vPPS</td>\n",
       "      <td>vPPS</td>\n",
       "    </tr>\n",
       "    <tr>\n",
       "      <th>66.0</th>\n",
       "      <td>vPTS_3</td>\n",
       "      <td>vPPS</td>\n",
       "      <td>vFBP</td>\n",
       "      <td>vFBP</td>\n",
       "      <td>vFBP</td>\n",
       "    </tr>\n",
       "    <tr>\n",
       "      <th>67.0</th>\n",
       "      <td>vXCH_GLC</td>\n",
       "      <td>vGL6P_HYDROLYSIS</td>\n",
       "      <td>vGL6P_HYDROLYSIS</td>\n",
       "      <td>vGL6P_HYDROLYSIS</td>\n",
       "      <td>vGL6P_HYDROLYSIS</td>\n",
       "    </tr>\n",
       "    <tr>\n",
       "      <th>NaN</th>\n",
       "      <td>v_ACE_OUT</td>\n",
       "      <td>v_ACE_OUT</td>\n",
       "      <td>v_ACE_OUT</td>\n",
       "      <td>v_ACE_OUT</td>\n",
       "      <td>v_ACE_OUT</td>\n",
       "    </tr>\n",
       "  </tbody>\n",
       "</table>\n",
       "<p>68 rows × 5 columns</p>\n",
       "</div>"
      ],
      "text/plain": [
       "                         gt           0.5x-pr           1.5x-pr  \\\n",
       "v_ACE_OUT                                                         \n",
       "1.0                    vACS          vATP_syn         vXCH_ACE2   \n",
       "2.0                    vGLT          vPNT_req  vATP_MAINTENANCE   \n",
       "3.0                    vACK  vATP_MAINTENANCE         vXCH_ACE1   \n",
       "4.0               vGLC_feed            vCYTBO              vACS   \n",
       "5.0        vATP_MAINTENANCE              vPGK            vCYTBO   \n",
       "...                     ...               ...               ...   \n",
       "64.0       vGL6P_HYDROLYSIS              vEDA           vACEK_2   \n",
       "65.0                 vPTS_4              vFBP              vPPS   \n",
       "66.0                 vPTS_3              vPPS              vFBP   \n",
       "67.0               vXCH_GLC  vGL6P_HYDROLYSIS  vGL6P_HYDROLYSIS   \n",
       "NaN               v_ACE_OUT         v_ACE_OUT         v_ACE_OUT   \n",
       "\n",
       "                  0.5x-post         1.5x-post  \n",
       "v_ACE_OUT                                      \n",
       "1.0               vXCH_ACE1              vGLT  \n",
       "2.0        vATP_MAINTENANCE              vACS  \n",
       "3.0                    vGLT         vXCH_ACE1  \n",
       "4.0                    vACS              vPTA  \n",
       "5.0               vGLC_feed              vACK  \n",
       "...                     ...               ...  \n",
       "64.0           vS7P_R5P_TKT            vACN_1  \n",
       "65.0                   vPPS              vPPS  \n",
       "66.0                   vFBP              vFBP  \n",
       "67.0       vGL6P_HYDROLYSIS  vGL6P_HYDROLYSIS  \n",
       "NaN               v_ACE_OUT         v_ACE_OUT  \n",
       "\n",
       "[68 rows x 5 columns]"
      ]
     },
     "execution_count": 27,
     "metadata": {},
     "output_type": "execute_result"
    }
   ],
   "source": [
    "b_list = []\n",
    "for FCC in prior_FCCs + post_FCCs:\n",
    "    b = calculate_FCC_med_rankings(FCC)\n",
    "    b_list.append(b)\n",
    "\n",
    "ranked_b_list = [b.sort_values().reset_index().set_index('v_ACE_OUT') for b in b_list]\n",
    "q = pd.concat(ranked_b_list, axis=1)\n",
    "q['gt'] = a.sort_values().reset_index().set_index('v_ACE_OUT')\n",
    "q.columns = pt_labels + ['gt']\n",
    "q = q[['gt'] + pt_labels]\n",
    "q"
   ]
  },
  {
   "cell_type": "code",
   "execution_count": 29,
   "metadata": {},
   "outputs": [],
   "source": [
    "q.to_csv('topologyC_allData-v_rankings.csv')"
   ]
  },
  {
   "cell_type": "markdown",
   "metadata": {},
   "source": [
    "#### Counts of top ten ranked FCCs"
   ]
  },
  {
   "cell_type": "code",
   "execution_count": 33,
   "metadata": {},
   "outputs": [],
   "source": [
    "rank_df = pd.read_csv('topologyC_allData-v_rankings.csv')"
   ]
  },
  {
   "cell_type": "code",
   "execution_count": 34,
   "metadata": {},
   "outputs": [
    {
     "data": {
      "text/html": [
       "<div>\n",
       "<style scoped>\n",
       "    .dataframe tbody tr th:only-of-type {\n",
       "        vertical-align: middle;\n",
       "    }\n",
       "\n",
       "    .dataframe tbody tr th {\n",
       "        vertical-align: top;\n",
       "    }\n",
       "\n",
       "    .dataframe thead th {\n",
       "        text-align: right;\n",
       "    }\n",
       "</style>\n",
       "<table border=\"1\" class=\"dataframe\">\n",
       "  <thead>\n",
       "    <tr style=\"text-align: right;\">\n",
       "      <th></th>\n",
       "      <th>0.5x-pr</th>\n",
       "      <th>1.5x-pr</th>\n",
       "      <th>0.5x-post</th>\n",
       "      <th>1.5x-post</th>\n",
       "    </tr>\n",
       "  </thead>\n",
       "  <tbody>\n",
       "    <tr>\n",
       "      <th>0</th>\n",
       "      <td>3</td>\n",
       "      <td>5</td>\n",
       "      <td>7</td>\n",
       "      <td>6</td>\n",
       "    </tr>\n",
       "  </tbody>\n",
       "</table>\n",
       "</div>"
      ],
      "text/plain": [
       "   0.5x-pr  1.5x-pr  0.5x-post  1.5x-post\n",
       "0        3        5          7          6"
      ]
     },
     "execution_count": 34,
     "metadata": {},
     "output_type": "execute_result"
    }
   ],
   "source": [
    "topTen_df = rank_df[rank_df['v_ACE_OUT'].isin([1,2,3,4,5,6,7,8,9,10])]\n",
    "\n",
    "gt_t10_set = set(list(topTen_df['gt']))\n",
    "\n",
    "t10_sets = []\n",
    "for pt in pt_labels: \n",
    "    t10_sets.append(set(list(topTen_df[pt])))\n",
    "\n",
    "t10_scores=[]\n",
    "for i in t10_sets: \n",
    "    t10_scores.append(len(set.intersection(gt_t10_set, i)))\n",
    "\n",
    "t10_results = pd.DataFrame((np.array(t10_scores)).reshape((len(pt_labels),-1)).T, \n",
    "             columns=pt_labels)\n",
    "t10_results"
   ]
  },
  {
   "cell_type": "code",
   "execution_count": 35,
   "metadata": {},
   "outputs": [
    {
     "name": "stdout",
     "output_type": "stream",
     "text": [
      "Int64Index([15, 18, 22, 32, 40, 49, 61], dtype='int64')\n",
      "Int64Index([22, 33, 42, 43, 60], dtype='int64')\n",
      "Int64Index([33, 43, 48], dtype='int64')\n",
      "Int64Index([33, 38, 42, 43], dtype='int64')\n"
     ]
    }
   ],
   "source": [
    "# difference\n",
    "dif_list = []\n",
    "for i in t10_sets: \n",
    "    dif_list.append(i.difference(gt_t10_set))\n",
    "\n",
    "for i in dif_list: \n",
    "    print(rank_df['gt'].loc[lambda x: x.isin(i)].index)"
   ]
  }
 ],
 "metadata": {
  "kernelspec": {
   "display_name": "gayles",
   "language": "python",
   "name": "python3"
  },
  "language_info": {
   "codemirror_mode": {
    "name": "ipython",
    "version": 3
   },
   "file_extension": ".py",
   "mimetype": "text/x-python",
   "name": "python",
   "nbconvert_exporter": "python",
   "pygments_lexer": "ipython3",
   "version": "3.9.19"
  }
 },
 "nbformat": 4,
 "nbformat_minor": 2
}
