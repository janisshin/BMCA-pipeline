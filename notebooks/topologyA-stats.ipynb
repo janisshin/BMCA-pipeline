{
 "cells": [
  {
   "cell_type": "markdown",
   "metadata": {},
   "source": [
    "## setup"
   ]
  },
  {
   "cell_type": "code",
   "execution_count": 35,
   "metadata": {},
   "outputs": [],
   "source": [
    "topology = 'A'\n",
    "omission = 'omitExMet'"
   ]
  },
  {
   "cell_type": "code",
   "execution_count": 36,
   "metadata": {},
   "outputs": [],
   "source": [
    "from scipy.stats import f_oneway\n",
    "from scipy.stats import kruskal\n",
    "\n",
    "import pandas as pd\n",
    "import numpy as np\n",
    "import tellurium as te\n",
    "\n",
    "import statsmodels.api as sm\n",
    "from statsmodels.formula.api import ols\n",
    "\n",
    "import scipy as sp\n",
    "\n",
    "import seaborn as sns\n",
    "import matplotlib.pyplot as plt\n",
    "from matplotlib.colors import LogNorm\n",
    "\n",
    "import os\n",
    "\n",
    "import gzip\n",
    "import cloudpickle"
   ]
  },
  {
   "cell_type": "code",
   "execution_count": 37,
   "metadata": {},
   "outputs": [],
   "source": [
    "os.chdir('..')\n",
    "from src import antemll, util\n",
    "os.chdir('notebooks')"
   ]
  },
  {
   "cell_type": "code",
   "execution_count": 38,
   "metadata": {},
   "outputs": [],
   "source": [
    "ant_noReg ='../models/Antimony/topologyA-noReg.ant' \n",
    "ant_reg1 ='../models/Antimony/topologyA-reg1.ant'\n",
    "ant_reg2 ='../models/Antimony/topologyA-reg2.ant' \n",
    "\n",
    "rr_noReg = te.loada(ant_noReg)\n",
    "rr_noReg.conservedMoietyAnalysis = True\n",
    "rr_noReg.steadyState()\n",
    "\n",
    "rr_reg1 = te.loada(ant_reg1)\n",
    "rr_reg1.conservedMoietyAnalysis = True\n",
    "rr_reg1.steadyState()\n",
    "\n",
    "rr_reg2 = te.loada(ant_reg2)\n",
    "rr_reg2.conservedMoietyAnalysis = True\n",
    "rr_reg2.steadyState()\n",
    "\n",
    "gt_noReg = rr_noReg.getScaledElasticityMatrix().ravel()\n",
    "gt_reg1 = rr_reg1.getScaledElasticityMatrix().ravel()\n",
    "gt_reg2 = rr_reg2.getScaledElasticityMatrix().ravel()"
   ]
  },
  {
   "cell_type": "code",
   "execution_count": 39,
   "metadata": {},
   "outputs": [],
   "source": [
    "datafile01_noReg = f'../data/interim/generated_data/Topology{topology}-noReg/Topology{topology}-noReg_0.1.csv'\n",
    "datafile02_noReg = f'../data/interim/generated_data/Topology{topology}-noReg/Topology{topology}-noReg_0.2.csv'\n",
    "datafile03_noReg = f'../data/interim/generated_data/Topology{topology}-noReg/Topology{topology}-noReg_0.3.csv'\n",
    "datafile04_noReg = f'../data/interim/generated_data/Topology{topology}-noReg/Topology{topology}-noReg_0.4.csv'\n",
    "datafile05_noReg = f'../data/interim/generated_data/Topology{topology}-noReg/Topology{topology}-noReg_0.5.csv'\n",
    "datafile15_noReg = f'../data/interim/generated_data/Topology{topology}-noReg/Topology{topology}-noReg_1.5.csv'\n",
    "datafile3_noReg = f'../data/interim/generated_data/Topology{topology}-noReg/Topology{topology}-noReg_3.csv'\n",
    "datafile5_noReg = f'../data/interim/generated_data/Topology{topology}-noReg/Topology{topology}-noReg_5.csv'\n",
    "datafile7_noReg = f'../data/interim/generated_data/Topology{topology}-noReg/Topology{topology}-noReg_7.csv'\n",
    "datafile100_noReg = f'../data/interim/generated_data/Topology{topology}-noReg/Topology{topology}-noReg_10.csv'\n",
    "\n",
    "datafile01_reg1 = f'../data/interim/generated_data/Topology{topology}-reg1/Topology{topology}-reg1_0.1.csv'\n",
    "datafile02_reg1 = f'../data/interim/generated_data/Topology{topology}-reg1/Topology{topology}-reg1_0.2.csv'\n",
    "datafile03_reg1 = f'../data/interim/generated_data/Topology{topology}-reg1/Topology{topology}-reg1_0.3.csv'\n",
    "datafile04_reg1 = f'../data/interim/generated_data/Topology{topology}-reg1/Topology{topology}-reg1_0.4.csv'\n",
    "datafile05_reg1 = f'../data/interim/generated_data/Topology{topology}-reg1/Topology{topology}-reg1_0.5.csv'\n",
    "datafile15_reg1 = f'../data/interim/generated_data/Topology{topology}-reg1/Topology{topology}-reg1_1.5.csv'\n",
    "datafile3_reg1 = f'../data/interim/generated_data/Topology{topology}-reg1/Topology{topology}-reg1_3.csv'\n",
    "datafile5_reg1 = f'../data/interim/generated_data/Topology{topology}-reg1/Topology{topology}-reg1_5.csv'\n",
    "datafile7_reg1 = f'../data/interim/generated_data/Topology{topology}-reg1/Topology{topology}-reg1_7.csv'\n",
    "datafile100_reg1 = f'../data/interim/generated_data/Topology{topology}-reg1/Topology{topology}-reg1_10.csv'\n",
    "\n",
    "datafile01_reg2 = f'../data/interim/generated_data/Topology{topology}-reg2/Topology{topology}-reg2_0.1.csv'\n",
    "datafile02_reg2 = f'../data/interim/generated_data/Topology{topology}-reg2/Topology{topology}-reg2_0.2.csv'\n",
    "datafile03_reg2 = f'../data/interim/generated_data/Topology{topology}-reg2/Topology{topology}-reg2_0.3.csv'\n",
    "datafile04_reg2 = f'../data/interim/generated_data/Topology{topology}-reg2/Topology{topology}-reg2_0.4.csv'\n",
    "datafile05_reg2 = f'../data/interim/generated_data/Topology{topology}-reg2/Topology{topology}-reg2_0.5.csv'\n",
    "datafile15_reg2 = f'../data/interim/generated_data/Topology{topology}-reg2/Topology{topology}-reg2_1.5.csv'\n",
    "datafile3_reg2 = f'../data/interim/generated_data/Topology{topology}-reg2/Topology{topology}-reg2_3.csv'\n",
    "datafile5_reg2 = f'../data/interim/generated_data/Topology{topology}-reg2/Topology{topology}-reg2_5.csv'\n",
    "datafile7_reg2 = f'../data/interim/generated_data/Topology{topology}-reg2/Topology{topology}-reg2_7.csv'\n",
    "datafile100_reg2 = f'../data/interim/generated_data/Topology{topology}-reg2/Topology{topology}-reg2_10.csv'\n"
   ]
  },
  {
   "cell_type": "code",
   "execution_count": 40,
   "metadata": {},
   "outputs": [
    {
     "name": "stderr",
     "output_type": "stream",
     "text": [
      "No objective coefficients in model. Unclear what should be optimized\n"
     ]
    },
    {
     "name": "stdout",
     "output_type": "stream",
     "text": [
      "../models/Antimony/topologyA_cobra.ant\n"
     ]
    },
    {
     "name": "stderr",
     "output_type": "stream",
     "text": [
      "No objective coefficients in model. Unclear what should be optimized\n"
     ]
    },
    {
     "name": "stdout",
     "output_type": "stream",
     "text": [
      "../models/Antimony/topologyA_cobra.ant\n"
     ]
    },
    {
     "name": "stderr",
     "output_type": "stream",
     "text": [
      "No objective coefficients in model. Unclear what should be optimized\n"
     ]
    },
    {
     "name": "stdout",
     "output_type": "stream",
     "text": [
      "../models/Antimony/topologyA_cobra.ant\n"
     ]
    },
    {
     "name": "stderr",
     "output_type": "stream",
     "text": [
      "No objective coefficients in model. Unclear what should be optimized\n"
     ]
    },
    {
     "name": "stdout",
     "output_type": "stream",
     "text": [
      "../models/Antimony/topologyA_cobra.ant\n"
     ]
    },
    {
     "name": "stderr",
     "output_type": "stream",
     "text": [
      "No objective coefficients in model. Unclear what should be optimized\n"
     ]
    },
    {
     "name": "stdout",
     "output_type": "stream",
     "text": [
      "../models/Antimony/topologyA_cobra.ant\n"
     ]
    },
    {
     "name": "stderr",
     "output_type": "stream",
     "text": [
      "No objective coefficients in model. Unclear what should be optimized\n"
     ]
    },
    {
     "name": "stdout",
     "output_type": "stream",
     "text": [
      "../models/Antimony/topologyA_cobra.ant\n"
     ]
    },
    {
     "name": "stderr",
     "output_type": "stream",
     "text": [
      "No objective coefficients in model. Unclear what should be optimized\n"
     ]
    },
    {
     "name": "stdout",
     "output_type": "stream",
     "text": [
      "../models/Antimony/topologyA_cobra.ant\n"
     ]
    },
    {
     "name": "stderr",
     "output_type": "stream",
     "text": [
      "No objective coefficients in model. Unclear what should be optimized\n"
     ]
    },
    {
     "name": "stdout",
     "output_type": "stream",
     "text": [
      "../models/Antimony/topologyA_cobra.ant\n"
     ]
    },
    {
     "name": "stderr",
     "output_type": "stream",
     "text": [
      "No objective coefficients in model. Unclear what should be optimized\n"
     ]
    },
    {
     "name": "stdout",
     "output_type": "stream",
     "text": [
      "../models/Antimony/topologyA_cobra.ant\n"
     ]
    },
    {
     "name": "stderr",
     "output_type": "stream",
     "text": [
      "No objective coefficients in model. Unclear what should be optimized\n"
     ]
    },
    {
     "name": "stdout",
     "output_type": "stream",
     "text": [
      "../models/Antimony/topologyA_cobra.ant\n"
     ]
    },
    {
     "name": "stderr",
     "output_type": "stream",
     "text": [
      "No objective coefficients in model. Unclear what should be optimized\n"
     ]
    },
    {
     "name": "stdout",
     "output_type": "stream",
     "text": [
      "../models/Antimony/topologyA_cobra.ant\n"
     ]
    },
    {
     "name": "stderr",
     "output_type": "stream",
     "text": [
      "No objective coefficients in model. Unclear what should be optimized\n"
     ]
    },
    {
     "name": "stdout",
     "output_type": "stream",
     "text": [
      "../models/Antimony/topologyA_cobra.ant\n"
     ]
    },
    {
     "name": "stderr",
     "output_type": "stream",
     "text": [
      "No objective coefficients in model. Unclear what should be optimized\n"
     ]
    },
    {
     "name": "stdout",
     "output_type": "stream",
     "text": [
      "../models/Antimony/topologyA_cobra.ant\n"
     ]
    },
    {
     "name": "stderr",
     "output_type": "stream",
     "text": [
      "No objective coefficients in model. Unclear what should be optimized\n"
     ]
    },
    {
     "name": "stdout",
     "output_type": "stream",
     "text": [
      "../models/Antimony/topologyA_cobra.ant\n"
     ]
    },
    {
     "name": "stderr",
     "output_type": "stream",
     "text": [
      "No objective coefficients in model. Unclear what should be optimized\n"
     ]
    },
    {
     "name": "stdout",
     "output_type": "stream",
     "text": [
      "../models/Antimony/topologyA_cobra.ant\n"
     ]
    },
    {
     "name": "stderr",
     "output_type": "stream",
     "text": [
      "No objective coefficients in model. Unclear what should be optimized\n"
     ]
    },
    {
     "name": "stdout",
     "output_type": "stream",
     "text": [
      "../models/Antimony/topologyA_cobra.ant\n"
     ]
    },
    {
     "name": "stderr",
     "output_type": "stream",
     "text": [
      "No objective coefficients in model. Unclear what should be optimized\n"
     ]
    },
    {
     "name": "stdout",
     "output_type": "stream",
     "text": [
      "../models/Antimony/topologyA_cobra.ant\n"
     ]
    },
    {
     "name": "stderr",
     "output_type": "stream",
     "text": [
      "No objective coefficients in model. Unclear what should be optimized\n"
     ]
    },
    {
     "name": "stdout",
     "output_type": "stream",
     "text": [
      "../models/Antimony/topologyA_cobra.ant\n"
     ]
    },
    {
     "name": "stderr",
     "output_type": "stream",
     "text": [
      "No objective coefficients in model. Unclear what should be optimized\n"
     ]
    },
    {
     "name": "stdout",
     "output_type": "stream",
     "text": [
      "../models/Antimony/topologyA_cobra.ant\n"
     ]
    },
    {
     "name": "stderr",
     "output_type": "stream",
     "text": [
      "No objective coefficients in model. Unclear what should be optimized\n"
     ]
    },
    {
     "name": "stdout",
     "output_type": "stream",
     "text": [
      "../models/Antimony/topologyA_cobra.ant\n"
     ]
    },
    {
     "name": "stderr",
     "output_type": "stream",
     "text": [
      "No objective coefficients in model. Unclear what should be optimized\n"
     ]
    },
    {
     "name": "stdout",
     "output_type": "stream",
     "text": [
      "../models/Antimony/topologyA_cobra.ant\n"
     ]
    },
    {
     "name": "stderr",
     "output_type": "stream",
     "text": [
      "No objective coefficients in model. Unclear what should be optimized\n"
     ]
    },
    {
     "name": "stdout",
     "output_type": "stream",
     "text": [
      "../models/Antimony/topologyA_cobra.ant\n"
     ]
    },
    {
     "name": "stderr",
     "output_type": "stream",
     "text": [
      "No objective coefficients in model. Unclear what should be optimized\n"
     ]
    },
    {
     "name": "stdout",
     "output_type": "stream",
     "text": [
      "../models/Antimony/topologyA_cobra.ant\n"
     ]
    },
    {
     "name": "stderr",
     "output_type": "stream",
     "text": [
      "No objective coefficients in model. Unclear what should be optimized\n"
     ]
    },
    {
     "name": "stdout",
     "output_type": "stream",
     "text": [
      "../models/Antimony/topologyA_cobra.ant\n"
     ]
    },
    {
     "name": "stderr",
     "output_type": "stream",
     "text": [
      "No objective coefficients in model. Unclear what should be optimized\n"
     ]
    },
    {
     "name": "stdout",
     "output_type": "stream",
     "text": [
      "../models/Antimony/topologyA_cobra.ant\n"
     ]
    },
    {
     "name": "stderr",
     "output_type": "stream",
     "text": [
      "No objective coefficients in model. Unclear what should be optimized\n"
     ]
    },
    {
     "name": "stdout",
     "output_type": "stream",
     "text": [
      "../models/Antimony/topologyA_cobra.ant\n"
     ]
    },
    {
     "name": "stderr",
     "output_type": "stream",
     "text": [
      "No objective coefficients in model. Unclear what should be optimized\n"
     ]
    },
    {
     "name": "stdout",
     "output_type": "stream",
     "text": [
      "../models/Antimony/topologyA_cobra.ant\n"
     ]
    },
    {
     "name": "stderr",
     "output_type": "stream",
     "text": [
      "No objective coefficients in model. Unclear what should be optimized\n"
     ]
    },
    {
     "name": "stdout",
     "output_type": "stream",
     "text": [
      "../models/Antimony/topologyA_cobra.ant\n"
     ]
    },
    {
     "name": "stderr",
     "output_type": "stream",
     "text": [
      "No objective coefficients in model. Unclear what should be optimized\n"
     ]
    },
    {
     "name": "stdout",
     "output_type": "stream",
     "text": [
      "../models/Antimony/topologyA_cobra.ant\n"
     ]
    },
    {
     "name": "stderr",
     "output_type": "stream",
     "text": [
      "No objective coefficients in model. Unclear what should be optimized\n"
     ]
    },
    {
     "name": "stdout",
     "output_type": "stream",
     "text": [
      "../models/Antimony/topologyA_cobra.ant\n"
     ]
    }
   ],
   "source": [
    "BMCA_obj01_noReg = antemll.antemll(ant_noReg, datafile01_noReg, cobra_sbml=f'../models/sbml/Topology{topology}_cobra.xml')\n",
    "BMCA_obj02_noReg = antemll.antemll(ant_noReg, datafile02_noReg, cobra_sbml=f'../models/sbml/Topology{topology}_cobra.xml')\n",
    "BMCA_obj03_noReg = antemll.antemll(ant_noReg, datafile03_noReg, cobra_sbml=f'../models/sbml/Topology{topology}_cobra.xml')\n",
    "BMCA_obj04_noReg = antemll.antemll(ant_noReg, datafile04_noReg, cobra_sbml=f'../models/sbml/Topology{topology}_cobra.xml')\n",
    "BMCA_obj05_noReg = antemll.antemll(ant_noReg, datafile05_noReg, cobra_sbml=f'../models/sbml/Topology{topology}_cobra.xml')\n",
    "BMCA_obj15_noReg = antemll.antemll(ant_noReg, datafile15_noReg, cobra_sbml=f'../models/sbml/Topology{topology}_cobra.xml')\n",
    "BMCA_obj3_noReg = antemll.antemll(ant_noReg, datafile3_noReg, cobra_sbml=f'../models/sbml/Topology{topology}_cobra.xml')\n",
    "BMCA_obj5_noReg = antemll.antemll(ant_noReg, datafile5_noReg, cobra_sbml=f'../models/sbml/Topology{topology}_cobra.xml')\n",
    "BMCA_obj7_noReg = antemll.antemll(ant_noReg, datafile7_noReg, cobra_sbml=f'../models/sbml/Topology{topology}_cobra.xml')\n",
    "BMCA_obj100_noReg = antemll.antemll(ant_noReg, datafile100_noReg, cobra_sbml=f'../models/sbml/Topology{topology}_cobra.xml')\n",
    "\n",
    "BMCA_obj01_reg1 = antemll.antemll(ant_reg1, datafile01_reg1, cobra_sbml=f'../models/sbml/Topology{topology}_cobra.xml')\n",
    "BMCA_obj02_reg1 = antemll.antemll(ant_reg1, datafile02_reg1, cobra_sbml=f'../models/sbml/Topology{topology}_cobra.xml')\n",
    "BMCA_obj03_reg1 = antemll.antemll(ant_reg1, datafile03_reg1, cobra_sbml=f'../models/sbml/Topology{topology}_cobra.xml')\n",
    "BMCA_obj04_reg1 = antemll.antemll(ant_reg1, datafile04_reg1, cobra_sbml=f'../models/sbml/Topology{topology}_cobra.xml')\n",
    "BMCA_obj05_reg1 = antemll.antemll(ant_reg1, datafile05_reg1, cobra_sbml=f'../models/sbml/Topology{topology}_cobra.xml')\n",
    "BMCA_obj15_reg1 = antemll.antemll(ant_reg1, datafile15_reg1, cobra_sbml=f'../models/sbml/Topology{topology}_cobra.xml')\n",
    "BMCA_obj3_reg1 = antemll.antemll(ant_reg1, datafile3_reg1, cobra_sbml=f'../models/sbml/Topology{topology}_cobra.xml')\n",
    "BMCA_obj5_reg1 = antemll.antemll(ant_reg1, datafile5_reg1, cobra_sbml=f'../models/sbml/Topology{topology}_cobra.xml')\n",
    "BMCA_obj7_reg1 = antemll.antemll(ant_reg1, datafile7_reg1, cobra_sbml=f'../models/sbml/Topology{topology}_cobra.xml')\n",
    "BMCA_obj100_reg1 = antemll.antemll(ant_reg1, datafile100_reg1, cobra_sbml=f'../models/sbml/Topology{topology}_cobra.xml')\n",
    "\n",
    "BMCA_obj01_reg2 = antemll.antemll(ant_reg2, datafile01_reg2, cobra_sbml=f'../models/sbml/Topology{topology}_cobra.xml')\n",
    "BMCA_obj02_reg2 = antemll.antemll(ant_reg2, datafile02_reg2, cobra_sbml=f'../models/sbml/Topology{topology}_cobra.xml')\n",
    "BMCA_obj03_reg2 = antemll.antemll(ant_reg2, datafile03_reg2, cobra_sbml=f'../models/sbml/Topology{topology}_cobra.xml')\n",
    "BMCA_obj04_reg2 = antemll.antemll(ant_reg2, datafile04_reg2, cobra_sbml=f'../models/sbml/Topology{topology}_cobra.xml')\n",
    "BMCA_obj05_reg2 = antemll.antemll(ant_reg2, datafile05_reg2, cobra_sbml=f'../models/sbml/Topology{topology}_cobra.xml')\n",
    "BMCA_obj15_reg2 = antemll.antemll(ant_reg2, datafile15_reg2, cobra_sbml=f'../models/sbml/Topology{topology}_cobra.xml')\n",
    "BMCA_obj3_reg2 = antemll.antemll(ant_reg2, datafile3_reg2, cobra_sbml=f'../models/sbml/Topology{topology}_cobra.xml')\n",
    "BMCA_obj5_reg2 = antemll.antemll(ant_reg2, datafile5_reg2, cobra_sbml=f'../models/sbml/Topology{topology}_cobra.xml')\n",
    "BMCA_obj7_reg2 = antemll.antemll(ant_reg2, datafile7_reg2, cobra_sbml=f'../models/sbml/Topology{topology}_cobra.xml')\n",
    "BMCA_obj100_reg2 = antemll.antemll(ant_reg2, datafile100_reg2, cobra_sbml=f'../models/sbml/Topology{topology}_cobra.xml')\n"
   ]
  },
  {
   "cell_type": "markdown",
   "metadata": {},
   "source": [
    "## downloading all the trace files\n"
   ]
  },
  {
   "cell_type": "code",
   "execution_count": 41,
   "metadata": {},
   "outputs": [],
   "source": [
    "picklefolder = '../data/results/tracePickles/'\n",
    "oldpicklefolder = '../data/results/tracePickles-20240801/'"
   ]
  },
  {
   "cell_type": "code",
   "execution_count": 42,
   "metadata": {},
   "outputs": [],
   "source": [
    "with gzip.open(oldpicklefolder + f'topologyA-noReg_{omission}_traces.pgz', \"rb\") as f:\n",
    "    traces_noReg = cloudpickle.load(f, encoding='bytes')\n",
    "\n",
    "with gzip.open(oldpicklefolder + f'topologyA-reg1_{omission}_traces.pgz', \"rb\") as f:\n",
    "    traces_reg1 = cloudpickle.load(f, encoding='bytes')\n",
    "\n",
    "with gzip.open(oldpicklefolder + f'topologyA-reg2_{omission}_traces.pgz', \"rb\") as f:\n",
    "    traces_reg2 = cloudpickle.load(f, encoding='bytes')"
   ]
  },
  {
   "cell_type": "code",
   "execution_count": 43,
   "metadata": {},
   "outputs": [],
   "source": [
    "trace01_noReg=traces_noReg['trace01']\n",
    "trace02_noReg=traces_noReg['trace02']\n",
    "trace03_noReg=traces_noReg['trace03']\n",
    "trace04_noReg=traces_noReg['trace04']\n",
    "trace05_noReg=traces_noReg['trace05']\n",
    "trace15_noReg=traces_noReg['trace15']\n",
    "trace3_noReg=traces_noReg['trace3']\n",
    "trace5_noReg=traces_noReg['trace5']\n",
    "trace7_noReg=traces_noReg['trace7']\n",
    "trace10_noReg=traces_noReg['trace100']\n",
    "\n",
    "trace01_reg1=traces_reg1['trace01']\n",
    "trace02_reg1=traces_reg1['trace02']\n",
    "trace03_reg1=traces_reg1['trace03']\n",
    "trace04_reg1=traces_reg1['trace04']\n",
    "trace05_reg1=traces_reg1['trace05']\n",
    "trace15_reg1=traces_reg1['trace15']\n",
    "trace3_reg1=traces_reg1['trace3']\n",
    "trace5_reg1=traces_reg1['trace5']\n",
    "trace7_reg1=traces_reg1['trace7']\n",
    "trace10_reg1=traces_reg1['trace100']\n",
    "\n",
    "trace01_reg2=traces_reg2['trace01']\n",
    "trace02_reg2=traces_reg2['trace02']\n",
    "trace03_reg2=traces_reg2['trace03']\n",
    "trace04_reg2=traces_reg2['trace04']\n",
    "trace05_reg2=traces_reg2['trace05']\n",
    "trace15_reg2=traces_reg2['trace15']\n",
    "trace3_reg2=traces_reg2['trace3']\n",
    "trace5_reg2=traces_reg2['trace5']\n",
    "trace7_reg2=traces_reg2['trace7']\n",
    "trace10_reg2=traces_reg2['trace100']"
   ]
  },
  {
   "cell_type": "markdown",
   "metadata": {},
   "source": [
    "## establishing elasticity means"
   ]
  },
  {
   "cell_type": "code",
   "execution_count": 44,
   "metadata": {},
   "outputs": [
    {
     "name": "stderr",
     "output_type": "stream",
     "text": [
      "arviz - WARNING - Shape validation failed: input_shape: (1, 1000), minimum_shape: (chains=2, draws=4)\n",
      "arviz - WARNING - Shape validation failed: input_shape: (1, 1000), minimum_shape: (chains=2, draws=4)\n",
      "arviz - WARNING - Shape validation failed: input_shape: (1, 1000), minimum_shape: (chains=2, draws=4)\n",
      "arviz - WARNING - Shape validation failed: input_shape: (1, 1000), minimum_shape: (chains=2, draws=4)\n",
      "arviz - WARNING - Shape validation failed: input_shape: (1, 1000), minimum_shape: (chains=2, draws=4)\n",
      "arviz - WARNING - Shape validation failed: input_shape: (1, 1000), minimum_shape: (chains=2, draws=4)\n",
      "arviz - WARNING - Shape validation failed: input_shape: (1, 1000), minimum_shape: (chains=2, draws=4)\n",
      "arviz - WARNING - Shape validation failed: input_shape: (1, 1000), minimum_shape: (chains=2, draws=4)\n",
      "arviz - WARNING - Shape validation failed: input_shape: (1, 1000), minimum_shape: (chains=2, draws=4)\n",
      "arviz - WARNING - Shape validation failed: input_shape: (1, 1000), minimum_shape: (chains=2, draws=4)\n",
      "arviz - WARNING - Shape validation failed: input_shape: (1, 1000), minimum_shape: (chains=2, draws=4)\n",
      "arviz - WARNING - Shape validation failed: input_shape: (1, 1000), minimum_shape: (chains=2, draws=4)\n",
      "arviz - WARNING - Shape validation failed: input_shape: (1, 1000), minimum_shape: (chains=2, draws=4)\n",
      "arviz - WARNING - Shape validation failed: input_shape: (1, 1000), minimum_shape: (chains=2, draws=4)\n",
      "arviz - WARNING - Shape validation failed: input_shape: (1, 1000), minimum_shape: (chains=2, draws=4)\n",
      "arviz - WARNING - Shape validation failed: input_shape: (1, 1000), minimum_shape: (chains=2, draws=4)\n",
      "arviz - WARNING - Shape validation failed: input_shape: (1, 1000), minimum_shape: (chains=2, draws=4)\n",
      "arviz - WARNING - Shape validation failed: input_shape: (1, 1000), minimum_shape: (chains=2, draws=4)\n",
      "arviz - WARNING - Shape validation failed: input_shape: (1, 1000), minimum_shape: (chains=2, draws=4)\n",
      "arviz - WARNING - Shape validation failed: input_shape: (1, 1000), minimum_shape: (chains=2, draws=4)\n",
      "arviz - WARNING - Shape validation failed: input_shape: (1, 1000), minimum_shape: (chains=2, draws=4)\n",
      "arviz - WARNING - Shape validation failed: input_shape: (1, 1000), minimum_shape: (chains=2, draws=4)\n",
      "arviz - WARNING - Shape validation failed: input_shape: (1, 1000), minimum_shape: (chains=2, draws=4)\n",
      "arviz - WARNING - Shape validation failed: input_shape: (1, 1000), minimum_shape: (chains=2, draws=4)\n",
      "arviz - WARNING - Shape validation failed: input_shape: (1, 1000), minimum_shape: (chains=2, draws=4)\n",
      "arviz - WARNING - Shape validation failed: input_shape: (1, 1000), minimum_shape: (chains=2, draws=4)\n",
      "arviz - WARNING - Shape validation failed: input_shape: (1, 1000), minimum_shape: (chains=2, draws=4)\n",
      "arviz - WARNING - Shape validation failed: input_shape: (1, 1000), minimum_shape: (chains=2, draws=4)\n",
      "arviz - WARNING - Shape validation failed: input_shape: (1, 1000), minimum_shape: (chains=2, draws=4)\n",
      "arviz - WARNING - Shape validation failed: input_shape: (1, 1000), minimum_shape: (chains=2, draws=4)\n",
      "arviz - WARNING - Shape validation failed: input_shape: (1, 1000), minimum_shape: (chains=2, draws=4)\n",
      "arviz - WARNING - Shape validation failed: input_shape: (1, 1000), minimum_shape: (chains=2, draws=4)\n",
      "arviz - WARNING - Shape validation failed: input_shape: (1, 1000), minimum_shape: (chains=2, draws=4)\n",
      "arviz - WARNING - Shape validation failed: input_shape: (1, 1000), minimum_shape: (chains=2, draws=4)\n",
      "arviz - WARNING - Shape validation failed: input_shape: (1, 1000), minimum_shape: (chains=2, draws=4)\n",
      "arviz - WARNING - Shape validation failed: input_shape: (1, 1000), minimum_shape: (chains=2, draws=4)\n",
      "arviz - WARNING - Shape validation failed: input_shape: (1, 1000), minimum_shape: (chains=2, draws=4)\n",
      "arviz - WARNING - Shape validation failed: input_shape: (1, 1000), minimum_shape: (chains=2, draws=4)\n",
      "arviz - WARNING - Shape validation failed: input_shape: (1, 1000), minimum_shape: (chains=2, draws=4)\n",
      "arviz - WARNING - Shape validation failed: input_shape: (1, 1000), minimum_shape: (chains=2, draws=4)\n",
      "arviz - WARNING - Shape validation failed: input_shape: (1, 1000), minimum_shape: (chains=2, draws=4)\n",
      "arviz - WARNING - Shape validation failed: input_shape: (1, 1000), minimum_shape: (chains=2, draws=4)\n",
      "arviz - WARNING - Shape validation failed: input_shape: (1, 1000), minimum_shape: (chains=2, draws=4)\n",
      "arviz - WARNING - Shape validation failed: input_shape: (1, 1000), minimum_shape: (chains=2, draws=4)\n",
      "arviz - WARNING - Shape validation failed: input_shape: (1, 1000), minimum_shape: (chains=2, draws=4)\n",
      "arviz - WARNING - Shape validation failed: input_shape: (1, 1000), minimum_shape: (chains=2, draws=4)\n",
      "arviz - WARNING - Shape validation failed: input_shape: (1, 1000), minimum_shape: (chains=2, draws=4)\n",
      "arviz - WARNING - Shape validation failed: input_shape: (1, 1000), minimum_shape: (chains=2, draws=4)\n",
      "arviz - WARNING - Shape validation failed: input_shape: (1, 1000), minimum_shape: (chains=2, draws=4)\n",
      "arviz - WARNING - Shape validation failed: input_shape: (1, 1000), minimum_shape: (chains=2, draws=4)\n",
      "arviz - WARNING - Shape validation failed: input_shape: (1, 1000), minimum_shape: (chains=2, draws=4)\n",
      "arviz - WARNING - Shape validation failed: input_shape: (1, 1000), minimum_shape: (chains=2, draws=4)\n",
      "arviz - WARNING - Shape validation failed: input_shape: (1, 1000), minimum_shape: (chains=2, draws=4)\n",
      "arviz - WARNING - Shape validation failed: input_shape: (1, 1000), minimum_shape: (chains=2, draws=4)\n",
      "arviz - WARNING - Shape validation failed: input_shape: (1, 1000), minimum_shape: (chains=2, draws=4)\n",
      "arviz - WARNING - Shape validation failed: input_shape: (1, 1000), minimum_shape: (chains=2, draws=4)\n",
      "arviz - WARNING - Shape validation failed: input_shape: (1, 1000), minimum_shape: (chains=2, draws=4)\n",
      "arviz - WARNING - Shape validation failed: input_shape: (1, 1000), minimum_shape: (chains=2, draws=4)\n",
      "arviz - WARNING - Shape validation failed: input_shape: (1, 1000), minimum_shape: (chains=2, draws=4)\n",
      "arviz - WARNING - Shape validation failed: input_shape: (1, 1000), minimum_shape: (chains=2, draws=4)\n",
      "arviz - WARNING - Shape validation failed: input_shape: (1, 1000), minimum_shape: (chains=2, draws=4)\n",
      "arviz - WARNING - Shape validation failed: input_shape: (1, 1000), minimum_shape: (chains=2, draws=4)\n",
      "arviz - WARNING - Shape validation failed: input_shape: (1, 1000), minimum_shape: (chains=2, draws=4)\n",
      "arviz - WARNING - Shape validation failed: input_shape: (1, 1000), minimum_shape: (chains=2, draws=4)\n",
      "arviz - WARNING - Shape validation failed: input_shape: (1, 1000), minimum_shape: (chains=2, draws=4)\n",
      "arviz - WARNING - Shape validation failed: input_shape: (1, 1000), minimum_shape: (chains=2, draws=4)\n",
      "arviz - WARNING - Shape validation failed: input_shape: (1, 1000), minimum_shape: (chains=2, draws=4)\n",
      "arviz - WARNING - Shape validation failed: input_shape: (1, 1000), minimum_shape: (chains=2, draws=4)\n",
      "arviz - WARNING - Shape validation failed: input_shape: (1, 1000), minimum_shape: (chains=2, draws=4)\n",
      "arviz - WARNING - Shape validation failed: input_shape: (1, 1000), minimum_shape: (chains=2, draws=4)\n",
      "arviz - WARNING - Shape validation failed: input_shape: (1, 1000), minimum_shape: (chains=2, draws=4)\n",
      "arviz - WARNING - Shape validation failed: input_shape: (1, 1000), minimum_shape: (chains=2, draws=4)\n",
      "arviz - WARNING - Shape validation failed: input_shape: (1, 1000), minimum_shape: (chains=2, draws=4)\n",
      "arviz - WARNING - Shape validation failed: input_shape: (1, 1000), minimum_shape: (chains=2, draws=4)\n",
      "arviz - WARNING - Shape validation failed: input_shape: (1, 1000), minimum_shape: (chains=2, draws=4)\n",
      "arviz - WARNING - Shape validation failed: input_shape: (1, 1000), minimum_shape: (chains=2, draws=4)\n",
      "arviz - WARNING - Shape validation failed: input_shape: (1, 1000), minimum_shape: (chains=2, draws=4)\n",
      "arviz - WARNING - Shape validation failed: input_shape: (1, 1000), minimum_shape: (chains=2, draws=4)\n",
      "arviz - WARNING - Shape validation failed: input_shape: (1, 1000), minimum_shape: (chains=2, draws=4)\n",
      "arviz - WARNING - Shape validation failed: input_shape: (1, 1000), minimum_shape: (chains=2, draws=4)\n",
      "arviz - WARNING - Shape validation failed: input_shape: (1, 1000), minimum_shape: (chains=2, draws=4)\n",
      "arviz - WARNING - Shape validation failed: input_shape: (1, 1000), minimum_shape: (chains=2, draws=4)\n",
      "arviz - WARNING - Shape validation failed: input_shape: (1, 1000), minimum_shape: (chains=2, draws=4)\n",
      "arviz - WARNING - Shape validation failed: input_shape: (1, 1000), minimum_shape: (chains=2, draws=4)\n",
      "arviz - WARNING - Shape validation failed: input_shape: (1, 1000), minimum_shape: (chains=2, draws=4)\n",
      "arviz - WARNING - Shape validation failed: input_shape: (1, 1000), minimum_shape: (chains=2, draws=4)\n",
      "arviz - WARNING - Shape validation failed: input_shape: (1, 1000), minimum_shape: (chains=2, draws=4)\n",
      "arviz - WARNING - Shape validation failed: input_shape: (1, 1000), minimum_shape: (chains=2, draws=4)\n",
      "arviz - WARNING - Shape validation failed: input_shape: (1, 1000), minimum_shape: (chains=2, draws=4)\n",
      "arviz - WARNING - Shape validation failed: input_shape: (1, 1000), minimum_shape: (chains=2, draws=4)\n"
     ]
    }
   ],
   "source": [
    "if omission == 'allData':\n",
    "    # for all data\n",
    "    Ex01_noReg = util.get_az_summary(trace01_noReg)\n",
    "    Ex01_reg1 = util.get_az_summary(trace01_reg1)\n",
    "    Ex01_reg2 = util.get_az_summary(trace01_reg2)\n",
    "\n",
    "    Ex02_noReg = util.get_az_summary(trace02_noReg)\n",
    "    Ex02_reg1 = util.get_az_summary(trace02_reg1)\n",
    "    Ex02_reg2 = util.get_az_summary(trace02_reg2)\n",
    "\n",
    "    Ex03_noReg = util.get_az_summary(trace03_noReg)\n",
    "    Ex03_reg1 = util.get_az_summary(trace03_reg1)\n",
    "    Ex03_reg2 = util.get_az_summary(trace03_reg2)\n",
    "\n",
    "    Ex04_noReg = util.get_az_summary(trace04_noReg)\n",
    "    Ex04_reg1 = util.get_az_summary(trace04_reg1)\n",
    "    Ex04_reg2 = util.get_az_summary(trace04_reg2)\n",
    "\n",
    "    Ex05_noReg = util.get_az_summary(trace05_noReg)\n",
    "    Ex05_reg1 = util.get_az_summary(trace05_reg1)\n",
    "    Ex05_reg2 = util.get_az_summary(trace05_reg2)\n",
    "\n",
    "    Ex15_noReg = util.get_az_summary(trace15_noReg)\n",
    "    Ex15_reg1 = util.get_az_summary(trace15_reg1)\n",
    "    Ex15_reg2 = util.get_az_summary(trace15_reg2)\n",
    "\n",
    "    Ex3_noReg = util.get_az_summary(trace3_noReg)\n",
    "    Ex3_reg1 = util.get_az_summary(trace3_reg1)\n",
    "    Ex3_reg2 = util.get_az_summary(trace3_reg2)\n",
    "\n",
    "    Ex5_noReg = util.get_az_summary(trace5_noReg)\n",
    "    Ex5_reg1 = util.get_az_summary(trace5_reg1)\n",
    "    Ex5_reg2 = util.get_az_summary(trace5_reg2)\n",
    "\n",
    "    Ex7_noReg = util.get_az_summary(trace7_noReg)\n",
    "    Ex7_reg1 = util.get_az_summary(trace7_reg1)\n",
    "    Ex7_reg2 = util.get_az_summary(trace7_reg2)\n",
    "\n",
    "    Ex100_noReg = util.get_az_summary(trace10_noReg)\n",
    "    Ex100_reg1 = util.get_az_summary(trace10_reg1)\n",
    "    Ex100_reg2 = util.get_az_summary(trace10_reg2)\n",
    "\n",
    "else:\n",
    "    # for omitted data\n",
    "    Ex01_noReg = util.get_az_mean(trace01_noReg)\n",
    "    Ex01_reg1 = util.get_az_mean(trace01_reg1)\n",
    "    Ex01_reg2 = util.get_az_mean(trace01_reg2)\n",
    "\n",
    "    Ex02_noReg = util.get_az_mean(trace02_noReg)\n",
    "    Ex02_reg1 = util.get_az_mean(trace02_reg1)\n",
    "    Ex02_reg2 = util.get_az_mean(trace02_reg2)\n",
    "\n",
    "    Ex03_noReg = util.get_az_mean(trace03_noReg)\n",
    "    Ex03_reg1 = util.get_az_mean(trace03_reg1)\n",
    "    Ex03_reg2 = util.get_az_mean(trace03_reg2)\n",
    "\n",
    "    Ex04_noReg = util.get_az_mean(trace04_noReg)\n",
    "    Ex04_reg1 = util.get_az_mean(trace04_reg1)\n",
    "    Ex04_reg2 = util.get_az_mean(trace04_reg2)\n",
    "\n",
    "    Ex05_noReg = util.get_az_mean(trace05_noReg)\n",
    "    Ex05_reg1 = util.get_az_mean(trace05_reg1)\n",
    "    Ex05_reg2 = util.get_az_mean(trace05_reg2)\n",
    "\n",
    "    Ex15_noReg = util.get_az_mean(trace15_noReg)\n",
    "    Ex15_reg1 = util.get_az_mean(trace15_reg1)\n",
    "    Ex15_reg2 = util.get_az_mean(trace15_reg2)\n",
    "\n",
    "    Ex3_noReg = util.get_az_mean(trace3_noReg)\n",
    "    Ex3_reg1 = util.get_az_mean(trace3_reg1)\n",
    "    Ex3_reg2 = util.get_az_mean(trace3_reg2)\n",
    "\n",
    "    Ex5_noReg = util.get_az_mean(trace5_noReg)\n",
    "    Ex5_reg1 = util.get_az_mean(trace5_reg1)\n",
    "    Ex5_reg2 = util.get_az_mean(trace5_reg2)\n",
    "\n",
    "    Ex7_noReg = util.get_az_mean(trace7_noReg)\n",
    "    Ex7_reg1 = util.get_az_mean(trace7_reg1)\n",
    "    Ex7_reg2 = util.get_az_mean(trace7_reg2)\n",
    "\n",
    "    Ex100_noReg = util.get_az_mean(trace10_noReg)\n",
    "    Ex100_reg1 = util.get_az_mean(trace10_reg1)\n",
    "    Ex100_reg2 = util.get_az_mean(trace10_reg2)"
   ]
  },
  {
   "cell_type": "code",
   "execution_count": null,
   "metadata": {},
   "outputs": [],
   "source": [
    "# free #free"
   ]
  },
  {
   "cell_type": "markdown",
   "metadata": {},
   "source": [
    "## How does the presence of regulators affect BMCA’s performance?\n"
   ]
  },
  {
   "cell_type": "code",
   "execution_count": 11,
   "metadata": {},
   "outputs": [
    {
     "name": "stdout",
     "output_type": "stream",
     "text": [
      "0.019\n",
      "0.029\n",
      "0.04\n",
      "0.047\n",
      "0.048\n",
      "0.037\n",
      "0.03\n",
      "0.03\n",
      "0.027\n",
      "0.023\n",
      "\n",
      "\n",
      "0.981\n",
      "0.972\n",
      "0.96\n",
      "0.954\n",
      "0.953\n",
      "0.964\n",
      "0.97\n",
      "0.97\n",
      "0.973\n",
      "0.977\n"
     ]
    }
   ],
   "source": [
    "print(round(sp.stats.f_oneway(Ex01_noReg, Ex01_reg1, Ex01_reg2)[0],3))\n",
    "print(round(sp.stats.f_oneway(Ex02_noReg, Ex02_reg1, Ex02_reg2)[0],3))\n",
    "print(round(sp.stats.f_oneway(Ex03_noReg, Ex03_reg1, Ex03_reg2)[0],3))\n",
    "print(round(sp.stats.f_oneway(Ex04_noReg, Ex04_reg1, Ex04_reg2)[0],3))\n",
    "print(round(sp.stats.f_oneway(Ex05_noReg, Ex05_reg1, Ex05_reg2)[0],3))\n",
    "print(round(sp.stats.f_oneway(Ex15_noReg, Ex15_reg1, Ex15_reg2)[0],3))\n",
    "print(round(sp.stats.f_oneway(Ex3_noReg, Ex3_reg1, Ex3_reg2)[0],3))\n",
    "print(round(sp.stats.f_oneway(Ex5_noReg, Ex5_reg1, Ex5_reg2)[0],3))\n",
    "print(round(sp.stats.f_oneway(Ex7_noReg, Ex7_reg1, Ex7_reg2)[0],3))\n",
    "print(round(sp.stats.f_oneway(Ex100_noReg, Ex100_reg1, Ex100_reg2)[0],3))\n",
    "print('\\n')\n",
    "print(round(sp.stats.f_oneway(Ex01_noReg, Ex01_reg1, Ex01_reg2)[1],3))\n",
    "print(round(sp.stats.f_oneway(Ex02_noReg, Ex02_reg1, Ex02_reg2)[1],3))\n",
    "print(round(sp.stats.f_oneway(Ex03_noReg, Ex03_reg1, Ex03_reg2)[1],3))\n",
    "print(round(sp.stats.f_oneway(Ex04_noReg, Ex04_reg1, Ex04_reg2)[1],3))\n",
    "print(round(sp.stats.f_oneway(Ex05_noReg, Ex05_reg1, Ex05_reg2)[1],3))\n",
    "print(round(sp.stats.f_oneway(Ex15_noReg, Ex15_reg1, Ex15_reg2)[1],3))\n",
    "print(round(sp.stats.f_oneway(Ex3_noReg, Ex3_reg1, Ex3_reg2)[1],3))\n",
    "print(round(sp.stats.f_oneway(Ex5_noReg, Ex5_reg1, Ex5_reg2)[1],3))\n",
    "print(round(sp.stats.f_oneway(Ex7_noReg, Ex7_reg1, Ex7_reg2)[1],3))\n",
    "print(round(sp.stats.f_oneway(Ex100_noReg, Ex100_reg1, Ex100_reg2)[1],3))"
   ]
  },
  {
   "cell_type": "markdown",
   "metadata": {},
   "source": [
    "## organizing elasticity values into pd dfs "
   ]
  },
  {
   "cell_type": "code",
   "execution_count": 45,
   "metadata": {},
   "outputs": [],
   "source": [
    "ela_noReg_values = np.column_stack([Ex01_noReg, Ex02_noReg, Ex03_noReg, \n",
    "                                Ex04_noReg, Ex05_noReg,  \n",
    "                                Ex15_noReg, Ex3_noReg, Ex5_noReg, \n",
    "                                Ex7_noReg, Ex100_noReg])\n",
    "\n",
    "ela_reg1_values = np.column_stack([Ex01_reg1, Ex02_reg1, Ex03_reg1, \n",
    "                                Ex04_reg1, Ex05_reg1,  \n",
    "                                Ex15_reg1, Ex3_reg1, Ex5_reg1, \n",
    "                                Ex7_reg1, Ex100_reg1])\n",
    "\n",
    "ela_reg2_values = np.column_stack([Ex01_reg2, Ex02_reg2, Ex03_reg2, \n",
    "                                Ex04_reg2, Ex05_reg2,  \n",
    "                                Ex15_reg2, Ex3_reg2, Ex5_reg2, \n",
    "                                Ex7_reg2, Ex100_reg2])\n",
    "\n",
    "pt_labels = ['0.1x', '0.2x', '0.3x', '0.4x','0.5x', '1.5x', '3x', '5x', '7x', '10x']\n",
    "\n",
    "ela_noReg_df = pd.DataFrame(ela_noReg_values, columns=pt_labels)\n",
    "ela_reg1_df = pd.DataFrame(ela_reg1_values, columns=pt_labels)\n",
    "ela_reg2_df = pd.DataFrame(ela_reg2_values, columns=pt_labels)\n",
    "\n",
    "ela_noReg_df['median'] = ela_noReg_df.median(axis=1)\n",
    "ela_noReg_df['min'] = ela_noReg_df.min(axis=1)\n",
    "ela_noReg_df['max'] = ela_noReg_df.max(axis=1)\n",
    "\n",
    "ela_reg1_df['median'] = ela_reg1_df.median(axis=1)\n",
    "ela_reg1_df['min'] = ela_reg1_df.min(axis=1)\n",
    "ela_reg1_df['max'] = ela_reg1_df.max(axis=1)\n",
    "\n",
    "ela_reg2_df['median'] = ela_reg2_df.median(axis=1)\n",
    "ela_reg2_df['min'] = ela_reg2_df.min(axis=1)\n",
    "ela_reg2_df['max'] = ela_reg2_df.max(axis=1)"
   ]
  },
  {
   "cell_type": "markdown",
   "metadata": {},
   "source": [
    "## graphing the elasticity predictions over perturbation level and regulator level"
   ]
  },
  {
   "cell_type": "code",
   "execution_count": 46,
   "metadata": {},
   "outputs": [],
   "source": [
    "lower_y_noReg = np.array(ela_noReg_df['median']) - ela_noReg_df['min'].values\n",
    "upper_y_noReg =np.array(ela_noReg_df['max'].values) - np.array(ela_noReg_df['median'])\n",
    "errors_noReg = [lower_y_noReg, upper_y_noReg]\n",
    "\n",
    "lower_y_reg1 = np.array(ela_reg1_df['median']) - ela_reg1_df['min'].values\n",
    "upper_y_reg1 =np.array(ela_reg1_df['max'].values) - np.array(ela_reg1_df['median'])\n",
    "errors_reg1 = [lower_y_reg1, upper_y_reg1]\n",
    "\n",
    "lower_y_reg2 = np.array(ela_reg2_df['median']) - ela_reg2_df['min'].values\n",
    "upper_y_reg2 =np.array(ela_reg2_df['max'].values) - np.array(ela_reg2_df['median'])\n",
    "errors_reg2 = [lower_y_reg2, upper_y_reg2]\n"
   ]
  },
  {
   "cell_type": "code",
   "execution_count": 47,
   "metadata": {},
   "outputs": [
    {
     "name": "stdout",
     "output_type": "stream",
     "text": [
      "0.01716\n",
      "0.03682\n",
      "0.04537\n"
     ]
    }
   ],
   "source": [
    "# MAE\n",
    "print(round(sum(abs(ela_noReg_df['median']-gt_noReg))/len(gt_noReg),5))\n",
    "print(round(sum(abs(ela_noReg_df['median']-gt_reg1))/len(gt_reg1),5))\n",
    "print(round(sum(abs(ela_noReg_df['median']-gt_reg2))/len(gt_reg2),5))"
   ]
  },
  {
   "cell_type": "code",
   "execution_count": 48,
   "metadata": {},
   "outputs": [
    {
     "data": {
      "image/png": "[encoded data removed]",
      "text/plain": [
       "<Figure size 640x480 with 1 Axes>"
      ]
     },
     "metadata": {},
     "output_type": "display_data"
    }
   ],
   "source": [
    "plt.axes().set_aspect('equal', 'datalim')\n",
    "\n",
    "plt.errorbar(gt_noReg, ela_noReg_df['median'], yerr=errors_noReg, alpha=0.4, fmt='o', label='noReg', zorder=100)\n",
    "plt.errorbar(gt_reg1, ela_reg1_df['median'], yerr=errors_reg1, alpha=0.5, fmt='o', label='reg1', zorder=50)\n",
    "plt.errorbar(gt_reg2, ela_reg2_df['median'], yerr=errors_reg2, alpha=0.5, fmt='o', label='reg2', zorder=20)\n",
    "# plt.legend(bbox_to_anchor=(1.04, 1), loc=\"upper left\")\n",
    "plt.legend(loc=\"upper left\")\n",
    "plt.axline([0, 0], [1, 1], c='gray', linestyle='dashed', zorder=1, linewidth=2)\n",
    "plt.grid(True, which='both', axis='both', zorder=0)\n",
    "plt.xlabel('ground truth elasticity values', size=14)\n",
    "plt.ylabel('predicted elasticity values', size=14)\n",
    "plt.savefig(f'../data/results/raw_svg_figures/top{topology}/top{topology}-{omission}-combinedElasticities.svg', format=\"svg\")"
   ]
  },
  {
   "cell_type": "markdown",
   "metadata": {},
   "source": [
    "## Calculating FCC values and making graphs"
   ]
  },
  {
   "cell_type": "code",
   "execution_count": 49,
   "metadata": {},
   "outputs": [],
   "source": [
    "gtFCC_noReg = pd.DataFrame(rr_noReg.getScaledFluxControlCoefficientMatrix(), index=rr_noReg.getReactionIds(), columns=rr_noReg.getReactionIds())\n",
    "gtFCC_reg1 = pd.DataFrame(rr_reg1.getScaledFluxControlCoefficientMatrix(), index=rr_noReg.getReactionIds(), columns=rr_noReg.getReactionIds())\n",
    "gtFCC_reg2 = pd.DataFrame(rr_reg2.getScaledFluxControlCoefficientMatrix(), index=rr_noReg.getReactionIds(), columns=rr_noReg.getReactionIds())"
   ]
  },
  {
   "cell_type": "markdown",
   "metadata": {},
   "source": [
    "### priors"
   ]
  },
  {
   "cell_type": "code",
   "execution_count": 50,
   "metadata": {},
   "outputs": [
    {
     "name": "stderr",
     "output_type": "stream",
     "text": [
      "Sampling: [Ex_capacity_entries, Ex_kinetic_entries, Ey_capacity_entries, Ey_kinetic_entries]\n",
      "arviz - WARNING - Shape validation failed: input_shape: (1, 500), minimum_shape: (chains=2, draws=4)\n",
      "Sampling: [Ex_capacity_entries, Ex_kinetic_entries, Ey_capacity_entries, Ey_kinetic_entries]\n",
      "arviz - WARNING - Shape validation failed: input_shape: (1, 500), minimum_shape: (chains=2, draws=4)\n",
      "Sampling: [Ex_capacity_entries, Ex_kinetic_entries, Ey_capacity_entries, Ey_kinetic_entries]\n",
      "arviz - WARNING - Shape validation failed: input_shape: (1, 500), minimum_shape: (chains=2, draws=4)\n",
      "Sampling: [Ex_capacity_entries, Ex_kinetic_entries, Ey_capacity_entries, Ey_kinetic_entries]\n",
      "arviz - WARNING - Shape validation failed: input_shape: (1, 500), minimum_shape: (chains=2, draws=4)\n",
      "Sampling: [Ex_capacity_entries, Ex_kinetic_entries, Ey_capacity_entries, Ey_kinetic_entries]\n",
      "arviz - WARNING - Shape validation failed: input_shape: (1, 500), minimum_shape: (chains=2, draws=4)\n",
      "Sampling: [Ex_capacity_entries, Ex_kinetic_entries, Ey_capacity_entries, Ey_kinetic_entries]\n",
      "arviz - WARNING - Shape validation failed: input_shape: (1, 500), minimum_shape: (chains=2, draws=4)\n",
      "Sampling: [Ex_capacity_entries, Ex_kinetic_entries, Ey_capacity_entries, Ey_kinetic_entries]\n",
      "arviz - WARNING - Shape validation failed: input_shape: (1, 500), minimum_shape: (chains=2, draws=4)\n",
      "Sampling: [Ex_capacity_entries, Ex_kinetic_entries, Ey_capacity_entries, Ey_kinetic_entries]\n",
      "arviz - WARNING - Shape validation failed: input_shape: (1, 500), minimum_shape: (chains=2, draws=4)\n",
      "Sampling: [Ex_capacity_entries, Ex_kinetic_entries, Ey_capacity_entries, Ey_kinetic_entries]\n",
      "arviz - WARNING - Shape validation failed: input_shape: (1, 500), minimum_shape: (chains=2, draws=4)\n",
      "Sampling: [Ex_capacity_entries, Ex_kinetic_entries, Ey_capacity_entries, Ey_kinetic_entries]\n",
      "arviz - WARNING - Shape validation failed: input_shape: (1, 500), minimum_shape: (chains=2, draws=4)\n",
      "Sampling: [Ex_capacity_entries, Ex_kinetic_entries, Ey_capacity_entries, Ey_kinetic_entries]\n",
      "arviz - WARNING - Shape validation failed: input_shape: (1, 500), minimum_shape: (chains=2, draws=4)\n",
      "Sampling: [Ex_capacity_entries, Ex_kinetic_entries, Ey_capacity_entries, Ey_kinetic_entries]\n",
      "arviz - WARNING - Shape validation failed: input_shape: (1, 500), minimum_shape: (chains=2, draws=4)\n",
      "Sampling: [Ex_capacity_entries, Ex_kinetic_entries, Ey_capacity_entries, Ey_kinetic_entries]\n",
      "arviz - WARNING - Shape validation failed: input_shape: (1, 500), minimum_shape: (chains=2, draws=4)\n",
      "Sampling: [Ex_capacity_entries, Ex_kinetic_entries, Ey_capacity_entries, Ey_kinetic_entries]\n",
      "arviz - WARNING - Shape validation failed: input_shape: (1, 500), minimum_shape: (chains=2, draws=4)\n",
      "Sampling: [Ex_capacity_entries, Ex_kinetic_entries, Ey_capacity_entries, Ey_kinetic_entries]\n",
      "arviz - WARNING - Shape validation failed: input_shape: (1, 500), minimum_shape: (chains=2, draws=4)\n",
      "Sampling: [Ex_capacity_entries, Ex_kinetic_entries, Ey_capacity_entries, Ey_kinetic_entries]\n",
      "arviz - WARNING - Shape validation failed: input_shape: (1, 500), minimum_shape: (chains=2, draws=4)\n",
      "Sampling: [Ex_capacity_entries, Ex_kinetic_entries, Ey_capacity_entries, Ey_kinetic_entries]\n",
      "arviz - WARNING - Shape validation failed: input_shape: (1, 500), minimum_shape: (chains=2, draws=4)\n",
      "Sampling: [Ex_capacity_entries, Ex_kinetic_entries, Ey_capacity_entries, Ey_kinetic_entries]\n",
      "arviz - WARNING - Shape validation failed: input_shape: (1, 500), minimum_shape: (chains=2, draws=4)\n",
      "Sampling: [Ex_capacity_entries, Ex_kinetic_entries, Ey_capacity_entries, Ey_kinetic_entries]\n",
      "arviz - WARNING - Shape validation failed: input_shape: (1, 500), minimum_shape: (chains=2, draws=4)\n",
      "Sampling: [Ex_capacity_entries, Ex_kinetic_entries, Ey_capacity_entries, Ey_kinetic_entries]\n",
      "arviz - WARNING - Shape validation failed: input_shape: (1, 500), minimum_shape: (chains=2, draws=4)\n",
      "Sampling: [Ex_capacity_entries, Ex_kinetic_entries, Ey_capacity_entries, Ey_kinetic_entries]\n",
      "arviz - WARNING - Shape validation failed: input_shape: (1, 500), minimum_shape: (chains=2, draws=4)\n",
      "Sampling: [Ex_capacity_entries, Ex_kinetic_entries, Ey_capacity_entries, Ey_kinetic_entries]\n",
      "arviz - WARNING - Shape validation failed: input_shape: (1, 500), minimum_shape: (chains=2, draws=4)\n",
      "Sampling: [Ex_capacity_entries, Ex_kinetic_entries, Ey_capacity_entries, Ey_kinetic_entries]\n",
      "arviz - WARNING - Shape validation failed: input_shape: (1, 500), minimum_shape: (chains=2, draws=4)\n",
      "Sampling: [Ex_capacity_entries, Ex_kinetic_entries, Ey_capacity_entries, Ey_kinetic_entries]\n",
      "arviz - WARNING - Shape validation failed: input_shape: (1, 500), minimum_shape: (chains=2, draws=4)\n",
      "Sampling: [Ex_capacity_entries, Ex_kinetic_entries, Ey_capacity_entries, Ey_kinetic_entries]\n",
      "arviz - WARNING - Shape validation failed: input_shape: (1, 500), minimum_shape: (chains=2, draws=4)\n",
      "Sampling: [Ex_capacity_entries, Ex_kinetic_entries, Ey_capacity_entries, Ey_kinetic_entries]\n",
      "arviz - WARNING - Shape validation failed: input_shape: (1, 500), minimum_shape: (chains=2, draws=4)\n",
      "Sampling: [Ex_capacity_entries, Ex_kinetic_entries, Ey_capacity_entries, Ey_kinetic_entries]\n",
      "arviz - WARNING - Shape validation failed: input_shape: (1, 500), minimum_shape: (chains=2, draws=4)\n",
      "Sampling: [Ex_capacity_entries, Ex_kinetic_entries, Ey_capacity_entries, Ey_kinetic_entries]\n",
      "arviz - WARNING - Shape validation failed: input_shape: (1, 500), minimum_shape: (chains=2, draws=4)\n",
      "Sampling: [Ex_capacity_entries, Ex_kinetic_entries, Ey_capacity_entries, Ey_kinetic_entries]\n",
      "arviz - WARNING - Shape validation failed: input_shape: (1, 500), minimum_shape: (chains=2, draws=4)\n",
      "Sampling: [Ex_capacity_entries, Ex_kinetic_entries, Ey_capacity_entries, Ey_kinetic_entries]\n",
      "arviz - WARNING - Shape validation failed: input_shape: (1, 500), minimum_shape: (chains=2, draws=4)\n"
     ]
    }
   ],
   "source": [
    "Ex01_prior_noReg= util.get_az_summary(util.run_prior_predictive(BMCA_obj01_noReg)['prior']['Ex'])\n",
    "Ex02_prior_noReg= util.get_az_summary(util.run_prior_predictive(BMCA_obj02_noReg)['prior']['Ex'])\n",
    "Ex03_prior_noReg= util.get_az_summary(util.run_prior_predictive(BMCA_obj03_noReg)['prior']['Ex'])\n",
    "Ex04_prior_noReg= util.get_az_summary(util.run_prior_predictive(BMCA_obj04_noReg)['prior']['Ex'])\n",
    "Ex05_prior_noReg= util.get_az_summary(util.run_prior_predictive(BMCA_obj05_noReg)['prior']['Ex'])\n",
    "Ex15_prior_noReg= util.get_az_summary(util.run_prior_predictive(BMCA_obj15_noReg)['prior']['Ex'])\n",
    "Ex3_prior_noReg= util.get_az_summary(util.run_prior_predictive(BMCA_obj3_noReg)['prior']['Ex'])\n",
    "Ex5_prior_noReg= util.get_az_summary(util.run_prior_predictive(BMCA_obj5_noReg)['prior']['Ex'])\n",
    "Ex7_prior_noReg= util.get_az_summary(util.run_prior_predictive(BMCA_obj7_noReg)['prior']['Ex'])\n",
    "Ex100_prior_noReg= util.get_az_summary(util.run_prior_predictive(BMCA_obj100_noReg)['prior']['Ex'])\n",
    "\n",
    "Ex01_prior_reg1= util.get_az_summary(util.run_prior_predictive(BMCA_obj01_reg1)['prior']['Ex'])\n",
    "Ex02_prior_reg1= util.get_az_summary(util.run_prior_predictive(BMCA_obj02_reg1)['prior']['Ex'])\n",
    "Ex03_prior_reg1= util.get_az_summary(util.run_prior_predictive(BMCA_obj03_reg1)['prior']['Ex'])\n",
    "Ex04_prior_reg1= util.get_az_summary(util.run_prior_predictive(BMCA_obj04_reg1)['prior']['Ex'])\n",
    "Ex05_prior_reg1= util.get_az_summary(util.run_prior_predictive(BMCA_obj05_reg1)['prior']['Ex'])\n",
    "Ex15_prior_reg1= util.get_az_summary(util.run_prior_predictive(BMCA_obj15_reg1)['prior']['Ex'])\n",
    "Ex3_prior_reg1= util.get_az_summary(util.run_prior_predictive(BMCA_obj3_reg1)['prior']['Ex'])\n",
    "Ex5_prior_reg1= util.get_az_summary(util.run_prior_predictive(BMCA_obj5_reg1)['prior']['Ex'])\n",
    "Ex7_prior_reg1= util.get_az_summary(util.run_prior_predictive(BMCA_obj7_reg1)['prior']['Ex'])\n",
    "Ex100_prior_reg1= util.get_az_summary(util.run_prior_predictive(BMCA_obj100_reg1)['prior']['Ex'])\n",
    "\n",
    "Ex01_prior_reg2= util.get_az_summary(util.run_prior_predictive(BMCA_obj01_reg2)['prior']['Ex'])\n",
    "Ex02_prior_reg2= util.get_az_summary(util.run_prior_predictive(BMCA_obj02_reg2)['prior']['Ex'])\n",
    "Ex03_prior_reg2= util.get_az_summary(util.run_prior_predictive(BMCA_obj03_reg2)['prior']['Ex'])\n",
    "Ex04_prior_reg2= util.get_az_summary(util.run_prior_predictive(BMCA_obj04_reg2)['prior']['Ex'])\n",
    "Ex05_prior_reg2= util.get_az_summary(util.run_prior_predictive(BMCA_obj05_reg2)['prior']['Ex'])\n",
    "Ex15_prior_reg2= util.get_az_summary(util.run_prior_predictive(BMCA_obj15_reg2)['prior']['Ex'])\n",
    "Ex3_prior_reg2= util.get_az_summary(util.run_prior_predictive(BMCA_obj3_reg2)['prior']['Ex'])\n",
    "Ex5_prior_reg2= util.get_az_summary(util.run_prior_predictive(BMCA_obj5_reg2)['prior']['Ex'])\n",
    "Ex7_prior_reg2= util.get_az_summary(util.run_prior_predictive(BMCA_obj7_reg2)['prior']['Ex'])\n",
    "Ex100_prior_reg2= util.get_az_summary(util.run_prior_predictive(BMCA_obj100_reg2)['prior']['Ex'])\n"
   ]
  },
  {
   "cell_type": "code",
   "execution_count": 51,
   "metadata": {},
   "outputs": [],
   "source": [
    "priorFCC01_noReg = util.estimate_CCs(BMCA_obj01_noReg, Ex01_prior_noReg.reshape((16,-1)))\n",
    "priorFCC02_noReg = util.estimate_CCs(BMCA_obj02_noReg, Ex02_prior_noReg.reshape((16,-1)))\n",
    "priorFCC03_noReg = util.estimate_CCs(BMCA_obj03_noReg, Ex03_prior_noReg.reshape((16,-1)))\n",
    "priorFCC04_noReg = util.estimate_CCs(BMCA_obj04_noReg, Ex04_prior_noReg.reshape((16,-1)))\n",
    "priorFCC05_noReg = util.estimate_CCs(BMCA_obj05_noReg, Ex05_prior_noReg.reshape((16,-1)))\n",
    "priorFCC15_noReg = util.estimate_CCs(BMCA_obj15_noReg, Ex15_prior_noReg.reshape((16,-1)))\n",
    "priorFCC3_noReg = util.estimate_CCs(BMCA_obj3_noReg, Ex3_prior_noReg.reshape((16,-1)))\n",
    "priorFCC5_noReg = util.estimate_CCs(BMCA_obj5_noReg, Ex5_prior_noReg.reshape((16,-1)))\n",
    "priorFCC7_noReg = util.estimate_CCs(BMCA_obj7_noReg, Ex7_prior_noReg.reshape((16,-1)))\n",
    "priorFCC100_noReg = util.estimate_CCs(BMCA_obj100_noReg, Ex100_prior_noReg.reshape((16,-1)))\n",
    "\n",
    "priorFCC01_reg1 = util.estimate_CCs(BMCA_obj01_reg1, Ex01_prior_reg1.reshape((16,-1)))\n",
    "priorFCC02_reg1 = util.estimate_CCs(BMCA_obj02_reg1, Ex02_prior_reg1.reshape((16,-1)))\n",
    "priorFCC03_reg1 = util.estimate_CCs(BMCA_obj03_reg1, Ex03_prior_reg1.reshape((16,-1)))\n",
    "priorFCC04_reg1 = util.estimate_CCs(BMCA_obj04_reg1, Ex04_prior_reg1.reshape((16,-1)))\n",
    "priorFCC05_reg1 = util.estimate_CCs(BMCA_obj05_reg1, Ex05_prior_reg1.reshape((16,-1)))\n",
    "priorFCC15_reg1 = util.estimate_CCs(BMCA_obj15_reg1, Ex15_prior_reg1.reshape((16,-1)))\n",
    "priorFCC3_reg1 = util.estimate_CCs(BMCA_obj3_reg1, Ex3_prior_reg1.reshape((16,-1)))\n",
    "priorFCC5_reg1 = util.estimate_CCs(BMCA_obj5_reg1, Ex5_prior_reg1.reshape((16,-1)))\n",
    "priorFCC7_reg1 = util.estimate_CCs(BMCA_obj7_reg1, Ex7_prior_reg1.reshape((16,-1)))\n",
    "priorFCC100_reg1 = util.estimate_CCs(BMCA_obj100_reg1, Ex100_prior_reg1.reshape((16,-1)))\n",
    "\n",
    "priorFCC01_reg2 = util.estimate_CCs(BMCA_obj01_reg2, Ex01_prior_reg2.reshape((16,-1)))\n",
    "priorFCC02_reg2 = util.estimate_CCs(BMCA_obj02_reg2, Ex02_prior_reg2.reshape((16,-1)))\n",
    "priorFCC03_reg2 = util.estimate_CCs(BMCA_obj03_reg2, Ex03_prior_reg2.reshape((16,-1)))\n",
    "priorFCC04_reg2 = util.estimate_CCs(BMCA_obj04_reg2, Ex04_prior_reg2.reshape((16,-1)))\n",
    "priorFCC05_reg2 = util.estimate_CCs(BMCA_obj05_reg2, Ex05_prior_reg2.reshape((16,-1)))\n",
    "priorFCC15_reg2 = util.estimate_CCs(BMCA_obj15_reg2, Ex15_prior_reg2.reshape((16,-1)))\n",
    "priorFCC3_reg2 = util.estimate_CCs(BMCA_obj3_reg2, Ex3_prior_reg2.reshape((16,-1)))\n",
    "priorFCC5_reg2 = util.estimate_CCs(BMCA_obj5_reg2, Ex5_prior_reg2.reshape((16,-1)))\n",
    "priorFCC7_reg2 = util.estimate_CCs(BMCA_obj7_reg2, Ex7_prior_reg2.reshape((16,-1)))\n",
    "priorFCC100_reg2 = util.estimate_CCs(BMCA_obj100_reg2, Ex100_prior_reg2.reshape((16,-1)))\n"
   ]
  },
  {
   "cell_type": "code",
   "execution_count": 52,
   "metadata": {},
   "outputs": [],
   "source": [
    "priorFCCs_noReg = [priorFCC01_noReg, priorFCC02_noReg, priorFCC03_noReg, priorFCC04_noReg, priorFCC05_noReg, priorFCC15_noReg, priorFCC3_noReg, priorFCC5_noReg, priorFCC7_noReg, priorFCC100_noReg]\n",
    "priorFCCs_reg1 = [priorFCC01_reg1, priorFCC02_reg1, priorFCC03_reg1, priorFCC04_reg1, priorFCC05_reg1, priorFCC15_reg1, priorFCC3_reg1, priorFCC5_reg1, priorFCC7_reg1, priorFCC100_reg1]\n",
    "priorFCCs_reg2 = [priorFCC01_reg2, priorFCC02_reg2, priorFCC03_reg2, priorFCC04_reg2, priorFCC05_reg2, priorFCC15_reg2, priorFCC3_reg2, priorFCC5_reg2, priorFCC7_reg2, priorFCC100_reg2]"
   ]
  },
  {
   "cell_type": "code",
   "execution_count": 53,
   "metadata": {},
   "outputs": [],
   "source": [
    "priorFCC_noReg_meds = [-pd.DataFrame(np.median(priorFCC, axis=0), columns=rr_noReg.getReactionIds(), index=rr_noReg.getReactionIds()) for priorFCC in priorFCCs_noReg]\n",
    "priorFCC_noReg_meds = pd.concat([i.melt()['value'] for i in priorFCC_noReg_meds], axis=1).values\n",
    "priorFCC_noReg_meds = pd.DataFrame(priorFCC_noReg_meds, columns=pt_labels)\n",
    "priorFCC_noReg_meds['median'] = priorFCC_noReg_meds.median(axis=1)\n",
    "priorFCC_noReg_meds['min'] = priorFCC_noReg_meds.min(axis=1)\n",
    "priorFCC_noReg_meds['max'] = priorFCC_noReg_meds.max(axis=1)\n",
    "# priorFCC_noReg_meds"
   ]
  },
  {
   "cell_type": "code",
   "execution_count": 54,
   "metadata": {},
   "outputs": [],
   "source": [
    "priorFCC_reg1_meds = [-pd.DataFrame(np.median(priorFCC, axis=0), columns=rr_reg1.getReactionIds(), index=rr_reg1.getReactionIds()) for priorFCC in priorFCCs_reg1]\n",
    "priorFCC_reg1_meds = pd.concat([i.melt()['value'] for i in priorFCC_reg1_meds], axis=1).values\n",
    "priorFCC_reg1_meds = pd.DataFrame(priorFCC_reg1_meds, columns=pt_labels)\n",
    "priorFCC_reg1_meds['median'] = priorFCC_reg1_meds.median(axis=1)\n",
    "priorFCC_reg1_meds['min'] = priorFCC_reg1_meds.min(axis=1)\n",
    "priorFCC_reg1_meds['max'] = priorFCC_reg1_meds.max(axis=1)\n",
    "# priorFCC_reg1_meds"
   ]
  },
  {
   "cell_type": "code",
   "execution_count": 55,
   "metadata": {},
   "outputs": [],
   "source": [
    "priorFCC_reg2_meds = [-pd.DataFrame(np.median(priorFCC, axis=0), columns=rr_reg2.getReactionIds(), index=rr_reg2.getReactionIds()) for priorFCC in priorFCCs_reg2]\n",
    "priorFCC_reg2_meds = pd.concat([i.melt()['value'] for i in priorFCC_reg2_meds], axis=1).values\n",
    "priorFCC_reg2_meds = pd.DataFrame(priorFCC_reg2_meds, columns=pt_labels)\n",
    "priorFCC_reg2_meds['median'] = priorFCC_reg2_meds.median(axis=1)\n",
    "priorFCC_reg2_meds['min'] = priorFCC_reg2_meds.min(axis=1)\n",
    "priorFCC_reg2_meds['max'] = priorFCC_reg2_meds.max(axis=1)\n",
    "# priorFCC_reg2_meds"
   ]
  },
  {
   "cell_type": "code",
   "execution_count": 56,
   "metadata": {},
   "outputs": [],
   "source": [
    "FCC_lower_y_noReg_prior = np.array(priorFCC_noReg_meds['median']) - np.array(priorFCC_noReg_meds['min'])\n",
    "FCC_upper_y_noReg_prior = np.array(priorFCC_noReg_meds['max']) - np.array(priorFCC_noReg_meds['median'])\n",
    "FCC_errors_noReg_prior = [FCC_lower_y_noReg_prior, FCC_upper_y_noReg_prior]\n",
    "\n",
    "FCC_lower_y_reg1_prior = np.array(priorFCC_reg1_meds['median']) - np.array(priorFCC_reg1_meds['min'])\n",
    "FCC_upper_y_reg1_prior = np.array(priorFCC_reg1_meds['max']) - np.array(priorFCC_reg1_meds['median'])\n",
    "FCC_errors_reg1_prior = [FCC_lower_y_reg1_prior, FCC_upper_y_reg1_prior]\n",
    "\n",
    "FCC_lower_y_reg2_prior = np.array(priorFCC_reg2_meds['median']) - np.array(priorFCC_reg2_meds['min'])\n",
    "FCC_upper_y_reg2_prior = np.array(priorFCC_reg2_meds['max']) - np.array(priorFCC_reg2_meds['median'])\n",
    "FCC_errors_reg2_prior = [FCC_lower_y_reg2_prior, FCC_upper_y_reg2_prior]"
   ]
  },
  {
   "cell_type": "markdown",
   "metadata": {},
   "source": [
    "### posteriors"
   ]
  },
  {
   "cell_type": "code",
   "execution_count": 57,
   "metadata": {},
   "outputs": [],
   "source": [
    "# all data\n",
    "postFCC01_noReg = util.estimate_CCs(BMCA_obj01_noReg, Ex01_noReg.reshape((16, -1)))\n",
    "postFCC02_noReg = util.estimate_CCs(BMCA_obj02_noReg, Ex02_noReg.reshape((16, -1)))\n",
    "postFCC03_noReg = util.estimate_CCs(BMCA_obj03_noReg, Ex03_noReg.reshape((16, -1)))\n",
    "postFCC04_noReg = util.estimate_CCs(BMCA_obj04_noReg, Ex04_noReg.reshape((16, -1)))\n",
    "postFCC05_noReg = util.estimate_CCs(BMCA_obj05_noReg, Ex05_noReg.reshape((16, -1)))\n",
    "postFCC15_noReg = util.estimate_CCs(BMCA_obj15_noReg, Ex15_noReg.reshape((16, -1)))\n",
    "postFCC3_noReg = util.estimate_CCs(BMCA_obj3_noReg, Ex3_noReg.reshape((16, -1)))\n",
    "postFCC5_noReg = util.estimate_CCs(BMCA_obj5_noReg, Ex5_noReg.reshape((16, -1)))\n",
    "postFCC7_noReg = util.estimate_CCs(BMCA_obj7_noReg, Ex7_noReg.reshape((16, -1)))\n",
    "postFCC100_noReg = util.estimate_CCs(BMCA_obj100_noReg, Ex100_noReg.reshape((16, -1)))\n",
    "\n",
    "postFCC01_reg1 = util.estimate_CCs(BMCA_obj01_reg1, Ex01_reg1.reshape((16, -1)))\n",
    "postFCC02_reg1 = util.estimate_CCs(BMCA_obj02_reg1, Ex02_reg1.reshape((16, -1)))\n",
    "postFCC03_reg1 = util.estimate_CCs(BMCA_obj03_reg1, Ex03_reg1.reshape((16, -1)))\n",
    "postFCC04_reg1 = util.estimate_CCs(BMCA_obj04_reg1, Ex04_reg1.reshape((16, -1)))\n",
    "postFCC05_reg1 = util.estimate_CCs(BMCA_obj05_reg1, Ex05_reg1.reshape((16, -1)))\n",
    "postFCC15_reg1 = util.estimate_CCs(BMCA_obj15_reg1, Ex15_reg1.reshape((16, -1)))\n",
    "postFCC3_reg1 = util.estimate_CCs(BMCA_obj3_reg1, Ex3_reg1.reshape((16, -1)))\n",
    "postFCC5_reg1 = util.estimate_CCs(BMCA_obj5_reg1, Ex5_reg1.reshape((16, -1)))\n",
    "postFCC7_reg1 = util.estimate_CCs(BMCA_obj7_reg1, Ex7_reg1.reshape((16, -1)))\n",
    "postFCC100_reg1 = util.estimate_CCs(BMCA_obj100_reg1, Ex100_reg1.reshape((16, -1)))\n",
    "\n",
    "postFCC01_reg2 = util.estimate_CCs(BMCA_obj01_reg2, Ex01_reg2.reshape((16, -1)))\n",
    "postFCC02_reg2 = util.estimate_CCs(BMCA_obj02_reg2, Ex02_reg2.reshape((16, -1)))\n",
    "postFCC03_reg2 = util.estimate_CCs(BMCA_obj03_reg2, Ex03_reg2.reshape((16, -1)))\n",
    "postFCC04_reg2 = util.estimate_CCs(BMCA_obj04_reg2, Ex04_reg2.reshape((16, -1)))\n",
    "postFCC05_reg2 = util.estimate_CCs(BMCA_obj05_reg2, Ex05_reg2.reshape((16, -1)))\n",
    "postFCC15_reg2 = util.estimate_CCs(BMCA_obj15_reg2, Ex15_reg2.reshape((16, -1)))\n",
    "postFCC3_reg2 = util.estimate_CCs(BMCA_obj3_reg2, Ex3_reg2.reshape((16, -1)))\n",
    "postFCC5_reg2 = util.estimate_CCs(BMCA_obj5_reg2, Ex5_reg2.reshape((16, -1)))\n",
    "postFCC7_reg2 = util.estimate_CCs(BMCA_obj7_reg2, Ex7_reg2.reshape((16, -1)))\n",
    "postFCC100_reg2 = util.estimate_CCs(BMCA_obj100_reg2, Ex100_reg2.reshape((16, -1)))"
   ]
  },
  {
   "cell_type": "code",
   "execution_count": 58,
   "metadata": {},
   "outputs": [],
   "source": [
    "postFCCs_noReg = [postFCC01_noReg, postFCC02_noReg, postFCC03_noReg, postFCC04_noReg, postFCC05_noReg, postFCC15_noReg, postFCC3_noReg, postFCC5_noReg, postFCC7_noReg, postFCC100_noReg]\n",
    "postFCCs_reg1 = [postFCC01_reg1, postFCC02_reg1, postFCC03_reg1, postFCC04_reg1, postFCC05_reg1, postFCC15_reg1, postFCC3_reg1, postFCC5_reg1, postFCC7_reg1, postFCC100_reg1]\n",
    "postFCCs_reg2 = [postFCC01_reg2, postFCC02_reg2, postFCC03_reg2, postFCC04_reg2, postFCC05_reg2, postFCC15_reg2, postFCC3_reg2, postFCC5_reg2, postFCC7_reg2, postFCC100_reg2]"
   ]
  },
  {
   "cell_type": "code",
   "execution_count": 59,
   "metadata": {},
   "outputs": [],
   "source": [
    "# omit enzymes\n",
    "def estimate_CCs(BMCA_obj, Ex, med_et_advi):\n",
    "    BMCA_obj.vn[BMCA_obj.vn == 0] = 1e-6\n",
    "    \n",
    "    a = np.diag(med_et_advi / BMCA_obj.vn.values)\n",
    "    a = np.diag(a)\n",
    "    a = a[np.newaxis,:].repeat(3000, axis=0)\n",
    "\n",
    "    Ex_ss = a @ Ex\n",
    "    As = BMCA_obj.N @ np.diag(BMCA_obj.v_star) @ Ex_ss\n",
    "    bs = BMCA_obj.N @ np.diag(BMCA_obj.v_star)\n",
    "    bs = bs[np.newaxis, :].repeat(3000, axis=0)\n",
    "    \n",
    "    As = at.as_tensor_variable(As)\n",
    "    bs = at.as_tensor_variable(bs)\n",
    "\n",
    "    def solve_aesara(A, b):\n",
    "        rsolve_op = LeastSquaresSolve()\n",
    "        return rsolve_op(A, b).squeeze()\n",
    "\n",
    "    CCC, _ = aesara.scan(lambda A, b: solve_aesara(A, b),\n",
    "                        sequences=[As, bs], strict=True)\n",
    "\n",
    "    identity = np.eye(len(BMCA_obj.N.T))\n",
    "    identity = identity[np.newaxis,:].repeat(3000, axis=0)\n",
    "    \n",
    "    FCC = (Ex_ss @ CCC.eval()) + identity\n",
    "    \n",
    "    return FCC\n"
   ]
  },
  {
   "cell_type": "code",
   "execution_count": 60,
   "metadata": {},
   "outputs": [],
   "source": [
    "postFCC_noReg_meds = [-pd.DataFrame(np.median(postFCC, axis=0), columns=rr_noReg.getReactionIds(), index=rr_noReg.getReactionIds()) for postFCC in postFCCs_noReg]\n",
    "postFCC_noReg_meds = pd.concat([i.melt()['value'] for i in postFCC_noReg_meds], axis=1).values\n",
    "postFCC_noReg_meds = pd.DataFrame(postFCC_noReg_meds, columns=pt_labels)\n",
    "postFCC_noReg_meds['median'] = postFCC_noReg_meds.median(axis=1)\n",
    "postFCC_noReg_meds['min'] = postFCC_noReg_meds.min(axis=1)\n",
    "postFCC_noReg_meds['max'] = postFCC_noReg_meds.max(axis=1)\n",
    "# postFCC_noReg_meds"
   ]
  },
  {
   "cell_type": "code",
   "execution_count": 61,
   "metadata": {},
   "outputs": [],
   "source": [
    "postFCC_reg1_meds = [-pd.DataFrame(np.median(postFCC, axis=0), columns=rr_reg1.getReactionIds(), index=rr_reg1.getReactionIds()) for postFCC in postFCCs_reg1]\n",
    "postFCC_reg1_meds = pd.concat([i.melt()['value'] for i in postFCC_reg1_meds], axis=1).values\n",
    "postFCC_reg1_meds = pd.DataFrame(postFCC_reg1_meds, columns=pt_labels)\n",
    "postFCC_reg1_meds['median'] = postFCC_reg1_meds.median(axis=1)\n",
    "postFCC_reg1_meds['min'] = postFCC_reg1_meds.min(axis=1)\n",
    "postFCC_reg1_meds['max'] = postFCC_reg1_meds.max(axis=1)\n",
    "# postFCC_reg1_meds"
   ]
  },
  {
   "cell_type": "code",
   "execution_count": 62,
   "metadata": {},
   "outputs": [],
   "source": [
    "postFCC_reg2_meds = [-pd.DataFrame(np.median(postFCC, axis=0), columns=rr_reg2.getReactionIds(), index=rr_reg2.getReactionIds()) for postFCC in postFCCs_reg2]\n",
    "postFCC_reg2_meds = pd.concat([i.melt()['value'] for i in postFCC_reg2_meds], axis=1).values\n",
    "postFCC_reg2_meds = pd.DataFrame(postFCC_reg2_meds, columns=pt_labels)\n",
    "postFCC_reg2_meds['median'] = postFCC_reg2_meds.median(axis=1)\n",
    "postFCC_reg2_meds['min'] = postFCC_reg2_meds.min(axis=1)\n",
    "postFCC_reg2_meds['max'] = postFCC_reg2_meds.max(axis=1)\n",
    "# postFCC_reg2_meds"
   ]
  },
  {
   "cell_type": "code",
   "execution_count": 63,
   "metadata": {},
   "outputs": [],
   "source": [
    "FCC_lower_y_noReg_post = np.array(postFCC_noReg_meds['median']) - np.array(postFCC_noReg_meds['min'])\n",
    "FCC_upper_y_noReg_post = np.array(postFCC_noReg_meds['max']) - np.array(postFCC_noReg_meds['median'])\n",
    "FCC_errors_noReg_post = [FCC_lower_y_noReg_post, FCC_upper_y_noReg_post]\n",
    "\n",
    "FCC_lower_y_reg1_post = np.array(postFCC_reg1_meds['median']) - np.array(postFCC_reg1_meds['min'])\n",
    "FCC_upper_y_reg1_post = np.array(postFCC_reg1_meds['max']) - np.array(postFCC_reg1_meds['median'])\n",
    "FCC_errors_reg1_post = [FCC_lower_y_reg1_post, FCC_upper_y_reg1_post]\n",
    "\n",
    "FCC_lower_y_reg2_post = np.array(postFCC_reg2_meds['median']) - np.array(postFCC_reg2_meds['min'])\n",
    "FCC_upper_y_reg2_post = np.array(postFCC_reg2_meds['max']) - np.array(postFCC_reg2_meds['median'])\n",
    "FCC_errors_reg2_post = [FCC_lower_y_reg2_post, FCC_upper_y_reg2_post]"
   ]
  },
  {
   "cell_type": "markdown",
   "metadata": {},
   "source": [
    "### graphs"
   ]
  },
  {
   "cell_type": "code",
   "execution_count": 27,
   "metadata": {},
   "outputs": [
    {
     "data": {
      "image/png": "[encoded data removed]",
      "text/plain": [
       "<Figure size 640x480 with 1 Axes>"
      ]
     },
     "metadata": {},
     "output_type": "display_data"
    }
   ],
   "source": [
    "plt.axes().set_aspect('equal', 'datalim')\n",
    "\n",
    "plt.errorbar(gtFCC_noReg.melt()['value'], priorFCC_noReg_meds['median'], yerr=FCC_errors_noReg_prior, alpha=0.4, fmt='o', label='prior', zorder=100, c='orange')\n",
    "plt.errorbar(gtFCC_noReg.melt()['value'], postFCC_noReg_meds['median'], yerr=FCC_errors_noReg_post, alpha=0.4, fmt='o', label='post', zorder=100, c='b')\n",
    "\n",
    "plt.legend(loc=\"upper left\")\n",
    "plt.axline([0, 0], [1, 1], c='gray', linestyle='dashed', zorder=1, linewidth=2)\n",
    "plt.grid(True, which='both', axis='both', zorder=0)\n",
    "plt.xlabel('ground truth FCC values', size=14)\n",
    "plt.ylabel('predicted FCC values', size=14)\n",
    "plt.savefig(f'../data/results/raw_svg_figures/top{topology}-{omission}-medianFCCs_noReg.svg', format=\"svg\")"
   ]
  },
  {
   "cell_type": "code",
   "execution_count": 28,
   "metadata": {},
   "outputs": [
    {
     "data": {
      "image/png": "[encoded data removed]",
      "text/plain": [
       "<Figure size 640x480 with 1 Axes>"
      ]
     },
     "metadata": {},
     "output_type": "display_data"
    }
   ],
   "source": [
    "plt.axes().set_aspect('equal', 'datalim')\n",
    "\n",
    "plt.errorbar(gtFCC_reg1.melt()['value'], priorFCC_reg1_meds['median'], yerr=FCC_errors_reg1_prior, alpha=0.4, fmt='o', label='prior', zorder=100, c='orange')\n",
    "plt.errorbar(gtFCC_reg1.melt()['value'], postFCC_reg1_meds['median'], yerr=FCC_errors_reg1_post, alpha=0.4, fmt='o', label='post', zorder=100, c='b')\n",
    "\n",
    "plt.legend(loc=\"upper left\")\n",
    "plt.axline([0, 0], [1, 1], c='gray', linestyle='dashed', zorder=1, linewidth=2)\n",
    "plt.grid(True, which='both', axis='both', zorder=0)\n",
    "plt.xlabel('ground truth FCC values', size=14)\n",
    "plt.ylabel('predicted FCC values', size=14)\n",
    "plt.savefig(f'../data/results/raw_svg_figures/top{topology}-{omission}-medianFCCs_reg1.svg', format=\"svg\")"
   ]
  },
  {
   "cell_type": "code",
   "execution_count": 29,
   "metadata": {},
   "outputs": [
    {
     "data": {
      "image/png": "[encoded data removed]",
      "text/plain": [
       "<Figure size 640x480 with 1 Axes>"
      ]
     },
     "metadata": {},
     "output_type": "display_data"
    }
   ],
   "source": [
    "plt.axes().set_aspect('equal', 'datalim')\n",
    "\n",
    "plt.errorbar(gtFCC_reg2.melt()['value'], priorFCC_reg2_meds['median'], yerr=FCC_errors_reg2_prior, alpha=0.4, fmt='o', label='prior', zorder=100, c='orange')\n",
    "plt.errorbar(gtFCC_reg2.melt()['value'], postFCC_reg2_meds['median'], yerr=FCC_errors_reg2_post, alpha=0.4, fmt='o', label='post', zorder=100, c='b')\n",
    "\n",
    "plt.legend(loc=\"upper left\")\n",
    "plt.axline([0, 0], [1, 1], c='gray', linestyle='dashed', zorder=1, linewidth=2)\n",
    "plt.grid(True, which='both', axis='both', zorder=0)\n",
    "plt.xlabel('ground truth FCC values', size=14)\n",
    "plt.ylabel('predicted FCC values', size=14)\n",
    "plt.savefig(f'../data/results/raw_svg_figures/top{topology}-{omission}-medianFCCs_reg2.svg', format=\"svg\")"
   ]
  },
  {
   "cell_type": "markdown",
   "metadata": {},
   "source": [
    "### adding corrections for where the enzyme perturbed is directly involved in the reaction"
   ]
  },
  {
   "cell_type": "code",
   "execution_count": 64,
   "metadata": {},
   "outputs": [],
   "source": [
    "rxn = np.repeat(rr_noReg.getReactionIds(),len(rr_noReg.getReactionIds()))\n",
    "enz_pt = rr_noReg.getReactionIds() * len(rr_noReg.getReactionIds())\n",
    "FCC_idx = pd.DataFrame([rxn, enz_pt]).T"
   ]
  },
  {
   "cell_type": "code",
   "execution_count": 65,
   "metadata": {},
   "outputs": [
    {
     "name": "stdout",
     "output_type": "stream",
     "text": [
      "        0     1\n",
      "0    vKIL  vKIL\n",
      "17   vLIM  vLIM\n",
      "34   vMIK  vMIK\n",
      "51   vNOV  vNOV\n",
      "68   vOSC  vOSC\n",
      "85   vPAP  vPAP\n",
      "102  vQUE  vQUE\n",
      "119  vROM  vROM\n",
      "136  vSIE  vSIE\n",
      "153  vTAN  vTAN\n",
      "170  vUNI  vUNI\n",
      "187  vVIC  vVIC\n",
      "204  vWHI  vWHI\n",
      "221  vALP  vALP\n",
      "238  vYAN  vYAN\n",
      "255  vZUL  vZUL\n"
     ]
    }
   ],
   "source": [
    "for i in np.where(abs(gtFCC_noReg.melt()['value']- postFCC_noReg_meds['median'])>1):\n",
    "    print(FCC_idx.iloc[i])\n",
    "pt_enz_is_rxn = list(np.where(abs(gtFCC_noReg.melt()['value']- postFCC_noReg_meds['median'])>1)[0])"
   ]
  },
  {
   "cell_type": "markdown",
   "metadata": {},
   "source": [
    "### graphing the corrected fcc dfs"
   ]
  },
  {
   "cell_type": "code",
   "execution_count": null,
   "metadata": {},
   "outputs": [],
   "source": [
    "priorFCC_noReg_meds.loc[pt_enz_is_rxn, 'median'] += 2\n",
    "postFCC_noReg_meds.loc[pt_enz_is_rxn, 'median'] += 2\n",
    "\n",
    "priorFCC_reg1_meds.loc[pt_enz_is_rxn, 'median'] += 2\n",
    "postFCC_reg1_meds.loc[pt_enz_is_rxn, 'median'] += 2\n",
    "\n",
    "priorFCC_reg2_meds.loc[pt_enz_is_rxn, 'median'] += 2\n",
    "postFCC_reg2_meds.loc[pt_enz_is_rxn, 'median'] += 2"
   ]
  },
  {
   "cell_type": "code",
   "execution_count": null,
   "metadata": {},
   "outputs": [],
   "source": [
    "plt.axes().set_aspect('equal', 'datalim')\n",
    "\n",
    "plt.errorbar(gtFCC_noReg.melt()['value'], priorFCC_noReg_meds['median'], yerr=FCC_errors_noReg_prior, alpha=0.4, fmt='o', label='prior', zorder=100, c='orange')\n",
    "plt.errorbar(gtFCC_noReg.melt()['value'], postFCC_noReg_meds['median'], yerr=FCC_errors_noReg_post, alpha=0.4, fmt='o', label='post', zorder=100, c='b')\n",
    "\n",
    "plt.legend(loc=\"upper left\")\n",
    "plt.axline([0, 0], [1, 1], c='gray', linestyle='dashed', zorder=1, linewidth=2)\n",
    "plt.grid(True, which='both', axis='both', zorder=0)\n",
    "plt.xlabel('ground truth FCC values', size=14)\n",
    "plt.ylabel('predicted FCC values', size=14)\n",
    "plt.savefig(f'../data/results/raw_svg_figures/top{topology}-{omission}-medianFCCs_noReg_wCorrection.svg', format=\"svg\")"
   ]
  },
  {
   "cell_type": "code",
   "execution_count": null,
   "metadata": {},
   "outputs": [],
   "source": [
    "plt.axes().set_aspect('equal', 'datalim')\n",
    "\n",
    "plt.errorbar(gtFCC_reg1.melt()['value'], priorFCC_reg1_meds['median'], yerr=FCC_errors_reg1_prior, alpha=0.4, fmt='o', label='prior', zorder=100, c='orange')\n",
    "plt.errorbar(gtFCC_reg1.melt()['value'], postFCC_reg1_meds['median'], yerr=FCC_errors_reg1_post, alpha=0.4, fmt='o', label='post', zorder=100, c='b')\n",
    "\n",
    "plt.legend(loc=\"upper left\")\n",
    "plt.axline([0, 0], [1, 1], c='gray', linestyle='dashed', zorder=1, linewidth=2)\n",
    "plt.grid(True, which='both', axis='both', zorder=0)\n",
    "plt.xlabel('ground truth FCC values', size=14)\n",
    "plt.ylabel('predicted FCC values', size=14)\n",
    "plt.savefig(f'../data/results/raw_svg_figures/top{topology}-{omission}-medianFCCs_reg1_wCorrection.svg', format=\"svg\")"
   ]
  },
  {
   "cell_type": "code",
   "execution_count": null,
   "metadata": {},
   "outputs": [],
   "source": [
    "plt.axes().set_aspect('equal', 'datalim')\n",
    "\n",
    "plt.errorbar(gtFCC_reg2.melt()['value'], priorFCC_reg2_meds['median'], yerr=FCC_errors_reg2_prior, alpha=0.4, fmt='o', label='prior', zorder=100, c='orange')\n",
    "plt.errorbar(gtFCC_reg2.melt()['value'], postFCC_reg2_meds['median'], yerr=FCC_errors_reg2_post, alpha=0.4, fmt='o', label='post', zorder=100, c='b')\n",
    "\n",
    "plt.legend(loc=\"upper left\")\n",
    "plt.axline([0, 0], [1, 1], c='gray', linestyle='dashed', zorder=1, linewidth=2)\n",
    "plt.grid(True, which='both', axis='both', zorder=0)\n",
    "plt.xlabel('ground truth FCC values', size=14)\n",
    "plt.ylabel('predicted FCC values', size=14)\n",
    "plt.savefig(f'../data/results/raw_svg_figures/top{topology}-{omission}-medianFCCs_reg2_wCorrection.svg', format=\"svg\")"
   ]
  },
  {
   "cell_type": "markdown",
   "metadata": {},
   "source": [
    "### Combined graph of FCC values"
   ]
  },
  {
   "cell_type": "code",
   "execution_count": null,
   "metadata": {},
   "outputs": [],
   "source": [
    "# Create two subplots and unpack the output array immediately\n",
    "f, ax = plt.subplots(1, 3, figsize=(16,4.5))\n",
    "\n",
    "\n",
    "for ii in range(3):\n",
    "    ax[ii].tick_params(axis='both', which='major', labelsize=16)\n",
    "\n",
    "\"\"\"\n",
    "priorFCC_noReg_meds.loc[pt_enz_is_rxn, 'median'] += 2\n",
    "postFCC_noReg_meds.loc[pt_enz_is_rxn, 'median'] += 2\n",
    "\n",
    "priorFCC_reg1_meds.loc[pt_enz_is_rxn, 'median'] += 2\n",
    "postFCC_reg1_meds.loc[pt_enz_is_rxn, 'median'] += 2\n",
    "\n",
    "priorFCC_reg2_meds.loc[pt_enz_is_rxn, 'median'] += 2\n",
    "postFCC_reg2_meds.loc[pt_enz_is_rxn, 'median'] += 2\n",
    "\"\"\"\n",
    "\n",
    "ax[0].set_aspect('equal', 'datalim')\n",
    "ax[0].scatter(gtFCC_noReg.melt()['value'], priorFCC_noReg_meds['median'], alpha=0.4, label='prior', zorder=100, c='orange')\n",
    "ax[0].scatter(gtFCC_noReg.melt()['value'], postFCC_noReg_meds['median'], alpha=0.4, label='post', zorder=100, c='b')\n",
    "slope, intercept, _ = util.calculate_slope(gtFCC_noReg.melt()['value'], priorFCC_noReg_meds['median'])\n",
    "ax[0].axline((0, intercept), slope=slope, linestyle='--', alpha=0.6, color='orange', zorder=0)\n",
    "slope, intercept, _ = util.calculate_slope(gtFCC_noReg.melt()['value'], postFCC_noReg_meds['median'])\n",
    "ax[0].axline((0, intercept), slope=slope, linestyle='--', alpha=0.6, color='b', zorder=0)\n",
    "ax[0].axline([0, 0], [1, 1], c='gray', linestyle='dashed', zorder=1, linewidth=3)\n",
    "ax[0].grid()\n",
    "\n",
    "ax[1].set_aspect('equal', 'datalim')\n",
    "ax[1].scatter(gtFCC_reg1.melt()['value'], priorFCC_reg1_meds['median'], alpha=0.4, label='prior', zorder=100, c='orange')\n",
    "ax[1].scatter(gtFCC_reg1.melt()['value'], postFCC_reg1_meds['median'], alpha=0.4,  label='post', zorder=100, c='b')\n",
    "slope, intercept, _ = util.calculate_slope(gtFCC_reg1.melt()['value'], priorFCC_reg1_meds['median'])\n",
    "ax[1].axline((0, intercept), slope=slope, linestyle='--', alpha=0.6, color='orange', zorder=0)\n",
    "slope, intercept, _ = util.calculate_slope(gtFCC_reg1.melt()['value'], postFCC_reg1_meds['median'])\n",
    "ax[1].axline((0, intercept), slope=slope, linestyle='--', alpha=0.6, color='b', zorder=0)\n",
    "ax[1].axline([0, 0], [1, 1], c='gray', linestyle='dashed', zorder=1, linewidth=3)\n",
    "ax[1].grid()\n",
    "\n",
    "ax[2].set_aspect('equal', 'datalim')\n",
    "ax[2].scatter(gtFCC_reg2.melt()['value'], priorFCC_reg2_meds['median'], alpha=0.4, label='prior', zorder=100, c='orange')\n",
    "ax[2].scatter(gtFCC_reg2.melt()['value'], postFCC_reg2_meds['median'], alpha=0.4,  label='post', zorder=100, c='b')\n",
    "slope, intercept, _ = util.calculate_slope(gtFCC_reg2.melt()['value'], priorFCC_reg2_meds['median'])\n",
    "ax[2].axline((0, intercept), slope=slope, linestyle='--', alpha=0.6, color='orange', zorder=0)\n",
    "slope, intercept, _ = util.calculate_slope(gtFCC_reg2.melt()['value'], postFCC_reg2_meds['median'])\n",
    "ax[2].axline((0, intercept), slope=slope, linestyle='--', alpha=0.6, color='b', zorder=0)\n",
    "ax[2].axline([0, 0], [1, 1], c='gray', linestyle='dashed', zorder=1, linewidth=3)\n",
    "ax[2].grid()\n",
    "    \n",
    "f.tight_layout()\n",
    "\n",
    "plt.savefig(f'../data/results/raw_svg_figures/top{topology}-{omission}-combinedFCCs.svg', format=\"svg\")"
   ]
  },
  {
   "cell_type": "code",
   "execution_count": 66,
   "metadata": {},
   "outputs": [],
   "source": [
    "priorFCC_noReg_meds.loc[pt_enz_is_rxn, 'median'] += 2\n",
    "postFCC_noReg_meds.loc[pt_enz_is_rxn, 'median'] += 2\n",
    "\n",
    "priorFCC_reg1_meds.loc[pt_enz_is_rxn, 'median'] += 2\n",
    "postFCC_reg1_meds.loc[pt_enz_is_rxn, 'median'] += 2\n",
    "\n",
    "priorFCC_reg2_meds.loc[pt_enz_is_rxn, 'median'] += 2\n",
    "postFCC_reg2_meds.loc[pt_enz_is_rxn, 'median'] += 2"
   ]
  },
  {
   "cell_type": "code",
   "execution_count": 67,
   "metadata": {},
   "outputs": [
    {
     "data": {
      "image/png": "[encoded data removed]",
      "text/plain": [
       "<Figure size 1600x450 with 3 Axes>"
      ]
     },
     "metadata": {},
     "output_type": "display_data"
    }
   ],
   "source": [
    "# Create two subplots and unpack the output array immediately\n",
    "f, ax = plt.subplots(1, 3, figsize=(16,4.5))\n",
    "\n",
    "for ii in range(3):\n",
    "    ax[ii].tick_params(axis='both', which='major', labelsize=16)\n",
    "\n",
    "ax[0].set_aspect('equal', 'datalim')\n",
    "ax[0].scatter(gtFCC_noReg.melt()['value'], priorFCC_noReg_meds['median'], alpha=0.4, label='prior', zorder=100, c='orange')\n",
    "ax[0].scatter(gtFCC_noReg.melt()['value'], postFCC_noReg_meds['median'], alpha=0.4, label='post', zorder=100, c='b')\n",
    "slope, intercept, _ = util.calculate_slope(gtFCC_noReg.melt()['value'], priorFCC_noReg_meds['median'])\n",
    "ax[0].axline((0, intercept), slope=slope, linestyle='--', alpha=0.6, color='orange', zorder=0)\n",
    "slope, intercept, _ = util.calculate_slope(gtFCC_noReg.melt()['value'], postFCC_noReg_meds['median'])\n",
    "ax[0].axline((0, intercept), slope=slope, linestyle='--', alpha=0.6, color='b', zorder=0)\n",
    "ax[0].axline([0, 0], [1, 1], c='gray', linestyle='dashed', zorder=1, linewidth=3)\n",
    "ax[0].grid()\n",
    "ax[0].legend(loc=\"lower right\", fontsize=16)\n",
    "ax[0].set_xlabel('ground truth values')\n",
    "\n",
    "ax[1].set_aspect('equal', 'datalim')\n",
    "ax[1].scatter(gtFCC_reg1.melt()['value'], priorFCC_reg1_meds['median'], alpha=0.4, label='prior', zorder=100, c='orange')\n",
    "ax[1].scatter(gtFCC_reg1.melt()['value'], postFCC_reg1_meds['median'], alpha=0.4,  label='post', zorder=100, c='b')\n",
    "slope, intercept, _ = util.calculate_slope(gtFCC_reg1.melt()['value'], priorFCC_reg1_meds['median'])\n",
    "ax[1].axline((0, intercept), slope=slope, linestyle='--', alpha=0.6, color='orange', zorder=0)\n",
    "slope, intercept, _ = util.calculate_slope(gtFCC_reg1.melt()['value'], postFCC_reg1_meds['median'])\n",
    "ax[1].axline((0, intercept), slope=slope, linestyle='--', alpha=0.6, color='b', zorder=0)\n",
    "ax[1].axline([0, 0], [1, 1], c='gray', linestyle='dashed', zorder=1, linewidth=3)\n",
    "ax[1].grid()\n",
    "ax[1].set_xlabel('ground truth values')\n",
    "\n",
    "ax[2].set_aspect('equal', 'datalim')\n",
    "ax[2].scatter(gtFCC_reg2.melt()['value'], priorFCC_reg2_meds['median'], alpha=0.4, label='prior', zorder=100, c='orange')\n",
    "ax[2].scatter(gtFCC_reg2.melt()['value'], postFCC_reg2_meds['median'], alpha=0.4,  label='post', zorder=100, c='b')\n",
    "slope, intercept, _ = util.calculate_slope(gtFCC_reg2.melt()['value'], priorFCC_reg2_meds['median'])\n",
    "ax[2].axline((0, intercept), slope=slope, linestyle='--', alpha=0.6, color='orange', zorder=0)\n",
    "slope, intercept, _ = util.calculate_slope(gtFCC_reg2.melt()['value'], postFCC_reg2_meds['median'])\n",
    "ax[2].axline((0, intercept), slope=slope, linestyle='--', alpha=0.6, color='b', zorder=0)\n",
    "ax[2].axline([0, 0], [1, 1], c='gray', linestyle='dashed', zorder=1, linewidth=3)\n",
    "ax[2].grid()\n",
    "\n",
    "ax[2].set_xlabel('ground truth values')\n",
    "ax[2].set_ylabel('predicted values')\n",
    "\n",
    "\n",
    "    \n",
    "f.tight_layout()\n",
    "\n",
    "plt.savefig(f'../data/results/raw_svg_figures/top{topology}/top{topology}-{omission}-combinedFCCs.svg', format=\"svg\")"
   ]
  },
  {
   "cell_type": "code",
   "execution_count": 68,
   "metadata": {},
   "outputs": [
    {
     "data": {
      "image/png": "[encoded data removed]",
      "text/plain": [
       "<Figure size 640x480 with 1 Axes>"
      ]
     },
     "metadata": {},
     "output_type": "display_data"
    }
   ],
   "source": [
    "# Create two subplots and unpack the output array immediately\n",
    "\n",
    "plt.axes().set_aspect('equal', 'datalim')\n",
    "\n",
    "plt.scatter(gtFCC_noReg.melt()['value'], postFCC_noReg_meds['median'], alpha=0.4, label='noReg', zorder=300)\n",
    "plt.scatter(gtFCC_reg1.melt()['value'], postFCC_reg1_meds['median'], alpha=0.4,  label='reg1', zorder=200)\n",
    "plt.scatter(gtFCC_reg2.melt()['value'], postFCC_reg2_meds['median'], alpha=0.4,  label='reg2', zorder=100)\n",
    "\n",
    "slope, intercept, _ = util.calculate_slope(gtFCC_noReg.melt()['value'], postFCC_noReg_meds['median'])\n",
    "plt.axline((0, intercept), slope=slope, linestyle='--', alpha=0.6, color='tab:blue', zorder=0)\n",
    "\n",
    "slope, intercept, _ = util.calculate_slope(gtFCC_reg1.melt()['value'], postFCC_reg1_meds['median'])\n",
    "plt.axline((0, intercept), slope=slope, linestyle='--', alpha=0.6, color='tab:orange', zorder=0)\n",
    "\n",
    "slope, intercept, _ = util.calculate_slope(gtFCC_reg2.melt()['value'], postFCC_reg2_meds['median'])\n",
    "plt.axline((0, intercept), slope=slope, linestyle='--', alpha=0.6, color='tab:green', zorder=0)\n",
    "\n",
    "plt.axline([0, 0], [1, 1], c='gray', linestyle='dashed', zorder=1, linewidth=3)\n",
    "plt.grid()\n",
    "plt.legend(loc=\"lower right\", fontsize=16)\n",
    "\n",
    "plt.xlabel('ground truth values')\n",
    "plt.ylabel('predicted values')\n",
    "\n",
    "    \n",
    "f.tight_layout()\n",
    "\n",
    "plt.savefig(f'../data/results/raw_svg_figures/top{topology}/top{topology}-{omission}-combinedFCCs_byAllostery.svg', format=\"svg\")"
   ]
  },
  {
   "cell_type": "markdown",
   "metadata": {},
   "source": [
    "## Quantifying the number of FCCs in top ten that were predicted correctly by BMCA\n"
   ]
  },
  {
   "cell_type": "code",
   "execution_count": 11,
   "metadata": {},
   "outputs": [],
   "source": [
    "rank_counts_df = pd.read_csv('../data/results/TopologyA_top10.csv')"
   ]
  },
  {
   "cell_type": "code",
   "execution_count": 12,
   "metadata": {},
   "outputs": [
    {
     "data": {
      "text/html": [
       "<div>\n",
       "<style scoped>\n",
       "    .dataframe tbody tr th:only-of-type {\n",
       "        vertical-align: middle;\n",
       "    }\n",
       "\n",
       "    .dataframe tbody tr th {\n",
       "        vertical-align: top;\n",
       "    }\n",
       "\n",
       "    .dataframe thead th {\n",
       "        text-align: right;\n",
       "    }\n",
       "</style>\n",
       "<table border=\"1\" class=\"dataframe\">\n",
       "  <thead>\n",
       "    <tr style=\"text-align: right;\">\n",
       "      <th></th>\n",
       "      <th>Perturbation</th>\n",
       "      <th>omittedData</th>\n",
       "      <th>regulation</th>\n",
       "      <th>count</th>\n",
       "      <th>type</th>\n",
       "    </tr>\n",
       "  </thead>\n",
       "  <tbody>\n",
       "    <tr>\n",
       "      <th>0</th>\n",
       "      <td>0.1x</td>\n",
       "      <td>allData</td>\n",
       "      <td>noReg</td>\n",
       "      <td>7</td>\n",
       "      <td>prior</td>\n",
       "    </tr>\n",
       "    <tr>\n",
       "      <th>1</th>\n",
       "      <td>0.2x</td>\n",
       "      <td>allData</td>\n",
       "      <td>noReg</td>\n",
       "      <td>7</td>\n",
       "      <td>prior</td>\n",
       "    </tr>\n",
       "    <tr>\n",
       "      <th>2</th>\n",
       "      <td>0.3x</td>\n",
       "      <td>allData</td>\n",
       "      <td>noReg</td>\n",
       "      <td>7</td>\n",
       "      <td>prior</td>\n",
       "    </tr>\n",
       "    <tr>\n",
       "      <th>3</th>\n",
       "      <td>0.4x</td>\n",
       "      <td>allData</td>\n",
       "      <td>noReg</td>\n",
       "      <td>7</td>\n",
       "      <td>prior</td>\n",
       "    </tr>\n",
       "    <tr>\n",
       "      <th>4</th>\n",
       "      <td>0.5x</td>\n",
       "      <td>allData</td>\n",
       "      <td>noReg</td>\n",
       "      <td>7</td>\n",
       "      <td>prior</td>\n",
       "    </tr>\n",
       "  </tbody>\n",
       "</table>\n",
       "</div>"
      ],
      "text/plain": [
       "  Perturbation omittedData regulation  count   type\n",
       "0         0.1x     allData      noReg      7  prior\n",
       "1         0.2x     allData      noReg      7  prior\n",
       "2         0.3x     allData      noReg      7  prior\n",
       "3         0.4x     allData      noReg      7  prior\n",
       "4         0.5x     allData      noReg      7  prior"
      ]
     },
     "execution_count": 12,
     "metadata": {},
     "output_type": "execute_result"
    }
   ],
   "source": [
    "rank_counts_df.head()"
   ]
  },
  {
   "cell_type": "code",
   "execution_count": 36,
   "metadata": {},
   "outputs": [
    {
     "name": "stderr",
     "output_type": "stream",
     "text": [
      "C:\\Users\\user\\AppData\\Local\\Temp\\ipykernel_28476\\1542227218.py:1: FutureWarning:\n",
      "\n",
      "pivot_table dropped a column because it failed to aggregate. This behavior is deprecated and will raise in a future version of pandas. Select only the columns that can be aggregated.\n",
      "\n",
      "C:\\Users\\user\\AppData\\Local\\Temp\\ipykernel_28476\\1542227218.py:1: FutureWarning:\n",
      "\n",
      "The operation <function std at 0x000001CA7EDEA1F0> failed on a column. If any error is raised, this will raise an exception in a future version of pandas. Drop these columns to avoid this warning.\n",
      "\n"
     ]
    },
    {
     "data": {
      "text/html": [
       "<div>\n",
       "<style scoped>\n",
       "    .dataframe tbody tr th:only-of-type {\n",
       "        vertical-align: middle;\n",
       "    }\n",
       "\n",
       "    .dataframe tbody tr th {\n",
       "        vertical-align: top;\n",
       "    }\n",
       "\n",
       "    .dataframe thead tr th {\n",
       "        text-align: left;\n",
       "    }\n",
       "</style>\n",
       "<table border=\"1\" class=\"dataframe\">\n",
       "  <thead>\n",
       "    <tr>\n",
       "      <th></th>\n",
       "      <th>omittedData</th>\n",
       "      <th>type</th>\n",
       "      <th>mean</th>\n",
       "      <th>std</th>\n",
       "    </tr>\n",
       "    <tr>\n",
       "      <th></th>\n",
       "      <th></th>\n",
       "      <th></th>\n",
       "      <th>count</th>\n",
       "      <th>count</th>\n",
       "    </tr>\n",
       "  </thead>\n",
       "  <tbody>\n",
       "    <tr>\n",
       "      <th>1</th>\n",
       "      <td>allData</td>\n",
       "      <td>prior</td>\n",
       "      <td>6.700000</td>\n",
       "      <td>0.466092</td>\n",
       "    </tr>\n",
       "    <tr>\n",
       "      <th>0</th>\n",
       "      <td>allData</td>\n",
       "      <td>post</td>\n",
       "      <td>8.233333</td>\n",
       "      <td>1.278019</td>\n",
       "    </tr>\n",
       "    <tr>\n",
       "      <th>7</th>\n",
       "      <td>omitFluxes</td>\n",
       "      <td>prior</td>\n",
       "      <td>6.666667</td>\n",
       "      <td>0.479463</td>\n",
       "    </tr>\n",
       "    <tr>\n",
       "      <th>6</th>\n",
       "      <td>omitFluxes</td>\n",
       "      <td>post</td>\n",
       "      <td>7.066667</td>\n",
       "      <td>0.784915</td>\n",
       "    </tr>\n",
       "    <tr>\n",
       "      <th>3</th>\n",
       "      <td>omitEnzymes</td>\n",
       "      <td>prior</td>\n",
       "      <td>6.666667</td>\n",
       "      <td>0.479463</td>\n",
       "    </tr>\n",
       "    <tr>\n",
       "      <th>2</th>\n",
       "      <td>omitEnzymes</td>\n",
       "      <td>post</td>\n",
       "      <td>7.433333</td>\n",
       "      <td>0.858360</td>\n",
       "    </tr>\n",
       "    <tr>\n",
       "      <th>9</th>\n",
       "      <td>omitIntMet</td>\n",
       "      <td>prior</td>\n",
       "      <td>6.666667</td>\n",
       "      <td>0.479463</td>\n",
       "    </tr>\n",
       "    <tr>\n",
       "      <th>8</th>\n",
       "      <td>omitIntMet</td>\n",
       "      <td>post</td>\n",
       "      <td>8.066667</td>\n",
       "      <td>1.172481</td>\n",
       "    </tr>\n",
       "    <tr>\n",
       "      <th>5</th>\n",
       "      <td>omitExMet</td>\n",
       "      <td>prior</td>\n",
       "      <td>6.700000</td>\n",
       "      <td>0.466092</td>\n",
       "    </tr>\n",
       "    <tr>\n",
       "      <th>4</th>\n",
       "      <td>omitExMet</td>\n",
       "      <td>post</td>\n",
       "      <td>8.233333</td>\n",
       "      <td>1.165106</td>\n",
       "    </tr>\n",
       "  </tbody>\n",
       "</table>\n",
       "</div>"
      ],
      "text/plain": [
       "   omittedData   type      mean       std\n",
       "                          count     count\n",
       "1      allData  prior  6.700000  0.466092\n",
       "0      allData   post  8.233333  1.278019\n",
       "7   omitFluxes  prior  6.666667  0.479463\n",
       "6   omitFluxes   post  7.066667  0.784915\n",
       "3  omitEnzymes  prior  6.666667  0.479463\n",
       "2  omitEnzymes   post  7.433333  0.858360\n",
       "9   omitIntMet  prior  6.666667  0.479463\n",
       "8   omitIntMet   post  8.066667  1.172481\n",
       "5    omitExMet  prior  6.700000  0.466092\n",
       "4    omitExMet   post  8.233333  1.165106"
      ]
     },
     "execution_count": 36,
     "metadata": {},
     "output_type": "execute_result"
    }
   ],
   "source": [
    "stagbar_counts = rank_counts_df.pivot_table(index=['omittedData','type'], aggfunc=['mean',np.std])\n",
    "stagbar_counts.reset_index(inplace=True)\n",
    "stagbar_counts = stagbar_counts.reindex([1,0,7,6,3,2,9,8,5,4])\n",
    "stagbar_counts"
   ]
  },
  {
   "cell_type": "code",
   "execution_count": null,
   "metadata": {},
   "outputs": [
    {
     "name": "stderr",
     "output_type": "stream",
     "text": [
      "C:\\Users\\user\\AppData\\Local\\Temp\\ipykernel_28476\\2033004726.py:18: UserWarning:\n",
      "\n",
      "set_ticklabels() should only be used with a fixed number of ticks, i.e. after set_ticks() or using a FixedLocator.\n",
      "\n"
     ]
    },
    {
     "data": {
      "image/png": "[encoded data removed]",
      "text/plain": [
       "<Figure size 640x480 with 1 Axes>"
      ]
     },
     "metadata": {},
     "output_type": "display_data"
    }
   ],
   "source": [
    "ax = plt.subplot(111)\n",
    "ax.grid()\n",
    "\n",
    "ax.bar([i-0.1 for i in range(5)], stagbar_counts[stagbar_counts['type']=='prior']['mean']['count'].values,\n",
    "        width=0.2, color='orange', align='center', zorder=100, label='prior')\n",
    "plt.errorbar([i-0.1 for i in range(5)], \n",
    "             stagbar_counts[stagbar_counts['type']=='prior']['mean']['count'].values, \n",
    "             yerr=stagbar_counts[stagbar_counts['type']=='prior']['std']['count'].values, \n",
    "             ls='none', color='black', capsize=5, zorder=1000)\n",
    "\n",
    "ax.bar([i+0.1 for i in range(5)], stagbar_counts[stagbar_counts['type']=='post']['mean']['count'].values,\n",
    "        width=0.2, color='tab:blue', align='center', zorder=100, label='post')\n",
    "plt.errorbar([i+0.1 for i in range(5)], \n",
    "             stagbar_counts[stagbar_counts['type']=='post']['mean']['count'].values, \n",
    "             yerr=stagbar_counts[stagbar_counts['type']=='post']['std']['count'].values, \n",
    "             ls='none', color='black', capsize=5, zorder=1000)\n",
    "\n",
    "_ = ax.set_xticklabels([0, 'None', 'Fluxes', 'Enzymes', 'Int. Met.', 'Ex. Met.'])\n",
    "_ = ax.set_yticks(range(0,12,2))\n",
    "ax.legend()\n",
    "plt.savefig(f'../data/results/raw_svg_figures/top{topology}_rankCounts.svg', format='svg')"
   ]
  },
  {
   "cell_type": "code",
   "execution_count": null,
   "metadata": {},
   "outputs": [
    {
     "name": "stderr",
     "output_type": "stream",
     "text": [
      "C:\\Users\\user\\AppData\\Local\\Temp\\ipykernel_28476\\2883928629.py:1: FutureWarning:\n",
      "\n",
      "pivot_table dropped a column because it failed to aggregate. This behavior is deprecated and will raise in a future version of pandas. Select only the columns that can be aggregated.\n",
      "\n",
      "C:\\Users\\user\\AppData\\Local\\Temp\\ipykernel_28476\\2883928629.py:1: FutureWarning:\n",
      "\n",
      "The operation <function std at 0x000001CA7EDEA1F0> failed on a column. If any error is raised, this will raise an exception in a future version of pandas. Drop these columns to avoid this warning.\n",
      "\n",
      "C:\\Users\\user\\AppData\\Local\\Temp\\ipykernel_28476\\2883928629.py:22: UserWarning:\n",
      "\n",
      "set_ticklabels() should only be used with a fixed number of ticks, i.e. after set_ticks() or using a FixedLocator.\n",
      "\n"
     ]
    },
    {
     "data": {
      "image/png": "[encoded data removed]",
      "text/plain": [
       "<Figure size 640x480 with 1 Axes>"
      ]
     },
     "metadata": {},
     "output_type": "display_data"
    }
   ],
   "source": [
    "stagbar_counts = rank_counts_df[rank_counts_df['regulation']=='noReg'].pivot_table(index=['omittedData','type'], aggfunc=['mean',np.std])\n",
    "stagbar_counts.reset_index(inplace=True)\n",
    "stagbar_counts = stagbar_counts.reindex([1,0,7,6,3,2,9,8,5,4])\n",
    "\n",
    "ax = plt.subplot(111)\n",
    "ax.grid()\n",
    "\n",
    "ax.bar([i-0.1 for i in range(5)], stagbar_counts[stagbar_counts['type']=='prior']['mean']['count'].values,\n",
    "        width=0.2, color='orange', align='center', zorder=100, label='prior')\n",
    "plt.errorbar([i-0.1 for i in range(5)], \n",
    "             stagbar_counts[stagbar_counts['type']=='prior']['mean']['count'].values, \n",
    "             yerr=stagbar_counts[stagbar_counts['type']=='prior']['std']['count'].values, \n",
    "             ls='none', color='black', capsize=5, zorder=1000)\n",
    "\n",
    "ax.bar([i+0.1 for i in range(5)], stagbar_counts[stagbar_counts['type']=='post']['mean']['count'].values,\n",
    "        width=0.2, color='tab:blue', align='center', zorder=100, label='post')\n",
    "plt.errorbar([i+0.1 for i in range(5)], \n",
    "             stagbar_counts[stagbar_counts['type']=='post']['mean']['count'].values, \n",
    "             yerr=stagbar_counts[stagbar_counts['type']=='post']['std']['count'].values, \n",
    "             ls='none', color='black', capsize=5, zorder=1000)\n",
    "\n",
    "_ = ax.set_xticklabels([0, 'None', 'Fluxes', 'Enzymes', 'Int. Met.', 'Ex. Met.'])\n",
    "_ = ax.set_yticks(range(0,12,2))\n",
    "ax.legend()\n",
    "plt.savefig(f'../data/results/raw_svg_figures/top{topology}-noReg_rankCounts.svg', format='svg')"
   ]
  },
  {
   "cell_type": "code",
   "execution_count": null,
   "metadata": {},
   "outputs": [
    {
     "name": "stderr",
     "output_type": "stream",
     "text": [
      "C:\\Users\\user\\AppData\\Local\\Temp\\ipykernel_28476\\1649415053.py:1: FutureWarning:\n",
      "\n",
      "pivot_table dropped a column because it failed to aggregate. This behavior is deprecated and will raise in a future version of pandas. Select only the columns that can be aggregated.\n",
      "\n",
      "C:\\Users\\user\\AppData\\Local\\Temp\\ipykernel_28476\\1649415053.py:1: FutureWarning:\n",
      "\n",
      "The operation <function std at 0x000001CA7EDEA1F0> failed on a column. If any error is raised, this will raise an exception in a future version of pandas. Drop these columns to avoid this warning.\n",
      "\n",
      "C:\\Users\\user\\AppData\\Local\\Temp\\ipykernel_28476\\1649415053.py:22: UserWarning:\n",
      "\n",
      "set_ticklabels() should only be used with a fixed number of ticks, i.e. after set_ticks() or using a FixedLocator.\n",
      "\n"
     ]
    },
    {
     "data": {
      "image/png": "[encoded data removed]",
      "text/plain": [
       "<Figure size 640x480 with 1 Axes>"
      ]
     },
     "metadata": {},
     "output_type": "display_data"
    }
   ],
   "source": [
    "stagbar_counts = rank_counts_df[rank_counts_df['regulation']=='reg1'].pivot_table(index=['omittedData','type'], aggfunc=['mean',np.std])\n",
    "stagbar_counts.reset_index(inplace=True)\n",
    "stagbar_counts = stagbar_counts.reindex([1,0,7,6,3,2,9,8,5,4])\n",
    "\n",
    "ax = plt.subplot(111)\n",
    "ax.grid()\n",
    "\n",
    "ax.bar([i-0.1 for i in range(5)], stagbar_counts[stagbar_counts['type']=='prior']['mean']['count'].values,\n",
    "        width=0.2, color='orange', align='center', zorder=100, label='prior')\n",
    "plt.errorbar([i-0.1 for i in range(5)], \n",
    "             stagbar_counts[stagbar_counts['type']=='prior']['mean']['count'].values, \n",
    "             yerr=stagbar_counts[stagbar_counts['type']=='prior']['std']['count'].values, \n",
    "             ls='none', color='black', capsize=5, zorder=1000)\n",
    "\n",
    "ax.bar([i+0.1 for i in range(5)], stagbar_counts[stagbar_counts['type']=='post']['mean']['count'].values,\n",
    "        width=0.2, color='tab:blue', align='center', zorder=100, label='post')\n",
    "plt.errorbar([i+0.1 for i in range(5)], \n",
    "             stagbar_counts[stagbar_counts['type']=='post']['mean']['count'].values, \n",
    "             yerr=stagbar_counts[stagbar_counts['type']=='post']['std']['count'].values, \n",
    "             ls='none', color='black', capsize=5, zorder=1000)\n",
    "\n",
    "_ = ax.set_xticklabels([0, 'None', 'Fluxes', 'Enzymes', 'Int. Met.', 'Ex. Met.'])\n",
    "_ = ax.set_yticks(range(0,12,2))\n",
    "ax.legend()\n",
    "plt.savefig(f'../data/results/raw_svg_figures/top{topology}-reg1_rankCounts.svg', format='svg')"
   ]
  },
  {
   "cell_type": "code",
   "execution_count": null,
   "metadata": {},
   "outputs": [
    {
     "name": "stderr",
     "output_type": "stream",
     "text": [
      "C:\\Users\\user\\AppData\\Local\\Temp\\ipykernel_28476\\625236278.py:1: FutureWarning:\n",
      "\n",
      "pivot_table dropped a column because it failed to aggregate. This behavior is deprecated and will raise in a future version of pandas. Select only the columns that can be aggregated.\n",
      "\n",
      "C:\\Users\\user\\AppData\\Local\\Temp\\ipykernel_28476\\625236278.py:1: FutureWarning:\n",
      "\n",
      "The operation <function std at 0x000001CA7EDEA1F0> failed on a column. If any error is raised, this will raise an exception in a future version of pandas. Drop these columns to avoid this warning.\n",
      "\n",
      "C:\\Users\\user\\AppData\\Local\\Temp\\ipykernel_28476\\625236278.py:22: UserWarning:\n",
      "\n",
      "set_ticklabels() should only be used with a fixed number of ticks, i.e. after set_ticks() or using a FixedLocator.\n",
      "\n"
     ]
    },
    {
     "data": {
      "image/png": "[encoded data removed]",
      "text/plain": [
       "<Figure size 640x480 with 1 Axes>"
      ]
     },
     "metadata": {},
     "output_type": "display_data"
    }
   ],
   "source": [
    "stagbar_counts = rank_counts_df[rank_counts_df['regulation']=='reg2'].pivot_table(index=['omittedData','type'], aggfunc=['mean',np.std])\n",
    "stagbar_counts.reset_index(inplace=True)\n",
    "stagbar_counts = stagbar_counts.reindex([1,0,7,6,3,2,9,8,5,4])\n",
    "\n",
    "ax = plt.subplot(111)\n",
    "ax.grid()\n",
    "\n",
    "ax.bar([i-0.1 for i in range(5)], stagbar_counts[stagbar_counts['type']=='prior']['mean']['count'].values,\n",
    "        width=0.2, color='orange', align='center', zorder=100, label='prior')\n",
    "plt.errorbar([i-0.1 for i in range(5)], \n",
    "             stagbar_counts[stagbar_counts['type']=='prior']['mean']['count'].values, \n",
    "             yerr=stagbar_counts[stagbar_counts['type']=='prior']['std']['count'].values, \n",
    "             ls='none', color='black', capsize=5, zorder=1000)\n",
    "\n",
    "ax.bar([i+0.1 for i in range(5)], stagbar_counts[stagbar_counts['type']=='post']['mean']['count'].values,\n",
    "        width=0.2, color='tab:blue', align='center', zorder=100, label='post')\n",
    "plt.errorbar([i+0.1 for i in range(5)], \n",
    "             stagbar_counts[stagbar_counts['type']=='post']['mean']['count'].values, \n",
    "             yerr=stagbar_counts[stagbar_counts['type']=='post']['std']['count'].values, \n",
    "             ls='none', color='black', capsize=5, zorder=1000)\n",
    "\n",
    "_ = ax.set_xticklabels([0, 'None', 'Fluxes', 'Enzymes', 'Int. Met.', 'Ex. Met.'])\n",
    "_ = ax.set_yticks(range(0,12,2))\n",
    "ax.legend()\n",
    "plt.savefig(f'../data/results/raw_svg_figures/top{topology}-reg2_rankCounts.svg', format='svg')"
   ]
  },
  {
   "cell_type": "markdown",
   "metadata": {},
   "source": [
    "# Old analyses"
   ]
  },
  {
   "cell_type": "markdown",
   "metadata": {},
   "source": [
    "## Visualizing Spearman data "
   ]
  },
  {
   "cell_type": "markdown",
   "metadata": {},
   "source": [
    "### Condensing all the spearman r data"
   ]
  },
  {
   "cell_type": "code",
   "execution_count": null,
   "metadata": {},
   "outputs": [],
   "source": [
    "os.chdir('../data/results/spearman_coefficients/')"
   ]
  },
  {
   "cell_type": "code",
   "execution_count": null,
   "metadata": {},
   "outputs": [],
   "source": [
    "spr_file_list = [i for i in os.listdir() if \"topologyA\" in i]\n",
    "\n",
    "spr_dfs = []\n",
    "for file in spr_file_list:\n",
    "    a = pd.read_csv(file)\n",
    "\n",
    "    reg = file.split('_')[0].split('-')[1]\n",
    "    omit = file.split('_')[1]\n",
    "\n",
    "    a['reg'] = [reg]*len(a)\n",
    "    a['omit'] = [omit]*len(a)\n",
    "    spr_dfs.append(a)\n",
    "\n",
    "all_spr_df_A = pd.concat(spr_dfs)\n",
    "all_spr_df_A"
   ]
  },
  {
   "cell_type": "code",
   "execution_count": null,
   "metadata": {},
   "outputs": [],
   "source": [
    "os.chdir('../../../notebooks/')"
   ]
  },
  {
   "cell_type": "code",
   "execution_count": null,
   "metadata": {},
   "outputs": [],
   "source": [
    "all_spr_df_A.rename(columns={'Unnamed: 0':'perturbation'}, inplace=True)\n",
    "all_spr_df_A['perturbation'] = [float(i.split('x')[0]) for i in all_spr_df_A['perturbation']]"
   ]
  },
  {
   "cell_type": "code",
   "execution_count": null,
   "metadata": {},
   "outputs": [],
   "source": [
    "a = all_spr_df_A.pivot(index=['omit', 'reg'], columns='perturbation', values='r')\n",
    "a"
   ]
  },
  {
   "cell_type": "code",
   "execution_count": null,
   "metadata": {},
   "outputs": [],
   "source": [
    "fluxes_comp = all_spr_df_A.loc[(all_spr_df_A['reg'] =='reg2') & (all_spr_df_A['omit'].isin(['none', 'omitFluxes']))]\n",
    "enzymes_comp = all_spr_df_A.loc[(all_spr_df_A['reg'] =='reg2') & (all_spr_df_A['omit'].isin(['none', 'omitEnzymes']))]\n",
    "intMet_comp = all_spr_df_A.loc[(all_spr_df_A['reg'] =='reg2') & (all_spr_df_A['omit'].isin(['none', 'omitIntMet']))]\n",
    "exMet_comp = all_spr_df_A.loc[(all_spr_df_A['reg'] =='reg2') & (all_spr_df_A['omit'].isin(['none', 'omitExMet']))]"
   ]
  },
  {
   "cell_type": "markdown",
   "metadata": {},
   "source": [
    "###  All-in-one scatter plots"
   ]
  },
  {
   "cell_type": "code",
   "execution_count": null,
   "metadata": {},
   "outputs": [],
   "source": [
    "util.plt_spr_scatter(all_spr_df_A.loc[(all_spr_df_A['reg'] =='noReg')], 'Spearman rank coefficients, noReg')"
   ]
  },
  {
   "cell_type": "code",
   "execution_count": null,
   "metadata": {},
   "outputs": [],
   "source": [
    "util.plt_spr_scatter(all_spr_df_A.loc[(all_spr_df_A['reg'] =='reg1')], 'Spearman rank coefficients, reg1')"
   ]
  },
  {
   "cell_type": "code",
   "execution_count": null,
   "metadata": {},
   "outputs": [],
   "source": [
    "util.plt_spr_scatter(all_spr_df_A.loc[(all_spr_df_A['reg'] =='reg2')], 'Spearman rank coefficients, reg2')"
   ]
  },
  {
   "cell_type": "markdown",
   "metadata": {},
   "source": []
  },
  {
   "cell_type": "markdown",
   "metadata": {},
   "source": [
    "## Comparing Spearman r coefficients pairwise to find significant differences\n",
    "My way of doing that would be to plot the confidence intervals around the\n",
    "coefficients and compare them. \n",
    "\n",
    "Another testing option would be looking at the absolute difference in the ranks \n",
    "between a prediction method and the truth. You would have a sample of absolute \n",
    "rank differences for each method, but they would not independent (so can't use \n",
    "Kruskal-Wallis test). The samples of differences would be dependent (\"paired\" \n",
    "across methods by the observation/value being ranked). A test that you could use\n",
    "is Friedman's test which is based on ranks (kind of like an extension of the \n",
    "Wilcoxon signed rank test for more than 2 \"paired\"/dependent samples). Post-hoc \n",
    "testing could be done using the Wilcoxon signed rank test and using Holm's or \n",
    "Bonferroni method to adjust the p-value for multiple testing."
   ]
  },
  {
   "cell_type": "code",
   "execution_count": null,
   "metadata": {},
   "outputs": [],
   "source": [
    "all_spr_df_A = all_spr_df_A[all_spr_df_A['perturbation'] != 1.01]"
   ]
  },
  {
   "cell_type": "code",
   "execution_count": null,
   "metadata": {},
   "outputs": [],
   "source": [
    "def plot_CI_comparisons(subplot, omitted_type, reg_level, CRISPRi=True, color='orange'):\n",
    "\n",
    "    if CRISPRi: \n",
    "        df1 = all_spr_df_A[(all_spr_df_A['reg']==reg_level) & (all_spr_df_A['omit']=='allData')][0:5]\n",
    "        df2 = all_spr_df_A[(all_spr_df_A['reg']==reg_level) & (all_spr_df_A['omit']==f'omit{omitted_type}')][0:5]\n",
    "\n",
    "        x1 = np.linspace(90,50,5)\n",
    "        x2 = np.linspace(90,50,5)\n",
    "\n",
    "    else:\n",
    "        df1 = all_spr_df_A[(all_spr_df_A['reg']==reg_level) & (all_spr_df_A['omit']=='allData')][5:10]\n",
    "        df2 = all_spr_df_A[(all_spr_df_A['reg']==reg_level) & (all_spr_df_A['omit']==f'omit{omitted_type}')][5:10]\n",
    "\n",
    "        x1 = df1['perturbation']\n",
    "        x2 = df2['perturbation']\n",
    "\n",
    "    ymin1 = (df1['r'] - df1['lower']).values\n",
    "    ymax1 = (df1['upper'] - df1['r']).values\n",
    "\n",
    "    ymin2 = (df2['r'] - df2['lower']).values\n",
    "    ymax2 = (df2['upper'] - df2['r']).values\n",
    "\n",
    "    subplot.scatter(x1, \n",
    "                abs(df1['r']), alpha=0.8, s=40, zorder=1000, label='all data', \n",
    "                color='red')\n",
    "    subplot.errorbar(x1, df1['r'], yerr=np.stack((ymin1, ymax1)), \n",
    "                 linestyle='None', color='red', zorder=100)\n",
    "\n",
    "    subplot.scatter(x2, \n",
    "                abs(df2['r']), alpha=0.8, s=100, zorder=50, \n",
    "                label=f'omit {omitted_type}', c=color)\n",
    "    subplot.errorbar(x2, df2['r'], yerr=np.stack((ymin2, ymax2)), \n",
    "                 elinewidth=6, linestyle='None', c=color, zorder=10,\n",
    "                 alpha=0.8)\n",
    "\n",
    "    subplot.grid(True, which='both', axis='both', zorder=0)\n",
    "    subplot.set_ylim([0,1])\n",
    "        "
   ]
  },
  {
   "cell_type": "code",
   "execution_count": null,
   "metadata": {},
   "outputs": [],
   "source": [
    "fig, ax = plt.subplots(4, 3, figsize=(12,8), sharex=True)\n",
    "plot_CI_comparisons(ax[0,0], \"Fluxes\", \"noReg\")\n",
    "plot_CI_comparisons(ax[0,1], \"Fluxes\", \"reg1\", color='green')\n",
    "plot_CI_comparisons(ax[0,2], \"Fluxes\", \"reg2\", color='blue')\n",
    "\n",
    "plot_CI_comparisons(ax[1,0], \"Enzymes\", \"noReg\")\n",
    "plot_CI_comparisons(ax[1,1], \"Enzymes\", \"reg1\", color='green')\n",
    "plot_CI_comparisons(ax[1,2], \"Enzymes\", \"reg2\", color='blue')\n",
    "\n",
    "plot_CI_comparisons(ax[2,0], \"IntMet\", \"noReg\")\n",
    "plot_CI_comparisons(ax[2,1], \"IntMet\", \"reg1\", color='green')\n",
    "plot_CI_comparisons(ax[2,2], \"IntMet\", \"reg2\", color='blue')\n",
    "\n",
    "plot_CI_comparisons(ax[3,0], \"ExMet\", \"noReg\")\n",
    "plot_CI_comparisons(ax[3,1], \"ExMet\", \"reg1\", color='green')\n",
    "plot_CI_comparisons(ax[3,2], \"ExMet\", \"reg2\", color='blue')\n",
    "\n",
    "fig.text(0.05, 0.9, 'omitted\\ndata')\n",
    "fig.text(0.22, 0.9, 'noReg')\n",
    "fig.text(0.5, 0.9, 'reg1')\n",
    "fig.text(0.77, 0.9, 'reg2')\n",
    "\n",
    "fig.text(0.07, 0.77, 'fluxes', rotation=90, rotation_mode='anchor')\n",
    "fig.text(0.07, 0.55, 'enzymes', rotation=90, rotation_mode='anchor')\n",
    "fig.text(0.07, 0.35, 'internal mets', rotation=90, rotation_mode='anchor')\n",
    "fig.text(0.07, 0.13, 'external mets', rotation=90, rotation_mode='anchor')\n",
    "\n",
    "# add a big axis, hide frame\n",
    "fig.add_subplot(111, frameon=False)\n",
    "# hide tick and tick label of the big axis\n",
    "plt.tick_params(labelcolor='none', which='both', top=False, bottom=False, left=False, right=False)\n",
    "plt.xlabel(\"% repression in enzyme concentration\")\n",
    "plt.ylabel(r\"spearman coefficient, $\\rho$\")\n",
    "\n",
    "fig.suptitle(\"Comparing CRISPRi datasets with omitted data at different regulations levels\", size=20)\n"
   ]
  },
  {
   "cell_type": "code",
   "execution_count": null,
   "metadata": {},
   "outputs": [],
   "source": [
    "fig, ax = plt.subplots(4, 3, figsize=(12,8), sharex=True)\n",
    "plot_CI_comparisons(ax[0,0], \"Fluxes\", \"noReg\", CRISPRi=False)\n",
    "plot_CI_comparisons(ax[0,1], \"Fluxes\", \"reg1\", CRISPRi=False, color='green')\n",
    "plot_CI_comparisons(ax[0,2], \"Fluxes\", \"reg2\", CRISPRi=False, color='blue')\n",
    "\n",
    "plot_CI_comparisons(ax[1,0], \"Enzymes\", \"noReg\", CRISPRi=False)\n",
    "plot_CI_comparisons(ax[1,1], \"Enzymes\", \"reg1\", CRISPRi=False, color='green')\n",
    "plot_CI_comparisons(ax[1,2], \"Enzymes\", \"reg2\", CRISPRi=False, color='blue')\n",
    "\n",
    "plot_CI_comparisons(ax[2,0], \"IntMet\", \"noReg\", CRISPRi=False)\n",
    "plot_CI_comparisons(ax[2,1], \"IntMet\", \"reg1\", CRISPRi=False, color='green')\n",
    "plot_CI_comparisons(ax[2,2], \"IntMet\", \"reg2\", CRISPRi=False, color='blue')\n",
    "\n",
    "plot_CI_comparisons(ax[3,0], \"ExMet\", \"noReg\", CRISPRi=False)\n",
    "plot_CI_comparisons(ax[3,1], \"ExMet\", \"reg1\", CRISPRi=False, color='green')\n",
    "plot_CI_comparisons(ax[3,2], \"ExMet\", \"reg2\", CRISPRi=False, color='blue')\n",
    "\n",
    "\n",
    "fig.text(0.05, 0.9, 'omitted\\ndata')\n",
    "fig.text(0.22, 0.9, 'noReg')\n",
    "fig.text(0.5, 0.9, 'reg1')\n",
    "fig.text(0.77, 0.9, 'reg2')\n",
    "\n",
    "fig.text(0.07, 0.77, 'fluxes', rotation=90, rotation_mode='anchor')\n",
    "fig.text(0.07, 0.55, 'enzymes', rotation=90, rotation_mode='anchor')\n",
    "fig.text(0.07, 0.35, 'internal mets', rotation=90, rotation_mode='anchor')\n",
    "fig.text(0.07, 0.13, 'external mets', rotation=90, rotation_mode='anchor')\n",
    "\n",
    "# add a big axis, hide frame\n",
    "fig.add_subplot(111, frameon=False)\n",
    "# hide tick and tick label of the big axis\n",
    "plt.tick_params(labelcolor='none', which='both', top=False, bottom=False, left=False, right=False)\n",
    "plt.xlabel(\"fold change in enzyme concentration\")\n",
    "plt.ylabel(r\"spearman coefficient, $\\rho$\")\n",
    "\n",
    "fig.suptitle(\"Comparing CRISPRa datasets with omitted data at different regulations levels\", size=20)\n"
   ]
  },
  {
   "cell_type": "markdown",
   "metadata": {},
   "source": [
    "### Comprehensive bar plots"
   ]
  },
  {
   "cell_type": "code",
   "execution_count": null,
   "metadata": {},
   "outputs": [],
   "source": [
    "noReg_df = all_spr_df_A[all_spr_df_A['reg'] == 'noReg']\n",
    "noReg_df['r'] = noReg_df['r'].round(3)\n",
    "noReg_df['ymin'] = noReg_df['r'] - noReg_df['lower']\n",
    "noReg_df['ymax'] = noReg_df['upper'] - noReg_df['r']\n",
    "\n",
    "A_reg1_df = all_spr_df_A[all_spr_df_A['reg'] == 'reg1']\n",
    "A_reg1_df['r'] = A_reg1_df['r'].round(3)\n",
    "A_reg1_df['ymin'] = A_reg1_df['r'] - A_reg1_df['lower']\n",
    "A_reg1_df['ymax'] = A_reg1_df['upper'] - A_reg1_df['r']\n",
    "\n",
    "A_reg2_df = all_spr_df_A[all_spr_df_A['reg'] == 'reg2']\n",
    "A_reg2_df['r'] = A_reg2_df['r'].round(3)\n",
    "A_reg2_df['ymin'] = A_reg2_df['r'] - A_reg2_df['lower']\n",
    "A_reg2_df['ymax'] = A_reg2_df['upper'] - A_reg2_df['r']"
   ]
  },
  {
   "cell_type": "code",
   "execution_count": null,
   "metadata": {},
   "outputs": [],
   "source": [
    "species = list(all_spr_df_A['perturbation'].unique()[0:5])[::-1]\n",
    "penguin_means = {\n",
    "    'allData': tuple((noReg_df[noReg_df['omit'] == 'allData']['r']).values[0:5])[::-1],\n",
    "    'omitFluxes': tuple((noReg_df[noReg_df['omit'] == 'omitFluxes']['r']).values[0:5])[::-1],\n",
    "    'omitEnzymes': tuple((noReg_df[noReg_df['omit'] == 'omitEnzymes']['r']).values[0:5])[::-1],\n",
    "    'omitIntMet': tuple((noReg_df[noReg_df['omit'] == 'omitIntMet']['r']).values[0:5])[::-1],\n",
    "    'omitExMet': tuple((noReg_df[noReg_df['omit'] == 'omitExMet']['r']).values[0:5])[::-1]\n",
    "}\n",
    "\n",
    "x = np.arange(len(species))  # the label locations\n",
    "width = 0.15  # the width of the bars\n",
    "multiplier = 0\n",
    "\n",
    "fig, ax = plt.subplots(figsize=(12,4), layout='constrained', )\n",
    "\n",
    "for attribute, measurement in penguin_means.items():\n",
    "    offset = width * multiplier\n",
    "\n",
    "    ymin = ((noReg_df[noReg_df['omit'] == attribute]['ymin']).values[0:5])[::-1]\n",
    "    ymax = ((noReg_df[noReg_df['omit'] == attribute]['ymax']).values[0:5])[::-1]\n",
    "\n",
    "    rects = ax.bar(x + offset, measurement, width, label=attribute, zorder=100)\n",
    "    ax.errorbar(x + offset, measurement, yerr=np.stack((ymin, ymax)), \n",
    "                 linestyle='None', color='k', linewidth=1.4, zorder=100)\n",
    "    multiplier += 1\n",
    "\n",
    "plt.legend(bbox_to_anchor=(1.02, 1), loc=\"upper left\")\n",
    "plt.grid(True, which='both', axis='both', zorder=0)\n",
    "plt.axhline(y=0, color='k', linewidth=3, zorder=500)\n",
    "plt.ylim((-0.7,1))\n",
    "ax.set_xticks(x + width, ['50','60','70','80','90'])\n",
    "\n",
    "# add a big axis, hide frame\n",
    "fig.add_subplot(111, frameon=False)\n",
    "# hide tick and tick label of the big axis\n",
    "plt.tick_params(labelcolor='none', which='both', top=False, bottom=False, left=False, right=False)\n",
    "plt.xlabel(\"% repression in enzyme concentration\", size=14)\n",
    "plt.ylabel(r\"spearman coefficient, $\\rho$\", size=14)\n",
    "\n",
    "fig.suptitle(\"Comparing CRISPRi datasets with omitted data at different regulations levels, A-noReg\", size=20)\n"
   ]
  },
  {
   "cell_type": "code",
   "execution_count": null,
   "metadata": {},
   "outputs": [],
   "source": [
    "species = all_spr_df_A['perturbation'].unique()[5:10]\n",
    "penguin_means = {\n",
    "    'allData': tuple((noReg_df[noReg_df['omit'] == 'allData']['r']).values[5:10]),\n",
    "    'omitFluxes': tuple((noReg_df[noReg_df['omit'] == 'omitFluxes']['r']).values[5:10]),\n",
    "    'omitEnzymes': tuple((noReg_df[noReg_df['omit'] == 'omitEnzymes']['r']).values[5:10]),\n",
    "    'omitIntMet': tuple((noReg_df[noReg_df['omit'] == 'omitIntMet']['r']).values[5:10]),\n",
    "    'omitExMet': tuple((noReg_df[noReg_df['omit'] == 'omitExMet']['r']).values[5:10])\n",
    "}\n",
    "\n",
    "x = np.arange(len(species))  # the label locations\n",
    "width = 0.15  # the width of the bars\n",
    "multiplier = 0\n",
    "\n",
    "fig, ax = plt.subplots(figsize=(12,4), layout='constrained', )\n",
    "\n",
    "for attribute, measurement in penguin_means.items():\n",
    "    offset = width * multiplier\n",
    "\n",
    "    ymin = ((noReg_df[noReg_df['omit'] == attribute]['ymin']).values[5:10])[::-1]\n",
    "    ymax = ((noReg_df[noReg_df['omit'] == attribute]['ymax']).values[5:10])[::-1]\n",
    "\n",
    "    rects = ax.bar(x + offset, measurement, width, label=attribute, zorder=100)\n",
    "    ax.errorbar(x + offset, measurement, yerr=np.stack((ymin, ymax)), \n",
    "                 linestyle='None', color='k', zorder=100)\n",
    "    multiplier += 1\n",
    "\n",
    "# Add some text for labels, title and custom x-axis tick labels, etc.\n",
    "ax.set_xticks(x + width, species)\n",
    "plt.legend(bbox_to_anchor=(1.02, 1), loc=\"upper left\")\n",
    "plt.grid(True, which='both', axis='both', zorder=0)\n",
    "plt.axhline(y=0, color='k', linewidth=3, zorder=500)\n",
    "plt.ylim((-0.7,1))\n",
    "\n",
    "# add a big axis, hide frame\n",
    "fig.add_subplot(111, frameon=False)\n",
    "# hide tick and tick label of the big axis\n",
    "plt.tick_params(labelcolor='none', which='both', top=False, bottom=False, left=False, right=False)\n",
    "plt.xlabel(\"fold change in enzyme concentration\", size=14)\n",
    "plt.ylabel(r\"spearman coefficient, $\\rho$\", size=14)\n",
    "fig.suptitle(\"Comparing CRISPRa datasets with omitted data at different regulations levels, A-noReg\", size=20)\n"
   ]
  },
  {
   "cell_type": "code",
   "execution_count": null,
   "metadata": {},
   "outputs": [],
   "source": [
    "species = list(A_reg1_df['perturbation'].unique()[0:5])[::-1]\n",
    "penguin_means = {\n",
    "    'allData': tuple((A_reg1_df[A_reg1_df['omit'] == 'allData']['r']).values[0:5])[::-1],\n",
    "    'omitFluxes': tuple((A_reg1_df[A_reg1_df['omit'] == 'omitFluxes']['r']).values[0:5])[::-1],\n",
    "    'omitEnzymes': tuple((A_reg1_df[A_reg1_df['omit'] == 'omitEnzymes']['r']).values[0:5])[::-1],\n",
    "    'omitIntMet': tuple((A_reg1_df[A_reg1_df['omit'] == 'omitIntMet']['r']).values[0:5])[::-1],\n",
    "    'omitExMet': tuple((A_reg1_df[A_reg1_df['omit'] == 'omitExMet']['r']).values[0:5])[::-1]\n",
    "}\n",
    "\n",
    "x = np.arange(len(species))  # the label locations\n",
    "width = 0.15  # the width of the bars\n",
    "multiplier = 0\n",
    "\n",
    "fig, ax = plt.subplots(figsize=(12,4), layout='constrained', )\n",
    "\n",
    "for attribute, measurement in penguin_means.items():\n",
    "    offset = width * multiplier\n",
    "\n",
    "    ymin = ((A_reg1_df[A_reg1_df['omit'] == attribute]['ymin']).values[0:5])[::-1]\n",
    "    ymax = ((A_reg1_df[A_reg1_df['omit'] == attribute]['ymax']).values[0:5])[::-1]\n",
    "\n",
    "    rects = ax.bar(x + offset, measurement, width, label=attribute, zorder=100)\n",
    "    ax.errorbar(x + offset, measurement, yerr=np.stack((ymin, ymax)), \n",
    "                 linestyle='None', color='k', linewidth=1.4, zorder=100)\n",
    "    multiplier += 1\n",
    "\n",
    "plt.legend(bbox_to_anchor=(1.02, 1), loc=\"upper left\")\n",
    "plt.grid(True, which='both', axis='both', zorder=0)\n",
    "plt.axhline(y=0, color='k', linewidth=3, zorder=500)\n",
    "plt.ylim((-0.7,1))\n",
    "ax.set_xticks(x + width, ['50','60','70','80','90'])\n",
    "\n",
    "# add a big axis, hide frame\n",
    "fig.add_subplot(111, frameon=False)\n",
    "# hide tick and tick label of the big axis\n",
    "plt.tick_params(labelcolor='none', which='both', top=False, bottom=False, left=False, right=False)\n",
    "plt.xlabel(\"% repression in enzyme concentration\", size=14)\n",
    "plt.ylabel(r\"spearman coefficient, $\\rho$\", size=14)\n",
    "\n",
    "fig.suptitle(\"Comparing CRISPRi datasets with omitted data at different regulations levels, A-reg1\", size=20)"
   ]
  },
  {
   "cell_type": "code",
   "execution_count": null,
   "metadata": {},
   "outputs": [],
   "source": [
    "species = all_spr_df_A['perturbation'].unique()[5:10]\n",
    "penguin_means = {\n",
    "    'allData': tuple((A_reg1_df[A_reg1_df['omit'] == 'allData']['r']).values[5:10]),\n",
    "    'omitFluxes': tuple((A_reg1_df[A_reg1_df['omit'] == 'omitFluxes']['r']).values[5:10]),\n",
    "    'omitEnzymes': tuple((A_reg1_df[A_reg1_df['omit'] == 'omitEnzymes']['r']).values[5:10]),\n",
    "    'omitIntMet': tuple((A_reg1_df[A_reg1_df['omit'] == 'omitIntMet']['r']).values[5:10]),\n",
    "    'omitExMet': tuple((A_reg1_df[A_reg1_df['omit'] == 'omitExMet']['r']).values[5:10])\n",
    "}\n",
    "\n",
    "x = np.arange(len(species))  # the label locations\n",
    "width = 0.15  # the width of the bars\n",
    "multiplier = 0\n",
    "\n",
    "fig, ax = plt.subplots(figsize=(12,4), layout='constrained', )\n",
    "\n",
    "for attribute, measurement in penguin_means.items():\n",
    "    offset = width * multiplier\n",
    "\n",
    "    ymin = ((A_reg1_df[A_reg1_df['omit'] == attribute]['ymin']).values[5:10])[::-1]\n",
    "    ymax = ((A_reg1_df[A_reg1_df['omit'] == attribute]['ymax']).values[5:10])[::-1]\n",
    "\n",
    "    rects = ax.bar(x + offset, measurement, width, label=attribute, zorder=100)\n",
    "    ax.errorbar(x + offset, measurement, yerr=np.stack((ymin, ymax)), \n",
    "                 linestyle='None', color='k', zorder=100)\n",
    "    multiplier += 1\n",
    "\n",
    "# Add some text for labels, title and custom x-axis tick labels, etc.\n",
    "ax.set_xticks(x + width, species)\n",
    "plt.legend(bbox_to_anchor=(1.02, 1), loc=\"upper left\")\n",
    "plt.grid(True, which='both', axis='both', zorder=0)\n",
    "plt.axhline(y=0, color='k', linewidth=3, zorder=500)\n",
    "plt.ylim((-0.7,1))\n",
    "\n",
    "# add a big axis, hide frame\n",
    "fig.add_subplot(111, frameon=False)\n",
    "# hide tick and tick label of the big axis\n",
    "plt.tick_params(labelcolor='none', which='both', top=False, bottom=False, left=False, right=False)\n",
    "plt.xlabel(\"fold change in enzyme concentration\", size=14)\n",
    "plt.ylabel(r\"spearman coefficient, $\\rho$\", size=14)\n",
    "fig.suptitle(\"Comparing CRISPRa datasets with omitted data at different regulations levels, A-reg1\", size=20)\n"
   ]
  },
  {
   "cell_type": "code",
   "execution_count": null,
   "metadata": {},
   "outputs": [],
   "source": [
    "species = list(all_spr_df_A['perturbation'].unique()[0:5])[::-1]\n",
    "penguin_means = {\n",
    "    'allData': tuple((A_reg2_df[A_reg2_df['omit'] == 'allData']['r']).values[0:5])[::-1],\n",
    "    'omitFluxes': tuple((A_reg2_df[A_reg2_df['omit'] == 'omitFluxes']['r']).values[0:5])[::-1],\n",
    "    'omitEnzymes': tuple((A_reg2_df[A_reg2_df['omit'] == 'omitEnzymes']['r']).values[0:5])[::-1],\n",
    "    'omitIntMet': tuple((A_reg2_df[A_reg2_df['omit'] == 'omitIntMet']['r']).values[0:5])[::-1],\n",
    "    'omitExMet': tuple((A_reg2_df[A_reg2_df['omit'] == 'omitExMet']['r']).values[0:5])[::-1]\n",
    "}\n",
    "\n",
    "ymin = (A_reg2_df['r'] - A_reg2_df['lower']).values[0:5]\n",
    "ymax = (A_reg2_df['upper'] - A_reg2_df['r']).values[0:5]\n",
    "\n",
    "x = np.arange(len(species))  # the label locations\n",
    "width = 0.15  # the width of the bars\n",
    "multiplier = 0\n",
    "\n",
    "fig, ax = plt.subplots(figsize=(12,4), layout='constrained', )\n",
    "\n",
    "for attribute, measurement in penguin_means.items():\n",
    "    offset = width * multiplier\n",
    "\n",
    "    ymin = ((A_reg2_df[A_reg2_df['omit'] == attribute]['ymin']).values[0:5])[::-1]\n",
    "    ymax = ((A_reg2_df[A_reg2_df['omit'] == attribute]['ymax']).values[0:5])[::-1]\n",
    "\n",
    "    rects = ax.bar(x + offset, measurement, width, label=attribute, zorder=100)\n",
    "    ax.errorbar(x + offset, measurement, yerr=np.stack((ymin, ymax)), \n",
    "                 linestyle='None', color='k', linewidth=1.4, zorder=100)\n",
    "    multiplier += 1\n",
    "\n",
    "plt.legend(bbox_to_anchor=(1.02, 1), loc=\"upper left\")\n",
    "plt.grid(True, which='both', axis='both', zorder=0)\n",
    "plt.axhline(y=0, color='k', linewidth=3, zorder=500)\n",
    "plt.ylim((-0.7,1))\n",
    "ax.set_xticks(x + width, ['50','60','70','80','90'])\n",
    "\n",
    "# add a big axis, hide frame\n",
    "fig.add_subplot(111, frameon=False)\n",
    "# hide tick and tick label of the big axis\n",
    "plt.tick_params(labelcolor='none', which='both', top=False, bottom=False, left=False, right=False)\n",
    "plt.xlabel(\"% repression in enzyme concentration\", size=14)\n",
    "plt.ylabel(r\"spearman coefficient, $\\rho$\", size=14)\n",
    "\n",
    "fig.suptitle(\"Comparing CRISPRi datasets with omitted data at different regulations levels, A-reg2\", size=20)"
   ]
  },
  {
   "cell_type": "code",
   "execution_count": null,
   "metadata": {},
   "outputs": [],
   "source": [
    "species = all_spr_df_A['perturbation'].unique()[5:10]\n",
    "penguin_means = {\n",
    "    'allData': tuple((A_reg2_df[A_reg2_df['omit'] == 'allData']['r']).values[5:10]),\n",
    "    'omitFluxes': tuple((A_reg2_df[A_reg2_df['omit'] == 'omitFluxes']['r']).values[5:10]),\n",
    "    'omitEnzymes': tuple((A_reg2_df[A_reg2_df['omit'] == 'omitEnzymes']['r']).values[5:10]),\n",
    "    'omitIntMet': tuple((A_reg2_df[A_reg2_df['omit'] == 'omitIntMet']['r']).values[5:10]),\n",
    "    'omitExMet': tuple((A_reg2_df[A_reg2_df['omit'] == 'omitExMet']['r']).values[5:10])\n",
    "}\n",
    "\n",
    "x = np.arange(len(species))  # the label locations\n",
    "width = 0.15  # the width of the bars\n",
    "multiplier = 0\n",
    "\n",
    "fig, ax = plt.subplots(figsize=(12,4), layout='constrained', )\n",
    "\n",
    "for attribute, measurement in penguin_means.items():\n",
    "    offset = width * multiplier\n",
    "\n",
    "    ymin = ((A_reg2_df[A_reg2_df['omit'] == attribute]['ymin']).values[5:10])[::-1]\n",
    "    ymax = ((A_reg2_df[A_reg2_df['omit'] == attribute]['ymax']).values[5:10])[::-1]\n",
    "\n",
    "    rects = ax.bar(x + offset, measurement, width, label=attribute, zorder=100)\n",
    "    ax.errorbar(x + offset, measurement, yerr=np.stack((ymin, ymax)), \n",
    "                 linestyle='None', color='k', zorder=100)\n",
    "    multiplier += 1\n",
    "\n",
    "# Add some text for labels, title and custom x-axis tick labels, etc.\n",
    "ax.set_xticks(x + width, species)\n",
    "plt.legend(bbox_to_anchor=(1.02, 1), loc=\"upper left\")\n",
    "plt.grid(True, which='both', axis='both', zorder=0)\n",
    "plt.axhline(y=0, color='k', linewidth=3, zorder=500)\n",
    "plt.ylim((-0.7,1))\n",
    "\n",
    "# add a big axis, hide frame\n",
    "fig.add_subplot(111, frameon=False)\n",
    "# hide tick and tick label of the big axis\n",
    "plt.tick_params(labelcolor='none', which='both', top=False, bottom=False, left=False, right=False)\n",
    "plt.xlabel(\"fold change in enzyme concentration\", size=14)\n",
    "plt.ylabel(r\"spearman coefficient, $\\rho$\", size=14)\n",
    "fig.suptitle(\"Comparing CRISPRa datasets with omitted data at different regulations levels, A-reg2\", size=20)\n"
   ]
  },
  {
   "cell_type": "markdown",
   "metadata": {},
   "source": [
    "## Visualizing MAE across the different types of data"
   ]
  },
  {
   "cell_type": "code",
   "execution_count": null,
   "metadata": {},
   "outputs": [],
   "source": [
    "os.chdir('../data/results/MAE/')\n",
    "MAE_file_list = [i for i in os.listdir() if \"topologyA\" in i]\n",
    "\n",
    "MAE_dfs = []\n",
    "for file in MAE_file_list:\n",
    "    a = pd.read_csv(file)\n",
    "\n",
    "    reg = file.split('_')[0].split('-')[1]\n",
    "    omit = file.split('_')[1]\n",
    "\n",
    "    a['reg'] = [reg]*len(a)\n",
    "    a['omit'] = [omit]*len(a)\n",
    "    MAE_dfs.append(a)\n",
    "\n",
    "all_MAE_df_A = pd.concat(MAE_dfs)\n",
    "all_MAE_df_A\n",
    "\n",
    "os.chdir('../../../notebooks/')\n"
   ]
  },
  {
   "cell_type": "code",
   "execution_count": null,
   "metadata": {},
   "outputs": [],
   "source": [
    "all_MAE_df_A.columns = ['perturbation', 'values', 'reg', 'omit']\n",
    "all_MAE_df_A['values'] = all_MAE_df_A['values']/176\n",
    "all_MAE_df_A"
   ]
  },
  {
   "cell_type": "code",
   "execution_count": null,
   "metadata": {},
   "outputs": [],
   "source": [
    "a = all_MAE_df_A.pivot(index=['omit', 'reg'], columns='perturbation', values='values')\n",
    "\n",
    "all_MAE_df_A = all_MAE_df_A[all_MAE_df_A['perturbation'] != 1.01]\n",
    "all_MAE_df_A = all_MAE_df_A[all_MAE_df_A['perturbation'] != 'knockout']\n"
   ]
  },
  {
   "cell_type": "code",
   "execution_count": null,
   "metadata": {},
   "outputs": [],
   "source": [
    "noReg_df = all_MAE_df_A[all_MAE_df_A['reg'] == 'noReg']\n",
    "noReg_df['r'] = noReg_df['values'].round(3)\n",
    "noReg_df.head()\n",
    "\n",
    "species = list(all_MAE_df_A['perturbation'].unique()[0:5])[::-1]\n",
    "MAE_means = {\n",
    "    'allData': tuple((noReg_df[noReg_df['omit'] == 'allData']['values']).values[1:6])[::-1],\n",
    "    'omitFluxes': tuple((noReg_df[noReg_df['omit'] == 'omitFluxes']['values']).values[1:6])[::-1],\n",
    "    'omitEnzymes': tuple((noReg_df[noReg_df['omit'] == 'omitEnzymes']['values']).values[1:6])[::-1],\n",
    "    'omitIntMet': tuple((noReg_df[noReg_df['omit'] == 'omitIntMet']['values']).values[1:6])[::-1],\n",
    "    'omitExMet': tuple((noReg_df[noReg_df['omit'] == 'omitExMet']['values']).values[1:6])[::-1]\n",
    "}\n",
    "\n",
    "x = np.arange(len(species))  # the label locations\n",
    "width = 0.15  # the width of the bars\n",
    "multiplier = 0\n",
    "\n",
    "fig, ax = plt.subplots(figsize=(12,4), layout='constrained', )\n",
    "\n",
    "for attribute, measurement in MAE_means.items():\n",
    "    offset = width * multiplier\n",
    "    rects = ax.bar(x + offset, measurement, width, label=attribute, zorder=100)\n",
    "    multiplier += 1\n",
    "\n",
    "plt.legend(bbox_to_anchor=(1.02, 1), loc=\"upper left\")\n",
    "plt.grid(True, which='both', axis='both', zorder=0)\n",
    "plt.axhline(y=0, color='k', linewidth=3, zorder=500)\n",
    "plt.ylim((0,.16))\n",
    "ax.set_xticks(x + width, ['50','60','70','80','90'])\n",
    "\n",
    "\n",
    "# add a big axis, hide frame\n",
    "fig.add_subplot(111, frameon=False)\n",
    "# hide tick and tick label of the big axis\n",
    "plt.tick_params(labelcolor='none', which='both', top=False, bottom=False, left=False, right=False)\n",
    "plt.xlabel(\"% repression in enzyme concentration\", size=14)\n",
    "plt.ylabel(\"MAE\\n\", size=14)\n",
    "\n",
    "fig.suptitle(\"MAE for predicted elasticities at different perturbation strengths, A-noReg\", size=20)\n"
   ]
  },
  {
   "cell_type": "code",
   "execution_count": null,
   "metadata": {},
   "outputs": [],
   "source": [
    "species = list(all_MAE_df_A['perturbation'].unique()[6:])\n",
    "MAE_means = {\n",
    "    'allData': tuple((noReg_df[noReg_df['omit'] == 'allData']['values']).values[6:]),\n",
    "    'omitFluxes': tuple((noReg_df[noReg_df['omit'] == 'omitFluxes']['values']).values[6:]),\n",
    "    'omitEnzymes': tuple((noReg_df[noReg_df['omit'] == 'omitEnzymes']['values']).values[6:]),\n",
    "    'omitIntMet': tuple((noReg_df[noReg_df['omit'] == 'omitIntMet']['values']).values[6:]),\n",
    "    'omitExMet': tuple((noReg_df[noReg_df['omit'] == 'omitExMet']['values']).values[6:])\n",
    "}\n",
    "\n",
    "x = np.arange(len(species))  # the label locations\n",
    "width = 0.15  # the width of the bars\n",
    "multiplier = 0\n",
    "\n",
    "fig, ax = plt.subplots(figsize=(12,4), layout='constrained', )\n",
    "\n",
    "for attribute, measurement in MAE_means.items():\n",
    "    offset = width * multiplier\n",
    "    rects = ax.bar(x + offset, measurement, width, label=attribute, zorder=100)\n",
    "    multiplier += 1\n",
    "\n",
    "plt.legend(bbox_to_anchor=(1.02, 1), loc=\"upper left\")\n",
    "plt.grid(True, which='both', axis='both', zorder=0)\n",
    "plt.axhline(y=0, color='k', linewidth=3, zorder=500)\n",
    "ax.set_xticks(x + width, ['1.5','3','5','7','10'])\n",
    "\n",
    "# add a big axis, hide frame\n",
    "fig.add_subplot(111, frameon=False)\n",
    "# hide tick and tick label of the big axis\n",
    "plt.tick_params(labelcolor='none', which='both', top=False, bottom=False, left=False, right=False)\n",
    "plt.xlabel(\"fold change perturbations in enzyme concentration\", size=14)\n",
    "plt.ylabel(\"MAE\\n\", size=14)\n",
    "\n",
    "fig.suptitle(\"CRISPRa MAE for predicted elasticities at different perturbation strengths, A-noReg\", size=20)\n"
   ]
  },
  {
   "cell_type": "code",
   "execution_count": null,
   "metadata": {},
   "outputs": [],
   "source": [
    "reg1_df = all_MAE_df_A[all_MAE_df_A['reg'] == 'reg1']\n",
    "reg1_df['r'] = reg1_df['values'].round(3)\n",
    "reg1_df.head()\n",
    "\n",
    "species = list(all_MAE_df_A['perturbation'].unique()[0:5])[::-1]\n",
    "MAE_means = {\n",
    "    'allData': tuple((reg1_df[reg1_df['omit'] == 'allData']['values']).values[1:6])[::-1],\n",
    "    'omitFluxes': tuple((reg1_df[reg1_df['omit'] == 'omitFluxes']['values']).values[1:6])[::-1],\n",
    "    'omitEnzymes': tuple((reg1_df[reg1_df['omit'] == 'omitEnzymes']['values']).values[1:6])[::-1],\n",
    "    'omitIntMet': tuple((reg1_df[reg1_df['omit'] == 'omitIntMet']['values']).values[1:6])[::-1],\n",
    "    'omitExMet': tuple((reg1_df[reg1_df['omit'] == 'omitExMet']['values']).values[1:6])[::-1]\n",
    "}\n",
    "\n",
    "x = np.arange(len(species))  # the label locations\n",
    "width = 0.15  # the width of the bars\n",
    "multiplier = 0\n",
    "\n",
    "fig, ax = plt.subplots(figsize=(12,4), layout='constrained', )\n",
    "\n",
    "for attribute, measurement in MAE_means.items():\n",
    "    offset = width * multiplier\n",
    "    rects = ax.bar(x + offset, measurement, width, label=attribute, zorder=100)\n",
    "    multiplier += 1\n",
    "\n",
    "plt.legend(bbox_to_anchor=(1.02, 1), loc=\"upper left\")\n",
    "plt.grid(True, which='both', axis='both', zorder=0)\n",
    "plt.axhline(y=0, color='k', linewidth=3, zorder=500)\n",
    "plt.ylim((0,.16))\n",
    "ax.set_xticks(x + width, ['50','60','70','80','90'])\n",
    "\n",
    "\n",
    "# add a big axis, hide frame\n",
    "fig.add_subplot(111, frameon=False)\n",
    "# hide tick and tick label of the big axis\n",
    "plt.tick_params(labelcolor='none', which='both', top=False, bottom=False, left=False, right=False)\n",
    "plt.xlabel(\"% repression in enzyme concentration\", size=14)\n",
    "plt.ylabel(\"MAE\\n\", size=14)\n",
    "\n",
    "fig.suptitle(\"MAE for predicted elasticities at different perturbation strengths, A-reg1\", size=20)\n"
   ]
  },
  {
   "cell_type": "code",
   "execution_count": null,
   "metadata": {},
   "outputs": [],
   "source": [
    "species = list(all_MAE_df_A['perturbation'].unique()[6:])\n",
    "MAE_means = {\n",
    "    'allData': tuple((reg1_df[reg1_df['omit'] == 'allData']['values']).values[6:]),\n",
    "    'omitFluxes': tuple((reg1_df[reg1_df['omit'] == 'omitFluxes']['values']).values[6:]),\n",
    "    'omitEnzymes': tuple((reg1_df[reg1_df['omit'] == 'omitEnzymes']['values']).values[6:]),\n",
    "    'omitIntMet': tuple((reg1_df[reg1_df['omit'] == 'omitIntMet']['values']).values[6:]),\n",
    "    'omitExMet': tuple((reg1_df[reg1_df['omit'] == 'omitExMet']['values']).values[6:])\n",
    "}\n",
    "\n",
    "x = np.arange(len(species))  # the label locations\n",
    "width = 0.15  # the width of the bars\n",
    "multiplier = 0\n",
    "\n",
    "fig, ax = plt.subplots(figsize=(12,4), layout='constrained', )\n",
    "\n",
    "for attribute, measurement in MAE_means.items():\n",
    "    offset = width * multiplier\n",
    "    rects = ax.bar(x + offset, measurement, width, label=attribute, zorder=100)\n",
    "    multiplier += 1\n",
    "\n",
    "plt.legend(bbox_to_anchor=(1.02, 1), loc=\"upper left\")\n",
    "plt.grid(True, which='both', axis='both', zorder=0)\n",
    "plt.axhline(y=0, color='k', linewidth=3, zorder=500)\n",
    "ax.set_xticks(x + width, ['1.5','3','5','7','10'])\n",
    "\n",
    "# add a big axis, hide frame\n",
    "fig.add_subplot(111, frameon=False)\n",
    "# hide tick and tick label of the big axis\n",
    "plt.tick_params(labelcolor='none', which='both', top=False, bottom=False, left=False, right=False)\n",
    "plt.xlabel(\"fold change perturbations in enzyme concentration\", size=14)\n",
    "plt.ylabel(\"MAE\\n\", size=14)\n",
    "\n",
    "fig.suptitle(\"CRISPRa MAE for predicted elasticities at different perturbation strengths, A-reg1\", size=20)\n"
   ]
  },
  {
   "cell_type": "code",
   "execution_count": null,
   "metadata": {},
   "outputs": [],
   "source": [
    "reg2_df = all_MAE_df_A[all_MAE_df_A['reg'] == 'reg2']\n",
    "reg2_df['r'] = reg2_df['values'].round(3)\n",
    "reg2_df.head()\n",
    "\n",
    "species = list(all_MAE_df_A['perturbation'].unique()[0:5])[::-1]\n",
    "MAE_means = {\n",
    "    'allData': tuple((reg2_df[reg2_df['omit'] == 'allData']['values']).values[1:6])[::-1],\n",
    "    'omitFluxes': tuple((reg2_df[reg2_df['omit'] == 'omitFluxes']['values']).values[1:6])[::-1],\n",
    "    'omitEnzymes': tuple((reg2_df[reg2_df['omit'] == 'omitEnzymes']['values']).values[1:6])[::-1],\n",
    "    'omitIntMet': tuple((reg2_df[reg2_df['omit'] == 'omitIntMet']['values']).values[1:6])[::-1],\n",
    "    'omitExMet': tuple((reg2_df[reg2_df['omit'] == 'omitExMet']['values']).values[1:6])[::-1]\n",
    "}\n",
    "\n",
    "x = np.arange(len(species))  # the label locations\n",
    "width = 0.15  # the width of the bars\n",
    "multiplier = 0\n",
    "\n",
    "fig, ax = plt.subplots(figsize=(12,4), layout='constrained', )\n",
    "\n",
    "for attribute, measurement in MAE_means.items():\n",
    "    offset = width * multiplier\n",
    "    rects = ax.bar(x + offset, measurement, width, label=attribute, zorder=100)\n",
    "    multiplier += 1\n",
    "\n",
    "plt.legend(bbox_to_anchor=(1.02, 1), loc=\"upper left\")\n",
    "plt.grid(True, which='both', axis='both', zorder=0)\n",
    "plt.axhline(y=0, color='k', linewidth=3, zorder=500)\n",
    "plt.ylim((0,.16))\n",
    "ax.set_xticks(x + width, ['50','60','70','80','90'])\n",
    "\n",
    "\n",
    "# add a big axis, hide frame\n",
    "fig.add_subplot(111, frameon=False)\n",
    "# hide tick and tick label of the big axis\n",
    "plt.tick_params(labelcolor='none', which='both', top=False, bottom=False, left=False, right=False)\n",
    "plt.xlabel(\"% repression in enzyme concentration\", size=14)\n",
    "plt.ylabel(\"MAE\\n\", size=14)\n",
    "\n",
    "fig.suptitle(\"MAE for predicted elasticities at different perturbation strengths, A-reg2\", size=20)\n"
   ]
  },
  {
   "cell_type": "code",
   "execution_count": null,
   "metadata": {},
   "outputs": [],
   "source": [
    "species = list(all_MAE_df_A['perturbation'].unique()[6:])\n",
    "MAE_means = {\n",
    "    'allData': tuple((reg2_df[reg2_df['omit'] == 'allData']['values']).values[6:]),\n",
    "    'omitFluxes': tuple((reg2_df[reg2_df['omit'] == 'omitFluxes']['values']).values[6:]),\n",
    "    'omitEnzymes': tuple((reg2_df[reg2_df['omit'] == 'omitEnzymes']['values']).values[6:]),\n",
    "    'omitIntMet': tuple((reg2_df[reg2_df['omit'] == 'omitIntMet']['values']).values[6:]),\n",
    "    'omitExMet': tuple((reg2_df[reg2_df['omit'] == 'omitExMet']['values']).values[6:])\n",
    "}\n",
    "\n",
    "x = np.arange(len(species))  # the label locations\n",
    "width = 0.15  # the width of the bars\n",
    "multiplier = 0\n",
    "\n",
    "fig, ax = plt.subplots(figsize=(12,4), layout='constrained', )\n",
    "\n",
    "for attribute, measurement in MAE_means.items():\n",
    "    offset = width * multiplier\n",
    "    rects = ax.bar(x + offset, measurement, width, label=attribute, zorder=100)\n",
    "    multiplier += 1\n",
    "\n",
    "plt.legend(bbox_to_anchor=(1.02, 1), loc=\"upper left\")\n",
    "plt.grid(True, which='both', axis='both', zorder=0)\n",
    "plt.axhline(y=0, color='k', linewidth=3, zorder=500)\n",
    "ax.set_xticks(x + width, ['1.5','3','5','7','10'])\n",
    "\n",
    "# add a big axis, hide frame\n",
    "fig.add_subplot(111, frameon=False)\n",
    "# hide tick and tick label of the big axis\n",
    "plt.tick_params(labelcolor='none', which='both', top=False, bottom=False, left=False, right=False)\n",
    "plt.xlabel(\"fold change perturbations in enzyme concentration\", size=14)\n",
    "plt.ylabel(\"MAE\\n\", size=14)\n",
    "\n",
    "fig.suptitle(\"CRISPRa MAE for predicted elasticities at different perturbation strengths, A-reg2\", size=20)\n"
   ]
  },
  {
   "cell_type": "code",
   "execution_count": null,
   "metadata": {},
   "outputs": [],
   "source": []
  },
  {
   "cell_type": "code",
   "execution_count": null,
   "metadata": {},
   "outputs": [],
   "source": []
  },
  {
   "cell_type": "markdown",
   "metadata": {},
   "source": [
    "## Make tables of ranking correctness"
   ]
  },
  {
   "cell_type": "code",
   "execution_count": null,
   "metadata": {},
   "outputs": [],
   "source": [
    "os.chdir('../data/results/rankings/')"
   ]
  },
  {
   "cell_type": "code",
   "execution_count": null,
   "metadata": {},
   "outputs": [],
   "source": [
    "rank_file_list = [i for i in os.listdir() if \"topologyA\" in i]\n",
    "\n",
    "rank_dfs = []\n",
    "for file in rank_file_list:\n",
    "    a = pd.read_csv(file)\n",
    "\n",
    "    reg = file.split('_')[0].split('-')[1]\n",
    "    omit = file.split('_')[1]\n",
    "\n",
    "    a['reg'] = [reg]*len(a)\n",
    "    a['omit'] = [omit]*len(a)\n",
    "    rank_dfs.append(a)\n",
    "\n",
    "all_rank_df_A = pd.concat(rank_dfs)# .drop('1.01x', axis=1)\n",
    "all_rank_df_A"
   ]
  },
  {
   "cell_type": "code",
   "execution_count": null,
   "metadata": {},
   "outputs": [],
   "source": [
    "os.chdir('../../../notebooks/')"
   ]
  },
  {
   "cell_type": "markdown",
   "metadata": {},
   "source": [
    "#### Counts of top three ranked FCCs"
   ]
  },
  {
   "cell_type": "code",
   "execution_count": null,
   "metadata": {},
   "outputs": [],
   "source": [
    "pt_labels = ['0.1x', '0.2x', '0.3x', '0.4x', '0.5x', '1.5x', '3x', '5x', '7x', '10x']"
   ]
  },
  {
   "cell_type": "code",
   "execution_count": null,
   "metadata": {},
   "outputs": [],
   "source": [
    "topThree_df = all_rank_df_A[all_rank_df_A['vYAN'].isin([1, 2, 3])]\n",
    "\n",
    "gt_ranks = all_rank_df_A['gt'].head(15)\n",
    "\n",
    "rank_noReg = topThree_df[topThree_df['reg']=='noReg']#.drop('gt', axis=1)\n",
    "rank_reg1 = topThree_df[topThree_df['reg']=='reg1']#.drop('gt', axis=1)\n",
    "rank_reg2 = topThree_df[topThree_df['reg']=='reg2']#.drop('gt', axis=1)"
   ]
  },
  {
   "cell_type": "code",
   "execution_count": null,
   "metadata": {},
   "outputs": [],
   "source": [
    "gt_t3 = rank_noReg.groupby('omit')['gt'].apply(list).reset_index()\n",
    "gt_t3_sets = np.where(gt_t3['gt']=='','', gt_t3['gt'].map(set))\n",
    "gt_t3_sets\n",
    "\n",
    "t3_sets = []\n",
    "for pt in pt_labels: \n",
    "    t3 = rank_noReg.groupby('omit')[pt].apply(list).reset_index()\n",
    "    t3_sets.append(np.where(t3[pt]=='','', t3[pt].map(set)))\n",
    "\n",
    "scores=[]\n",
    "for i in t3_sets: \n",
    "    for ii, gt_t3 in enumerate(gt_t3_sets): \n",
    "        scores.append(len(set.intersection(gt_t3, i[ii])))\n",
    "\n",
    "t3_results = pd.DataFrame((np.array(scores)).reshape((len(pt_labels),-1)).T, \n",
    "             index=all_rank_df_A['omit'].unique(), columns=pt_labels)\n",
    "t3_results"
   ]
  },
  {
   "cell_type": "code",
   "execution_count": null,
   "metadata": {},
   "outputs": [],
   "source": [
    "gt_t3 = rank_reg1.groupby('omit')['gt'].apply(list).reset_index()\n",
    "gt_t3_sets = np.where(gt_t3['gt']=='','', gt_t3['gt'].map(set))\n",
    "gt_t3_sets\n",
    "\n",
    "t3_sets = []\n",
    "for pt in pt_labels: \n",
    "    t3 = rank_reg1.groupby('omit')[pt].apply(list).reset_index()\n",
    "    t3_sets.append(np.where(t3[pt]=='','', t3[pt].map(set)))\n",
    "\n",
    "scores=[]\n",
    "for i in t3_sets: \n",
    "    for ii, gt_t3 in enumerate(gt_t3_sets): \n",
    "        scores.append(len(set.intersection(gt_t3, i[ii])))\n",
    "\n",
    "t3_results = pd.DataFrame((np.array(scores)).reshape((len(pt_labels),-1)).T, \n",
    "             index=all_rank_df_A['omit'].unique(), columns=pt_labels)\n",
    "t3_results"
   ]
  },
  {
   "cell_type": "code",
   "execution_count": null,
   "metadata": {},
   "outputs": [],
   "source": [
    "gt_t3 = rank_reg2.groupby('omit')['gt'].apply(list).reset_index()\n",
    "gt_t3_sets = np.where(gt_t3['gt']=='','', gt_t3['gt'].map(set))\n",
    "gt_t3_sets\n",
    "\n",
    "t3_sets = []\n",
    "for pt in pt_labels: \n",
    "    t3 = rank_reg2.groupby('omit')[pt].apply(list).reset_index()\n",
    "    t3_sets.append(np.where(t3[pt]=='','', t3[pt].map(set)))\n",
    "\n",
    "scores=[]\n",
    "for i in t3_sets: \n",
    "    for ii, gt_t3 in enumerate(gt_t3_sets): \n",
    "        scores.append(len(set.intersection(gt_t3, i[ii])))\n",
    "\n",
    "t3_results = pd.DataFrame((np.array(scores)).reshape((len(pt_labels),-1)).T, \n",
    "             index=all_rank_df_A['omit'].unique(), columns=pt_labels)\n",
    "t3_results"
   ]
  },
  {
   "cell_type": "markdown",
   "metadata": {},
   "source": [
    "#### Counts of top five ranked FCCs"
   ]
  },
  {
   "cell_type": "code",
   "execution_count": null,
   "metadata": {},
   "outputs": [],
   "source": [
    "topFive_df = all_rank_df_A[all_rank_df_A['vYAN'].isin([1, 2, 3, 4, 5])]\n",
    "\n",
    "gt_ranks_5 = all_rank_df_A['gt'].head(15)\n",
    "\n",
    "rank_noReg_5 = topFive_df[topFive_df['reg']=='noReg']#.drop('gt', axis=1)\n",
    "rank_reg1_5 = topFive_df[topFive_df['reg']=='reg1']#.drop('gt', axis=1)\n",
    "rank_reg2_5 = topFive_df[topFive_df['reg']=='reg2']#.drop('gt', axis=1)"
   ]
  },
  {
   "cell_type": "code",
   "execution_count": null,
   "metadata": {},
   "outputs": [],
   "source": [
    "gt_t5 = rank_noReg_5.groupby('omit')['gt'].apply(list).reset_index()\n",
    "gt_t5_sets = np.where(gt_t5['gt']=='','', gt_t5['gt'].map(set))\n",
    "gt_t5_sets\n",
    "\n",
    "t5_sets = []\n",
    "for pt in pt_labels: \n",
    "    t5 = rank_noReg_5.groupby('omit')[pt].apply(list).reset_index()\n",
    "    t5_sets.append(np.where(t5[pt]=='','', t5[pt].map(set)))\n",
    "\n",
    "scores=[]\n",
    "for i in t5_sets: \n",
    "    for ii, gt_t5 in enumerate(gt_t5_sets): \n",
    "        scores.append(len(set.intersection(gt_t5, i[ii])))\n",
    "\n",
    "t5_results = pd.DataFrame((np.array(scores)).reshape((len(pt_labels),-1)).T, \n",
    "             index=all_rank_df_A['omit'].unique(), columns=pt_labels)\n",
    "t5_results"
   ]
  },
  {
   "cell_type": "code",
   "execution_count": null,
   "metadata": {},
   "outputs": [],
   "source": [
    "gt_t5 = rank_reg1_5.groupby('omit')['gt'].apply(list).reset_index()\n",
    "gt_t5_sets = np.where(gt_t5['gt']=='','', gt_t5['gt'].map(set))\n",
    "gt_t5_sets\n",
    "\n",
    "t5_sets = []\n",
    "for pt in pt_labels: \n",
    "    t5 = rank_reg1_5.groupby('omit')[pt].apply(list).reset_index()\n",
    "    t5_sets.append(np.where(t5[pt]=='','', t5[pt].map(set)))\n",
    "\n",
    "scores=[]\n",
    "for i in t5_sets: \n",
    "    for ii, gt_t5 in enumerate(gt_t5_sets): \n",
    "        scores.append(len(set.intersection(gt_t5, i[ii])))\n",
    "\n",
    "t5_results = pd.DataFrame((np.array(scores)).reshape((len(pt_labels),-1)).T, \n",
    "             index=all_rank_df_A['omit'].unique(), columns=pt_labels)\n",
    "t5_results"
   ]
  },
  {
   "cell_type": "code",
   "execution_count": null,
   "metadata": {},
   "outputs": [],
   "source": [
    "gt_t5 = rank_reg2_5.groupby('omit')['gt'].apply(list).reset_index()\n",
    "gt_t5_sets = np.where(gt_t5['gt']=='','', gt_t5['gt'].map(set))\n",
    "gt_t5_sets\n",
    "\n",
    "t5_sets = []\n",
    "for pt in pt_labels: \n",
    "    t5 = rank_reg2_5.groupby('omit')[pt].apply(list).reset_index()\n",
    "    t5_sets.append(np.where(t5[pt]=='','', t5[pt].map(set)))\n",
    "\n",
    "scores=[]\n",
    "for i in t5_sets: \n",
    "    for ii, gt_t5 in enumerate(gt_t5_sets): \n",
    "        scores.append(len(set.intersection(gt_t5, i[ii])))\n",
    "\n",
    "t5_results = pd.DataFrame((np.array(scores)).reshape((len(pt_labels),-1)).T, \n",
    "             index=all_rank_df_A['omit'].unique(), columns=pt_labels)\n",
    "t5_results"
   ]
  }
 ],
 "metadata": {
  "kernelspec": {
   "display_name": "gayles",
   "language": "python",
   "name": "python3"
  },
  "language_info": {
   "codemirror_mode": {
    "name": "ipython",
    "version": 3
   },
   "file_extension": ".py",
   "mimetype": "text/x-python",
   "name": "python",
   "nbconvert_exporter": "python",
   "pygments_lexer": "ipython3",
   "version": "3.9.19"
  }
 },
 "nbformat": 4,
 "nbformat_minor": 2
}
