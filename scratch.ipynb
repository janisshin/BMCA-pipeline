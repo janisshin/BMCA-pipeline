{
 "cells": [
  {
   "cell_type": "code",
   "execution_count": 1,
   "metadata": {},
   "outputs": [],
   "source": [
    "import tellurium as te\n",
    "import pandas as pd\n",
    "import numpy as np\n",
    "\n",
    "import matplotlib.pyplot as plt\n",
    "\n",
    "import cobra\n",
    "import os\n",
    "os.getcwd()\n",
    "\n",
    "from src.no_BayesianInference import BMCA, util"
   ]
  },
  {
   "cell_type": "markdown",
   "metadata": {},
   "source": [
    "Generating data for running through the pipeline."
   ]
  },
  {
   "cell_type": "raw",
   "metadata": {},
   "source": [
    "ant_file = 'data/interim/Antimony/BIOMD0000000064_e.ant'\n",
    "util.generate_data(ant_file, [50], 'data/interim/generated_data/')"
   ]
  },
  {
   "cell_type": "markdown",
   "metadata": {},
   "source": [
    "Running BMCA on BioModel 64"
   ]
  },
  {
   "cell_type": "code",
   "execution_count": 2,
   "metadata": {},
   "outputs": [],
   "source": [
    "# load the Teusink model\n",
    "ant_file = 'data/interim/Antimony/BIOMD0000000064_e.ant'\n",
    "data_file = 'data/interim/generated_data/BIOMD0000000064_e_0.csv'\n",
    "data = pd.read_csv(data_file)"
   ]
  },
  {
   "cell_type": "markdown",
   "metadata": {},
   "source": [
    "Comparing flux values, original and perturbed"
   ]
  },
  {
   "cell_type": "code",
   "execution_count": 3,
   "metadata": {},
   "outputs": [
    {
     "data": {
      "text/html": [
       "<div>\n",
       "<style scoped>\n",
       "    .dataframe tbody tr th:only-of-type {\n",
       "        vertical-align: middle;\n",
       "    }\n",
       "\n",
       "    .dataframe tbody tr th {\n",
       "        vertical-align: top;\n",
       "    }\n",
       "\n",
       "    .dataframe thead th {\n",
       "        text-align: right;\n",
       "    }\n",
       "</style>\n",
       "<table border=\"1\" class=\"dataframe\">\n",
       "  <thead>\n",
       "    <tr style=\"text-align: right;\">\n",
       "      <th></th>\n",
       "      <th>unperturbed ss</th>\n",
       "      <th>EtOH -50%</th>\n",
       "    </tr>\n",
       "  </thead>\n",
       "  <tbody>\n",
       "    <tr>\n",
       "      <th>v_vADH</th>\n",
       "      <td>129.215909</td>\n",
       "      <td>129.215909</td>\n",
       "    </tr>\n",
       "    <tr>\n",
       "      <th>v_vALD</th>\n",
       "      <td>77.349527</td>\n",
       "      <td>77.349527</td>\n",
       "    </tr>\n",
       "    <tr>\n",
       "      <th>v_vATP</th>\n",
       "      <td>84.532764</td>\n",
       "      <td>84.532764</td>\n",
       "    </tr>\n",
       "    <tr>\n",
       "      <th>v_vENO</th>\n",
       "      <td>136.496807</td>\n",
       "      <td>136.496807</td>\n",
       "    </tr>\n",
       "    <tr>\n",
       "      <th>v_vG3PDH</th>\n",
       "      <td>18.202246</td>\n",
       "      <td>18.202246</td>\n",
       "    </tr>\n",
       "    <tr>\n",
       "      <th>v_vGAPDH</th>\n",
       "      <td>136.496807</td>\n",
       "      <td>136.496807</td>\n",
       "    </tr>\n",
       "    <tr>\n",
       "      <th>v_vGLK</th>\n",
       "      <td>88.149527</td>\n",
       "      <td>88.149527</td>\n",
       "    </tr>\n",
       "    <tr>\n",
       "      <th>v_vGLT</th>\n",
       "      <td>88.149527</td>\n",
       "      <td>88.149527</td>\n",
       "    </tr>\n",
       "    <tr>\n",
       "      <th>v_vGLYCO</th>\n",
       "      <td>6.000000</td>\n",
       "      <td>6.000000</td>\n",
       "    </tr>\n",
       "    <tr>\n",
       "      <th>v_vPDC</th>\n",
       "      <td>136.496807</td>\n",
       "      <td>136.496807</td>\n",
       "    </tr>\n",
       "    <tr>\n",
       "      <th>v_vPFK</th>\n",
       "      <td>77.349527</td>\n",
       "      <td>77.349527</td>\n",
       "    </tr>\n",
       "    <tr>\n",
       "      <th>v_vPGI</th>\n",
       "      <td>77.349527</td>\n",
       "      <td>77.349527</td>\n",
       "    </tr>\n",
       "    <tr>\n",
       "      <th>v_vPGK</th>\n",
       "      <td>136.496807</td>\n",
       "      <td>136.496807</td>\n",
       "    </tr>\n",
       "    <tr>\n",
       "      <th>v_vPGM</th>\n",
       "      <td>136.496807</td>\n",
       "      <td>136.496807</td>\n",
       "    </tr>\n",
       "    <tr>\n",
       "      <th>v_vPYK</th>\n",
       "      <td>136.496807</td>\n",
       "      <td>136.496807</td>\n",
       "    </tr>\n",
       "    <tr>\n",
       "      <th>v_vSUC</th>\n",
       "      <td>3.640449</td>\n",
       "      <td>3.640449</td>\n",
       "    </tr>\n",
       "    <tr>\n",
       "      <th>v_vTreha</th>\n",
       "      <td>2.400000</td>\n",
       "      <td>2.400000</td>\n",
       "    </tr>\n",
       "  </tbody>\n",
       "</table>\n",
       "</div>"
      ],
      "text/plain": [
       "          unperturbed ss   EtOH -50%\n",
       "v_vADH        129.215909  129.215909\n",
       "v_vALD         77.349527   77.349527\n",
       "v_vATP         84.532764   84.532764\n",
       "v_vENO        136.496807  136.496807\n",
       "v_vG3PDH       18.202246   18.202246\n",
       "v_vGAPDH      136.496807  136.496807\n",
       "v_vGLK         88.149527   88.149527\n",
       "v_vGLT         88.149527   88.149527\n",
       "v_vGLYCO        6.000000    6.000000\n",
       "v_vPDC        136.496807  136.496807\n",
       "v_vPFK         77.349527   77.349527\n",
       "v_vPGI         77.349527   77.349527\n",
       "v_vPGK        136.496807  136.496807\n",
       "v_vPGM        136.496807  136.496807\n",
       "v_vPYK        136.496807  136.496807\n",
       "v_vSUC          3.640449    3.640449\n",
       "v_vTreha        2.400000    2.400000"
      ]
     },
     "execution_count": 3,
     "metadata": {},
     "output_type": "execute_result"
    }
   ],
   "source": [
    "_ = data.transpose().sort_index()\n",
    "_.rename({0: \"unperturbed ss\", 1: \"EtOH -50%\"}, axis=1, inplace=True)\n",
    "_.loc['v_':'v_z']"
   ]
  },
  {
   "cell_type": "markdown",
   "metadata": {},
   "source": [
    "Calculating the steady state concentrations of the Teusink model when EtOH concentration is halved. "
   ]
  },
  {
   "cell_type": "code",
   "execution_count": 4,
   "metadata": {},
   "outputs": [],
   "source": [
    "s  = te.loada(ant_file)\n",
    "# s.ETOH = s.ETOH/2\n",
    "s.steadyState()\n",
    "true_ss_values = pd.DataFrame(s.getFloatingSpeciesConcentrations(), index=s.getFloatingSpeciesIds(), columns=['true'])\n",
    "true_ss_values.sort_index(inplace=True)\n",
    "# s.getScaledFluxControlCoefficientMatrix()"
   ]
  },
  {
   "cell_type": "markdown",
   "metadata": {},
   "source": [
    "Predicting the steady state concentration values "
   ]
  },
  {
   "cell_type": "code",
   "execution_count": 5,
   "metadata": {},
   "outputs": [],
   "source": [
    "s  = te.loada(ant_file)\n",
    "BIOMD64 = BMCA.BMCA(ant_file, data_file, desired_product='ETOH')\n",
    "\n",
    "BIOMD64 = BMCA.BMCA(ant_file, data_file, desired_product='ETOH')\n",
    "chi_star = BIOMD64.calculate_Smallbone_ss(BIOMD64.Ex, BIOMD64.Ey)\n"
   ]
  },
  {
   "cell_type": "code",
   "execution_count": 6,
   "metadata": {},
   "outputs": [
    {
     "data": {
      "text/plain": [
       "array([9.87586920e-02, 1.03324561e+00, 1.12812815e-01, 6.01907640e-01,\n",
       "       7.77523537e-01, 3.29574000e-04, 3.56484038e-01, 4.48437110e-02,\n",
       "       7.36168420e-02, 8.52315246e+00, 1.70114452e-01, 6.30888164e+00,\n",
       "       1.54555977e+00, 4.44402330e-02])"
      ]
     },
     "execution_count": 6,
     "metadata": {},
     "output_type": "execute_result"
    }
   ],
   "source": [
    "BIOMD64.x_star"
   ]
  },
  {
   "cell_type": "code",
   "execution_count": 7,
   "metadata": {},
   "outputs": [],
   "source": [
    "x_ss = np.exp(chi_star.to_numpy())\n",
    "a = s.getIndependentFloatingSpeciesIds()\n",
    "b = s.getFloatingSpeciesIds()\n",
    "squiggle_idx = [b.index(i) for i in a if i in b]\n",
    "squiggle_idx.sort()\n",
    "estimated_ss = pd.DataFrame(data=x_ss, index=[b[i] for i in squiggle_idx], columns=['estimated'])"
   ]
  },
  {
   "cell_type": "code",
   "execution_count": 8,
   "metadata": {},
   "outputs": [
    {
     "data": {
      "text/html": [
       "<div>\n",
       "<style scoped>\n",
       "    .dataframe tbody tr th:only-of-type {\n",
       "        vertical-align: middle;\n",
       "    }\n",
       "\n",
       "    .dataframe tbody tr th {\n",
       "        vertical-align: top;\n",
       "    }\n",
       "\n",
       "    .dataframe thead th {\n",
       "        text-align: right;\n",
       "    }\n",
       "</style>\n",
       "<table border=\"1\" class=\"dataframe\">\n",
       "  <thead>\n",
       "    <tr style=\"text-align: right;\">\n",
       "      <th></th>\n",
       "      <th>true</th>\n",
       "      <th>estimated</th>\n",
       "      <th>error (%)</th>\n",
       "    </tr>\n",
       "  </thead>\n",
       "  <tbody>\n",
       "    <tr>\n",
       "      <th>ACE</th>\n",
       "      <td>0.170114</td>\n",
       "      <td>0.189530</td>\n",
       "      <td>1.114133</td>\n",
       "    </tr>\n",
       "    <tr>\n",
       "      <th>BPG</th>\n",
       "      <td>0.000330</td>\n",
       "      <td>0.015044</td>\n",
       "      <td>45.647210</td>\n",
       "    </tr>\n",
       "    <tr>\n",
       "      <th>F16P</th>\n",
       "      <td>0.601908</td>\n",
       "      <td>0.008905</td>\n",
       "      <td>0.014795</td>\n",
       "    </tr>\n",
       "    <tr>\n",
       "      <th>F6P</th>\n",
       "      <td>0.112813</td>\n",
       "      <td>0.037363</td>\n",
       "      <td>0.331192</td>\n",
       "    </tr>\n",
       "    <tr>\n",
       "      <th>G6P</th>\n",
       "      <td>1.033246</td>\n",
       "      <td>0.037087</td>\n",
       "      <td>0.035894</td>\n",
       "    </tr>\n",
       "    <tr>\n",
       "      <th>GLCi</th>\n",
       "      <td>0.098759</td>\n",
       "      <td>0.395924</td>\n",
       "      <td>4.009007</td>\n",
       "    </tr>\n",
       "    <tr>\n",
       "      <th>NAD</th>\n",
       "      <td>1.545560</td>\n",
       "      <td>0.951731</td>\n",
       "      <td>0.615784</td>\n",
       "    </tr>\n",
       "    <tr>\n",
       "      <th>NADH</th>\n",
       "      <td>0.044440</td>\n",
       "      <td>NaN</td>\n",
       "      <td>NaN</td>\n",
       "    </tr>\n",
       "    <tr>\n",
       "      <th>P</th>\n",
       "      <td>6.308882</td>\n",
       "      <td>0.236591</td>\n",
       "      <td>0.037501</td>\n",
       "    </tr>\n",
       "    <tr>\n",
       "      <th>P2G</th>\n",
       "      <td>0.044844</td>\n",
       "      <td>0.055296</td>\n",
       "      <td>1.233077</td>\n",
       "    </tr>\n",
       "    <tr>\n",
       "      <th>P3G</th>\n",
       "      <td>0.356484</td>\n",
       "      <td>0.059297</td>\n",
       "      <td>0.166338</td>\n",
       "    </tr>\n",
       "    <tr>\n",
       "      <th>PEP</th>\n",
       "      <td>0.073617</td>\n",
       "      <td>0.051565</td>\n",
       "      <td>0.700449</td>\n",
       "    </tr>\n",
       "    <tr>\n",
       "      <th>PYR</th>\n",
       "      <td>8.523152</td>\n",
       "      <td>0.203244</td>\n",
       "      <td>0.023846</td>\n",
       "    </tr>\n",
       "    <tr>\n",
       "      <th>TRIO</th>\n",
       "      <td>0.777524</td>\n",
       "      <td>0.094718</td>\n",
       "      <td>0.121821</td>\n",
       "    </tr>\n",
       "  </tbody>\n",
       "</table>\n",
       "</div>"
      ],
      "text/plain": [
       "          true  estimated  error (%)\n",
       "ACE   0.170114   0.189530   1.114133\n",
       "BPG   0.000330   0.015044  45.647210\n",
       "F16P  0.601908   0.008905   0.014795\n",
       "F6P   0.112813   0.037363   0.331192\n",
       "G6P   1.033246   0.037087   0.035894\n",
       "GLCi  0.098759   0.395924   4.009007\n",
       "NAD   1.545560   0.951731   0.615784\n",
       "NADH  0.044440        NaN        NaN\n",
       "P     6.308882   0.236591   0.037501\n",
       "P2G   0.044844   0.055296   1.233077\n",
       "P3G   0.356484   0.059297   0.166338\n",
       "PEP   0.073617   0.051565   0.700449\n",
       "PYR   8.523152   0.203244   0.023846\n",
       "TRIO  0.777524   0.094718   0.121821"
      ]
     },
     "execution_count": 8,
     "metadata": {},
     "output_type": "execute_result"
    }
   ],
   "source": [
    "comparison = pd.concat([true_ss_values, estimated_ss], axis = 1)\n",
    "comparison['error (%)'] = (comparison['estimated'])/comparison['true']\n",
    "comparison.sort_index()"
   ]
  },
  {
   "cell_type": "markdown",
   "metadata": {},
   "source": [
    "Plotting relative changes in EtOH by relative changes in steady state intracelluar metabolite concentrations (Figure 3 in Smallbone et al. )"
   ]
  },
  {
   "cell_type": "code",
   "execution_count": 36,
   "metadata": {},
   "outputs": [
    {
     "data": {
      "text/plain": [
       "array([0.1       , 0.12451971, 0.15505158, 0.19306977, 0.24040992,\n",
       "       0.29935773, 0.37275937, 0.46415888, 0.57796929, 0.71968567,\n",
       "       0.8961505 , 1.11588399, 1.38949549, 1.73019574, 2.15443469,\n",
       "       2.6826958 , 3.34048498, 4.15956216, 5.17947468, 6.44946677])"
      ]
     },
     "execution_count": 36,
     "metadata": {},
     "output_type": "execute_result"
    }
   ],
   "source": [
    "EtOH_scale = np.logspace(-1, 1, num=22)[:-2]\n",
    "EtOH_scale"
   ]
  },
  {
   "cell_type": "code",
   "execution_count": 47,
   "metadata": {},
   "outputs": [],
   "source": [
    "def calculate_relative_change(metabolite): \n",
    "    metabolite_scale = []\n",
    "\n",
    "    for change in EtOH_scale: \n",
    "        s.resetAll()\n",
    "        s.ETOH =(change * s.ETOH)\n",
    "        # print(s.ETOH)\n",
    "        s.steadyState()\n",
    "        \n",
    "        #s.simulate(0,50)\n",
    "        #s.plot(title=change)\n",
    "        \n",
    "        metabolite_scale.append(s.getValue(metabolite))\n",
    "\n",
    "    # calculate the relative change in BPG\n",
    "    s.resetAll()\n",
    "    s.steadyState()\n",
    "    met_ss = s.getValue(metabolite)\n",
    "    met_scale = np.array(metabolite_scale) / met_ss\n",
    "\n",
    "    return met_scale"
   ]
  },
  {
   "cell_type": "code",
   "execution_count": 140,
   "metadata": {},
   "outputs": [
    {
     "data": {
      "text/plain": [
       "<matplotlib.lines.Line2D at 0x2064210d250>"
      ]
     },
     "execution_count": 140,
     "metadata": {},
     "output_type": "execute_result"
    },
    {
     "data": {
      "image/png": "[encoded data removed]",
      "text/plain": [
       "<Figure size 640x480 with 1 Axes>"
      ]
     },
     "metadata": {},
     "output_type": "display_data"
    }
   ],
   "source": [
    "plt.scatter(EtOH_scale, calculate_relative_change('BPG'))\n",
    "plt.xscale('log', base=10)\n",
    "plt.xlim(0.1, 10)\n",
    "plt.title('Relative changes in BPG when EtOH is perturbed')\n",
    "plt.axvline(1, alpha=0.5)\n",
    "plt.axhline(1, alpha=0.5)"
   ]
  },
  {
   "cell_type": "code",
   "execution_count": 141,
   "metadata": {},
   "outputs": [
    {
     "data": {
      "text/plain": [
       "<matplotlib.lines.Line2D at 0x20642364fa0>"
      ]
     },
     "execution_count": 141,
     "metadata": {},
     "output_type": "execute_result"
    },
    {
     "data": {
      "image/png": "[encoded data removed]",
      "text/plain": [
       "<Figure size 640x480 with 1 Axes>"
      ]
     },
     "metadata": {},
     "output_type": "display_data"
    }
   ],
   "source": [
    "plt.scatter(EtOH_scale, calculate_relative_change('NADH'))\n",
    "plt.xscale('log', base=10)\n",
    "plt.xlim(0.1, 10)\n",
    "plt.title('Relative changes in NADH when EtOH is perturbed')\n",
    "plt.axvline(1, alpha=0.5)\n",
    "plt.axhline(1, alpha=0.5)"
   ]
  },
  {
   "cell_type": "markdown",
   "metadata": {},
   "source": [
    "Solving equation 10 of Smallbone et al. which is what gives the intracellular steady state concentrations. \n",
    "\n",
    "However, in order to solve for equation 10, we must first solve for equation 6. "
   ]
  },
  {
   "cell_type": "code",
   "execution_count": 12,
   "metadata": {},
   "outputs": [],
   "source": [
    "data = data.iloc[np.arange(1).repeat(2)]"
   ]
  },
  {
   "cell_type": "code",
   "execution_count": 13,
   "metadata": {},
   "outputs": [],
   "source": [
    "# solving for equation 6 \n"
   ]
  },
  {
   "cell_type": "code",
   "execution_count": 46,
   "metadata": {},
   "outputs": [],
   "source": [
    "ref_ind = data.idxmax()['ETOH']\n",
    "x = data[s.getFloatingSpeciesIds()]\n",
    "x_star = x.iloc[ref_ind].values\n",
    "y = data[s.getBoundarySpeciesIds()]\n",
    "y_star = y.iloc[ref_ind].values\n",
    "y_star[y_star == 0] = 1e-6\n",
    "yn = y.divide(y_star).reset_index()\n",
    "yn.drop(yn.index[ref_ind], inplace=True)\n",
    "yn.drop(['index'], axis=1, inplace=True)\n",
    "yn[yn == 0] = 1E-6"
   ]
  },
  {
   "cell_type": "code",
   "execution_count": 7,
   "metadata": {},
   "outputs": [
    {
     "data": {
      "text/plain": [
       " [[ 1, -1, -1, -2,  0,  0,  0,  0, 0, 0, 0, 0, 0, 0, 0,  0, 0],\n",
       "  [ 0,  1,  0,  0, -1,  0,  0,  0, 0, 0, 0, 0, 0, 0, 0,  0, 0],\n",
       "  [ 0,  0,  0,  0,  1, -1,  0,  0, 0, 0, 0, 0, 0, 0, 0,  0, 0],\n",
       "  [ 0,  0,  0,  0,  0,  2, -1,  0, 0, 0, 0, 0, 0, 0, 0, -1, 0],\n",
       "  [ 0,  0,  0,  0,  0,  0,  1, -1, 0, 0, 0, 0, 0, 0, 0,  0, 0]]"
      ]
     },
     "execution_count": 7,
     "metadata": {},
     "output_type": "execute_result"
    }
   ],
   "source": [
    "squiggle_idx = [1,2,3,4,5]\n",
    "N = s.getFullStoichiometryMatrix()\n",
    "N[squiggle_idx,:]"
   ]
  },
  {
   "cell_type": "code",
   "execution_count": 17,
   "metadata": {},
   "outputs": [],
   "source": [
    "t1 = np.linalg.inv(np.diag(x_star))\n",
    "t2 = np.linalg.inv(np.diag(np.ones(len(x_star))))\n",
    "t3 = BIOMD64.N\n",
    "t4 = np.linalg.pinv(BIOMD64.N[:-1,:])\n",
    "t5 = np.diag(np.ones(len(squiggle_idx)))\n",
    "t6 = np.diag(x_star[squiggle_idx])"
   ]
  }
 ],
 "metadata": {
  "kernelspec": {
   "display_name": "new_Gayles",
   "language": "python",
   "name": "new_gayles"
  },
  "language_info": {
   "codemirror_mode": {
    "name": "ipython",
    "version": 3
   },
   "file_extension": ".py",
   "mimetype": "text/x-python",
   "name": "python",
   "nbconvert_exporter": "python",
   "pygments_lexer": "ipython3",
   "version": "3.9.13"
  },
  "orig_nbformat": 4
 },
 "nbformat": 4,
 "nbformat_minor": 2
}
