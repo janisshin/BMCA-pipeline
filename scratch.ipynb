{
 "cells": [
  {
   "cell_type": "code",
   "execution_count": 1,
   "metadata": {},
   "outputs": [],
   "source": [
    "import tellurium as te\n",
    "import pandas as pd\n",
    "import numpy as np\n",
    "\n",
    "import cobra\n",
    "import os\n",
    "os.getcwd()\n",
    "\n",
    "\n",
    "from src.no_BayesianInference import BMCA, util"
   ]
  },
  {
   "cell_type": "code",
   "execution_count": 2,
   "metadata": {},
   "outputs": [
    {
     "data": {
      "text/plain": [
       "'c:\\\\Users\\\\user\\\\Documents\\\\research\\\\BMCA-pipeline'"
      ]
     },
     "execution_count": 2,
     "metadata": {},
     "output_type": "execute_result"
    }
   ],
   "source": [
    "os.getcwd()"
   ]
  },
  {
   "cell_type": "markdown",
   "metadata": {},
   "source": [
    "Generating data for running through the pipeline."
   ]
  },
  {
   "cell_type": "raw",
   "metadata": {},
   "source": [
    "ant_file = 'data/interim/Antimony/BIOMD0000000064_e.ant'\n",
    "util.generate_data(ant_file, [50], 'data/interim/generated_data/')"
   ]
  },
  {
   "cell_type": "markdown",
   "metadata": {},
   "source": [
    "Running BMCA on BioModel 64"
   ]
  },
  {
   "cell_type": "code",
   "execution_count": 3,
   "metadata": {},
   "outputs": [],
   "source": [
    "# load the Teusink model\n",
    "ant_file = 'data/interim/Antimony/BIOMD0000000064_e.ant'\n",
    "data_file = 'data/interim/generated_data/BIOMD0000000064_e_50.csv'\n",
    "data = pd.read_csv(data_file)"
   ]
  },
  {
   "cell_type": "markdown",
   "metadata": {},
   "source": [
    "Calculating the steady state concentrations of the Teusink model when EtOH concentration is halved. "
   ]
  },
  {
   "cell_type": "code",
   "execution_count": 4,
   "metadata": {},
   "outputs": [],
   "source": [
    "s  = te.loada(ant_file)\n",
    "s.ETOH = s.ETOH/2\n",
    "s.steadyState()\n",
    "true_ss_values = pd.DataFrame(s.getFloatingSpeciesConcentrations(), index=s.getFloatingSpeciesIds(), columns=['true'])\n",
    "\n",
    "# s.getScaledFluxControlCoefficientMatrix()"
   ]
  },
  {
   "cell_type": "markdown",
   "metadata": {},
   "source": [
    "Predicting the steady state concentration values "
   ]
  },
  {
   "cell_type": "code",
   "execution_count": 8,
   "metadata": {},
   "outputs": [
    {
     "name": "stderr",
     "output_type": "stream",
     "text": [
      "c:\\Users\\user\\Documents\\research\\BMCA-pipeline\\src\\no_BayesianInference\\BMCA.py:143: FutureWarning:\n",
      "\n",
      "Calling a ufunc on non-aligned DataFrames (or DataFrame/Series combination). Currently, the indices are ignored and the result takes the index/columns of the first DataFrame. In the future , the DataFrames/Series will be aligned before applying the ufunc.\n",
      "Convert one of the arguments to a NumPy array (eg 'ufunc(df1, np.asarray(df2)') to keep the current behaviour, or align manually (eg 'df1, df2 = df1.align(df2)') before passing to the ufunc to obtain the future behaviour and silence this warning.\n",
      "\n"
     ]
    }
   ],
   "source": [
    "BIOMD64 = BMCA.BMCA(ant_file, data_file, desired_product='ETOH')\n",
    "\n",
    "# pd.DataFrame(pipeline.Ex, columns=s.getFloatingSpeciesIds(), index=s.getReactionIds())\n",
    "# pd.DataFrame(pipeline.Ey, columns=s.getBoundarySpeciesIds(), index=s.getReactionIds())\n",
    "\n",
    "chi, v_hat = BIOMD64.calculate_steady_state(BIOMD64.Ex, BIOMD64.Ey)\n",
    "x_ss = np.exp(chi.to_numpy())\n",
    "\n",
    "estimated_ss = pd.DataFrame(data=x_ss, index=s.getFloatingSpeciesIds(), columns=['estimated'])"
   ]
  },
  {
   "cell_type": "code",
   "execution_count": 11,
   "metadata": {},
   "outputs": [
    {
     "data": {
      "text/html": [
       "<div>\n",
       "<style scoped>\n",
       "    .dataframe tbody tr th:only-of-type {\n",
       "        vertical-align: middle;\n",
       "    }\n",
       "\n",
       "    .dataframe tbody tr th {\n",
       "        vertical-align: top;\n",
       "    }\n",
       "\n",
       "    .dataframe thead th {\n",
       "        text-align: right;\n",
       "    }\n",
       "</style>\n",
       "<table border=\"1\" class=\"dataframe\">\n",
       "  <thead>\n",
       "    <tr style=\"text-align: right;\">\n",
       "      <th></th>\n",
       "      <th>true</th>\n",
       "      <th>estimated</th>\n",
       "      <th>error (%)</th>\n",
       "    </tr>\n",
       "  </thead>\n",
       "  <tbody>\n",
       "    <tr>\n",
       "      <th>ACE</th>\n",
       "      <td>0.136863</td>\n",
       "      <td>0.039947</td>\n",
       "      <td>70.812336</td>\n",
       "    </tr>\n",
       "    <tr>\n",
       "      <th>BPG</th>\n",
       "      <td>0.000510</td>\n",
       "      <td>0.212927</td>\n",
       "      <td>-41629.273918</td>\n",
       "    </tr>\n",
       "    <tr>\n",
       "      <th>F16P</th>\n",
       "      <td>0.652591</td>\n",
       "      <td>0.039749</td>\n",
       "      <td>93.909018</td>\n",
       "    </tr>\n",
       "    <tr>\n",
       "      <th>F6P</th>\n",
       "      <td>0.156413</td>\n",
       "      <td>0.083391</td>\n",
       "      <td>46.685673</td>\n",
       "    </tr>\n",
       "    <tr>\n",
       "      <th>G6P</th>\n",
       "      <td>1.283076</td>\n",
       "      <td>0.001627</td>\n",
       "      <td>99.873183</td>\n",
       "    </tr>\n",
       "    <tr>\n",
       "      <th>GLCi</th>\n",
       "      <td>0.086895</td>\n",
       "      <td>0.133252</td>\n",
       "      <td>-53.348152</td>\n",
       "    </tr>\n",
       "    <tr>\n",
       "      <th>NAD</th>\n",
       "      <td>1.559295</td>\n",
       "      <td>0.000548</td>\n",
       "      <td>99.964846</td>\n",
       "    </tr>\n",
       "    <tr>\n",
       "      <th>NADH</th>\n",
       "      <td>0.030705</td>\n",
       "      <td>1.359586</td>\n",
       "      <td>-4327.917403</td>\n",
       "    </tr>\n",
       "    <tr>\n",
       "      <th>P</th>\n",
       "      <td>6.769148</td>\n",
       "      <td>0.202326</td>\n",
       "      <td>97.011062</td>\n",
       "    </tr>\n",
       "    <tr>\n",
       "      <th>P2G</th>\n",
       "      <td>0.054551</td>\n",
       "      <td>0.013524</td>\n",
       "      <td>75.207967</td>\n",
       "    </tr>\n",
       "    <tr>\n",
       "      <th>P3G</th>\n",
       "      <td>0.424027</td>\n",
       "      <td>0.735518</td>\n",
       "      <td>-73.459962</td>\n",
       "    </tr>\n",
       "    <tr>\n",
       "      <th>PEP</th>\n",
       "      <td>0.099611</td>\n",
       "      <td>1.312901</td>\n",
       "      <td>-1218.031620</td>\n",
       "    </tr>\n",
       "    <tr>\n",
       "      <th>PYR</th>\n",
       "      <td>9.380353</td>\n",
       "      <td>0.821628</td>\n",
       "      <td>91.240967</td>\n",
       "    </tr>\n",
       "    <tr>\n",
       "      <th>TRIO</th>\n",
       "      <td>0.814107</td>\n",
       "      <td>0.004737</td>\n",
       "      <td>99.418137</td>\n",
       "    </tr>\n",
       "  </tbody>\n",
       "</table>\n",
       "</div>"
      ],
      "text/plain": [
       "          true  estimated     error (%)\n",
       "ACE   0.136863   0.039947     70.812336\n",
       "BPG   0.000510   0.212927 -41629.273918\n",
       "F16P  0.652591   0.039749     93.909018\n",
       "F6P   0.156413   0.083391     46.685673\n",
       "G6P   1.283076   0.001627     99.873183\n",
       "GLCi  0.086895   0.133252    -53.348152\n",
       "NAD   1.559295   0.000548     99.964846\n",
       "NADH  0.030705   1.359586  -4327.917403\n",
       "P     6.769148   0.202326     97.011062\n",
       "P2G   0.054551   0.013524     75.207967\n",
       "P3G   0.424027   0.735518    -73.459962\n",
       "PEP   0.099611   1.312901  -1218.031620\n",
       "PYR   9.380353   0.821628     91.240967\n",
       "TRIO  0.814107   0.004737     99.418137"
      ]
     },
     "execution_count": 11,
     "metadata": {},
     "output_type": "execute_result"
    }
   ],
   "source": [
    "comparison = pd.concat([true_ss_values, estimated_ss], axis = 1)\n",
    "comparison['error (%)'] = (comparison['true']-comparison['estimated'])*100/comparison['true']\n",
    "comparison.sort_index()"
   ]
  },
  {
   "cell_type": "code",
   "execution_count": null,
   "metadata": {},
   "outputs": [],
   "source": []
  }
 ],
 "metadata": {
  "kernelspec": {
   "display_name": "new_Gayles",
   "language": "python",
   "name": "new_gayles"
  },
  "language_info": {
   "codemirror_mode": {
    "name": "ipython",
    "version": 3
   },
   "file_extension": ".py",
   "mimetype": "text/x-python",
   "name": "python",
   "nbconvert_exporter": "python",
   "pygments_lexer": "ipython3",
   "version": "3.9.13"
  },
  "orig_nbformat": 4
 },
 "nbformat": 4,
 "nbformat_minor": 2
}
