{
 "cells": [
  {
   "cell_type": "code",
   "execution_count": 1,
   "metadata": {},
   "outputs": [],
   "source": [
    "import tellurium as te\n",
    "import pandas as pd\n",
    "import numpy as np\n",
    "\n",
    "import cobra\n",
    "import os\n",
    "os.getcwd()\n",
    "\n",
    "\n",
    "from src.no_BayesianInference import BMCA, util"
   ]
  },
  {
   "cell_type": "code",
   "execution_count": 2,
   "metadata": {},
   "outputs": [
    {
     "data": {
      "text/plain": [
       "'c:\\\\Users\\\\user\\\\Documents\\\\research\\\\BMCA-pipeline'"
      ]
     },
     "execution_count": 2,
     "metadata": {},
     "output_type": "execute_result"
    }
   ],
   "source": [
    "os.getcwd()"
   ]
  },
  {
   "cell_type": "markdown",
   "metadata": {},
   "source": [
    "Generating data for running through the pipeline."
   ]
  },
  {
   "cell_type": "raw",
   "metadata": {},
   "source": [
    "ant_file = 'data/interim/Antimony/BIOMD0000000064_e.ant'\n",
    "util.generate_data(ant_file, [50], 'data/interim/generated_data/')"
   ]
  },
  {
   "cell_type": "markdown",
   "metadata": {},
   "source": [
    "Running BMCA on BioModel 64"
   ]
  },
  {
   "cell_type": "code",
   "execution_count": 7,
   "metadata": {},
   "outputs": [],
   "source": [
    "# load the Teusink model\n",
    "ant_file = 'data/interim/Antimony/BIOMD0000000064_e.ant'\n",
    "data_file = 'data/interim/generated_data/BIOMD0000000064_e_50.csv'\n",
    "data = pd.read_csv(data_file)"
   ]
  },
  {
   "cell_type": "markdown",
   "metadata": {},
   "source": [
    "Calculating the steady state concentrations of the Teusink model when EtOH concentration is halved. "
   ]
  },
  {
   "cell_type": "code",
   "execution_count": 24,
   "metadata": {},
   "outputs": [],
   "source": [
    "s  = te.loada(ant_file)\n",
    "s.ETOH = s.ETOH/2\n",
    "s.steadyState()\n",
    "true_ss_values = pd.DataFrame(s.getFloatingSpeciesConcentrations(), index=s.getFloatingSpeciesIds(), columns=['true'])\n",
    "\n",
    "# s.getScaledFluxControlCoefficientMatrix()"
   ]
  },
  {
   "cell_type": "markdown",
   "metadata": {},
   "source": [
    "Predicting the steady state concentration values "
   ]
  },
  {
   "cell_type": "code",
   "execution_count": 25,
   "metadata": {},
   "outputs": [
    {
     "name": "stderr",
     "output_type": "stream",
     "text": [
      "c:\\Users\\user\\Documents\\research\\BMCA-pipeline\\src\\no_BayesianInference\\BMCA.py:141: FutureWarning:\n",
      "\n",
      "Calling a ufunc on non-aligned DataFrames (or DataFrame/Series combination). Currently, the indices are ignored and the result takes the index/columns of the first DataFrame. In the future , the DataFrames/Series will be aligned before applying the ufunc.\n",
      "Convert one of the arguments to a NumPy array (eg 'ufunc(df1, np.asarray(df2)') to keep the current behaviour, or align manually (eg 'df1, df2 = df1.align(df2)') before passing to the ufunc to obtain the future behaviour and silence this warning.\n",
      "\n"
     ]
    }
   ],
   "source": [
    "BIOMD64 = BMCA.BMCA(ant_file, data_file, desired_product='ETOH')\n",
    "\n",
    "# pd.DataFrame(pipeline.Ex, columns=s.getFloatingSpeciesIds(), index=s.getReactionIds())\n",
    "# pd.DataFrame(pipeline.Ey, columns=s.getBoundarySpeciesIds(), index=s.getReactionIds())\n",
    "\n",
    "chi, v_hat = BIOMD64.calculate_steady_state(BIOMD64.Ex, BIOMD64.Ey)\n",
    "\n",
    "estimated_ss = pd.DataFrame(data=chi.to_numpy(), index=s.getFloatingSpeciesIds(), columns=['estimated'])"
   ]
  },
  {
   "cell_type": "code",
   "execution_count": 26,
   "metadata": {},
   "outputs": [],
   "source": [
    "comparison = pd.concat([true_ss_values, estimated_ss], axis = 1)\n",
    "comparison['error'] = (comparison['true']-comparison['estimated'])/comparison['true']"
   ]
  },
  {
   "cell_type": "code",
   "execution_count": 27,
   "metadata": {},
   "outputs": [
    {
     "data": {
      "text/html": [
       "<div>\n",
       "<style scoped>\n",
       "    .dataframe tbody tr th:only-of-type {\n",
       "        vertical-align: middle;\n",
       "    }\n",
       "\n",
       "    .dataframe tbody tr th {\n",
       "        vertical-align: top;\n",
       "    }\n",
       "\n",
       "    .dataframe thead th {\n",
       "        text-align: right;\n",
       "    }\n",
       "</style>\n",
       "<table border=\"1\" class=\"dataframe\">\n",
       "  <thead>\n",
       "    <tr style=\"text-align: right;\">\n",
       "      <th></th>\n",
       "      <th>true</th>\n",
       "      <th>estimated</th>\n",
       "      <th>error</th>\n",
       "    </tr>\n",
       "  </thead>\n",
       "  <tbody>\n",
       "    <tr>\n",
       "      <th>P</th>\n",
       "      <td>6.769148</td>\n",
       "      <td>-0.481900</td>\n",
       "      <td>1.071191</td>\n",
       "    </tr>\n",
       "    <tr>\n",
       "      <th>G6P</th>\n",
       "      <td>1.283076</td>\n",
       "      <td>-0.374763</td>\n",
       "      <td>1.292082</td>\n",
       "    </tr>\n",
       "    <tr>\n",
       "      <th>TRIO</th>\n",
       "      <td>0.814107</td>\n",
       "      <td>0.036631</td>\n",
       "      <td>0.955005</td>\n",
       "    </tr>\n",
       "    <tr>\n",
       "      <th>NAD</th>\n",
       "      <td>1.559295</td>\n",
       "      <td>0.037061</td>\n",
       "      <td>0.976232</td>\n",
       "    </tr>\n",
       "    <tr>\n",
       "      <th>ACE</th>\n",
       "      <td>0.136863</td>\n",
       "      <td>0.224228</td>\n",
       "      <td>-0.638331</td>\n",
       "    </tr>\n",
       "    <tr>\n",
       "      <th>P2G</th>\n",
       "      <td>0.054551</td>\n",
       "      <td>0.271243</td>\n",
       "      <td>-3.972267</td>\n",
       "    </tr>\n",
       "    <tr>\n",
       "      <th>BPG</th>\n",
       "      <td>0.000510</td>\n",
       "      <td>0.733958</td>\n",
       "      <td>-1437.404301</td>\n",
       "    </tr>\n",
       "    <tr>\n",
       "      <th>GLCi</th>\n",
       "      <td>0.086895</td>\n",
       "      <td>0.785709</td>\n",
       "      <td>-8.042036</td>\n",
       "    </tr>\n",
       "    <tr>\n",
       "      <th>F6P</th>\n",
       "      <td>0.156413</td>\n",
       "      <td>0.837461</td>\n",
       "      <td>-4.354155</td>\n",
       "    </tr>\n",
       "    <tr>\n",
       "      <th>PEP</th>\n",
       "      <td>0.099611</td>\n",
       "      <td>1.300176</td>\n",
       "      <td>-12.052562</td>\n",
       "    </tr>\n",
       "    <tr>\n",
       "      <th>PYR</th>\n",
       "      <td>9.380353</td>\n",
       "      <td>0.351927</td>\n",
       "      <td>0.962483</td>\n",
       "    </tr>\n",
       "    <tr>\n",
       "      <th>F16P</th>\n",
       "      <td>0.652591</td>\n",
       "      <td>-0.410963</td>\n",
       "      <td>1.629741</td>\n",
       "    </tr>\n",
       "    <tr>\n",
       "      <th>P3G</th>\n",
       "      <td>0.424027</td>\n",
       "      <td>-0.002368</td>\n",
       "      <td>1.005585</td>\n",
       "    </tr>\n",
       "    <tr>\n",
       "      <th>NADH</th>\n",
       "      <td>0.030705</td>\n",
       "      <td>0.002368</td>\n",
       "      <td>0.922879</td>\n",
       "    </tr>\n",
       "  </tbody>\n",
       "</table>\n",
       "</div>"
      ],
      "text/plain": [
       "          true  estimated        error\n",
       "P     6.769148  -0.481900     1.071191\n",
       "G6P   1.283076  -0.374763     1.292082\n",
       "TRIO  0.814107   0.036631     0.955005\n",
       "NAD   1.559295   0.037061     0.976232\n",
       "ACE   0.136863   0.224228    -0.638331\n",
       "P2G   0.054551   0.271243    -3.972267\n",
       "BPG   0.000510   0.733958 -1437.404301\n",
       "GLCi  0.086895   0.785709    -8.042036\n",
       "F6P   0.156413   0.837461    -4.354155\n",
       "PEP   0.099611   1.300176   -12.052562\n",
       "PYR   9.380353   0.351927     0.962483\n",
       "F16P  0.652591  -0.410963     1.629741\n",
       "P3G   0.424027  -0.002368     1.005585\n",
       "NADH  0.030705   0.002368     0.922879"
      ]
     },
     "execution_count": 27,
     "metadata": {},
     "output_type": "execute_result"
    }
   ],
   "source": [
    "comparison"
   ]
  },
  {
   "cell_type": "code",
   "execution_count": 21,
   "metadata": {},
   "outputs": [
    {
     "data": {
      "text/html": [
       "<div>\n",
       "<style scoped>\n",
       "    .dataframe tbody tr th:only-of-type {\n",
       "        vertical-align: middle;\n",
       "    }\n",
       "\n",
       "    .dataframe tbody tr th {\n",
       "        vertical-align: top;\n",
       "    }\n",
       "\n",
       "    .dataframe thead th {\n",
       "        text-align: right;\n",
       "    }\n",
       "</style>\n",
       "<table border=\"1\" class=\"dataframe\">\n",
       "  <thead>\n",
       "    <tr style=\"text-align: right;\">\n",
       "      <th></th>\n",
       "      <th>0</th>\n",
       "      <th>0</th>\n",
       "    </tr>\n",
       "  </thead>\n",
       "  <tbody>\n",
       "    <tr>\n",
       "      <th>P</th>\n",
       "      <td>6.769148</td>\n",
       "      <td>-0.481900</td>\n",
       "    </tr>\n",
       "    <tr>\n",
       "      <th>G6P</th>\n",
       "      <td>1.283076</td>\n",
       "      <td>-0.374763</td>\n",
       "    </tr>\n",
       "    <tr>\n",
       "      <th>TRIO</th>\n",
       "      <td>0.814107</td>\n",
       "      <td>0.036631</td>\n",
       "    </tr>\n",
       "    <tr>\n",
       "      <th>NAD</th>\n",
       "      <td>1.559295</td>\n",
       "      <td>0.037061</td>\n",
       "    </tr>\n",
       "    <tr>\n",
       "      <th>ACE</th>\n",
       "      <td>0.136863</td>\n",
       "      <td>0.224228</td>\n",
       "    </tr>\n",
       "    <tr>\n",
       "      <th>P2G</th>\n",
       "      <td>0.054551</td>\n",
       "      <td>0.271243</td>\n",
       "    </tr>\n",
       "    <tr>\n",
       "      <th>BPG</th>\n",
       "      <td>0.000510</td>\n",
       "      <td>0.733958</td>\n",
       "    </tr>\n",
       "    <tr>\n",
       "      <th>GLCi</th>\n",
       "      <td>0.086895</td>\n",
       "      <td>0.785709</td>\n",
       "    </tr>\n",
       "    <tr>\n",
       "      <th>F6P</th>\n",
       "      <td>0.156413</td>\n",
       "      <td>0.837461</td>\n",
       "    </tr>\n",
       "    <tr>\n",
       "      <th>PEP</th>\n",
       "      <td>0.099611</td>\n",
       "      <td>1.300176</td>\n",
       "    </tr>\n",
       "    <tr>\n",
       "      <th>PYR</th>\n",
       "      <td>9.380353</td>\n",
       "      <td>0.351927</td>\n",
       "    </tr>\n",
       "    <tr>\n",
       "      <th>F16P</th>\n",
       "      <td>0.652591</td>\n",
       "      <td>-0.410963</td>\n",
       "    </tr>\n",
       "    <tr>\n",
       "      <th>P3G</th>\n",
       "      <td>0.424027</td>\n",
       "      <td>-0.002368</td>\n",
       "    </tr>\n",
       "    <tr>\n",
       "      <th>NADH</th>\n",
       "      <td>0.030705</td>\n",
       "      <td>0.002368</td>\n",
       "    </tr>\n",
       "  </tbody>\n",
       "</table>\n",
       "</div>"
      ],
      "text/plain": [
       "             0         0\n",
       "P     6.769148 -0.481900\n",
       "G6P   1.283076 -0.374763\n",
       "TRIO  0.814107  0.036631\n",
       "NAD   1.559295  0.037061\n",
       "ACE   0.136863  0.224228\n",
       "P2G   0.054551  0.271243\n",
       "BPG   0.000510  0.733958\n",
       "GLCi  0.086895  0.785709\n",
       "F6P   0.156413  0.837461\n",
       "PEP   0.099611  1.300176\n",
       "PYR   9.380353  0.351927\n",
       "F16P  0.652591 -0.410963\n",
       "P3G   0.424027 -0.002368\n",
       "NADH  0.030705  0.002368"
      ]
     },
     "execution_count": 21,
     "metadata": {},
     "output_type": "execute_result"
    }
   ],
   "source": [
    "comparison"
   ]
  }
 ],
 "metadata": {
  "kernelspec": {
   "display_name": "new_Gayles",
   "language": "python",
   "name": "new_gayles"
  },
  "language_info": {
   "codemirror_mode": {
    "name": "ipython",
    "version": 3
   },
   "file_extension": ".py",
   "mimetype": "text/x-python",
   "name": "python",
   "nbconvert_exporter": "python",
   "pygments_lexer": "ipython3",
   "version": "3.9.13"
  },
  "orig_nbformat": 4
 },
 "nbformat": 4,
 "nbformat_minor": 2
}
